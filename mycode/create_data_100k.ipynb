{
 "cells": [
  {
   "metadata": {
    "ExecuteTime": {
     "end_time": "2024-10-14T12:22:57.502081Z",
     "start_time": "2024-10-14T12:22:57.493116Z"
    }
   },
   "cell_type": "code",
   "source": [
    "TOTAL_COUNT = 1000\n",
    "DB_NAME = \"./1k_data_sqlite.db\""
   ],
   "id": "bfc4138d04876903",
   "outputs": [],
   "execution_count": 1
  },
  {
   "cell_type": "code",
   "id": "031ece3e",
   "metadata": {
    "execution": {
     "iopub.execute_input": "2024-08-31T03:14:23.070428Z",
     "iopub.status.busy": "2024-08-31T03:14:23.069428Z",
     "iopub.status.idle": "2024-08-31T03:14:23.083438Z",
     "shell.execute_reply": "2024-08-31T03:14:23.083438Z"
    },
    "ExecuteTime": {
     "end_time": "2024-10-14T12:22:57.675092Z",
     "start_time": "2024-10-14T12:22:57.503135Z"
    }
   },
   "source": [
    "from tqdm import notebook as tqdm\n",
    "import sqlite3\n",
    "import random\n",
    "from faker import Faker\n",
    "# Connect to the SQLite database\n",
    "conn = sqlite3.connect(DB_NAME)\n",
    "\n",
    "# Create a cursor object using the cursor() method\n",
    "cursor = conn.cursor()\n",
    "\n",
    "# Display the list of tables in the database\n",
    "cursor.execute(\"SELECT name FROM sqlite_master WHERE type='table';\")\n",
    "tables = cursor.fetchall()\n",
    "print(\"Tables in the database:\", tables)\n"
   ],
   "outputs": [
    {
     "name": "stdout",
     "output_type": "stream",
     "text": [
      "Tables in the database: [('Student',), ('Professor',), ('Course',), ('Department',), ('Enrollment',), ('Assignment',), ('Submission',), ('Schedule',), ('Major',), ('Textbook',), ('CourseTextbook',), ('Library',), ('Book',), ('BookLoan',), ('ResearchGroup',), ('ResearchProject',), ('ProjectMember',), ('Lab',), ('LabEquipment',), ('EquipmentMaintenance',)]\n"
     ]
    }
   ],
   "execution_count": 2
  },
  {
   "cell_type": "code",
   "id": "7df75ee6",
   "metadata": {
    "execution": {
     "iopub.execute_input": "2024-08-31T03:14:45.204586Z",
     "iopub.status.busy": "2024-08-31T03:14:45.203586Z",
     "iopub.status.idle": "2024-08-31T03:14:45.399181Z",
     "shell.execute_reply": "2024-08-31T03:14:45.399181Z"
    },
    "ExecuteTime": {
     "end_time": "2024-10-14T12:22:58.258655Z",
     "start_time": "2024-10-14T12:22:57.676089Z"
    }
   },
   "source": [
    "\n",
    "\n",
    "fake = Faker()\n",
    "fake_u = Faker().unique\n",
    "\n",
    "\n",
    "# Helper function to generate random date\n",
    "def random_date(start, end):\n",
    "    return start + timedelta(\n",
    "        seconds=random.randint(0, int((end - start).total_seconds())))\n",
    "\n",
    "# Generate data for Department\n",
    "departments = []\n",
    "for i in tqdm.tqdm(range(TOTAL_COUNT), desc=\"Department\"):\n",
    "    department_id = i + 1\n",
    "    name = fake.word().capitalize() + \" Department\"\n",
    "    building = fake.street_name()\n",
    "    departments.append((department_id, name, building))\n",
    "cursor.executemany('INSERT INTO Department (department_id, name, building) VALUES (?, ?, ?);', departments)\n",
    "\n",
    "# Generate data for Professor\n",
    "professors = []\n",
    "for i in tqdm.tqdm(range(TOTAL_COUNT), desc=\"Professor\"):\n",
    "    professor_id = i + 1\n",
    "    name = fake.name()\n",
    "    email = fake_u.email()\n",
    "    department = random.choice(departments)[0]\n",
    "    professors.append((professor_id, name, email, department))\n",
    "cursor.executemany('INSERT INTO Professor (professor_id, name, email, department) VALUES (?, ?, ?, ?);', professors)\n",
    "\n",
    "# Generate data for Course\n",
    "courses = []\n",
    "for i in tqdm.tqdm(range(TOTAL_COUNT), desc=\"Course\"):\n",
    "    course_id = i + 1\n",
    "    title = fake.sentence(nb_words=3)\n",
    "    credits = random.randint(1, 4)\n",
    "    department = random.choice(departments)[0]\n",
    "    courses.append((course_id, title, credits, department))\n",
    "cursor.executemany('INSERT INTO Course (course_id, title, credits, department) VALUES (?, ?, ?, ?);', courses)\n",
    "\n",
    "# Generate data for Student\n",
    "students = []\n",
    "for i in tqdm.tqdm(range(TOTAL_COUNT), desc=\"Student\"):\n",
    "    student_id = i + 1\n",
    "    name = fake.name()\n",
    "    email = fake_u.email()\n",
    "    date_of_birth = fake.date_of_birth(minimum_age=18, maximum_age=30)\n",
    "    major = random.choice(departments)[0]  # Assuming major is linked to department\n",
    "    students.append((student_id, name, email, date_of_birth, major))\n",
    "cursor.executemany('INSERT INTO Student (student_id, name, email, date_of_birth, major) VALUES (?, ?, ?, ?, ?);', students)\n",
    "\n",
    "# Generate data for Enrollment\n",
    "enrollments = []\n",
    "for i in tqdm.tqdm(range(TOTAL_COUNT), desc=\"Enrollment\"):\n",
    "    enrollment_id = i + 1\n",
    "    student_id = random.choice(students)[0]\n",
    "    course_id = random.choice(courses)[0]\n",
    "    semester = random.choice(['Spring', 'Summer', 'Fall', 'Winter']) + ' ' + str(random.randint(2019, 2023))\n",
    "    grade = random.choice(['A', 'B', 'C', 'D', 'F', None])\n",
    "    enrollments.append((enrollment_id, student_id, course_id, semester, grade))\n",
    "cursor.executemany('INSERT INTO Enrollment (enrollment_id, student_id, course_id, semester, grade) VALUES (?, ?, ?, ?, ?);', enrollments)\n",
    "\n",
    "# Commit changes and close the connection\n",
    "conn.commit()\n",
    "\n",
    "print(\"Data generation and insertion complete.\")\n"
   ],
   "outputs": [
    {
     "data": {
      "text/plain": [
       "Department:   0%|          | 0/1000 [00:00<?, ?it/s]"
      ],
      "application/vnd.jupyter.widget-view+json": {
       "version_major": 2,
       "version_minor": 0,
       "model_id": "3242677d5f7d45afadc742639925f21d"
      }
     },
     "metadata": {},
     "output_type": "display_data"
    },
    {
     "data": {
      "text/plain": [
       "Professor:   0%|          | 0/1000 [00:00<?, ?it/s]"
      ],
      "application/vnd.jupyter.widget-view+json": {
       "version_major": 2,
       "version_minor": 0,
       "model_id": "39a6f0ef133d4c7d896c27d21fef1c17"
      }
     },
     "metadata": {},
     "output_type": "display_data"
    },
    {
     "data": {
      "text/plain": [
       "Course:   0%|          | 0/1000 [00:00<?, ?it/s]"
      ],
      "application/vnd.jupyter.widget-view+json": {
       "version_major": 2,
       "version_minor": 0,
       "model_id": "8b9756f7064a4d749440a89046f7500b"
      }
     },
     "metadata": {},
     "output_type": "display_data"
    },
    {
     "data": {
      "text/plain": [
       "Student:   0%|          | 0/1000 [00:00<?, ?it/s]"
      ],
      "application/vnd.jupyter.widget-view+json": {
       "version_major": 2,
       "version_minor": 0,
       "model_id": "19dfb3f970454e3090cb17a64ed46094"
      }
     },
     "metadata": {},
     "output_type": "display_data"
    },
    {
     "data": {
      "text/plain": [
       "Enrollment:   0%|          | 0/1000 [00:00<?, ?it/s]"
      ],
      "application/vnd.jupyter.widget-view+json": {
       "version_major": 2,
       "version_minor": 0,
       "model_id": "66b5a67467054b2e9c259dfc64c6c339"
      }
     },
     "metadata": {},
     "output_type": "display_data"
    },
    {
     "name": "stdout",
     "output_type": "stream",
     "text": [
      "Data generation and insertion complete.\n"
     ]
    }
   ],
   "execution_count": 3
  },
  {
   "cell_type": "code",
   "id": "6c0685ae",
   "metadata": {
    "execution": {
     "iopub.execute_input": "2024-08-31T03:15:23.619353Z",
     "iopub.status.busy": "2024-08-31T03:15:23.618186Z",
     "iopub.status.idle": "2024-08-31T03:15:23.727708Z",
     "shell.execute_reply": "2024-08-31T03:15:23.727708Z"
    },
    "ExecuteTime": {
     "end_time": "2024-10-14T12:22:59.162010Z",
     "start_time": "2024-10-14T12:22:58.260639Z"
    }
   },
   "source": [
    "fake = Faker()\n",
    "\n",
    "\n",
    "# Generate and insert data for remaining tables\n",
    "assignments = []\n",
    "submissions = []\n",
    "schedules = []\n",
    "majors = []\n",
    "textbooks = []\n",
    "course_textbooks = []\n",
    "libraries = []\n",
    "books = []\n",
    "book_loans = []\n",
    "research_groups = []\n",
    "research_projects = []\n",
    "project_members = []\n",
    "labs = []\n",
    "lab_equipments = []\n",
    "equipment_maintenances = []\n",
    "\n",
    "# Fetch necessary foreign keys from already populated tables\n",
    "cursor.execute(\"SELECT student_id FROM Student\")\n",
    "student_ids = cursor.fetchall()\n",
    "cursor.execute(\"SELECT professor_id FROM Professor\")\n",
    "professor_ids = cursor.fetchall()\n",
    "cursor.execute(\"SELECT course_id FROM Course\")\n",
    "course_ids = cursor.fetchall()\n",
    "cursor.execute(\"SELECT department_id FROM Department\")\n",
    "department_ids = cursor.fetchall()\n",
    "\n",
    "# Generate data for each table\n",
    "for i in tqdm.tqdm(range(TOTAL_COUNT)):\n",
    "    assignment_id = i + 1\n",
    "    course_id = random.choice(course_ids)[0]\n",
    "    title = fake.sentence(nb_words=4)\n",
    "    due_date = fake.date_between(start_date='today', end_date='+1y')\n",
    "    assignments.append((assignment_id, course_id, title, due_date))\n",
    "\n",
    "    schedule_id = i + 1\n",
    "    professor_id = random.choice(professor_ids)[0]\n",
    "    room = fake.building_number()\n",
    "    time_slot = fake.time()\n",
    "    schedules.append((schedule_id, course_id, professor_id, room, time_slot))\n",
    "\n",
    "    major_id = i + 1\n",
    "    name = fake.word().capitalize() + \" Major\"\n",
    "    department_id = random.choice(department_ids)[0]\n",
    "    majors.append((major_id, name, department_id))\n",
    "\n",
    "    textbook_id = i + 1\n",
    "    title = fake.sentence(nb_words=3)\n",
    "    author = fake.name()\n",
    "    isbn = fake_u.isbn13()\n",
    "    textbooks.append((textbook_id, title, author, isbn))\n",
    "    course_textbooks.append((course_id, textbook_id))\n",
    "\n",
    "    library_id = i + 1\n",
    "    name = fake.company() + \" Library\"\n",
    "    location = fake.address()\n",
    "    libraries.append((library_id, name, location))\n",
    "\n",
    "    book_id = i + 1\n",
    "    title = fake.sentence(nb_words=3)\n",
    "    author = fake.name()\n",
    "    isbn = fake_u.isbn13()\n",
    "    books.append((book_id, title, author, isbn, library_id))\n",
    "\n",
    "    loan_id = i + 1\n",
    "    book_id = book_id\n",
    "    student_id = random.choice(student_ids)[0]\n",
    "    loan_date = fake.date_between(start_date='-1y', end_date='today')\n",
    "    return_date = fake.date_between(start_date='today', end_date='+1y')\n",
    "    book_loans.append((loan_id, book_id, student_id, loan_date, return_date))\n",
    "\n",
    "    group_id = i + 1\n",
    "    name = fake.word().capitalize() + \" Research\"\n",
    "    focus_area = fake.sentence(nb_words=3)\n",
    "    research_groups.append((group_id, name, focus_area))\n",
    "\n",
    "    project_id = i + 1\n",
    "    title = fake.sentence(nb_words=3)\n",
    "    group_id = group_id\n",
    "    start_date = fake.date_between(start_date='-1y', end_date='today')\n",
    "    end_date = fake.date_between(start_date='today', end_date='+1y')\n",
    "    research_projects.append((project_id, title, group_id, start_date, end_date))\n",
    "    project_members.append((project_id, professor_id))\n",
    "\n",
    "    lab_id = i + 1\n",
    "    name = fake.company() + \" Lab\"\n",
    "    building = fake.building_number()\n",
    "    labs.append((lab_id, name, building))\n",
    "\n",
    "    equipment_id = i + 1\n",
    "    name = fake.word().capitalize() + \" Equipment\"\n",
    "    lab_id = lab_id\n",
    "    lab_equipments.append((equipment_id, name, lab_id))\n",
    "\n",
    "    maintenance_id = i + 1\n",
    "    equipment_id = equipment_id\n",
    "    date = fake.date_between(start_date='-1y', end_date='today')\n",
    "    details = fake.sentence(nb_words=6)\n",
    "    equipment_maintenances.append((maintenance_id, equipment_id, date, details))\n",
    "\n",
    "# Insert data into tables\n",
    "cursor.executemany('INSERT INTO Assignment (assignment_id, course_id, title, due_date) VALUES (?, ?, ?, ?);', assignments)\n",
    "cursor.executemany('INSERT INTO Schedule (schedule_id, course_id, professor_id, room, time_slot) VALUES (?, ?, ?, ?, ?);', schedules)\n",
    "cursor.executemany('INSERT INTO Major (major_id, name, department_id) VALUES (?, ?, ?);', majors)\n",
    "cursor.executemany('INSERT INTO Textbook (textbook_id, title, author, isbn) VALUES (?, ?, ?, ?);', textbooks)\n",
    "cursor.executemany('INSERT INTO CourseTextbook (course_id, textbook_id) VALUES (?, ?);', course_textbooks)\n",
    "cursor.executemany('INSERT INTO Library (library_id, name, location) VALUES (?, ?, ?);', libraries)\n",
    "cursor.executemany('INSERT INTO Book (book_id, title, author, isbn, library_id) VALUES (?, ?, ?, ?, ?);', books)\n",
    "cursor.executemany('INSERT INTO BookLoan (loan_id, book_id, student_id, loan_date, return_date) VALUES (?, ?, ?, ?, ?);', book_loans)\n",
    "cursor.executemany('INSERT INTO ResearchGroup (group_id, name, focus_area) VALUES (?, ?, ?);', research_groups)\n",
    "cursor.executemany('INSERT INTO ResearchProject (project_id, title, group_id, start_date, end_date) VALUES (?, ?, ?, ?, ?);', research_projects)\n",
    "cursor.executemany('INSERT INTO ProjectMember (project_id, professor_id) VALUES (?, ?);', project_members)\n",
    "cursor.executemany('INSERT INTO Lab (lab_id, name, building) VALUES (?, ?, ?);', labs)\n",
    "cursor.executemany('INSERT INTO LabEquipment (equipment_id, name, lab_id) VALUES (?, ?, ?);', lab_equipments)\n",
    "cursor.executemany('INSERT INTO EquipmentMaintenance (maintenance_id, equipment_id, date, details) VALUES (?, ?, ?, ?);', equipment_maintenances)\n",
    "conn.commit()\n"
   ],
   "outputs": [
    {
     "data": {
      "text/plain": [
       "  0%|          | 0/1000 [00:00<?, ?it/s]"
      ],
      "application/vnd.jupyter.widget-view+json": {
       "version_major": 2,
       "version_minor": 0,
       "model_id": "29a910e5b4af4357baa58bd6fd4bcd90"
      }
     },
     "metadata": {},
     "output_type": "display_data"
    }
   ],
   "execution_count": 4
  },
  {
   "metadata": {},
   "cell_type": "markdown",
   "source": "代码漏的 submissions",
   "id": "ff1a06b73fc4e1e8"
  },
  {
   "metadata": {
    "ExecuteTime": {
     "end_time": "2024-10-14T12:22:59.177953Z",
     "start_time": "2024-10-14T12:22:59.163007Z"
    }
   },
   "cell_type": "code",
   "source": [
    "# Fetching foreign key data from Assignment and Student tables\n",
    "cursor.execute(\"SELECT assignment_id FROM Assignment\")\n",
    "assignments = cursor.fetchall()\n",
    "\n",
    "cursor.execute(\"SELECT student_id FROM Student\")\n",
    "students = cursor.fetchall()\n",
    "\n",
    "# Convert fetched data into more usable formats (lists of ids)\n",
    "assignment_ids = [assignment[0] for assignment in assignments]\n",
    "student_ids = [student[0] for student in students]\n",
    "\n",
    "# Display the fetched data to verify\n",
    "print(\"Assignment IDs:\", assignment_ids)\n",
    "print(\"Student IDs:\", student_ids)\n"
   ],
   "id": "bf3e822742b88fb9",
   "outputs": [
    {
     "name": "stdout",
     "output_type": "stream",
     "text": [
      "Assignment IDs: [1, 2, 3, 4, 5, 6, 7, 8, 9, 10, 11, 12, 13, 14, 15, 16, 17, 18, 19, 20, 21, 22, 23, 24, 25, 26, 27, 28, 29, 30, 31, 32, 33, 34, 35, 36, 37, 38, 39, 40, 41, 42, 43, 44, 45, 46, 47, 48, 49, 50, 51, 52, 53, 54, 55, 56, 57, 58, 59, 60, 61, 62, 63, 64, 65, 66, 67, 68, 69, 70, 71, 72, 73, 74, 75, 76, 77, 78, 79, 80, 81, 82, 83, 84, 85, 86, 87, 88, 89, 90, 91, 92, 93, 94, 95, 96, 97, 98, 99, 100, 101, 102, 103, 104, 105, 106, 107, 108, 109, 110, 111, 112, 113, 114, 115, 116, 117, 118, 119, 120, 121, 122, 123, 124, 125, 126, 127, 128, 129, 130, 131, 132, 133, 134, 135, 136, 137, 138, 139, 140, 141, 142, 143, 144, 145, 146, 147, 148, 149, 150, 151, 152, 153, 154, 155, 156, 157, 158, 159, 160, 161, 162, 163, 164, 165, 166, 167, 168, 169, 170, 171, 172, 173, 174, 175, 176, 177, 178, 179, 180, 181, 182, 183, 184, 185, 186, 187, 188, 189, 190, 191, 192, 193, 194, 195, 196, 197, 198, 199, 200, 201, 202, 203, 204, 205, 206, 207, 208, 209, 210, 211, 212, 213, 214, 215, 216, 217, 218, 219, 220, 221, 222, 223, 224, 225, 226, 227, 228, 229, 230, 231, 232, 233, 234, 235, 236, 237, 238, 239, 240, 241, 242, 243, 244, 245, 246, 247, 248, 249, 250, 251, 252, 253, 254, 255, 256, 257, 258, 259, 260, 261, 262, 263, 264, 265, 266, 267, 268, 269, 270, 271, 272, 273, 274, 275, 276, 277, 278, 279, 280, 281, 282, 283, 284, 285, 286, 287, 288, 289, 290, 291, 292, 293, 294, 295, 296, 297, 298, 299, 300, 301, 302, 303, 304, 305, 306, 307, 308, 309, 310, 311, 312, 313, 314, 315, 316, 317, 318, 319, 320, 321, 322, 323, 324, 325, 326, 327, 328, 329, 330, 331, 332, 333, 334, 335, 336, 337, 338, 339, 340, 341, 342, 343, 344, 345, 346, 347, 348, 349, 350, 351, 352, 353, 354, 355, 356, 357, 358, 359, 360, 361, 362, 363, 364, 365, 366, 367, 368, 369, 370, 371, 372, 373, 374, 375, 376, 377, 378, 379, 380, 381, 382, 383, 384, 385, 386, 387, 388, 389, 390, 391, 392, 393, 394, 395, 396, 397, 398, 399, 400, 401, 402, 403, 404, 405, 406, 407, 408, 409, 410, 411, 412, 413, 414, 415, 416, 417, 418, 419, 420, 421, 422, 423, 424, 425, 426, 427, 428, 429, 430, 431, 432, 433, 434, 435, 436, 437, 438, 439, 440, 441, 442, 443, 444, 445, 446, 447, 448, 449, 450, 451, 452, 453, 454, 455, 456, 457, 458, 459, 460, 461, 462, 463, 464, 465, 466, 467, 468, 469, 470, 471, 472, 473, 474, 475, 476, 477, 478, 479, 480, 481, 482, 483, 484, 485, 486, 487, 488, 489, 490, 491, 492, 493, 494, 495, 496, 497, 498, 499, 500, 501, 502, 503, 504, 505, 506, 507, 508, 509, 510, 511, 512, 513, 514, 515, 516, 517, 518, 519, 520, 521, 522, 523, 524, 525, 526, 527, 528, 529, 530, 531, 532, 533, 534, 535, 536, 537, 538, 539, 540, 541, 542, 543, 544, 545, 546, 547, 548, 549, 550, 551, 552, 553, 554, 555, 556, 557, 558, 559, 560, 561, 562, 563, 564, 565, 566, 567, 568, 569, 570, 571, 572, 573, 574, 575, 576, 577, 578, 579, 580, 581, 582, 583, 584, 585, 586, 587, 588, 589, 590, 591, 592, 593, 594, 595, 596, 597, 598, 599, 600, 601, 602, 603, 604, 605, 606, 607, 608, 609, 610, 611, 612, 613, 614, 615, 616, 617, 618, 619, 620, 621, 622, 623, 624, 625, 626, 627, 628, 629, 630, 631, 632, 633, 634, 635, 636, 637, 638, 639, 640, 641, 642, 643, 644, 645, 646, 647, 648, 649, 650, 651, 652, 653, 654, 655, 656, 657, 658, 659, 660, 661, 662, 663, 664, 665, 666, 667, 668, 669, 670, 671, 672, 673, 674, 675, 676, 677, 678, 679, 680, 681, 682, 683, 684, 685, 686, 687, 688, 689, 690, 691, 692, 693, 694, 695, 696, 697, 698, 699, 700, 701, 702, 703, 704, 705, 706, 707, 708, 709, 710, 711, 712, 713, 714, 715, 716, 717, 718, 719, 720, 721, 722, 723, 724, 725, 726, 727, 728, 729, 730, 731, 732, 733, 734, 735, 736, 737, 738, 739, 740, 741, 742, 743, 744, 745, 746, 747, 748, 749, 750, 751, 752, 753, 754, 755, 756, 757, 758, 759, 760, 761, 762, 763, 764, 765, 766, 767, 768, 769, 770, 771, 772, 773, 774, 775, 776, 777, 778, 779, 780, 781, 782, 783, 784, 785, 786, 787, 788, 789, 790, 791, 792, 793, 794, 795, 796, 797, 798, 799, 800, 801, 802, 803, 804, 805, 806, 807, 808, 809, 810, 811, 812, 813, 814, 815, 816, 817, 818, 819, 820, 821, 822, 823, 824, 825, 826, 827, 828, 829, 830, 831, 832, 833, 834, 835, 836, 837, 838, 839, 840, 841, 842, 843, 844, 845, 846, 847, 848, 849, 850, 851, 852, 853, 854, 855, 856, 857, 858, 859, 860, 861, 862, 863, 864, 865, 866, 867, 868, 869, 870, 871, 872, 873, 874, 875, 876, 877, 878, 879, 880, 881, 882, 883, 884, 885, 886, 887, 888, 889, 890, 891, 892, 893, 894, 895, 896, 897, 898, 899, 900, 901, 902, 903, 904, 905, 906, 907, 908, 909, 910, 911, 912, 913, 914, 915, 916, 917, 918, 919, 920, 921, 922, 923, 924, 925, 926, 927, 928, 929, 930, 931, 932, 933, 934, 935, 936, 937, 938, 939, 940, 941, 942, 943, 944, 945, 946, 947, 948, 949, 950, 951, 952, 953, 954, 955, 956, 957, 958, 959, 960, 961, 962, 963, 964, 965, 966, 967, 968, 969, 970, 971, 972, 973, 974, 975, 976, 977, 978, 979, 980, 981, 982, 983, 984, 985, 986, 987, 988, 989, 990, 991, 992, 993, 994, 995, 996, 997, 998, 999, 1000]\n",
      "Student IDs: [71, 766, 124, 263, 80, 611, 149, 878, 701, 408, 45, 636, 387, 609, 546, 389, 918, 293, 625, 471, 660, 234, 932, 661, 853, 906, 473, 634, 712, 514, 664, 511, 158, 536, 478, 313, 801, 134, 748, 542, 639, 507, 412, 324, 202, 506, 750, 233, 590, 90, 360, 653, 12, 119, 16, 804, 200, 799, 678, 2, 220, 700, 109, 843, 926, 477, 934, 687, 833, 828, 314, 296, 222, 49, 361, 500, 193, 844, 73, 105, 805, 350, 848, 188, 910, 440, 644, 641, 20, 871, 812, 375, 297, 69, 747, 418, 118, 646, 242, 705, 552, 980, 422, 778, 510, 28, 526, 783, 689, 574, 585, 898, 215, 643, 640, 966, 493, 713, 751, 672, 239, 905, 979, 782, 354, 548, 655, 400, 268, 730, 727, 517, 902, 56, 392, 31, 591, 717, 436, 309, 596, 178, 502, 891, 299, 349, 901, 257, 259, 410, 557, 147, 743, 608, 822, 547, 685, 384, 103, 543, 699, 442, 217, 76, 630, 464, 460, 380, 1000, 353, 564, 735, 404, 325, 284, 807, 294, 977, 781, 198, 474, 395, 310, 52, 858, 139, 559, 612, 209, 755, 177, 704, 714, 187, 117, 915, 341, 466, 106, 827, 315, 811, 60, 398, 999, 558, 620, 965, 855, 707, 983, 647, 518, 79, 658, 990, 383, 458, 141, 216, 935, 726, 908, 736, 459, 845, 605, 943, 34, 583, 679, 987, 976, 166, 42, 17, 565, 64, 162, 595, 46, 839, 602, 26, 352, 501, 684, 568, 402, 692, 266, 285, 550, 593, 652, 305, 527, 877, 849, 358, 529, 274, 461, 719, 899, 226, 378, 110, 446, 765, 351, 271, 930, 951, 241, 820, 421, 390, 30, 206, 696, 405, 759, 566, 968, 702, 645, 425, 452, 924, 738, 366, 338, 509, 332, 617, 893, 254, 567, 481, 626, 15, 931, 137, 207, 281, 329, 769, 326, 531, 520, 208, 616, 142, 381, 925, 77, 854, 283, 889, 93, 362, 37, 94, 83, 847, 48, 288, 295, 86, 75, 40, 189, 513, 669, 240, 927, 584, 236, 940, 959, 651, 8, 956, 541, 884, 671, 419, 575, 767, 545, 480, 19, 921, 169, 437, 607, 955, 515, 258, 724, 333, 36, 435, 424, 133, 415, 572, 150, 197, 345, 802, 66, 633, 331, 168, 919, 469, 59, 275, 291, 897, 876, 984, 988, 659, 50, 998, 227, 581, 10, 904, 322, 122, 662, 834, 247, 491, 737, 519, 373, 681, 172, 401, 525, 88, 668, 393, 996, 621, 553, 53, 556, 992, 561, 740, 791, 798, 961, 764, 194, 125, 739, 84, 195, 82, 986, 691, 182, 720, 191, 830, 562, 327, 603, 306, 289, 762, 534, 476, 649, 709, 946, 837, 936, 214, 790, 280, 554, 586, 235, 382, 230, 863, 396, 146, 276, 716, 41, 430, 622, 14, 867, 614, 498, 9, 340, 497, 96, 796, 132, 145, 960, 974, 879, 348, 742, 219, 205, 592, 44, 99, 629, 267, 989, 582, 54, 993, 665, 62, 334, 489, 723, 126, 444, 635, 180, 809, 688, 928, 753, 3, 248, 428, 176, 135, 388, 528, 175, 486, 441, 243, 183, 4, 869, 403, 65, 111, 167, 882, 255, 551, 156, 447, 357, 367, 413, 800, 734, 33, 587, 967, 710, 680, 792, 569, 307, 302, 356, 321, 301, 842, 850, 522, 386, 861, 379, 218, 508, 55, 58, 453, 98, 563, 370, 25, 484, 944, 456, 213, 963, 803, 819, 416, 836, 787, 342, 631, 411, 487, 116, 544, 130, 455, 857, 336, 488, 826, 880, 922, 903, 752, 38, 786, 887, 588, 728, 613, 797, 7, 540, 91, 6, 24, 744, 420, 512, 495, 939, 718, 108, 312, 252, 746, 896, 907, 923, 448, 892, 875, 883, 741, 831, 115, 971, 346, 597, 221, 85, 371, 159, 841, 372, 256, 261, 789, 825, 768, 708, 450, 969, 794, 249, 642, 846, 573, 885, 265, 697, 524, 618, 462, 814, 601, 851, 945, 991, 663, 706, 771, 409, 494, 138, 369, 330, 92, 690, 703, 391, 628, 27, 648, 196, 632, 806, 916, 212, 318, 151, 725, 973, 298, 619, 763, 532, 516, 606, 947, 754, 399, 319, 347, 615, 237, 165, 190, 866, 429, 18, 733, 153, 694, 888, 273, 432, 868, 131, 292, 623, 785, 683, 729, 523, 657, 454, 323, 784, 795, 485, 123, 304, 933, 624, 100, 152, 533, 948, 204, 199, 772, 490, 224, 555, 11, 627, 698, 499, 788, 250, 278, 225, 244, 394, 598, 920, 840, 599, 277, 344, 286, 343, 74, 5, 673, 472, 35, 589, 852, 917, 913, 760, 667, 757, 335, 29, 774, 144, 228, 650, 136, 776, 770, 874, 320, 711, 761, 32, 61, 981, 433, 824, 985, 808, 881, 577, 107, 995, 1, 970, 365, 22, 184, 163, 170, 231, 439, 154, 860, 823, 721, 363, 161, 978, 451, 140, 470, 656, 143, 270, 957, 211, 223, 397, 492, 21, 468, 89, 160, 890, 521, 864, 81, 155, 594, 426, 186, 912, 676, 457, 282, 832, 463, 232, 693, 377, 982, 67, 758, 821, 972, 862, 121, 779, 695, 78, 570, 958, 942, 503, 70, 675, 580, 964, 818, 950, 682, 203, 780, 475, 997, 504, 68, 949, 438, 537, 423, 873, 465, 39, 120, 535, 654, 975, 264, 102, 253, 128, 185, 674, 856, 638, 954, 813, 900, 51, 164, 385, 496, 308, 328, 793, 560, 914, 262, 579, 686, 269, 317, 57, 895, 677, 174, 886, 192, 414, 417, 604, 835, 483, 549, 872, 245, 95, 251, 445, 505, 815, 775, 229, 47, 337, 571, 479, 272, 666, 376, 114, 210, 279, 539, 938, 238, 260, 112, 859, 431, 941, 368, 962, 937, 406, 715, 364, 449, 929, 894, 246, 829, 538, 129, 181, 287, 23, 407, 870, 179, 427, 467, 731, 72, 994, 600, 482, 374, 355, 576, 773, 722, 952, 637, 817, 87, 104, 610, 290, 311, 434, 303, 97, 300, 732, 865, 953, 173, 148, 530, 745, 810, 113, 838, 777, 911, 157, 359, 43, 578, 756, 670, 316, 909, 127, 749, 816, 13, 443, 171, 339, 201, 101, 63]\n"
     ]
    }
   ],
   "execution_count": 5
  },
  {
   "metadata": {
    "ExecuteTime": {
     "end_time": "2024-10-14T12:22:59.209847Z",
     "start_time": "2024-10-14T12:22:59.179946Z"
    }
   },
   "cell_type": "code",
   "source": [
    "import random\n",
    "from datetime import datetime, timedelta\n",
    "\n",
    "# Function to generate random dates\n",
    "def random_date(start, end):\n",
    "    return start + timedelta(\n",
    "        seconds=random.randint(0, int((end - start).total_seconds())))\n",
    "\n",
    "# Define the date range for the submissions\n",
    "start_date = datetime.strptime('2022-01-01', '%Y-%m-%d')\n",
    "end_date = datetime.strptime('2022-12-31', '%Y-%m-%d')\n",
    "\n",
    "# Generate random data for the Submission table\n",
    "submission_data = []\n",
    "for _ in tqdm.tqdm(range(random.randint(TOTAL_COUNT, TOTAL_COUNT*1.2))):\n",
    "    submission_id = len(submission_data) + 1\n",
    "    assignment_id = random.choice(assignment_ids)\n",
    "    student_id = random.choice(student_ids)\n",
    "    submission_date = random_date(start_date, end_date)\n",
    "    grade = random.choice(['A', 'B', 'C', 'D', 'F', 'I'])  # Including 'I' for Incomplete\n",
    "\n",
    "    submission_data.append((submission_id, assignment_id, student_id, submission_date, grade))\n",
    "\n",
    "# Insert data into the Submission table\n",
    "insert_query = \"INSERT INTO Submission (submission_id, assignment_id, student_id, submission_date, grade) VALUES (?, ?, ?, ?, ?)\"\n",
    "cursor.executemany(insert_query, submission_data)\n",
    "conn.commit()\n",
    "\n",
    "print(f\"{len(submission_data)} records inserted into Submission table.\")\n"
   ],
   "id": "aaffa9b2a14e424d",
   "outputs": [
    {
     "data": {
      "text/plain": [
       "  0%|          | 0/1117 [00:00<?, ?it/s]"
      ],
      "application/vnd.jupyter.widget-view+json": {
       "version_major": 2,
       "version_minor": 0,
       "model_id": "e0b8ed0ea02d4b6caef4e1abef908893"
      }
     },
     "metadata": {},
     "output_type": "display_data"
    },
    {
     "name": "stdout",
     "output_type": "stream",
     "text": [
      "1117 records inserted into Submission table.\n"
     ]
    }
   ],
   "execution_count": 6
  },
  {
   "metadata": {
    "ExecuteTime": {
     "end_time": "2024-10-14T12:22:59.225797Z",
     "start_time": "2024-10-14T12:22:59.210844Z"
    }
   },
   "cell_type": "code",
   "source": [
    "conn.close()\n",
    "\n",
    "print(\"Data generation and insertion for all tables complete.\")"
   ],
   "id": "d8121682fcdf51f6",
   "outputs": [
    {
     "name": "stdout",
     "output_type": "stream",
     "text": [
      "Data generation and insertion for all tables complete.\n"
     ]
    }
   ],
   "execution_count": 7
  },
  {
   "metadata": {
    "ExecuteTime": {
     "end_time": "2024-10-14T12:22:59.241744Z",
     "start_time": "2024-10-14T12:22:59.228784Z"
    }
   },
   "cell_type": "code",
   "source": [
    "# cursor.execute(\"DELETE FROM Submission WHERE submission_id != -1\")\n",
    "# conn.commit()"
   ],
   "id": "ab33f1504905180d",
   "outputs": [],
   "execution_count": 8
  },
  {
   "metadata": {
    "ExecuteTime": {
     "end_time": "2024-10-14T12:22:59.257691Z",
     "start_time": "2024-10-14T12:22:59.242737Z"
    }
   },
   "cell_type": "code",
   "source": "",
   "id": "ebc88b612a176f36",
   "outputs": [],
   "execution_count": 8
  }
 ],
 "metadata": {
  "kernelspec": {
   "name": "python3",
   "language": "python",
   "display_name": "Python 3 (ipykernel)"
  }
 },
 "nbformat": 4,
 "nbformat_minor": 5
}
