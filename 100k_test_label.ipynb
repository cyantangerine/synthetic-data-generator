{
 "cells": [
  {
   "metadata": {
    "ExecuteTime": {
     "end_time": "2024-10-14T12:24:09.106288Z",
     "start_time": "2024-10-14T12:24:09.089304Z"
    }
   },
   "cell_type": "code",
   "source": "from mycode.common import *",
   "outputs": [],
   "execution_count": 25
  },
  {
   "metadata": {},
   "cell_type": "markdown",
   "source": "构造数据"
  },
  {
   "cell_type": "code",
   "metadata": {
    "ExecuteTime": {
     "end_time": "2024-10-14T12:24:09.234092Z",
     "start_time": "2024-10-14T12:24:09.107268Z"
    }
   },
   "source": [
    "metadata, tables = fetch_data_from_sqlite(path='./mycode/1k_data_sqlite.db')\n",
    "metadata = sdvMetadata(metadata)\n",
    "metadata.get_tables()\n",
    "result_table = tables[\"BookLoan\"]\n",
    "x_table = [\"Book\", \"Library\", \"Student\", \"Enrollment\", \"Submission\"]\n",
    "x_key = ['book_id', \"library_id\", \"student_id\", \"student_id\",\"student_id\"]\n",
    "x_how = ['inner' for i in range(5)]\n",
    "print(f\"{len(result_table)=}\")\n",
    "for i, x_table_name in enumerate(x_table):\n",
    "    result_table = pd.merge(result_table, tables[x_table_name], on=x_key[i], how=x_how[i])\n",
    "    print(f\"{len(result_table)}\", end=\" \")\n",
    "print(len(result_table.columns))\n",
    "#result_table"
   ],
   "outputs": [
    {
     "name": "stdout",
     "output_type": "stream",
     "text": [
      "len(result_table)=1000\n",
      "1000 1000 1000 1014 1193 23\n"
     ]
    }
   ],
   "execution_count": 26
  },
  {
   "metadata": {
    "ExecuteTime": {
     "end_time": "2024-10-14T12:24:09.264206Z",
     "start_time": "2024-10-14T12:24:09.236318Z"
    }
   },
   "cell_type": "code",
   "source": [
    "# result_table = result_table.sample(n=1000)\n",
    "result_table"
   ],
   "outputs": [
    {
     "data": {
      "text/plain": [
       "      loan_id  book_id  student_id   loan_date return_date  \\\n",
       "0           4        4         260  2023-10-26  2025-09-03   \n",
       "1           6        6         944  2023-12-16  2025-03-22   \n",
       "2           7        7         931  2023-10-17  2025-04-29   \n",
       "3           7        7         931  2023-10-17  2025-04-29   \n",
       "4           7        7         931  2023-10-17  2025-04-29   \n",
       "...       ...      ...         ...         ...         ...   \n",
       "1188      998      998         211  2023-11-09  2025-06-30   \n",
       "1189      999      999         126  2024-04-16  2024-11-24   \n",
       "1190      999      999         126  2024-04-16  2024-11-24   \n",
       "1191      999      999         126  2024-04-16  2024-11-24   \n",
       "1192      999      999         126  2024-04-16  2024-11-24   \n",
       "\n",
       "                           title            author               isbn  \\\n",
       "0                     Late rich.   Dr. Terri David  978-1-168-13965-8   \n",
       "1     Attack fish international.  Zachary Lawrence  978-1-02-166559-1   \n",
       "2                  Class person.     Jason Holland  978-1-59433-218-0   \n",
       "3                  Class person.     Jason Holland  978-1-59433-218-0   \n",
       "4                  Class person.     Jason Holland  978-1-59433-218-0   \n",
       "...                          ...               ...                ...   \n",
       "1188             Gun land drive.      Sherry Hurst  978-1-4658-0306-1   \n",
       "1189            Common election.      Caleb Steele  978-1-06-971080-2   \n",
       "1190            Common election.      Caleb Steele  978-1-06-971080-2   \n",
       "1191            Common election.      Caleb Steele  978-1-06-971080-2   \n",
       "1192            Common election.      Caleb Steele  978-1-06-971080-2   \n",
       "\n",
       "      library_id                           name_x  ... date_of_birth major  \\\n",
       "0              4  Williams, Moore and Kim Library  ...    1994-07-14   734   \n",
       "1              6          Ramirez-Randall Library  ...    2003-01-18   935   \n",
       "2              7                 Lang LLC Library  ...    1994-10-06   140   \n",
       "3              7                 Lang LLC Library  ...    1994-10-06   140   \n",
       "4              7                 Lang LLC Library  ...    1994-10-06   140   \n",
       "...          ...                              ...  ...           ...   ...   \n",
       "1188         998              Johnson Ltd Library  ...    2006-01-23   812   \n",
       "1189         999  Mclean, Riley and Olson Library  ...    1999-10-20   775   \n",
       "1190         999  Mclean, Riley and Olson Library  ...    1999-10-20   775   \n",
       "1191         999  Mclean, Riley and Olson Library  ...    1999-10-20   775   \n",
       "1192         999  Mclean, Riley and Olson Library  ...    1999-10-20   775   \n",
       "\n",
       "     enrollment_id course_id     semester  grade_x  submission_id  \\\n",
       "0              309       967  Spring 2020        D             19   \n",
       "1              500       425  Spring 2021        A             99   \n",
       "2              789       657  Spring 2019        A             79   \n",
       "3              789       657  Spring 2019        A            856   \n",
       "4              789       657  Spring 2019        A            972   \n",
       "...            ...       ...          ...      ...            ...   \n",
       "1188           372       334  Summer 2022        C            799   \n",
       "1189           298       942  Summer 2019     None            106   \n",
       "1190           298       942  Summer 2019     None            315   \n",
       "1191           822       419  Winter 2020        B            106   \n",
       "1192           822       419  Winter 2020        B            315   \n",
       "\n",
       "     assignment_id      submission_date  grade_y  \n",
       "0              798  2022-04-01 16:19:43        C  \n",
       "1              485  2022-01-31 04:46:38        B  \n",
       "2              876  2022-02-09 23:36:49        I  \n",
       "3              213  2022-08-04 10:27:59        F  \n",
       "4              668  2022-12-28 21:53:58        D  \n",
       "...            ...                  ...      ...  \n",
       "1188           229  2022-04-06 19:02:31        I  \n",
       "1189           497  2022-11-21 04:00:27        B  \n",
       "1190           166  2022-04-05 07:47:40        I  \n",
       "1191           497  2022-11-21 04:00:27        B  \n",
       "1192           166  2022-04-05 07:47:40        I  \n",
       "\n",
       "[1193 rows x 23 columns]"
      ],
      "text/html": [
       "<div>\n",
       "<style scoped>\n",
       "    .dataframe tbody tr th:only-of-type {\n",
       "        vertical-align: middle;\n",
       "    }\n",
       "\n",
       "    .dataframe tbody tr th {\n",
       "        vertical-align: top;\n",
       "    }\n",
       "\n",
       "    .dataframe thead th {\n",
       "        text-align: right;\n",
       "    }\n",
       "</style>\n",
       "<table border=\"1\" class=\"dataframe\">\n",
       "  <thead>\n",
       "    <tr style=\"text-align: right;\">\n",
       "      <th></th>\n",
       "      <th>loan_id</th>\n",
       "      <th>book_id</th>\n",
       "      <th>student_id</th>\n",
       "      <th>loan_date</th>\n",
       "      <th>return_date</th>\n",
       "      <th>title</th>\n",
       "      <th>author</th>\n",
       "      <th>isbn</th>\n",
       "      <th>library_id</th>\n",
       "      <th>name_x</th>\n",
       "      <th>...</th>\n",
       "      <th>date_of_birth</th>\n",
       "      <th>major</th>\n",
       "      <th>enrollment_id</th>\n",
       "      <th>course_id</th>\n",
       "      <th>semester</th>\n",
       "      <th>grade_x</th>\n",
       "      <th>submission_id</th>\n",
       "      <th>assignment_id</th>\n",
       "      <th>submission_date</th>\n",
       "      <th>grade_y</th>\n",
       "    </tr>\n",
       "  </thead>\n",
       "  <tbody>\n",
       "    <tr>\n",
       "      <th>0</th>\n",
       "      <td>4</td>\n",
       "      <td>4</td>\n",
       "      <td>260</td>\n",
       "      <td>2023-10-26</td>\n",
       "      <td>2025-09-03</td>\n",
       "      <td>Late rich.</td>\n",
       "      <td>Dr. Terri David</td>\n",
       "      <td>978-1-168-13965-8</td>\n",
       "      <td>4</td>\n",
       "      <td>Williams, Moore and Kim Library</td>\n",
       "      <td>...</td>\n",
       "      <td>1994-07-14</td>\n",
       "      <td>734</td>\n",
       "      <td>309</td>\n",
       "      <td>967</td>\n",
       "      <td>Spring 2020</td>\n",
       "      <td>D</td>\n",
       "      <td>19</td>\n",
       "      <td>798</td>\n",
       "      <td>2022-04-01 16:19:43</td>\n",
       "      <td>C</td>\n",
       "    </tr>\n",
       "    <tr>\n",
       "      <th>1</th>\n",
       "      <td>6</td>\n",
       "      <td>6</td>\n",
       "      <td>944</td>\n",
       "      <td>2023-12-16</td>\n",
       "      <td>2025-03-22</td>\n",
       "      <td>Attack fish international.</td>\n",
       "      <td>Zachary Lawrence</td>\n",
       "      <td>978-1-02-166559-1</td>\n",
       "      <td>6</td>\n",
       "      <td>Ramirez-Randall Library</td>\n",
       "      <td>...</td>\n",
       "      <td>2003-01-18</td>\n",
       "      <td>935</td>\n",
       "      <td>500</td>\n",
       "      <td>425</td>\n",
       "      <td>Spring 2021</td>\n",
       "      <td>A</td>\n",
       "      <td>99</td>\n",
       "      <td>485</td>\n",
       "      <td>2022-01-31 04:46:38</td>\n",
       "      <td>B</td>\n",
       "    </tr>\n",
       "    <tr>\n",
       "      <th>2</th>\n",
       "      <td>7</td>\n",
       "      <td>7</td>\n",
       "      <td>931</td>\n",
       "      <td>2023-10-17</td>\n",
       "      <td>2025-04-29</td>\n",
       "      <td>Class person.</td>\n",
       "      <td>Jason Holland</td>\n",
       "      <td>978-1-59433-218-0</td>\n",
       "      <td>7</td>\n",
       "      <td>Lang LLC Library</td>\n",
       "      <td>...</td>\n",
       "      <td>1994-10-06</td>\n",
       "      <td>140</td>\n",
       "      <td>789</td>\n",
       "      <td>657</td>\n",
       "      <td>Spring 2019</td>\n",
       "      <td>A</td>\n",
       "      <td>79</td>\n",
       "      <td>876</td>\n",
       "      <td>2022-02-09 23:36:49</td>\n",
       "      <td>I</td>\n",
       "    </tr>\n",
       "    <tr>\n",
       "      <th>3</th>\n",
       "      <td>7</td>\n",
       "      <td>7</td>\n",
       "      <td>931</td>\n",
       "      <td>2023-10-17</td>\n",
       "      <td>2025-04-29</td>\n",
       "      <td>Class person.</td>\n",
       "      <td>Jason Holland</td>\n",
       "      <td>978-1-59433-218-0</td>\n",
       "      <td>7</td>\n",
       "      <td>Lang LLC Library</td>\n",
       "      <td>...</td>\n",
       "      <td>1994-10-06</td>\n",
       "      <td>140</td>\n",
       "      <td>789</td>\n",
       "      <td>657</td>\n",
       "      <td>Spring 2019</td>\n",
       "      <td>A</td>\n",
       "      <td>856</td>\n",
       "      <td>213</td>\n",
       "      <td>2022-08-04 10:27:59</td>\n",
       "      <td>F</td>\n",
       "    </tr>\n",
       "    <tr>\n",
       "      <th>4</th>\n",
       "      <td>7</td>\n",
       "      <td>7</td>\n",
       "      <td>931</td>\n",
       "      <td>2023-10-17</td>\n",
       "      <td>2025-04-29</td>\n",
       "      <td>Class person.</td>\n",
       "      <td>Jason Holland</td>\n",
       "      <td>978-1-59433-218-0</td>\n",
       "      <td>7</td>\n",
       "      <td>Lang LLC Library</td>\n",
       "      <td>...</td>\n",
       "      <td>1994-10-06</td>\n",
       "      <td>140</td>\n",
       "      <td>789</td>\n",
       "      <td>657</td>\n",
       "      <td>Spring 2019</td>\n",
       "      <td>A</td>\n",
       "      <td>972</td>\n",
       "      <td>668</td>\n",
       "      <td>2022-12-28 21:53:58</td>\n",
       "      <td>D</td>\n",
       "    </tr>\n",
       "    <tr>\n",
       "      <th>...</th>\n",
       "      <td>...</td>\n",
       "      <td>...</td>\n",
       "      <td>...</td>\n",
       "      <td>...</td>\n",
       "      <td>...</td>\n",
       "      <td>...</td>\n",
       "      <td>...</td>\n",
       "      <td>...</td>\n",
       "      <td>...</td>\n",
       "      <td>...</td>\n",
       "      <td>...</td>\n",
       "      <td>...</td>\n",
       "      <td>...</td>\n",
       "      <td>...</td>\n",
       "      <td>...</td>\n",
       "      <td>...</td>\n",
       "      <td>...</td>\n",
       "      <td>...</td>\n",
       "      <td>...</td>\n",
       "      <td>...</td>\n",
       "      <td>...</td>\n",
       "    </tr>\n",
       "    <tr>\n",
       "      <th>1188</th>\n",
       "      <td>998</td>\n",
       "      <td>998</td>\n",
       "      <td>211</td>\n",
       "      <td>2023-11-09</td>\n",
       "      <td>2025-06-30</td>\n",
       "      <td>Gun land drive.</td>\n",
       "      <td>Sherry Hurst</td>\n",
       "      <td>978-1-4658-0306-1</td>\n",
       "      <td>998</td>\n",
       "      <td>Johnson Ltd Library</td>\n",
       "      <td>...</td>\n",
       "      <td>2006-01-23</td>\n",
       "      <td>812</td>\n",
       "      <td>372</td>\n",
       "      <td>334</td>\n",
       "      <td>Summer 2022</td>\n",
       "      <td>C</td>\n",
       "      <td>799</td>\n",
       "      <td>229</td>\n",
       "      <td>2022-04-06 19:02:31</td>\n",
       "      <td>I</td>\n",
       "    </tr>\n",
       "    <tr>\n",
       "      <th>1189</th>\n",
       "      <td>999</td>\n",
       "      <td>999</td>\n",
       "      <td>126</td>\n",
       "      <td>2024-04-16</td>\n",
       "      <td>2024-11-24</td>\n",
       "      <td>Common election.</td>\n",
       "      <td>Caleb Steele</td>\n",
       "      <td>978-1-06-971080-2</td>\n",
       "      <td>999</td>\n",
       "      <td>Mclean, Riley and Olson Library</td>\n",
       "      <td>...</td>\n",
       "      <td>1999-10-20</td>\n",
       "      <td>775</td>\n",
       "      <td>298</td>\n",
       "      <td>942</td>\n",
       "      <td>Summer 2019</td>\n",
       "      <td>None</td>\n",
       "      <td>106</td>\n",
       "      <td>497</td>\n",
       "      <td>2022-11-21 04:00:27</td>\n",
       "      <td>B</td>\n",
       "    </tr>\n",
       "    <tr>\n",
       "      <th>1190</th>\n",
       "      <td>999</td>\n",
       "      <td>999</td>\n",
       "      <td>126</td>\n",
       "      <td>2024-04-16</td>\n",
       "      <td>2024-11-24</td>\n",
       "      <td>Common election.</td>\n",
       "      <td>Caleb Steele</td>\n",
       "      <td>978-1-06-971080-2</td>\n",
       "      <td>999</td>\n",
       "      <td>Mclean, Riley and Olson Library</td>\n",
       "      <td>...</td>\n",
       "      <td>1999-10-20</td>\n",
       "      <td>775</td>\n",
       "      <td>298</td>\n",
       "      <td>942</td>\n",
       "      <td>Summer 2019</td>\n",
       "      <td>None</td>\n",
       "      <td>315</td>\n",
       "      <td>166</td>\n",
       "      <td>2022-04-05 07:47:40</td>\n",
       "      <td>I</td>\n",
       "    </tr>\n",
       "    <tr>\n",
       "      <th>1191</th>\n",
       "      <td>999</td>\n",
       "      <td>999</td>\n",
       "      <td>126</td>\n",
       "      <td>2024-04-16</td>\n",
       "      <td>2024-11-24</td>\n",
       "      <td>Common election.</td>\n",
       "      <td>Caleb Steele</td>\n",
       "      <td>978-1-06-971080-2</td>\n",
       "      <td>999</td>\n",
       "      <td>Mclean, Riley and Olson Library</td>\n",
       "      <td>...</td>\n",
       "      <td>1999-10-20</td>\n",
       "      <td>775</td>\n",
       "      <td>822</td>\n",
       "      <td>419</td>\n",
       "      <td>Winter 2020</td>\n",
       "      <td>B</td>\n",
       "      <td>106</td>\n",
       "      <td>497</td>\n",
       "      <td>2022-11-21 04:00:27</td>\n",
       "      <td>B</td>\n",
       "    </tr>\n",
       "    <tr>\n",
       "      <th>1192</th>\n",
       "      <td>999</td>\n",
       "      <td>999</td>\n",
       "      <td>126</td>\n",
       "      <td>2024-04-16</td>\n",
       "      <td>2024-11-24</td>\n",
       "      <td>Common election.</td>\n",
       "      <td>Caleb Steele</td>\n",
       "      <td>978-1-06-971080-2</td>\n",
       "      <td>999</td>\n",
       "      <td>Mclean, Riley and Olson Library</td>\n",
       "      <td>...</td>\n",
       "      <td>1999-10-20</td>\n",
       "      <td>775</td>\n",
       "      <td>822</td>\n",
       "      <td>419</td>\n",
       "      <td>Winter 2020</td>\n",
       "      <td>B</td>\n",
       "      <td>315</td>\n",
       "      <td>166</td>\n",
       "      <td>2022-04-05 07:47:40</td>\n",
       "      <td>I</td>\n",
       "    </tr>\n",
       "  </tbody>\n",
       "</table>\n",
       "<p>1193 rows × 23 columns</p>\n",
       "</div>"
      ]
     },
     "execution_count": 27,
     "metadata": {},
     "output_type": "execute_result"
    }
   ],
   "execution_count": 27
  },
  {
   "metadata": {},
   "cell_type": "markdown",
   "source": "检查metadata"
  },
  {
   "cell_type": "code",
   "metadata": {
    "ExecuteTime": {
     "end_time": "2024-10-14T12:24:09.878677Z",
     "start_time": "2024-10-14T12:24:09.266201Z"
    }
   },
   "source": [
    "result_table.to_csv(\"test_1k_label.csv\", index=False)\n",
    "dataset_csv = \"test_1k_label.csv\"\n",
    "data_connector = CsvConnector(path=dataset_csv)\n",
    "data_loader = DataLoader(data_connector)\n",
    "loan_metadata = Metadata.from_dataloader(data_loader)\n",
    "\n",
    "loan_metadata.discrete_columns"
   ],
   "outputs": [
    {
     "name": "stderr",
     "output_type": "stream",
     "text": [
      "\u001B[32m2024-10-14 20:24:09.284\u001B[0m | \u001B[1mINFO    \u001B[0m | \u001B[36msdgx.data_models.metadata\u001B[0m:\u001B[36mfrom_dataloader\u001B[0m:\u001B[36m294\u001B[0m - \u001B[1mInspecting metadata...\u001B[0m\n",
      "\u001B[32m2024-10-14 20:24:09.860\u001B[0m | \u001B[1mINFO    \u001B[0m | \u001B[36msdgx.data_models.metadata\u001B[0m:\u001B[36mupdate_primary_key\u001B[0m:\u001B[36m503\u001B[0m - \u001B[1mPrimary Key updated: set().\u001B[0m\n"
     ]
    },
    {
     "data": {
      "text/plain": [
       "{'author',\n",
       " 'date_of_birth',\n",
       " 'email',\n",
       " 'grade_x',\n",
       " 'grade_y',\n",
       " 'isbn',\n",
       " 'loan_date',\n",
       " 'location',\n",
       " 'name_x',\n",
       " 'name_y',\n",
       " 'return_date',\n",
       " 'semester',\n",
       " 'submission_date',\n",
       " 'title'}"
      ]
     },
     "execution_count": 28,
     "metadata": {},
     "output_type": "execute_result"
    }
   ],
   "execution_count": 28
  },
  {
   "metadata": {
    "ExecuteTime": {
     "end_time": "2024-10-14T12:24:09.894620Z",
     "start_time": "2024-10-14T12:24:09.879670Z"
    }
   },
   "cell_type": "code",
   "source": "loan_metadata.datetime_columns",
   "outputs": [
    {
     "data": {
      "text/plain": [
       "{'date_of_birth', 'loan_date', 'return_date', 'submission_date'}"
      ]
     },
     "execution_count": 29,
     "metadata": {},
     "output_type": "execute_result"
    }
   ],
   "execution_count": 29
  },
  {
   "cell_type": "code",
   "metadata": {
    "ExecuteTime": {
     "end_time": "2024-10-14T12:24:09.910616Z",
     "start_time": "2024-10-14T12:24:09.896614Z"
    }
   },
   "source": "loan_metadata.column_list.__len__()",
   "outputs": [
    {
     "data": {
      "text/plain": [
       "23"
      ]
     },
     "execution_count": 30,
     "metadata": {},
     "output_type": "execute_result"
    }
   ],
   "execution_count": 30
  },
  {
   "metadata": {
    "ExecuteTime": {
     "end_time": "2024-10-14T12:24:09.925564Z",
     "start_time": "2024-10-14T12:24:09.911653Z"
    }
   },
   "cell_type": "code",
   "source": [
    "loan_metadata.datetime_format = {\n",
    "    key: \"%Y-%m-%d\" for key in loan_metadata.datetime_columns if key != \"submission_date\" \n",
    "}\n",
    "loan_metadata.datetime_format[\"submission_date\"] = \"%Y-%m-%d %H:%M:%S\"\n",
    "loan_metadata.datetime_format"
   ],
   "outputs": [
    {
     "data": {
      "text/plain": [
       "{'return_date': '%Y-%m-%d',\n",
       " 'date_of_birth': '%Y-%m-%d',\n",
       " 'loan_date': '%Y-%m-%d',\n",
       " 'submission_date': '%Y-%m-%d %H:%M:%S'}"
      ]
     },
     "execution_count": 31,
     "metadata": {},
     "output_type": "execute_result"
    }
   ],
   "execution_count": 31
  },
  {
   "metadata": {
    "ExecuteTime": {
     "end_time": "2024-10-14T12:24:09.941512Z",
     "start_time": "2024-10-14T12:24:09.926516Z"
    }
   },
   "cell_type": "code",
   "source": [
    "loan_metadata.discrete_columns = set([\n",
    "    key for key in loan_metadata.discrete_columns if key not in loan_metadata.datetime_columns\n",
    "])\n",
    "# loan_metadata.label_columns = loan_metadata.discrete_columns\n",
    "#loan_metadata.label_columns.add(\"grade_x\")\n",
    "#loan_metadata.label_columns.add(\"grade_y\")\n",
    "print(f\"{loan_metadata.int_columns=}\\n{loan_metadata.float_columns=}\\n{loan_metadata.const_columns=}\\n{loan_metadata.bool_columns=}\\n{loan_metadata.discrete_columns=}\")"
   ],
   "outputs": [
    {
     "name": "stdout",
     "output_type": "stream",
     "text": [
      "loan_metadata.int_columns={'course_id', 'enrollment_id', 'submission_id', 'loan_id', 'student_id', 'major', 'library_id', 'assignment_id', 'book_id'}\n",
      "loan_metadata.float_columns=set()\n",
      "loan_metadata.const_columns=set()\n",
      "loan_metadata.bool_columns=set()\n",
      "loan_metadata.discrete_columns={'name_x', 'author', 'title', 'grade_y', 'isbn', 'semester', 'grade_x', 'email', 'location', 'name_y'}\n"
     ]
    }
   ],
   "execution_count": 32
  },
  {
   "metadata": {
    "ExecuteTime": {
     "end_time": "2024-10-14T12:24:09.956707Z",
     "start_time": "2024-10-14T12:24:09.942500Z"
    }
   },
   "cell_type": "code",
   "source": [
    "loan_metadata.column_encoder = {\n",
    "    key: \"label\" for key in loan_metadata.discrete_columns\n",
    "}"
   ],
   "outputs": [],
   "execution_count": 33
  },
  {
   "metadata": {},
   "cell_type": "markdown",
   "source": "训练"
  },
  {
   "cell_type": "code",
   "metadata": {
    "ExecuteTime": {
     "end_time": "2024-10-14T12:24:17.550958Z",
     "start_time": "2024-10-14T12:24:09.957704Z"
    }
   },
   "source": [
    "\n",
    "\n",
    "ctgan = CTGANSynthesizerModel(\n",
    "        epochs=1,\n",
    "        batch_size=500,\n",
    "        # device=\"cpu\"\n",
    "    )\n",
    "# Initialize synthesizer, use CTGAN model\n",
    "synthesizer = Synthesizer(\n",
    "    metadata=loan_metadata,\n",
    "    model=ctgan,  # For quick demo\n",
    "    data_connector=data_connector,\n",
    ")\n",
    "\n",
    "\n",
    "writetime()\n",
    "synthesizer.fit()\n",
    "writetime()\n",
    "\n",
    "# synthesizer.save(\"test_model_100k\")"
   ],
   "outputs": [
    {
     "name": "stderr",
     "output_type": "stream",
     "text": [
      "\u001B[32m2024-10-14 20:24:09.959\u001B[0m | \u001B[1mINFO    \u001B[0m | \u001B[36msdgx.synthesizer\u001B[0m:\u001B[36m__init__\u001B[0m:\u001B[36m106\u001B[0m - \u001B[1mUsing data processors: ['nonvaluetransformer', 'outliertransformer', 'emailgenerator', 'chnpiigenerator', 'intvalueformatter', 'datetimeformatter', 'constvaluetransformer', 'emptytransformer', 'columnordertransformer']\u001B[0m\n",
      "\u001B[32m2024-10-14 20:24:09.960\u001B[0m | \u001B[1mINFO    \u001B[0m | \u001B[36msdgx.synthesizer\u001B[0m:\u001B[36mfit\u001B[0m:\u001B[36m296\u001B[0m - \u001B[1mFitting data processors...\u001B[0m\n",
      "\u001B[32m2024-10-14 20:24:09.987\u001B[0m | \u001B[1mINFO    \u001B[0m | \u001B[36msdgx.data_processors.transformers.nan\u001B[0m:\u001B[36mfit\u001B[0m:\u001B[36m71\u001B[0m - \u001B[1mNonValueTransformer Fitted.\u001B[0m\n",
      "\u001B[32m2024-10-14 20:24:09.988\u001B[0m | \u001B[1mINFO    \u001B[0m | \u001B[36msdgx.data_processors.transformers.nan\u001B[0m:\u001B[36mfit\u001B[0m:\u001B[36m87\u001B[0m - \u001B[1mNonValueTransformer get int columns: {'course_id', 'enrollment_id', 'loan_id', 'student_id', 'submission_id', 'library_id', 'major', 'assignment_id', 'book_id'}.\u001B[0m\n",
      "\u001B[32m2024-10-14 20:24:09.988\u001B[0m | \u001B[1mINFO    \u001B[0m | \u001B[36msdgx.data_processors.transformers.nan\u001B[0m:\u001B[36mfit\u001B[0m:\u001B[36m96\u001B[0m - \u001B[1mNonValueTransformer get float columns: set().\u001B[0m\n",
      "\u001B[32m2024-10-14 20:24:09.989\u001B[0m | \u001B[1mINFO    \u001B[0m | \u001B[36msdgx.data_processors.transformers.nan\u001B[0m:\u001B[36mfit\u001B[0m:\u001B[36m101\u001B[0m - \u001B[1mNonValueTransformer get column list from metadata: ['loan_id', 'book_id', 'student_id', 'loan_date', 'return_date', 'title', 'author', 'isbn', 'library_id', 'name_x', 'location', 'name_y', 'email', 'date_of_birth', 'major', 'enrollment_id', 'course_id', 'semester', 'grade_x', 'submission_id', 'assignment_id', 'submission_date', 'grade_y'].\u001B[0m\n",
      "\u001B[32m2024-10-14 20:24:09.990\u001B[0m | \u001B[1mINFO    \u001B[0m | \u001B[36msdgx.data_processors.transformers.outlier\u001B[0m:\u001B[36mfit\u001B[0m:\u001B[36m70\u001B[0m - \u001B[1mOutlierTransformer Fitted.\u001B[0m\n",
      "\u001B[32m2024-10-14 20:24:09.990\u001B[0m | \u001B[1mINFO    \u001B[0m | \u001B[36msdgx.data_processors.formatters.int\u001B[0m:\u001B[36mfit\u001B[0m:\u001B[36m40\u001B[0m - \u001B[1mIntValueFormatter Fitted.\u001B[0m\n",
      "\u001B[32m2024-10-14 20:24:09.991\u001B[0m | \u001B[1mINFO    \u001B[0m | \u001B[36msdgx.data_processors.formatters.datetime\u001B[0m:\u001B[36mfit\u001B[0m:\u001B[36m77\u001B[0m - \u001B[1mDatetimeFormatter Fitted.\u001B[0m\n",
      "\u001B[32m2024-10-14 20:24:09.991\u001B[0m | \u001B[1mINFO    \u001B[0m | \u001B[36msdgx.data_processors.transformers.const\u001B[0m:\u001B[36mfit\u001B[0m:\u001B[36m49\u001B[0m - \u001B[1mConstValueTransformer Fitted.\u001B[0m\n",
      "\u001B[32m2024-10-14 20:24:09.992\u001B[0m | \u001B[1mINFO    \u001B[0m | \u001B[36msdgx.data_processors.transformers.empty\u001B[0m:\u001B[36mfit\u001B[0m:\u001B[36m54\u001B[0m - \u001B[1mEmptyTransformer Fitted.\u001B[0m\n",
      "\u001B[32m2024-10-14 20:24:09.992\u001B[0m | \u001B[1mINFO    \u001B[0m | \u001B[36msdgx.data_processors.transformers.column_order\u001B[0m:\u001B[36mfit\u001B[0m:\u001B[36m41\u001B[0m - \u001B[1mColumnOrderTransformer Fitted.\u001B[0m\n",
      "\u001B[32m2024-10-14 20:24:09.993\u001B[0m | \u001B[1mINFO    \u001B[0m | \u001B[36msdgx.synthesizer\u001B[0m:\u001B[36mfit\u001B[0m:\u001B[36m305\u001B[0m - \u001B[1mFitted 9 data processors in  0.005980491638183594s.\u001B[0m\n",
      "\u001B[32m2024-10-14 20:24:09.993\u001B[0m | \u001B[1mINFO    \u001B[0m | \u001B[36msdgx.synthesizer\u001B[0m:\u001B[36mfit\u001B[0m:\u001B[36m315\u001B[0m - \u001B[1mInitializing processed data loader...\u001B[0m\n",
      "\u001B[32m2024-10-14 20:24:09.998\u001B[0m | \u001B[1mINFO    \u001B[0m | \u001B[36msdgx.data_processors.transformers.nan\u001B[0m:\u001B[36mconvert\u001B[0m:\u001B[36m110\u001B[0m - \u001B[1mConverting data using NonValueTransformer...\u001B[0m\n",
      "\u001B[32m2024-10-14 20:24:10.002\u001B[0m | \u001B[1mINFO    \u001B[0m | \u001B[36msdgx.data_processors.transformers.nan\u001B[0m:\u001B[36mconvert\u001B[0m:\u001B[36m130\u001B[0m - \u001B[1mConverting data using NonValueTransformer... Finished.\u001B[0m\n",
      "\u001B[32m2024-10-14 20:24:10.003\u001B[0m | \u001B[1mINFO    \u001B[0m | \u001B[36msdgx.data_processors.transformers.outlier\u001B[0m:\u001B[36mconvert\u001B[0m:\u001B[36m84\u001B[0m - \u001B[1mConverting data using OutlierTransformer...\u001B[0m\n",
      "\u001B[32m2024-10-14 20:24:10.007\u001B[0m | \u001B[1mINFO    \u001B[0m | \u001B[36msdgx.data_processors.transformers.outlier\u001B[0m:\u001B[36mconvert\u001B[0m:\u001B[36m106\u001B[0m - \u001B[1mConverting data using OutlierTransformer... Finished.\u001B[0m\n",
      "\u001B[32m2024-10-14 20:24:10.008\u001B[0m | \u001B[1mINFO    \u001B[0m | \u001B[36msdgx.data_processors.formatters.int\u001B[0m:\u001B[36mconvert\u001B[0m:\u001B[36m50\u001B[0m - \u001B[1mConverting data using IntValueFormatter... Finished  (No Action).\u001B[0m\n",
      "\u001B[32m2024-10-14 20:24:10.009\u001B[0m | \u001B[1mINFO    \u001B[0m | \u001B[36msdgx.data_processors.formatters.datetime\u001B[0m:\u001B[36mconvert\u001B[0m:\u001B[36m99\u001B[0m - \u001B[1mConverting data using DatetimeFormatter...\u001B[0m\n",
      "\u001B[32m2024-10-14 20:24:10.035\u001B[0m | \u001B[1mINFO    \u001B[0m | \u001B[36msdgx.data_processors.formatters.datetime\u001B[0m:\u001B[36mconvert\u001B[0m:\u001B[36m105\u001B[0m - \u001B[1mConverting data using DatetimeFormatter... Finished.\u001B[0m\n",
      "\u001B[32m2024-10-14 20:24:10.036\u001B[0m | \u001B[1mINFO    \u001B[0m | \u001B[36msdgx.data_processors.transformers.const\u001B[0m:\u001B[36mconvert\u001B[0m:\u001B[36m69\u001B[0m - \u001B[1mConverting data using ConstValueTransformer...\u001B[0m\n",
      "\u001B[32m2024-10-14 20:24:10.037\u001B[0m | \u001B[1mINFO    \u001B[0m | \u001B[36msdgx.data_processors.transformers.const\u001B[0m:\u001B[36mconvert\u001B[0m:\u001B[36m77\u001B[0m - \u001B[1mConverting data using ConstValueTransformer... Finished.\u001B[0m\n",
      "\u001B[32m2024-10-14 20:24:10.037\u001B[0m | \u001B[1mINFO    \u001B[0m | \u001B[36msdgx.data_processors.transformers.empty\u001B[0m:\u001B[36mconvert\u001B[0m:\u001B[36m72\u001B[0m - \u001B[1mConverting data using EmptyTransformer...\u001B[0m\n",
      "\u001B[32m2024-10-14 20:24:10.038\u001B[0m | \u001B[1mINFO    \u001B[0m | \u001B[36msdgx.data_processors.transformers.empty\u001B[0m:\u001B[36mconvert\u001B[0m:\u001B[36m76\u001B[0m - \u001B[1mConverting data using EmptyTransformer... Finished (No action).\u001B[0m\n",
      "\u001B[32m2024-10-14 20:24:10.038\u001B[0m | \u001B[1mINFO    \u001B[0m | \u001B[36msdgx.data_processors.transformers.column_order\u001B[0m:\u001B[36mconvert\u001B[0m:\u001B[36m51\u001B[0m - \u001B[1mConverting data using ColumnOrderTransformer...\u001B[0m\n",
      "\u001B[32m2024-10-14 20:24:10.038\u001B[0m | \u001B[1mINFO    \u001B[0m | \u001B[36msdgx.data_processors.transformers.column_order\u001B[0m:\u001B[36mconvert\u001B[0m:\u001B[36m52\u001B[0m - \u001B[1mConverting data using ColumnOrderTransformer... Finished (No action).\u001B[0m\n",
      "\u001B[32m2024-10-14 20:24:10.048\u001B[0m | \u001B[1mINFO    \u001B[0m | \u001B[36msdgx.synthesizer\u001B[0m:\u001B[36mfit\u001B[0m:\u001B[36m322\u001B[0m - \u001B[1mInitialized processed data loader in 0.05444645881652832s\u001B[0m\n",
      "\u001B[32m2024-10-14 20:24:10.048\u001B[0m | \u001B[1mINFO    \u001B[0m | \u001B[36msdgx.synthesizer\u001B[0m:\u001B[36mfit\u001B[0m:\u001B[36m324\u001B[0m - \u001B[1mModel fit Started...\u001B[0m\n",
      "\u001B[32m2024-10-14 20:24:10.053\u001B[0m | \u001B[1mINFO    \u001B[0m | \u001B[36msdgx.data_processors.transformers.nan\u001B[0m:\u001B[36mconvert\u001B[0m:\u001B[36m110\u001B[0m - \u001B[1mConverting data using NonValueTransformer...\u001B[0m\n",
      "\u001B[32m2024-10-14 20:24:10.056\u001B[0m | \u001B[1mINFO    \u001B[0m | \u001B[36msdgx.data_processors.transformers.nan\u001B[0m:\u001B[36mconvert\u001B[0m:\u001B[36m130\u001B[0m - \u001B[1mConverting data using NonValueTransformer... Finished.\u001B[0m\n",
      "\u001B[32m2024-10-14 20:24:10.057\u001B[0m | \u001B[1mINFO    \u001B[0m | \u001B[36msdgx.data_processors.transformers.outlier\u001B[0m:\u001B[36mconvert\u001B[0m:\u001B[36m84\u001B[0m - \u001B[1mConverting data using OutlierTransformer...\u001B[0m\n",
      "\u001B[32m2024-10-14 20:24:10.060\u001B[0m | \u001B[1mINFO    \u001B[0m | \u001B[36msdgx.data_processors.transformers.outlier\u001B[0m:\u001B[36mconvert\u001B[0m:\u001B[36m106\u001B[0m - \u001B[1mConverting data using OutlierTransformer... Finished.\u001B[0m\n",
      "\u001B[32m2024-10-14 20:24:10.062\u001B[0m | \u001B[1mINFO    \u001B[0m | \u001B[36msdgx.data_processors.formatters.int\u001B[0m:\u001B[36mconvert\u001B[0m:\u001B[36m50\u001B[0m - \u001B[1mConverting data using IntValueFormatter... Finished  (No Action).\u001B[0m\n",
      "\u001B[32m2024-10-14 20:24:10.062\u001B[0m | \u001B[1mINFO    \u001B[0m | \u001B[36msdgx.data_processors.formatters.datetime\u001B[0m:\u001B[36mconvert\u001B[0m:\u001B[36m99\u001B[0m - \u001B[1mConverting data using DatetimeFormatter...\u001B[0m\n",
      "\u001B[32m2024-10-14 20:24:10.090\u001B[0m | \u001B[1mINFO    \u001B[0m | \u001B[36msdgx.data_processors.formatters.datetime\u001B[0m:\u001B[36mconvert\u001B[0m:\u001B[36m105\u001B[0m - \u001B[1mConverting data using DatetimeFormatter... Finished.\u001B[0m\n",
      "\u001B[32m2024-10-14 20:24:10.091\u001B[0m | \u001B[1mINFO    \u001B[0m | \u001B[36msdgx.data_processors.transformers.const\u001B[0m:\u001B[36mconvert\u001B[0m:\u001B[36m69\u001B[0m - \u001B[1mConverting data using ConstValueTransformer...\u001B[0m\n",
      "\u001B[32m2024-10-14 20:24:10.091\u001B[0m | \u001B[1mINFO    \u001B[0m | \u001B[36msdgx.data_processors.transformers.const\u001B[0m:\u001B[36mconvert\u001B[0m:\u001B[36m77\u001B[0m - \u001B[1mConverting data using ConstValueTransformer... Finished.\u001B[0m\n",
      "\u001B[32m2024-10-14 20:24:10.091\u001B[0m | \u001B[1mINFO    \u001B[0m | \u001B[36msdgx.data_processors.transformers.empty\u001B[0m:\u001B[36mconvert\u001B[0m:\u001B[36m72\u001B[0m - \u001B[1mConverting data using EmptyTransformer...\u001B[0m\n",
      "\u001B[32m2024-10-14 20:24:10.092\u001B[0m | \u001B[1mINFO    \u001B[0m | \u001B[36msdgx.data_processors.transformers.empty\u001B[0m:\u001B[36mconvert\u001B[0m:\u001B[36m76\u001B[0m - \u001B[1mConverting data using EmptyTransformer... Finished (No action).\u001B[0m\n",
      "\u001B[32m2024-10-14 20:24:10.092\u001B[0m | \u001B[1mINFO    \u001B[0m | \u001B[36msdgx.data_processors.transformers.column_order\u001B[0m:\u001B[36mconvert\u001B[0m:\u001B[36m51\u001B[0m - \u001B[1mConverting data using ColumnOrderTransformer...\u001B[0m\n",
      "\u001B[32m2024-10-14 20:24:10.092\u001B[0m | \u001B[1mINFO    \u001B[0m | \u001B[36msdgx.data_processors.transformers.column_order\u001B[0m:\u001B[36mconvert\u001B[0m:\u001B[36m52\u001B[0m - \u001B[1mConverting data using ColumnOrderTransformer... Finished (No action).\u001B[0m\n",
      "\u001B[32m2024-10-14 20:24:10.093\u001B[0m | \u001B[1mINFO    \u001B[0m | \u001B[36msdgx.models.ml.single_table.ctgan\u001B[0m:\u001B[36m_pre_fit\u001B[0m:\u001B[36m248\u001B[0m - \u001B[1mFitting model's transformer...\u001B[0m\n",
      "\u001B[32m2024-10-14 20:24:10.102\u001B[0m | \u001B[1mINFO    \u001B[0m | \u001B[36msdgx.data_processors.transformers.nan\u001B[0m:\u001B[36mconvert\u001B[0m:\u001B[36m110\u001B[0m - \u001B[1mConverting data using NonValueTransformer...\u001B[0m\n",
      "\u001B[32m2024-10-14 20:24:10.105\u001B[0m | \u001B[1mINFO    \u001B[0m | \u001B[36msdgx.data_processors.transformers.nan\u001B[0m:\u001B[36mconvert\u001B[0m:\u001B[36m130\u001B[0m - \u001B[1mConverting data using NonValueTransformer... Finished.\u001B[0m\n",
      "\u001B[32m2024-10-14 20:24:10.105\u001B[0m | \u001B[1mINFO    \u001B[0m | \u001B[36msdgx.data_processors.transformers.outlier\u001B[0m:\u001B[36mconvert\u001B[0m:\u001B[36m84\u001B[0m - \u001B[1mConverting data using OutlierTransformer...\u001B[0m\n",
      "\u001B[32m2024-10-14 20:24:10.109\u001B[0m | \u001B[1mINFO    \u001B[0m | \u001B[36msdgx.data_processors.transformers.outlier\u001B[0m:\u001B[36mconvert\u001B[0m:\u001B[36m106\u001B[0m - \u001B[1mConverting data using OutlierTransformer... Finished.\u001B[0m\n",
      "\u001B[32m2024-10-14 20:24:10.111\u001B[0m | \u001B[1mINFO    \u001B[0m | \u001B[36msdgx.data_processors.formatters.int\u001B[0m:\u001B[36mconvert\u001B[0m:\u001B[36m50\u001B[0m - \u001B[1mConverting data using IntValueFormatter... Finished  (No Action).\u001B[0m\n",
      "\u001B[32m2024-10-14 20:24:10.111\u001B[0m | \u001B[1mINFO    \u001B[0m | \u001B[36msdgx.data_processors.formatters.datetime\u001B[0m:\u001B[36mconvert\u001B[0m:\u001B[36m99\u001B[0m - \u001B[1mConverting data using DatetimeFormatter...\u001B[0m\n",
      "\u001B[32m2024-10-14 20:24:10.137\u001B[0m | \u001B[1mINFO    \u001B[0m | \u001B[36msdgx.data_processors.formatters.datetime\u001B[0m:\u001B[36mconvert\u001B[0m:\u001B[36m105\u001B[0m - \u001B[1mConverting data using DatetimeFormatter... Finished.\u001B[0m\n",
      "\u001B[32m2024-10-14 20:24:10.138\u001B[0m | \u001B[1mINFO    \u001B[0m | \u001B[36msdgx.data_processors.transformers.const\u001B[0m:\u001B[36mconvert\u001B[0m:\u001B[36m69\u001B[0m - \u001B[1mConverting data using ConstValueTransformer...\u001B[0m\n",
      "\u001B[32m2024-10-14 20:24:10.138\u001B[0m | \u001B[1mINFO    \u001B[0m | \u001B[36msdgx.data_processors.transformers.const\u001B[0m:\u001B[36mconvert\u001B[0m:\u001B[36m77\u001B[0m - \u001B[1mConverting data using ConstValueTransformer... Finished.\u001B[0m\n",
      "\u001B[32m2024-10-14 20:24:10.139\u001B[0m | \u001B[1mINFO    \u001B[0m | \u001B[36msdgx.data_processors.transformers.empty\u001B[0m:\u001B[36mconvert\u001B[0m:\u001B[36m72\u001B[0m - \u001B[1mConverting data using EmptyTransformer...\u001B[0m\n",
      "\u001B[32m2024-10-14 20:24:10.139\u001B[0m | \u001B[1mINFO    \u001B[0m | \u001B[36msdgx.data_processors.transformers.empty\u001B[0m:\u001B[36mconvert\u001B[0m:\u001B[36m76\u001B[0m - \u001B[1mConverting data using EmptyTransformer... Finished (No action).\u001B[0m\n",
      "\u001B[32m2024-10-14 20:24:10.139\u001B[0m | \u001B[1mINFO    \u001B[0m | \u001B[36msdgx.data_processors.transformers.column_order\u001B[0m:\u001B[36mconvert\u001B[0m:\u001B[36m51\u001B[0m - \u001B[1mConverting data using ColumnOrderTransformer...\u001B[0m\n",
      "\u001B[32m2024-10-14 20:24:10.140\u001B[0m | \u001B[1mINFO    \u001B[0m | \u001B[36msdgx.data_processors.transformers.column_order\u001B[0m:\u001B[36mconvert\u001B[0m:\u001B[36m52\u001B[0m - \u001B[1mConverting data using ColumnOrderTransformer... Finished (No action).\u001B[0m\n"
     ]
    },
    {
     "data": {
      "text/plain": [
       "Preparing data:   0%|          | 0/22 [00:00<?, ?it/s]"
      ],
      "application/vnd.jupyter.widget-view+json": {
       "version_major": 2,
       "version_minor": 0,
       "model_id": "227fd23154cf4f60bce6da84c97078df"
      }
     },
     "metadata": {},
     "output_type": "display_data"
    },
    {
     "name": "stderr",
     "output_type": "stream",
     "text": [
      "\u001B[32m2024-10-14 20:24:10.144\u001B[0m | \u001B[34m\u001B[1mDEBUG   \u001B[0m | \u001B[36msdgx.models.components.optimize.sdv_ctgan.data_transformer\u001B[0m:\u001B[36mfit\u001B[0m:\u001B[36m127\u001B[0m - \u001B[34m\u001B[1mFitting continuous column loan_id...\u001B[0m\n",
      "\u001B[32m2024-10-14 20:24:10.322\u001B[0m | \u001B[34m\u001B[1mDEBUG   \u001B[0m | \u001B[36msdgx.models.components.optimize.sdv_ctgan.data_transformer\u001B[0m:\u001B[36mfit\u001B[0m:\u001B[36m127\u001B[0m - \u001B[34m\u001B[1mFitting continuous column book_id...\u001B[0m\n",
      "\u001B[32m2024-10-14 20:24:10.495\u001B[0m | \u001B[34m\u001B[1mDEBUG   \u001B[0m | \u001B[36msdgx.models.components.optimize.sdv_ctgan.data_transformer\u001B[0m:\u001B[36mfit\u001B[0m:\u001B[36m127\u001B[0m - \u001B[34m\u001B[1mFitting continuous column student_id...\u001B[0m\n",
      "\u001B[32m2024-10-14 20:24:10.654\u001B[0m | \u001B[34m\u001B[1mDEBUG   \u001B[0m | \u001B[36msdgx.models.components.optimize.sdv_ctgan.data_transformer\u001B[0m:\u001B[36mfit\u001B[0m:\u001B[36m127\u001B[0m - \u001B[34m\u001B[1mFitting continuous column loan_date...\u001B[0m\n",
      "\u001B[32m2024-10-14 20:24:10.817\u001B[0m | \u001B[34m\u001B[1mDEBUG   \u001B[0m | \u001B[36msdgx.models.components.optimize.sdv_ctgan.data_transformer\u001B[0m:\u001B[36mfit\u001B[0m:\u001B[36m127\u001B[0m - \u001B[34m\u001B[1mFitting continuous column return_date...\u001B[0m\n",
      "\u001B[32m2024-10-14 20:24:10.992\u001B[0m | \u001B[34m\u001B[1mDEBUG   \u001B[0m | \u001B[36msdgx.models.components.optimize.sdv_ctgan.data_transformer\u001B[0m:\u001B[36mfit\u001B[0m:\u001B[36m122\u001B[0m - \u001B[34m\u001B[1mFitting discrete column title...\u001B[0m\n",
      "\u001B[32m2024-10-14 20:24:10.997\u001B[0m | \u001B[34m\u001B[1mDEBUG   \u001B[0m | \u001B[36msdgx.models.components.optimize.sdv_ctgan.data_transformer\u001B[0m:\u001B[36mfit\u001B[0m:\u001B[36m122\u001B[0m - \u001B[34m\u001B[1mFitting discrete column author...\u001B[0m\n",
      "\u001B[32m2024-10-14 20:24:11.002\u001B[0m | \u001B[34m\u001B[1mDEBUG   \u001B[0m | \u001B[36msdgx.models.components.optimize.sdv_ctgan.data_transformer\u001B[0m:\u001B[36mfit\u001B[0m:\u001B[36m122\u001B[0m - \u001B[34m\u001B[1mFitting discrete column isbn...\u001B[0m\n",
      "\u001B[32m2024-10-14 20:24:11.007\u001B[0m | \u001B[34m\u001B[1mDEBUG   \u001B[0m | \u001B[36msdgx.models.components.optimize.sdv_ctgan.data_transformer\u001B[0m:\u001B[36mfit\u001B[0m:\u001B[36m127\u001B[0m - \u001B[34m\u001B[1mFitting continuous column library_id...\u001B[0m\n",
      "\u001B[32m2024-10-14 20:24:11.178\u001B[0m | \u001B[34m\u001B[1mDEBUG   \u001B[0m | \u001B[36msdgx.models.components.optimize.sdv_ctgan.data_transformer\u001B[0m:\u001B[36mfit\u001B[0m:\u001B[36m122\u001B[0m - \u001B[34m\u001B[1mFitting discrete column name_x...\u001B[0m\n",
      "\u001B[32m2024-10-14 20:24:11.184\u001B[0m | \u001B[34m\u001B[1mDEBUG   \u001B[0m | \u001B[36msdgx.models.components.optimize.sdv_ctgan.data_transformer\u001B[0m:\u001B[36mfit\u001B[0m:\u001B[36m122\u001B[0m - \u001B[34m\u001B[1mFitting discrete column location...\u001B[0m\n",
      "\u001B[32m2024-10-14 20:24:11.189\u001B[0m | \u001B[34m\u001B[1mDEBUG   \u001B[0m | \u001B[36msdgx.models.components.optimize.sdv_ctgan.data_transformer\u001B[0m:\u001B[36mfit\u001B[0m:\u001B[36m122\u001B[0m - \u001B[34m\u001B[1mFitting discrete column name_y...\u001B[0m\n",
      "\u001B[32m2024-10-14 20:24:11.193\u001B[0m | \u001B[34m\u001B[1mDEBUG   \u001B[0m | \u001B[36msdgx.models.components.optimize.sdv_ctgan.data_transformer\u001B[0m:\u001B[36mfit\u001B[0m:\u001B[36m127\u001B[0m - \u001B[34m\u001B[1mFitting continuous column date_of_birth...\u001B[0m\n",
      "\u001B[32m2024-10-14 20:24:11.355\u001B[0m | \u001B[34m\u001B[1mDEBUG   \u001B[0m | \u001B[36msdgx.models.components.optimize.sdv_ctgan.data_transformer\u001B[0m:\u001B[36mfit\u001B[0m:\u001B[36m127\u001B[0m - \u001B[34m\u001B[1mFitting continuous column major...\u001B[0m\n",
      "\u001B[32m2024-10-14 20:24:11.508\u001B[0m | \u001B[34m\u001B[1mDEBUG   \u001B[0m | \u001B[36msdgx.models.components.optimize.sdv_ctgan.data_transformer\u001B[0m:\u001B[36mfit\u001B[0m:\u001B[36m127\u001B[0m - \u001B[34m\u001B[1mFitting continuous column enrollment_id...\u001B[0m\n",
      "\u001B[32m2024-10-14 20:24:11.672\u001B[0m | \u001B[34m\u001B[1mDEBUG   \u001B[0m | \u001B[36msdgx.models.components.optimize.sdv_ctgan.data_transformer\u001B[0m:\u001B[36mfit\u001B[0m:\u001B[36m127\u001B[0m - \u001B[34m\u001B[1mFitting continuous column course_id...\u001B[0m\n",
      "\u001B[32m2024-10-14 20:24:11.844\u001B[0m | \u001B[34m\u001B[1mDEBUG   \u001B[0m | \u001B[36msdgx.models.components.optimize.sdv_ctgan.data_transformer\u001B[0m:\u001B[36mfit\u001B[0m:\u001B[36m122\u001B[0m - \u001B[34m\u001B[1mFitting discrete column semester...\u001B[0m\n",
      "\u001B[32m2024-10-14 20:24:11.850\u001B[0m | \u001B[34m\u001B[1mDEBUG   \u001B[0m | \u001B[36msdgx.models.components.optimize.sdv_ctgan.data_transformer\u001B[0m:\u001B[36mfit\u001B[0m:\u001B[36m122\u001B[0m - \u001B[34m\u001B[1mFitting discrete column grade_x...\u001B[0m\n",
      "\u001B[32m2024-10-14 20:24:11.856\u001B[0m | \u001B[34m\u001B[1mDEBUG   \u001B[0m | \u001B[36msdgx.models.components.optimize.sdv_ctgan.data_transformer\u001B[0m:\u001B[36mfit\u001B[0m:\u001B[36m127\u001B[0m - \u001B[34m\u001B[1mFitting continuous column submission_id...\u001B[0m\n",
      "\u001B[32m2024-10-14 20:24:12.017\u001B[0m | \u001B[34m\u001B[1mDEBUG   \u001B[0m | \u001B[36msdgx.models.components.optimize.sdv_ctgan.data_transformer\u001B[0m:\u001B[36mfit\u001B[0m:\u001B[36m127\u001B[0m - \u001B[34m\u001B[1mFitting continuous column assignment_id...\u001B[0m\n",
      "\u001B[32m2024-10-14 20:24:12.181\u001B[0m | \u001B[34m\u001B[1mDEBUG   \u001B[0m | \u001B[36msdgx.models.components.optimize.sdv_ctgan.data_transformer\u001B[0m:\u001B[36mfit\u001B[0m:\u001B[36m127\u001B[0m - \u001B[34m\u001B[1mFitting continuous column submission_date...\u001B[0m\n",
      "\u001B[32m2024-10-14 20:24:12.345\u001B[0m | \u001B[34m\u001B[1mDEBUG   \u001B[0m | \u001B[36msdgx.models.components.optimize.sdv_ctgan.data_transformer\u001B[0m:\u001B[36mfit\u001B[0m:\u001B[36m122\u001B[0m - \u001B[34m\u001B[1mFitting discrete column grade_y...\u001B[0m\n",
      "\u001B[32m2024-10-14 20:24:12.351\u001B[0m | \u001B[1mINFO    \u001B[0m | \u001B[36msdgx.models.ml.single_table.ctgan\u001B[0m:\u001B[36m_pre_fit\u001B[0m:\u001B[36m250\u001B[0m - \u001B[1mTransforming data...\u001B[0m\n",
      "\u001B[32m2024-10-14 20:24:12.358\u001B[0m | \u001B[1mINFO    \u001B[0m | \u001B[36msdgx.data_processors.transformers.nan\u001B[0m:\u001B[36mconvert\u001B[0m:\u001B[36m110\u001B[0m - \u001B[1mConverting data using NonValueTransformer...\u001B[0m\n",
      "\u001B[32m2024-10-14 20:24:12.361\u001B[0m | \u001B[1mINFO    \u001B[0m | \u001B[36msdgx.data_processors.transformers.nan\u001B[0m:\u001B[36mconvert\u001B[0m:\u001B[36m130\u001B[0m - \u001B[1mConverting data using NonValueTransformer... Finished.\u001B[0m\n",
      "\u001B[32m2024-10-14 20:24:12.363\u001B[0m | \u001B[1mINFO    \u001B[0m | \u001B[36msdgx.data_processors.transformers.outlier\u001B[0m:\u001B[36mconvert\u001B[0m:\u001B[36m84\u001B[0m - \u001B[1mConverting data using OutlierTransformer...\u001B[0m\n",
      "\u001B[32m2024-10-14 20:24:12.365\u001B[0m | \u001B[1mINFO    \u001B[0m | \u001B[36msdgx.data_processors.transformers.outlier\u001B[0m:\u001B[36mconvert\u001B[0m:\u001B[36m106\u001B[0m - \u001B[1mConverting data using OutlierTransformer... Finished.\u001B[0m\n",
      "\u001B[32m2024-10-14 20:24:12.367\u001B[0m | \u001B[1mINFO    \u001B[0m | \u001B[36msdgx.data_processors.formatters.int\u001B[0m:\u001B[36mconvert\u001B[0m:\u001B[36m50\u001B[0m - \u001B[1mConverting data using IntValueFormatter... Finished  (No Action).\u001B[0m\n",
      "\u001B[32m2024-10-14 20:24:12.367\u001B[0m | \u001B[1mINFO    \u001B[0m | \u001B[36msdgx.data_processors.formatters.datetime\u001B[0m:\u001B[36mconvert\u001B[0m:\u001B[36m99\u001B[0m - \u001B[1mConverting data using DatetimeFormatter...\u001B[0m\n",
      "\u001B[32m2024-10-14 20:24:12.396\u001B[0m | \u001B[1mINFO    \u001B[0m | \u001B[36msdgx.data_processors.formatters.datetime\u001B[0m:\u001B[36mconvert\u001B[0m:\u001B[36m105\u001B[0m - \u001B[1mConverting data using DatetimeFormatter... Finished.\u001B[0m\n",
      "\u001B[32m2024-10-14 20:24:12.397\u001B[0m | \u001B[1mINFO    \u001B[0m | \u001B[36msdgx.data_processors.transformers.const\u001B[0m:\u001B[36mconvert\u001B[0m:\u001B[36m69\u001B[0m - \u001B[1mConverting data using ConstValueTransformer...\u001B[0m\n",
      "\u001B[32m2024-10-14 20:24:12.398\u001B[0m | \u001B[1mINFO    \u001B[0m | \u001B[36msdgx.data_processors.transformers.const\u001B[0m:\u001B[36mconvert\u001B[0m:\u001B[36m77\u001B[0m - \u001B[1mConverting data using ConstValueTransformer... Finished.\u001B[0m\n",
      "\u001B[32m2024-10-14 20:24:12.398\u001B[0m | \u001B[1mINFO    \u001B[0m | \u001B[36msdgx.data_processors.transformers.empty\u001B[0m:\u001B[36mconvert\u001B[0m:\u001B[36m72\u001B[0m - \u001B[1mConverting data using EmptyTransformer...\u001B[0m\n",
      "\u001B[32m2024-10-14 20:24:12.399\u001B[0m | \u001B[1mINFO    \u001B[0m | \u001B[36msdgx.data_processors.transformers.empty\u001B[0m:\u001B[36mconvert\u001B[0m:\u001B[36m76\u001B[0m - \u001B[1mConverting data using EmptyTransformer... Finished (No action).\u001B[0m\n",
      "\u001B[32m2024-10-14 20:24:12.399\u001B[0m | \u001B[1mINFO    \u001B[0m | \u001B[36msdgx.data_processors.transformers.column_order\u001B[0m:\u001B[36mconvert\u001B[0m:\u001B[36m51\u001B[0m - \u001B[1mConverting data using ColumnOrderTransformer...\u001B[0m\n",
      "\u001B[32m2024-10-14 20:24:12.399\u001B[0m | \u001B[1mINFO    \u001B[0m | \u001B[36msdgx.data_processors.transformers.column_order\u001B[0m:\u001B[36mconvert\u001B[0m:\u001B[36m52\u001B[0m - \u001B[1mConverting data using ColumnOrderTransformer... Finished (No action).\u001B[0m\n"
     ]
    },
    {
     "data": {
      "text/plain": [
       "Transforming data:   0%|          | 0/22 [00:00<?, ?it/s]"
      ],
      "application/vnd.jupyter.widget-view+json": {
       "version_major": 2,
       "version_minor": 0,
       "model_id": "65922daa09f846fc82c52e42809f11a5"
      }
     },
     "metadata": {},
     "output_type": "display_data"
    },
    {
     "name": "stderr",
     "output_type": "stream",
     "text": [
      "\u001B[32m2024-10-14 20:24:17.430\u001B[0m | \u001B[1mINFO    \u001B[0m | \u001B[36msdgx.models.ml.single_table.ctgan\u001B[0m:\u001B[36m_pre_fit\u001B[0m:\u001B[36m253\u001B[0m - \u001B[1mSampling data.\u001B[0m\n",
      "\u001B[32m2024-10-14 20:24:17.431\u001B[0m | \u001B[1mINFO    \u001B[0m | \u001B[36msdgx.models.ml.single_table.ctgan\u001B[0m:\u001B[36m_pre_fit\u001B[0m:\u001B[36m258\u001B[0m - \u001B[1mInitialize Generator.\u001B[0m\n",
      "\u001B[32m2024-10-14 20:24:17.433\u001B[0m | \u001B[1mINFO    \u001B[0m | \u001B[36msdgx.models.ml.single_table.ctgan\u001B[0m:\u001B[36mfit\u001B[0m:\u001B[36m223\u001B[0m - \u001B[1mCTGAN prefit finished, start CTGAN training.\u001B[0m\n",
      "\u001B[32m2024-10-14 20:24:17.434\u001B[0m | \u001B[1mINFO    \u001B[0m | \u001B[36msdgx.models.ml.single_table.ctgan\u001B[0m:\u001B[36m_fit\u001B[0m:\u001B[36m276\u001B[0m - \u001B[1mFit using data_size:1193, data_dim: 117.\u001B[0m\n",
      "\u001B[32m2024-10-14 20:24:17.436\u001B[0m | \u001B[1mINFO    \u001B[0m | \u001B[36msdgx.models.ml.single_table.ctgan\u001B[0m:\u001B[36m_fit\u001B[0m:\u001B[36m302\u001B[0m - \u001B[1mStarting model training, epochs: 1\u001B[0m\n"
     ]
    },
    {
     "name": "stdout",
     "output_type": "stream",
     "text": [
      "[ColumnTransformInfo(column_name='loan_id', column_type='continuous', transform=ClusterBasedNormalizer(model_missing_values=True), output_info=[SpanInfo(dim=1, activation_fn='tanh'), SpanInfo(dim=7, activation_fn='softmax')], output_dimensions=8), ColumnTransformInfo(column_name='book_id', column_type='continuous', transform=ClusterBasedNormalizer(model_missing_values=True), output_info=[SpanInfo(dim=1, activation_fn='tanh'), SpanInfo(dim=6, activation_fn='softmax')], output_dimensions=7), ColumnTransformInfo(column_name='student_id', column_type='continuous', transform=ClusterBasedNormalizer(model_missing_values=True), output_info=[SpanInfo(dim=1, activation_fn='tanh'), SpanInfo(dim=6, activation_fn='softmax')], output_dimensions=7), ColumnTransformInfo(column_name='loan_date', column_type='continuous', transform=ClusterBasedNormalizer(model_missing_values=True), output_info=[SpanInfo(dim=1, activation_fn='tanh'), SpanInfo(dim=7, activation_fn='softmax')], output_dimensions=8), ColumnTransformInfo(column_name='return_date', column_type='continuous', transform=ClusterBasedNormalizer(model_missing_values=True), output_info=[SpanInfo(dim=1, activation_fn='tanh'), SpanInfo(dim=7, activation_fn='softmax')], output_dimensions=8), ColumnTransformInfo(column_name='title', column_type='discrete', transform=LabelEncoder(order_by='alphabetical'), output_info=[SpanInfo(dim=1, activation_fn='liner')], output_dimensions=1), ColumnTransformInfo(column_name='author', column_type='discrete', transform=LabelEncoder(order_by='alphabetical'), output_info=[SpanInfo(dim=1, activation_fn='liner')], output_dimensions=1), ColumnTransformInfo(column_name='isbn', column_type='discrete', transform=LabelEncoder(order_by='alphabetical'), output_info=[SpanInfo(dim=1, activation_fn='liner')], output_dimensions=1), ColumnTransformInfo(column_name='library_id', column_type='continuous', transform=ClusterBasedNormalizer(model_missing_values=True), output_info=[SpanInfo(dim=1, activation_fn='tanh'), SpanInfo(dim=8, activation_fn='softmax')], output_dimensions=9), ColumnTransformInfo(column_name='name_x', column_type='discrete', transform=LabelEncoder(order_by='alphabetical'), output_info=[SpanInfo(dim=1, activation_fn='liner')], output_dimensions=1), ColumnTransformInfo(column_name='location', column_type='discrete', transform=LabelEncoder(order_by='alphabetical'), output_info=[SpanInfo(dim=1, activation_fn='liner')], output_dimensions=1), ColumnTransformInfo(column_name='name_y', column_type='discrete', transform=LabelEncoder(order_by='alphabetical'), output_info=[SpanInfo(dim=1, activation_fn='liner')], output_dimensions=1), ColumnTransformInfo(column_name='date_of_birth', column_type='continuous', transform=ClusterBasedNormalizer(model_missing_values=True), output_info=[SpanInfo(dim=1, activation_fn='tanh'), SpanInfo(dim=8, activation_fn='softmax')], output_dimensions=9), ColumnTransformInfo(column_name='major', column_type='continuous', transform=ClusterBasedNormalizer(model_missing_values=True), output_info=[SpanInfo(dim=1, activation_fn='tanh'), SpanInfo(dim=9, activation_fn='softmax')], output_dimensions=10), ColumnTransformInfo(column_name='enrollment_id', column_type='continuous', transform=ClusterBasedNormalizer(model_missing_values=True), output_info=[SpanInfo(dim=1, activation_fn='tanh'), SpanInfo(dim=7, activation_fn='softmax')], output_dimensions=8), ColumnTransformInfo(column_name='course_id', column_type='continuous', transform=ClusterBasedNormalizer(model_missing_values=True), output_info=[SpanInfo(dim=1, activation_fn='tanh'), SpanInfo(dim=7, activation_fn='softmax')], output_dimensions=8), ColumnTransformInfo(column_name='semester', column_type='discrete', transform=LabelEncoder(order_by='alphabetical'), output_info=[SpanInfo(dim=1, activation_fn='liner')], output_dimensions=1), ColumnTransformInfo(column_name='grade_x', column_type='discrete', transform=LabelEncoder(order_by='alphabetical'), output_info=[SpanInfo(dim=1, activation_fn='liner')], output_dimensions=1), ColumnTransformInfo(column_name='submission_id', column_type='continuous', transform=ClusterBasedNormalizer(model_missing_values=True), output_info=[SpanInfo(dim=1, activation_fn='tanh'), SpanInfo(dim=7, activation_fn='softmax')], output_dimensions=8), ColumnTransformInfo(column_name='assignment_id', column_type='continuous', transform=ClusterBasedNormalizer(model_missing_values=True), output_info=[SpanInfo(dim=1, activation_fn='tanh'), SpanInfo(dim=10, activation_fn='softmax')], output_dimensions=11), ColumnTransformInfo(column_name='submission_date', column_type='continuous', transform=ClusterBasedNormalizer(model_missing_values=True), output_info=[SpanInfo(dim=1, activation_fn='tanh'), SpanInfo(dim=6, activation_fn='softmax')], output_dimensions=7), ColumnTransformInfo(column_name='grade_y', column_type='discrete', transform=LabelEncoder(order_by='alphabetical'), output_info=[SpanInfo(dim=1, activation_fn='liner')], output_dimensions=1)]\n"
     ]
    },
    {
     "data": {
      "text/plain": [
       "Fitting batches:   0%|          | 0/2 [00:00<?, ?it/s]"
      ],
      "application/vnd.jupyter.widget-view+json": {
       "version_major": 2,
       "version_minor": 0,
       "model_id": "bdf11dff83ca441cb8026017a8477834"
      }
     },
     "metadata": {},
     "output_type": "display_data"
    },
    {
     "name": "stderr",
     "output_type": "stream",
     "text": [
      "\u001B[32m2024-10-14 20:24:17.542\u001B[0m | \u001B[1mINFO    \u001B[0m | \u001B[36msdgx.models.ml.single_table.ctgan\u001B[0m:\u001B[36m_fit\u001B[0m:\u001B[36m383\u001B[0m - \u001B[1mEpoch 1, Loss G:  0.0474, Loss D:  0.0212, Time:  0.1057\u001B[0m\n",
      "\u001B[32m2024-10-14 20:24:17.543\u001B[0m | \u001B[1mINFO    \u001B[0m | \u001B[36msdgx.models.ml.single_table.ctgan\u001B[0m:\u001B[36mfit\u001B[0m:\u001B[36m225\u001B[0m - \u001B[1mCTGAN training finished.\u001B[0m\n",
      "\u001B[32m2024-10-14 20:24:17.543\u001B[0m | \u001B[1mINFO    \u001B[0m | \u001B[36msdgx.synthesizer\u001B[0m:\u001B[36mfit\u001B[0m:\u001B[36m333\u001B[0m - \u001B[1mModel fit... Finished\u001B[0m\n"
     ]
    }
   ],
   "execution_count": 34
  },
  {
   "cell_type": "code",
   "metadata": {
    "ExecuteTime": {
     "end_time": "2024-10-14T12:24:18.066008Z",
     "start_time": "2024-10-14T12:24:17.551955Z"
    }
   },
   "source": "data_res = synthesizer.sample(1000)",
   "outputs": [
    {
     "name": "stderr",
     "output_type": "stream",
     "text": [
      "\u001B[32m2024-10-14 20:24:17.552\u001B[0m | \u001B[1mINFO    \u001B[0m | \u001B[36msdgx.synthesizer\u001B[0m:\u001B[36msample\u001B[0m:\u001B[36m357\u001B[0m - \u001B[1mSampling...\u001B[0m\n"
     ]
    },
    {
     "data": {
      "text/plain": [
       "Sampling:   0%|          | 0/1000 [00:00<?, ?it/s]"
      ],
      "application/vnd.jupyter.widget-view+json": {
       "version_major": 2,
       "version_minor": 0,
       "model_id": "4e85f31122bb42aea0707442f316a2b7"
      }
     },
     "metadata": {},
     "output_type": "display_data"
    },
    {
     "data": {
      "text/plain": [
       "Sampling batches:   0%|          | 0/3 [00:00<?, ?it/s]"
      ],
      "application/vnd.jupyter.widget-view+json": {
       "version_major": 2,
       "version_minor": 0,
       "model_id": "33849452dd2f4a2284828628871ef2a7"
      }
     },
     "metadata": {},
     "output_type": "display_data"
    },
    {
     "data": {
      "text/plain": [
       "Inverse transforming:   0%|          | 0/22 [00:00<?, ?it/s]"
      ],
      "application/vnd.jupyter.widget-view+json": {
       "version_major": 2,
       "version_minor": 0,
       "model_id": "876593e6f33e4af294598353a9227dab"
      }
     },
     "metadata": {},
     "output_type": "display_data"
    },
    {
     "name": "stderr",
     "output_type": "stream",
     "text": [
      "\u001B[32m2024-10-14 20:24:17.834\u001B[0m | \u001B[1mINFO    \u001B[0m | \u001B[36msdgx.data_processors.transformers.nan\u001B[0m:\u001B[36mreverse_convert\u001B[0m:\u001B[36m155\u001B[0m - \u001B[1mData reverse-converted by NonValueTransformer.\u001B[0m\n",
      "\u001B[32m2024-10-14 20:24:17.836\u001B[0m | \u001B[1mINFO    \u001B[0m | \u001B[36msdgx.data_processors.transformers.outlier\u001B[0m:\u001B[36mreverse_convert\u001B[0m:\u001B[36m120\u001B[0m - \u001B[1mData reverse-converted by OutlierTransformer (No Action).\u001B[0m\n",
      "\u001B[32m2024-10-14 20:24:18.040\u001B[0m | \u001B[1mINFO    \u001B[0m | \u001B[36msdgx.data_processors.formatters.int\u001B[0m:\u001B[36mreverse_convert\u001B[0m:\u001B[36m64\u001B[0m - \u001B[1mData reverse-converted by IntValueFormatter.\u001B[0m\n",
      "\u001B[32m2024-10-14 20:24:18.040\u001B[0m | \u001B[1mINFO    \u001B[0m | \u001B[36msdgx.data_processors.formatters.datetime\u001B[0m:\u001B[36mreverse_convert\u001B[0m:\u001B[36m165\u001B[0m - \u001B[1mData reverse-converting by DatetimeFormatter...\u001B[0m\n",
      "\u001B[32m2024-10-14 20:24:18.041\u001B[0m | \u001B[1mINFO    \u001B[0m | \u001B[36msdgx.data_processors.formatters.datetime\u001B[0m:\u001B[36mreverse_convert\u001B[0m:\u001B[36m167\u001B[0m - \u001B[1mparameters : ['return_date', 'submission_date', 'date_of_birth', 'loan_date'], {'return_date': '%Y-%m-%d', 'date_of_birth': '%Y-%m-%d', 'loan_date': '%Y-%m-%d', 'submission_date': '%Y-%m-%d %H:%M:%S'}\u001B[0m\n",
      "\u001B[32m2024-10-14 20:24:18.057\u001B[0m | \u001B[1mINFO    \u001B[0m | \u001B[36msdgx.data_processors.formatters.datetime\u001B[0m:\u001B[36mreverse_convert\u001B[0m:\u001B[36m173\u001B[0m - \u001B[1mData reverse-converted by DatetimeFormatter... Finished.\u001B[0m\n",
      "\u001B[32m2024-10-14 20:24:18.058\u001B[0m | \u001B[1mINFO    \u001B[0m | \u001B[36msdgx.data_processors.transformers.const\u001B[0m:\u001B[36mreverse_convert\u001B[0m:\u001B[36m103\u001B[0m - \u001B[1mData reverse-converted by ConstValueTransformer.\u001B[0m\n",
      "\u001B[32m2024-10-14 20:24:18.058\u001B[0m | \u001B[1mINFO    \u001B[0m | \u001B[36msdgx.data_processors.transformers.empty\u001B[0m:\u001B[36mreverse_convert\u001B[0m:\u001B[36m98\u001B[0m - \u001B[1mData reverse-converted by EmptyTransformer.\u001B[0m\n",
      "\u001B[32m2024-10-14 20:24:18.059\u001B[0m | \u001B[1mINFO    \u001B[0m | \u001B[36msdgx.data_processors.transformers.column_order\u001B[0m:\u001B[36mreverse_convert\u001B[0m:\u001B[36m62\u001B[0m - \u001B[1mData reverse-converted by ColumnOrderTransformer.\u001B[0m\n"
     ]
    }
   ],
   "execution_count": 35
  },
  {
   "metadata": {
    "ExecuteTime": {
     "end_time": "2024-10-14T12:24:18.081954Z",
     "start_time": "2024-10-14T12:24:18.067004Z"
    }
   },
   "cell_type": "code",
   "source": "data_res.to_csv(\"test_1k_simulate.csv\", index=False)",
   "outputs": [],
   "execution_count": 36
  },
  {
   "metadata": {
    "ExecuteTime": {
     "end_time": "2024-10-14T12:24:18.096904Z",
     "start_time": "2024-10-14T12:24:18.082947Z"
    }
   },
   "cell_type": "code",
   "source": "",
   "outputs": [],
   "execution_count": 36
  },
  {
   "metadata": {
    "ExecuteTime": {
     "end_time": "2024-10-14T12:24:18.112847Z",
     "start_time": "2024-10-14T12:24:18.097898Z"
    }
   },
   "cell_type": "code",
   "source": "",
   "outputs": [],
   "execution_count": 36
  }
 ],
 "metadata": {
  "kernelspec": {
   "display_name": "sdg10",
   "language": "python",
   "name": "python3"
  },
  "language_info": {
   "codemirror_mode": {
    "name": "ipython",
    "version": 3
   },
   "file_extension": ".py",
   "mimetype": "text/x-python",
   "name": "python",
   "nbconvert_exporter": "python",
   "pygments_lexer": "ipython3",
   "version": "3.10.14"
  }
 },
 "nbformat": 4,
 "nbformat_minor": 2
}
