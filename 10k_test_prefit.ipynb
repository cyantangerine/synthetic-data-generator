{
 "cells": [
  {
   "cell_type": "code",
   "execution_count": null,
   "metadata": {},
   "outputs": [],
   "source": [
    "# from redirector import WriteableRedirector\n",
    "# we = WriteableRedirector()\n",
    "# we.__enter__()\n",
    "import time\n",
    "from mycode.test_20_tables import fetch_data_from_sqlite, Metadata\n",
    "from sdgx.data_connectors.csv_connector import CsvConnector\n",
    "from sdgx.models.ml.single_table.ctgan import CTGANSynthesizerModel\n",
    "from sdgx.synthesizer import Synthesizer\n",
    "# from sdgx.utils import download_demo_data\n",
    "metadata, tables = fetch_data_from_sqlite(path='./mycode/data_sqlite.db')\n",
    "metadata = Metadata(metadata)\n",
    "metadata.get_tables()\n",
    "import pandas as pd\n",
    "result_table = tables[\"BookLoan\"]\n",
    "x_table = [\"Book\", \"Library\", \"Student\", \"Enrollment\", \"Submission\"]\n",
    "x_key = ['book_id', \"library_id\", \"student_id\", \"student_id\",\"student_id\"]\n",
    "x_how = ['outer', 'outer', \"outer\", 'outer', \"outer\"]\n",
    "print(f\"{len(result_table)=}\")\n",
    "for i, x_table_name in enumerate(x_table):\n",
    "    result_table = pd.merge(result_table, tables[x_table_name], on=x_key[i], how=x_how[i])\n",
    "    print(f\"{len(result_table)=}\")\n",
    "print(len(result_table.columns))\n",
    "result_table\n",
    "\n",
    "# This will download demo data to ./dataset\n",
    "#dataset_csv = download_demo_data()\n",
    "result_table.to_csv(\"test_10k.csv\")\n",
    "dataset_csv = \"test_10k.csv\"\n",
    "# Create data connector for csv file\n",
    "data_connector = CsvConnector(path=dataset_csv)\n",
    "ctgan = CTGANSynthesizerModel(\n",
    "        epochs=1,\n",
    "        batch_size=1000,\n",
    "        device=\"cpu\"\n",
    "    )\n",
    "# Initialize synthesizer, use CTGAN model\n",
    "synthesizer = Synthesizer(\n",
    "    model=ctgan,  # For quick demo\n",
    "    data_connector=data_connector,\n",
    ")\n",
    "\n",
    "def writetime():\n",
    "    st = time.time()\n",
    "    with open(\"time.log\", \"a+\") as f:\n",
    "        f.write(str(st) + \"\\n\")\n",
    "# Fit the model\n",
    "writetime()\n",
    "synthesizer.fit()\n",
    "writetime()\n",
    "synthesizer.save(\"test_model_10k_id0\")"
   ]
  },
  {
   "cell_type": "code",
   "execution_count": null,
   "metadata": {},
   "outputs": [],
   "source": [
    "# synthesizer.save(\"test_model_10k\")"
   ]
  },
  {
   "cell_type": "code",
   "execution_count": 1,
   "metadata": {},
   "outputs": [
    {
     "name": "stderr",
     "output_type": "stream",
     "text": [
      "2024-09-26 17:00:50.087 | INFO     | sdgx.synthesizer:load:218 - Loading synthesizer from /home/wbx/synthetic-data-generator/test_model_10k_id0\n",
      "2024-09-26 17:00:50.095 | WARNING  | sdgx.synthesizer:__init__:99 - No data_connector provided, will not support `fit`\n",
      "2024-09-26 17:00:50.165 | INFO     | sdgx.synthesizer:__init__:106 - Using data processors: ['nonvaluetransformer', 'outliertransformer', 'emailgenerator', 'chnpiigenerator', 'intvalueformatter', 'datetimeformatter', 'constvaluetransformer', 'emptytransformer', 'columnordertransformer']\n",
      "2024-09-26 17:01:28.962 | WARNING  | sdgx.synthesizer:__init__:143 - model_kwargs will be ignored when loading model from model_path\n"
     ]
    }
   ],
   "source": [
    "from sdgx.models.ml.single_table.ctgan import CTGANSynthesizerModel\n",
    "from sdgx.synthesizer import Synthesizer\n",
    "synthesizer = Synthesizer.load(\"test_model_10k_id0\", CTGANSynthesizerModel, model_kwargs={\n",
    "    \"device\": \"cpu\"\n",
    "})"
   ]
  },
  {
   "cell_type": "code",
   "execution_count": 2,
   "metadata": {},
   "outputs": [
    {
     "name": "stderr",
     "output_type": "stream",
     "text": [
      "2024-09-26 17:01:39.030 | INFO     | sdgx.synthesizer:sample:357 - Sampling...\n"
     ]
    },
    {
     "data": {
      "application/vnd.jupyter.widget-view+json": {
       "model_id": "00b176c0e08b416e94bbf50b8520f90c",
       "version_major": 2,
       "version_minor": 0
      },
      "text/plain": [
       "  0%|          | 0/10000 [00:00<?, ?it/s]"
      ]
     },
     "metadata": {},
     "output_type": "display_data"
    },
    {
     "data": {
      "application/vnd.jupyter.widget-view+json": {
       "model_id": "34b6bdcd53394266842696fc08ce44d1",
       "version_major": 2,
       "version_minor": 0
      },
      "text/plain": [
       "  0%|          | 0/13 [00:00<?, ?it/s]"
      ]
     },
     "metadata": {},
     "output_type": "display_data"
    },
    {
     "data": {
      "application/vnd.jupyter.widget-view+json": {
       "model_id": "8a7d45e92190401c95e0875aa8b4cc77",
       "version_major": 2,
       "version_minor": 0
      },
      "text/plain": [
       "  0%|          | 0/1000 [00:00<?, ?it/s]"
      ]
     },
     "metadata": {},
     "output_type": "display_data"
    },
    {
     "data": {
      "application/vnd.jupyter.widget-view+json": {
       "model_id": "3580c73fefde4f369f27f31b57c0cf95",
       "version_major": 2,
       "version_minor": 0
      },
      "text/plain": [
       "  0%|          | 0/1000 [00:00<?, ?it/s]"
      ]
     },
     "metadata": {},
     "output_type": "display_data"
    },
    {
     "data": {
      "application/vnd.jupyter.widget-view+json": {
       "model_id": "dfa8bd431dab4d7e8adf72f2db91ce26",
       "version_major": 2,
       "version_minor": 0
      },
      "text/plain": [
       "  0%|          | 0/1000 [00:00<?, ?it/s]"
      ]
     },
     "metadata": {},
     "output_type": "display_data"
    },
    {
     "data": {
      "application/vnd.jupyter.widget-view+json": {
       "model_id": "482e8295de444302b94777a17f57fbc0",
       "version_major": 2,
       "version_minor": 0
      },
      "text/plain": [
       "  0%|          | 0/1000 [00:00<?, ?it/s]"
      ]
     },
     "metadata": {},
     "output_type": "display_data"
    },
    {
     "data": {
      "application/vnd.jupyter.widget-view+json": {
       "model_id": "4b681731225d4f6c81493b19ddae3d10",
       "version_major": 2,
       "version_minor": 0
      },
      "text/plain": [
       "  0%|          | 0/1000 [00:00<?, ?it/s]"
      ]
     },
     "metadata": {},
     "output_type": "display_data"
    },
    {
     "data": {
      "application/vnd.jupyter.widget-view+json": {
       "model_id": "6b9f1e248d134ae5a262f365161e9c05",
       "version_major": 2,
       "version_minor": 0
      },
      "text/plain": [
       "  0%|          | 0/1000 [00:00<?, ?it/s]"
      ]
     },
     "metadata": {},
     "output_type": "display_data"
    },
    {
     "data": {
      "application/vnd.jupyter.widget-view+json": {
       "model_id": "01a16a7770604399885716a5514aae12",
       "version_major": 2,
       "version_minor": 0
      },
      "text/plain": [
       "  0%|          | 0/1000 [00:00<?, ?it/s]"
      ]
     },
     "metadata": {},
     "output_type": "display_data"
    },
    {
     "data": {
      "application/vnd.jupyter.widget-view+json": {
       "model_id": "b5a5fdbf94a849a5945164e546ef6c94",
       "version_major": 2,
       "version_minor": 0
      },
      "text/plain": [
       "  0%|          | 0/1000 [00:00<?, ?it/s]"
      ]
     },
     "metadata": {},
     "output_type": "display_data"
    },
    {
     "data": {
      "application/vnd.jupyter.widget-view+json": {
       "model_id": "ccec4aa0a66a4613b05b182432e3d3b7",
       "version_major": 2,
       "version_minor": 0
      },
      "text/plain": [
       "  0%|          | 0/1000 [00:00<?, ?it/s]"
      ]
     },
     "metadata": {},
     "output_type": "display_data"
    },
    {
     "data": {
      "application/vnd.jupyter.widget-view+json": {
       "model_id": "a9f7e76697bd41ce8eebe4e8e603bf35",
       "version_major": 2,
       "version_minor": 0
      },
      "text/plain": [
       "  0%|          | 0/1000 [00:00<?, ?it/s]"
      ]
     },
     "metadata": {},
     "output_type": "display_data"
    },
    {
     "data": {
      "application/vnd.jupyter.widget-view+json": {
       "model_id": "b70467ec6de14212a74830fbfd23b96a",
       "version_major": 2,
       "version_minor": 0
      },
      "text/plain": [
       "  0%|          | 0/1000 [00:00<?, ?it/s]"
      ]
     },
     "metadata": {},
     "output_type": "display_data"
    },
    {
     "data": {
      "application/vnd.jupyter.widget-view+json": {
       "model_id": "f287ec7c4b034b1aaf9ebbba99acecd0",
       "version_major": 2,
       "version_minor": 0
      },
      "text/plain": [
       "  0%|          | 0/1000 [00:00<?, ?it/s]"
      ]
     },
     "metadata": {},
     "output_type": "display_data"
    },
    {
     "data": {
      "application/vnd.jupyter.widget-view+json": {
       "model_id": "dfff2dc224a44e5483be5a836877ade0",
       "version_major": 2,
       "version_minor": 0
      },
      "text/plain": [
       "  0%|          | 0/1000 [00:00<?, ?it/s]"
      ]
     },
     "metadata": {},
     "output_type": "display_data"
    },
    {
     "name": "stderr",
     "output_type": "stream",
     "text": [
      "2024-09-26 22:36:58.795 | INFO     | sdgx.data_processors.transformers.nan:reverse_convert:155 - Data reverse-converted by NonValueTransformer.\n",
      "2024-09-26 22:36:58.816 | INFO     | sdgx.data_processors.transformers.outlier:reverse_convert:120 - Data reverse-converted by OutlierTransformer (No Action).\n",
      "2024-09-26 22:36:58.818 | INFO     | sdgx.data_processors.formatters.int:reverse_convert:64 - Data reverse-converted by IntValueFormatter.\n",
      "2024-09-26 22:36:58.819 | INFO     | sdgx.data_processors.formatters.datetime:reverse_convert:162 - Data reverse-converted by DatetimeFormatter (No datetime columns).\n",
      "2024-09-26 22:36:58.819 | INFO     | sdgx.data_processors.transformers.const:reverse_convert:103 - Data reverse-converted by ConstValueTransformer.\n",
      "2024-09-26 22:36:58.820 | INFO     | sdgx.data_processors.transformers.empty:reverse_convert:98 - Data reverse-converted by EmptyTransformer.\n",
      "2024-09-26 22:36:58.827 | INFO     | sdgx.data_processors.transformers.column_order:reverse_convert:62 - Data reverse-converted by ColumnOrderTransformer.\n"
     ]
    },
    {
     "data": {
      "text/html": [
       "<div>\n",
       "<style scoped>\n",
       "    .dataframe tbody tr th:only-of-type {\n",
       "        vertical-align: middle;\n",
       "    }\n",
       "\n",
       "    .dataframe tbody tr th {\n",
       "        vertical-align: top;\n",
       "    }\n",
       "\n",
       "    .dataframe thead th {\n",
       "        text-align: right;\n",
       "    }\n",
       "</style>\n",
       "<table border=\"1\" class=\"dataframe\">\n",
       "  <thead>\n",
       "    <tr style=\"text-align: right;\">\n",
       "      <th></th>\n",
       "      <th>Unnamed: 0</th>\n",
       "      <th>loan_id</th>\n",
       "      <th>book_id</th>\n",
       "      <th>student_id</th>\n",
       "      <th>loan_date</th>\n",
       "      <th>return_date</th>\n",
       "      <th>title</th>\n",
       "      <th>author</th>\n",
       "      <th>isbn</th>\n",
       "      <th>library_id</th>\n",
       "      <th>...</th>\n",
       "      <th>date_of_birth</th>\n",
       "      <th>major</th>\n",
       "      <th>enrollment_id</th>\n",
       "      <th>course_id</th>\n",
       "      <th>semester</th>\n",
       "      <th>grade_x</th>\n",
       "      <th>submission_id</th>\n",
       "      <th>assignment_id</th>\n",
       "      <th>submission_date</th>\n",
       "      <th>grade_y</th>\n",
       "    </tr>\n",
       "  </thead>\n",
       "  <tbody>\n",
       "    <tr>\n",
       "      <th>0</th>\n",
       "      <td>20204</td>\n",
       "      <td>5899</td>\n",
       "      <td>3522</td>\n",
       "      <td>2572</td>\n",
       "      <td>2024-07-30</td>\n",
       "      <td>2025-04-24</td>\n",
       "      <td>Game compare room.</td>\n",
       "      <td>Paul Woods</td>\n",
       "      <td>978-0-495-59545-8</td>\n",
       "      <td>8530</td>\n",
       "      <td>...</td>\n",
       "      <td>2004-03-14</td>\n",
       "      <td>5284</td>\n",
       "      <td>4814</td>\n",
       "      <td>-43</td>\n",
       "      <td>Winter 2023</td>\n",
       "      <td>D</td>\n",
       "      <td>2926</td>\n",
       "      <td>9311</td>\n",
       "      <td>2022-11-18 03:57:40</td>\n",
       "      <td>D</td>\n",
       "    </tr>\n",
       "    <tr>\n",
       "      <th>1</th>\n",
       "      <td>25504</td>\n",
       "      <td>8402</td>\n",
       "      <td>2986</td>\n",
       "      <td>3751</td>\n",
       "      <td>2024-07-14</td>\n",
       "      <td>2024-09-23</td>\n",
       "      <td>Central natural.</td>\n",
       "      <td>Dale Tucker DVM</td>\n",
       "      <td>978-0-641-06256-8</td>\n",
       "      <td>1211</td>\n",
       "      <td>...</td>\n",
       "      <td>2001-03-27</td>\n",
       "      <td>6152</td>\n",
       "      <td>3154</td>\n",
       "      <td>2691</td>\n",
       "      <td>Summer 2020</td>\n",
       "      <td>D</td>\n",
       "      <td>10111</td>\n",
       "      <td>3868</td>\n",
       "      <td>2022-10-04 10:19:38</td>\n",
       "      <td>B</td>\n",
       "    </tr>\n",
       "    <tr>\n",
       "      <th>2</th>\n",
       "      <td>17396</td>\n",
       "      <td>4375</td>\n",
       "      <td>27</td>\n",
       "      <td>8781</td>\n",
       "      <td>2023-11-22</td>\n",
       "      <td>2024-10-17</td>\n",
       "      <td>Difficult four.</td>\n",
       "      <td>Hayley Jones</td>\n",
       "      <td>978-0-403-88122-2</td>\n",
       "      <td>1290</td>\n",
       "      <td>...</td>\n",
       "      <td>2005-11-23</td>\n",
       "      <td>401</td>\n",
       "      <td>9334</td>\n",
       "      <td>124</td>\n",
       "      <td>Summer 2022</td>\n",
       "      <td>F</td>\n",
       "      <td>3919</td>\n",
       "      <td>6301</td>\n",
       "      <td>2022-09-28 08:59:39</td>\n",
       "      <td>B</td>\n",
       "    </tr>\n",
       "    <tr>\n",
       "      <th>3</th>\n",
       "      <td>19399</td>\n",
       "      <td>5043</td>\n",
       "      <td>2297</td>\n",
       "      <td>7840</td>\n",
       "      <td>2024-06-27</td>\n",
       "      <td>2024-11-11</td>\n",
       "      <td>Reflect pretty training.</td>\n",
       "      <td>Emily Woods</td>\n",
       "      <td>978-1-101-85356-6</td>\n",
       "      <td>3750</td>\n",
       "      <td>...</td>\n",
       "      <td>1997-09-25</td>\n",
       "      <td>4565</td>\n",
       "      <td>5132</td>\n",
       "      <td>6119</td>\n",
       "      <td>Spring 2022</td>\n",
       "      <td>B</td>\n",
       "      <td>2016</td>\n",
       "      <td>8035</td>\n",
       "      <td>2022-05-01 09:40:29</td>\n",
       "      <td></td>\n",
       "    </tr>\n",
       "    <tr>\n",
       "      <th>4</th>\n",
       "      <td>19813</td>\n",
       "      <td>8260</td>\n",
       "      <td>7163</td>\n",
       "      <td>6467</td>\n",
       "      <td>2023-12-26</td>\n",
       "      <td>2024-09-26</td>\n",
       "      <td>Dinner offer other treatment.</td>\n",
       "      <td>Krystal Smith</td>\n",
       "      <td>978-0-7224-4555-6</td>\n",
       "      <td>6068</td>\n",
       "      <td>...</td>\n",
       "      <td>2002-10-20</td>\n",
       "      <td>5430</td>\n",
       "      <td>3766</td>\n",
       "      <td>5944</td>\n",
       "      <td>Winter 2021</td>\n",
       "      <td>A</td>\n",
       "      <td>10283</td>\n",
       "      <td>-1</td>\n",
       "      <td>2022-11-13 08:24:56</td>\n",
       "      <td></td>\n",
       "    </tr>\n",
       "    <tr>\n",
       "      <th>...</th>\n",
       "      <td>...</td>\n",
       "      <td>...</td>\n",
       "      <td>...</td>\n",
       "      <td>...</td>\n",
       "      <td>...</td>\n",
       "      <td>...</td>\n",
       "      <td>...</td>\n",
       "      <td>...</td>\n",
       "      <td>...</td>\n",
       "      <td>...</td>\n",
       "      <td>...</td>\n",
       "      <td>...</td>\n",
       "      <td>...</td>\n",
       "      <td>...</td>\n",
       "      <td>...</td>\n",
       "      <td>...</td>\n",
       "      <td>...</td>\n",
       "      <td>...</td>\n",
       "      <td>...</td>\n",
       "      <td>...</td>\n",
       "      <td>...</td>\n",
       "    </tr>\n",
       "    <tr>\n",
       "      <th>9995</th>\n",
       "      <td>6855</td>\n",
       "      <td>5352</td>\n",
       "      <td>425</td>\n",
       "      <td>1074</td>\n",
       "      <td>2024-03-03</td>\n",
       "      <td>2024-11-16</td>\n",
       "      <td>Event late each.</td>\n",
       "      <td>Chad Heath</td>\n",
       "      <td>978-0-09-290196-6</td>\n",
       "      <td>6743</td>\n",
       "      <td>...</td>\n",
       "      <td>2003-09-01</td>\n",
       "      <td>1408</td>\n",
       "      <td>2974</td>\n",
       "      <td>7330</td>\n",
       "      <td>Fall 2020</td>\n",
       "      <td>A</td>\n",
       "      <td>10135</td>\n",
       "      <td>527</td>\n",
       "      <td>2022-01-17 05:52:29</td>\n",
       "      <td></td>\n",
       "    </tr>\n",
       "    <tr>\n",
       "      <th>9996</th>\n",
       "      <td>1259</td>\n",
       "      <td>6217</td>\n",
       "      <td>-33</td>\n",
       "      <td>2480</td>\n",
       "      <td>2023-10-19</td>\n",
       "      <td>2025-09-02</td>\n",
       "      <td>Firm message.</td>\n",
       "      <td>Chelsea Butler</td>\n",
       "      <td>978-0-86333-725-3</td>\n",
       "      <td>5331</td>\n",
       "      <td>...</td>\n",
       "      <td>1995-04-07</td>\n",
       "      <td>1442</td>\n",
       "      <td>1895</td>\n",
       "      <td>487</td>\n",
       "      <td>Winter 2022</td>\n",
       "      <td></td>\n",
       "      <td>10331</td>\n",
       "      <td>648</td>\n",
       "      <td>2022-04-06 19:45:59</td>\n",
       "      <td>F</td>\n",
       "    </tr>\n",
       "    <tr>\n",
       "      <th>9997</th>\n",
       "      <td>9327</td>\n",
       "      <td>8249</td>\n",
       "      <td>4044</td>\n",
       "      <td>2923</td>\n",
       "      <td>2024-06-19</td>\n",
       "      <td>2024-09-29</td>\n",
       "      <td>Important himself produce.</td>\n",
       "      <td>Grant Williams</td>\n",
       "      <td>978-0-527-22913-9</td>\n",
       "      <td>6894</td>\n",
       "      <td>...</td>\n",
       "      <td>1997-01-03</td>\n",
       "      <td>3322</td>\n",
       "      <td>3690</td>\n",
       "      <td>5928</td>\n",
       "      <td>Winter 2022</td>\n",
       "      <td>D</td>\n",
       "      <td>633</td>\n",
       "      <td>-7</td>\n",
       "      <td>2022-05-11 09:16:01</td>\n",
       "      <td>D</td>\n",
       "    </tr>\n",
       "    <tr>\n",
       "      <th>9998</th>\n",
       "      <td>11967</td>\n",
       "      <td>721</td>\n",
       "      <td>4179</td>\n",
       "      <td>6738</td>\n",
       "      <td>2024-08-22</td>\n",
       "      <td>2024-11-28</td>\n",
       "      <td>Itself economic.</td>\n",
       "      <td>Kelly Robinson</td>\n",
       "      <td>978-1-997903-51-2</td>\n",
       "      <td>8058</td>\n",
       "      <td>...</td>\n",
       "      <td>1997-11-27</td>\n",
       "      <td>7139</td>\n",
       "      <td>4927</td>\n",
       "      <td>8808</td>\n",
       "      <td>Fall 2022</td>\n",
       "      <td>F</td>\n",
       "      <td>-26</td>\n",
       "      <td>9356</td>\n",
       "      <td>2022-02-14 18:25:06</td>\n",
       "      <td>B</td>\n",
       "    </tr>\n",
       "    <tr>\n",
       "      <th>9999</th>\n",
       "      <td>1455</td>\n",
       "      <td>9353</td>\n",
       "      <td>7513</td>\n",
       "      <td>2162</td>\n",
       "      <td>2024-07-16</td>\n",
       "      <td>2025-04-10</td>\n",
       "      <td>Loss visit human.</td>\n",
       "      <td>Lauren Bradford</td>\n",
       "      <td>978-0-7233-0063-2</td>\n",
       "      <td>4685</td>\n",
       "      <td>...</td>\n",
       "      <td>1996-10-19</td>\n",
       "      <td>432</td>\n",
       "      <td>5174</td>\n",
       "      <td>1141</td>\n",
       "      <td>Spring 2023</td>\n",
       "      <td>A</td>\n",
       "      <td>610</td>\n",
       "      <td>8139</td>\n",
       "      <td>2022-06-23 02:46:51</td>\n",
       "      <td></td>\n",
       "    </tr>\n",
       "  </tbody>\n",
       "</table>\n",
       "<p>10000 rows × 23 columns</p>\n",
       "</div>"
      ],
      "text/plain": [
       "      Unnamed: 0  loan_id  book_id  student_id   loan_date return_date  \\\n",
       "0          20204     5899     3522        2572  2024-07-30  2025-04-24   \n",
       "1          25504     8402     2986        3751  2024-07-14  2024-09-23   \n",
       "2          17396     4375       27        8781  2023-11-22  2024-10-17   \n",
       "3          19399     5043     2297        7840  2024-06-27  2024-11-11   \n",
       "4          19813     8260     7163        6467  2023-12-26  2024-09-26   \n",
       "...          ...      ...      ...         ...         ...         ...   \n",
       "9995        6855     5352      425        1074  2024-03-03  2024-11-16   \n",
       "9996        1259     6217      -33        2480  2023-10-19  2025-09-02   \n",
       "9997        9327     8249     4044        2923  2024-06-19  2024-09-29   \n",
       "9998       11967      721     4179        6738  2024-08-22  2024-11-28   \n",
       "9999        1455     9353     7513        2162  2024-07-16  2025-04-10   \n",
       "\n",
       "                              title           author               isbn  \\\n",
       "0                Game compare room.       Paul Woods  978-0-495-59545-8   \n",
       "1                  Central natural.  Dale Tucker DVM  978-0-641-06256-8   \n",
       "2                   Difficult four.     Hayley Jones  978-0-403-88122-2   \n",
       "3          Reflect pretty training.      Emily Woods  978-1-101-85356-6   \n",
       "4     Dinner offer other treatment.    Krystal Smith  978-0-7224-4555-6   \n",
       "...                             ...              ...                ...   \n",
       "9995               Event late each.       Chad Heath  978-0-09-290196-6   \n",
       "9996                  Firm message.   Chelsea Butler  978-0-86333-725-3   \n",
       "9997     Important himself produce.   Grant Williams  978-0-527-22913-9   \n",
       "9998               Itself economic.   Kelly Robinson  978-1-997903-51-2   \n",
       "9999              Loss visit human.  Lauren Bradford  978-0-7233-0063-2   \n",
       "\n",
       "      library_id  ... date_of_birth major enrollment_id course_id  \\\n",
       "0           8530  ...    2004-03-14  5284          4814       -43   \n",
       "1           1211  ...    2001-03-27  6152          3154      2691   \n",
       "2           1290  ...    2005-11-23   401          9334       124   \n",
       "3           3750  ...    1997-09-25  4565          5132      6119   \n",
       "4           6068  ...    2002-10-20  5430          3766      5944   \n",
       "...          ...  ...           ...   ...           ...       ...   \n",
       "9995        6743  ...    2003-09-01  1408          2974      7330   \n",
       "9996        5331  ...    1995-04-07  1442          1895       487   \n",
       "9997        6894  ...    1997-01-03  3322          3690      5928   \n",
       "9998        8058  ...    1997-11-27  7139          4927      8808   \n",
       "9999        4685  ...    1996-10-19   432          5174      1141   \n",
       "\n",
       "         semester  grade_x  submission_id assignment_id      submission_date  \\\n",
       "0     Winter 2023        D           2926          9311  2022-11-18 03:57:40   \n",
       "1     Summer 2020        D          10111          3868  2022-10-04 10:19:38   \n",
       "2     Summer 2022        F           3919          6301  2022-09-28 08:59:39   \n",
       "3     Spring 2022        B           2016          8035  2022-05-01 09:40:29   \n",
       "4     Winter 2021        A          10283            -1  2022-11-13 08:24:56   \n",
       "...           ...      ...            ...           ...                  ...   \n",
       "9995    Fall 2020        A          10135           527  2022-01-17 05:52:29   \n",
       "9996  Winter 2022                   10331           648  2022-04-06 19:45:59   \n",
       "9997  Winter 2022        D            633            -7  2022-05-11 09:16:01   \n",
       "9998    Fall 2022        F            -26          9356  2022-02-14 18:25:06   \n",
       "9999  Spring 2023        A            610          8139  2022-06-23 02:46:51   \n",
       "\n",
       "      grade_y  \n",
       "0           D  \n",
       "1           B  \n",
       "2           B  \n",
       "3              \n",
       "4              \n",
       "...       ...  \n",
       "9995           \n",
       "9996        F  \n",
       "9997        D  \n",
       "9998        B  \n",
       "9999           \n",
       "\n",
       "[10000 rows x 23 columns]"
      ]
     },
     "execution_count": 2,
     "metadata": {},
     "output_type": "execute_result"
    }
   ],
   "source": [
    "data_res = synthesizer.sample(10000)\n",
    "data_res"
   ]
  },
  {
   "cell_type": "code",
   "execution_count": 3,
   "metadata": {},
   "outputs": [],
   "source": [
    "data_res.to_csv(\"data_10k_sample_result.csv\")"
   ]
  },
  {
   "cell_type": "code",
   "execution_count": null,
   "metadata": {},
   "outputs": [],
   "source": [
    "writetime()\n",
    "ctgan.set_batch_size_test(40)\n",
    "synthesizer.fit(from_prefit=True)\n",
    "writetime()"
   ]
  },
  {
   "cell_type": "markdown",
   "metadata": {},
   "source": [
    "# 单表测试"
   ]
  },
  {
   "cell_type": "code",
   "execution_count": null,
   "metadata": {},
   "outputs": [],
   "source": [
    "from redirector import WriteableRedirector\n",
    "we = WriteableRedirector()\n",
    "we.__enter__()"
   ]
  },
  {
   "cell_type": "code",
   "execution_count": null,
   "metadata": {},
   "outputs": [],
   "source": [
    "\n",
    "\n",
    "import time\n",
    "from mycode.test_20_tables import fetch_data_from_sqlite, Metadata\n",
    "from sdgx.data_connectors.csv_connector import CsvConnector\n",
    "from sdgx.models.ml.single_table.ctgan import CTGANSynthesizerModel\n",
    "from sdgx.synthesizer import Synthesizer\n",
    "# from sdgx.utils import download_demo_data\n",
    "metadata, tables = fetch_data_from_sqlite(path='./mycode/data_sqlite.db')\n",
    "metadata = Metadata(metadata)\n",
    "metadata.get_tables()\n",
    "\n",
    "\n",
    "import pandas as pd\n",
    "result_table = tables[\"BookLoan\"]\n",
    "x_table = [\"Book\", \"Library\", \"Student\"]\n",
    "x_key = ['book_id', \"library_id\", \"student_id\"]\n",
    "x_how = ['outer', 'outer', \"outer\"]\n",
    "print(f\"{len(result_table)=}\")\n",
    "for i, x_table_name in enumerate(x_table):\n",
    "    result_table = pd.merge(result_table, tables[x_table_name], on=x_key[i], how=x_how[i])\n",
    "    print(f\"{len(result_table)=}\")\n",
    "\n",
    "# result_table\n",
    "print(f\"{len(result_table)=}\")\n",
    "print(len(result_table.columns))\n",
    "result_table.to_csv(\"test_10k_single.csv\")\n",
    "dataset_csv = \"test_10k_single.csv\""
   ]
  },
  {
   "cell_type": "code",
   "execution_count": 6,
   "metadata": {},
   "outputs": [],
   "source": [
    "print(f\"{len(result_table)=}\")\n",
    "print(len(result_table.columns))"
   ]
  },
  {
   "cell_type": "code",
   "execution_count": null,
   "metadata": {},
   "outputs": [],
   "source": [
    "\n",
    "# Create data connector for csv file\n",
    "data_connector = CsvConnector(path=dataset_csv)\n",
    "ctgan = CTGANSynthesizerModel(\n",
    "        epochs=1,\n",
    "        batch_size=500,\n",
    "        device=\"cpu\"\n",
    "    )\n",
    "# Initialize synthesizer, use CTGAN model\n",
    "synthesizer = Synthesizer(\n",
    "    model=ctgan,  # For quick demo\n",
    "    data_connector=data_connector,\n",
    ")\n"
   ]
  },
  {
   "cell_type": "code",
   "execution_count": null,
   "metadata": {},
   "outputs": [],
   "source": [
    "\n",
    "def writetime():\n",
    "    st = time.time()\n",
    "    with open(\"time.log\", \"a+\") as f:\n",
    "        f.write(str(st) + \"\\n\")\n",
    "# Fit the model\n",
    "writetime()\n",
    "synthesizer.fit()\n",
    "writetime()"
   ]
  },
  {
   "cell_type": "code",
   "execution_count": null,
   "metadata": {},
   "outputs": [],
   "source": [
    "synthesizer.fit(prefit=True)"
   ]
  },
  {
   "cell_type": "code",
   "execution_count": null,
   "metadata": {},
   "outputs": [],
   "source": [
    "ctgan.set_batch_size_test(500)\n",
    "synthesizer.fit(from_prefit=True,prefit=False)"
   ]
  },
  {
   "cell_type": "code",
   "execution_count": null,
   "metadata": {},
   "outputs": [],
   "source": [
    "synthesizer.save(\"test_model_10k_single_id9\")"
   ]
  },
  {
   "cell_type": "code",
   "execution_count": null,
   "metadata": {},
   "outputs": [],
   "source": [
    "from sdgx.models.ml.single_table.ctgan import CTGANSynthesizerModel\n",
    "from sdgx.synthesizer import Synthesizer\n",
    "synthesizer = Synthesizer.load(\"test_model_10k_single\", CTGANSynthesizerModel)"
   ]
  },
  {
   "cell_type": "code",
   "execution_count": null,
   "metadata": {},
   "outputs": [],
   "source": [
    "synthesizer.model._batch_size"
   ]
  },
  {
   "cell_type": "code",
   "execution_count": null,
   "metadata": {},
   "outputs": [],
   "source": [
    "synthesizer.sample(150)"
   ]
  }
 ],
 "metadata": {
  "kernelspec": {
   "display_name": "sdg10",
   "language": "python",
   "name": "python3"
  },
  "language_info": {
   "codemirror_mode": {
    "name": "ipython",
    "version": 3
   },
   "file_extension": ".py",
   "mimetype": "text/x-python",
   "name": "python",
   "nbconvert_exporter": "python",
   "pygments_lexer": "ipython3",
   "version": "3.10.14"
  }
 },
 "nbformat": 4,
 "nbformat_minor": 2
}
