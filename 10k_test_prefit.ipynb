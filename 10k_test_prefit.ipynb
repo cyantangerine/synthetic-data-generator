{
 "cells": [
  {
   "cell_type": "code",
   "execution_count": 10,
   "metadata": {},
   "outputs": [
    {
     "name": "stdout",
     "output_type": "stream",
     "text": [
      "len(result_table)=10000\n",
      "len(result_table)=10000\n",
      "len(result_table)=10000\n",
      "len(result_table)=13684\n",
      "len(result_table)=18813\n",
      "len(result_table)=26838\n",
      "23\n"
     ]
    },
    {
     "name": "stderr",
     "output_type": "stream",
     "text": [
      "2024-09-26 14:36:12.380 | INFO     | sdgx.synthesizer:__init__:106 - Using data processors: ['nonvaluetransformer', 'outliertransformer', 'emailgenerator', 'chnpiigenerator', 'intvalueformatter', 'datetimeformatter', 'constvaluetransformer', 'emptytransformer', 'columnordertransformer']\n",
      "2024-09-26 14:36:12.382 | INFO     | sdgx.data_models.metadata:from_dataloader:291 - Inspecting metadata...\n",
      "2024-09-26 14:36:19.331 | INFO     | sdgx.data_models.metadata:update_primary_key:500 - Primary Key updated: {'Unnamed: 0'}.\n",
      "2024-09-26 14:36:19.333 | INFO     | sdgx.synthesizer:fit:294 - Fitting data processors...\n"
     ]
    },
    {
     "name": "stdout",
     "output_type": "stream",
     "text": [
      "{'primary_keys': {'Unnamed: 0'}, 'column_list': ['Unnamed: 0', 'loan_id', 'book_id', 'student_id', 'loan_date', 'return_date', 'title', 'author', 'isbn', 'library_id', 'name_x', 'location', 'name_y', 'email', 'date_of_birth', 'major', 'enrollment_id', 'course_id', 'semester', 'grade_x', 'submission_id', 'assignment_id', 'submission_date', 'grade_y'], 'column_inspect_level': {'china_mainland_mobile_phone_columns': 30, 'const_columns': 80, 'unified_social_credit_code_columns': 30, 'discrete_columns': 10, 'china_mainland_id_columns': 30, 'english_name_columns': 40, 'id_columns': 20, 'chinese_company_name_columns': 40, 'datetime_columns': 20, 'china_mainland_postcode_columns': 20, 'chinese_name_columns': 40, 'china_mainland_address_columns': 30, 'bool_columns': 10, 'int_columns': 10, 'float_columns': 10, 'empty_columns': 90, 'email_columns': 30}, 'pii_columns': {'name_y', 'email', 'author', 'title'}, 'id_columns': {'Unnamed: 0'}, 'int_columns': {'course_id', 'assignment_id', 'Unnamed: 0', 'book_id', 'enrollment_id', 'loan_id', 'submission_id', 'student_id', 'major', 'library_id'}, 'float_columns': set(), 'bool_columns': set(), 'discrete_columns': {'return_date', 'grade_x', 'loan_date', 'location', 'name_y', 'email', 'date_of_birth', 'semester', 'name_x', 'author', 'grade_y', 'submission_date', 'title', 'isbn'}, 'datetime_columns': {'return_date', 'date_of_birth', 'submission_date', 'loan_date'}, 'const_columns': set(), 'datetime_format': {}, 'numeric_format': {'positive': ['Unnamed: 0', 'assignment_id', 'book_id', 'course_id', 'enrollment_id', 'library_id', 'loan_id', 'major', 'student_id', 'submission_id'], 'negative': []}, 'version': '1.0'}\n"
     ]
    },
    {
     "name": "stderr",
     "output_type": "stream",
     "text": [
      "2024-09-26 14:36:19.702 | INFO     | sdgx.data_processors.transformers.nan:fit:71 - NonValueTransformer Fitted.\n",
      "2024-09-26 14:36:19.704 | INFO     | sdgx.data_processors.transformers.nan:fit:87 - NonValueTransformer get int columns: {'course_id', 'assignment_id', 'book_id', 'enrollment_id', 'loan_id', 'submission_id', 'student_id', 'major', 'library_id'}.\n",
      "2024-09-26 14:36:19.705 | INFO     | sdgx.data_processors.transformers.nan:fit:96 - NonValueTransformer get float columns: set().\n",
      "2024-09-26 14:36:19.706 | INFO     | sdgx.data_processors.transformers.nan:fit:101 - NonValueTransformer get column list from metadata: ['Unnamed: 0', 'loan_id', 'book_id', 'student_id', 'loan_date', 'return_date', 'title', 'author', 'isbn', 'library_id', 'name_x', 'location', 'name_y', 'email', 'date_of_birth', 'major', 'enrollment_id', 'course_id', 'semester', 'grade_x', 'submission_id', 'assignment_id', 'submission_date', 'grade_y'].\n",
      "2024-09-26 14:36:19.707 | INFO     | sdgx.data_processors.transformers.outlier:fit:70 - OutlierTransformer Fitted.\n",
      "2024-09-26 14:36:19.709 | INFO     | sdgx.data_processors.formatters.int:fit:40 - IntValueFormatter Fitted.\n",
      "2024-09-26 14:36:19.710 | WARNING  | sdgx.data_processors.formatters.datetime:fit:70 - Column return_date has no datetime_format, DatetimeFormatter will REMOVE this column！\n",
      "2024-09-26 14:36:19.711 | WARNING  | sdgx.data_processors.formatters.datetime:fit:70 - Column date_of_birth has no datetime_format, DatetimeFormatter will REMOVE this column！\n",
      "2024-09-26 14:36:19.712 | WARNING  | sdgx.data_processors.formatters.datetime:fit:70 - Column submission_date has no datetime_format, DatetimeFormatter will REMOVE this column！\n",
      "2024-09-26 14:36:19.713 | WARNING  | sdgx.data_processors.formatters.datetime:fit:70 - Column loan_date has no datetime_format, DatetimeFormatter will REMOVE this column！\n",
      "2024-09-26 14:36:19.714 | INFO     | sdgx.data_processors.formatters.datetime:fit:77 - DatetimeFormatter Fitted.\n",
      "2024-09-26 14:36:19.716 | INFO     | sdgx.data_processors.transformers.const:fit:49 - ConstValueTransformer Fitted.\n",
      "2024-09-26 14:36:19.717 | INFO     | sdgx.data_processors.transformers.empty:fit:54 - EmptyTransformer Fitted.\n",
      "2024-09-26 14:36:19.718 | INFO     | sdgx.data_processors.transformers.column_order:fit:41 - ColumnOrderTransformer Fitted.\n",
      "2024-09-26 14:36:19.719 | INFO     | sdgx.synthesizer:fit:303 - Fitted 9 data processors in  0.01694798469543457s.\n",
      "2024-09-26 14:36:19.720 | INFO     | sdgx.synthesizer:fit:313 - Initializing processed data loader...\n",
      "2024-09-26 14:36:19.766 | INFO     | sdgx.data_processors.transformers.nan:convert:110 - Converting data using NonValueTransformer...\n",
      "2024-09-26 14:36:19.796 | INFO     | sdgx.data_processors.transformers.nan:convert:130 - Converting data using NonValueTransformer... Finished.\n",
      "2024-09-26 14:36:19.796 | INFO     | sdgx.data_processors.transformers.outlier:convert:84 - Converting data using OutlierTransformer...\n",
      "2024-09-26 14:36:19.832 | INFO     | sdgx.data_processors.transformers.outlier:convert:106 - Converting data using OutlierTransformer... Finished.\n",
      "2024-09-26 14:36:19.839 | INFO     | sdgx.data_processors.formatters.int:convert:50 - Converting data using IntValueFormatter... Finished  (No Action).\n",
      "2024-09-26 14:36:19.841 | INFO     | sdgx.data_processors.formatters.datetime:convert:89 - Converting data using DatetimeFormatter... Finished (No datetime columns).\n",
      "2024-09-26 14:36:19.843 | INFO     | sdgx.data_processors.transformers.const:convert:69 - Converting data using ConstValueTransformer...\n",
      "2024-09-26 14:36:19.844 | INFO     | sdgx.data_processors.transformers.const:convert:77 - Converting data using ConstValueTransformer... Finished.\n",
      "2024-09-26 14:36:19.845 | INFO     | sdgx.data_processors.transformers.empty:convert:72 - Converting data using EmptyTransformer...\n",
      "2024-09-26 14:36:19.846 | INFO     | sdgx.data_processors.transformers.empty:convert:76 - Converting data using EmptyTransformer... Finished (No action).\n",
      "2024-09-26 14:36:19.847 | INFO     | sdgx.data_processors.transformers.column_order:convert:51 - Converting data using ColumnOrderTransformer...\n",
      "2024-09-26 14:36:19.848 | INFO     | sdgx.data_processors.transformers.column_order:convert:52 - Converting data using ColumnOrderTransformer... Finished (No action).\n",
      "2024-09-26 14:36:19.953 | INFO     | sdgx.data_processors.transformers.nan:convert:110 - Converting data using NonValueTransformer...\n",
      "2024-09-26 14:36:19.985 | INFO     | sdgx.data_processors.transformers.nan:convert:130 - Converting data using NonValueTransformer... Finished.\n",
      "2024-09-26 14:36:19.986 | INFO     | sdgx.data_processors.transformers.outlier:convert:84 - Converting data using OutlierTransformer...\n",
      "2024-09-26 14:36:20.024 | INFO     | sdgx.data_processors.transformers.outlier:convert:106 - Converting data using OutlierTransformer... Finished.\n",
      "2024-09-26 14:36:20.032 | INFO     | sdgx.data_processors.formatters.int:convert:50 - Converting data using IntValueFormatter... Finished  (No Action).\n",
      "2024-09-26 14:36:20.033 | INFO     | sdgx.data_processors.formatters.datetime:convert:89 - Converting data using DatetimeFormatter... Finished (No datetime columns).\n",
      "2024-09-26 14:36:20.035 | INFO     | sdgx.data_processors.transformers.const:convert:69 - Converting data using ConstValueTransformer...\n",
      "2024-09-26 14:36:20.036 | INFO     | sdgx.data_processors.transformers.const:convert:77 - Converting data using ConstValueTransformer... Finished.\n",
      "2024-09-26 14:36:20.037 | INFO     | sdgx.data_processors.transformers.empty:convert:72 - Converting data using EmptyTransformer...\n",
      "2024-09-26 14:36:20.037 | INFO     | sdgx.data_processors.transformers.empty:convert:76 - Converting data using EmptyTransformer... Finished (No action).\n",
      "2024-09-26 14:36:20.038 | INFO     | sdgx.data_processors.transformers.column_order:convert:51 - Converting data using ColumnOrderTransformer...\n",
      "2024-09-26 14:36:20.039 | INFO     | sdgx.data_processors.transformers.column_order:convert:52 - Converting data using ColumnOrderTransformer... Finished (No action).\n",
      "2024-09-26 14:36:20.118 | INFO     | sdgx.data_processors.transformers.nan:convert:110 - Converting data using NonValueTransformer...\n",
      "2024-09-26 14:36:20.140 | INFO     | sdgx.data_processors.transformers.nan:convert:130 - Converting data using NonValueTransformer... Finished.\n",
      "2024-09-26 14:36:20.141 | INFO     | sdgx.data_processors.transformers.outlier:convert:84 - Converting data using OutlierTransformer...\n",
      "2024-09-26 14:36:20.167 | INFO     | sdgx.data_processors.transformers.outlier:convert:106 - Converting data using OutlierTransformer... Finished.\n",
      "2024-09-26 14:36:20.174 | INFO     | sdgx.data_processors.formatters.int:convert:50 - Converting data using IntValueFormatter... Finished  (No Action).\n",
      "2024-09-26 14:36:20.175 | INFO     | sdgx.data_processors.formatters.datetime:convert:89 - Converting data using DatetimeFormatter... Finished (No datetime columns).\n",
      "2024-09-26 14:36:20.177 | INFO     | sdgx.data_processors.transformers.const:convert:69 - Converting data using ConstValueTransformer...\n",
      "2024-09-26 14:36:20.178 | INFO     | sdgx.data_processors.transformers.const:convert:77 - Converting data using ConstValueTransformer... Finished.\n",
      "2024-09-26 14:36:20.179 | INFO     | sdgx.data_processors.transformers.empty:convert:72 - Converting data using EmptyTransformer...\n",
      "2024-09-26 14:36:20.180 | INFO     | sdgx.data_processors.transformers.empty:convert:76 - Converting data using EmptyTransformer... Finished (No action).\n",
      "2024-09-26 14:36:20.181 | INFO     | sdgx.data_processors.transformers.column_order:convert:51 - Converting data using ColumnOrderTransformer...\n",
      "2024-09-26 14:36:20.182 | INFO     | sdgx.data_processors.transformers.column_order:convert:52 - Converting data using ColumnOrderTransformer... Finished (No action).\n",
      "2024-09-26 14:36:20.247 | INFO     | sdgx.synthesizer:fit:320 - Initialized processed data loader in 0.5265212059020996s\n",
      "2024-09-26 14:36:20.249 | INFO     | sdgx.synthesizer:fit:322 - Model fit Started...\n",
      "2024-09-26 14:36:20.305 | INFO     | sdgx.data_processors.transformers.nan:convert:110 - Converting data using NonValueTransformer...\n",
      "2024-09-26 14:36:20.339 | INFO     | sdgx.data_processors.transformers.nan:convert:130 - Converting data using NonValueTransformer... Finished.\n",
      "2024-09-26 14:36:20.340 | INFO     | sdgx.data_processors.transformers.outlier:convert:84 - Converting data using OutlierTransformer...\n",
      "2024-09-26 14:36:20.377 | INFO     | sdgx.data_processors.transformers.outlier:convert:106 - Converting data using OutlierTransformer... Finished.\n",
      "2024-09-26 14:36:20.386 | INFO     | sdgx.data_processors.formatters.int:convert:50 - Converting data using IntValueFormatter... Finished  (No Action).\n",
      "2024-09-26 14:36:20.387 | INFO     | sdgx.data_processors.formatters.datetime:convert:89 - Converting data using DatetimeFormatter... Finished (No datetime columns).\n",
      "2024-09-26 14:36:20.390 | INFO     | sdgx.data_processors.transformers.const:convert:69 - Converting data using ConstValueTransformer...\n",
      "2024-09-26 14:36:20.391 | INFO     | sdgx.data_processors.transformers.const:convert:77 - Converting data using ConstValueTransformer... Finished.\n",
      "2024-09-26 14:36:20.392 | INFO     | sdgx.data_processors.transformers.empty:convert:72 - Converting data using EmptyTransformer...\n",
      "2024-09-26 14:36:20.393 | INFO     | sdgx.data_processors.transformers.empty:convert:76 - Converting data using EmptyTransformer... Finished (No action).\n",
      "2024-09-26 14:36:20.394 | INFO     | sdgx.data_processors.transformers.column_order:convert:51 - Converting data using ColumnOrderTransformer...\n",
      "2024-09-26 14:36:20.395 | INFO     | sdgx.data_processors.transformers.column_order:convert:52 - Converting data using ColumnOrderTransformer... Finished (No action).\n",
      "2024-09-26 14:36:20.397 | INFO     | sdgx.models.ml.single_table.ctgan:_pre_fit:248 - Fitting model's transformer...\n",
      "2024-09-26 14:36:20.547 | INFO     | sdgx.data_processors.transformers.nan:convert:110 - Converting data using NonValueTransformer...\n",
      "2024-09-26 14:36:20.580 | INFO     | sdgx.data_processors.transformers.nan:convert:130 - Converting data using NonValueTransformer... Finished.\n",
      "2024-09-26 14:36:20.582 | INFO     | sdgx.data_processors.transformers.outlier:convert:84 - Converting data using OutlierTransformer...\n",
      "2024-09-26 14:36:20.621 | INFO     | sdgx.data_processors.transformers.outlier:convert:106 - Converting data using OutlierTransformer... Finished.\n",
      "2024-09-26 14:36:20.629 | INFO     | sdgx.data_processors.formatters.int:convert:50 - Converting data using IntValueFormatter... Finished  (No Action).\n",
      "2024-09-26 14:36:20.631 | INFO     | sdgx.data_processors.formatters.datetime:convert:89 - Converting data using DatetimeFormatter... Finished (No datetime columns).\n",
      "2024-09-26 14:36:20.632 | INFO     | sdgx.data_processors.transformers.const:convert:69 - Converting data using ConstValueTransformer...\n",
      "2024-09-26 14:36:20.633 | INFO     | sdgx.data_processors.transformers.const:convert:77 - Converting data using ConstValueTransformer... Finished.\n",
      "2024-09-26 14:36:20.634 | INFO     | sdgx.data_processors.transformers.empty:convert:72 - Converting data using EmptyTransformer...\n",
      "2024-09-26 14:36:20.635 | INFO     | sdgx.data_processors.transformers.empty:convert:76 - Converting data using EmptyTransformer... Finished (No action).\n",
      "2024-09-26 14:36:20.636 | INFO     | sdgx.data_processors.transformers.column_order:convert:51 - Converting data using ColumnOrderTransformer...\n",
      "2024-09-26 14:36:20.636 | INFO     | sdgx.data_processors.transformers.column_order:convert:52 - Converting data using ColumnOrderTransformer... Finished (No action).\n",
      "2024-09-26 14:36:41.572 | INFO     | sdgx.models.ml.single_table.ctgan:_pre_fit:250 - Transforming data...\n",
      "2024-09-26 14:36:41.688 | INFO     | sdgx.data_processors.transformers.nan:convert:110 - Converting data using NonValueTransformer...\n",
      "2024-09-26 14:36:41.720 | INFO     | sdgx.data_processors.transformers.nan:convert:130 - Converting data using NonValueTransformer... Finished.\n",
      "2024-09-26 14:36:41.721 | INFO     | sdgx.data_processors.transformers.outlier:convert:84 - Converting data using OutlierTransformer...\n",
      "2024-09-26 14:36:41.757 | INFO     | sdgx.data_processors.transformers.outlier:convert:106 - Converting data using OutlierTransformer... Finished.\n",
      "2024-09-26 14:36:41.765 | INFO     | sdgx.data_processors.formatters.int:convert:50 - Converting data using IntValueFormatter... Finished  (No Action).\n",
      "2024-09-26 14:36:41.766 | INFO     | sdgx.data_processors.formatters.datetime:convert:89 - Converting data using DatetimeFormatter... Finished (No datetime columns).\n",
      "2024-09-26 14:36:41.768 | INFO     | sdgx.data_processors.transformers.const:convert:69 - Converting data using ConstValueTransformer...\n",
      "2024-09-26 14:36:41.769 | INFO     | sdgx.data_processors.transformers.const:convert:77 - Converting data using ConstValueTransformer... Finished.\n",
      "2024-09-26 14:36:41.770 | INFO     | sdgx.data_processors.transformers.empty:convert:72 - Converting data using EmptyTransformer...\n",
      "2024-09-26 14:36:41.771 | INFO     | sdgx.data_processors.transformers.empty:convert:76 - Converting data using EmptyTransformer... Finished (No action).\n",
      "2024-09-26 14:36:41.771 | INFO     | sdgx.data_processors.transformers.column_order:convert:51 - Converting data using ColumnOrderTransformer...\n",
      "2024-09-26 14:36:41.772 | INFO     | sdgx.data_processors.transformers.column_order:convert:52 - Converting data using ColumnOrderTransformer... Finished (No action).\n",
      "2024-09-26 14:36:44.095 | WARNING  | sdgx.models.components.optimize.sdv_ctgan.data_transformer:_parallel_transform:175 - Using generator_unordered in joblib, time to remove this exception!\n",
      "2024-09-26 14:39:04.697 | INFO     | sdgx.models.ml.single_table.ctgan:_pre_fit:253 - Sampling data.\n",
      "/home/wbx/synthetic-data-generator/sdgx/models/components/optimize/sdv_ctgan/data_sampler.py:70: RuntimeWarning: invalid value encountered in log\n",
      "  category_freq = np.log(category_freq + 1)\n",
      "2024-09-26 14:40:12.355 | INFO     | sdgx.models.ml.single_table.ctgan:_pre_fit:258 - Initialize Generator.\n",
      "2024-09-26 14:41:00.804 | INFO     | sdgx.models.ml.single_table.ctgan:fit:223 - CTGAN prefit finished, start CTGAN training.\n",
      "2024-09-26 14:41:00.806 | INFO     | sdgx.models.ml.single_table.ctgan:_fit:275 - Fit using data_size:26838, data_dim: 73260.\n",
      "2024-09-26 14:41:04.144 | INFO     | sdgx.models.ml.single_table.ctgan:_fit:301 - Starting model training, epochs: 1\n"
     ]
    },
    {
     "data": {
      "application/vnd.jupyter.widget-view+json": {
       "model_id": "51f2958e3bd74874a3ac5cf8172b4f3b",
       "version_major": 2,
       "version_minor": 0
      },
      "text/plain": [
       "  0%|          | 0/26 [00:00<?, ?it/s]"
      ]
     },
     "metadata": {},
     "output_type": "display_data"
    },
    {
     "name": "stderr",
     "output_type": "stream",
     "text": [
      "2024-09-26 15:29:42.385 | INFO     | sdgx.models.ml.single_table.ctgan:_fit:382 - Epoch 1, Loss G:  7.8112, Loss D: -4.1301, Time:  2918.2388\n",
      "2024-09-26 15:29:46.472 | INFO     | sdgx.models.ml.single_table.ctgan:fit:225 - CTGAN training finished.\n",
      "2024-09-26 15:29:46.473 | INFO     | sdgx.synthesizer:fit:331 - Model fit... Finished\n",
      "2024-09-26 15:29:46.477 | INFO     | sdgx.synthesizer:save:170 - Saving synthesizer to /home/wbx/synthetic-data-generator/test_model_10k_id0\n"
     ]
    },
    {
     "data": {
      "text/plain": [
       "PosixPath('/home/wbx/synthetic-data-generator/test_model_10k_id0')"
      ]
     },
     "execution_count": 10,
     "metadata": {},
     "output_type": "execute_result"
    }
   ],
   "source": [
    "# from redirector import WriteableRedirector\n",
    "# we = WriteableRedirector()\n",
    "# we.__enter__()\n",
    "import time\n",
    "from mycode.test_20_tables import fetch_data_from_sqlite, Metadata\n",
    "from sdgx.data_connectors.csv_connector import CsvConnector\n",
    "from sdgx.models.ml.single_table.ctgan import CTGANSynthesizerModel\n",
    "from sdgx.synthesizer import Synthesizer\n",
    "# from sdgx.utils import download_demo_data\n",
    "metadata, tables = fetch_data_from_sqlite(path='./mycode/data_sqlite.db')\n",
    "metadata = Metadata(metadata)\n",
    "metadata.get_tables()\n",
    "import pandas as pd\n",
    "result_table = tables[\"BookLoan\"]\n",
    "x_table = [\"Book\", \"Library\", \"Student\", \"Enrollment\", \"Submission\"]\n",
    "x_key = ['book_id', \"library_id\", \"student_id\", \"student_id\",\"student_id\"]\n",
    "x_how = ['outer', 'outer', \"outer\", 'outer', \"outer\"]\n",
    "print(f\"{len(result_table)=}\")\n",
    "for i, x_table_name in enumerate(x_table):\n",
    "    result_table = pd.merge(result_table, tables[x_table_name], on=x_key[i], how=x_how[i])\n",
    "    print(f\"{len(result_table)=}\")\n",
    "print(len(result_table.columns))\n",
    "result_table\n",
    "\n",
    "# This will download demo data to ./dataset\n",
    "#dataset_csv = download_demo_data()\n",
    "result_table.to_csv(\"test_10k.csv\")\n",
    "dataset_csv = \"test_10k.csv\"\n",
    "# Create data connector for csv file\n",
    "data_connector = CsvConnector(path=dataset_csv)\n",
    "ctgan = CTGANSynthesizerModel(\n",
    "        epochs=1,\n",
    "        batch_size=1000,\n",
    "        device=\"cpu\"\n",
    "    )\n",
    "# Initialize synthesizer, use CTGAN model\n",
    "synthesizer = Synthesizer(\n",
    "    model=ctgan,  # For quick demo\n",
    "    data_connector=data_connector,\n",
    ")\n",
    "\n",
    "def writetime():\n",
    "    st = time.time()\n",
    "    with open(\"time.log\", \"a+\") as f:\n",
    "        f.write(str(st) + \"\\n\")\n",
    "# Fit the model\n",
    "writetime()\n",
    "synthesizer.fit()\n",
    "writetime()\n",
    "synthesizer.save(\"test_model_10k_id0\")"
   ]
  },
  {
   "cell_type": "code",
   "execution_count": null,
   "metadata": {},
   "outputs": [],
   "source": [
    "# synthesizer.save(\"test_model_10k\")"
   ]
  },
  {
   "cell_type": "code",
   "execution_count": null,
   "metadata": {},
   "outputs": [],
   "source": [
    "# from sdgx.models.ml.single_table.ctgan import CTGANSynthesizerModel\n",
    "# from sdgx.synthesizer import Synthesizer\n",
    "# synthesizer = Synthesizer.load(\"test_model_10k\", CTGANSynthesizerModel)"
   ]
  },
  {
   "cell_type": "code",
   "execution_count": null,
   "metadata": {},
   "outputs": [],
   "source": [
    "writetime()\n",
    "ctgan.set_batch_size_test(40)\n",
    "synthesizer.fit(from_prefit=True)\n",
    "writetime()"
   ]
  },
  {
   "cell_type": "markdown",
   "metadata": {},
   "source": [
    "# 单表测试"
   ]
  },
  {
   "cell_type": "code",
   "execution_count": null,
   "metadata": {},
   "outputs": [],
   "source": [
    "from redirector import WriteableRedirector\n",
    "we = WriteableRedirector()\n",
    "we.__enter__()"
   ]
  },
  {
   "cell_type": "code",
   "execution_count": 2,
   "metadata": {},
   "outputs": [
    {
     "name": "stdout",
     "output_type": "stream",
     "text": [
      "len(result_table)=10000\n",
      "len(result_table)=10000\n",
      "len(result_table)=10000\n",
      "len(result_table)=13684\n",
      "len(result_table)=13684\n",
      "15\n"
     ]
    }
   ],
   "source": [
    "\n",
    "\n",
    "import time\n",
    "from mycode.test_20_tables import fetch_data_from_sqlite, Metadata\n",
    "from sdgx.data_connectors.csv_connector import CsvConnector\n",
    "from sdgx.models.ml.single_table.ctgan import CTGANSynthesizerModel\n",
    "from sdgx.synthesizer import Synthesizer\n",
    "# from sdgx.utils import download_demo_data\n",
    "metadata, tables = fetch_data_from_sqlite(path='./mycode/data_sqlite.db')\n",
    "metadata = Metadata(metadata)\n",
    "metadata.get_tables()\n",
    "\n",
    "\n",
    "import pandas as pd\n",
    "result_table = tables[\"BookLoan\"]\n",
    "x_table = [\"Book\", \"Library\", \"Student\"]\n",
    "x_key = ['book_id', \"library_id\", \"student_id\"]\n",
    "x_how = ['outer', 'outer', \"outer\"]\n",
    "print(f\"{len(result_table)=}\")\n",
    "for i, x_table_name in enumerate(x_table):\n",
    "    result_table = pd.merge(result_table, tables[x_table_name], on=x_key[i], how=x_how[i])\n",
    "    print(f\"{len(result_table)=}\")\n",
    "\n",
    "# result_table\n",
    "print(f\"{len(result_table)=}\")\n",
    "print(len(result_table.columns))\n",
    "result_table.to_csv(\"test_10k_single.csv\")\n",
    "dataset_csv = \"test_10k_single.csv\""
   ]
  },
  {
   "cell_type": "code",
   "execution_count": 6,
   "metadata": {},
   "outputs": [],
   "source": [
    "print(f\"{len(result_table)=}\")\n",
    "print(len(result_table.columns))"
   ]
  },
  {
   "cell_type": "code",
   "execution_count": 4,
   "metadata": {},
   "outputs": [
    {
     "name": "stderr",
     "output_type": "stream",
     "text": [
      "2024-09-26 13:40:44.299 | INFO     | sdgx.synthesizer:__init__:106 - Using data processors: ['nonvaluetransformer', 'outliertransformer', 'emailgenerator', 'chnpiigenerator', 'intvalueformatter', 'datetimeformatter', 'constvaluetransformer', 'emptytransformer', 'columnordertransformer']\n"
     ]
    }
   ],
   "source": [
    "\n",
    "# Create data connector for csv file\n",
    "data_connector = CsvConnector(path=dataset_csv)\n",
    "ctgan = CTGANSynthesizerModel(\n",
    "        epochs=1,\n",
    "        batch_size=500,\n",
    "        device=\"cpu\"\n",
    "    )\n",
    "# Initialize synthesizer, use CTGAN model\n",
    "synthesizer = Synthesizer(\n",
    "    model=ctgan,  # For quick demo\n",
    "    data_connector=data_connector,\n",
    ")\n"
   ]
  },
  {
   "cell_type": "code",
   "execution_count": null,
   "metadata": {},
   "outputs": [],
   "source": [
    "\n",
    "def writetime():\n",
    "    st = time.time()\n",
    "    with open(\"time.log\", \"a+\") as f:\n",
    "        f.write(str(st) + \"\\n\")\n",
    "# Fit the model\n",
    "writetime()\n",
    "synthesizer.fit()\n",
    "writetime()"
   ]
  },
  {
   "cell_type": "code",
   "execution_count": 5,
   "metadata": {},
   "outputs": [
    {
     "name": "stderr",
     "output_type": "stream",
     "text": [
      "2024-09-26 13:40:49.673 | INFO     | sdgx.data_models.metadata:from_dataloader:291 - Inspecting metadata...\n",
      "2024-09-26 13:40:53.211 | INFO     | sdgx.data_models.metadata:update_primary_key:500 - Primary Key updated: {'Unnamed: 0', 'location', 'isbn'}.\n",
      "2024-09-26 13:40:53.217 | INFO     | sdgx.synthesizer:fit:294 - Fitting data processors...\n",
      "2024-09-26 13:40:53.399 | INFO     | sdgx.data_processors.transformers.nan:fit:71 - NonValueTransformer Fitted.\n",
      "2024-09-26 13:40:53.400 | INFO     | sdgx.data_processors.transformers.nan:fit:87 - NonValueTransformer get int columns: {'book_id', 'loan_id', 'student_id', 'major', 'library_id'}.\n",
      "2024-09-26 13:40:53.401 | INFO     | sdgx.data_processors.transformers.nan:fit:96 - NonValueTransformer get float columns: set().\n",
      "2024-09-26 13:40:53.402 | INFO     | sdgx.data_processors.transformers.nan:fit:101 - NonValueTransformer get column list from metadata: ['Unnamed: 0', 'loan_id', 'book_id', 'student_id', 'loan_date', 'return_date', 'title', 'author', 'isbn', 'library_id', 'name_x', 'location', 'name_y', 'email', 'date_of_birth', 'major'].\n",
      "2024-09-26 13:40:53.403 | INFO     | sdgx.data_processors.transformers.outlier:fit:70 - OutlierTransformer Fitted.\n",
      "2024-09-26 13:40:53.405 | INFO     | sdgx.data_processors.formatters.int:fit:40 - IntValueFormatter Fitted.\n",
      "2024-09-26 13:40:53.406 | WARNING  | sdgx.data_processors.formatters.datetime:fit:70 - Column return_date has no datetime_format, DatetimeFormatter will REMOVE this column！\n",
      "2024-09-26 13:40:53.407 | WARNING  | sdgx.data_processors.formatters.datetime:fit:70 - Column date_of_birth has no datetime_format, DatetimeFormatter will REMOVE this column！\n",
      "2024-09-26 13:40:53.407 | WARNING  | sdgx.data_processors.formatters.datetime:fit:70 - Column loan_date has no datetime_format, DatetimeFormatter will REMOVE this column！\n",
      "2024-09-26 13:40:53.408 | INFO     | sdgx.data_processors.formatters.datetime:fit:77 - DatetimeFormatter Fitted.\n",
      "2024-09-26 13:40:53.410 | INFO     | sdgx.data_processors.transformers.const:fit:49 - ConstValueTransformer Fitted.\n",
      "2024-09-26 13:40:53.411 | INFO     | sdgx.data_processors.transformers.empty:fit:54 - EmptyTransformer Fitted.\n",
      "2024-09-26 13:40:53.412 | INFO     | sdgx.data_processors.transformers.column_order:fit:41 - ColumnOrderTransformer Fitted.\n",
      "2024-09-26 13:40:53.413 | INFO     | sdgx.synthesizer:fit:303 - Fitted 9 data processors in  0.014325857162475586s.\n",
      "2024-09-26 13:40:53.414 | INFO     | sdgx.synthesizer:fit:313 - Initializing processed data loader...\n"
     ]
    },
    {
     "name": "stdout",
     "output_type": "stream",
     "text": [
      "{'primary_keys': {'Unnamed: 0', 'location', 'isbn'}, 'column_list': ['Unnamed: 0', 'loan_id', 'book_id', 'student_id', 'loan_date', 'return_date', 'title', 'author', 'isbn', 'library_id', 'name_x', 'location', 'name_y', 'email', 'date_of_birth', 'major'], 'column_inspect_level': {'china_mainland_mobile_phone_columns': 30, 'const_columns': 80, 'unified_social_credit_code_columns': 30, 'discrete_columns': 10, 'china_mainland_id_columns': 30, 'english_name_columns': 40, 'id_columns': 20, 'chinese_company_name_columns': 40, 'datetime_columns': 20, 'china_mainland_postcode_columns': 20, 'chinese_name_columns': 40, 'china_mainland_address_columns': 30, 'bool_columns': 10, 'int_columns': 10, 'float_columns': 10, 'empty_columns': 90, 'email_columns': 30}, 'pii_columns': {'name_y', 'email', 'author', 'title'}, 'id_columns': {'Unnamed: 0', 'location', 'isbn'}, 'int_columns': {'Unnamed: 0', 'book_id', 'loan_id', 'student_id', 'major', 'library_id'}, 'float_columns': set(), 'bool_columns': set(), 'discrete_columns': {'return_date', 'loan_date', 'location', 'name_y', 'email', 'date_of_birth', 'name_x', 'author', 'title', 'isbn'}, 'datetime_columns': {'return_date', 'date_of_birth', 'loan_date'}, 'const_columns': set(), 'datetime_format': {}, 'numeric_format': {'positive': ['Unnamed: 0', 'book_id', 'library_id', 'loan_id', 'major', 'student_id'], 'negative': []}, 'version': '1.0'}\n"
     ]
    },
    {
     "name": "stderr",
     "output_type": "stream",
     "text": [
      "2024-09-26 13:40:53.467 | INFO     | sdgx.data_processors.transformers.nan:convert:110 - Converting data using NonValueTransformer...\n",
      "2024-09-26 13:40:53.491 | INFO     | sdgx.data_processors.transformers.nan:convert:130 - Converting data using NonValueTransformer... Finished.\n",
      "2024-09-26 13:40:53.492 | INFO     | sdgx.data_processors.transformers.outlier:convert:84 - Converting data using OutlierTransformer...\n",
      "2024-09-26 13:40:53.514 | INFO     | sdgx.data_processors.transformers.outlier:convert:106 - Converting data using OutlierTransformer... Finished.\n",
      "2024-09-26 13:40:53.521 | INFO     | sdgx.data_processors.formatters.int:convert:50 - Converting data using IntValueFormatter... Finished  (No Action).\n",
      "2024-09-26 13:40:53.522 | INFO     | sdgx.data_processors.formatters.datetime:convert:89 - Converting data using DatetimeFormatter... Finished (No datetime columns).\n",
      "2024-09-26 13:40:53.524 | INFO     | sdgx.data_processors.transformers.const:convert:69 - Converting data using ConstValueTransformer...\n",
      "2024-09-26 13:40:53.525 | INFO     | sdgx.data_processors.transformers.const:convert:77 - Converting data using ConstValueTransformer... Finished.\n",
      "2024-09-26 13:40:53.526 | INFO     | sdgx.data_processors.transformers.empty:convert:72 - Converting data using EmptyTransformer...\n",
      "2024-09-26 13:40:53.527 | INFO     | sdgx.data_processors.transformers.empty:convert:76 - Converting data using EmptyTransformer... Finished (No action).\n",
      "2024-09-26 13:40:53.528 | INFO     | sdgx.data_processors.transformers.column_order:convert:51 - Converting data using ColumnOrderTransformer...\n",
      "2024-09-26 13:40:53.529 | INFO     | sdgx.data_processors.transformers.column_order:convert:52 - Converting data using ColumnOrderTransformer... Finished (No action).\n",
      "2024-09-26 13:40:53.599 | INFO     | sdgx.data_processors.transformers.nan:convert:110 - Converting data using NonValueTransformer...\n",
      "2024-09-26 13:40:53.618 | INFO     | sdgx.data_processors.transformers.nan:convert:130 - Converting data using NonValueTransformer... Finished.\n",
      "2024-09-26 13:40:53.619 | INFO     | sdgx.data_processors.transformers.outlier:convert:84 - Converting data using OutlierTransformer...\n",
      "2024-09-26 13:40:53.632 | INFO     | sdgx.data_processors.transformers.outlier:convert:106 - Converting data using OutlierTransformer... Finished.\n",
      "2024-09-26 13:40:53.636 | INFO     | sdgx.data_processors.formatters.int:convert:50 - Converting data using IntValueFormatter... Finished  (No Action).\n",
      "2024-09-26 13:40:53.637 | INFO     | sdgx.data_processors.formatters.datetime:convert:89 - Converting data using DatetimeFormatter... Finished (No datetime columns).\n",
      "2024-09-26 13:40:53.640 | INFO     | sdgx.data_processors.transformers.const:convert:69 - Converting data using ConstValueTransformer...\n",
      "2024-09-26 13:40:53.640 | INFO     | sdgx.data_processors.transformers.const:convert:77 - Converting data using ConstValueTransformer... Finished.\n",
      "2024-09-26 13:40:53.641 | INFO     | sdgx.data_processors.transformers.empty:convert:72 - Converting data using EmptyTransformer...\n",
      "2024-09-26 13:40:53.642 | INFO     | sdgx.data_processors.transformers.empty:convert:76 - Converting data using EmptyTransformer... Finished (No action).\n",
      "2024-09-26 13:40:53.643 | INFO     | sdgx.data_processors.transformers.column_order:convert:51 - Converting data using ColumnOrderTransformer...\n",
      "2024-09-26 13:40:53.644 | INFO     | sdgx.data_processors.transformers.column_order:convert:52 - Converting data using ColumnOrderTransformer... Finished (No action).\n",
      "2024-09-26 13:40:53.679 | INFO     | sdgx.synthesizer:fit:320 - Initialized processed data loader in 0.26423048973083496s\n",
      "2024-09-26 13:40:53.680 | INFO     | sdgx.synthesizer:fit:322 - Model fit Started...\n",
      "2024-09-26 13:40:53.725 | INFO     | sdgx.data_processors.transformers.nan:convert:110 - Converting data using NonValueTransformer...\n",
      "2024-09-26 13:40:53.750 | INFO     | sdgx.data_processors.transformers.nan:convert:130 - Converting data using NonValueTransformer... Finished.\n",
      "2024-09-26 13:40:53.752 | INFO     | sdgx.data_processors.transformers.outlier:convert:84 - Converting data using OutlierTransformer...\n",
      "2024-09-26 13:40:53.774 | INFO     | sdgx.data_processors.transformers.outlier:convert:106 - Converting data using OutlierTransformer... Finished.\n",
      "2024-09-26 13:40:53.781 | INFO     | sdgx.data_processors.formatters.int:convert:50 - Converting data using IntValueFormatter... Finished  (No Action).\n",
      "2024-09-26 13:40:53.782 | INFO     | sdgx.data_processors.formatters.datetime:convert:89 - Converting data using DatetimeFormatter... Finished (No datetime columns).\n",
      "2024-09-26 13:40:53.785 | INFO     | sdgx.data_processors.transformers.const:convert:69 - Converting data using ConstValueTransformer...\n",
      "2024-09-26 13:40:53.786 | INFO     | sdgx.data_processors.transformers.const:convert:77 - Converting data using ConstValueTransformer... Finished.\n",
      "2024-09-26 13:40:53.787 | INFO     | sdgx.data_processors.transformers.empty:convert:72 - Converting data using EmptyTransformer...\n",
      "2024-09-26 13:40:53.788 | INFO     | sdgx.data_processors.transformers.empty:convert:76 - Converting data using EmptyTransformer... Finished (No action).\n",
      "2024-09-26 13:40:53.789 | INFO     | sdgx.data_processors.transformers.column_order:convert:51 - Converting data using ColumnOrderTransformer...\n",
      "2024-09-26 13:40:53.790 | INFO     | sdgx.data_processors.transformers.column_order:convert:52 - Converting data using ColumnOrderTransformer... Finished (No action).\n",
      "2024-09-26 13:40:53.792 | INFO     | sdgx.models.ml.single_table.ctgan:_pre_fit:248 - Fitting model's transformer...\n",
      "2024-09-26 13:40:53.898 | INFO     | sdgx.data_processors.transformers.nan:convert:110 - Converting data using NonValueTransformer...\n",
      "2024-09-26 13:40:53.923 | INFO     | sdgx.data_processors.transformers.nan:convert:130 - Converting data using NonValueTransformer... Finished.\n",
      "2024-09-26 13:40:53.924 | INFO     | sdgx.data_processors.transformers.outlier:convert:84 - Converting data using OutlierTransformer...\n",
      "2024-09-26 13:40:53.946 | INFO     | sdgx.data_processors.transformers.outlier:convert:106 - Converting data using OutlierTransformer... Finished.\n",
      "2024-09-26 13:40:53.953 | INFO     | sdgx.data_processors.formatters.int:convert:50 - Converting data using IntValueFormatter... Finished  (No Action).\n",
      "2024-09-26 13:40:53.954 | INFO     | sdgx.data_processors.formatters.datetime:convert:89 - Converting data using DatetimeFormatter... Finished (No datetime columns).\n",
      "2024-09-26 13:40:53.957 | INFO     | sdgx.data_processors.transformers.const:convert:69 - Converting data using ConstValueTransformer...\n",
      "2024-09-26 13:40:53.958 | INFO     | sdgx.data_processors.transformers.const:convert:77 - Converting data using ConstValueTransformer... Finished.\n",
      "2024-09-26 13:40:53.959 | INFO     | sdgx.data_processors.transformers.empty:convert:72 - Converting data using EmptyTransformer...\n",
      "2024-09-26 13:40:53.960 | INFO     | sdgx.data_processors.transformers.empty:convert:76 - Converting data using EmptyTransformer... Finished (No action).\n",
      "2024-09-26 13:40:53.961 | INFO     | sdgx.data_processors.transformers.column_order:convert:51 - Converting data using ColumnOrderTransformer...\n",
      "2024-09-26 13:40:53.962 | INFO     | sdgx.data_processors.transformers.column_order:convert:52 - Converting data using ColumnOrderTransformer... Finished (No action).\n",
      "2024-09-26 13:41:02.336 | INFO     | sdgx.models.ml.single_table.ctgan:_pre_fit:250 - Transforming data...\n",
      "2024-09-26 13:41:02.417 | INFO     | sdgx.data_processors.transformers.nan:convert:110 - Converting data using NonValueTransformer...\n",
      "2024-09-26 13:41:02.441 | INFO     | sdgx.data_processors.transformers.nan:convert:130 - Converting data using NonValueTransformer... Finished.\n",
      "2024-09-26 13:41:02.443 | INFO     | sdgx.data_processors.transformers.outlier:convert:84 - Converting data using OutlierTransformer...\n",
      "2024-09-26 13:41:02.467 | INFO     | sdgx.data_processors.transformers.outlier:convert:106 - Converting data using OutlierTransformer... Finished.\n",
      "2024-09-26 13:41:02.475 | INFO     | sdgx.data_processors.formatters.int:convert:50 - Converting data using IntValueFormatter... Finished  (No Action).\n",
      "2024-09-26 13:41:02.476 | INFO     | sdgx.data_processors.formatters.datetime:convert:89 - Converting data using DatetimeFormatter... Finished (No datetime columns).\n",
      "2024-09-26 13:41:02.478 | INFO     | sdgx.data_processors.transformers.const:convert:69 - Converting data using ConstValueTransformer...\n",
      "2024-09-26 13:41:02.478 | INFO     | sdgx.data_processors.transformers.const:convert:77 - Converting data using ConstValueTransformer... Finished.\n",
      "2024-09-26 13:41:02.479 | INFO     | sdgx.data_processors.transformers.empty:convert:72 - Converting data using EmptyTransformer...\n",
      "2024-09-26 13:41:02.480 | INFO     | sdgx.data_processors.transformers.empty:convert:76 - Converting data using EmptyTransformer... Finished (No action).\n",
      "2024-09-26 13:41:02.481 | INFO     | sdgx.data_processors.transformers.column_order:convert:51 - Converting data using ColumnOrderTransformer...\n",
      "2024-09-26 13:41:02.482 | INFO     | sdgx.data_processors.transformers.column_order:convert:52 - Converting data using ColumnOrderTransformer... Finished (No action).\n",
      "2024-09-26 13:41:03.253 | WARNING  | sdgx.models.components.optimize.sdv_ctgan.data_transformer:_parallel_transform:175 - Using generator_unordered in joblib, time to remove this exception!\n",
      "2024-09-26 13:41:41.724 | INFO     | sdgx.models.ml.single_table.ctgan:_pre_fit:253 - Sampling data.\n",
      "/home/wbx/synthetic-data-generator/sdgx/models/components/optimize/sdv_ctgan/data_sampler.py:70: RuntimeWarning: invalid value encountered in log\n",
      "  category_freq = np.log(category_freq + 1)\n",
      "2024-09-26 13:42:13.353 | INFO     | sdgx.models.ml.single_table.ctgan:_pre_fit:258 - Initialize Generator.\n",
      "2024-09-26 13:42:46.177 | INFO     | sdgx.models.ml.single_table.ctgan:pre_fit_test:235 - CTGAN prefit finished.\n"
     ]
    }
   ],
   "source": [
    "synthesizer.fit(prefit=True)"
   ]
  },
  {
   "cell_type": "code",
   "execution_count": 6,
   "metadata": {},
   "outputs": [
    {
     "name": "stderr",
     "output_type": "stream",
     "text": [
      "2024-09-26 13:42:54.119 | INFO     | sdgx.synthesizer:fit:294 - Fitting data processors...\n",
      "2024-09-26 13:42:54.122 | INFO     | sdgx.data_processors.transformers.nan:fit:71 - NonValueTransformer Fitted.\n",
      "2024-09-26 13:42:54.124 | INFO     | sdgx.data_processors.transformers.nan:fit:87 - NonValueTransformer get int columns: {'book_id', 'loan_id', 'student_id', 'major', 'library_id'}.\n",
      "2024-09-26 13:42:54.126 | INFO     | sdgx.data_processors.transformers.nan:fit:96 - NonValueTransformer get float columns: set().\n",
      "2024-09-26 13:42:54.128 | INFO     | sdgx.data_processors.transformers.nan:fit:101 - NonValueTransformer get column list from metadata: ['Unnamed: 0', 'loan_id', 'book_id', 'student_id', 'loan_date', 'return_date', 'title', 'author', 'isbn', 'library_id', 'name_x', 'location', 'name_y', 'email', 'date_of_birth', 'major'].\n",
      "2024-09-26 13:42:54.129 | INFO     | sdgx.data_processors.transformers.outlier:fit:70 - OutlierTransformer Fitted.\n",
      "2024-09-26 13:42:54.132 | INFO     | sdgx.data_processors.formatters.int:fit:40 - IntValueFormatter Fitted.\n",
      "2024-09-26 13:42:54.133 | WARNING  | sdgx.data_processors.formatters.datetime:fit:70 - Column return_date has no datetime_format, DatetimeFormatter will REMOVE this column！\n",
      "2024-09-26 13:42:54.135 | WARNING  | sdgx.data_processors.formatters.datetime:fit:70 - Column date_of_birth has no datetime_format, DatetimeFormatter will REMOVE this column！\n",
      "2024-09-26 13:42:54.136 | WARNING  | sdgx.data_processors.formatters.datetime:fit:70 - Column loan_date has no datetime_format, DatetimeFormatter will REMOVE this column！\n",
      "2024-09-26 13:42:54.137 | INFO     | sdgx.data_processors.formatters.datetime:fit:77 - DatetimeFormatter Fitted.\n",
      "2024-09-26 13:42:54.139 | INFO     | sdgx.data_processors.transformers.const:fit:49 - ConstValueTransformer Fitted.\n",
      "2024-09-26 13:42:54.141 | INFO     | sdgx.data_processors.transformers.empty:fit:54 - EmptyTransformer Fitted.\n",
      "2024-09-26 13:42:54.142 | INFO     | sdgx.data_processors.transformers.column_order:fit:41 - ColumnOrderTransformer Fitted.\n",
      "2024-09-26 13:42:54.143 | INFO     | sdgx.synthesizer:fit:303 - Fitted 9 data processors in  0.02103400230407715s.\n",
      "2024-09-26 13:42:54.144 | INFO     | sdgx.synthesizer:fit:313 - Initializing processed data loader...\n",
      "2024-09-26 13:42:54.230 | INFO     | sdgx.data_processors.transformers.nan:convert:110 - Converting data using NonValueTransformer...\n",
      "2024-09-26 13:42:54.256 | INFO     | sdgx.data_processors.transformers.nan:convert:130 - Converting data using NonValueTransformer... Finished.\n",
      "2024-09-26 13:42:54.257 | INFO     | sdgx.data_processors.transformers.outlier:convert:84 - Converting data using OutlierTransformer...\n",
      "2024-09-26 13:42:54.279 | INFO     | sdgx.data_processors.transformers.outlier:convert:106 - Converting data using OutlierTransformer... Finished.\n",
      "2024-09-26 13:42:54.286 | INFO     | sdgx.data_processors.formatters.int:convert:50 - Converting data using IntValueFormatter... Finished  (No Action).\n",
      "2024-09-26 13:42:54.287 | INFO     | sdgx.data_processors.formatters.datetime:convert:89 - Converting data using DatetimeFormatter... Finished (No datetime columns).\n",
      "2024-09-26 13:42:54.290 | INFO     | sdgx.data_processors.transformers.const:convert:69 - Converting data using ConstValueTransformer...\n",
      "2024-09-26 13:42:54.291 | INFO     | sdgx.data_processors.transformers.const:convert:77 - Converting data using ConstValueTransformer... Finished.\n",
      "2024-09-26 13:42:54.292 | INFO     | sdgx.data_processors.transformers.empty:convert:72 - Converting data using EmptyTransformer...\n",
      "2024-09-26 13:42:54.293 | INFO     | sdgx.data_processors.transformers.empty:convert:76 - Converting data using EmptyTransformer... Finished (No action).\n",
      "2024-09-26 13:42:54.294 | INFO     | sdgx.data_processors.transformers.column_order:convert:51 - Converting data using ColumnOrderTransformer...\n",
      "2024-09-26 13:42:54.295 | INFO     | sdgx.data_processors.transformers.column_order:convert:52 - Converting data using ColumnOrderTransformer... Finished (No action).\n"
     ]
    },
    {
     "name": "stdout",
     "output_type": "stream",
     "text": [
      "{'primary_keys': {'Unnamed: 0', 'location', 'isbn'}, 'column_list': ['Unnamed: 0', 'loan_id', 'book_id', 'student_id', 'loan_date', 'return_date', 'title', 'author', 'isbn', 'library_id', 'name_x', 'location', 'name_y', 'email', 'date_of_birth', 'major'], 'column_inspect_level': {'china_mainland_mobile_phone_columns': 30, 'const_columns': 80, 'unified_social_credit_code_columns': 30, 'discrete_columns': 10, 'china_mainland_id_columns': 30, 'english_name_columns': 40, 'id_columns': 20, 'chinese_company_name_columns': 40, 'datetime_columns': 20, 'china_mainland_postcode_columns': 20, 'chinese_name_columns': 40, 'china_mainland_address_columns': 30, 'bool_columns': 10, 'int_columns': 10, 'float_columns': 10, 'empty_columns': 90, 'email_columns': 30}, 'pii_columns': {'name_y', 'email', 'author', 'title'}, 'id_columns': {'Unnamed: 0', 'location', 'isbn'}, 'int_columns': {'Unnamed: 0', 'book_id', 'loan_id', 'student_id', 'major', 'library_id'}, 'float_columns': set(), 'bool_columns': set(), 'discrete_columns': {'return_date', 'loan_date', 'location', 'name_y', 'email', 'date_of_birth', 'name_x', 'author', 'title', 'isbn'}, 'datetime_columns': {'return_date', 'date_of_birth', 'loan_date'}, 'const_columns': set(), 'datetime_format': {}, 'numeric_format': {'positive': ['Unnamed: 0', 'book_id', 'library_id', 'loan_id', 'major', 'student_id'], 'negative': []}, 'version': '1.0'}\n"
     ]
    },
    {
     "name": "stderr",
     "output_type": "stream",
     "text": [
      "2024-09-26 13:42:54.366 | INFO     | sdgx.data_processors.transformers.nan:convert:110 - Converting data using NonValueTransformer...\n",
      "2024-09-26 13:42:54.384 | INFO     | sdgx.data_processors.transformers.nan:convert:130 - Converting data using NonValueTransformer... Finished.\n",
      "2024-09-26 13:42:54.385 | INFO     | sdgx.data_processors.transformers.outlier:convert:84 - Converting data using OutlierTransformer...\n",
      "2024-09-26 13:42:54.397 | INFO     | sdgx.data_processors.transformers.outlier:convert:106 - Converting data using OutlierTransformer... Finished.\n",
      "2024-09-26 13:42:54.402 | INFO     | sdgx.data_processors.formatters.int:convert:50 - Converting data using IntValueFormatter... Finished  (No Action).\n",
      "2024-09-26 13:42:54.403 | INFO     | sdgx.data_processors.formatters.datetime:convert:89 - Converting data using DatetimeFormatter... Finished (No datetime columns).\n",
      "2024-09-26 13:42:54.405 | INFO     | sdgx.data_processors.transformers.const:convert:69 - Converting data using ConstValueTransformer...\n",
      "2024-09-26 13:42:54.406 | INFO     | sdgx.data_processors.transformers.const:convert:77 - Converting data using ConstValueTransformer... Finished.\n",
      "2024-09-26 13:42:54.407 | INFO     | sdgx.data_processors.transformers.empty:convert:72 - Converting data using EmptyTransformer...\n",
      "2024-09-26 13:42:54.408 | INFO     | sdgx.data_processors.transformers.empty:convert:76 - Converting data using EmptyTransformer... Finished (No action).\n",
      "2024-09-26 13:42:54.409 | INFO     | sdgx.data_processors.transformers.column_order:convert:51 - Converting data using ColumnOrderTransformer...\n",
      "2024-09-26 13:42:54.410 | INFO     | sdgx.data_processors.transformers.column_order:convert:52 - Converting data using ColumnOrderTransformer... Finished (No action).\n",
      "2024-09-26 13:42:54.444 | INFO     | sdgx.synthesizer:fit:320 - Initialized processed data loader in 0.2987048625946045s\n",
      "2024-09-26 13:42:54.445 | INFO     | sdgx.synthesizer:fit:322 - Model fit Started...\n",
      "2024-09-26 13:42:54.446 | INFO     | sdgx.models.ml.single_table.ctgan:fit:223 - CTGAN prefit finished, start CTGAN training.\n",
      "2024-09-26 13:42:54.447 | INFO     | sdgx.models.ml.single_table.ctgan:_fit:275 - Fit using data_size:13684, data_dim: 62101.\n",
      "2024-09-26 13:42:57.868 | INFO     | sdgx.models.ml.single_table.ctgan:_fit:301 - Starting model training, epochs: 1\n"
     ]
    },
    {
     "data": {
      "application/vnd.jupyter.widget-view+json": {
       "model_id": "7f21633a05984e04a32e138c39e1afa5",
       "version_major": 2,
       "version_minor": 0
      },
      "text/plain": [
       "  0%|          | 0/27 [00:00<?, ?it/s]"
      ]
     },
     "metadata": {},
     "output_type": "display_data"
    },
    {
     "name": "stderr",
     "output_type": "stream",
     "text": [
      "2024-09-26 14:09:17.493 | INFO     | sdgx.models.ml.single_table.ctgan:_fit:382 - Epoch 1, Loss G:  8.2532, Loss D: -1.5258, Time:  1579.6218\n",
      "2024-09-26 14:09:20.422 | INFO     | sdgx.models.ml.single_table.ctgan:fit:225 - CTGAN training finished.\n",
      "2024-09-26 14:09:20.424 | INFO     | sdgx.synthesizer:fit:331 - Model fit... Finished\n"
     ]
    }
   ],
   "source": [
    "ctgan.set_batch_size_test(500)\n",
    "synthesizer.fit(from_prefit=True,prefit=False)"
   ]
  },
  {
   "cell_type": "code",
   "execution_count": 7,
   "metadata": {},
   "outputs": [
    {
     "name": "stderr",
     "output_type": "stream",
     "text": [
      "2024-09-26 14:16:09.454 | INFO     | sdgx.synthesizer:save:170 - Saving synthesizer to /home/wbx/synthetic-data-generator/test_model_10k_single_id9\n"
     ]
    },
    {
     "data": {
      "text/plain": [
       "PosixPath('/home/wbx/synthetic-data-generator/test_model_10k_single_id9')"
      ]
     },
     "execution_count": 7,
     "metadata": {},
     "output_type": "execute_result"
    }
   ],
   "source": [
    "synthesizer.save(\"test_model_10k_single_id9\")"
   ]
  },
  {
   "cell_type": "code",
   "execution_count": null,
   "metadata": {},
   "outputs": [],
   "source": [
    "from sdgx.models.ml.single_table.ctgan import CTGANSynthesizerModel\n",
    "from sdgx.synthesizer import Synthesizer\n",
    "synthesizer = Synthesizer.load(\"test_model_10k_single\", CTGANSynthesizerModel)"
   ]
  },
  {
   "cell_type": "code",
   "execution_count": null,
   "metadata": {},
   "outputs": [],
   "source": [
    "synthesizer.model._batch_size"
   ]
  },
  {
   "cell_type": "code",
   "execution_count": 8,
   "metadata": {},
   "outputs": [
    {
     "name": "stderr",
     "output_type": "stream",
     "text": [
      "2024-09-26 14:16:59.050 | INFO     | sdgx.synthesizer:sample:355 - Sampling...\n"
     ]
    },
    {
     "data": {
      "application/vnd.jupyter.widget-view+json": {
       "model_id": "118197dadefe421c9a1583507151301f",
       "version_major": 2,
       "version_minor": 0
      },
      "text/plain": [
       "  0%|          | 0/150 [00:00<?, ?it/s]"
      ]
     },
     "metadata": {},
     "output_type": "display_data"
    },
    {
     "data": {
      "application/vnd.jupyter.widget-view+json": {
       "model_id": "5c14e2dfd84e403a8ee069688150575d",
       "version_major": 2,
       "version_minor": 0
      },
      "text/plain": [
       "  0%|          | 0/1 [00:00<?, ?it/s]"
      ]
     },
     "metadata": {},
     "output_type": "display_data"
    },
    {
     "data": {
      "application/vnd.jupyter.widget-view+json": {
       "model_id": "cdf49a297b864cc5961af37180b0e9ea",
       "version_major": 2,
       "version_minor": 0
      },
      "text/plain": [
       "  0%|          | 0/500 [00:00<?, ?it/s]"
      ]
     },
     "metadata": {},
     "output_type": "display_data"
    },
    {
     "name": "stderr",
     "output_type": "stream",
     "text": [
      "2024-09-26 14:29:30.195 | INFO     | sdgx.data_processors.transformers.nan:reverse_convert:155 - Data reverse-converted by NonValueTransformer.\n",
      "2024-09-26 14:29:30.198 | INFO     | sdgx.data_processors.transformers.outlier:reverse_convert:120 - Data reverse-converted by OutlierTransformer (No Action).\n",
      "2024-09-26 14:29:30.282 | INFO     | sdgx.data_processors.formatters.int:reverse_convert:64 - Data reverse-converted by IntValueFormatter.\n",
      "2024-09-26 14:29:30.283 | INFO     | sdgx.data_processors.formatters.datetime:reverse_convert:162 - Data reverse-converted by DatetimeFormatter (No datetime columns).\n",
      "2024-09-26 14:29:30.284 | INFO     | sdgx.data_processors.transformers.const:reverse_convert:103 - Data reverse-converted by ConstValueTransformer.\n",
      "2024-09-26 14:29:30.285 | INFO     | sdgx.data_processors.transformers.empty:reverse_convert:98 - Data reverse-converted by EmptyTransformer.\n",
      "2024-09-26 14:29:30.287 | INFO     | sdgx.data_processors.transformers.column_order:reverse_convert:62 - Data reverse-converted by ColumnOrderTransformer.\n"
     ]
    },
    {
     "data": {
      "text/html": [
       "<div>\n",
       "<style scoped>\n",
       "    .dataframe tbody tr th:only-of-type {\n",
       "        vertical-align: middle;\n",
       "    }\n",
       "\n",
       "    .dataframe tbody tr th {\n",
       "        vertical-align: top;\n",
       "    }\n",
       "\n",
       "    .dataframe thead th {\n",
       "        text-align: right;\n",
       "    }\n",
       "</style>\n",
       "<table border=\"1\" class=\"dataframe\">\n",
       "  <thead>\n",
       "    <tr style=\"text-align: right;\">\n",
       "      <th></th>\n",
       "      <th>Unnamed: 0</th>\n",
       "      <th>loan_id</th>\n",
       "      <th>book_id</th>\n",
       "      <th>student_id</th>\n",
       "      <th>loan_date</th>\n",
       "      <th>return_date</th>\n",
       "      <th>title</th>\n",
       "      <th>author</th>\n",
       "      <th>isbn</th>\n",
       "      <th>library_id</th>\n",
       "      <th>name_x</th>\n",
       "      <th>location</th>\n",
       "      <th>name_y</th>\n",
       "      <th>email</th>\n",
       "      <th>date_of_birth</th>\n",
       "      <th>major</th>\n",
       "    </tr>\n",
       "  </thead>\n",
       "  <tbody>\n",
       "    <tr>\n",
       "      <th>0</th>\n",
       "      <td>9531</td>\n",
       "      <td>-151</td>\n",
       "      <td>1209</td>\n",
       "      <td>389</td>\n",
       "      <td>2024-03-12</td>\n",
       "      <td>2025-02-06</td>\n",
       "      <td>Unit far law.</td>\n",
       "      <td>Michael Jordan</td>\n",
       "      <td>978-1-75559-950-6</td>\n",
       "      <td>2578</td>\n",
       "      <td>Harrison and Sons Library</td>\n",
       "      <td>12533 Allen Landing Apt. 918\\nWest Leah, IN 21328</td>\n",
       "      <td>Anna Gibson</td>\n",
       "      <td>ftapia@johnson-sanders.net</td>\n",
       "      <td>2001-08-03</td>\n",
       "      <td>309</td>\n",
       "    </tr>\n",
       "    <tr>\n",
       "      <th>1</th>\n",
       "      <td>9989</td>\n",
       "      <td>6967</td>\n",
       "      <td>2459</td>\n",
       "      <td>692</td>\n",
       "      <td>2023-10-17</td>\n",
       "      <td>2025-07-05</td>\n",
       "      <td>Believe or.</td>\n",
       "      <td>Michael Merritt</td>\n",
       "      <td>978-1-75748-968-3</td>\n",
       "      <td>4632</td>\n",
       "      <td>Tran, Harris and Harvey Library</td>\n",
       "      <td>PSC 4448, Box 1020\\nAPO AE 83355</td>\n",
       "      <td>Stefanie Mcdonald</td>\n",
       "      <td>ucrawford@thomas.com</td>\n",
       "      <td>1997-09-04</td>\n",
       "      <td>6663</td>\n",
       "    </tr>\n",
       "    <tr>\n",
       "      <th>2</th>\n",
       "      <td>1287</td>\n",
       "      <td>1437</td>\n",
       "      <td>4211</td>\n",
       "      <td>1749</td>\n",
       "      <td>2023-10-06</td>\n",
       "      <td>2024-10-30</td>\n",
       "      <td>Industry wrong happy.</td>\n",
       "      <td>Ashley Lewis</td>\n",
       "      <td>978-1-900175-76-0</td>\n",
       "      <td>3088</td>\n",
       "      <td>King, Bates and Arnold Library</td>\n",
       "      <td>7181 Kim Corner\\nNorth Oscar, NH 17041</td>\n",
       "      <td>Kaitlyn Shepard</td>\n",
       "      <td>thompsoncraig@jackson.net</td>\n",
       "      <td>2005-10-14</td>\n",
       "      <td>8041</td>\n",
       "    </tr>\n",
       "    <tr>\n",
       "      <th>3</th>\n",
       "      <td>13210</td>\n",
       "      <td>4581</td>\n",
       "      <td>8624</td>\n",
       "      <td>4705</td>\n",
       "      <td>2024-07-10</td>\n",
       "      <td>2025-05-20</td>\n",
       "      <td>On with doctor.</td>\n",
       "      <td>Mrs. Jody Khan DVM</td>\n",
       "      <td>978-0-299-68931-5</td>\n",
       "      <td>4517</td>\n",
       "      <td>Marshall-Gould Library</td>\n",
       "      <td>5108 David Gardens Apt. 761\\nFreemanborough, L...</td>\n",
       "      <td>Mrs. Danielle Vaughn</td>\n",
       "      <td>kking@gamble.biz</td>\n",
       "      <td>2000-09-13</td>\n",
       "      <td>573</td>\n",
       "    </tr>\n",
       "    <tr>\n",
       "      <th>4</th>\n",
       "      <td>3233</td>\n",
       "      <td>2388</td>\n",
       "      <td>6291</td>\n",
       "      <td>7571</td>\n",
       "      <td>2024-07-30</td>\n",
       "      <td>2024-12-01</td>\n",
       "      <td>Pay case.</td>\n",
       "      <td>Michelle Gutierrez</td>\n",
       "      <td>978-0-436-00162-8</td>\n",
       "      <td>5464</td>\n",
       "      <td>Wheeler, Roberson and West Library</td>\n",
       "      <td>3337 Brandi Junction\\nNew Diana, SD 67732</td>\n",
       "      <td>Adam Kelly</td>\n",
       "      <td>johndoyle@richardson-sparks.com</td>\n",
       "      <td>1994-01-05</td>\n",
       "      <td>1881</td>\n",
       "    </tr>\n",
       "    <tr>\n",
       "      <th>...</th>\n",
       "      <td>...</td>\n",
       "      <td>...</td>\n",
       "      <td>...</td>\n",
       "      <td>...</td>\n",
       "      <td>...</td>\n",
       "      <td>...</td>\n",
       "      <td>...</td>\n",
       "      <td>...</td>\n",
       "      <td>...</td>\n",
       "      <td>...</td>\n",
       "      <td>...</td>\n",
       "      <td>...</td>\n",
       "      <td>...</td>\n",
       "      <td>...</td>\n",
       "      <td>...</td>\n",
       "      <td>...</td>\n",
       "    </tr>\n",
       "    <tr>\n",
       "      <th>145</th>\n",
       "      <td>3781</td>\n",
       "      <td>3962</td>\n",
       "      <td>-105</td>\n",
       "      <td>9209</td>\n",
       "      <td>2023-10-16</td>\n",
       "      <td>2024-09-30</td>\n",
       "      <td>Doctor owner door.</td>\n",
       "      <td>Steven Dixon</td>\n",
       "      <td>978-1-81840-522-5</td>\n",
       "      <td>563</td>\n",
       "      <td>Mccall, Lynch and Scott Library</td>\n",
       "      <td>733 Stewart Knolls\\nErinton, NJ 80662</td>\n",
       "      <td>Audrey Hawkins</td>\n",
       "      <td>kellytaylor@turner-sanchez.biz</td>\n",
       "      <td>1996-10-05</td>\n",
       "      <td>3131</td>\n",
       "    </tr>\n",
       "    <tr>\n",
       "      <th>146</th>\n",
       "      <td>7222</td>\n",
       "      <td>2456</td>\n",
       "      <td>3360</td>\n",
       "      <td>5902</td>\n",
       "      <td>2023-10-15</td>\n",
       "      <td>2024-12-24</td>\n",
       "      <td>Break everyone determine.</td>\n",
       "      <td>Lauren Sandoval</td>\n",
       "      <td>978-1-961432-33-8</td>\n",
       "      <td>-5</td>\n",
       "      <td>Gibbs-Jones Library</td>\n",
       "      <td>2000 Sandoval Rue\\nWest William, VT 88822</td>\n",
       "      <td>Christopher Thomas</td>\n",
       "      <td>dleach@chapman.org</td>\n",
       "      <td>2002-10-28</td>\n",
       "      <td>6528</td>\n",
       "    </tr>\n",
       "    <tr>\n",
       "      <th>147</th>\n",
       "      <td>1930</td>\n",
       "      <td>4890</td>\n",
       "      <td>5979</td>\n",
       "      <td>2313</td>\n",
       "      <td>2024-03-24</td>\n",
       "      <td>2025-06-27</td>\n",
       "      <td>Only size visit.</td>\n",
       "      <td>Johnny Combs</td>\n",
       "      <td>978-0-443-77660-1</td>\n",
       "      <td>1466</td>\n",
       "      <td>Mcdowell Group Library</td>\n",
       "      <td>PSC 0912, Box 2745\\nAPO AP 18226</td>\n",
       "      <td>Lisa Soto</td>\n",
       "      <td>xvincent@ortega.org</td>\n",
       "      <td>2004-04-01</td>\n",
       "      <td>6150</td>\n",
       "    </tr>\n",
       "    <tr>\n",
       "      <th>148</th>\n",
       "      <td>10397</td>\n",
       "      <td>4655</td>\n",
       "      <td>1161</td>\n",
       "      <td>1810</td>\n",
       "      <td>2024-05-23</td>\n",
       "      <td>2025-01-27</td>\n",
       "      <td>Every how up.</td>\n",
       "      <td>Shawna Taylor</td>\n",
       "      <td>978-0-432-40265-8</td>\n",
       "      <td>1684</td>\n",
       "      <td>Hart-Saunders Library</td>\n",
       "      <td>1781 Hill Extensions\\nLake Amanda, NV 35426</td>\n",
       "      <td>Nicole Barnes</td>\n",
       "      <td>dayala@mccoy.com</td>\n",
       "      <td>1997-07-08</td>\n",
       "      <td>4626</td>\n",
       "    </tr>\n",
       "    <tr>\n",
       "      <th>149</th>\n",
       "      <td>8114</td>\n",
       "      <td>8358</td>\n",
       "      <td>6243</td>\n",
       "      <td>3593</td>\n",
       "      <td>2024-06-12</td>\n",
       "      <td>2025-01-16</td>\n",
       "      <td>Response its.</td>\n",
       "      <td>Linda Estes</td>\n",
       "      <td>978-0-413-65706-0</td>\n",
       "      <td>4145</td>\n",
       "      <td>Armstrong, Daugherty and Hernandez Library</td>\n",
       "      <td>95583 Sabrina Brooks\\nPort Katherinechester, N...</td>\n",
       "      <td>Jill Young</td>\n",
       "      <td>jwashington@meza.com</td>\n",
       "      <td>1995-05-23</td>\n",
       "      <td>2780</td>\n",
       "    </tr>\n",
       "  </tbody>\n",
       "</table>\n",
       "<p>150 rows × 16 columns</p>\n",
       "</div>"
      ],
      "text/plain": [
       "     Unnamed: 0  loan_id  book_id  student_id   loan_date return_date  \\\n",
       "0          9531     -151     1209         389  2024-03-12  2025-02-06   \n",
       "1          9989     6967     2459         692  2023-10-17  2025-07-05   \n",
       "2          1287     1437     4211        1749  2023-10-06  2024-10-30   \n",
       "3         13210     4581     8624        4705  2024-07-10  2025-05-20   \n",
       "4          3233     2388     6291        7571  2024-07-30  2024-12-01   \n",
       "..          ...      ...      ...         ...         ...         ...   \n",
       "145        3781     3962     -105        9209  2023-10-16  2024-09-30   \n",
       "146        7222     2456     3360        5902  2023-10-15  2024-12-24   \n",
       "147        1930     4890     5979        2313  2024-03-24  2025-06-27   \n",
       "148       10397     4655     1161        1810  2024-05-23  2025-01-27   \n",
       "149        8114     8358     6243        3593  2024-06-12  2025-01-16   \n",
       "\n",
       "                         title              author               isbn  \\\n",
       "0                Unit far law.      Michael Jordan  978-1-75559-950-6   \n",
       "1                  Believe or.     Michael Merritt  978-1-75748-968-3   \n",
       "2        Industry wrong happy.        Ashley Lewis  978-1-900175-76-0   \n",
       "3              On with doctor.  Mrs. Jody Khan DVM  978-0-299-68931-5   \n",
       "4                    Pay case.  Michelle Gutierrez  978-0-436-00162-8   \n",
       "..                         ...                 ...                ...   \n",
       "145         Doctor owner door.        Steven Dixon  978-1-81840-522-5   \n",
       "146  Break everyone determine.     Lauren Sandoval  978-1-961432-33-8   \n",
       "147           Only size visit.        Johnny Combs  978-0-443-77660-1   \n",
       "148              Every how up.       Shawna Taylor  978-0-432-40265-8   \n",
       "149              Response its.         Linda Estes  978-0-413-65706-0   \n",
       "\n",
       "     library_id                                      name_x  \\\n",
       "0          2578                   Harrison and Sons Library   \n",
       "1          4632             Tran, Harris and Harvey Library   \n",
       "2          3088              King, Bates and Arnold Library   \n",
       "3          4517                      Marshall-Gould Library   \n",
       "4          5464          Wheeler, Roberson and West Library   \n",
       "..          ...                                         ...   \n",
       "145         563             Mccall, Lynch and Scott Library   \n",
       "146          -5                         Gibbs-Jones Library   \n",
       "147        1466                      Mcdowell Group Library   \n",
       "148        1684                       Hart-Saunders Library   \n",
       "149        4145  Armstrong, Daugherty and Hernandez Library   \n",
       "\n",
       "                                              location                name_y  \\\n",
       "0    12533 Allen Landing Apt. 918\\nWest Leah, IN 21328           Anna Gibson   \n",
       "1                     PSC 4448, Box 1020\\nAPO AE 83355     Stefanie Mcdonald   \n",
       "2               7181 Kim Corner\\nNorth Oscar, NH 17041       Kaitlyn Shepard   \n",
       "3    5108 David Gardens Apt. 761\\nFreemanborough, L...  Mrs. Danielle Vaughn   \n",
       "4            3337 Brandi Junction\\nNew Diana, SD 67732            Adam Kelly   \n",
       "..                                                 ...                   ...   \n",
       "145              733 Stewart Knolls\\nErinton, NJ 80662        Audrey Hawkins   \n",
       "146          2000 Sandoval Rue\\nWest William, VT 88822    Christopher Thomas   \n",
       "147                   PSC 0912, Box 2745\\nAPO AP 18226             Lisa Soto   \n",
       "148        1781 Hill Extensions\\nLake Amanda, NV 35426         Nicole Barnes   \n",
       "149  95583 Sabrina Brooks\\nPort Katherinechester, N...            Jill Young   \n",
       "\n",
       "                               email date_of_birth  major  \n",
       "0         ftapia@johnson-sanders.net    2001-08-03    309  \n",
       "1               ucrawford@thomas.com    1997-09-04   6663  \n",
       "2          thompsoncraig@jackson.net    2005-10-14   8041  \n",
       "3                   kking@gamble.biz    2000-09-13    573  \n",
       "4    johndoyle@richardson-sparks.com    1994-01-05   1881  \n",
       "..                               ...           ...    ...  \n",
       "145   kellytaylor@turner-sanchez.biz    1996-10-05   3131  \n",
       "146               dleach@chapman.org    2002-10-28   6528  \n",
       "147              xvincent@ortega.org    2004-04-01   6150  \n",
       "148                 dayala@mccoy.com    1997-07-08   4626  \n",
       "149             jwashington@meza.com    1995-05-23   2780  \n",
       "\n",
       "[150 rows x 16 columns]"
      ]
     },
     "execution_count": 8,
     "metadata": {},
     "output_type": "execute_result"
    }
   ],
   "source": [
    "synthesizer.sample(150)"
   ]
  }
 ],
 "metadata": {
  "kernelspec": {
   "display_name": "sdg10",
   "language": "python",
   "name": "python3"
  },
  "language_info": {
   "codemirror_mode": {
    "name": "ipython",
    "version": 3
   },
   "file_extension": ".py",
   "mimetype": "text/x-python",
   "name": "python",
   "nbconvert_exporter": "python",
   "pygments_lexer": "ipython3",
   "version": "3.10.14"
  }
 },
 "nbformat": 4,
 "nbformat_minor": 2
}
