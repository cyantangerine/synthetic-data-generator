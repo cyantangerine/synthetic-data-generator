{
 "cells": [
  {
   "cell_type": "code",
   "id": "initial_id",
   "metadata": {
    "collapsed": true,
    "ExecuteTime": {
     "end_time": "2024-11-22T08:13:04.633432Z",
     "start_time": "2024-11-22T08:13:02.417344Z"
    }
   },
   "source": [
    "from sdgx.data_models.metadata import Metadata\n",
    "from sdgx.data_processors.base import DataProcessor\n",
    "from sdgx.data_processors.manager import DataProcessorManager\n",
    "import pandas as pd\n",
    "from typing_extensions import Generator\n",
    "import numpy as np\n",
    "from sdgx.data_loader import DataLoader\n",
    "from sdgx.data_connectors.generator_connector import GeneratorConnector\n",
    "\n",
    "'''\n",
    "pd.concat([\n",
    "        pd.DataFrame([*np.linspace(0, 1, 15000), None], columns=['x']),\n",
    "        pd.DataFrame([* ([None] * 1000), *([np.nan]*1000)], columns=['y'])\n",
    "    ],axis=1) \n",
    "    \n",
    "pd.DataFrame([str(\"\".join([chr(i) for i in random.choices(range(int(ord('A')), ord('A') + 26), k=10)])) for j in range(10000)], columns=['z']),\n",
    "'''\n",
    "import faker\n",
    "import random\n",
    "ff = faker.Faker()\n",
    "def gener():\n",
    "    yield pd.concat([\n",
    "        pd.DataFrame([ff.date() for i in range(15000)], columns=['date']),\n",
    "        # pd.DataFrame([*np.linspace(0, 1, 15000), None], columns=['x']),\n",
    "        # pd.DataFrame([*np.linspace(0, 1, 10000), *([np.nan] * 5000)], columns=['y'])\n",
    "    ], axis=1)\n",
    "    # D = [*np.linspace(0, 1, 500), *([np.nan]*500), *[None]*100]\n",
    "    # A = [*[None]*50, *([np.nan]*450), *np.linspace(0, 1000, 450), *[None]*150]\n",
    "    # yield pd.DataFrame([\n",
    "    #     [a, None if i>15 else random.random(), d, chr(i%26+67)] for i,(a, d) in enumerate(zip(A, D)) \n",
    "    # ], columns=['aax', 'aay', 'z', 'w'])\n",
    "\n",
    "\n",
    "data_processors_manager = DataProcessorManager()\n",
    "data_processors = data_processors_manager.registed_default_processor_list\n",
    "data_processors = [\n",
    "    (\n",
    "        d if isinstance(d, DataProcessor) else data_processors_manager.init_data_processor(d)\n",
    "    )\n",
    "    for d in data_processors\n",
    "]\n",
    "dataconnector = GeneratorConnector(gener)\n",
    "dataloader = DataLoader(dataconnector)\n",
    "\n",
    "metadata = Metadata.from_dataloader(dataloader)\n",
    "metadata.datetime_columns = [\"date\"]\n",
    "metadata.discrete_columns = []\n",
    "metadata.datetime_format = {\n",
    "    \"date\": \"%Y-%m-%d\"\n",
    "}\n",
    "for key in dir(metadata):\n",
    "    if key.endswith('_columns') and key != 'get_all_data_type_columns':\n",
    "        print(f\"{key}={getattr(metadata, key)}\")\n",
    "print(metadata._extend)\n",
    "\n",
    "for d in data_processors:\n",
    "    d.fit(metadata=metadata, tabular_data=dataloader)\n",
    "\n",
    "\n",
    "def chunk_generator() -> Generator[pd.DataFrame, None, None]:\n",
    "    for chunk in dataloader.iter():\n",
    "        for d in data_processors:\n",
    "            chunk = d.convert(chunk)\n",
    "            \n",
    "        # assert not chunk.isna().any().any()\n",
    "        # assert not chunk.isnull().any().any()\n",
    "        yield chunk\n",
    "\n",
    "\n",
    "processed_dataloader = DataLoader(\n",
    "    GeneratorConnector(chunk_generator),\n",
    "    identity=dataloader.identity\n",
    ")\n",
    "\n",
    "processed_dataloader.load_all()"
   ],
   "outputs": [
    {
     "name": "stderr",
     "output_type": "stream",
     "text": [
      "\u001B[32m2024-11-22 16:13:03.763\u001B[0m | \u001B[1mINFO    \u001B[0m | \u001B[36msdgx.data_models.metadata\u001B[0m:\u001B[36mfrom_dataloader\u001B[0m:\u001B[36m294\u001B[0m - \u001B[1mInspecting metadata...\u001B[0m\n",
      "\u001B[32m2024-11-22 16:13:04.485\u001B[0m | \u001B[1mINFO    \u001B[0m | \u001B[36msdgx.data_models.metadata\u001B[0m:\u001B[36mupdate_primary_key\u001B[0m:\u001B[36m508\u001B[0m - \u001B[1mPrimary Key updated: set().\u001B[0m\n",
      "\u001B[32m2024-11-22 16:13:04.486\u001B[0m | \u001B[1mINFO    \u001B[0m | \u001B[36msdgx.data_processors.transformers.nan\u001B[0m:\u001B[36mfit\u001B[0m:\u001B[36m71\u001B[0m - \u001B[1mNonValueTransformer Fitted.\u001B[0m\n",
      "\u001B[32m2024-11-22 16:13:04.487\u001B[0m | \u001B[1mINFO    \u001B[0m | \u001B[36msdgx.data_processors.transformers.nan\u001B[0m:\u001B[36mfit\u001B[0m:\u001B[36m87\u001B[0m - \u001B[1mNonValueTransformer get int columns: set().\u001B[0m\n",
      "\u001B[32m2024-11-22 16:13:04.487\u001B[0m | \u001B[1mINFO    \u001B[0m | \u001B[36msdgx.data_processors.transformers.nan\u001B[0m:\u001B[36mfit\u001B[0m:\u001B[36m96\u001B[0m - \u001B[1mNonValueTransformer get float columns: set().\u001B[0m\n",
      "\u001B[32m2024-11-22 16:13:04.488\u001B[0m | \u001B[1mINFO    \u001B[0m | \u001B[36msdgx.data_processors.transformers.nan\u001B[0m:\u001B[36mfit\u001B[0m:\u001B[36m101\u001B[0m - \u001B[1mNonValueTransformer get column list from metadata: ['date'].\u001B[0m\n",
      "\u001B[32m2024-11-22 16:13:04.488\u001B[0m | \u001B[1mINFO    \u001B[0m | \u001B[36msdgx.data_processors.transformers.outlier\u001B[0m:\u001B[36mfit\u001B[0m:\u001B[36m70\u001B[0m - \u001B[1mOutlierTransformer Fitted.\u001B[0m\n",
      "\u001B[32m2024-11-22 16:13:04.489\u001B[0m | \u001B[1mINFO    \u001B[0m | \u001B[36msdgx.data_processors.formatters.int\u001B[0m:\u001B[36mfit\u001B[0m:\u001B[36m40\u001B[0m - \u001B[1mIntValueFormatter Fitted.\u001B[0m\n",
      "\u001B[32m2024-11-22 16:13:04.489\u001B[0m | \u001B[1mINFO    \u001B[0m | \u001B[36msdgx.data_processors.formatters.datetime\u001B[0m:\u001B[36mfit\u001B[0m:\u001B[36m77\u001B[0m - \u001B[1mDatetimeFormatter Fitted.\u001B[0m\n",
      "\u001B[32m2024-11-22 16:13:04.490\u001B[0m | \u001B[1mINFO    \u001B[0m | \u001B[36msdgx.data_processors.transformers.const\u001B[0m:\u001B[36mfit\u001B[0m:\u001B[36m49\u001B[0m - \u001B[1mConstValueTransformer Fitted.\u001B[0m\n",
      "\u001B[32m2024-11-22 16:13:04.491\u001B[0m | \u001B[1mINFO    \u001B[0m | \u001B[36msdgx.data_processors.transformers.empty\u001B[0m:\u001B[36mfit\u001B[0m:\u001B[36m54\u001B[0m - \u001B[1mEmptyTransformer Fitted.\u001B[0m\n",
      "\u001B[32m2024-11-22 16:13:04.491\u001B[0m | \u001B[1mINFO    \u001B[0m | \u001B[36msdgx.data_processors.transformers.column_order\u001B[0m:\u001B[36mfit\u001B[0m:\u001B[36m41\u001B[0m - \u001B[1mColumnOrderTransformer Fitted.\u001B[0m\n",
      "\u001B[32m2024-11-22 16:13:04.499\u001B[0m | \u001B[1mINFO    \u001B[0m | \u001B[36msdgx.data_processors.transformers.nan\u001B[0m:\u001B[36mconvert\u001B[0m:\u001B[36m110\u001B[0m - \u001B[1mConverting data using NonValueTransformer...\u001B[0m\n",
      "\u001B[32m2024-11-22 16:13:04.500\u001B[0m | \u001B[1mINFO    \u001B[0m | \u001B[36msdgx.data_processors.transformers.nan\u001B[0m:\u001B[36mconvert\u001B[0m:\u001B[36m130\u001B[0m - \u001B[1mConverting data using NonValueTransformer... Finished.\u001B[0m\n",
      "\u001B[32m2024-11-22 16:13:04.500\u001B[0m | \u001B[1mINFO    \u001B[0m | \u001B[36msdgx.data_processors.transformers.outlier\u001B[0m:\u001B[36mconvert\u001B[0m:\u001B[36m84\u001B[0m - \u001B[1mConverting data using OutlierTransformer...\u001B[0m\n",
      "\u001B[32m2024-11-22 16:13:04.501\u001B[0m | \u001B[1mINFO    \u001B[0m | \u001B[36msdgx.data_processors.transformers.outlier\u001B[0m:\u001B[36mconvert\u001B[0m:\u001B[36m106\u001B[0m - \u001B[1mConverting data using OutlierTransformer... Finished.\u001B[0m\n",
      "\u001B[32m2024-11-22 16:13:04.501\u001B[0m | \u001B[1mINFO    \u001B[0m | \u001B[36msdgx.data_processors.formatters.int\u001B[0m:\u001B[36mconvert\u001B[0m:\u001B[36m50\u001B[0m - \u001B[1mConverting data using IntValueFormatter... Finished  (No Action).\u001B[0m\n",
      "\u001B[32m2024-11-22 16:13:04.502\u001B[0m | \u001B[1mINFO    \u001B[0m | \u001B[36msdgx.data_processors.formatters.datetime\u001B[0m:\u001B[36mconvert\u001B[0m:\u001B[36m99\u001B[0m - \u001B[1mConverting data using DatetimeFormatter...\u001B[0m\n",
      "\u001B[32m2024-11-22 16:13:04.546\u001B[0m | \u001B[33m\u001B[1mWARNING \u001B[0m | \u001B[36msdgx.data_processors.formatters.datetime\u001B[0m:\u001B[36mconvert_single_column_datetime_to_timestamp\u001B[0m:\u001B[36m134\u001B[0m - \u001B[33m\u001B[1mAn error occured when convert str to timestamp [Errno 22] Invalid argument.\u001B[0m\n",
      "\u001B[32m2024-11-22 16:13:04.547\u001B[0m | \u001B[33m\u001B[1mWARNING \u001B[0m | \u001B[36msdgx.data_processors.formatters.datetime\u001B[0m:\u001B[36mconvert_single_column_datetime_to_timestamp\u001B[0m:\u001B[36m135\u001B[0m - \u001B[33m\u001B[1mInput parameters: (1970-01-01, %Y-%m-%d)\u001B[0m\n",
      "\u001B[32m2024-11-22 16:13:04.548\u001B[0m | \u001B[33m\u001B[1mWARNING \u001B[0m | \u001B[36msdgx.data_processors.formatters.datetime\u001B[0m:\u001B[36mconvert_single_column_datetime_to_timestamp\u001B[0m:\u001B[36m136\u001B[0m - \u001B[33m\u001B[1mInput type: (<class 'str'>, <class 'str'>)\u001B[0m\n",
      "\u001B[32m2024-11-22 16:13:04.554\u001B[0m | \u001B[1mINFO    \u001B[0m | \u001B[36msdgx.data_processors.formatters.datetime\u001B[0m:\u001B[36mconvert\u001B[0m:\u001B[36m105\u001B[0m - \u001B[1mConverting data using DatetimeFormatter... Finished.\u001B[0m\n",
      "\u001B[32m2024-11-22 16:13:04.555\u001B[0m | \u001B[1mINFO    \u001B[0m | \u001B[36msdgx.data_processors.transformers.const\u001B[0m:\u001B[36mconvert\u001B[0m:\u001B[36m69\u001B[0m - \u001B[1mConverting data using ConstValueTransformer...\u001B[0m\n",
      "\u001B[32m2024-11-22 16:13:04.555\u001B[0m | \u001B[1mINFO    \u001B[0m | \u001B[36msdgx.data_processors.transformers.const\u001B[0m:\u001B[36mconvert\u001B[0m:\u001B[36m77\u001B[0m - \u001B[1mConverting data using ConstValueTransformer... Finished.\u001B[0m\n",
      "\u001B[32m2024-11-22 16:13:04.556\u001B[0m | \u001B[1mINFO    \u001B[0m | \u001B[36msdgx.data_processors.transformers.empty\u001B[0m:\u001B[36mconvert\u001B[0m:\u001B[36m72\u001B[0m - \u001B[1mConverting data using EmptyTransformer...\u001B[0m\n",
      "\u001B[32m2024-11-22 16:13:04.557\u001B[0m | \u001B[1mINFO    \u001B[0m | \u001B[36msdgx.data_processors.transformers.empty\u001B[0m:\u001B[36mconvert\u001B[0m:\u001B[36m76\u001B[0m - \u001B[1mConverting data using EmptyTransformer... Finished (No action).\u001B[0m\n",
      "\u001B[32m2024-11-22 16:13:04.557\u001B[0m | \u001B[1mINFO    \u001B[0m | \u001B[36msdgx.data_processors.transformers.column_order\u001B[0m:\u001B[36mconvert\u001B[0m:\u001B[36m51\u001B[0m - \u001B[1mConverting data using ColumnOrderTransformer...\u001B[0m\n",
      "\u001B[32m2024-11-22 16:13:04.558\u001B[0m | \u001B[1mINFO    \u001B[0m | \u001B[36msdgx.data_processors.transformers.column_order\u001B[0m:\u001B[36mconvert\u001B[0m:\u001B[36m52\u001B[0m - \u001B[1mConverting data using ColumnOrderTransformer... Finished (No action).\u001B[0m\n",
      "\u001B[32m2024-11-22 16:13:04.572\u001B[0m | \u001B[1mINFO    \u001B[0m | \u001B[36msdgx.data_processors.transformers.nan\u001B[0m:\u001B[36mconvert\u001B[0m:\u001B[36m110\u001B[0m - \u001B[1mConverting data using NonValueTransformer...\u001B[0m\n",
      "\u001B[32m2024-11-22 16:13:04.573\u001B[0m | \u001B[1mINFO    \u001B[0m | \u001B[36msdgx.data_processors.transformers.nan\u001B[0m:\u001B[36mconvert\u001B[0m:\u001B[36m130\u001B[0m - \u001B[1mConverting data using NonValueTransformer... Finished.\u001B[0m\n",
      "\u001B[32m2024-11-22 16:13:04.574\u001B[0m | \u001B[1mINFO    \u001B[0m | \u001B[36msdgx.data_processors.transformers.outlier\u001B[0m:\u001B[36mconvert\u001B[0m:\u001B[36m84\u001B[0m - \u001B[1mConverting data using OutlierTransformer...\u001B[0m\n",
      "\u001B[32m2024-11-22 16:13:04.574\u001B[0m | \u001B[1mINFO    \u001B[0m | \u001B[36msdgx.data_processors.transformers.outlier\u001B[0m:\u001B[36mconvert\u001B[0m:\u001B[36m106\u001B[0m - \u001B[1mConverting data using OutlierTransformer... Finished.\u001B[0m\n",
      "\u001B[32m2024-11-22 16:13:04.576\u001B[0m | \u001B[1mINFO    \u001B[0m | \u001B[36msdgx.data_processors.formatters.int\u001B[0m:\u001B[36mconvert\u001B[0m:\u001B[36m50\u001B[0m - \u001B[1mConverting data using IntValueFormatter... Finished  (No Action).\u001B[0m\n",
      "\u001B[32m2024-11-22 16:13:04.576\u001B[0m | \u001B[1mINFO    \u001B[0m | \u001B[36msdgx.data_processors.formatters.datetime\u001B[0m:\u001B[36mconvert\u001B[0m:\u001B[36m99\u001B[0m - \u001B[1mConverting data using DatetimeFormatter...\u001B[0m\n",
      "\u001B[32m2024-11-22 16:13:04.604\u001B[0m | \u001B[1mINFO    \u001B[0m | \u001B[36msdgx.data_processors.formatters.datetime\u001B[0m:\u001B[36mconvert\u001B[0m:\u001B[36m105\u001B[0m - \u001B[1mConverting data using DatetimeFormatter... Finished.\u001B[0m\n",
      "\u001B[32m2024-11-22 16:13:04.605\u001B[0m | \u001B[1mINFO    \u001B[0m | \u001B[36msdgx.data_processors.transformers.const\u001B[0m:\u001B[36mconvert\u001B[0m:\u001B[36m69\u001B[0m - \u001B[1mConverting data using ConstValueTransformer...\u001B[0m\n",
      "\u001B[32m2024-11-22 16:13:04.605\u001B[0m | \u001B[1mINFO    \u001B[0m | \u001B[36msdgx.data_processors.transformers.const\u001B[0m:\u001B[36mconvert\u001B[0m:\u001B[36m77\u001B[0m - \u001B[1mConverting data using ConstValueTransformer... Finished.\u001B[0m\n",
      "\u001B[32m2024-11-22 16:13:04.606\u001B[0m | \u001B[1mINFO    \u001B[0m | \u001B[36msdgx.data_processors.transformers.empty\u001B[0m:\u001B[36mconvert\u001B[0m:\u001B[36m72\u001B[0m - \u001B[1mConverting data using EmptyTransformer...\u001B[0m\n",
      "\u001B[32m2024-11-22 16:13:04.607\u001B[0m | \u001B[1mINFO    \u001B[0m | \u001B[36msdgx.data_processors.transformers.empty\u001B[0m:\u001B[36mconvert\u001B[0m:\u001B[36m76\u001B[0m - \u001B[1mConverting data using EmptyTransformer... Finished (No action).\u001B[0m\n",
      "\u001B[32m2024-11-22 16:13:04.607\u001B[0m | \u001B[1mINFO    \u001B[0m | \u001B[36msdgx.data_processors.transformers.column_order\u001B[0m:\u001B[36mconvert\u001B[0m:\u001B[36m51\u001B[0m - \u001B[1mConverting data using ColumnOrderTransformer...\u001B[0m\n",
      "\u001B[32m2024-11-22 16:13:04.608\u001B[0m | \u001B[1mINFO    \u001B[0m | \u001B[36msdgx.data_processors.transformers.column_order\u001B[0m:\u001B[36mconvert\u001B[0m:\u001B[36m52\u001B[0m - \u001B[1mConverting data using ColumnOrderTransformer... Finished (No action).\u001B[0m\n"
     ]
    },
    {
     "name": "stdout",
     "output_type": "stream",
     "text": [
      "bool_columns=set()\n",
      "const_columns=set()\n",
      "datetime_columns=['date']\n",
      "discrete_columns=[]\n",
      "float_columns=set()\n",
      "id_columns=set()\n",
      "int_columns=set()\n",
      "pii_columns=set()\n",
      "defaultdict(<class 'set'>, {'datetime_formats': {'date': '%Y-%m-%d'}, 'numeric_format': {'positive': [], 'negative': []}})\n"
     ]
    },
    {
     "data": {
      "text/plain": [
       "               date\n",
       "0      3.461760e+08\n",
       "1      7.311744e+08\n",
       "2      1.729526e+09\n",
       "3      5.068800e+07\n",
       "4      1.003680e+09\n",
       "...             ...\n",
       "14995           NaN\n",
       "14996           NaN\n",
       "14997           NaN\n",
       "14998           NaN\n",
       "14999           NaN\n",
       "\n",
       "[15000 rows x 1 columns]"
      ],
      "text/html": [
       "<div>\n",
       "<style scoped>\n",
       "    .dataframe tbody tr th:only-of-type {\n",
       "        vertical-align: middle;\n",
       "    }\n",
       "\n",
       "    .dataframe tbody tr th {\n",
       "        vertical-align: top;\n",
       "    }\n",
       "\n",
       "    .dataframe thead th {\n",
       "        text-align: right;\n",
       "    }\n",
       "</style>\n",
       "<table border=\"1\" class=\"dataframe\">\n",
       "  <thead>\n",
       "    <tr style=\"text-align: right;\">\n",
       "      <th></th>\n",
       "      <th>date</th>\n",
       "    </tr>\n",
       "  </thead>\n",
       "  <tbody>\n",
       "    <tr>\n",
       "      <th>0</th>\n",
       "      <td>3.461760e+08</td>\n",
       "    </tr>\n",
       "    <tr>\n",
       "      <th>1</th>\n",
       "      <td>7.311744e+08</td>\n",
       "    </tr>\n",
       "    <tr>\n",
       "      <th>2</th>\n",
       "      <td>1.729526e+09</td>\n",
       "    </tr>\n",
       "    <tr>\n",
       "      <th>3</th>\n",
       "      <td>5.068800e+07</td>\n",
       "    </tr>\n",
       "    <tr>\n",
       "      <th>4</th>\n",
       "      <td>1.003680e+09</td>\n",
       "    </tr>\n",
       "    <tr>\n",
       "      <th>...</th>\n",
       "      <td>...</td>\n",
       "    </tr>\n",
       "    <tr>\n",
       "      <th>14995</th>\n",
       "      <td>NaN</td>\n",
       "    </tr>\n",
       "    <tr>\n",
       "      <th>14996</th>\n",
       "      <td>NaN</td>\n",
       "    </tr>\n",
       "    <tr>\n",
       "      <th>14997</th>\n",
       "      <td>NaN</td>\n",
       "    </tr>\n",
       "    <tr>\n",
       "      <th>14998</th>\n",
       "      <td>NaN</td>\n",
       "    </tr>\n",
       "    <tr>\n",
       "      <th>14999</th>\n",
       "      <td>NaN</td>\n",
       "    </tr>\n",
       "  </tbody>\n",
       "</table>\n",
       "<p>15000 rows × 1 columns</p>\n",
       "</div>"
      ]
     },
     "execution_count": 1,
     "metadata": {},
     "output_type": "execute_result"
    }
   ],
   "execution_count": 1
  },
  {
   "metadata": {
    "ExecuteTime": {
     "end_time": "2024-11-22T08:13:04.648578Z",
     "start_time": "2024-11-22T08:13:04.635433Z"
    }
   },
   "cell_type": "code",
   "source": "",
   "id": "9df50dd4db59925b",
   "outputs": [],
   "execution_count": 1
  },
  {
   "metadata": {
    "ExecuteTime": {
     "end_time": "2024-11-22T08:13:04.663581Z",
     "start_time": "2024-11-22T08:13:04.649581Z"
    }
   },
   "cell_type": "code",
   "source": [
    "# pd.concat([\n",
    "#     pd.DataFrame([*np.linspace(0, 1, 15000), None], columns=['x']),\n",
    "#     pd.DataFrame([*([None] * 1000), *([np.nan] * 1000)], columns=['y'])\n",
    "# ], axis=1)"
   ],
   "id": "731db56b19de6097",
   "outputs": [],
   "execution_count": 2
  },
  {
   "metadata": {
    "ExecuteTime": {
     "end_time": "2024-11-22T08:13:04.679588Z",
     "start_time": "2024-11-22T08:13:04.664582Z"
    }
   },
   "cell_type": "code",
   "source": [
    "# for i in gener():\n",
    "#     t = i\n",
    "# t"
   ],
   "id": "57e3dfb11d1f8d60",
   "outputs": [],
   "execution_count": 3
  },
  {
   "metadata": {
    "ExecuteTime": {
     "end_time": "2024-11-22T08:13:04.694897Z",
     "start_time": "2024-11-22T08:13:04.680585Z"
    }
   },
   "cell_type": "code",
   "source": [
    "\n",
    "\n"
   ],
   "id": "e45dfe22ef49cef7",
   "outputs": [],
   "execution_count": 3
  }
 ],
 "metadata": {
  "kernelspec": {
   "display_name": "Python 3",
   "language": "python",
   "name": "python3"
  },
  "language_info": {
   "codemirror_mode": {
    "name": "ipython",
    "version": 2
   },
   "file_extension": ".py",
   "mimetype": "text/x-python",
   "name": "python",
   "nbconvert_exporter": "python",
   "pygments_lexer": "ipython2",
   "version": "2.7.6"
  }
 },
 "nbformat": 4,
 "nbformat_minor": 5
}
