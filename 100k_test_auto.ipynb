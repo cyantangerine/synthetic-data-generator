{
 "cells": [
  {
   "cell_type": "markdown",
   "metadata": {},
   "source": [
    "构造数据"
   ]
  },
  {
   "cell_type": "code",
   "execution_count": 1,
   "metadata": {
    "ExecuteTime": {
     "end_time": "2024-10-16T08:18:17.789901Z",
     "start_time": "2024-10-16T08:18:15.186917Z"
    }
   },
   "outputs": [
    {
     "name": "stdout",
     "output_type": "stream",
     "text": [
      "100000 100000 100000 100000 100162 116338 116338 115872 115872 229532 229532 460262 460262 460262 \n",
      "460262 lines x 44 columns\n"
     ]
    }
   ],
   "source": [
    "from mycode.common import *\n",
    "from multi_ctgan import MultiTableCTGAN\n",
    "from mycode import dataset\n",
    "db_path = dataset.Database.path_100k\n",
    "x_args = dataset.XArgs.tables_14\n",
    "try:\n",
    "    multi_wrapper = MultiTableCTGAN(\n",
    "    db_path=db_path,\n",
    "    x_table=x_args.x_table,\n",
    "    x_key=x_args.x_key,\n",
    "    x_how=x_args.x_how\n",
    ").init()\n",
    "except ValueError as e:\n",
    "    print(e.args[0])\n",
    "    df = e.args[1]\n",
    "    df[0]\n"
   ]
  },
  {
   "cell_type": "code",
   "execution_count": 2,
   "metadata": {
    "ExecuteTime": {
     "end_time": "2024-10-16T08:18:17.821724Z",
     "start_time": "2024-10-16T08:18:17.790888Z"
    }
   },
   "outputs": [
    {
     "data": {
      "text/html": [
       "<div>\n",
       "<style scoped>\n",
       "    .dataframe tbody tr th:only-of-type {\n",
       "        vertical-align: middle;\n",
       "    }\n",
       "\n",
       "    .dataframe tbody tr th {\n",
       "        vertical-align: top;\n",
       "    }\n",
       "\n",
       "    .dataframe thead th {\n",
       "        text-align: right;\n",
       "    }\n",
       "</style>\n",
       "<table border=\"1\" class=\"dataframe\">\n",
       "  <thead>\n",
       "    <tr style=\"text-align: right;\">\n",
       "      <th></th>\n",
       "      <th>BookLoan_TABLE_loan_id</th>\n",
       "      <th>REF_TABLE_book_id</th>\n",
       "      <th>REF_TABLE_student_id</th>\n",
       "      <th>BookLoan_TABLE_loan_date</th>\n",
       "      <th>BookLoan_TABLE_return_date</th>\n",
       "      <th>Book_TABLE_title</th>\n",
       "      <th>Book_TABLE_author</th>\n",
       "      <th>Book_TABLE_isbn</th>\n",
       "      <th>REF_TABLE_library_id</th>\n",
       "      <th>Library_TABLE_name</th>\n",
       "      <th>...</th>\n",
       "      <th>Professor_TABLE_name</th>\n",
       "      <th>Professor_TABLE_email</th>\n",
       "      <th>Professor_TABLE_department</th>\n",
       "      <th>REF_TABLE_project_id</th>\n",
       "      <th>ResearchProject_TABLE_title</th>\n",
       "      <th>REF_TABLE_group_id</th>\n",
       "      <th>ResearchProject_TABLE_start_date</th>\n",
       "      <th>ResearchProject_TABLE_end_date</th>\n",
       "      <th>ResearchGroup_TABLE_name</th>\n",
       "      <th>ResearchGroup_TABLE_focus_area</th>\n",
       "    </tr>\n",
       "  </thead>\n",
       "  <tbody>\n",
       "    <tr>\n",
       "      <th>0</th>\n",
       "      <td>5</td>\n",
       "      <td>5</td>\n",
       "      <td>97689</td>\n",
       "      <td>2024-07-06</td>\n",
       "      <td>2025-02-03</td>\n",
       "      <td>Development red.</td>\n",
       "      <td>Anthony Torres</td>\n",
       "      <td>978-1-82090-981-0</td>\n",
       "      <td>5</td>\n",
       "      <td>Turner-Cervantes Library</td>\n",
       "      <td>...</td>\n",
       "      <td>Matthew Sawyer</td>\n",
       "      <td>kristin90@example.net</td>\n",
       "      <td>46335</td>\n",
       "      <td>1550</td>\n",
       "      <td>Computer manager include too.</td>\n",
       "      <td>1550</td>\n",
       "      <td>2024-06-29</td>\n",
       "      <td>2025-02-02</td>\n",
       "      <td>Work Research</td>\n",
       "      <td>Conference statement friend.</td>\n",
       "    </tr>\n",
       "    <tr>\n",
       "      <th>1</th>\n",
       "      <td>27031</td>\n",
       "      <td>27031</td>\n",
       "      <td>97689</td>\n",
       "      <td>2024-05-11</td>\n",
       "      <td>2024-11-16</td>\n",
       "      <td>Edge moment.</td>\n",
       "      <td>Danielle Coleman</td>\n",
       "      <td>978-0-524-09270-5</td>\n",
       "      <td>27031</td>\n",
       "      <td>Bradshaw Group Library</td>\n",
       "      <td>...</td>\n",
       "      <td>Matthew Sawyer</td>\n",
       "      <td>kristin90@example.net</td>\n",
       "      <td>46335</td>\n",
       "      <td>1550</td>\n",
       "      <td>Computer manager include too.</td>\n",
       "      <td>1550</td>\n",
       "      <td>2024-06-29</td>\n",
       "      <td>2025-02-02</td>\n",
       "      <td>Work Research</td>\n",
       "      <td>Conference statement friend.</td>\n",
       "    </tr>\n",
       "    <tr>\n",
       "      <th>2</th>\n",
       "      <td>43333</td>\n",
       "      <td>43333</td>\n",
       "      <td>97689</td>\n",
       "      <td>2024-06-17</td>\n",
       "      <td>2025-01-14</td>\n",
       "      <td>Can lay.</td>\n",
       "      <td>Mr. Jason Barnett</td>\n",
       "      <td>978-0-508-89162-1</td>\n",
       "      <td>43333</td>\n",
       "      <td>Smith, Johnson and Brown Library</td>\n",
       "      <td>...</td>\n",
       "      <td>Matthew Sawyer</td>\n",
       "      <td>kristin90@example.net</td>\n",
       "      <td>46335</td>\n",
       "      <td>1550</td>\n",
       "      <td>Computer manager include too.</td>\n",
       "      <td>1550</td>\n",
       "      <td>2024-06-29</td>\n",
       "      <td>2025-02-02</td>\n",
       "      <td>Work Research</td>\n",
       "      <td>Conference statement friend.</td>\n",
       "    </tr>\n",
       "    <tr>\n",
       "      <th>3</th>\n",
       "      <td>5</td>\n",
       "      <td>5</td>\n",
       "      <td>97689</td>\n",
       "      <td>2024-07-06</td>\n",
       "      <td>2025-02-03</td>\n",
       "      <td>Development red.</td>\n",
       "      <td>Anthony Torres</td>\n",
       "      <td>978-1-82090-981-0</td>\n",
       "      <td>5</td>\n",
       "      <td>Turner-Cervantes Library</td>\n",
       "      <td>...</td>\n",
       "      <td>Matthew Sawyer</td>\n",
       "      <td>kristin90@example.net</td>\n",
       "      <td>46335</td>\n",
       "      <td>1550</td>\n",
       "      <td>Computer manager include too.</td>\n",
       "      <td>1550</td>\n",
       "      <td>2024-06-29</td>\n",
       "      <td>2025-02-02</td>\n",
       "      <td>Work Research</td>\n",
       "      <td>Conference statement friend.</td>\n",
       "    </tr>\n",
       "    <tr>\n",
       "      <th>4</th>\n",
       "      <td>27031</td>\n",
       "      <td>27031</td>\n",
       "      <td>97689</td>\n",
       "      <td>2024-05-11</td>\n",
       "      <td>2024-11-16</td>\n",
       "      <td>Edge moment.</td>\n",
       "      <td>Danielle Coleman</td>\n",
       "      <td>978-0-524-09270-5</td>\n",
       "      <td>27031</td>\n",
       "      <td>Bradshaw Group Library</td>\n",
       "      <td>...</td>\n",
       "      <td>Matthew Sawyer</td>\n",
       "      <td>kristin90@example.net</td>\n",
       "      <td>46335</td>\n",
       "      <td>1550</td>\n",
       "      <td>Computer manager include too.</td>\n",
       "      <td>1550</td>\n",
       "      <td>2024-06-29</td>\n",
       "      <td>2025-02-02</td>\n",
       "      <td>Work Research</td>\n",
       "      <td>Conference statement friend.</td>\n",
       "    </tr>\n",
       "    <tr>\n",
       "      <th>...</th>\n",
       "      <td>...</td>\n",
       "      <td>...</td>\n",
       "      <td>...</td>\n",
       "      <td>...</td>\n",
       "      <td>...</td>\n",
       "      <td>...</td>\n",
       "      <td>...</td>\n",
       "      <td>...</td>\n",
       "      <td>...</td>\n",
       "      <td>...</td>\n",
       "      <td>...</td>\n",
       "      <td>...</td>\n",
       "      <td>...</td>\n",
       "      <td>...</td>\n",
       "      <td>...</td>\n",
       "      <td>...</td>\n",
       "      <td>...</td>\n",
       "      <td>...</td>\n",
       "      <td>...</td>\n",
       "      <td>...</td>\n",
       "      <td>...</td>\n",
       "    </tr>\n",
       "    <tr>\n",
       "      <th>460257</th>\n",
       "      <td>99990</td>\n",
       "      <td>99990</td>\n",
       "      <td>70154</td>\n",
       "      <td>2024-03-16</td>\n",
       "      <td>2025-04-29</td>\n",
       "      <td>Run keep southern.</td>\n",
       "      <td>Lauren Landry</td>\n",
       "      <td>978-0-13-237725-6</td>\n",
       "      <td>99990</td>\n",
       "      <td>Bridges PLC Library</td>\n",
       "      <td>...</td>\n",
       "      <td>Stephen Johnson</td>\n",
       "      <td>oleon@example.org</td>\n",
       "      <td>11087</td>\n",
       "      <td>59289</td>\n",
       "      <td>Loss federal raise.</td>\n",
       "      <td>59289</td>\n",
       "      <td>2024-03-01</td>\n",
       "      <td>2025-08-02</td>\n",
       "      <td>Environmental Research</td>\n",
       "      <td>Magazine move.</td>\n",
       "    </tr>\n",
       "    <tr>\n",
       "      <th>460258</th>\n",
       "      <td>99990</td>\n",
       "      <td>99990</td>\n",
       "      <td>70154</td>\n",
       "      <td>2024-03-16</td>\n",
       "      <td>2025-04-29</td>\n",
       "      <td>Run keep southern.</td>\n",
       "      <td>Lauren Landry</td>\n",
       "      <td>978-0-13-237725-6</td>\n",
       "      <td>99990</td>\n",
       "      <td>Bridges PLC Library</td>\n",
       "      <td>...</td>\n",
       "      <td>Stephen Johnson</td>\n",
       "      <td>oleon@example.org</td>\n",
       "      <td>11087</td>\n",
       "      <td>59289</td>\n",
       "      <td>Loss federal raise.</td>\n",
       "      <td>59289</td>\n",
       "      <td>2024-03-01</td>\n",
       "      <td>2025-08-02</td>\n",
       "      <td>Environmental Research</td>\n",
       "      <td>Magazine move.</td>\n",
       "    </tr>\n",
       "    <tr>\n",
       "      <th>460259</th>\n",
       "      <td>99990</td>\n",
       "      <td>99990</td>\n",
       "      <td>70154</td>\n",
       "      <td>2024-03-16</td>\n",
       "      <td>2025-04-29</td>\n",
       "      <td>Run keep southern.</td>\n",
       "      <td>Lauren Landry</td>\n",
       "      <td>978-0-13-237725-6</td>\n",
       "      <td>99990</td>\n",
       "      <td>Bridges PLC Library</td>\n",
       "      <td>...</td>\n",
       "      <td>Stephen Johnson</td>\n",
       "      <td>oleon@example.org</td>\n",
       "      <td>11087</td>\n",
       "      <td>59289</td>\n",
       "      <td>Loss federal raise.</td>\n",
       "      <td>59289</td>\n",
       "      <td>2024-03-01</td>\n",
       "      <td>2025-08-02</td>\n",
       "      <td>Environmental Research</td>\n",
       "      <td>Magazine move.</td>\n",
       "    </tr>\n",
       "    <tr>\n",
       "      <th>460260</th>\n",
       "      <td>99990</td>\n",
       "      <td>99990</td>\n",
       "      <td>70154</td>\n",
       "      <td>2024-03-16</td>\n",
       "      <td>2025-04-29</td>\n",
       "      <td>Run keep southern.</td>\n",
       "      <td>Lauren Landry</td>\n",
       "      <td>978-0-13-237725-6</td>\n",
       "      <td>99990</td>\n",
       "      <td>Bridges PLC Library</td>\n",
       "      <td>...</td>\n",
       "      <td>Stephen Johnson</td>\n",
       "      <td>oleon@example.org</td>\n",
       "      <td>11087</td>\n",
       "      <td>59289</td>\n",
       "      <td>Loss federal raise.</td>\n",
       "      <td>59289</td>\n",
       "      <td>2024-03-01</td>\n",
       "      <td>2025-08-02</td>\n",
       "      <td>Environmental Research</td>\n",
       "      <td>Magazine move.</td>\n",
       "    </tr>\n",
       "    <tr>\n",
       "      <th>460261</th>\n",
       "      <td>99999</td>\n",
       "      <td>99999</td>\n",
       "      <td>82503</td>\n",
       "      <td>2024-07-20</td>\n",
       "      <td>2024-12-27</td>\n",
       "      <td>Candidate marriage.</td>\n",
       "      <td>Mary Johnson</td>\n",
       "      <td>978-1-934594-40-7</td>\n",
       "      <td>99999</td>\n",
       "      <td>Ramirez, Larson and Farmer Library</td>\n",
       "      <td>...</td>\n",
       "      <td>Amy Hayes</td>\n",
       "      <td>aparrish@example.org</td>\n",
       "      <td>28673</td>\n",
       "      <td>1388</td>\n",
       "      <td>Impact.</td>\n",
       "      <td>1388</td>\n",
       "      <td>2024-05-02</td>\n",
       "      <td>2025-05-14</td>\n",
       "      <td>Style Research</td>\n",
       "      <td>Benefit company.</td>\n",
       "    </tr>\n",
       "  </tbody>\n",
       "</table>\n",
       "<p>460262 rows × 44 columns</p>\n",
       "</div>"
      ],
      "text/plain": [
       "        BookLoan_TABLE_loan_id  REF_TABLE_book_id  REF_TABLE_student_id  \\\n",
       "0                            5                  5                 97689   \n",
       "1                        27031              27031                 97689   \n",
       "2                        43333              43333                 97689   \n",
       "3                            5                  5                 97689   \n",
       "4                        27031              27031                 97689   \n",
       "...                        ...                ...                   ...   \n",
       "460257                   99990              99990                 70154   \n",
       "460258                   99990              99990                 70154   \n",
       "460259                   99990              99990                 70154   \n",
       "460260                   99990              99990                 70154   \n",
       "460261                   99999              99999                 82503   \n",
       "\n",
       "       BookLoan_TABLE_loan_date BookLoan_TABLE_return_date  \\\n",
       "0                    2024-07-06                 2025-02-03   \n",
       "1                    2024-05-11                 2024-11-16   \n",
       "2                    2024-06-17                 2025-01-14   \n",
       "3                    2024-07-06                 2025-02-03   \n",
       "4                    2024-05-11                 2024-11-16   \n",
       "...                         ...                        ...   \n",
       "460257               2024-03-16                 2025-04-29   \n",
       "460258               2024-03-16                 2025-04-29   \n",
       "460259               2024-03-16                 2025-04-29   \n",
       "460260               2024-03-16                 2025-04-29   \n",
       "460261               2024-07-20                 2024-12-27   \n",
       "\n",
       "           Book_TABLE_title  Book_TABLE_author    Book_TABLE_isbn  \\\n",
       "0          Development red.     Anthony Torres  978-1-82090-981-0   \n",
       "1              Edge moment.   Danielle Coleman  978-0-524-09270-5   \n",
       "2                  Can lay.  Mr. Jason Barnett  978-0-508-89162-1   \n",
       "3          Development red.     Anthony Torres  978-1-82090-981-0   \n",
       "4              Edge moment.   Danielle Coleman  978-0-524-09270-5   \n",
       "...                     ...                ...                ...   \n",
       "460257   Run keep southern.      Lauren Landry  978-0-13-237725-6   \n",
       "460258   Run keep southern.      Lauren Landry  978-0-13-237725-6   \n",
       "460259   Run keep southern.      Lauren Landry  978-0-13-237725-6   \n",
       "460260   Run keep southern.      Lauren Landry  978-0-13-237725-6   \n",
       "460261  Candidate marriage.       Mary Johnson  978-1-934594-40-7   \n",
       "\n",
       "        REF_TABLE_library_id                  Library_TABLE_name  ...  \\\n",
       "0                          5            Turner-Cervantes Library  ...   \n",
       "1                      27031              Bradshaw Group Library  ...   \n",
       "2                      43333    Smith, Johnson and Brown Library  ...   \n",
       "3                          5            Turner-Cervantes Library  ...   \n",
       "4                      27031              Bradshaw Group Library  ...   \n",
       "...                      ...                                 ...  ...   \n",
       "460257                 99990                 Bridges PLC Library  ...   \n",
       "460258                 99990                 Bridges PLC Library  ...   \n",
       "460259                 99990                 Bridges PLC Library  ...   \n",
       "460260                 99990                 Bridges PLC Library  ...   \n",
       "460261                 99999  Ramirez, Larson and Farmer Library  ...   \n",
       "\n",
       "       Professor_TABLE_name  Professor_TABLE_email Professor_TABLE_department  \\\n",
       "0            Matthew Sawyer  kristin90@example.net                      46335   \n",
       "1            Matthew Sawyer  kristin90@example.net                      46335   \n",
       "2            Matthew Sawyer  kristin90@example.net                      46335   \n",
       "3            Matthew Sawyer  kristin90@example.net                      46335   \n",
       "4            Matthew Sawyer  kristin90@example.net                      46335   \n",
       "...                     ...                    ...                        ...   \n",
       "460257      Stephen Johnson      oleon@example.org                      11087   \n",
       "460258      Stephen Johnson      oleon@example.org                      11087   \n",
       "460259      Stephen Johnson      oleon@example.org                      11087   \n",
       "460260      Stephen Johnson      oleon@example.org                      11087   \n",
       "460261            Amy Hayes   aparrish@example.org                      28673   \n",
       "\n",
       "       REF_TABLE_project_id    ResearchProject_TABLE_title  \\\n",
       "0                      1550  Computer manager include too.   \n",
       "1                      1550  Computer manager include too.   \n",
       "2                      1550  Computer manager include too.   \n",
       "3                      1550  Computer manager include too.   \n",
       "4                      1550  Computer manager include too.   \n",
       "...                     ...                            ...   \n",
       "460257                59289            Loss federal raise.   \n",
       "460258                59289            Loss federal raise.   \n",
       "460259                59289            Loss federal raise.   \n",
       "460260                59289            Loss federal raise.   \n",
       "460261                 1388                        Impact.   \n",
       "\n",
       "        REF_TABLE_group_id  ResearchProject_TABLE_start_date  \\\n",
       "0                     1550                        2024-06-29   \n",
       "1                     1550                        2024-06-29   \n",
       "2                     1550                        2024-06-29   \n",
       "3                     1550                        2024-06-29   \n",
       "4                     1550                        2024-06-29   \n",
       "...                    ...                               ...   \n",
       "460257               59289                        2024-03-01   \n",
       "460258               59289                        2024-03-01   \n",
       "460259               59289                        2024-03-01   \n",
       "460260               59289                        2024-03-01   \n",
       "460261                1388                        2024-05-02   \n",
       "\n",
       "       ResearchProject_TABLE_end_date ResearchGroup_TABLE_name  \\\n",
       "0                          2025-02-02            Work Research   \n",
       "1                          2025-02-02            Work Research   \n",
       "2                          2025-02-02            Work Research   \n",
       "3                          2025-02-02            Work Research   \n",
       "4                          2025-02-02            Work Research   \n",
       "...                               ...                      ...   \n",
       "460257                     2025-08-02   Environmental Research   \n",
       "460258                     2025-08-02   Environmental Research   \n",
       "460259                     2025-08-02   Environmental Research   \n",
       "460260                     2025-08-02   Environmental Research   \n",
       "460261                     2025-05-14           Style Research   \n",
       "\n",
       "        ResearchGroup_TABLE_focus_area  \n",
       "0         Conference statement friend.  \n",
       "1         Conference statement friend.  \n",
       "2         Conference statement friend.  \n",
       "3         Conference statement friend.  \n",
       "4         Conference statement friend.  \n",
       "...                                ...  \n",
       "460257                  Magazine move.  \n",
       "460258                  Magazine move.  \n",
       "460259                  Magazine move.  \n",
       "460260                  Magazine move.  \n",
       "460261                Benefit company.  \n",
       "\n",
       "[460262 rows x 44 columns]"
      ]
     },
     "execution_count": 2,
     "metadata": {},
     "output_type": "execute_result"
    }
   ],
   "source": [
    "multi_wrapper.join_tables"
   ]
  },
  {
   "cell_type": "code",
   "execution_count": 3,
   "metadata": {
    "ExecuteTime": {
     "end_time": "2024-10-16T08:18:17.836766Z",
     "start_time": "2024-10-16T08:18:17.823714Z"
    }
   },
   "outputs": [],
   "source": [
    "# temp = multi_wrapper.tables_[\"Assignment\"].rename(columns={\"assignment_id\": \"Assignment_TABLE_assignment_id\"}) \n",
    "# pd.merge(multi_wrapper.join_tables, temp, how='outer', on=\"REF_TABLE_assignment_id\")"
   ]
  },
  {
   "cell_type": "code",
   "execution_count": 4,
   "metadata": {
    "ExecuteTime": {
     "end_time": "2024-10-16T08:18:17.867665Z",
     "start_time": "2024-10-16T08:18:17.837765Z"
    }
   },
   "outputs": [
    {
     "name": "stdout",
     "output_type": "stream",
     "text": [
      "{'BookLoan': {'BookLoan_TABLE_loan_id': 'loan_id', 'BookLoan_TABLE_return_date': 'return_date', 'BookLoan_TABLE_loan_date': 'loan_date', 'REF_TABLE_book_id': 'book_id', 'REF_TABLE_student_id': 'student_id'}, 'Book': {'Book_TABLE_isbn': 'isbn', 'Book_TABLE_author': 'author', 'Book_TABLE_title': 'title', 'REF_TABLE_book_id': 'book_id', 'REF_TABLE_library_id': 'library_id'}, 'Library': {'Library_TABLE_name': 'name', 'Library_TABLE_location': 'location', 'REF_TABLE_library_id': 'library_id'}, 'Student': {'Student_TABLE_name': 'name', 'Student_TABLE_email': 'email', 'Student_TABLE_major': 'major', 'Student_TABLE_date_of_birth': 'date_of_birth', 'REF_TABLE_student_id': 'student_id'}, 'Enrollment': {'Enrollment_TABLE_grade': 'grade', 'Enrollment_TABLE_semester': 'semester', 'Enrollment_TABLE_enrollment_id': 'enrollment_id', 'REF_TABLE_student_id': 'student_id', 'REF_TABLE_course_id': 'course_id'}, 'Submission': {'Submission_TABLE_submission_id': 'submission_id', 'Submission_TABLE_assignment_id': 'assignment_id', 'Submission_TABLE_submission_date': 'submission_date', 'Submission_TABLE_grade': 'grade', 'REF_TABLE_student_id': 'student_id'}, 'Course': {'Course_TABLE_department': 'department', 'Course_TABLE_credits': 'credits', 'Course_TABLE_title': 'title', 'REF_TABLE_course_id': 'course_id'}, 'CourseTextbook': {'REF_TABLE_course_id': 'course_id', 'REF_TABLE_textbook_id': 'textbook_id'}, 'Textbook': {'Textbook_TABLE_isbn': 'isbn', 'Textbook_TABLE_author': 'author', 'Textbook_TABLE_title': 'title', 'REF_TABLE_textbook_id': 'textbook_id'}, 'Schedule': {'Schedule_TABLE_time_slot': 'time_slot', 'Schedule_TABLE_room': 'room', 'Schedule_TABLE_schedule_id': 'schedule_id', 'REF_TABLE_professor_id': 'professor_id', 'REF_TABLE_course_id': 'course_id'}, 'Professor': {'Professor_TABLE_name': 'name', 'Professor_TABLE_department': 'department', 'Professor_TABLE_email': 'email', 'REF_TABLE_professor_id': 'professor_id'}, 'ProjectMember': {'REF_TABLE_professor_id': 'professor_id', 'REF_TABLE_project_id': 'project_id'}, 'ResearchProject': {'ResearchProject_TABLE_start_date': 'start_date', 'ResearchProject_TABLE_end_date': 'end_date', 'ResearchProject_TABLE_title': 'title', 'REF_TABLE_project_id': 'project_id', 'REF_TABLE_group_id': 'group_id'}, 'ResearchGroup': {'ResearchGroup_TABLE_name': 'name', 'ResearchGroup_TABLE_focus_area': 'focus_area', 'REF_TABLE_group_id': 'group_id'}}\n"
     ]
    },
    {
     "data": {
      "text/html": [
       "<div>\n",
       "<style scoped>\n",
       "    .dataframe tbody tr th:only-of-type {\n",
       "        vertical-align: middle;\n",
       "    }\n",
       "\n",
       "    .dataframe tbody tr th {\n",
       "        vertical-align: top;\n",
       "    }\n",
       "\n",
       "    .dataframe thead th {\n",
       "        text-align: right;\n",
       "    }\n",
       "</style>\n",
       "<table border=\"1\" class=\"dataframe\">\n",
       "  <thead>\n",
       "    <tr style=\"text-align: right;\">\n",
       "      <th></th>\n",
       "      <th>BookLoan_TABLE_loan_id</th>\n",
       "      <th>REF_TABLE_book_id</th>\n",
       "      <th>REF_TABLE_student_id</th>\n",
       "      <th>BookLoan_TABLE_loan_date</th>\n",
       "      <th>BookLoan_TABLE_return_date</th>\n",
       "      <th>Book_TABLE_title</th>\n",
       "      <th>Book_TABLE_author</th>\n",
       "      <th>Book_TABLE_isbn</th>\n",
       "      <th>REF_TABLE_library_id</th>\n",
       "      <th>Library_TABLE_name</th>\n",
       "      <th>...</th>\n",
       "      <th>Professor_TABLE_name</th>\n",
       "      <th>Professor_TABLE_email</th>\n",
       "      <th>Professor_TABLE_department</th>\n",
       "      <th>REF_TABLE_project_id</th>\n",
       "      <th>ResearchProject_TABLE_title</th>\n",
       "      <th>REF_TABLE_group_id</th>\n",
       "      <th>ResearchProject_TABLE_start_date</th>\n",
       "      <th>ResearchProject_TABLE_end_date</th>\n",
       "      <th>ResearchGroup_TABLE_name</th>\n",
       "      <th>ResearchGroup_TABLE_focus_area</th>\n",
       "    </tr>\n",
       "  </thead>\n",
       "  <tbody>\n",
       "    <tr>\n",
       "      <th>0</th>\n",
       "      <td>5</td>\n",
       "      <td>5</td>\n",
       "      <td>97689</td>\n",
       "      <td>2024-07-06</td>\n",
       "      <td>2025-02-03</td>\n",
       "      <td>Development red.</td>\n",
       "      <td>Anthony Torres</td>\n",
       "      <td>978-1-82090-981-0</td>\n",
       "      <td>5</td>\n",
       "      <td>Turner-Cervantes Library</td>\n",
       "      <td>...</td>\n",
       "      <td>Matthew Sawyer</td>\n",
       "      <td>kristin90@example.net</td>\n",
       "      <td>46335</td>\n",
       "      <td>1550</td>\n",
       "      <td>Computer manager include too.</td>\n",
       "      <td>1550</td>\n",
       "      <td>2024-06-29</td>\n",
       "      <td>2025-02-02</td>\n",
       "      <td>Work Research</td>\n",
       "      <td>Conference statement friend.</td>\n",
       "    </tr>\n",
       "    <tr>\n",
       "      <th>1</th>\n",
       "      <td>27031</td>\n",
       "      <td>27031</td>\n",
       "      <td>97689</td>\n",
       "      <td>2024-05-11</td>\n",
       "      <td>2024-11-16</td>\n",
       "      <td>Edge moment.</td>\n",
       "      <td>Danielle Coleman</td>\n",
       "      <td>978-0-524-09270-5</td>\n",
       "      <td>27031</td>\n",
       "      <td>Bradshaw Group Library</td>\n",
       "      <td>...</td>\n",
       "      <td>Matthew Sawyer</td>\n",
       "      <td>kristin90@example.net</td>\n",
       "      <td>46335</td>\n",
       "      <td>1550</td>\n",
       "      <td>Computer manager include too.</td>\n",
       "      <td>1550</td>\n",
       "      <td>2024-06-29</td>\n",
       "      <td>2025-02-02</td>\n",
       "      <td>Work Research</td>\n",
       "      <td>Conference statement friend.</td>\n",
       "    </tr>\n",
       "    <tr>\n",
       "      <th>2</th>\n",
       "      <td>43333</td>\n",
       "      <td>43333</td>\n",
       "      <td>97689</td>\n",
       "      <td>2024-06-17</td>\n",
       "      <td>2025-01-14</td>\n",
       "      <td>Can lay.</td>\n",
       "      <td>Mr. Jason Barnett</td>\n",
       "      <td>978-0-508-89162-1</td>\n",
       "      <td>43333</td>\n",
       "      <td>Smith, Johnson and Brown Library</td>\n",
       "      <td>...</td>\n",
       "      <td>Matthew Sawyer</td>\n",
       "      <td>kristin90@example.net</td>\n",
       "      <td>46335</td>\n",
       "      <td>1550</td>\n",
       "      <td>Computer manager include too.</td>\n",
       "      <td>1550</td>\n",
       "      <td>2024-06-29</td>\n",
       "      <td>2025-02-02</td>\n",
       "      <td>Work Research</td>\n",
       "      <td>Conference statement friend.</td>\n",
       "    </tr>\n",
       "    <tr>\n",
       "      <th>3</th>\n",
       "      <td>5</td>\n",
       "      <td>5</td>\n",
       "      <td>97689</td>\n",
       "      <td>2024-07-06</td>\n",
       "      <td>2025-02-03</td>\n",
       "      <td>Development red.</td>\n",
       "      <td>Anthony Torres</td>\n",
       "      <td>978-1-82090-981-0</td>\n",
       "      <td>5</td>\n",
       "      <td>Turner-Cervantes Library</td>\n",
       "      <td>...</td>\n",
       "      <td>Matthew Sawyer</td>\n",
       "      <td>kristin90@example.net</td>\n",
       "      <td>46335</td>\n",
       "      <td>1550</td>\n",
       "      <td>Computer manager include too.</td>\n",
       "      <td>1550</td>\n",
       "      <td>2024-06-29</td>\n",
       "      <td>2025-02-02</td>\n",
       "      <td>Work Research</td>\n",
       "      <td>Conference statement friend.</td>\n",
       "    </tr>\n",
       "    <tr>\n",
       "      <th>4</th>\n",
       "      <td>27031</td>\n",
       "      <td>27031</td>\n",
       "      <td>97689</td>\n",
       "      <td>2024-05-11</td>\n",
       "      <td>2024-11-16</td>\n",
       "      <td>Edge moment.</td>\n",
       "      <td>Danielle Coleman</td>\n",
       "      <td>978-0-524-09270-5</td>\n",
       "      <td>27031</td>\n",
       "      <td>Bradshaw Group Library</td>\n",
       "      <td>...</td>\n",
       "      <td>Matthew Sawyer</td>\n",
       "      <td>kristin90@example.net</td>\n",
       "      <td>46335</td>\n",
       "      <td>1550</td>\n",
       "      <td>Computer manager include too.</td>\n",
       "      <td>1550</td>\n",
       "      <td>2024-06-29</td>\n",
       "      <td>2025-02-02</td>\n",
       "      <td>Work Research</td>\n",
       "      <td>Conference statement friend.</td>\n",
       "    </tr>\n",
       "    <tr>\n",
       "      <th>...</th>\n",
       "      <td>...</td>\n",
       "      <td>...</td>\n",
       "      <td>...</td>\n",
       "      <td>...</td>\n",
       "      <td>...</td>\n",
       "      <td>...</td>\n",
       "      <td>...</td>\n",
       "      <td>...</td>\n",
       "      <td>...</td>\n",
       "      <td>...</td>\n",
       "      <td>...</td>\n",
       "      <td>...</td>\n",
       "      <td>...</td>\n",
       "      <td>...</td>\n",
       "      <td>...</td>\n",
       "      <td>...</td>\n",
       "      <td>...</td>\n",
       "      <td>...</td>\n",
       "      <td>...</td>\n",
       "      <td>...</td>\n",
       "      <td>...</td>\n",
       "    </tr>\n",
       "    <tr>\n",
       "      <th>460257</th>\n",
       "      <td>99990</td>\n",
       "      <td>99990</td>\n",
       "      <td>70154</td>\n",
       "      <td>2024-03-16</td>\n",
       "      <td>2025-04-29</td>\n",
       "      <td>Run keep southern.</td>\n",
       "      <td>Lauren Landry</td>\n",
       "      <td>978-0-13-237725-6</td>\n",
       "      <td>99990</td>\n",
       "      <td>Bridges PLC Library</td>\n",
       "      <td>...</td>\n",
       "      <td>Stephen Johnson</td>\n",
       "      <td>oleon@example.org</td>\n",
       "      <td>11087</td>\n",
       "      <td>59289</td>\n",
       "      <td>Loss federal raise.</td>\n",
       "      <td>59289</td>\n",
       "      <td>2024-03-01</td>\n",
       "      <td>2025-08-02</td>\n",
       "      <td>Environmental Research</td>\n",
       "      <td>Magazine move.</td>\n",
       "    </tr>\n",
       "    <tr>\n",
       "      <th>460258</th>\n",
       "      <td>99990</td>\n",
       "      <td>99990</td>\n",
       "      <td>70154</td>\n",
       "      <td>2024-03-16</td>\n",
       "      <td>2025-04-29</td>\n",
       "      <td>Run keep southern.</td>\n",
       "      <td>Lauren Landry</td>\n",
       "      <td>978-0-13-237725-6</td>\n",
       "      <td>99990</td>\n",
       "      <td>Bridges PLC Library</td>\n",
       "      <td>...</td>\n",
       "      <td>Stephen Johnson</td>\n",
       "      <td>oleon@example.org</td>\n",
       "      <td>11087</td>\n",
       "      <td>59289</td>\n",
       "      <td>Loss federal raise.</td>\n",
       "      <td>59289</td>\n",
       "      <td>2024-03-01</td>\n",
       "      <td>2025-08-02</td>\n",
       "      <td>Environmental Research</td>\n",
       "      <td>Magazine move.</td>\n",
       "    </tr>\n",
       "    <tr>\n",
       "      <th>460259</th>\n",
       "      <td>99990</td>\n",
       "      <td>99990</td>\n",
       "      <td>70154</td>\n",
       "      <td>2024-03-16</td>\n",
       "      <td>2025-04-29</td>\n",
       "      <td>Run keep southern.</td>\n",
       "      <td>Lauren Landry</td>\n",
       "      <td>978-0-13-237725-6</td>\n",
       "      <td>99990</td>\n",
       "      <td>Bridges PLC Library</td>\n",
       "      <td>...</td>\n",
       "      <td>Stephen Johnson</td>\n",
       "      <td>oleon@example.org</td>\n",
       "      <td>11087</td>\n",
       "      <td>59289</td>\n",
       "      <td>Loss federal raise.</td>\n",
       "      <td>59289</td>\n",
       "      <td>2024-03-01</td>\n",
       "      <td>2025-08-02</td>\n",
       "      <td>Environmental Research</td>\n",
       "      <td>Magazine move.</td>\n",
       "    </tr>\n",
       "    <tr>\n",
       "      <th>460260</th>\n",
       "      <td>99990</td>\n",
       "      <td>99990</td>\n",
       "      <td>70154</td>\n",
       "      <td>2024-03-16</td>\n",
       "      <td>2025-04-29</td>\n",
       "      <td>Run keep southern.</td>\n",
       "      <td>Lauren Landry</td>\n",
       "      <td>978-0-13-237725-6</td>\n",
       "      <td>99990</td>\n",
       "      <td>Bridges PLC Library</td>\n",
       "      <td>...</td>\n",
       "      <td>Stephen Johnson</td>\n",
       "      <td>oleon@example.org</td>\n",
       "      <td>11087</td>\n",
       "      <td>59289</td>\n",
       "      <td>Loss federal raise.</td>\n",
       "      <td>59289</td>\n",
       "      <td>2024-03-01</td>\n",
       "      <td>2025-08-02</td>\n",
       "      <td>Environmental Research</td>\n",
       "      <td>Magazine move.</td>\n",
       "    </tr>\n",
       "    <tr>\n",
       "      <th>460261</th>\n",
       "      <td>99999</td>\n",
       "      <td>99999</td>\n",
       "      <td>82503</td>\n",
       "      <td>2024-07-20</td>\n",
       "      <td>2024-12-27</td>\n",
       "      <td>Candidate marriage.</td>\n",
       "      <td>Mary Johnson</td>\n",
       "      <td>978-1-934594-40-7</td>\n",
       "      <td>99999</td>\n",
       "      <td>Ramirez, Larson and Farmer Library</td>\n",
       "      <td>...</td>\n",
       "      <td>Amy Hayes</td>\n",
       "      <td>aparrish@example.org</td>\n",
       "      <td>28673</td>\n",
       "      <td>1388</td>\n",
       "      <td>Impact.</td>\n",
       "      <td>1388</td>\n",
       "      <td>2024-05-02</td>\n",
       "      <td>2025-05-14</td>\n",
       "      <td>Style Research</td>\n",
       "      <td>Benefit company.</td>\n",
       "    </tr>\n",
       "  </tbody>\n",
       "</table>\n",
       "<p>460262 rows × 44 columns</p>\n",
       "</div>"
      ],
      "text/plain": [
       "        BookLoan_TABLE_loan_id  REF_TABLE_book_id  REF_TABLE_student_id  \\\n",
       "0                            5                  5                 97689   \n",
       "1                        27031              27031                 97689   \n",
       "2                        43333              43333                 97689   \n",
       "3                            5                  5                 97689   \n",
       "4                        27031              27031                 97689   \n",
       "...                        ...                ...                   ...   \n",
       "460257                   99990              99990                 70154   \n",
       "460258                   99990              99990                 70154   \n",
       "460259                   99990              99990                 70154   \n",
       "460260                   99990              99990                 70154   \n",
       "460261                   99999              99999                 82503   \n",
       "\n",
       "       BookLoan_TABLE_loan_date BookLoan_TABLE_return_date  \\\n",
       "0                    2024-07-06                 2025-02-03   \n",
       "1                    2024-05-11                 2024-11-16   \n",
       "2                    2024-06-17                 2025-01-14   \n",
       "3                    2024-07-06                 2025-02-03   \n",
       "4                    2024-05-11                 2024-11-16   \n",
       "...                         ...                        ...   \n",
       "460257               2024-03-16                 2025-04-29   \n",
       "460258               2024-03-16                 2025-04-29   \n",
       "460259               2024-03-16                 2025-04-29   \n",
       "460260               2024-03-16                 2025-04-29   \n",
       "460261               2024-07-20                 2024-12-27   \n",
       "\n",
       "           Book_TABLE_title  Book_TABLE_author    Book_TABLE_isbn  \\\n",
       "0          Development red.     Anthony Torres  978-1-82090-981-0   \n",
       "1              Edge moment.   Danielle Coleman  978-0-524-09270-5   \n",
       "2                  Can lay.  Mr. Jason Barnett  978-0-508-89162-1   \n",
       "3          Development red.     Anthony Torres  978-1-82090-981-0   \n",
       "4              Edge moment.   Danielle Coleman  978-0-524-09270-5   \n",
       "...                     ...                ...                ...   \n",
       "460257   Run keep southern.      Lauren Landry  978-0-13-237725-6   \n",
       "460258   Run keep southern.      Lauren Landry  978-0-13-237725-6   \n",
       "460259   Run keep southern.      Lauren Landry  978-0-13-237725-6   \n",
       "460260   Run keep southern.      Lauren Landry  978-0-13-237725-6   \n",
       "460261  Candidate marriage.       Mary Johnson  978-1-934594-40-7   \n",
       "\n",
       "        REF_TABLE_library_id                  Library_TABLE_name  ...  \\\n",
       "0                          5            Turner-Cervantes Library  ...   \n",
       "1                      27031              Bradshaw Group Library  ...   \n",
       "2                      43333    Smith, Johnson and Brown Library  ...   \n",
       "3                          5            Turner-Cervantes Library  ...   \n",
       "4                      27031              Bradshaw Group Library  ...   \n",
       "...                      ...                                 ...  ...   \n",
       "460257                 99990                 Bridges PLC Library  ...   \n",
       "460258                 99990                 Bridges PLC Library  ...   \n",
       "460259                 99990                 Bridges PLC Library  ...   \n",
       "460260                 99990                 Bridges PLC Library  ...   \n",
       "460261                 99999  Ramirez, Larson and Farmer Library  ...   \n",
       "\n",
       "       Professor_TABLE_name  Professor_TABLE_email Professor_TABLE_department  \\\n",
       "0            Matthew Sawyer  kristin90@example.net                      46335   \n",
       "1            Matthew Sawyer  kristin90@example.net                      46335   \n",
       "2            Matthew Sawyer  kristin90@example.net                      46335   \n",
       "3            Matthew Sawyer  kristin90@example.net                      46335   \n",
       "4            Matthew Sawyer  kristin90@example.net                      46335   \n",
       "...                     ...                    ...                        ...   \n",
       "460257      Stephen Johnson      oleon@example.org                      11087   \n",
       "460258      Stephen Johnson      oleon@example.org                      11087   \n",
       "460259      Stephen Johnson      oleon@example.org                      11087   \n",
       "460260      Stephen Johnson      oleon@example.org                      11087   \n",
       "460261            Amy Hayes   aparrish@example.org                      28673   \n",
       "\n",
       "       REF_TABLE_project_id    ResearchProject_TABLE_title  \\\n",
       "0                      1550  Computer manager include too.   \n",
       "1                      1550  Computer manager include too.   \n",
       "2                      1550  Computer manager include too.   \n",
       "3                      1550  Computer manager include too.   \n",
       "4                      1550  Computer manager include too.   \n",
       "...                     ...                            ...   \n",
       "460257                59289            Loss federal raise.   \n",
       "460258                59289            Loss federal raise.   \n",
       "460259                59289            Loss federal raise.   \n",
       "460260                59289            Loss federal raise.   \n",
       "460261                 1388                        Impact.   \n",
       "\n",
       "        REF_TABLE_group_id  ResearchProject_TABLE_start_date  \\\n",
       "0                     1550                        2024-06-29   \n",
       "1                     1550                        2024-06-29   \n",
       "2                     1550                        2024-06-29   \n",
       "3                     1550                        2024-06-29   \n",
       "4                     1550                        2024-06-29   \n",
       "...                    ...                               ...   \n",
       "460257               59289                        2024-03-01   \n",
       "460258               59289                        2024-03-01   \n",
       "460259               59289                        2024-03-01   \n",
       "460260               59289                        2024-03-01   \n",
       "460261                1388                        2024-05-02   \n",
       "\n",
       "       ResearchProject_TABLE_end_date ResearchGroup_TABLE_name  \\\n",
       "0                          2025-02-02            Work Research   \n",
       "1                          2025-02-02            Work Research   \n",
       "2                          2025-02-02            Work Research   \n",
       "3                          2025-02-02            Work Research   \n",
       "4                          2025-02-02            Work Research   \n",
       "...                               ...                      ...   \n",
       "460257                     2025-08-02   Environmental Research   \n",
       "460258                     2025-08-02   Environmental Research   \n",
       "460259                     2025-08-02   Environmental Research   \n",
       "460260                     2025-08-02   Environmental Research   \n",
       "460261                     2025-05-14           Style Research   \n",
       "\n",
       "        ResearchGroup_TABLE_focus_area  \n",
       "0         Conference statement friend.  \n",
       "1         Conference statement friend.  \n",
       "2         Conference statement friend.  \n",
       "3         Conference statement friend.  \n",
       "4         Conference statement friend.  \n",
       "...                                ...  \n",
       "460257                  Magazine move.  \n",
       "460258                  Magazine move.  \n",
       "460259                  Magazine move.  \n",
       "460260                  Magazine move.  \n",
       "460261                Benefit company.  \n",
       "\n",
       "[460262 rows x 44 columns]"
      ]
     },
     "execution_count": 4,
     "metadata": {},
     "output_type": "execute_result"
    }
   ],
   "source": [
    "    # raise e\n",
    "print(multi_wrapper.join_columns_map)\n",
    "multi_wrapper.join_tables"
   ]
  },
  {
   "cell_type": "code",
   "execution_count": 5,
   "metadata": {
    "ExecuteTime": {
     "end_time": "2024-10-16T08:18:23.520092Z",
     "start_time": "2024-10-16T08:18:17.869658Z"
    }
   },
   "outputs": [
    {
     "name": "stderr",
     "output_type": "stream",
     "text": [
      "2024-10-17 14:36:33.682 | INFO     | sdgx.data_models.metadata:from_dataloader:294 - Inspecting metadata...\n",
      "2024-10-17 14:36:33.694 | DEBUG    | sdgx.manager:register:99 - Register for new model: datetimeinspector\n",
      "2024-10-17 14:36:33.696 | DEBUG    | sdgx.manager:register:99 - Register for new model: numericinspector\n",
      "2024-10-17 14:36:33.697 | DEBUG    | sdgx.manager:register:99 - Register for new model: idinspector\n",
      "2024-10-17 14:36:33.698 | DEBUG    | sdgx.manager:register:99 - Register for new model: discreteinspector\n",
      "2024-10-17 14:36:33.699 | DEBUG    | sdgx.manager:register:99 - Register for new model: emailinspector\n",
      "2024-10-17 14:36:33.700 | DEBUG    | sdgx.manager:register:99 - Register for new model: chinamainlandidinspector\n",
      "2024-10-17 14:36:33.701 | DEBUG    | sdgx.manager:register:99 - Register for new model: chinamainlandmobilephoneinspector\n",
      "2024-10-17 14:36:33.702 | DEBUG    | sdgx.manager:register:99 - Register for new model: chinamainlandpostcode\n",
      "2024-10-17 14:36:33.702 | DEBUG    | sdgx.manager:register:99 - Register for new model: chinamainlandunifiedsocialcreditcode\n",
      "2024-10-17 14:36:33.703 | DEBUG    | sdgx.manager:register:99 - Register for new model: chinamainlandaddressinspector\n",
      "2024-10-17 14:36:33.704 | DEBUG    | sdgx.manager:register:99 - Register for new model: chinesenameinspector\n",
      "2024-10-17 14:36:33.705 | DEBUG    | sdgx.manager:register:99 - Register for new model: englishnameinspector\n",
      "2024-10-17 14:36:33.706 | DEBUG    | sdgx.manager:register:99 - Register for new model: chinesecompanynameinspector\n",
      "2024-10-17 14:36:33.707 | DEBUG    | sdgx.manager:register:99 - Register for new model: emptyinspector\n",
      "2024-10-17 14:36:33.708 | DEBUG    | sdgx.manager:register:99 - Register for new model: subsetrelationshipinspector\n",
      "2024-10-17 14:36:33.709 | DEBUG    | sdgx.manager:register:99 - Register for new model: constinspector\n",
      "2024-10-17 14:36:33.710 | DEBUG    | sdgx.manager:register:99 - Register for new model: boolinspector\n",
      "2024-10-17 14:36:46.709 | INFO     | sdgx.data_models.metadata:update_primary_key:503 - Primary Key updated: set().\n"
     ]
    },
    {
     "name": "stdout",
     "output_type": "stream",
     "text": [
      "metadata.int_columns={'REF_TABLE_course_id', 'Schedule_TABLE_schedule_id', 'REF_TABLE_student_id', 'Enrollment_TABLE_enrollment_id', 'Submission_TABLE_assignment_id', 'Professor_TABLE_department', 'REF_TABLE_library_id', 'Student_TABLE_major', 'REF_TABLE_book_id', 'Submission_TABLE_submission_id', 'REF_TABLE_project_id', 'BookLoan_TABLE_loan_id', 'Schedule_TABLE_room', 'REF_TABLE_group_id', 'REF_TABLE_textbook_id', 'Course_TABLE_department', 'REF_TABLE_professor_id', 'Course_TABLE_credits'}\n",
      "metadata.float_columns=set()\n",
      "metadata.const_columns=set()\n",
      "metadata.bool_columns=set()\n",
      "metadata.discrete_columns={'Student_TABLE_name', 'Library_TABLE_location', 'Course_TABLE_title', 'Book_TABLE_title', 'Professor_TABLE_email', 'Student_TABLE_email', 'Book_TABLE_author', 'Enrollment_TABLE_semester', 'ResearchProject_TABLE_title', 'Textbook_TABLE_title', 'Enrollment_TABLE_grade', 'ResearchGroup_TABLE_name', 'Textbook_TABLE_author', 'Submission_TABLE_grade', 'Professor_TABLE_name', 'Book_TABLE_isbn', 'Library_TABLE_name', 'ResearchGroup_TABLE_focus_area', 'Textbook_TABLE_isbn'}\n"
     ]
    },
    {
     "data": {
      "text/plain": [
       "<multi_ctgan.MultiTableCTGAN at 0x79aaca32c490>"
      ]
     },
     "execution_count": 5,
     "metadata": {},
     "output_type": "execute_result"
    }
   ],
   "source": [
    "from mycode.dataset import XMetaBuilder\n",
    "multi_wrapper.build_metadata(builder=XMetaBuilder(x_args))"
   ]
  },
  {
   "cell_type": "markdown",
   "metadata": {},
   "source": [
    "训练"
   ]
  },
  {
   "cell_type": "code",
   "execution_count": 6,
   "metadata": {
    "ExecuteTime": {
     "end_time": "2024-10-16T08:18:59.083258Z",
     "start_time": "2024-10-16T08:18:23.521102Z"
    }
   },
   "outputs": [
    {
     "name": "stderr",
     "output_type": "stream",
     "text": [
      "2024-10-17 14:36:46.803 | DEBUG    | sdgx.manager:register:99 - Register for new model: columnordertransformer\n",
      "2024-10-17 14:36:46.805 | DEBUG    | sdgx.manager:register:99 - Register for new model: numericvaluetransformer\n",
      "2024-10-17 14:36:46.806 | DEBUG    | sdgx.manager:register:99 - Register for new model: outliertransformer\n",
      "2024-10-17 14:36:46.807 | DEBUG    | sdgx.manager:register:99 - Register for new model: nonvaluetransformer\n",
      "2024-10-17 14:36:46.808 | DEBUG    | sdgx.manager:register:99 - Register for new model: emptytransformer\n",
      "2024-10-17 14:36:46.809 | DEBUG    | sdgx.manager:register:99 - Register for new model: constvaluetransformer\n",
      "2024-10-17 14:36:46.809 | DEBUG    | sdgx.manager:register:99 - Register for new model: chnpiigenerator\n",
      "2024-10-17 14:36:46.810 | DEBUG    | sdgx.manager:register:99 - Register for new model: emailgenerator\n",
      "2024-10-17 14:36:46.811 | DEBUG    | sdgx.manager:register:99 - Register for new model: intvalueformatter\n",
      "2024-10-17 14:36:46.812 | DEBUG    | sdgx.manager:register:99 - Register for new model: datetimeformatter\n",
      "2024-10-17 14:36:46.813 | INFO     | sdgx.synthesizer:__init__:106 - Using data processors: ['nonvaluetransformer', 'outliertransformer', 'emailgenerator', 'chnpiigenerator', 'intvalueformatter', 'datetimeformatter', 'constvaluetransformer', 'emptytransformer', 'columnordertransformer']\n",
      "2024-10-17 14:36:46.838 | INFO     | sdgx.synthesizer:fit:296 - Fitting data processors...\n"
     ]
    },
    {
     "name": "stderr",
     "output_type": "stream",
     "text": [
      "2024-10-17 14:37:20.442 | INFO     | sdgx.data_processors.transformers.nan:fit:71 - NonValueTransformer Fitted.\n",
      "2024-10-17 14:37:20.448 | INFO     | sdgx.data_processors.transformers.nan:fit:87 - NonValueTransformer get int columns: {'REF_TABLE_course_id', 'Schedule_TABLE_schedule_id', 'Enrollment_TABLE_enrollment_id', 'Submission_TABLE_assignment_id', 'Professor_TABLE_department', 'REF_TABLE_library_id', 'REF_TABLE_textbook_id', 'Student_TABLE_major', 'Submission_TABLE_submission_id', 'REF_TABLE_project_id', 'BookLoan_TABLE_loan_id', 'REF_TABLE_group_id', 'Schedule_TABLE_room', 'REF_TABLE_student_id', 'REF_TABLE_book_id', 'Course_TABLE_department', 'REF_TABLE_professor_id', 'Course_TABLE_credits'}.\n",
      "2024-10-17 14:37:20.449 | INFO     | sdgx.data_processors.transformers.nan:fit:96 - NonValueTransformer get float columns: set().\n",
      "2024-10-17 14:37:20.450 | INFO     | sdgx.data_processors.transformers.nan:fit:101 - NonValueTransformer get column list from metadata: ['BookLoan_TABLE_loan_id', 'REF_TABLE_book_id', 'REF_TABLE_student_id', 'BookLoan_TABLE_loan_date', 'BookLoan_TABLE_return_date', 'Book_TABLE_title', 'Book_TABLE_author', 'Book_TABLE_isbn', 'REF_TABLE_library_id', 'Library_TABLE_name', 'Library_TABLE_location', 'Student_TABLE_name', 'Student_TABLE_email', 'Student_TABLE_date_of_birth', 'Student_TABLE_major', 'Enrollment_TABLE_enrollment_id', 'REF_TABLE_course_id', 'Enrollment_TABLE_semester', 'Enrollment_TABLE_grade', 'Submission_TABLE_submission_id', 'Submission_TABLE_assignment_id', 'Submission_TABLE_submission_date', 'Submission_TABLE_grade', 'Course_TABLE_title', 'Course_TABLE_credits', 'Course_TABLE_department', 'REF_TABLE_textbook_id', 'Textbook_TABLE_title', 'Textbook_TABLE_author', 'Textbook_TABLE_isbn', 'Schedule_TABLE_schedule_id', 'REF_TABLE_professor_id', 'Schedule_TABLE_room', 'Schedule_TABLE_time_slot', 'Professor_TABLE_name', 'Professor_TABLE_email', 'Professor_TABLE_department', 'REF_TABLE_project_id', 'ResearchProject_TABLE_title', 'REF_TABLE_group_id', 'ResearchProject_TABLE_start_date', 'ResearchProject_TABLE_end_date', 'ResearchGroup_TABLE_name', 'ResearchGroup_TABLE_focus_area'].\n",
      "2024-10-17 14:37:20.452 | INFO     | sdgx.data_processors.transformers.outlier:fit:70 - OutlierTransformer Fitted.\n",
      "2024-10-17 14:37:20.453 | INFO     | sdgx.data_processors.formatters.int:fit:40 - IntValueFormatter Fitted.\n",
      "2024-10-17 14:37:20.454 | WARNING  | sdgx.data_processors.formatters.datetime:fit:70 - Column Schedule_TABLE_time_slot has no datetime_format, DatetimeFormatter will REMOVE this column！\n",
      "2024-10-17 14:37:20.455 | WARNING  | sdgx.data_processors.formatters.datetime:fit:70 - Column Submission_TABLE_submission_date has no datetime_format, DatetimeFormatter will REMOVE this column！\n",
      "2024-10-17 14:37:20.456 | INFO     | sdgx.data_processors.formatters.datetime:fit:77 - DatetimeFormatter Fitted.\n",
      "2024-10-17 14:37:20.458 | INFO     | sdgx.data_processors.transformers.const:fit:49 - ConstValueTransformer Fitted.\n",
      "2024-10-17 14:37:20.459 | INFO     | sdgx.data_processors.transformers.empty:fit:54 - EmptyTransformer Fitted.\n",
      "2024-10-17 14:37:20.460 | INFO     | sdgx.data_processors.transformers.column_order:fit:41 - ColumnOrderTransformer Fitted.\n",
      "2024-10-17 14:37:20.461 | INFO     | sdgx.synthesizer:fit:305 - Fitted 9 data processors in  0.01942920684814453s.\n",
      "2024-10-17 14:37:20.462 | INFO     | sdgx.synthesizer:fit:315 - Initializing processed data loader...\n",
      "2024-10-17 14:37:20.538 | INFO     | sdgx.data_processors.transformers.nan:convert:110 - Converting data using NonValueTransformer...\n",
      "2024-10-17 14:37:20.584 | INFO     | sdgx.data_processors.transformers.nan:convert:130 - Converting data using NonValueTransformer... Finished.\n",
      "2024-10-17 14:37:20.585 | INFO     | sdgx.data_processors.transformers.outlier:convert:84 - Converting data using OutlierTransformer...\n",
      "2024-10-17 14:37:20.659 | INFO     | sdgx.data_processors.transformers.outlier:convert:106 - Converting data using OutlierTransformer... Finished.\n",
      "2024-10-17 14:37:20.674 | INFO     | sdgx.data_processors.formatters.int:convert:50 - Converting data using IntValueFormatter... Finished  (No Action).\n",
      "2024-10-17 14:37:20.680 | WARNING  | sdgx.data_processors.formatters.datetime:convert:97 - Column Schedule_TABLE_time_slot was removed because lack of format info.\n",
      "2024-10-17 14:37:20.686 | WARNING  | sdgx.data_processors.formatters.datetime:convert:97 - Column Submission_TABLE_submission_date was removed because lack of format info.\n",
      "2024-10-17 14:37:20.687 | INFO     | sdgx.data_processors.formatters.datetime:convert:99 - Converting data using DatetimeFormatter...\n",
      "2024-10-17 14:37:21.049 | INFO     | sdgx.data_processors.formatters.datetime:convert:105 - Converting data using DatetimeFormatter... Finished.\n",
      "2024-10-17 14:37:21.055 | INFO     | sdgx.data_processors.transformers.const:convert:69 - Converting data using ConstValueTransformer...\n",
      "2024-10-17 14:37:21.056 | INFO     | sdgx.data_processors.transformers.const:convert:77 - Converting data using ConstValueTransformer... Finished.\n",
      "2024-10-17 14:37:21.057 | INFO     | sdgx.data_processors.transformers.empty:convert:72 - Converting data using EmptyTransformer...\n",
      "2024-10-17 14:37:21.058 | INFO     | sdgx.data_processors.transformers.empty:convert:76 - Converting data using EmptyTransformer... Finished (No action).\n",
      "2024-10-17 14:37:21.059 | INFO     | sdgx.data_processors.transformers.column_order:convert:51 - Converting data using ColumnOrderTransformer...\n",
      "2024-10-17 14:37:21.060 | INFO     | sdgx.data_processors.transformers.column_order:convert:52 - Converting data using ColumnOrderTransformer... Finished (No action).\n",
      "2024-10-17 14:37:21.179 | INFO     | sdgx.data_processors.transformers.nan:convert:110 - Converting data using NonValueTransformer...\n",
      "2024-10-17 14:37:21.224 | INFO     | sdgx.data_processors.transformers.nan:convert:130 - Converting data using NonValueTransformer... Finished.\n",
      "2024-10-17 14:37:21.225 | INFO     | sdgx.data_processors.transformers.outlier:convert:84 - Converting data using OutlierTransformer...\n",
      "2024-10-17 14:37:21.292 | INFO     | sdgx.data_processors.transformers.outlier:convert:106 - Converting data using OutlierTransformer... Finished.\n",
      "2024-10-17 14:37:21.306 | INFO     | sdgx.data_processors.formatters.int:convert:50 - Converting data using IntValueFormatter... Finished  (No Action).\n",
      "2024-10-17 14:37:21.312 | WARNING  | sdgx.data_processors.formatters.datetime:convert:97 - Column Schedule_TABLE_time_slot was removed because lack of format info.\n",
      "2024-10-17 14:37:21.318 | WARNING  | sdgx.data_processors.formatters.datetime:convert:97 - Column Submission_TABLE_submission_date was removed because lack of format info.\n",
      "2024-10-17 14:37:21.319 | INFO     | sdgx.data_processors.formatters.datetime:convert:99 - Converting data using DatetimeFormatter...\n",
      "2024-10-17 14:37:21.692 | INFO     | sdgx.data_processors.formatters.datetime:convert:105 - Converting data using DatetimeFormatter... Finished.\n",
      "2024-10-17 14:37:21.698 | INFO     | sdgx.data_processors.transformers.const:convert:69 - Converting data using ConstValueTransformer...\n",
      "2024-10-17 14:37:21.699 | INFO     | sdgx.data_processors.transformers.const:convert:77 - Converting data using ConstValueTransformer... Finished.\n",
      "2024-10-17 14:37:21.701 | INFO     | sdgx.data_processors.transformers.empty:convert:72 - Converting data using EmptyTransformer...\n",
      "2024-10-17 14:37:21.702 | INFO     | sdgx.data_processors.transformers.empty:convert:76 - Converting data using EmptyTransformer... Finished (No action).\n",
      "2024-10-17 14:37:21.703 | INFO     | sdgx.data_processors.transformers.column_order:convert:51 - Converting data using ColumnOrderTransformer...\n",
      "2024-10-17 14:37:21.704 | INFO     | sdgx.data_processors.transformers.column_order:convert:52 - Converting data using ColumnOrderTransformer... Finished (No action).\n",
      "2024-10-17 14:37:21.816 | INFO     | sdgx.data_processors.transformers.nan:convert:110 - Converting data using NonValueTransformer...\n",
      "2024-10-17 14:37:21.858 | INFO     | sdgx.data_processors.transformers.nan:convert:130 - Converting data using NonValueTransformer... Finished.\n",
      "2024-10-17 14:37:21.859 | INFO     | sdgx.data_processors.transformers.outlier:convert:84 - Converting data using OutlierTransformer...\n",
      "2024-10-17 14:37:21.925 | INFO     | sdgx.data_processors.transformers.outlier:convert:106 - Converting data using OutlierTransformer... Finished.\n",
      "2024-10-17 14:37:21.940 | INFO     | sdgx.data_processors.formatters.int:convert:50 - Converting data using IntValueFormatter... Finished  (No Action).\n",
      "2024-10-17 14:37:21.945 | WARNING  | sdgx.data_processors.formatters.datetime:convert:97 - Column Schedule_TABLE_time_slot was removed because lack of format info.\n",
      "2024-10-17 14:37:21.951 | WARNING  | sdgx.data_processors.formatters.datetime:convert:97 - Column Submission_TABLE_submission_date was removed because lack of format info.\n",
      "2024-10-17 14:37:21.952 | INFO     | sdgx.data_processors.formatters.datetime:convert:99 - Converting data using DatetimeFormatter...\n",
      "2024-10-17 14:37:22.316 | INFO     | sdgx.data_processors.formatters.datetime:convert:105 - Converting data using DatetimeFormatter... Finished.\n",
      "2024-10-17 14:37:22.321 | INFO     | sdgx.data_processors.transformers.const:convert:69 - Converting data using ConstValueTransformer...\n",
      "2024-10-17 14:37:22.322 | INFO     | sdgx.data_processors.transformers.const:convert:77 - Converting data using ConstValueTransformer... Finished.\n",
      "2024-10-17 14:37:22.324 | INFO     | sdgx.data_processors.transformers.empty:convert:72 - Converting data using EmptyTransformer...\n",
      "2024-10-17 14:37:22.325 | INFO     | sdgx.data_processors.transformers.empty:convert:76 - Converting data using EmptyTransformer... Finished (No action).\n",
      "2024-10-17 14:37:22.326 | INFO     | sdgx.data_processors.transformers.column_order:convert:51 - Converting data using ColumnOrderTransformer...\n",
      "2024-10-17 14:37:22.327 | INFO     | sdgx.data_processors.transformers.column_order:convert:52 - Converting data using ColumnOrderTransformer... Finished (No action).\n",
      "2024-10-17 14:37:22.436 | INFO     | sdgx.data_processors.transformers.nan:convert:110 - Converting data using NonValueTransformer...\n",
      "2024-10-17 14:37:22.481 | INFO     | sdgx.data_processors.transformers.nan:convert:130 - Converting data using NonValueTransformer... Finished.\n",
      "2024-10-17 14:37:22.482 | INFO     | sdgx.data_processors.transformers.outlier:convert:84 - Converting data using OutlierTransformer...\n",
      "2024-10-17 14:37:22.550 | INFO     | sdgx.data_processors.transformers.outlier:convert:106 - Converting data using OutlierTransformer... Finished.\n",
      "2024-10-17 14:37:22.565 | INFO     | sdgx.data_processors.formatters.int:convert:50 - Converting data using IntValueFormatter... Finished  (No Action).\n",
      "2024-10-17 14:37:22.570 | WARNING  | sdgx.data_processors.formatters.datetime:convert:97 - Column Schedule_TABLE_time_slot was removed because lack of format info.\n",
      "2024-10-17 14:37:22.576 | WARNING  | sdgx.data_processors.formatters.datetime:convert:97 - Column Submission_TABLE_submission_date was removed because lack of format info.\n",
      "2024-10-17 14:37:22.577 | INFO     | sdgx.data_processors.formatters.datetime:convert:99 - Converting data using DatetimeFormatter...\n",
      "2024-10-17 14:37:22.930 | INFO     | sdgx.data_processors.formatters.datetime:convert:105 - Converting data using DatetimeFormatter... Finished.\n",
      "2024-10-17 14:37:22.936 | INFO     | sdgx.data_processors.transformers.const:convert:69 - Converting data using ConstValueTransformer...\n",
      "2024-10-17 14:37:22.937 | INFO     | sdgx.data_processors.transformers.const:convert:77 - Converting data using ConstValueTransformer... Finished.\n",
      "2024-10-17 14:37:22.938 | INFO     | sdgx.data_processors.transformers.empty:convert:72 - Converting data using EmptyTransformer...\n",
      "2024-10-17 14:37:22.938 | INFO     | sdgx.data_processors.transformers.empty:convert:76 - Converting data using EmptyTransformer... Finished (No action).\n",
      "2024-10-17 14:37:22.939 | INFO     | sdgx.data_processors.transformers.column_order:convert:51 - Converting data using ColumnOrderTransformer...\n",
      "2024-10-17 14:37:22.940 | INFO     | sdgx.data_processors.transformers.column_order:convert:52 - Converting data using ColumnOrderTransformer... Finished (No action).\n",
      "2024-10-17 14:37:23.050 | INFO     | sdgx.data_processors.transformers.nan:convert:110 - Converting data using NonValueTransformer...\n",
      "2024-10-17 14:37:23.094 | INFO     | sdgx.data_processors.transformers.nan:convert:130 - Converting data using NonValueTransformer... Finished.\n",
      "2024-10-17 14:37:23.095 | INFO     | sdgx.data_processors.transformers.outlier:convert:84 - Converting data using OutlierTransformer...\n",
      "2024-10-17 14:37:23.162 | INFO     | sdgx.data_processors.transformers.outlier:convert:106 - Converting data using OutlierTransformer... Finished.\n",
      "2024-10-17 14:37:23.176 | INFO     | sdgx.data_processors.formatters.int:convert:50 - Converting data using IntValueFormatter... Finished  (No Action).\n",
      "2024-10-17 14:37:23.182 | WARNING  | sdgx.data_processors.formatters.datetime:convert:97 - Column Schedule_TABLE_time_slot was removed because lack of format info.\n",
      "2024-10-17 14:37:23.187 | WARNING  | sdgx.data_processors.formatters.datetime:convert:97 - Column Submission_TABLE_submission_date was removed because lack of format info.\n",
      "2024-10-17 14:37:23.188 | INFO     | sdgx.data_processors.formatters.datetime:convert:99 - Converting data using DatetimeFormatter...\n",
      "2024-10-17 14:37:23.552 | INFO     | sdgx.data_processors.formatters.datetime:convert:105 - Converting data using DatetimeFormatter... Finished.\n",
      "2024-10-17 14:37:23.557 | INFO     | sdgx.data_processors.transformers.const:convert:69 - Converting data using ConstValueTransformer...\n",
      "2024-10-17 14:37:23.558 | INFO     | sdgx.data_processors.transformers.const:convert:77 - Converting data using ConstValueTransformer... Finished.\n",
      "2024-10-17 14:37:23.560 | INFO     | sdgx.data_processors.transformers.empty:convert:72 - Converting data using EmptyTransformer...\n",
      "2024-10-17 14:37:23.561 | INFO     | sdgx.data_processors.transformers.empty:convert:76 - Converting data using EmptyTransformer... Finished (No action).\n",
      "2024-10-17 14:37:23.562 | INFO     | sdgx.data_processors.transformers.column_order:convert:51 - Converting data using ColumnOrderTransformer...\n",
      "2024-10-17 14:37:23.563 | INFO     | sdgx.data_processors.transformers.column_order:convert:52 - Converting data using ColumnOrderTransformer... Finished (No action).\n",
      "2024-10-17 14:37:23.678 | INFO     | sdgx.data_processors.transformers.nan:convert:110 - Converting data using NonValueTransformer...\n",
      "2024-10-17 14:37:23.720 | INFO     | sdgx.data_processors.transformers.nan:convert:130 - Converting data using NonValueTransformer... Finished.\n",
      "2024-10-17 14:37:23.721 | INFO     | sdgx.data_processors.transformers.outlier:convert:84 - Converting data using OutlierTransformer...\n",
      "2024-10-17 14:37:23.788 | INFO     | sdgx.data_processors.transformers.outlier:convert:106 - Converting data using OutlierTransformer... Finished.\n",
      "2024-10-17 14:37:23.802 | INFO     | sdgx.data_processors.formatters.int:convert:50 - Converting data using IntValueFormatter... Finished  (No Action).\n",
      "2024-10-17 14:37:23.808 | WARNING  | sdgx.data_processors.formatters.datetime:convert:97 - Column Schedule_TABLE_time_slot was removed because lack of format info.\n",
      "2024-10-17 14:37:23.813 | WARNING  | sdgx.data_processors.formatters.datetime:convert:97 - Column Submission_TABLE_submission_date was removed because lack of format info.\n",
      "2024-10-17 14:37:23.814 | INFO     | sdgx.data_processors.formatters.datetime:convert:99 - Converting data using DatetimeFormatter...\n",
      "2024-10-17 14:37:24.174 | INFO     | sdgx.data_processors.formatters.datetime:convert:105 - Converting data using DatetimeFormatter... Finished.\n",
      "2024-10-17 14:37:24.180 | INFO     | sdgx.data_processors.transformers.const:convert:69 - Converting data using ConstValueTransformer...\n",
      "2024-10-17 14:37:24.181 | INFO     | sdgx.data_processors.transformers.const:convert:77 - Converting data using ConstValueTransformer... Finished.\n",
      "2024-10-17 14:37:24.182 | INFO     | sdgx.data_processors.transformers.empty:convert:72 - Converting data using EmptyTransformer...\n",
      "2024-10-17 14:37:24.183 | INFO     | sdgx.data_processors.transformers.empty:convert:76 - Converting data using EmptyTransformer... Finished (No action).\n",
      "2024-10-17 14:37:24.184 | INFO     | sdgx.data_processors.transformers.column_order:convert:51 - Converting data using ColumnOrderTransformer...\n",
      "2024-10-17 14:37:24.185 | INFO     | sdgx.data_processors.transformers.column_order:convert:52 - Converting data using ColumnOrderTransformer... Finished (No action).\n",
      "2024-10-17 14:37:24.301 | INFO     | sdgx.data_processors.transformers.nan:convert:110 - Converting data using NonValueTransformer...\n",
      "2024-10-17 14:37:24.348 | INFO     | sdgx.data_processors.transformers.nan:convert:130 - Converting data using NonValueTransformer... Finished.\n",
      "2024-10-17 14:37:24.350 | INFO     | sdgx.data_processors.transformers.outlier:convert:84 - Converting data using OutlierTransformer...\n",
      "2024-10-17 14:37:24.419 | INFO     | sdgx.data_processors.transformers.outlier:convert:106 - Converting data using OutlierTransformer... Finished.\n",
      "2024-10-17 14:37:24.434 | INFO     | sdgx.data_processors.formatters.int:convert:50 - Converting data using IntValueFormatter... Finished  (No Action).\n",
      "2024-10-17 14:37:24.440 | WARNING  | sdgx.data_processors.formatters.datetime:convert:97 - Column Schedule_TABLE_time_slot was removed because lack of format info.\n",
      "2024-10-17 14:37:24.445 | WARNING  | sdgx.data_processors.formatters.datetime:convert:97 - Column Submission_TABLE_submission_date was removed because lack of format info.\n",
      "2024-10-17 14:37:24.446 | INFO     | sdgx.data_processors.formatters.datetime:convert:99 - Converting data using DatetimeFormatter...\n",
      "2024-10-17 14:37:24.807 | INFO     | sdgx.data_processors.formatters.datetime:convert:105 - Converting data using DatetimeFormatter... Finished.\n",
      "2024-10-17 14:37:24.812 | INFO     | sdgx.data_processors.transformers.const:convert:69 - Converting data using ConstValueTransformer...\n",
      "2024-10-17 14:37:24.813 | INFO     | sdgx.data_processors.transformers.const:convert:77 - Converting data using ConstValueTransformer... Finished.\n",
      "2024-10-17 14:37:24.815 | INFO     | sdgx.data_processors.transformers.empty:convert:72 - Converting data using EmptyTransformer...\n",
      "2024-10-17 14:37:24.815 | INFO     | sdgx.data_processors.transformers.empty:convert:76 - Converting data using EmptyTransformer... Finished (No action).\n",
      "2024-10-17 14:37:24.816 | INFO     | sdgx.data_processors.transformers.column_order:convert:51 - Converting data using ColumnOrderTransformer...\n",
      "2024-10-17 14:37:24.817 | INFO     | sdgx.data_processors.transformers.column_order:convert:52 - Converting data using ColumnOrderTransformer... Finished (No action).\n",
      "2024-10-17 14:37:24.927 | INFO     | sdgx.data_processors.transformers.nan:convert:110 - Converting data using NonValueTransformer...\n",
      "2024-10-17 14:37:24.971 | INFO     | sdgx.data_processors.transformers.nan:convert:130 - Converting data using NonValueTransformer... Finished.\n",
      "2024-10-17 14:37:24.972 | INFO     | sdgx.data_processors.transformers.outlier:convert:84 - Converting data using OutlierTransformer...\n",
      "2024-10-17 14:37:25.038 | INFO     | sdgx.data_processors.transformers.outlier:convert:106 - Converting data using OutlierTransformer... Finished.\n",
      "2024-10-17 14:37:25.055 | INFO     | sdgx.data_processors.formatters.int:convert:50 - Converting data using IntValueFormatter... Finished  (No Action).\n",
      "2024-10-17 14:37:25.062 | WARNING  | sdgx.data_processors.formatters.datetime:convert:97 - Column Schedule_TABLE_time_slot was removed because lack of format info.\n",
      "2024-10-17 14:37:25.068 | WARNING  | sdgx.data_processors.formatters.datetime:convert:97 - Column Submission_TABLE_submission_date was removed because lack of format info.\n",
      "2024-10-17 14:37:25.069 | INFO     | sdgx.data_processors.formatters.datetime:convert:99 - Converting data using DatetimeFormatter...\n",
      "2024-10-17 14:37:25.442 | INFO     | sdgx.data_processors.formatters.datetime:convert:105 - Converting data using DatetimeFormatter... Finished.\n",
      "2024-10-17 14:37:25.448 | INFO     | sdgx.data_processors.transformers.const:convert:69 - Converting data using ConstValueTransformer...\n",
      "2024-10-17 14:37:25.449 | INFO     | sdgx.data_processors.transformers.const:convert:77 - Converting data using ConstValueTransformer... Finished.\n",
      "2024-10-17 14:37:25.451 | INFO     | sdgx.data_processors.transformers.empty:convert:72 - Converting data using EmptyTransformer...\n",
      "2024-10-17 14:37:25.453 | INFO     | sdgx.data_processors.transformers.empty:convert:76 - Converting data using EmptyTransformer... Finished (No action).\n",
      "2024-10-17 14:37:25.454 | INFO     | sdgx.data_processors.transformers.column_order:convert:51 - Converting data using ColumnOrderTransformer...\n",
      "2024-10-17 14:37:25.456 | INFO     | sdgx.data_processors.transformers.column_order:convert:52 - Converting data using ColumnOrderTransformer... Finished (No action).\n",
      "2024-10-17 14:37:25.570 | INFO     | sdgx.data_processors.transformers.nan:convert:110 - Converting data using NonValueTransformer...\n",
      "2024-10-17 14:37:25.611 | INFO     | sdgx.data_processors.transformers.nan:convert:130 - Converting data using NonValueTransformer... Finished.\n",
      "2024-10-17 14:37:25.612 | INFO     | sdgx.data_processors.transformers.outlier:convert:84 - Converting data using OutlierTransformer...\n",
      "2024-10-17 14:37:25.678 | INFO     | sdgx.data_processors.transformers.outlier:convert:106 - Converting data using OutlierTransformer... Finished.\n",
      "2024-10-17 14:37:25.695 | INFO     | sdgx.data_processors.formatters.int:convert:50 - Converting data using IntValueFormatter... Finished  (No Action).\n",
      "2024-10-17 14:37:25.701 | WARNING  | sdgx.data_processors.formatters.datetime:convert:97 - Column Schedule_TABLE_time_slot was removed because lack of format info.\n",
      "2024-10-17 14:37:25.707 | WARNING  | sdgx.data_processors.formatters.datetime:convert:97 - Column Submission_TABLE_submission_date was removed because lack of format info.\n",
      "2024-10-17 14:37:25.708 | INFO     | sdgx.data_processors.formatters.datetime:convert:99 - Converting data using DatetimeFormatter...\n",
      "2024-10-17 14:37:26.221 | INFO     | sdgx.data_processors.formatters.datetime:convert:105 - Converting data using DatetimeFormatter... Finished.\n",
      "2024-10-17 14:37:26.227 | INFO     | sdgx.data_processors.transformers.const:convert:69 - Converting data using ConstValueTransformer...\n",
      "2024-10-17 14:37:26.228 | INFO     | sdgx.data_processors.transformers.const:convert:77 - Converting data using ConstValueTransformer... Finished.\n",
      "2024-10-17 14:37:26.229 | INFO     | sdgx.data_processors.transformers.empty:convert:72 - Converting data using EmptyTransformer...\n",
      "2024-10-17 14:37:26.231 | INFO     | sdgx.data_processors.transformers.empty:convert:76 - Converting data using EmptyTransformer... Finished (No action).\n",
      "2024-10-17 14:37:26.232 | INFO     | sdgx.data_processors.transformers.column_order:convert:51 - Converting data using ColumnOrderTransformer...\n",
      "2024-10-17 14:37:26.233 | INFO     | sdgx.data_processors.transformers.column_order:convert:52 - Converting data using ColumnOrderTransformer... Finished (No action).\n",
      "2024-10-17 14:37:26.343 | INFO     | sdgx.data_processors.transformers.nan:convert:110 - Converting data using NonValueTransformer...\n",
      "2024-10-17 14:37:26.391 | INFO     | sdgx.data_processors.transformers.nan:convert:130 - Converting data using NonValueTransformer... Finished.\n",
      "2024-10-17 14:37:26.392 | INFO     | sdgx.data_processors.transformers.outlier:convert:84 - Converting data using OutlierTransformer...\n",
      "2024-10-17 14:37:26.460 | INFO     | sdgx.data_processors.transformers.outlier:convert:106 - Converting data using OutlierTransformer... Finished.\n",
      "2024-10-17 14:37:26.477 | INFO     | sdgx.data_processors.formatters.int:convert:50 - Converting data using IntValueFormatter... Finished  (No Action).\n",
      "2024-10-17 14:37:26.483 | WARNING  | sdgx.data_processors.formatters.datetime:convert:97 - Column Schedule_TABLE_time_slot was removed because lack of format info.\n",
      "2024-10-17 14:37:26.488 | WARNING  | sdgx.data_processors.formatters.datetime:convert:97 - Column Submission_TABLE_submission_date was removed because lack of format info.\n",
      "2024-10-17 14:37:26.489 | INFO     | sdgx.data_processors.formatters.datetime:convert:99 - Converting data using DatetimeFormatter...\n",
      "2024-10-17 14:37:26.848 | INFO     | sdgx.data_processors.formatters.datetime:convert:105 - Converting data using DatetimeFormatter... Finished.\n",
      "2024-10-17 14:37:26.853 | INFO     | sdgx.data_processors.transformers.const:convert:69 - Converting data using ConstValueTransformer...\n",
      "2024-10-17 14:37:26.854 | INFO     | sdgx.data_processors.transformers.const:convert:77 - Converting data using ConstValueTransformer... Finished.\n",
      "2024-10-17 14:37:26.856 | INFO     | sdgx.data_processors.transformers.empty:convert:72 - Converting data using EmptyTransformer...\n",
      "2024-10-17 14:37:26.857 | INFO     | sdgx.data_processors.transformers.empty:convert:76 - Converting data using EmptyTransformer... Finished (No action).\n",
      "2024-10-17 14:37:26.858 | INFO     | sdgx.data_processors.transformers.column_order:convert:51 - Converting data using ColumnOrderTransformer...\n",
      "2024-10-17 14:37:26.859 | INFO     | sdgx.data_processors.transformers.column_order:convert:52 - Converting data using ColumnOrderTransformer... Finished (No action).\n",
      "2024-10-17 14:37:26.979 | INFO     | sdgx.data_processors.transformers.nan:convert:110 - Converting data using NonValueTransformer...\n",
      "2024-10-17 14:37:27.024 | INFO     | sdgx.data_processors.transformers.nan:convert:130 - Converting data using NonValueTransformer... Finished.\n",
      "2024-10-17 14:37:27.025 | INFO     | sdgx.data_processors.transformers.outlier:convert:84 - Converting data using OutlierTransformer...\n",
      "2024-10-17 14:37:27.090 | INFO     | sdgx.data_processors.transformers.outlier:convert:106 - Converting data using OutlierTransformer... Finished.\n",
      "2024-10-17 14:37:27.106 | INFO     | sdgx.data_processors.formatters.int:convert:50 - Converting data using IntValueFormatter... Finished  (No Action).\n",
      "2024-10-17 14:37:27.112 | WARNING  | sdgx.data_processors.formatters.datetime:convert:97 - Column Schedule_TABLE_time_slot was removed because lack of format info.\n",
      "2024-10-17 14:37:27.118 | WARNING  | sdgx.data_processors.formatters.datetime:convert:97 - Column Submission_TABLE_submission_date was removed because lack of format info.\n",
      "2024-10-17 14:37:27.119 | INFO     | sdgx.data_processors.formatters.datetime:convert:99 - Converting data using DatetimeFormatter...\n",
      "2024-10-17 14:37:27.483 | INFO     | sdgx.data_processors.formatters.datetime:convert:105 - Converting data using DatetimeFormatter... Finished.\n",
      "2024-10-17 14:37:27.488 | INFO     | sdgx.data_processors.transformers.const:convert:69 - Converting data using ConstValueTransformer...\n",
      "2024-10-17 14:37:27.490 | INFO     | sdgx.data_processors.transformers.const:convert:77 - Converting data using ConstValueTransformer... Finished.\n",
      "2024-10-17 14:37:27.491 | INFO     | sdgx.data_processors.transformers.empty:convert:72 - Converting data using EmptyTransformer...\n",
      "2024-10-17 14:37:27.492 | INFO     | sdgx.data_processors.transformers.empty:convert:76 - Converting data using EmptyTransformer... Finished (No action).\n",
      "2024-10-17 14:37:27.493 | INFO     | sdgx.data_processors.transformers.column_order:convert:51 - Converting data using ColumnOrderTransformer...\n",
      "2024-10-17 14:37:27.495 | INFO     | sdgx.data_processors.transformers.column_order:convert:52 - Converting data using ColumnOrderTransformer... Finished (No action).\n",
      "2024-10-17 14:37:27.613 | INFO     | sdgx.data_processors.transformers.nan:convert:110 - Converting data using NonValueTransformer...\n",
      "2024-10-17 14:37:27.658 | INFO     | sdgx.data_processors.transformers.nan:convert:130 - Converting data using NonValueTransformer... Finished.\n",
      "2024-10-17 14:37:27.659 | INFO     | sdgx.data_processors.transformers.outlier:convert:84 - Converting data using OutlierTransformer...\n",
      "2024-10-17 14:37:27.726 | INFO     | sdgx.data_processors.transformers.outlier:convert:106 - Converting data using OutlierTransformer... Finished.\n",
      "2024-10-17 14:37:27.742 | INFO     | sdgx.data_processors.formatters.int:convert:50 - Converting data using IntValueFormatter... Finished  (No Action).\n",
      "2024-10-17 14:37:27.748 | WARNING  | sdgx.data_processors.formatters.datetime:convert:97 - Column Schedule_TABLE_time_slot was removed because lack of format info.\n",
      "2024-10-17 14:37:27.753 | WARNING  | sdgx.data_processors.formatters.datetime:convert:97 - Column Submission_TABLE_submission_date was removed because lack of format info.\n",
      "2024-10-17 14:37:27.754 | INFO     | sdgx.data_processors.formatters.datetime:convert:99 - Converting data using DatetimeFormatter...\n",
      "2024-10-17 14:37:28.111 | INFO     | sdgx.data_processors.formatters.datetime:convert:105 - Converting data using DatetimeFormatter... Finished.\n",
      "2024-10-17 14:37:28.116 | INFO     | sdgx.data_processors.transformers.const:convert:69 - Converting data using ConstValueTransformer...\n",
      "2024-10-17 14:37:28.117 | INFO     | sdgx.data_processors.transformers.const:convert:77 - Converting data using ConstValueTransformer... Finished.\n",
      "2024-10-17 14:37:28.119 | INFO     | sdgx.data_processors.transformers.empty:convert:72 - Converting data using EmptyTransformer...\n",
      "2024-10-17 14:37:28.120 | INFO     | sdgx.data_processors.transformers.empty:convert:76 - Converting data using EmptyTransformer... Finished (No action).\n",
      "2024-10-17 14:37:28.121 | INFO     | sdgx.data_processors.transformers.column_order:convert:51 - Converting data using ColumnOrderTransformer...\n",
      "2024-10-17 14:37:28.122 | INFO     | sdgx.data_processors.transformers.column_order:convert:52 - Converting data using ColumnOrderTransformer... Finished (No action).\n",
      "2024-10-17 14:37:28.234 | INFO     | sdgx.data_processors.transformers.nan:convert:110 - Converting data using NonValueTransformer...\n",
      "2024-10-17 14:37:28.279 | INFO     | sdgx.data_processors.transformers.nan:convert:130 - Converting data using NonValueTransformer... Finished.\n",
      "2024-10-17 14:37:28.280 | INFO     | sdgx.data_processors.transformers.outlier:convert:84 - Converting data using OutlierTransformer...\n",
      "2024-10-17 14:37:28.347 | INFO     | sdgx.data_processors.transformers.outlier:convert:106 - Converting data using OutlierTransformer... Finished.\n",
      "2024-10-17 14:37:28.363 | INFO     | sdgx.data_processors.formatters.int:convert:50 - Converting data using IntValueFormatter... Finished  (No Action).\n",
      "2024-10-17 14:37:28.368 | WARNING  | sdgx.data_processors.formatters.datetime:convert:97 - Column Schedule_TABLE_time_slot was removed because lack of format info.\n",
      "2024-10-17 14:37:28.374 | WARNING  | sdgx.data_processors.formatters.datetime:convert:97 - Column Submission_TABLE_submission_date was removed because lack of format info.\n",
      "2024-10-17 14:37:28.375 | INFO     | sdgx.data_processors.formatters.datetime:convert:99 - Converting data using DatetimeFormatter...\n",
      "2024-10-17 14:37:28.894 | INFO     | sdgx.data_processors.formatters.datetime:convert:105 - Converting data using DatetimeFormatter... Finished.\n",
      "2024-10-17 14:37:28.900 | INFO     | sdgx.data_processors.transformers.const:convert:69 - Converting data using ConstValueTransformer...\n",
      "2024-10-17 14:37:28.901 | INFO     | sdgx.data_processors.transformers.const:convert:77 - Converting data using ConstValueTransformer... Finished.\n",
      "2024-10-17 14:37:28.902 | INFO     | sdgx.data_processors.transformers.empty:convert:72 - Converting data using EmptyTransformer...\n",
      "2024-10-17 14:37:28.904 | INFO     | sdgx.data_processors.transformers.empty:convert:76 - Converting data using EmptyTransformer... Finished (No action).\n",
      "2024-10-17 14:37:28.905 | INFO     | sdgx.data_processors.transformers.column_order:convert:51 - Converting data using ColumnOrderTransformer...\n",
      "2024-10-17 14:37:28.906 | INFO     | sdgx.data_processors.transformers.column_order:convert:52 - Converting data using ColumnOrderTransformer... Finished (No action).\n",
      "2024-10-17 14:37:29.020 | INFO     | sdgx.data_processors.transformers.nan:convert:110 - Converting data using NonValueTransformer...\n",
      "2024-10-17 14:37:29.063 | INFO     | sdgx.data_processors.transformers.nan:convert:130 - Converting data using NonValueTransformer... Finished.\n",
      "2024-10-17 14:37:29.064 | INFO     | sdgx.data_processors.transformers.outlier:convert:84 - Converting data using OutlierTransformer...\n",
      "2024-10-17 14:37:29.131 | INFO     | sdgx.data_processors.transformers.outlier:convert:106 - Converting data using OutlierTransformer... Finished.\n",
      "2024-10-17 14:37:29.148 | INFO     | sdgx.data_processors.formatters.int:convert:50 - Converting data using IntValueFormatter... Finished  (No Action).\n",
      "2024-10-17 14:37:29.155 | WARNING  | sdgx.data_processors.formatters.datetime:convert:97 - Column Schedule_TABLE_time_slot was removed because lack of format info.\n",
      "2024-10-17 14:37:29.161 | WARNING  | sdgx.data_processors.formatters.datetime:convert:97 - Column Submission_TABLE_submission_date was removed because lack of format info.\n",
      "2024-10-17 14:37:29.162 | INFO     | sdgx.data_processors.formatters.datetime:convert:99 - Converting data using DatetimeFormatter...\n",
      "2024-10-17 14:37:29.521 | INFO     | sdgx.data_processors.formatters.datetime:convert:105 - Converting data using DatetimeFormatter... Finished.\n",
      "2024-10-17 14:37:29.528 | INFO     | sdgx.data_processors.transformers.const:convert:69 - Converting data using ConstValueTransformer...\n",
      "2024-10-17 14:37:29.529 | INFO     | sdgx.data_processors.transformers.const:convert:77 - Converting data using ConstValueTransformer... Finished.\n",
      "2024-10-17 14:37:29.530 | INFO     | sdgx.data_processors.transformers.empty:convert:72 - Converting data using EmptyTransformer...\n",
      "2024-10-17 14:37:29.531 | INFO     | sdgx.data_processors.transformers.empty:convert:76 - Converting data using EmptyTransformer... Finished (No action).\n",
      "2024-10-17 14:37:29.532 | INFO     | sdgx.data_processors.transformers.column_order:convert:51 - Converting data using ColumnOrderTransformer...\n",
      "2024-10-17 14:37:29.534 | INFO     | sdgx.data_processors.transformers.column_order:convert:52 - Converting data using ColumnOrderTransformer... Finished (No action).\n",
      "2024-10-17 14:37:29.649 | INFO     | sdgx.data_processors.transformers.nan:convert:110 - Converting data using NonValueTransformer...\n",
      "2024-10-17 14:37:29.694 | INFO     | sdgx.data_processors.transformers.nan:convert:130 - Converting data using NonValueTransformer... Finished.\n",
      "2024-10-17 14:37:29.696 | INFO     | sdgx.data_processors.transformers.outlier:convert:84 - Converting data using OutlierTransformer...\n",
      "2024-10-17 14:37:29.761 | INFO     | sdgx.data_processors.transformers.outlier:convert:106 - Converting data using OutlierTransformer... Finished.\n",
      "2024-10-17 14:37:29.777 | INFO     | sdgx.data_processors.formatters.int:convert:50 - Converting data using IntValueFormatter... Finished  (No Action).\n",
      "2024-10-17 14:37:29.782 | WARNING  | sdgx.data_processors.formatters.datetime:convert:97 - Column Schedule_TABLE_time_slot was removed because lack of format info.\n",
      "2024-10-17 14:37:29.789 | WARNING  | sdgx.data_processors.formatters.datetime:convert:97 - Column Submission_TABLE_submission_date was removed because lack of format info.\n",
      "2024-10-17 14:37:29.790 | INFO     | sdgx.data_processors.formatters.datetime:convert:99 - Converting data using DatetimeFormatter...\n",
      "2024-10-17 14:37:30.155 | INFO     | sdgx.data_processors.formatters.datetime:convert:105 - Converting data using DatetimeFormatter... Finished.\n",
      "2024-10-17 14:37:30.160 | INFO     | sdgx.data_processors.transformers.const:convert:69 - Converting data using ConstValueTransformer...\n",
      "2024-10-17 14:37:30.161 | INFO     | sdgx.data_processors.transformers.const:convert:77 - Converting data using ConstValueTransformer... Finished.\n",
      "2024-10-17 14:37:30.163 | INFO     | sdgx.data_processors.transformers.empty:convert:72 - Converting data using EmptyTransformer...\n",
      "2024-10-17 14:37:30.164 | INFO     | sdgx.data_processors.transformers.empty:convert:76 - Converting data using EmptyTransformer... Finished (No action).\n",
      "2024-10-17 14:37:30.165 | INFO     | sdgx.data_processors.transformers.column_order:convert:51 - Converting data using ColumnOrderTransformer...\n",
      "2024-10-17 14:37:30.166 | INFO     | sdgx.data_processors.transformers.column_order:convert:52 - Converting data using ColumnOrderTransformer... Finished (No action).\n",
      "2024-10-17 14:37:30.279 | INFO     | sdgx.data_processors.transformers.nan:convert:110 - Converting data using NonValueTransformer...\n",
      "2024-10-17 14:37:30.322 | INFO     | sdgx.data_processors.transformers.nan:convert:130 - Converting data using NonValueTransformer... Finished.\n",
      "2024-10-17 14:37:30.324 | INFO     | sdgx.data_processors.transformers.outlier:convert:84 - Converting data using OutlierTransformer...\n",
      "2024-10-17 14:37:30.390 | INFO     | sdgx.data_processors.transformers.outlier:convert:106 - Converting data using OutlierTransformer... Finished.\n",
      "2024-10-17 14:37:30.406 | INFO     | sdgx.data_processors.formatters.int:convert:50 - Converting data using IntValueFormatter... Finished  (No Action).\n",
      "2024-10-17 14:37:30.411 | WARNING  | sdgx.data_processors.formatters.datetime:convert:97 - Column Schedule_TABLE_time_slot was removed because lack of format info.\n",
      "2024-10-17 14:37:30.419 | WARNING  | sdgx.data_processors.formatters.datetime:convert:97 - Column Submission_TABLE_submission_date was removed because lack of format info.\n",
      "2024-10-17 14:37:30.420 | INFO     | sdgx.data_processors.formatters.datetime:convert:99 - Converting data using DatetimeFormatter...\n",
      "2024-10-17 14:37:30.777 | INFO     | sdgx.data_processors.formatters.datetime:convert:105 - Converting data using DatetimeFormatter... Finished.\n",
      "2024-10-17 14:37:30.782 | INFO     | sdgx.data_processors.transformers.const:convert:69 - Converting data using ConstValueTransformer...\n",
      "2024-10-17 14:37:30.783 | INFO     | sdgx.data_processors.transformers.const:convert:77 - Converting data using ConstValueTransformer... Finished.\n",
      "2024-10-17 14:37:30.785 | INFO     | sdgx.data_processors.transformers.empty:convert:72 - Converting data using EmptyTransformer...\n",
      "2024-10-17 14:37:30.786 | INFO     | sdgx.data_processors.transformers.empty:convert:76 - Converting data using EmptyTransformer... Finished (No action).\n",
      "2024-10-17 14:37:30.787 | INFO     | sdgx.data_processors.transformers.column_order:convert:51 - Converting data using ColumnOrderTransformer...\n",
      "2024-10-17 14:37:30.788 | INFO     | sdgx.data_processors.transformers.column_order:convert:52 - Converting data using ColumnOrderTransformer... Finished (No action).\n",
      "2024-10-17 14:37:30.903 | INFO     | sdgx.data_processors.transformers.nan:convert:110 - Converting data using NonValueTransformer...\n",
      "2024-10-17 14:37:30.947 | INFO     | sdgx.data_processors.transformers.nan:convert:130 - Converting data using NonValueTransformer... Finished.\n",
      "2024-10-17 14:37:30.949 | INFO     | sdgx.data_processors.transformers.outlier:convert:84 - Converting data using OutlierTransformer...\n",
      "2024-10-17 14:37:31.015 | INFO     | sdgx.data_processors.transformers.outlier:convert:106 - Converting data using OutlierTransformer... Finished.\n",
      "2024-10-17 14:37:31.031 | INFO     | sdgx.data_processors.formatters.int:convert:50 - Converting data using IntValueFormatter... Finished  (No Action).\n",
      "2024-10-17 14:37:31.037 | WARNING  | sdgx.data_processors.formatters.datetime:convert:97 - Column Schedule_TABLE_time_slot was removed because lack of format info.\n",
      "2024-10-17 14:37:31.046 | WARNING  | sdgx.data_processors.formatters.datetime:convert:97 - Column Submission_TABLE_submission_date was removed because lack of format info.\n",
      "2024-10-17 14:37:31.047 | INFO     | sdgx.data_processors.formatters.datetime:convert:99 - Converting data using DatetimeFormatter...\n",
      "2024-10-17 14:37:31.408 | INFO     | sdgx.data_processors.formatters.datetime:convert:105 - Converting data using DatetimeFormatter... Finished.\n",
      "2024-10-17 14:37:31.414 | INFO     | sdgx.data_processors.transformers.const:convert:69 - Converting data using ConstValueTransformer...\n",
      "2024-10-17 14:37:31.415 | INFO     | sdgx.data_processors.transformers.const:convert:77 - Converting data using ConstValueTransformer... Finished.\n",
      "2024-10-17 14:37:31.416 | INFO     | sdgx.data_processors.transformers.empty:convert:72 - Converting data using EmptyTransformer...\n",
      "2024-10-17 14:37:31.417 | INFO     | sdgx.data_processors.transformers.empty:convert:76 - Converting data using EmptyTransformer... Finished (No action).\n",
      "2024-10-17 14:37:31.418 | INFO     | sdgx.data_processors.transformers.column_order:convert:51 - Converting data using ColumnOrderTransformer...\n",
      "2024-10-17 14:37:31.419 | INFO     | sdgx.data_processors.transformers.column_order:convert:52 - Converting data using ColumnOrderTransformer... Finished (No action).\n",
      "2024-10-17 14:37:31.532 | INFO     | sdgx.data_processors.transformers.nan:convert:110 - Converting data using NonValueTransformer...\n",
      "2024-10-17 14:37:31.575 | INFO     | sdgx.data_processors.transformers.nan:convert:130 - Converting data using NonValueTransformer... Finished.\n",
      "2024-10-17 14:37:31.576 | INFO     | sdgx.data_processors.transformers.outlier:convert:84 - Converting data using OutlierTransformer...\n",
      "2024-10-17 14:37:31.643 | INFO     | sdgx.data_processors.transformers.outlier:convert:106 - Converting data using OutlierTransformer... Finished.\n",
      "2024-10-17 14:37:31.658 | INFO     | sdgx.data_processors.formatters.int:convert:50 - Converting data using IntValueFormatter... Finished  (No Action).\n",
      "2024-10-17 14:37:31.664 | WARNING  | sdgx.data_processors.formatters.datetime:convert:97 - Column Schedule_TABLE_time_slot was removed because lack of format info.\n",
      "2024-10-17 14:37:31.672 | WARNING  | sdgx.data_processors.formatters.datetime:convert:97 - Column Submission_TABLE_submission_date was removed because lack of format info.\n",
      "2024-10-17 14:37:31.673 | INFO     | sdgx.data_processors.formatters.datetime:convert:99 - Converting data using DatetimeFormatter...\n",
      "2024-10-17 14:37:32.030 | INFO     | sdgx.data_processors.formatters.datetime:convert:105 - Converting data using DatetimeFormatter... Finished.\n",
      "2024-10-17 14:37:32.036 | INFO     | sdgx.data_processors.transformers.const:convert:69 - Converting data using ConstValueTransformer...\n",
      "2024-10-17 14:37:32.037 | INFO     | sdgx.data_processors.transformers.const:convert:77 - Converting data using ConstValueTransformer... Finished.\n",
      "2024-10-17 14:37:32.038 | INFO     | sdgx.data_processors.transformers.empty:convert:72 - Converting data using EmptyTransformer...\n",
      "2024-10-17 14:37:32.039 | INFO     | sdgx.data_processors.transformers.empty:convert:76 - Converting data using EmptyTransformer... Finished (No action).\n",
      "2024-10-17 14:37:32.040 | INFO     | sdgx.data_processors.transformers.column_order:convert:51 - Converting data using ColumnOrderTransformer...\n",
      "2024-10-17 14:37:32.041 | INFO     | sdgx.data_processors.transformers.column_order:convert:52 - Converting data using ColumnOrderTransformer... Finished (No action).\n",
      "2024-10-17 14:37:32.148 | INFO     | sdgx.data_processors.transformers.nan:convert:110 - Converting data using NonValueTransformer...\n",
      "2024-10-17 14:37:32.193 | INFO     | sdgx.data_processors.transformers.nan:convert:130 - Converting data using NonValueTransformer... Finished.\n",
      "2024-10-17 14:37:32.194 | INFO     | sdgx.data_processors.transformers.outlier:convert:84 - Converting data using OutlierTransformer...\n",
      "2024-10-17 14:37:32.261 | INFO     | sdgx.data_processors.transformers.outlier:convert:106 - Converting data using OutlierTransformer... Finished.\n",
      "2024-10-17 14:37:32.275 | INFO     | sdgx.data_processors.formatters.int:convert:50 - Converting data using IntValueFormatter... Finished  (No Action).\n",
      "2024-10-17 14:37:32.281 | WARNING  | sdgx.data_processors.formatters.datetime:convert:97 - Column Schedule_TABLE_time_slot was removed because lack of format info.\n",
      "2024-10-17 14:37:32.289 | WARNING  | sdgx.data_processors.formatters.datetime:convert:97 - Column Submission_TABLE_submission_date was removed because lack of format info.\n",
      "2024-10-17 14:37:32.290 | INFO     | sdgx.data_processors.formatters.datetime:convert:99 - Converting data using DatetimeFormatter...\n",
      "2024-10-17 14:37:32.652 | INFO     | sdgx.data_processors.formatters.datetime:convert:105 - Converting data using DatetimeFormatter... Finished.\n",
      "2024-10-17 14:37:32.657 | INFO     | sdgx.data_processors.transformers.const:convert:69 - Converting data using ConstValueTransformer...\n",
      "2024-10-17 14:37:32.659 | INFO     | sdgx.data_processors.transformers.const:convert:77 - Converting data using ConstValueTransformer... Finished.\n",
      "2024-10-17 14:37:32.660 | INFO     | sdgx.data_processors.transformers.empty:convert:72 - Converting data using EmptyTransformer...\n",
      "2024-10-17 14:37:32.661 | INFO     | sdgx.data_processors.transformers.empty:convert:76 - Converting data using EmptyTransformer... Finished (No action).\n",
      "2024-10-17 14:37:32.662 | INFO     | sdgx.data_processors.transformers.column_order:convert:51 - Converting data using ColumnOrderTransformer...\n",
      "2024-10-17 14:37:32.663 | INFO     | sdgx.data_processors.transformers.column_order:convert:52 - Converting data using ColumnOrderTransformer... Finished (No action).\n",
      "2024-10-17 14:37:32.771 | INFO     | sdgx.data_processors.transformers.nan:convert:110 - Converting data using NonValueTransformer...\n",
      "2024-10-17 14:37:32.814 | INFO     | sdgx.data_processors.transformers.nan:convert:130 - Converting data using NonValueTransformer... Finished.\n",
      "2024-10-17 14:37:32.815 | INFO     | sdgx.data_processors.transformers.outlier:convert:84 - Converting data using OutlierTransformer...\n",
      "2024-10-17 14:37:32.882 | INFO     | sdgx.data_processors.transformers.outlier:convert:106 - Converting data using OutlierTransformer... Finished.\n",
      "2024-10-17 14:37:32.897 | INFO     | sdgx.data_processors.formatters.int:convert:50 - Converting data using IntValueFormatter... Finished  (No Action).\n",
      "2024-10-17 14:37:32.903 | WARNING  | sdgx.data_processors.formatters.datetime:convert:97 - Column Schedule_TABLE_time_slot was removed because lack of format info.\n",
      "2024-10-17 14:37:32.911 | WARNING  | sdgx.data_processors.formatters.datetime:convert:97 - Column Submission_TABLE_submission_date was removed because lack of format info.\n",
      "2024-10-17 14:37:32.912 | INFO     | sdgx.data_processors.formatters.datetime:convert:99 - Converting data using DatetimeFormatter...\n",
      "2024-10-17 14:37:33.271 | INFO     | sdgx.data_processors.formatters.datetime:convert:105 - Converting data using DatetimeFormatter... Finished.\n",
      "2024-10-17 14:37:33.277 | INFO     | sdgx.data_processors.transformers.const:convert:69 - Converting data using ConstValueTransformer...\n",
      "2024-10-17 14:37:33.278 | INFO     | sdgx.data_processors.transformers.const:convert:77 - Converting data using ConstValueTransformer... Finished.\n",
      "2024-10-17 14:37:33.279 | INFO     | sdgx.data_processors.transformers.empty:convert:72 - Converting data using EmptyTransformer...\n",
      "2024-10-17 14:37:33.280 | INFO     | sdgx.data_processors.transformers.empty:convert:76 - Converting data using EmptyTransformer... Finished (No action).\n",
      "2024-10-17 14:37:33.281 | INFO     | sdgx.data_processors.transformers.column_order:convert:51 - Converting data using ColumnOrderTransformer...\n",
      "2024-10-17 14:37:33.282 | INFO     | sdgx.data_processors.transformers.column_order:convert:52 - Converting data using ColumnOrderTransformer... Finished (No action).\n",
      "2024-10-17 14:37:33.388 | INFO     | sdgx.data_processors.transformers.nan:convert:110 - Converting data using NonValueTransformer...\n",
      "2024-10-17 14:37:33.430 | INFO     | sdgx.data_processors.transformers.nan:convert:130 - Converting data using NonValueTransformer... Finished.\n",
      "2024-10-17 14:37:33.431 | INFO     | sdgx.data_processors.transformers.outlier:convert:84 - Converting data using OutlierTransformer...\n",
      "2024-10-17 14:37:33.498 | INFO     | sdgx.data_processors.transformers.outlier:convert:106 - Converting data using OutlierTransformer... Finished.\n",
      "2024-10-17 14:37:33.513 | INFO     | sdgx.data_processors.formatters.int:convert:50 - Converting data using IntValueFormatter... Finished  (No Action).\n",
      "2024-10-17 14:37:33.519 | WARNING  | sdgx.data_processors.formatters.datetime:convert:97 - Column Schedule_TABLE_time_slot was removed because lack of format info.\n",
      "2024-10-17 14:37:33.528 | WARNING  | sdgx.data_processors.formatters.datetime:convert:97 - Column Submission_TABLE_submission_date was removed because lack of format info.\n",
      "2024-10-17 14:37:33.529 | INFO     | sdgx.data_processors.formatters.datetime:convert:99 - Converting data using DatetimeFormatter...\n",
      "2024-10-17 14:37:33.887 | INFO     | sdgx.data_processors.formatters.datetime:convert:105 - Converting data using DatetimeFormatter... Finished.\n",
      "2024-10-17 14:37:33.892 | INFO     | sdgx.data_processors.transformers.const:convert:69 - Converting data using ConstValueTransformer...\n",
      "2024-10-17 14:37:33.893 | INFO     | sdgx.data_processors.transformers.const:convert:77 - Converting data using ConstValueTransformer... Finished.\n",
      "2024-10-17 14:37:33.895 | INFO     | sdgx.data_processors.transformers.empty:convert:72 - Converting data using EmptyTransformer...\n",
      "2024-10-17 14:37:33.895 | INFO     | sdgx.data_processors.transformers.empty:convert:76 - Converting data using EmptyTransformer... Finished (No action).\n",
      "2024-10-17 14:37:33.896 | INFO     | sdgx.data_processors.transformers.column_order:convert:51 - Converting data using ColumnOrderTransformer...\n",
      "2024-10-17 14:37:33.897 | INFO     | sdgx.data_processors.transformers.column_order:convert:52 - Converting data using ColumnOrderTransformer... Finished (No action).\n",
      "2024-10-17 14:37:34.003 | INFO     | sdgx.data_processors.transformers.nan:convert:110 - Converting data using NonValueTransformer...\n",
      "2024-10-17 14:37:34.048 | INFO     | sdgx.data_processors.transformers.nan:convert:130 - Converting data using NonValueTransformer... Finished.\n",
      "2024-10-17 14:37:34.049 | INFO     | sdgx.data_processors.transformers.outlier:convert:84 - Converting data using OutlierTransformer...\n",
      "2024-10-17 14:37:34.115 | INFO     | sdgx.data_processors.transformers.outlier:convert:106 - Converting data using OutlierTransformer... Finished.\n",
      "2024-10-17 14:37:34.130 | INFO     | sdgx.data_processors.formatters.int:convert:50 - Converting data using IntValueFormatter... Finished  (No Action).\n",
      "2024-10-17 14:37:34.136 | WARNING  | sdgx.data_processors.formatters.datetime:convert:97 - Column Schedule_TABLE_time_slot was removed because lack of format info.\n",
      "2024-10-17 14:37:34.144 | WARNING  | sdgx.data_processors.formatters.datetime:convert:97 - Column Submission_TABLE_submission_date was removed because lack of format info.\n",
      "2024-10-17 14:37:34.145 | INFO     | sdgx.data_processors.formatters.datetime:convert:99 - Converting data using DatetimeFormatter...\n",
      "2024-10-17 14:37:34.514 | INFO     | sdgx.data_processors.formatters.datetime:convert:105 - Converting data using DatetimeFormatter... Finished.\n",
      "2024-10-17 14:37:34.521 | INFO     | sdgx.data_processors.transformers.const:convert:69 - Converting data using ConstValueTransformer...\n",
      "2024-10-17 14:37:34.522 | INFO     | sdgx.data_processors.transformers.const:convert:77 - Converting data using ConstValueTransformer... Finished.\n",
      "2024-10-17 14:37:34.524 | INFO     | sdgx.data_processors.transformers.empty:convert:72 - Converting data using EmptyTransformer...\n",
      "2024-10-17 14:37:34.525 | INFO     | sdgx.data_processors.transformers.empty:convert:76 - Converting data using EmptyTransformer... Finished (No action).\n",
      "2024-10-17 14:37:34.526 | INFO     | sdgx.data_processors.transformers.column_order:convert:51 - Converting data using ColumnOrderTransformer...\n",
      "2024-10-17 14:37:34.527 | INFO     | sdgx.data_processors.transformers.column_order:convert:52 - Converting data using ColumnOrderTransformer... Finished (No action).\n",
      "2024-10-17 14:37:34.648 | INFO     | sdgx.data_processors.transformers.nan:convert:110 - Converting data using NonValueTransformer...\n",
      "2024-10-17 14:37:34.694 | INFO     | sdgx.data_processors.transformers.nan:convert:130 - Converting data using NonValueTransformer... Finished.\n",
      "2024-10-17 14:37:34.696 | INFO     | sdgx.data_processors.transformers.outlier:convert:84 - Converting data using OutlierTransformer...\n",
      "2024-10-17 14:37:34.763 | INFO     | sdgx.data_processors.transformers.outlier:convert:106 - Converting data using OutlierTransformer... Finished.\n",
      "2024-10-17 14:37:34.778 | INFO     | sdgx.data_processors.formatters.int:convert:50 - Converting data using IntValueFormatter... Finished  (No Action).\n",
      "2024-10-17 14:37:34.785 | WARNING  | sdgx.data_processors.formatters.datetime:convert:97 - Column Schedule_TABLE_time_slot was removed because lack of format info.\n",
      "2024-10-17 14:37:34.795 | WARNING  | sdgx.data_processors.formatters.datetime:convert:97 - Column Submission_TABLE_submission_date was removed because lack of format info.\n",
      "2024-10-17 14:37:34.796 | INFO     | sdgx.data_processors.formatters.datetime:convert:99 - Converting data using DatetimeFormatter...\n",
      "2024-10-17 14:37:35.154 | INFO     | sdgx.data_processors.formatters.datetime:convert:105 - Converting data using DatetimeFormatter... Finished.\n",
      "2024-10-17 14:37:35.160 | INFO     | sdgx.data_processors.transformers.const:convert:69 - Converting data using ConstValueTransformer...\n",
      "2024-10-17 14:37:35.161 | INFO     | sdgx.data_processors.transformers.const:convert:77 - Converting data using ConstValueTransformer... Finished.\n",
      "2024-10-17 14:37:35.162 | INFO     | sdgx.data_processors.transformers.empty:convert:72 - Converting data using EmptyTransformer...\n",
      "2024-10-17 14:37:35.163 | INFO     | sdgx.data_processors.transformers.empty:convert:76 - Converting data using EmptyTransformer... Finished (No action).\n",
      "2024-10-17 14:37:35.164 | INFO     | sdgx.data_processors.transformers.column_order:convert:51 - Converting data using ColumnOrderTransformer...\n",
      "2024-10-17 14:37:35.165 | INFO     | sdgx.data_processors.transformers.column_order:convert:52 - Converting data using ColumnOrderTransformer... Finished (No action).\n",
      "2024-10-17 14:37:35.273 | INFO     | sdgx.data_processors.transformers.nan:convert:110 - Converting data using NonValueTransformer...\n",
      "2024-10-17 14:37:35.317 | INFO     | sdgx.data_processors.transformers.nan:convert:130 - Converting data using NonValueTransformer... Finished.\n",
      "2024-10-17 14:37:35.318 | INFO     | sdgx.data_processors.transformers.outlier:convert:84 - Converting data using OutlierTransformer...\n",
      "2024-10-17 14:37:35.386 | INFO     | sdgx.data_processors.transformers.outlier:convert:106 - Converting data using OutlierTransformer... Finished.\n",
      "2024-10-17 14:37:35.402 | INFO     | sdgx.data_processors.formatters.int:convert:50 - Converting data using IntValueFormatter... Finished  (No Action).\n",
      "2024-10-17 14:37:35.408 | WARNING  | sdgx.data_processors.formatters.datetime:convert:97 - Column Schedule_TABLE_time_slot was removed because lack of format info.\n",
      "2024-10-17 14:37:35.416 | WARNING  | sdgx.data_processors.formatters.datetime:convert:97 - Column Submission_TABLE_submission_date was removed because lack of format info.\n",
      "2024-10-17 14:37:35.417 | INFO     | sdgx.data_processors.formatters.datetime:convert:99 - Converting data using DatetimeFormatter...\n",
      "2024-10-17 14:37:35.779 | INFO     | sdgx.data_processors.formatters.datetime:convert:105 - Converting data using DatetimeFormatter... Finished.\n",
      "2024-10-17 14:37:35.784 | INFO     | sdgx.data_processors.transformers.const:convert:69 - Converting data using ConstValueTransformer...\n",
      "2024-10-17 14:37:35.785 | INFO     | sdgx.data_processors.transformers.const:convert:77 - Converting data using ConstValueTransformer... Finished.\n",
      "2024-10-17 14:37:35.786 | INFO     | sdgx.data_processors.transformers.empty:convert:72 - Converting data using EmptyTransformer...\n",
      "2024-10-17 14:37:35.787 | INFO     | sdgx.data_processors.transformers.empty:convert:76 - Converting data using EmptyTransformer... Finished (No action).\n",
      "2024-10-17 14:37:35.788 | INFO     | sdgx.data_processors.transformers.column_order:convert:51 - Converting data using ColumnOrderTransformer...\n",
      "2024-10-17 14:37:35.789 | INFO     | sdgx.data_processors.transformers.column_order:convert:52 - Converting data using ColumnOrderTransformer... Finished (No action).\n",
      "2024-10-17 14:37:35.900 | INFO     | sdgx.data_processors.transformers.nan:convert:110 - Converting data using NonValueTransformer...\n",
      "2024-10-17 14:37:35.944 | INFO     | sdgx.data_processors.transformers.nan:convert:130 - Converting data using NonValueTransformer... Finished.\n",
      "2024-10-17 14:37:35.945 | INFO     | sdgx.data_processors.transformers.outlier:convert:84 - Converting data using OutlierTransformer...\n",
      "2024-10-17 14:37:36.013 | INFO     | sdgx.data_processors.transformers.outlier:convert:106 - Converting data using OutlierTransformer... Finished.\n",
      "2024-10-17 14:37:36.028 | INFO     | sdgx.data_processors.formatters.int:convert:50 - Converting data using IntValueFormatter... Finished  (No Action).\n",
      "2024-10-17 14:37:36.034 | WARNING  | sdgx.data_processors.formatters.datetime:convert:97 - Column Schedule_TABLE_time_slot was removed because lack of format info.\n",
      "2024-10-17 14:37:36.042 | WARNING  | sdgx.data_processors.formatters.datetime:convert:97 - Column Submission_TABLE_submission_date was removed because lack of format info.\n",
      "2024-10-17 14:37:36.043 | INFO     | sdgx.data_processors.formatters.datetime:convert:99 - Converting data using DatetimeFormatter...\n",
      "2024-10-17 14:37:36.404 | INFO     | sdgx.data_processors.formatters.datetime:convert:105 - Converting data using DatetimeFormatter... Finished.\n",
      "2024-10-17 14:37:36.410 | INFO     | sdgx.data_processors.transformers.const:convert:69 - Converting data using ConstValueTransformer...\n",
      "2024-10-17 14:37:36.411 | INFO     | sdgx.data_processors.transformers.const:convert:77 - Converting data using ConstValueTransformer... Finished.\n",
      "2024-10-17 14:37:36.412 | INFO     | sdgx.data_processors.transformers.empty:convert:72 - Converting data using EmptyTransformer...\n",
      "2024-10-17 14:37:36.413 | INFO     | sdgx.data_processors.transformers.empty:convert:76 - Converting data using EmptyTransformer... Finished (No action).\n",
      "2024-10-17 14:37:36.414 | INFO     | sdgx.data_processors.transformers.column_order:convert:51 - Converting data using ColumnOrderTransformer...\n",
      "2024-10-17 14:37:36.415 | INFO     | sdgx.data_processors.transformers.column_order:convert:52 - Converting data using ColumnOrderTransformer... Finished (No action).\n",
      "2024-10-17 14:37:36.527 | INFO     | sdgx.data_processors.transformers.nan:convert:110 - Converting data using NonValueTransformer...\n",
      "2024-10-17 14:37:36.573 | INFO     | sdgx.data_processors.transformers.nan:convert:130 - Converting data using NonValueTransformer... Finished.\n",
      "2024-10-17 14:37:36.574 | INFO     | sdgx.data_processors.transformers.outlier:convert:84 - Converting data using OutlierTransformer...\n",
      "2024-10-17 14:37:36.641 | INFO     | sdgx.data_processors.transformers.outlier:convert:106 - Converting data using OutlierTransformer... Finished.\n",
      "2024-10-17 14:37:36.657 | INFO     | sdgx.data_processors.formatters.int:convert:50 - Converting data using IntValueFormatter... Finished  (No Action).\n",
      "2024-10-17 14:37:36.663 | WARNING  | sdgx.data_processors.formatters.datetime:convert:97 - Column Schedule_TABLE_time_slot was removed because lack of format info.\n",
      "2024-10-17 14:37:36.671 | WARNING  | sdgx.data_processors.formatters.datetime:convert:97 - Column Submission_TABLE_submission_date was removed because lack of format info.\n",
      "2024-10-17 14:37:36.672 | INFO     | sdgx.data_processors.formatters.datetime:convert:99 - Converting data using DatetimeFormatter...\n",
      "2024-10-17 14:37:37.033 | INFO     | sdgx.data_processors.formatters.datetime:convert:105 - Converting data using DatetimeFormatter... Finished.\n",
      "2024-10-17 14:37:37.041 | INFO     | sdgx.data_processors.transformers.const:convert:69 - Converting data using ConstValueTransformer...\n",
      "2024-10-17 14:37:37.042 | INFO     | sdgx.data_processors.transformers.const:convert:77 - Converting data using ConstValueTransformer... Finished.\n",
      "2024-10-17 14:37:37.043 | INFO     | sdgx.data_processors.transformers.empty:convert:72 - Converting data using EmptyTransformer...\n",
      "2024-10-17 14:37:37.044 | INFO     | sdgx.data_processors.transformers.empty:convert:76 - Converting data using EmptyTransformer... Finished (No action).\n",
      "2024-10-17 14:37:37.044 | INFO     | sdgx.data_processors.transformers.column_order:convert:51 - Converting data using ColumnOrderTransformer...\n",
      "2024-10-17 14:37:37.045 | INFO     | sdgx.data_processors.transformers.column_order:convert:52 - Converting data using ColumnOrderTransformer... Finished (No action).\n",
      "2024-10-17 14:37:37.161 | INFO     | sdgx.data_processors.transformers.nan:convert:110 - Converting data using NonValueTransformer...\n",
      "2024-10-17 14:37:37.205 | INFO     | sdgx.data_processors.transformers.nan:convert:130 - Converting data using NonValueTransformer... Finished.\n",
      "2024-10-17 14:37:37.206 | INFO     | sdgx.data_processors.transformers.outlier:convert:84 - Converting data using OutlierTransformer...\n",
      "2024-10-17 14:37:37.272 | INFO     | sdgx.data_processors.transformers.outlier:convert:106 - Converting data using OutlierTransformer... Finished.\n",
      "2024-10-17 14:37:37.289 | INFO     | sdgx.data_processors.formatters.int:convert:50 - Converting data using IntValueFormatter... Finished  (No Action).\n",
      "2024-10-17 14:37:37.295 | WARNING  | sdgx.data_processors.formatters.datetime:convert:97 - Column Schedule_TABLE_time_slot was removed because lack of format info.\n",
      "2024-10-17 14:37:37.303 | WARNING  | sdgx.data_processors.formatters.datetime:convert:97 - Column Submission_TABLE_submission_date was removed because lack of format info.\n",
      "2024-10-17 14:37:37.304 | INFO     | sdgx.data_processors.formatters.datetime:convert:99 - Converting data using DatetimeFormatter...\n",
      "2024-10-17 14:37:37.662 | INFO     | sdgx.data_processors.formatters.datetime:convert:105 - Converting data using DatetimeFormatter... Finished.\n",
      "2024-10-17 14:37:37.668 | INFO     | sdgx.data_processors.transformers.const:convert:69 - Converting data using ConstValueTransformer...\n",
      "2024-10-17 14:37:37.669 | INFO     | sdgx.data_processors.transformers.const:convert:77 - Converting data using ConstValueTransformer... Finished.\n",
      "2024-10-17 14:37:37.670 | INFO     | sdgx.data_processors.transformers.empty:convert:72 - Converting data using EmptyTransformer...\n",
      "2024-10-17 14:37:37.671 | INFO     | sdgx.data_processors.transformers.empty:convert:76 - Converting data using EmptyTransformer... Finished (No action).\n",
      "2024-10-17 14:37:37.672 | INFO     | sdgx.data_processors.transformers.column_order:convert:51 - Converting data using ColumnOrderTransformer...\n",
      "2024-10-17 14:37:37.673 | INFO     | sdgx.data_processors.transformers.column_order:convert:52 - Converting data using ColumnOrderTransformer... Finished (No action).\n",
      "2024-10-17 14:37:37.787 | INFO     | sdgx.data_processors.transformers.nan:convert:110 - Converting data using NonValueTransformer...\n",
      "2024-10-17 14:37:37.832 | INFO     | sdgx.data_processors.transformers.nan:convert:130 - Converting data using NonValueTransformer... Finished.\n",
      "2024-10-17 14:37:37.833 | INFO     | sdgx.data_processors.transformers.outlier:convert:84 - Converting data using OutlierTransformer...\n",
      "2024-10-17 14:37:37.900 | INFO     | sdgx.data_processors.transformers.outlier:convert:106 - Converting data using OutlierTransformer... Finished.\n",
      "2024-10-17 14:37:37.915 | INFO     | sdgx.data_processors.formatters.int:convert:50 - Converting data using IntValueFormatter... Finished  (No Action).\n",
      "2024-10-17 14:37:37.921 | WARNING  | sdgx.data_processors.formatters.datetime:convert:97 - Column Schedule_TABLE_time_slot was removed because lack of format info.\n",
      "2024-10-17 14:37:37.929 | WARNING  | sdgx.data_processors.formatters.datetime:convert:97 - Column Submission_TABLE_submission_date was removed because lack of format info.\n",
      "2024-10-17 14:37:37.930 | INFO     | sdgx.data_processors.formatters.datetime:convert:99 - Converting data using DatetimeFormatter...\n",
      "2024-10-17 14:37:38.288 | INFO     | sdgx.data_processors.formatters.datetime:convert:105 - Converting data using DatetimeFormatter... Finished.\n",
      "2024-10-17 14:37:38.293 | INFO     | sdgx.data_processors.transformers.const:convert:69 - Converting data using ConstValueTransformer...\n",
      "2024-10-17 14:37:38.294 | INFO     | sdgx.data_processors.transformers.const:convert:77 - Converting data using ConstValueTransformer... Finished.\n",
      "2024-10-17 14:37:38.295 | INFO     | sdgx.data_processors.transformers.empty:convert:72 - Converting data using EmptyTransformer...\n",
      "2024-10-17 14:37:38.296 | INFO     | sdgx.data_processors.transformers.empty:convert:76 - Converting data using EmptyTransformer... Finished (No action).\n",
      "2024-10-17 14:37:38.297 | INFO     | sdgx.data_processors.transformers.column_order:convert:51 - Converting data using ColumnOrderTransformer...\n",
      "2024-10-17 14:37:38.298 | INFO     | sdgx.data_processors.transformers.column_order:convert:52 - Converting data using ColumnOrderTransformer... Finished (No action).\n",
      "2024-10-17 14:37:38.409 | INFO     | sdgx.data_processors.transformers.nan:convert:110 - Converting data using NonValueTransformer...\n",
      "2024-10-17 14:37:38.451 | INFO     | sdgx.data_processors.transformers.nan:convert:130 - Converting data using NonValueTransformer... Finished.\n",
      "2024-10-17 14:37:38.452 | INFO     | sdgx.data_processors.transformers.outlier:convert:84 - Converting data using OutlierTransformer...\n",
      "2024-10-17 14:37:38.520 | INFO     | sdgx.data_processors.transformers.outlier:convert:106 - Converting data using OutlierTransformer... Finished.\n",
      "2024-10-17 14:37:38.534 | INFO     | sdgx.data_processors.formatters.int:convert:50 - Converting data using IntValueFormatter... Finished  (No Action).\n",
      "2024-10-17 14:37:38.540 | WARNING  | sdgx.data_processors.formatters.datetime:convert:97 - Column Schedule_TABLE_time_slot was removed because lack of format info.\n",
      "2024-10-17 14:37:38.549 | WARNING  | sdgx.data_processors.formatters.datetime:convert:97 - Column Submission_TABLE_submission_date was removed because lack of format info.\n",
      "2024-10-17 14:37:38.550 | INFO     | sdgx.data_processors.formatters.datetime:convert:99 - Converting data using DatetimeFormatter...\n",
      "2024-10-17 14:37:38.908 | INFO     | sdgx.data_processors.formatters.datetime:convert:105 - Converting data using DatetimeFormatter... Finished.\n",
      "2024-10-17 14:37:38.913 | INFO     | sdgx.data_processors.transformers.const:convert:69 - Converting data using ConstValueTransformer...\n",
      "2024-10-17 14:37:38.914 | INFO     | sdgx.data_processors.transformers.const:convert:77 - Converting data using ConstValueTransformer... Finished.\n",
      "2024-10-17 14:37:38.916 | INFO     | sdgx.data_processors.transformers.empty:convert:72 - Converting data using EmptyTransformer...\n",
      "2024-10-17 14:37:38.917 | INFO     | sdgx.data_processors.transformers.empty:convert:76 - Converting data using EmptyTransformer... Finished (No action).\n",
      "2024-10-17 14:37:38.918 | INFO     | sdgx.data_processors.transformers.column_order:convert:51 - Converting data using ColumnOrderTransformer...\n",
      "2024-10-17 14:37:38.919 | INFO     | sdgx.data_processors.transformers.column_order:convert:52 - Converting data using ColumnOrderTransformer... Finished (No action).\n",
      "2024-10-17 14:37:39.037 | INFO     | sdgx.data_processors.transformers.nan:convert:110 - Converting data using NonValueTransformer...\n",
      "2024-10-17 14:37:39.081 | INFO     | sdgx.data_processors.transformers.nan:convert:130 - Converting data using NonValueTransformer... Finished.\n",
      "2024-10-17 14:37:39.082 | INFO     | sdgx.data_processors.transformers.outlier:convert:84 - Converting data using OutlierTransformer...\n",
      "2024-10-17 14:37:39.149 | INFO     | sdgx.data_processors.transformers.outlier:convert:106 - Converting data using OutlierTransformer... Finished.\n",
      "2024-10-17 14:37:39.166 | INFO     | sdgx.data_processors.formatters.int:convert:50 - Converting data using IntValueFormatter... Finished  (No Action).\n",
      "2024-10-17 14:37:39.172 | WARNING  | sdgx.data_processors.formatters.datetime:convert:97 - Column Schedule_TABLE_time_slot was removed because lack of format info.\n",
      "2024-10-17 14:37:39.180 | WARNING  | sdgx.data_processors.formatters.datetime:convert:97 - Column Submission_TABLE_submission_date was removed because lack of format info.\n",
      "2024-10-17 14:37:39.181 | INFO     | sdgx.data_processors.formatters.datetime:convert:99 - Converting data using DatetimeFormatter...\n",
      "2024-10-17 14:37:39.539 | INFO     | sdgx.data_processors.formatters.datetime:convert:105 - Converting data using DatetimeFormatter... Finished.\n",
      "2024-10-17 14:37:39.545 | INFO     | sdgx.data_processors.transformers.const:convert:69 - Converting data using ConstValueTransformer...\n",
      "2024-10-17 14:37:39.546 | INFO     | sdgx.data_processors.transformers.const:convert:77 - Converting data using ConstValueTransformer... Finished.\n",
      "2024-10-17 14:37:39.547 | INFO     | sdgx.data_processors.transformers.empty:convert:72 - Converting data using EmptyTransformer...\n",
      "2024-10-17 14:37:39.549 | INFO     | sdgx.data_processors.transformers.empty:convert:76 - Converting data using EmptyTransformer... Finished (No action).\n",
      "2024-10-17 14:37:39.550 | INFO     | sdgx.data_processors.transformers.column_order:convert:51 - Converting data using ColumnOrderTransformer...\n",
      "2024-10-17 14:37:39.551 | INFO     | sdgx.data_processors.transformers.column_order:convert:52 - Converting data using ColumnOrderTransformer... Finished (No action).\n",
      "2024-10-17 14:37:39.665 | INFO     | sdgx.data_processors.transformers.nan:convert:110 - Converting data using NonValueTransformer...\n",
      "2024-10-17 14:37:39.710 | INFO     | sdgx.data_processors.transformers.nan:convert:130 - Converting data using NonValueTransformer... Finished.\n",
      "2024-10-17 14:37:39.712 | INFO     | sdgx.data_processors.transformers.outlier:convert:84 - Converting data using OutlierTransformer...\n",
      "2024-10-17 14:37:39.778 | INFO     | sdgx.data_processors.transformers.outlier:convert:106 - Converting data using OutlierTransformer... Finished.\n",
      "2024-10-17 14:37:39.793 | INFO     | sdgx.data_processors.formatters.int:convert:50 - Converting data using IntValueFormatter... Finished  (No Action).\n",
      "2024-10-17 14:37:39.799 | WARNING  | sdgx.data_processors.formatters.datetime:convert:97 - Column Schedule_TABLE_time_slot was removed because lack of format info.\n",
      "2024-10-17 14:37:39.807 | WARNING  | sdgx.data_processors.formatters.datetime:convert:97 - Column Submission_TABLE_submission_date was removed because lack of format info.\n",
      "2024-10-17 14:37:39.808 | INFO     | sdgx.data_processors.formatters.datetime:convert:99 - Converting data using DatetimeFormatter...\n",
      "2024-10-17 14:37:40.166 | INFO     | sdgx.data_processors.formatters.datetime:convert:105 - Converting data using DatetimeFormatter... Finished.\n",
      "2024-10-17 14:37:40.171 | INFO     | sdgx.data_processors.transformers.const:convert:69 - Converting data using ConstValueTransformer...\n",
      "2024-10-17 14:37:40.173 | INFO     | sdgx.data_processors.transformers.const:convert:77 - Converting data using ConstValueTransformer... Finished.\n",
      "2024-10-17 14:37:40.174 | INFO     | sdgx.data_processors.transformers.empty:convert:72 - Converting data using EmptyTransformer...\n",
      "2024-10-17 14:37:40.174 | INFO     | sdgx.data_processors.transformers.empty:convert:76 - Converting data using EmptyTransformer... Finished (No action).\n",
      "2024-10-17 14:37:40.175 | INFO     | sdgx.data_processors.transformers.column_order:convert:51 - Converting data using ColumnOrderTransformer...\n",
      "2024-10-17 14:37:40.176 | INFO     | sdgx.data_processors.transformers.column_order:convert:52 - Converting data using ColumnOrderTransformer... Finished (No action).\n",
      "2024-10-17 14:37:40.292 | INFO     | sdgx.data_processors.transformers.nan:convert:110 - Converting data using NonValueTransformer...\n",
      "2024-10-17 14:37:40.337 | INFO     | sdgx.data_processors.transformers.nan:convert:130 - Converting data using NonValueTransformer... Finished.\n",
      "2024-10-17 14:37:40.338 | INFO     | sdgx.data_processors.transformers.outlier:convert:84 - Converting data using OutlierTransformer...\n",
      "2024-10-17 14:37:40.405 | INFO     | sdgx.data_processors.transformers.outlier:convert:106 - Converting data using OutlierTransformer... Finished.\n",
      "2024-10-17 14:37:40.420 | INFO     | sdgx.data_processors.formatters.int:convert:50 - Converting data using IntValueFormatter... Finished  (No Action).\n",
      "2024-10-17 14:37:40.426 | WARNING  | sdgx.data_processors.formatters.datetime:convert:97 - Column Schedule_TABLE_time_slot was removed because lack of format info.\n",
      "2024-10-17 14:37:40.434 | WARNING  | sdgx.data_processors.formatters.datetime:convert:97 - Column Submission_TABLE_submission_date was removed because lack of format info.\n",
      "2024-10-17 14:37:40.435 | INFO     | sdgx.data_processors.formatters.datetime:convert:99 - Converting data using DatetimeFormatter...\n",
      "2024-10-17 14:37:40.796 | INFO     | sdgx.data_processors.formatters.datetime:convert:105 - Converting data using DatetimeFormatter... Finished.\n",
      "2024-10-17 14:37:40.801 | INFO     | sdgx.data_processors.transformers.const:convert:69 - Converting data using ConstValueTransformer...\n",
      "2024-10-17 14:37:40.802 | INFO     | sdgx.data_processors.transformers.const:convert:77 - Converting data using ConstValueTransformer... Finished.\n",
      "2024-10-17 14:37:40.803 | INFO     | sdgx.data_processors.transformers.empty:convert:72 - Converting data using EmptyTransformer...\n",
      "2024-10-17 14:37:40.804 | INFO     | sdgx.data_processors.transformers.empty:convert:76 - Converting data using EmptyTransformer... Finished (No action).\n",
      "2024-10-17 14:37:40.805 | INFO     | sdgx.data_processors.transformers.column_order:convert:51 - Converting data using ColumnOrderTransformer...\n",
      "2024-10-17 14:37:40.805 | INFO     | sdgx.data_processors.transformers.column_order:convert:52 - Converting data using ColumnOrderTransformer... Finished (No action).\n",
      "2024-10-17 14:37:40.920 | INFO     | sdgx.data_processors.transformers.nan:convert:110 - Converting data using NonValueTransformer...\n",
      "2024-10-17 14:37:40.963 | INFO     | sdgx.data_processors.transformers.nan:convert:130 - Converting data using NonValueTransformer... Finished.\n",
      "2024-10-17 14:37:40.964 | INFO     | sdgx.data_processors.transformers.outlier:convert:84 - Converting data using OutlierTransformer...\n",
      "2024-10-17 14:37:41.031 | INFO     | sdgx.data_processors.transformers.outlier:convert:106 - Converting data using OutlierTransformer... Finished.\n",
      "2024-10-17 14:37:41.046 | INFO     | sdgx.data_processors.formatters.int:convert:50 - Converting data using IntValueFormatter... Finished  (No Action).\n",
      "2024-10-17 14:37:41.052 | WARNING  | sdgx.data_processors.formatters.datetime:convert:97 - Column Schedule_TABLE_time_slot was removed because lack of format info.\n",
      "2024-10-17 14:37:41.060 | WARNING  | sdgx.data_processors.formatters.datetime:convert:97 - Column Submission_TABLE_submission_date was removed because lack of format info.\n",
      "2024-10-17 14:37:41.061 | INFO     | sdgx.data_processors.formatters.datetime:convert:99 - Converting data using DatetimeFormatter...\n",
      "2024-10-17 14:37:41.424 | INFO     | sdgx.data_processors.formatters.datetime:convert:105 - Converting data using DatetimeFormatter... Finished.\n",
      "2024-10-17 14:37:41.430 | INFO     | sdgx.data_processors.transformers.const:convert:69 - Converting data using ConstValueTransformer...\n",
      "2024-10-17 14:37:41.431 | INFO     | sdgx.data_processors.transformers.const:convert:77 - Converting data using ConstValueTransformer... Finished.\n",
      "2024-10-17 14:37:41.432 | INFO     | sdgx.data_processors.transformers.empty:convert:72 - Converting data using EmptyTransformer...\n",
      "2024-10-17 14:37:41.433 | INFO     | sdgx.data_processors.transformers.empty:convert:76 - Converting data using EmptyTransformer... Finished (No action).\n",
      "2024-10-17 14:37:41.434 | INFO     | sdgx.data_processors.transformers.column_order:convert:51 - Converting data using ColumnOrderTransformer...\n",
      "2024-10-17 14:37:41.436 | INFO     | sdgx.data_processors.transformers.column_order:convert:52 - Converting data using ColumnOrderTransformer... Finished (No action).\n",
      "2024-10-17 14:37:41.557 | INFO     | sdgx.data_processors.transformers.nan:convert:110 - Converting data using NonValueTransformer...\n",
      "2024-10-17 14:37:41.603 | INFO     | sdgx.data_processors.transformers.nan:convert:130 - Converting data using NonValueTransformer... Finished.\n",
      "2024-10-17 14:37:41.605 | INFO     | sdgx.data_processors.transformers.outlier:convert:84 - Converting data using OutlierTransformer...\n",
      "2024-10-17 14:37:41.671 | INFO     | sdgx.data_processors.transformers.outlier:convert:106 - Converting data using OutlierTransformer... Finished.\n",
      "2024-10-17 14:37:41.686 | INFO     | sdgx.data_processors.formatters.int:convert:50 - Converting data using IntValueFormatter... Finished  (No Action).\n",
      "2024-10-17 14:37:41.692 | WARNING  | sdgx.data_processors.formatters.datetime:convert:97 - Column Schedule_TABLE_time_slot was removed because lack of format info.\n",
      "2024-10-17 14:37:41.700 | WARNING  | sdgx.data_processors.formatters.datetime:convert:97 - Column Submission_TABLE_submission_date was removed because lack of format info.\n",
      "2024-10-17 14:37:41.701 | INFO     | sdgx.data_processors.formatters.datetime:convert:99 - Converting data using DatetimeFormatter...\n",
      "2024-10-17 14:37:42.055 | INFO     | sdgx.data_processors.formatters.datetime:convert:105 - Converting data using DatetimeFormatter... Finished.\n",
      "2024-10-17 14:37:42.061 | INFO     | sdgx.data_processors.transformers.const:convert:69 - Converting data using ConstValueTransformer...\n",
      "2024-10-17 14:37:42.062 | INFO     | sdgx.data_processors.transformers.const:convert:77 - Converting data using ConstValueTransformer... Finished.\n",
      "2024-10-17 14:37:42.063 | INFO     | sdgx.data_processors.transformers.empty:convert:72 - Converting data using EmptyTransformer...\n",
      "2024-10-17 14:37:42.064 | INFO     | sdgx.data_processors.transformers.empty:convert:76 - Converting data using EmptyTransformer... Finished (No action).\n",
      "2024-10-17 14:37:42.065 | INFO     | sdgx.data_processors.transformers.column_order:convert:51 - Converting data using ColumnOrderTransformer...\n",
      "2024-10-17 14:37:42.066 | INFO     | sdgx.data_processors.transformers.column_order:convert:52 - Converting data using ColumnOrderTransformer... Finished (No action).\n",
      "2024-10-17 14:37:42.180 | INFO     | sdgx.data_processors.transformers.nan:convert:110 - Converting data using NonValueTransformer...\n",
      "2024-10-17 14:37:42.225 | INFO     | sdgx.data_processors.transformers.nan:convert:130 - Converting data using NonValueTransformer... Finished.\n",
      "2024-10-17 14:37:42.226 | INFO     | sdgx.data_processors.transformers.outlier:convert:84 - Converting data using OutlierTransformer...\n",
      "2024-10-17 14:37:42.298 | INFO     | sdgx.data_processors.transformers.outlier:convert:106 - Converting data using OutlierTransformer... Finished.\n",
      "2024-10-17 14:37:42.313 | INFO     | sdgx.data_processors.formatters.int:convert:50 - Converting data using IntValueFormatter... Finished  (No Action).\n",
      "2024-10-17 14:37:42.319 | WARNING  | sdgx.data_processors.formatters.datetime:convert:97 - Column Schedule_TABLE_time_slot was removed because lack of format info.\n",
      "2024-10-17 14:37:42.327 | WARNING  | sdgx.data_processors.formatters.datetime:convert:97 - Column Submission_TABLE_submission_date was removed because lack of format info.\n",
      "2024-10-17 14:37:42.328 | INFO     | sdgx.data_processors.formatters.datetime:convert:99 - Converting data using DatetimeFormatter...\n",
      "2024-10-17 14:37:42.692 | INFO     | sdgx.data_processors.formatters.datetime:convert:105 - Converting data using DatetimeFormatter... Finished.\n",
      "2024-10-17 14:37:42.697 | INFO     | sdgx.data_processors.transformers.const:convert:69 - Converting data using ConstValueTransformer...\n",
      "2024-10-17 14:37:42.698 | INFO     | sdgx.data_processors.transformers.const:convert:77 - Converting data using ConstValueTransformer... Finished.\n",
      "2024-10-17 14:37:42.700 | INFO     | sdgx.data_processors.transformers.empty:convert:72 - Converting data using EmptyTransformer...\n",
      "2024-10-17 14:37:42.702 | INFO     | sdgx.data_processors.transformers.empty:convert:76 - Converting data using EmptyTransformer... Finished (No action).\n",
      "2024-10-17 14:37:42.702 | INFO     | sdgx.data_processors.transformers.column_order:convert:51 - Converting data using ColumnOrderTransformer...\n",
      "2024-10-17 14:37:42.703 | INFO     | sdgx.data_processors.transformers.column_order:convert:52 - Converting data using ColumnOrderTransformer... Finished (No action).\n",
      "2024-10-17 14:37:42.823 | INFO     | sdgx.data_processors.transformers.nan:convert:110 - Converting data using NonValueTransformer...\n",
      "2024-10-17 14:37:42.866 | INFO     | sdgx.data_processors.transformers.nan:convert:130 - Converting data using NonValueTransformer... Finished.\n",
      "2024-10-17 14:37:42.868 | INFO     | sdgx.data_processors.transformers.outlier:convert:84 - Converting data using OutlierTransformer...\n",
      "2024-10-17 14:37:42.934 | INFO     | sdgx.data_processors.transformers.outlier:convert:106 - Converting data using OutlierTransformer... Finished.\n",
      "2024-10-17 14:37:42.949 | INFO     | sdgx.data_processors.formatters.int:convert:50 - Converting data using IntValueFormatter... Finished  (No Action).\n",
      "2024-10-17 14:37:42.955 | WARNING  | sdgx.data_processors.formatters.datetime:convert:97 - Column Schedule_TABLE_time_slot was removed because lack of format info.\n",
      "2024-10-17 14:37:42.963 | WARNING  | sdgx.data_processors.formatters.datetime:convert:97 - Column Submission_TABLE_submission_date was removed because lack of format info.\n",
      "2024-10-17 14:37:42.964 | INFO     | sdgx.data_processors.formatters.datetime:convert:99 - Converting data using DatetimeFormatter...\n",
      "2024-10-17 14:37:43.327 | INFO     | sdgx.data_processors.formatters.datetime:convert:105 - Converting data using DatetimeFormatter... Finished.\n",
      "2024-10-17 14:37:43.332 | INFO     | sdgx.data_processors.transformers.const:convert:69 - Converting data using ConstValueTransformer...\n",
      "2024-10-17 14:37:43.333 | INFO     | sdgx.data_processors.transformers.const:convert:77 - Converting data using ConstValueTransformer... Finished.\n",
      "2024-10-17 14:37:43.334 | INFO     | sdgx.data_processors.transformers.empty:convert:72 - Converting data using EmptyTransformer...\n",
      "2024-10-17 14:37:43.335 | INFO     | sdgx.data_processors.transformers.empty:convert:76 - Converting data using EmptyTransformer... Finished (No action).\n",
      "2024-10-17 14:37:43.336 | INFO     | sdgx.data_processors.transformers.column_order:convert:51 - Converting data using ColumnOrderTransformer...\n",
      "2024-10-17 14:37:43.337 | INFO     | sdgx.data_processors.transformers.column_order:convert:52 - Converting data using ColumnOrderTransformer... Finished (No action).\n",
      "2024-10-17 14:37:43.448 | INFO     | sdgx.data_processors.transformers.nan:convert:110 - Converting data using NonValueTransformer...\n",
      "2024-10-17 14:37:43.492 | INFO     | sdgx.data_processors.transformers.nan:convert:130 - Converting data using NonValueTransformer... Finished.\n",
      "2024-10-17 14:37:43.494 | INFO     | sdgx.data_processors.transformers.outlier:convert:84 - Converting data using OutlierTransformer...\n",
      "2024-10-17 14:37:43.562 | INFO     | sdgx.data_processors.transformers.outlier:convert:106 - Converting data using OutlierTransformer... Finished.\n",
      "2024-10-17 14:37:43.579 | INFO     | sdgx.data_processors.formatters.int:convert:50 - Converting data using IntValueFormatter... Finished  (No Action).\n",
      "2024-10-17 14:37:43.586 | WARNING  | sdgx.data_processors.formatters.datetime:convert:97 - Column Schedule_TABLE_time_slot was removed because lack of format info.\n",
      "2024-10-17 14:37:43.595 | WARNING  | sdgx.data_processors.formatters.datetime:convert:97 - Column Submission_TABLE_submission_date was removed because lack of format info.\n",
      "2024-10-17 14:37:43.596 | INFO     | sdgx.data_processors.formatters.datetime:convert:99 - Converting data using DatetimeFormatter...\n",
      "2024-10-17 14:37:43.960 | INFO     | sdgx.data_processors.formatters.datetime:convert:105 - Converting data using DatetimeFormatter... Finished.\n",
      "2024-10-17 14:37:43.966 | INFO     | sdgx.data_processors.transformers.const:convert:69 - Converting data using ConstValueTransformer...\n",
      "2024-10-17 14:37:43.967 | INFO     | sdgx.data_processors.transformers.const:convert:77 - Converting data using ConstValueTransformer... Finished.\n",
      "2024-10-17 14:37:43.968 | INFO     | sdgx.data_processors.transformers.empty:convert:72 - Converting data using EmptyTransformer...\n",
      "2024-10-17 14:37:43.969 | INFO     | sdgx.data_processors.transformers.empty:convert:76 - Converting data using EmptyTransformer... Finished (No action).\n",
      "2024-10-17 14:37:43.970 | INFO     | sdgx.data_processors.transformers.column_order:convert:51 - Converting data using ColumnOrderTransformer...\n",
      "2024-10-17 14:37:43.970 | INFO     | sdgx.data_processors.transformers.column_order:convert:52 - Converting data using ColumnOrderTransformer... Finished (No action).\n",
      "2024-10-17 14:37:44.081 | INFO     | sdgx.data_processors.transformers.nan:convert:110 - Converting data using NonValueTransformer...\n",
      "2024-10-17 14:37:44.124 | INFO     | sdgx.data_processors.transformers.nan:convert:130 - Converting data using NonValueTransformer... Finished.\n",
      "2024-10-17 14:37:44.125 | INFO     | sdgx.data_processors.transformers.outlier:convert:84 - Converting data using OutlierTransformer...\n",
      "2024-10-17 14:37:44.192 | INFO     | sdgx.data_processors.transformers.outlier:convert:106 - Converting data using OutlierTransformer... Finished.\n",
      "2024-10-17 14:37:44.207 | INFO     | sdgx.data_processors.formatters.int:convert:50 - Converting data using IntValueFormatter... Finished  (No Action).\n",
      "2024-10-17 14:37:44.213 | WARNING  | sdgx.data_processors.formatters.datetime:convert:97 - Column Schedule_TABLE_time_slot was removed because lack of format info.\n",
      "2024-10-17 14:37:44.221 | WARNING  | sdgx.data_processors.formatters.datetime:convert:97 - Column Submission_TABLE_submission_date was removed because lack of format info.\n",
      "2024-10-17 14:37:44.222 | INFO     | sdgx.data_processors.formatters.datetime:convert:99 - Converting data using DatetimeFormatter...\n",
      "2024-10-17 14:37:44.590 | INFO     | sdgx.data_processors.formatters.datetime:convert:105 - Converting data using DatetimeFormatter... Finished.\n",
      "2024-10-17 14:37:44.596 | INFO     | sdgx.data_processors.transformers.const:convert:69 - Converting data using ConstValueTransformer...\n",
      "2024-10-17 14:37:44.597 | INFO     | sdgx.data_processors.transformers.const:convert:77 - Converting data using ConstValueTransformer... Finished.\n",
      "2024-10-17 14:37:44.598 | INFO     | sdgx.data_processors.transformers.empty:convert:72 - Converting data using EmptyTransformer...\n",
      "2024-10-17 14:37:44.600 | INFO     | sdgx.data_processors.transformers.empty:convert:76 - Converting data using EmptyTransformer... Finished (No action).\n",
      "2024-10-17 14:37:44.601 | INFO     | sdgx.data_processors.transformers.column_order:convert:51 - Converting data using ColumnOrderTransformer...\n",
      "2024-10-17 14:37:44.602 | INFO     | sdgx.data_processors.transformers.column_order:convert:52 - Converting data using ColumnOrderTransformer... Finished (No action).\n",
      "2024-10-17 14:37:44.721 | INFO     | sdgx.data_processors.transformers.nan:convert:110 - Converting data using NonValueTransformer...\n",
      "2024-10-17 14:37:44.764 | INFO     | sdgx.data_processors.transformers.nan:convert:130 - Converting data using NonValueTransformer... Finished.\n",
      "2024-10-17 14:37:44.765 | INFO     | sdgx.data_processors.transformers.outlier:convert:84 - Converting data using OutlierTransformer...\n",
      "2024-10-17 14:37:44.832 | INFO     | sdgx.data_processors.transformers.outlier:convert:106 - Converting data using OutlierTransformer... Finished.\n",
      "2024-10-17 14:37:44.847 | INFO     | sdgx.data_processors.formatters.int:convert:50 - Converting data using IntValueFormatter... Finished  (No Action).\n",
      "2024-10-17 14:37:44.853 | WARNING  | sdgx.data_processors.formatters.datetime:convert:97 - Column Schedule_TABLE_time_slot was removed because lack of format info.\n",
      "2024-10-17 14:37:44.861 | WARNING  | sdgx.data_processors.formatters.datetime:convert:97 - Column Submission_TABLE_submission_date was removed because lack of format info.\n",
      "2024-10-17 14:37:44.862 | INFO     | sdgx.data_processors.formatters.datetime:convert:99 - Converting data using DatetimeFormatter...\n",
      "2024-10-17 14:37:45.220 | INFO     | sdgx.data_processors.formatters.datetime:convert:105 - Converting data using DatetimeFormatter... Finished.\n",
      "2024-10-17 14:37:45.226 | INFO     | sdgx.data_processors.transformers.const:convert:69 - Converting data using ConstValueTransformer...\n",
      "2024-10-17 14:37:45.227 | INFO     | sdgx.data_processors.transformers.const:convert:77 - Converting data using ConstValueTransformer... Finished.\n",
      "2024-10-17 14:37:45.228 | INFO     | sdgx.data_processors.transformers.empty:convert:72 - Converting data using EmptyTransformer...\n",
      "2024-10-17 14:37:45.229 | INFO     | sdgx.data_processors.transformers.empty:convert:76 - Converting data using EmptyTransformer... Finished (No action).\n",
      "2024-10-17 14:37:45.229 | INFO     | sdgx.data_processors.transformers.column_order:convert:51 - Converting data using ColumnOrderTransformer...\n",
      "2024-10-17 14:37:45.230 | INFO     | sdgx.data_processors.transformers.column_order:convert:52 - Converting data using ColumnOrderTransformer... Finished (No action).\n",
      "2024-10-17 14:37:45.348 | INFO     | sdgx.data_processors.transformers.nan:convert:110 - Converting data using NonValueTransformer...\n",
      "2024-10-17 14:37:45.393 | INFO     | sdgx.data_processors.transformers.nan:convert:130 - Converting data using NonValueTransformer... Finished.\n",
      "2024-10-17 14:37:45.394 | INFO     | sdgx.data_processors.transformers.outlier:convert:84 - Converting data using OutlierTransformer...\n",
      "2024-10-17 14:37:45.463 | INFO     | sdgx.data_processors.transformers.outlier:convert:106 - Converting data using OutlierTransformer... Finished.\n",
      "2024-10-17 14:37:45.479 | INFO     | sdgx.data_processors.formatters.int:convert:50 - Converting data using IntValueFormatter... Finished  (No Action).\n",
      "2024-10-17 14:37:45.485 | WARNING  | sdgx.data_processors.formatters.datetime:convert:97 - Column Schedule_TABLE_time_slot was removed because lack of format info.\n",
      "2024-10-17 14:37:45.493 | WARNING  | sdgx.data_processors.formatters.datetime:convert:97 - Column Submission_TABLE_submission_date was removed because lack of format info.\n",
      "2024-10-17 14:37:45.494 | INFO     | sdgx.data_processors.formatters.datetime:convert:99 - Converting data using DatetimeFormatter...\n",
      "2024-10-17 14:37:45.864 | INFO     | sdgx.data_processors.formatters.datetime:convert:105 - Converting data using DatetimeFormatter... Finished.\n",
      "2024-10-17 14:37:45.869 | INFO     | sdgx.data_processors.transformers.const:convert:69 - Converting data using ConstValueTransformer...\n",
      "2024-10-17 14:37:45.870 | INFO     | sdgx.data_processors.transformers.const:convert:77 - Converting data using ConstValueTransformer... Finished.\n",
      "2024-10-17 14:37:45.872 | INFO     | sdgx.data_processors.transformers.empty:convert:72 - Converting data using EmptyTransformer...\n",
      "2024-10-17 14:37:45.872 | INFO     | sdgx.data_processors.transformers.empty:convert:76 - Converting data using EmptyTransformer... Finished (No action).\n",
      "2024-10-17 14:37:45.873 | INFO     | sdgx.data_processors.transformers.column_order:convert:51 - Converting data using ColumnOrderTransformer...\n",
      "2024-10-17 14:37:45.874 | INFO     | sdgx.data_processors.transformers.column_order:convert:52 - Converting data using ColumnOrderTransformer... Finished (No action).\n",
      "2024-10-17 14:37:45.988 | INFO     | sdgx.data_processors.transformers.nan:convert:110 - Converting data using NonValueTransformer...\n",
      "2024-10-17 14:37:46.033 | INFO     | sdgx.data_processors.transformers.nan:convert:130 - Converting data using NonValueTransformer... Finished.\n",
      "2024-10-17 14:37:46.034 | INFO     | sdgx.data_processors.transformers.outlier:convert:84 - Converting data using OutlierTransformer...\n",
      "2024-10-17 14:37:46.102 | INFO     | sdgx.data_processors.transformers.outlier:convert:106 - Converting data using OutlierTransformer... Finished.\n",
      "2024-10-17 14:37:46.116 | INFO     | sdgx.data_processors.formatters.int:convert:50 - Converting data using IntValueFormatter... Finished  (No Action).\n",
      "2024-10-17 14:37:46.122 | WARNING  | sdgx.data_processors.formatters.datetime:convert:97 - Column Schedule_TABLE_time_slot was removed because lack of format info.\n",
      "2024-10-17 14:37:46.130 | WARNING  | sdgx.data_processors.formatters.datetime:convert:97 - Column Submission_TABLE_submission_date was removed because lack of format info.\n",
      "2024-10-17 14:37:46.131 | INFO     | sdgx.data_processors.formatters.datetime:convert:99 - Converting data using DatetimeFormatter...\n",
      "2024-10-17 14:37:46.492 | INFO     | sdgx.data_processors.formatters.datetime:convert:105 - Converting data using DatetimeFormatter... Finished.\n",
      "2024-10-17 14:37:46.498 | INFO     | sdgx.data_processors.transformers.const:convert:69 - Converting data using ConstValueTransformer...\n",
      "2024-10-17 14:37:46.499 | INFO     | sdgx.data_processors.transformers.const:convert:77 - Converting data using ConstValueTransformer... Finished.\n",
      "2024-10-17 14:37:46.500 | INFO     | sdgx.data_processors.transformers.empty:convert:72 - Converting data using EmptyTransformer...\n",
      "2024-10-17 14:37:46.501 | INFO     | sdgx.data_processors.transformers.empty:convert:76 - Converting data using EmptyTransformer... Finished (No action).\n",
      "2024-10-17 14:37:46.501 | INFO     | sdgx.data_processors.transformers.column_order:convert:51 - Converting data using ColumnOrderTransformer...\n",
      "2024-10-17 14:37:46.502 | INFO     | sdgx.data_processors.transformers.column_order:convert:52 - Converting data using ColumnOrderTransformer... Finished (No action).\n",
      "2024-10-17 14:37:46.628 | INFO     | sdgx.data_processors.transformers.nan:convert:110 - Converting data using NonValueTransformer...\n",
      "2024-10-17 14:37:46.672 | INFO     | sdgx.data_processors.transformers.nan:convert:130 - Converting data using NonValueTransformer... Finished.\n",
      "2024-10-17 14:37:46.674 | INFO     | sdgx.data_processors.transformers.outlier:convert:84 - Converting data using OutlierTransformer...\n",
      "2024-10-17 14:37:46.740 | INFO     | sdgx.data_processors.transformers.outlier:convert:106 - Converting data using OutlierTransformer... Finished.\n",
      "2024-10-17 14:37:46.756 | INFO     | sdgx.data_processors.formatters.int:convert:50 - Converting data using IntValueFormatter... Finished  (No Action).\n",
      "2024-10-17 14:37:46.762 | WARNING  | sdgx.data_processors.formatters.datetime:convert:97 - Column Schedule_TABLE_time_slot was removed because lack of format info.\n",
      "2024-10-17 14:37:46.770 | WARNING  | sdgx.data_processors.formatters.datetime:convert:97 - Column Submission_TABLE_submission_date was removed because lack of format info.\n",
      "2024-10-17 14:37:46.771 | INFO     | sdgx.data_processors.formatters.datetime:convert:99 - Converting data using DatetimeFormatter...\n",
      "2024-10-17 14:37:47.129 | INFO     | sdgx.data_processors.formatters.datetime:convert:105 - Converting data using DatetimeFormatter... Finished.\n",
      "2024-10-17 14:37:47.135 | INFO     | sdgx.data_processors.transformers.const:convert:69 - Converting data using ConstValueTransformer...\n",
      "2024-10-17 14:37:47.136 | INFO     | sdgx.data_processors.transformers.const:convert:77 - Converting data using ConstValueTransformer... Finished.\n",
      "2024-10-17 14:37:47.137 | INFO     | sdgx.data_processors.transformers.empty:convert:72 - Converting data using EmptyTransformer...\n",
      "2024-10-17 14:37:47.138 | INFO     | sdgx.data_processors.transformers.empty:convert:76 - Converting data using EmptyTransformer... Finished (No action).\n",
      "2024-10-17 14:37:47.138 | INFO     | sdgx.data_processors.transformers.column_order:convert:51 - Converting data using ColumnOrderTransformer...\n",
      "2024-10-17 14:37:47.139 | INFO     | sdgx.data_processors.transformers.column_order:convert:52 - Converting data using ColumnOrderTransformer... Finished (No action).\n",
      "2024-10-17 14:37:47.261 | INFO     | sdgx.data_processors.transformers.nan:convert:110 - Converting data using NonValueTransformer...\n",
      "2024-10-17 14:37:47.306 | INFO     | sdgx.data_processors.transformers.nan:convert:130 - Converting data using NonValueTransformer... Finished.\n",
      "2024-10-17 14:37:47.307 | INFO     | sdgx.data_processors.transformers.outlier:convert:84 - Converting data using OutlierTransformer...\n",
      "2024-10-17 14:37:47.375 | INFO     | sdgx.data_processors.transformers.outlier:convert:106 - Converting data using OutlierTransformer... Finished.\n",
      "2024-10-17 14:37:47.391 | INFO     | sdgx.data_processors.formatters.int:convert:50 - Converting data using IntValueFormatter... Finished  (No Action).\n",
      "2024-10-17 14:37:47.397 | WARNING  | sdgx.data_processors.formatters.datetime:convert:97 - Column Schedule_TABLE_time_slot was removed because lack of format info.\n",
      "2024-10-17 14:37:47.406 | WARNING  | sdgx.data_processors.formatters.datetime:convert:97 - Column Submission_TABLE_submission_date was removed because lack of format info.\n",
      "2024-10-17 14:37:47.407 | INFO     | sdgx.data_processors.formatters.datetime:convert:99 - Converting data using DatetimeFormatter...\n",
      "2024-10-17 14:37:47.770 | INFO     | sdgx.data_processors.formatters.datetime:convert:105 - Converting data using DatetimeFormatter... Finished.\n",
      "2024-10-17 14:37:47.775 | INFO     | sdgx.data_processors.transformers.const:convert:69 - Converting data using ConstValueTransformer...\n",
      "2024-10-17 14:37:47.776 | INFO     | sdgx.data_processors.transformers.const:convert:77 - Converting data using ConstValueTransformer... Finished.\n",
      "2024-10-17 14:37:47.778 | INFO     | sdgx.data_processors.transformers.empty:convert:72 - Converting data using EmptyTransformer...\n",
      "2024-10-17 14:37:47.779 | INFO     | sdgx.data_processors.transformers.empty:convert:76 - Converting data using EmptyTransformer... Finished (No action).\n",
      "2024-10-17 14:37:47.780 | INFO     | sdgx.data_processors.transformers.column_order:convert:51 - Converting data using ColumnOrderTransformer...\n",
      "2024-10-17 14:37:47.781 | INFO     | sdgx.data_processors.transformers.column_order:convert:52 - Converting data using ColumnOrderTransformer... Finished (No action).\n",
      "2024-10-17 14:37:47.902 | INFO     | sdgx.data_processors.transformers.nan:convert:110 - Converting data using NonValueTransformer...\n",
      "2024-10-17 14:37:47.946 | INFO     | sdgx.data_processors.transformers.nan:convert:130 - Converting data using NonValueTransformer... Finished.\n",
      "2024-10-17 14:37:47.947 | INFO     | sdgx.data_processors.transformers.outlier:convert:84 - Converting data using OutlierTransformer...\n",
      "2024-10-17 14:37:48.016 | INFO     | sdgx.data_processors.transformers.outlier:convert:106 - Converting data using OutlierTransformer... Finished.\n",
      "2024-10-17 14:37:48.032 | INFO     | sdgx.data_processors.formatters.int:convert:50 - Converting data using IntValueFormatter... Finished  (No Action).\n",
      "2024-10-17 14:37:48.038 | WARNING  | sdgx.data_processors.formatters.datetime:convert:97 - Column Schedule_TABLE_time_slot was removed because lack of format info.\n",
      "2024-10-17 14:37:48.046 | WARNING  | sdgx.data_processors.formatters.datetime:convert:97 - Column Submission_TABLE_submission_date was removed because lack of format info.\n",
      "2024-10-17 14:37:48.047 | INFO     | sdgx.data_processors.formatters.datetime:convert:99 - Converting data using DatetimeFormatter...\n",
      "2024-10-17 14:37:48.402 | INFO     | sdgx.data_processors.formatters.datetime:convert:105 - Converting data using DatetimeFormatter... Finished.\n",
      "2024-10-17 14:37:48.408 | INFO     | sdgx.data_processors.transformers.const:convert:69 - Converting data using ConstValueTransformer...\n",
      "2024-10-17 14:37:48.409 | INFO     | sdgx.data_processors.transformers.const:convert:77 - Converting data using ConstValueTransformer... Finished.\n",
      "2024-10-17 14:37:48.410 | INFO     | sdgx.data_processors.transformers.empty:convert:72 - Converting data using EmptyTransformer...\n",
      "2024-10-17 14:37:48.411 | INFO     | sdgx.data_processors.transformers.empty:convert:76 - Converting data using EmptyTransformer... Finished (No action).\n",
      "2024-10-17 14:37:48.411 | INFO     | sdgx.data_processors.transformers.column_order:convert:51 - Converting data using ColumnOrderTransformer...\n",
      "2024-10-17 14:37:48.412 | INFO     | sdgx.data_processors.transformers.column_order:convert:52 - Converting data using ColumnOrderTransformer... Finished (No action).\n",
      "2024-10-17 14:37:48.535 | INFO     | sdgx.data_processors.transformers.nan:convert:110 - Converting data using NonValueTransformer...\n",
      "2024-10-17 14:37:48.579 | INFO     | sdgx.data_processors.transformers.nan:convert:130 - Converting data using NonValueTransformer... Finished.\n",
      "2024-10-17 14:37:48.580 | INFO     | sdgx.data_processors.transformers.outlier:convert:84 - Converting data using OutlierTransformer...\n",
      "2024-10-17 14:37:48.648 | INFO     | sdgx.data_processors.transformers.outlier:convert:106 - Converting data using OutlierTransformer... Finished.\n",
      "2024-10-17 14:37:48.663 | INFO     | sdgx.data_processors.formatters.int:convert:50 - Converting data using IntValueFormatter... Finished  (No Action).\n",
      "2024-10-17 14:37:48.669 | WARNING  | sdgx.data_processors.formatters.datetime:convert:97 - Column Schedule_TABLE_time_slot was removed because lack of format info.\n",
      "2024-10-17 14:37:48.677 | WARNING  | sdgx.data_processors.formatters.datetime:convert:97 - Column Submission_TABLE_submission_date was removed because lack of format info.\n",
      "2024-10-17 14:37:48.678 | INFO     | sdgx.data_processors.formatters.datetime:convert:99 - Converting data using DatetimeFormatter...\n",
      "2024-10-17 14:37:49.037 | INFO     | sdgx.data_processors.formatters.datetime:convert:105 - Converting data using DatetimeFormatter... Finished.\n",
      "2024-10-17 14:37:49.042 | INFO     | sdgx.data_processors.transformers.const:convert:69 - Converting data using ConstValueTransformer...\n",
      "2024-10-17 14:37:49.043 | INFO     | sdgx.data_processors.transformers.const:convert:77 - Converting data using ConstValueTransformer... Finished.\n",
      "2024-10-17 14:37:49.045 | INFO     | sdgx.data_processors.transformers.empty:convert:72 - Converting data using EmptyTransformer...\n",
      "2024-10-17 14:37:49.046 | INFO     | sdgx.data_processors.transformers.empty:convert:76 - Converting data using EmptyTransformer... Finished (No action).\n",
      "2024-10-17 14:37:49.047 | INFO     | sdgx.data_processors.transformers.column_order:convert:51 - Converting data using ColumnOrderTransformer...\n",
      "2024-10-17 14:37:49.048 | INFO     | sdgx.data_processors.transformers.column_order:convert:52 - Converting data using ColumnOrderTransformer... Finished (No action).\n",
      "2024-10-17 14:37:49.177 | INFO     | sdgx.data_processors.transformers.nan:convert:110 - Converting data using NonValueTransformer...\n",
      "2024-10-17 14:37:49.222 | INFO     | sdgx.data_processors.transformers.nan:convert:130 - Converting data using NonValueTransformer... Finished.\n",
      "2024-10-17 14:37:49.223 | INFO     | sdgx.data_processors.transformers.outlier:convert:84 - Converting data using OutlierTransformer...\n",
      "2024-10-17 14:37:49.290 | INFO     | sdgx.data_processors.transformers.outlier:convert:106 - Converting data using OutlierTransformer... Finished.\n",
      "2024-10-17 14:37:49.307 | INFO     | sdgx.data_processors.formatters.int:convert:50 - Converting data using IntValueFormatter... Finished  (No Action).\n",
      "2024-10-17 14:37:49.313 | WARNING  | sdgx.data_processors.formatters.datetime:convert:97 - Column Schedule_TABLE_time_slot was removed because lack of format info.\n",
      "2024-10-17 14:37:49.321 | WARNING  | sdgx.data_processors.formatters.datetime:convert:97 - Column Submission_TABLE_submission_date was removed because lack of format info.\n",
      "2024-10-17 14:37:49.322 | INFO     | sdgx.data_processors.formatters.datetime:convert:99 - Converting data using DatetimeFormatter...\n",
      "2024-10-17 14:37:49.683 | INFO     | sdgx.data_processors.formatters.datetime:convert:105 - Converting data using DatetimeFormatter... Finished.\n",
      "2024-10-17 14:37:49.688 | INFO     | sdgx.data_processors.transformers.const:convert:69 - Converting data using ConstValueTransformer...\n",
      "2024-10-17 14:37:49.689 | INFO     | sdgx.data_processors.transformers.const:convert:77 - Converting data using ConstValueTransformer... Finished.\n",
      "2024-10-17 14:37:49.691 | INFO     | sdgx.data_processors.transformers.empty:convert:72 - Converting data using EmptyTransformer...\n",
      "2024-10-17 14:37:49.692 | INFO     | sdgx.data_processors.transformers.empty:convert:76 - Converting data using EmptyTransformer... Finished (No action).\n",
      "2024-10-17 14:37:49.693 | INFO     | sdgx.data_processors.transformers.column_order:convert:51 - Converting data using ColumnOrderTransformer...\n",
      "2024-10-17 14:37:49.693 | INFO     | sdgx.data_processors.transformers.column_order:convert:52 - Converting data using ColumnOrderTransformer... Finished (No action).\n",
      "2024-10-17 14:37:49.779 | INFO     | sdgx.data_processors.transformers.nan:convert:110 - Converting data using NonValueTransformer...\n",
      "2024-10-17 14:37:49.795 | INFO     | sdgx.data_processors.transformers.nan:convert:130 - Converting data using NonValueTransformer... Finished.\n",
      "2024-10-17 14:37:49.796 | INFO     | sdgx.data_processors.transformers.outlier:convert:84 - Converting data using OutlierTransformer...\n",
      "2024-10-17 14:37:49.806 | INFO     | sdgx.data_processors.transformers.outlier:convert:106 - Converting data using OutlierTransformer... Finished.\n",
      "2024-10-17 14:37:49.810 | INFO     | sdgx.data_processors.formatters.int:convert:50 - Converting data using IntValueFormatter... Finished  (No Action).\n",
      "2024-10-17 14:37:49.812 | WARNING  | sdgx.data_processors.formatters.datetime:convert:97 - Column Schedule_TABLE_time_slot was removed because lack of format info.\n",
      "2024-10-17 14:37:49.815 | WARNING  | sdgx.data_processors.formatters.datetime:convert:97 - Column Submission_TABLE_submission_date was removed because lack of format info.\n",
      "2024-10-17 14:37:49.816 | INFO     | sdgx.data_processors.formatters.datetime:convert:99 - Converting data using DatetimeFormatter...\n",
      "2024-10-17 14:37:49.834 | INFO     | sdgx.data_processors.formatters.datetime:convert:105 - Converting data using DatetimeFormatter... Finished.\n",
      "2024-10-17 14:37:49.836 | INFO     | sdgx.data_processors.transformers.const:convert:69 - Converting data using ConstValueTransformer...\n",
      "2024-10-17 14:37:49.837 | INFO     | sdgx.data_processors.transformers.const:convert:77 - Converting data using ConstValueTransformer... Finished.\n",
      "2024-10-17 14:37:49.838 | INFO     | sdgx.data_processors.transformers.empty:convert:72 - Converting data using EmptyTransformer...\n",
      "2024-10-17 14:37:49.839 | INFO     | sdgx.data_processors.transformers.empty:convert:76 - Converting data using EmptyTransformer... Finished (No action).\n",
      "2024-10-17 14:37:49.840 | INFO     | sdgx.data_processors.transformers.column_order:convert:51 - Converting data using ColumnOrderTransformer...\n",
      "2024-10-17 14:37:49.840 | INFO     | sdgx.data_processors.transformers.column_order:convert:52 - Converting data using ColumnOrderTransformer... Finished (No action).\n",
      "2024-10-17 14:37:50.172 | INFO     | sdgx.synthesizer:fit:322 - Initialized processed data loader in 29.709126234054565s\n",
      "2024-10-17 14:37:50.174 | INFO     | sdgx.synthesizer:fit:324 - Model fit Started...\n",
      "2024-10-17 14:37:50.210 | INFO     | sdgx.data_processors.transformers.nan:convert:110 - Converting data using NonValueTransformer...\n",
      "2024-10-17 14:37:50.254 | INFO     | sdgx.data_processors.transformers.nan:convert:130 - Converting data using NonValueTransformer... Finished.\n",
      "2024-10-17 14:37:50.255 | INFO     | sdgx.data_processors.transformers.outlier:convert:84 - Converting data using OutlierTransformer...\n",
      "2024-10-17 14:37:50.323 | INFO     | sdgx.data_processors.transformers.outlier:convert:106 - Converting data using OutlierTransformer... Finished.\n",
      "2024-10-17 14:37:50.337 | INFO     | sdgx.data_processors.formatters.int:convert:50 - Converting data using IntValueFormatter... Finished  (No Action).\n",
      "2024-10-17 14:37:50.343 | WARNING  | sdgx.data_processors.formatters.datetime:convert:97 - Column Schedule_TABLE_time_slot was removed because lack of format info.\n",
      "2024-10-17 14:37:50.348 | WARNING  | sdgx.data_processors.formatters.datetime:convert:97 - Column Submission_TABLE_submission_date was removed because lack of format info.\n",
      "2024-10-17 14:37:50.350 | INFO     | sdgx.data_processors.formatters.datetime:convert:99 - Converting data using DatetimeFormatter...\n",
      "2024-10-17 14:37:50.712 | INFO     | sdgx.data_processors.formatters.datetime:convert:105 - Converting data using DatetimeFormatter... Finished.\n",
      "2024-10-17 14:37:50.718 | INFO     | sdgx.data_processors.transformers.const:convert:69 - Converting data using ConstValueTransformer...\n",
      "2024-10-17 14:37:50.719 | INFO     | sdgx.data_processors.transformers.const:convert:77 - Converting data using ConstValueTransformer... Finished.\n",
      "2024-10-17 14:37:50.720 | INFO     | sdgx.data_processors.transformers.empty:convert:72 - Converting data using EmptyTransformer...\n",
      "2024-10-17 14:37:50.721 | INFO     | sdgx.data_processors.transformers.empty:convert:76 - Converting data using EmptyTransformer... Finished (No action).\n",
      "2024-10-17 14:37:50.722 | INFO     | sdgx.data_processors.transformers.column_order:convert:51 - Converting data using ColumnOrderTransformer...\n",
      "2024-10-17 14:37:50.723 | INFO     | sdgx.data_processors.transformers.column_order:convert:52 - Converting data using ColumnOrderTransformer... Finished (No action).\n",
      "2024-10-17 14:37:50.726 | INFO     | sdgx.models.ml.single_table.ctgan:_pre_fit:248 - Fitting model's transformer...\n",
      "2024-10-17 14:37:50.842 | INFO     | sdgx.data_processors.transformers.nan:convert:110 - Converting data using NonValueTransformer...\n",
      "2024-10-17 14:37:50.887 | INFO     | sdgx.data_processors.transformers.nan:convert:130 - Converting data using NonValueTransformer... Finished.\n",
      "2024-10-17 14:37:50.888 | INFO     | sdgx.data_processors.transformers.outlier:convert:84 - Converting data using OutlierTransformer...\n",
      "2024-10-17 14:37:50.957 | INFO     | sdgx.data_processors.transformers.outlier:convert:106 - Converting data using OutlierTransformer... Finished.\n",
      "2024-10-17 14:37:50.972 | INFO     | sdgx.data_processors.formatters.int:convert:50 - Converting data using IntValueFormatter... Finished  (No Action).\n",
      "2024-10-17 14:37:50.978 | WARNING  | sdgx.data_processors.formatters.datetime:convert:97 - Column Schedule_TABLE_time_slot was removed because lack of format info.\n",
      "2024-10-17 14:37:50.983 | WARNING  | sdgx.data_processors.formatters.datetime:convert:97 - Column Submission_TABLE_submission_date was removed because lack of format info.\n",
      "2024-10-17 14:37:50.984 | INFO     | sdgx.data_processors.formatters.datetime:convert:99 - Converting data using DatetimeFormatter...\n",
      "2024-10-17 14:37:51.347 | INFO     | sdgx.data_processors.formatters.datetime:convert:105 - Converting data using DatetimeFormatter... Finished.\n",
      "2024-10-17 14:37:51.353 | INFO     | sdgx.data_processors.transformers.const:convert:69 - Converting data using ConstValueTransformer...\n",
      "2024-10-17 14:37:51.354 | INFO     | sdgx.data_processors.transformers.const:convert:77 - Converting data using ConstValueTransformer... Finished.\n",
      "2024-10-17 14:37:51.355 | INFO     | sdgx.data_processors.transformers.empty:convert:72 - Converting data using EmptyTransformer...\n",
      "2024-10-17 14:37:51.356 | INFO     | sdgx.data_processors.transformers.empty:convert:76 - Converting data using EmptyTransformer... Finished (No action).\n",
      "2024-10-17 14:37:51.357 | INFO     | sdgx.data_processors.transformers.column_order:convert:51 - Converting data using ColumnOrderTransformer...\n",
      "2024-10-17 14:37:51.358 | INFO     | sdgx.data_processors.transformers.column_order:convert:52 - Converting data using ColumnOrderTransformer... Finished (No action).\n"
     ]
    },
    {
     "data": {
      "application/vnd.jupyter.widget-view+json": {
       "model_id": "3a478a0aa1f2414f854ab8d6d6caae4e",
       "version_major": 2,
       "version_minor": 0
      },
      "text/plain": [
       "Preparing data:   0%|          | 0/40 [00:00<?, ?it/s]"
      ]
     },
     "metadata": {},
     "output_type": "display_data"
    },
    {
     "name": "stderr",
     "output_type": "stream",
     "text": [
      "2024-10-17 14:37:51.372 | DEBUG    | sdgx.models.components.optimize.sdv_ctgan.data_transformer:fit:132 - Fitting continuous column BookLoan_TABLE_loan_id...\n",
      "2024-10-17 14:38:39.015 | DEBUG    | sdgx.models.components.optimize.sdv_ctgan.data_transformer:fit:132 - Fitting continuous column REF_TABLE_book_id...\n",
      "2024-10-17 14:39:26.149 | DEBUG    | sdgx.models.components.optimize.sdv_ctgan.data_transformer:fit:132 - Fitting continuous column REF_TABLE_student_id...\n",
      "2024-10-17 14:40:10.905 | DEBUG    | sdgx.models.components.optimize.sdv_ctgan.data_transformer:fit:132 - Fitting continuous column BookLoan_TABLE_loan_date...\n",
      "2024-10-17 14:40:56.353 | DEBUG    | sdgx.models.components.optimize.sdv_ctgan.data_transformer:fit:132 - Fitting continuous column BookLoan_TABLE_return_date...\n",
      "2024-10-17 14:41:43.836 | DEBUG    | sdgx.models.components.optimize.sdv_ctgan.data_transformer:fit:127 - Fitting discrete column Book_TABLE_title...\n",
      "2024-10-17 14:41:45.549 | DEBUG    | sdgx.models.components.optimize.sdv_ctgan.data_transformer:fit:127 - Fitting discrete column Book_TABLE_author...\n",
      "2024-10-17 14:41:47.259 | DEBUG    | sdgx.models.components.optimize.sdv_ctgan.data_transformer:fit:127 - Fitting discrete column Book_TABLE_isbn...\n",
      "2024-10-17 14:41:49.006 | DEBUG    | sdgx.models.components.optimize.sdv_ctgan.data_transformer:fit:132 - Fitting continuous column REF_TABLE_library_id...\n",
      "2024-10-17 14:42:36.175 | DEBUG    | sdgx.models.components.optimize.sdv_ctgan.data_transformer:fit:127 - Fitting discrete column Library_TABLE_name...\n",
      "2024-10-17 14:42:37.948 | DEBUG    | sdgx.models.components.optimize.sdv_ctgan.data_transformer:fit:127 - Fitting discrete column Library_TABLE_location...\n",
      "2024-10-17 14:42:39.739 | DEBUG    | sdgx.models.components.optimize.sdv_ctgan.data_transformer:fit:127 - Fitting discrete column Student_TABLE_name...\n",
      "2024-10-17 14:42:41.455 | DEBUG    | sdgx.models.components.optimize.sdv_ctgan.data_transformer:fit:132 - Fitting continuous column Student_TABLE_date_of_birth...\n",
      "2024-10-17 14:43:31.858 | DEBUG    | sdgx.models.components.optimize.sdv_ctgan.data_transformer:fit:132 - Fitting continuous column Student_TABLE_major...\n",
      "2024-10-17 14:44:18.228 | DEBUG    | sdgx.models.components.optimize.sdv_ctgan.data_transformer:fit:132 - Fitting continuous column Enrollment_TABLE_enrollment_id...\n",
      "2024-10-17 14:45:07.986 | DEBUG    | sdgx.models.components.optimize.sdv_ctgan.data_transformer:fit:132 - Fitting continuous column REF_TABLE_course_id...\n",
      "2024-10-17 14:45:54.780 | DEBUG    | sdgx.models.components.optimize.sdv_ctgan.data_transformer:fit:127 - Fitting discrete column Enrollment_TABLE_semester...\n",
      "2024-10-17 14:45:56.411 | DEBUG    | sdgx.models.components.optimize.sdv_ctgan.data_transformer:fit:127 - Fitting discrete column Enrollment_TABLE_grade...\n",
      "2024-10-17 14:45:58.023 | DEBUG    | sdgx.models.components.optimize.sdv_ctgan.data_transformer:fit:132 - Fitting continuous column Submission_TABLE_submission_id...\n",
      "2024-10-17 14:46:44.330 | DEBUG    | sdgx.models.components.optimize.sdv_ctgan.data_transformer:fit:132 - Fitting continuous column Submission_TABLE_assignment_id...\n",
      "2024-10-17 14:47:32.099 | DEBUG    | sdgx.models.components.optimize.sdv_ctgan.data_transformer:fit:127 - Fitting discrete column Submission_TABLE_grade...\n",
      "2024-10-17 14:47:33.702 | DEBUG    | sdgx.models.components.optimize.sdv_ctgan.data_transformer:fit:127 - Fitting discrete column Course_TABLE_title...\n",
      "2024-10-17 14:47:35.418 | DEBUG    | sdgx.models.components.optimize.sdv_ctgan.data_transformer:fit:132 - Fitting continuous column Course_TABLE_credits...\n",
      "2024-10-17 14:47:39.010 | DEBUG    | sdgx.models.components.optimize.sdv_ctgan.data_transformer:fit:132 - Fitting continuous column Course_TABLE_department...\n",
      "2024-10-17 14:48:27.107 | DEBUG    | sdgx.models.components.optimize.sdv_ctgan.data_transformer:fit:132 - Fitting continuous column REF_TABLE_textbook_id...\n",
      "2024-10-17 14:49:13.921 | DEBUG    | sdgx.models.components.optimize.sdv_ctgan.data_transformer:fit:127 - Fitting discrete column Textbook_TABLE_title...\n",
      "2024-10-17 14:49:15.640 | DEBUG    | sdgx.models.components.optimize.sdv_ctgan.data_transformer:fit:127 - Fitting discrete column Textbook_TABLE_author...\n",
      "2024-10-17 14:49:17.352 | DEBUG    | sdgx.models.components.optimize.sdv_ctgan.data_transformer:fit:127 - Fitting discrete column Textbook_TABLE_isbn...\n",
      "2024-10-17 14:49:19.082 | DEBUG    | sdgx.models.components.optimize.sdv_ctgan.data_transformer:fit:132 - Fitting continuous column Schedule_TABLE_schedule_id...\n",
      "2024-10-17 14:50:05.332 | DEBUG    | sdgx.models.components.optimize.sdv_ctgan.data_transformer:fit:132 - Fitting continuous column REF_TABLE_professor_id...\n",
      "2024-10-17 14:50:52.755 | DEBUG    | sdgx.models.components.optimize.sdv_ctgan.data_transformer:fit:132 - Fitting continuous column Schedule_TABLE_room...\n",
      "2024-10-17 14:51:48.835 | DEBUG    | sdgx.models.components.optimize.sdv_ctgan.data_transformer:fit:127 - Fitting discrete column Professor_TABLE_name...\n",
      "2024-10-17 14:51:50.309 | DEBUG    | sdgx.models.components.optimize.sdv_ctgan.data_transformer:fit:132 - Fitting continuous column Professor_TABLE_department...\n",
      "2024-10-17 14:52:38.423 | DEBUG    | sdgx.models.components.optimize.sdv_ctgan.data_transformer:fit:132 - Fitting continuous column REF_TABLE_project_id...\n",
      "2024-10-17 14:53:27.300 | DEBUG    | sdgx.models.components.optimize.sdv_ctgan.data_transformer:fit:127 - Fitting discrete column ResearchProject_TABLE_title...\n",
      "2024-10-17 14:53:28.941 | DEBUG    | sdgx.models.components.optimize.sdv_ctgan.data_transformer:fit:132 - Fitting continuous column REF_TABLE_group_id...\n",
      "2024-10-17 14:54:16.611 | DEBUG    | sdgx.models.components.optimize.sdv_ctgan.data_transformer:fit:132 - Fitting continuous column ResearchProject_TABLE_start_date...\n",
      "2024-10-17 14:55:03.912 | DEBUG    | sdgx.models.components.optimize.sdv_ctgan.data_transformer:fit:132 - Fitting continuous column ResearchProject_TABLE_end_date...\n",
      "2024-10-17 14:55:50.745 | DEBUG    | sdgx.models.components.optimize.sdv_ctgan.data_transformer:fit:127 - Fitting discrete column ResearchGroup_TABLE_name...\n",
      "2024-10-17 14:55:52.385 | DEBUG    | sdgx.models.components.optimize.sdv_ctgan.data_transformer:fit:127 - Fitting discrete column ResearchGroup_TABLE_focus_area...\n",
      "2024-10-17 14:55:54.125 | INFO     | sdgx.models.ml.single_table.ctgan:_pre_fit:250 - Transforming data...\n",
      "2024-10-17 14:55:55.589 | INFO     | sdgx.data_processors.transformers.nan:convert:110 - Converting data using NonValueTransformer...\n",
      "2024-10-17 14:55:55.637 | INFO     | sdgx.data_processors.transformers.nan:convert:130 - Converting data using NonValueTransformer... Finished.\n",
      "2024-10-17 14:55:55.639 | INFO     | sdgx.data_processors.transformers.outlier:convert:84 - Converting data using OutlierTransformer...\n",
      "2024-10-17 14:55:55.711 | INFO     | sdgx.data_processors.transformers.outlier:convert:106 - Converting data using OutlierTransformer... Finished.\n",
      "2024-10-17 14:55:55.732 | INFO     | sdgx.data_processors.formatters.int:convert:50 - Converting data using IntValueFormatter... Finished  (No Action).\n",
      "2024-10-17 14:55:55.739 | WARNING  | sdgx.data_processors.formatters.datetime:convert:97 - Column Schedule_TABLE_time_slot was removed because lack of format info.\n",
      "2024-10-17 14:55:55.745 | WARNING  | sdgx.data_processors.formatters.datetime:convert:97 - Column Submission_TABLE_submission_date was removed because lack of format info.\n",
      "2024-10-17 14:55:55.746 | INFO     | sdgx.data_processors.formatters.datetime:convert:99 - Converting data using DatetimeFormatter...\n",
      "2024-10-17 14:55:56.107 | INFO     | sdgx.data_processors.formatters.datetime:convert:105 - Converting data using DatetimeFormatter... Finished.\n",
      "2024-10-17 14:55:56.114 | INFO     | sdgx.data_processors.transformers.const:convert:69 - Converting data using ConstValueTransformer...\n",
      "2024-10-17 14:55:56.115 | INFO     | sdgx.data_processors.transformers.const:convert:77 - Converting data using ConstValueTransformer... Finished.\n",
      "2024-10-17 14:55:56.117 | INFO     | sdgx.data_processors.transformers.empty:convert:72 - Converting data using EmptyTransformer...\n",
      "2024-10-17 14:55:56.118 | INFO     | sdgx.data_processors.transformers.empty:convert:76 - Converting data using EmptyTransformer... Finished (No action).\n",
      "2024-10-17 14:55:56.119 | INFO     | sdgx.data_processors.transformers.column_order:convert:51 - Converting data using ColumnOrderTransformer...\n",
      "2024-10-17 14:55:56.120 | INFO     | sdgx.data_processors.transformers.column_order:convert:52 - Converting data using ColumnOrderTransformer... Finished (No action).\n"
     ]
    },
    {
     "data": {
      "application/vnd.jupyter.widget-view+json": {
       "model_id": "4cd747a8e4384df697592b86ee9b8b34",
       "version_major": 2,
       "version_minor": 0
      },
      "text/plain": [
       "Transforming data:   0%|          | 0/40 [00:00<?, ?it/s]"
      ]
     },
     "metadata": {},
     "output_type": "display_data"
    },
    {
     "name": "stderr",
     "output_type": "stream",
     "text": [
      "2024-10-17 14:57:03.477 | DEBUG    | sdgx.models.components.optimize.sdv_ctgan.data_transformer:_transform_continuous:143 - Transforming continuous column BookLoan_TABLE_loan_id...\n",
      "2024-10-17 14:57:03.756 | DEBUG    | sdgx.models.components.optimize.sdv_ctgan.data_transformer:_transform_continuous:143 - Transforming continuous column REF_TABLE_book_id...\n",
      "2024-10-17 14:57:04.173 | DEBUG    | sdgx.models.components.optimize.sdv_ctgan.data_transformer:_transform_continuous:143 - Transforming continuous column REF_TABLE_student_id...\n",
      "2024-10-17 14:57:04.491 | DEBUG    | sdgx.models.components.optimize.sdv_ctgan.data_transformer:_transform_continuous:143 - Transforming continuous column BookLoan_TABLE_loan_date...\n",
      "2024-10-17 14:57:04.867 | DEBUG    | sdgx.models.components.optimize.sdv_ctgan.data_transformer:_transform_continuous:143 - Transforming continuous column BookLoan_TABLE_return_date...\n",
      "2024-10-17 14:57:05.281 | DEBUG    | sdgx.models.components.optimize.sdv_ctgan.data_transformer:_transform_discrete:160 - Transforming discrete column Book_TABLE_title...\n",
      "2024-10-17 14:57:05.664 | DEBUG    | sdgx.models.components.optimize.sdv_ctgan.data_transformer:_transform_discrete:160 - Transforming discrete column Book_TABLE_author...\n",
      "2024-10-17 14:57:06.042 | DEBUG    | sdgx.models.components.optimize.sdv_ctgan.data_transformer:_transform_discrete:160 - Transforming discrete column Book_TABLE_isbn...\n",
      "2024-10-17 14:57:06.515 | DEBUG    | sdgx.models.components.optimize.sdv_ctgan.data_transformer:_transform_continuous:143 - Transforming continuous column REF_TABLE_library_id...\n",
      "2024-10-17 14:57:06.836 | DEBUG    | sdgx.models.components.optimize.sdv_ctgan.data_transformer:_transform_discrete:160 - Transforming discrete column Library_TABLE_name...\n",
      "2024-10-17 14:57:07.207 | DEBUG    | sdgx.models.components.optimize.sdv_ctgan.data_transformer:_transform_discrete:160 - Transforming discrete column Library_TABLE_location...\n",
      "2024-10-17 14:57:07.615 | DEBUG    | sdgx.models.components.optimize.sdv_ctgan.data_transformer:_transform_discrete:160 - Transforming discrete column Student_TABLE_name...\n",
      "2024-10-17 14:57:07.885 | DEBUG    | sdgx.models.components.optimize.sdv_ctgan.data_transformer:_transform_continuous:143 - Transforming continuous column Student_TABLE_date_of_birth...\n",
      "2024-10-17 14:57:08.306 | DEBUG    | sdgx.models.components.optimize.sdv_ctgan.data_transformer:_transform_continuous:143 - Transforming continuous column Student_TABLE_major...\n",
      "2024-10-17 14:57:08.578 | DEBUG    | sdgx.models.components.optimize.sdv_ctgan.data_transformer:_transform_continuous:143 - Transforming continuous column Enrollment_TABLE_enrollment_id...\n",
      "2024-10-17 14:57:08.920 | DEBUG    | sdgx.models.components.optimize.sdv_ctgan.data_transformer:_transform_continuous:143 - Transforming continuous column REF_TABLE_course_id...\n",
      "2024-10-17 14:57:09.388 | DEBUG    | sdgx.models.components.optimize.sdv_ctgan.data_transformer:_transform_discrete:160 - Transforming discrete column Enrollment_TABLE_semester...\n",
      "2024-10-17 14:57:09.779 | DEBUG    | sdgx.models.components.optimize.sdv_ctgan.data_transformer:_transform_discrete:160 - Transforming discrete column Enrollment_TABLE_grade...\n",
      "2024-10-17 14:57:10.055 | DEBUG    | sdgx.models.components.optimize.sdv_ctgan.data_transformer:_transform_continuous:143 - Transforming continuous column Submission_TABLE_submission_id...\n",
      "2024-10-17 14:57:10.456 | DEBUG    | sdgx.models.components.optimize.sdv_ctgan.data_transformer:_transform_continuous:143 - Transforming continuous column Submission_TABLE_assignment_id...\n",
      "2024-10-17 14:57:10.951 | DEBUG    | sdgx.models.components.optimize.sdv_ctgan.data_transformer:_transform_discrete:160 - Transforming discrete column Submission_TABLE_grade...\n",
      "2024-10-17 14:57:11.279 | DEBUG    | sdgx.models.components.optimize.sdv_ctgan.data_transformer:_transform_discrete:160 - Transforming discrete column Course_TABLE_title...\n",
      "2024-10-17 14:57:11.643 | DEBUG    | sdgx.models.components.optimize.sdv_ctgan.data_transformer:_transform_continuous:143 - Transforming continuous column Course_TABLE_credits...\n",
      "2024-10-17 14:57:11.916 | DEBUG    | sdgx.models.components.optimize.sdv_ctgan.data_transformer:_transform_continuous:143 - Transforming continuous column Course_TABLE_department...\n",
      "2024-10-17 14:57:12.368 | DEBUG    | sdgx.models.components.optimize.sdv_ctgan.data_transformer:_transform_continuous:143 - Transforming continuous column REF_TABLE_textbook_id...\n",
      "2024-10-17 14:57:12.724 | DEBUG    | sdgx.models.components.optimize.sdv_ctgan.data_transformer:_transform_discrete:160 - Transforming discrete column Textbook_TABLE_title...\n",
      "2024-10-17 14:57:13.290 | DEBUG    | sdgx.models.components.optimize.sdv_ctgan.data_transformer:_transform_discrete:160 - Transforming discrete column Textbook_TABLE_author...\n",
      "2024-10-17 14:57:13.761 | DEBUG    | sdgx.models.components.optimize.sdv_ctgan.data_transformer:_transform_discrete:160 - Transforming discrete column Textbook_TABLE_isbn...\n",
      "2024-10-17 14:57:14.113 | DEBUG    | sdgx.models.components.optimize.sdv_ctgan.data_transformer:_transform_continuous:143 - Transforming continuous column Schedule_TABLE_schedule_id...\n",
      "2024-10-17 14:57:14.442 | DEBUG    | sdgx.models.components.optimize.sdv_ctgan.data_transformer:_transform_continuous:143 - Transforming continuous column REF_TABLE_professor_id...\n",
      "2024-10-17 14:57:14.725 | DEBUG    | sdgx.models.components.optimize.sdv_ctgan.data_transformer:_transform_continuous:143 - Transforming continuous column Schedule_TABLE_room...\n",
      "2024-10-17 14:57:15.106 | DEBUG    | sdgx.models.components.optimize.sdv_ctgan.data_transformer:_transform_discrete:160 - Transforming discrete column Professor_TABLE_name...\n",
      "2024-10-17 14:57:15.387 | DEBUG    | sdgx.models.components.optimize.sdv_ctgan.data_transformer:_transform_continuous:143 - Transforming continuous column Professor_TABLE_department...\n",
      "2024-10-17 14:57:15.701 | DEBUG    | sdgx.models.components.optimize.sdv_ctgan.data_transformer:_transform_continuous:143 - Transforming continuous column REF_TABLE_project_id...\n",
      "2024-10-17 14:57:16.162 | DEBUG    | sdgx.models.components.optimize.sdv_ctgan.data_transformer:_transform_discrete:160 - Transforming discrete column ResearchProject_TABLE_title...\n",
      "2024-10-17 14:57:16.356 | DEBUG    | sdgx.models.components.optimize.sdv_ctgan.data_transformer:_transform_continuous:143 - Transforming continuous column REF_TABLE_group_id...\n",
      "2024-10-17 14:57:16.632 | DEBUG    | sdgx.models.components.optimize.sdv_ctgan.data_transformer:_transform_continuous:143 - Transforming continuous column ResearchProject_TABLE_start_date...\n",
      "2024-10-17 14:57:17.001 | DEBUG    | sdgx.models.components.optimize.sdv_ctgan.data_transformer:_transform_continuous:143 - Transforming continuous column ResearchProject_TABLE_end_date...\n",
      "2024-10-17 14:57:17.416 | DEBUG    | sdgx.models.components.optimize.sdv_ctgan.data_transformer:_transform_discrete:160 - Transforming discrete column ResearchGroup_TABLE_name...\n",
      "2024-10-17 14:57:17.693 | DEBUG    | sdgx.models.components.optimize.sdv_ctgan.data_transformer:_transform_discrete:160 - Transforming discrete column ResearchGroup_TABLE_focus_area...\n",
      "2024-10-17 14:57:36.692 | INFO     | sdgx.models.ml.single_table.ctgan:_pre_fit:253 - Sampling data.\n",
      "2024-10-17 14:57:37.049 | INFO     | sdgx.models.ml.single_table.ctgan:_pre_fit:258 - Initialize Generator.\n",
      "2024-10-17 14:57:37.362 | INFO     | sdgx.models.ml.single_table.ctgan:fit:223 - CTGAN prefit finished, start CTGAN training.\n",
      "2024-10-17 14:57:37.374 | INFO     | sdgx.models.ml.single_table.ctgan:_fit:276 - Fit using data_size:460262, data_dim: 293.\n"
     ]
    },
    {
     "name": "stdout",
     "output_type": "stream",
     "text": [
      "[ColumnTransformInfo(column_name='BookLoan_TABLE_loan_id', column_type='continuous', transform=ClusterBasedNormalizer(model_missing_values=True), output_info=[SpanInfo(dim=1, activation_fn='tanh'), SpanInfo(dim=10, activation_fn='softmax')], output_dimensions=11), ColumnTransformInfo(column_name='REF_TABLE_book_id', column_type='continuous', transform=ClusterBasedNormalizer(model_missing_values=True), output_info=[SpanInfo(dim=1, activation_fn='tanh'), SpanInfo(dim=10, activation_fn='softmax')], output_dimensions=11), ColumnTransformInfo(column_name='REF_TABLE_student_id', column_type='continuous', transform=ClusterBasedNormalizer(model_missing_values=True), output_info=[SpanInfo(dim=1, activation_fn='tanh'), SpanInfo(dim=10, activation_fn='softmax')], output_dimensions=11), ColumnTransformInfo(column_name='BookLoan_TABLE_loan_date', column_type='continuous', transform=ClusterBasedNormalizer(model_missing_values=True), output_info=[SpanInfo(dim=1, activation_fn='tanh'), SpanInfo(dim=10, activation_fn='softmax')], output_dimensions=11), ColumnTransformInfo(column_name='BookLoan_TABLE_return_date', column_type='continuous', transform=ClusterBasedNormalizer(model_missing_values=True), output_info=[SpanInfo(dim=1, activation_fn='tanh'), SpanInfo(dim=10, activation_fn='softmax')], output_dimensions=11), ColumnTransformInfo(column_name='Book_TABLE_title', column_type='discrete', transform=LabelEncoder(order_by='alphabetical'), output_info=[SpanInfo(dim=1, activation_fn='liner')], output_dimensions=1), ColumnTransformInfo(column_name='Book_TABLE_author', column_type='discrete', transform=LabelEncoder(order_by='alphabetical'), output_info=[SpanInfo(dim=1, activation_fn='liner')], output_dimensions=1), ColumnTransformInfo(column_name='Book_TABLE_isbn', column_type='discrete', transform=LabelEncoder(order_by='alphabetical'), output_info=[SpanInfo(dim=1, activation_fn='liner')], output_dimensions=1), ColumnTransformInfo(column_name='REF_TABLE_library_id', column_type='continuous', transform=ClusterBasedNormalizer(model_missing_values=True), output_info=[SpanInfo(dim=1, activation_fn='tanh'), SpanInfo(dim=10, activation_fn='softmax')], output_dimensions=11), ColumnTransformInfo(column_name='Library_TABLE_name', column_type='discrete', transform=LabelEncoder(order_by='alphabetical'), output_info=[SpanInfo(dim=1, activation_fn='liner')], output_dimensions=1), ColumnTransformInfo(column_name='Library_TABLE_location', column_type='discrete', transform=LabelEncoder(order_by='alphabetical'), output_info=[SpanInfo(dim=1, activation_fn='liner')], output_dimensions=1), ColumnTransformInfo(column_name='Student_TABLE_name', column_type='discrete', transform=LabelEncoder(order_by='alphabetical'), output_info=[SpanInfo(dim=1, activation_fn='liner')], output_dimensions=1), ColumnTransformInfo(column_name='Student_TABLE_date_of_birth', column_type='continuous', transform=ClusterBasedNormalizer(model_missing_values=True), output_info=[SpanInfo(dim=1, activation_fn='tanh'), SpanInfo(dim=10, activation_fn='softmax')], output_dimensions=11), ColumnTransformInfo(column_name='Student_TABLE_major', column_type='continuous', transform=ClusterBasedNormalizer(model_missing_values=True), output_info=[SpanInfo(dim=1, activation_fn='tanh'), SpanInfo(dim=10, activation_fn='softmax')], output_dimensions=11), ColumnTransformInfo(column_name='Enrollment_TABLE_enrollment_id', column_type='continuous', transform=ClusterBasedNormalizer(model_missing_values=True), output_info=[SpanInfo(dim=1, activation_fn='tanh'), SpanInfo(dim=10, activation_fn='softmax')], output_dimensions=11), ColumnTransformInfo(column_name='REF_TABLE_course_id', column_type='continuous', transform=ClusterBasedNormalizer(model_missing_values=True), output_info=[SpanInfo(dim=1, activation_fn='tanh'), SpanInfo(dim=10, activation_fn='softmax')], output_dimensions=11), ColumnTransformInfo(column_name='Enrollment_TABLE_semester', column_type='discrete', transform=OneHotEncoder(), output_info=[SpanInfo(dim=20, activation_fn='softmax')], output_dimensions=20), ColumnTransformInfo(column_name='Enrollment_TABLE_grade', column_type='discrete', transform=OneHotEncoder(), output_info=[SpanInfo(dim=6, activation_fn='softmax')], output_dimensions=6), ColumnTransformInfo(column_name='Submission_TABLE_submission_id', column_type='continuous', transform=ClusterBasedNormalizer(model_missing_values=True), output_info=[SpanInfo(dim=1, activation_fn='tanh'), SpanInfo(dim=10, activation_fn='softmax')], output_dimensions=11), ColumnTransformInfo(column_name='Submission_TABLE_assignment_id', column_type='continuous', transform=ClusterBasedNormalizer(model_missing_values=True), output_info=[SpanInfo(dim=1, activation_fn='tanh'), SpanInfo(dim=10, activation_fn='softmax')], output_dimensions=11), ColumnTransformInfo(column_name='Submission_TABLE_grade', column_type='discrete', transform=OneHotEncoder(), output_info=[SpanInfo(dim=6, activation_fn='softmax')], output_dimensions=6), ColumnTransformInfo(column_name='Course_TABLE_title', column_type='discrete', transform=LabelEncoder(order_by='alphabetical'), output_info=[SpanInfo(dim=1, activation_fn='liner')], output_dimensions=1), ColumnTransformInfo(column_name='Course_TABLE_credits', column_type='continuous', transform=ClusterBasedNormalizer(model_missing_values=True), output_info=[SpanInfo(dim=1, activation_fn='tanh'), SpanInfo(dim=4, activation_fn='softmax')], output_dimensions=5), ColumnTransformInfo(column_name='Course_TABLE_department', column_type='continuous', transform=ClusterBasedNormalizer(model_missing_values=True), output_info=[SpanInfo(dim=1, activation_fn='tanh'), SpanInfo(dim=10, activation_fn='softmax')], output_dimensions=11), ColumnTransformInfo(column_name='REF_TABLE_textbook_id', column_type='continuous', transform=ClusterBasedNormalizer(model_missing_values=True), output_info=[SpanInfo(dim=1, activation_fn='tanh'), SpanInfo(dim=10, activation_fn='softmax')], output_dimensions=11), ColumnTransformInfo(column_name='Textbook_TABLE_title', column_type='discrete', transform=LabelEncoder(order_by='alphabetical'), output_info=[SpanInfo(dim=1, activation_fn='liner')], output_dimensions=1), ColumnTransformInfo(column_name='Textbook_TABLE_author', column_type='discrete', transform=LabelEncoder(order_by='alphabetical'), output_info=[SpanInfo(dim=1, activation_fn='liner')], output_dimensions=1), ColumnTransformInfo(column_name='Textbook_TABLE_isbn', column_type='discrete', transform=LabelEncoder(order_by='alphabetical'), output_info=[SpanInfo(dim=1, activation_fn='liner')], output_dimensions=1), ColumnTransformInfo(column_name='Schedule_TABLE_schedule_id', column_type='continuous', transform=ClusterBasedNormalizer(model_missing_values=True), output_info=[SpanInfo(dim=1, activation_fn='tanh'), SpanInfo(dim=10, activation_fn='softmax')], output_dimensions=11), ColumnTransformInfo(column_name='REF_TABLE_professor_id', column_type='continuous', transform=ClusterBasedNormalizer(model_missing_values=True), output_info=[SpanInfo(dim=1, activation_fn='tanh'), SpanInfo(dim=10, activation_fn='softmax')], output_dimensions=11), ColumnTransformInfo(column_name='Schedule_TABLE_room', column_type='continuous', transform=ClusterBasedNormalizer(model_missing_values=True), output_info=[SpanInfo(dim=1, activation_fn='tanh'), SpanInfo(dim=10, activation_fn='softmax')], output_dimensions=11), ColumnTransformInfo(column_name='Professor_TABLE_name', column_type='discrete', transform=LabelEncoder(order_by='alphabetical'), output_info=[SpanInfo(dim=1, activation_fn='liner')], output_dimensions=1), ColumnTransformInfo(column_name='Professor_TABLE_department', column_type='continuous', transform=ClusterBasedNormalizer(model_missing_values=True), output_info=[SpanInfo(dim=1, activation_fn='tanh'), SpanInfo(dim=10, activation_fn='softmax')], output_dimensions=11), ColumnTransformInfo(column_name='REF_TABLE_project_id', column_type='continuous', transform=ClusterBasedNormalizer(model_missing_values=True), output_info=[SpanInfo(dim=1, activation_fn='tanh'), SpanInfo(dim=10, activation_fn='softmax')], output_dimensions=11), ColumnTransformInfo(column_name='ResearchProject_TABLE_title', column_type='discrete', transform=LabelEncoder(order_by='alphabetical'), output_info=[SpanInfo(dim=1, activation_fn='liner')], output_dimensions=1), ColumnTransformInfo(column_name='REF_TABLE_group_id', column_type='continuous', transform=ClusterBasedNormalizer(model_missing_values=True), output_info=[SpanInfo(dim=1, activation_fn='tanh'), SpanInfo(dim=10, activation_fn='softmax')], output_dimensions=11), ColumnTransformInfo(column_name='ResearchProject_TABLE_start_date', column_type='continuous', transform=ClusterBasedNormalizer(model_missing_values=True), output_info=[SpanInfo(dim=1, activation_fn='tanh'), SpanInfo(dim=10, activation_fn='softmax')], output_dimensions=11), ColumnTransformInfo(column_name='ResearchProject_TABLE_end_date', column_type='continuous', transform=ClusterBasedNormalizer(model_missing_values=True), output_info=[SpanInfo(dim=1, activation_fn='tanh'), SpanInfo(dim=10, activation_fn='softmax')], output_dimensions=11), ColumnTransformInfo(column_name='ResearchGroup_TABLE_name', column_type='discrete', transform=LabelEncoder(order_by='alphabetical'), output_info=[SpanInfo(dim=1, activation_fn='liner')], output_dimensions=1), ColumnTransformInfo(column_name='ResearchGroup_TABLE_focus_area', column_type='discrete', transform=LabelEncoder(order_by='alphabetical'), output_info=[SpanInfo(dim=1, activation_fn='liner')], output_dimensions=1)]\n"
     ]
    },
    {
     "name": "stderr",
     "output_type": "stream",
     "text": [
      "2024-10-17 14:57:38.135 | INFO     | sdgx.models.ml.single_table.ctgan:_fit:302 - Starting model training, epochs: 1\n"
     ]
    },
    {
     "data": {
      "application/vnd.jupyter.widget-view+json": {
       "model_id": "5b9af7032dec421d8f6f66b6bb2427dd",
       "version_major": 2,
       "version_minor": 0
      },
      "text/plain": [
       "Fitting batches:   0%|          | 0/230 [00:00<?, ?it/s]"
      ]
     },
     "metadata": {},
     "output_type": "display_data"
    },
    {
     "name": "stderr",
     "output_type": "stream",
     "text": [
      "/home/wbx/miniconda3/envs/sdg10/lib/python3.10/site-packages/torch/autograd/graph.py:769: UserWarning: Attempting to run cuBLAS, but there was no current CUDA context! Attempting to set the primary context... (Triggered internally at /opt/conda/conda-bld/pytorch_1724789115564/work/aten/src/ATen/cuda/CublasHandlePool.cpp:135.)\n",
      "  return Variable._execution_engine.run_backward(  # Calls into the C++ engine to run the backward pass\n",
      "2024-10-17 14:59:12.513 | INFO     | sdgx.models.ml.single_table.ctgan:_fit:383 - Epoch 1, Loss G: -0.5995, Loss D:  0.1620, Time:  94.3764\n",
      "2024-10-17 14:59:12.517 | INFO     | sdgx.models.ml.single_table.ctgan:fit:225 - CTGAN training finished.\n",
      "2024-10-17 14:59:12.518 | INFO     | sdgx.synthesizer:fit:333 - Model fit... Finished\n"
     ]
    },
    {
     "data": {
      "text/plain": [
       "<multi_ctgan.MultiTableCTGAN at 0x79aaca32c490>"
      ]
     },
     "execution_count": 6,
     "metadata": {},
     "output_type": "execute_result"
    }
   ],
   "source": [
    "multi_wrapper.fit(device=\"cuda\", batch_size=2000)\n",
    "# multi_wrapper.synthesizer.save(\"test_model_100k\")"
   ]
  },
  {
   "cell_type": "code",
   "execution_count": 7,
   "metadata": {
    "ExecuteTime": {
     "end_time": "2024-10-16T08:19:12.736738Z",
     "start_time": "2024-10-16T08:18:59.084252Z"
    }
   },
   "outputs": [
    {
     "name": "stderr",
     "output_type": "stream",
     "text": [
      "2024-10-17 14:59:13.234 | INFO     | sdgx.synthesizer:sample:357 - Sampling...\n"
     ]
    },
    {
     "data": {
      "application/vnd.jupyter.widget-view+json": {
       "model_id": "8b7e6b94120845f6a32ee47a9d21e2b2",
       "version_major": 2,
       "version_minor": 0
      },
      "text/plain": [
       "Sampling:   0%|          | 0/100000 [00:00<?, ?it/s]"
      ]
     },
     "metadata": {},
     "output_type": "display_data"
    },
    {
     "data": {
      "application/vnd.jupyter.widget-view+json": {
       "model_id": "fcbb1b46536a42a594780702f2cb6ce9",
       "version_major": 2,
       "version_minor": 0
      },
      "text/plain": [
       "Sampling batches:   0%|          | 0/61 [00:00<?, ?it/s]"
      ]
     },
     "metadata": {},
     "output_type": "display_data"
    },
    {
     "data": {
      "application/vnd.jupyter.widget-view+json": {
       "model_id": "d06dd0b4e4d044008a5b333a16c8680c",
       "version_major": 2,
       "version_minor": 0
      },
      "text/plain": [
       "  0%|          | 0/2000 [00:00<?, ?it/s]"
      ]
     },
     "metadata": {},
     "output_type": "display_data"
    },
    {
     "data": {
      "application/vnd.jupyter.widget-view+json": {
       "model_id": "18a2e764b45d43bcae53d33c0bedb256",
       "version_major": 2,
       "version_minor": 0
      },
      "text/plain": [
       "  0%|          | 0/2000 [00:00<?, ?it/s]"
      ]
     },
     "metadata": {},
     "output_type": "display_data"
    },
    {
     "data": {
      "application/vnd.jupyter.widget-view+json": {
       "model_id": "06703f409ca24a8ab47b48ae68a2e15b",
       "version_major": 2,
       "version_minor": 0
      },
      "text/plain": [
       "  0%|          | 0/2000 [00:00<?, ?it/s]"
      ]
     },
     "metadata": {},
     "output_type": "display_data"
    },
    {
     "data": {
      "application/vnd.jupyter.widget-view+json": {
       "model_id": "78e0d45305df47c7a78f4d648934bab5",
       "version_major": 2,
       "version_minor": 0
      },
      "text/plain": [
       "  0%|          | 0/2000 [00:00<?, ?it/s]"
      ]
     },
     "metadata": {},
     "output_type": "display_data"
    },
    {
     "data": {
      "application/vnd.jupyter.widget-view+json": {
       "model_id": "f4e01d1716ad4828a56d4ca363e1a631",
       "version_major": 2,
       "version_minor": 0
      },
      "text/plain": [
       "  0%|          | 0/2000 [00:00<?, ?it/s]"
      ]
     },
     "metadata": {},
     "output_type": "display_data"
    },
    {
     "data": {
      "application/vnd.jupyter.widget-view+json": {
       "model_id": "4b09d43d442d452dba8f8fa79494f267",
       "version_major": 2,
       "version_minor": 0
      },
      "text/plain": [
       "  0%|          | 0/2000 [00:00<?, ?it/s]"
      ]
     },
     "metadata": {},
     "output_type": "display_data"
    },
    {
     "data": {
      "application/vnd.jupyter.widget-view+json": {
       "model_id": "bec9c3d79a0d49c4aa5907dbc518d743",
       "version_major": 2,
       "version_minor": 0
      },
      "text/plain": [
       "  0%|          | 0/2000 [00:00<?, ?it/s]"
      ]
     },
     "metadata": {},
     "output_type": "display_data"
    },
    {
     "data": {
      "application/vnd.jupyter.widget-view+json": {
       "model_id": "3c3e616f55954f5285ec1bb7e7ae7e5d",
       "version_major": 2,
       "version_minor": 0
      },
      "text/plain": [
       "  0%|          | 0/2000 [00:00<?, ?it/s]"
      ]
     },
     "metadata": {},
     "output_type": "display_data"
    },
    {
     "data": {
      "application/vnd.jupyter.widget-view+json": {
       "model_id": "86a1a1bf41554ab18b3cd023f7dc2434",
       "version_major": 2,
       "version_minor": 0
      },
      "text/plain": [
       "  0%|          | 0/2000 [00:00<?, ?it/s]"
      ]
     },
     "metadata": {},
     "output_type": "display_data"
    },
    {
     "data": {
      "application/vnd.jupyter.widget-view+json": {
       "model_id": "d85d482f542541dea034614c598e5891",
       "version_major": 2,
       "version_minor": 0
      },
      "text/plain": [
       "  0%|          | 0/2000 [00:00<?, ?it/s]"
      ]
     },
     "metadata": {},
     "output_type": "display_data"
    },
    {
     "data": {
      "application/vnd.jupyter.widget-view+json": {
       "model_id": "4b9e04d7bd2a4b62ba6ef1e47f0b704f",
       "version_major": 2,
       "version_minor": 0
      },
      "text/plain": [
       "  0%|          | 0/2000 [00:00<?, ?it/s]"
      ]
     },
     "metadata": {},
     "output_type": "display_data"
    },
    {
     "data": {
      "application/vnd.jupyter.widget-view+json": {
       "model_id": "2240e4f9b0224774bd300a0f14832875",
       "version_major": 2,
       "version_minor": 0
      },
      "text/plain": [
       "  0%|          | 0/2000 [00:00<?, ?it/s]"
      ]
     },
     "metadata": {},
     "output_type": "display_data"
    },
    {
     "data": {
      "application/vnd.jupyter.widget-view+json": {
       "model_id": "54d4974ceef4467aa85d0e1b39b8d0f3",
       "version_major": 2,
       "version_minor": 0
      },
      "text/plain": [
       "  0%|          | 0/2000 [00:00<?, ?it/s]"
      ]
     },
     "metadata": {},
     "output_type": "display_data"
    },
    {
     "data": {
      "application/vnd.jupyter.widget-view+json": {
       "model_id": "2107848dc3ef4064a87b458ff1b5ac8d",
       "version_major": 2,
       "version_minor": 0
      },
      "text/plain": [
       "  0%|          | 0/2000 [00:00<?, ?it/s]"
      ]
     },
     "metadata": {},
     "output_type": "display_data"
    },
    {
     "data": {
      "application/vnd.jupyter.widget-view+json": {
       "model_id": "702f642987c0433e88b54c0307689d09",
       "version_major": 2,
       "version_minor": 0
      },
      "text/plain": [
       "  0%|          | 0/2000 [00:00<?, ?it/s]"
      ]
     },
     "metadata": {},
     "output_type": "display_data"
    },
    {
     "data": {
      "application/vnd.jupyter.widget-view+json": {
       "model_id": "db63fd811bf74edfbe0c94c562934534",
       "version_major": 2,
       "version_minor": 0
      },
      "text/plain": [
       "  0%|          | 0/2000 [00:00<?, ?it/s]"
      ]
     },
     "metadata": {},
     "output_type": "display_data"
    },
    {
     "data": {
      "application/vnd.jupyter.widget-view+json": {
       "model_id": "07d0f70568de4943a7357e1397bb35c4",
       "version_major": 2,
       "version_minor": 0
      },
      "text/plain": [
       "  0%|          | 0/2000 [00:00<?, ?it/s]"
      ]
     },
     "metadata": {},
     "output_type": "display_data"
    },
    {
     "data": {
      "application/vnd.jupyter.widget-view+json": {
       "model_id": "92bd9745d4ad42c2baf045754c14c956",
       "version_major": 2,
       "version_minor": 0
      },
      "text/plain": [
       "  0%|          | 0/2000 [00:00<?, ?it/s]"
      ]
     },
     "metadata": {},
     "output_type": "display_data"
    },
    {
     "data": {
      "application/vnd.jupyter.widget-view+json": {
       "model_id": "777a83ab0a724df6a9c06ab96ecf5ec0",
       "version_major": 2,
       "version_minor": 0
      },
      "text/plain": [
       "  0%|          | 0/2000 [00:00<?, ?it/s]"
      ]
     },
     "metadata": {},
     "output_type": "display_data"
    },
    {
     "data": {
      "application/vnd.jupyter.widget-view+json": {
       "model_id": "f80d600bf16544458a0103e65d2fa4b9",
       "version_major": 2,
       "version_minor": 0
      },
      "text/plain": [
       "  0%|          | 0/2000 [00:00<?, ?it/s]"
      ]
     },
     "metadata": {},
     "output_type": "display_data"
    },
    {
     "data": {
      "application/vnd.jupyter.widget-view+json": {
       "model_id": "9d5f799b35c94f87ad1848d3698b956d",
       "version_major": 2,
       "version_minor": 0
      },
      "text/plain": [
       "  0%|          | 0/2000 [00:00<?, ?it/s]"
      ]
     },
     "metadata": {},
     "output_type": "display_data"
    },
    {
     "data": {
      "application/vnd.jupyter.widget-view+json": {
       "model_id": "1e866ffb46934b80b119c35e9c9b8d53",
       "version_major": 2,
       "version_minor": 0
      },
      "text/plain": [
       "  0%|          | 0/2000 [00:00<?, ?it/s]"
      ]
     },
     "metadata": {},
     "output_type": "display_data"
    },
    {
     "data": {
      "application/vnd.jupyter.widget-view+json": {
       "model_id": "c00323232ad94a29a8959b95088beda7",
       "version_major": 2,
       "version_minor": 0
      },
      "text/plain": [
       "  0%|          | 0/2000 [00:00<?, ?it/s]"
      ]
     },
     "metadata": {},
     "output_type": "display_data"
    },
    {
     "data": {
      "application/vnd.jupyter.widget-view+json": {
       "model_id": "447a8991ba9f402785566465d4fd4ece",
       "version_major": 2,
       "version_minor": 0
      },
      "text/plain": [
       "  0%|          | 0/2000 [00:00<?, ?it/s]"
      ]
     },
     "metadata": {},
     "output_type": "display_data"
    },
    {
     "data": {
      "application/vnd.jupyter.widget-view+json": {
       "model_id": "bd20df50d35646d293382c223aa3ac2f",
       "version_major": 2,
       "version_minor": 0
      },
      "text/plain": [
       "  0%|          | 0/2000 [00:00<?, ?it/s]"
      ]
     },
     "metadata": {},
     "output_type": "display_data"
    },
    {
     "data": {
      "application/vnd.jupyter.widget-view+json": {
       "model_id": "61bb7ef1e4204faab1f0df027f84ba8b",
       "version_major": 2,
       "version_minor": 0
      },
      "text/plain": [
       "  0%|          | 0/2000 [00:00<?, ?it/s]"
      ]
     },
     "metadata": {},
     "output_type": "display_data"
    },
    {
     "data": {
      "application/vnd.jupyter.widget-view+json": {
       "model_id": "bf637d2922234b709207e0b244a983d2",
       "version_major": 2,
       "version_minor": 0
      },
      "text/plain": [
       "  0%|          | 0/2000 [00:00<?, ?it/s]"
      ]
     },
     "metadata": {},
     "output_type": "display_data"
    },
    {
     "data": {
      "application/vnd.jupyter.widget-view+json": {
       "model_id": "ef0002cd3c8b4da79034d24b116693d3",
       "version_major": 2,
       "version_minor": 0
      },
      "text/plain": [
       "  0%|          | 0/2000 [00:00<?, ?it/s]"
      ]
     },
     "metadata": {},
     "output_type": "display_data"
    },
    {
     "data": {
      "application/vnd.jupyter.widget-view+json": {
       "model_id": "effbb060cf3444d3a27faca35b2b9417",
       "version_major": 2,
       "version_minor": 0
      },
      "text/plain": [
       "  0%|          | 0/2000 [00:00<?, ?it/s]"
      ]
     },
     "metadata": {},
     "output_type": "display_data"
    },
    {
     "data": {
      "application/vnd.jupyter.widget-view+json": {
       "model_id": "8f016943816c4a13934fa34398ea1f65",
       "version_major": 2,
       "version_minor": 0
      },
      "text/plain": [
       "  0%|          | 0/2000 [00:00<?, ?it/s]"
      ]
     },
     "metadata": {},
     "output_type": "display_data"
    },
    {
     "data": {
      "application/vnd.jupyter.widget-view+json": {
       "model_id": "54c83cab1bbd4813847581165ddcaff7",
       "version_major": 2,
       "version_minor": 0
      },
      "text/plain": [
       "  0%|          | 0/2000 [00:00<?, ?it/s]"
      ]
     },
     "metadata": {},
     "output_type": "display_data"
    },
    {
     "data": {
      "application/vnd.jupyter.widget-view+json": {
       "model_id": "4e35aeb248c1423cadbf6c59dba81a14",
       "version_major": 2,
       "version_minor": 0
      },
      "text/plain": [
       "  0%|          | 0/2000 [00:00<?, ?it/s]"
      ]
     },
     "metadata": {},
     "output_type": "display_data"
    },
    {
     "data": {
      "application/vnd.jupyter.widget-view+json": {
       "model_id": "68ab5328912e48f1bf4f846560abf515",
       "version_major": 2,
       "version_minor": 0
      },
      "text/plain": [
       "  0%|          | 0/2000 [00:00<?, ?it/s]"
      ]
     },
     "metadata": {},
     "output_type": "display_data"
    },
    {
     "data": {
      "application/vnd.jupyter.widget-view+json": {
       "model_id": "eb4d92c57647468c8c8e631d94bc6fa4",
       "version_major": 2,
       "version_minor": 0
      },
      "text/plain": [
       "  0%|          | 0/2000 [00:00<?, ?it/s]"
      ]
     },
     "metadata": {},
     "output_type": "display_data"
    },
    {
     "data": {
      "application/vnd.jupyter.widget-view+json": {
       "model_id": "d3c1b3bf0359443699f4a8f109eca1a7",
       "version_major": 2,
       "version_minor": 0
      },
      "text/plain": [
       "  0%|          | 0/2000 [00:00<?, ?it/s]"
      ]
     },
     "metadata": {},
     "output_type": "display_data"
    },
    {
     "data": {
      "application/vnd.jupyter.widget-view+json": {
       "model_id": "0cca721ecbca4f84ae16078d8166d7fe",
       "version_major": 2,
       "version_minor": 0
      },
      "text/plain": [
       "  0%|          | 0/2000 [00:00<?, ?it/s]"
      ]
     },
     "metadata": {},
     "output_type": "display_data"
    },
    {
     "data": {
      "application/vnd.jupyter.widget-view+json": {
       "model_id": "040d6dcadc74454db9f5e2487654f31e",
       "version_major": 2,
       "version_minor": 0
      },
      "text/plain": [
       "  0%|          | 0/2000 [00:00<?, ?it/s]"
      ]
     },
     "metadata": {},
     "output_type": "display_data"
    },
    {
     "data": {
      "application/vnd.jupyter.widget-view+json": {
       "model_id": "934e1c254efd40dabc6c344baf9added",
       "version_major": 2,
       "version_minor": 0
      },
      "text/plain": [
       "  0%|          | 0/2000 [00:00<?, ?it/s]"
      ]
     },
     "metadata": {},
     "output_type": "display_data"
    },
    {
     "data": {
      "application/vnd.jupyter.widget-view+json": {
       "model_id": "64b5ac9091b4497696036f18d4e04b68",
       "version_major": 2,
       "version_minor": 0
      },
      "text/plain": [
       "  0%|          | 0/2000 [00:00<?, ?it/s]"
      ]
     },
     "metadata": {},
     "output_type": "display_data"
    },
    {
     "data": {
      "application/vnd.jupyter.widget-view+json": {
       "model_id": "1fc601340d534bddb93217ac20ebcd1c",
       "version_major": 2,
       "version_minor": 0
      },
      "text/plain": [
       "  0%|          | 0/2000 [00:00<?, ?it/s]"
      ]
     },
     "metadata": {},
     "output_type": "display_data"
    },
    {
     "data": {
      "application/vnd.jupyter.widget-view+json": {
       "model_id": "c3ecbc1d19cf44b5aa4a955745174d75",
       "version_major": 2,
       "version_minor": 0
      },
      "text/plain": [
       "  0%|          | 0/2000 [00:00<?, ?it/s]"
      ]
     },
     "metadata": {},
     "output_type": "display_data"
    },
    {
     "data": {
      "application/vnd.jupyter.widget-view+json": {
       "model_id": "153de4950842433f8e2486c8992af652",
       "version_major": 2,
       "version_minor": 0
      },
      "text/plain": [
       "  0%|          | 0/2000 [00:00<?, ?it/s]"
      ]
     },
     "metadata": {},
     "output_type": "display_data"
    },
    {
     "data": {
      "application/vnd.jupyter.widget-view+json": {
       "model_id": "882fe5a64c6b47a0ad4cde82168a923c",
       "version_major": 2,
       "version_minor": 0
      },
      "text/plain": [
       "  0%|          | 0/2000 [00:00<?, ?it/s]"
      ]
     },
     "metadata": {},
     "output_type": "display_data"
    },
    {
     "data": {
      "application/vnd.jupyter.widget-view+json": {
       "model_id": "17f552b23d69499b9904990c7f41d9bc",
       "version_major": 2,
       "version_minor": 0
      },
      "text/plain": [
       "  0%|          | 0/2000 [00:00<?, ?it/s]"
      ]
     },
     "metadata": {},
     "output_type": "display_data"
    },
    {
     "data": {
      "application/vnd.jupyter.widget-view+json": {
       "model_id": "716e2414ad2249bb94ebba98867936b9",
       "version_major": 2,
       "version_minor": 0
      },
      "text/plain": [
       "  0%|          | 0/2000 [00:00<?, ?it/s]"
      ]
     },
     "metadata": {},
     "output_type": "display_data"
    },
    {
     "data": {
      "application/vnd.jupyter.widget-view+json": {
       "model_id": "7a3a17ae602b47d98d377da92e61026b",
       "version_major": 2,
       "version_minor": 0
      },
      "text/plain": [
       "  0%|          | 0/2000 [00:00<?, ?it/s]"
      ]
     },
     "metadata": {},
     "output_type": "display_data"
    },
    {
     "data": {
      "application/vnd.jupyter.widget-view+json": {
       "model_id": "b0b80602821e43409765ed37b912dd97",
       "version_major": 2,
       "version_minor": 0
      },
      "text/plain": [
       "  0%|          | 0/2000 [00:00<?, ?it/s]"
      ]
     },
     "metadata": {},
     "output_type": "display_data"
    },
    {
     "data": {
      "application/vnd.jupyter.widget-view+json": {
       "model_id": "c5c557735e8a45a1b648732744497985",
       "version_major": 2,
       "version_minor": 0
      },
      "text/plain": [
       "  0%|          | 0/2000 [00:00<?, ?it/s]"
      ]
     },
     "metadata": {},
     "output_type": "display_data"
    },
    {
     "data": {
      "application/vnd.jupyter.widget-view+json": {
       "model_id": "b151923d7c384d949ec4f0ee67cf688d",
       "version_major": 2,
       "version_minor": 0
      },
      "text/plain": [
       "  0%|          | 0/2000 [00:00<?, ?it/s]"
      ]
     },
     "metadata": {},
     "output_type": "display_data"
    },
    {
     "data": {
      "application/vnd.jupyter.widget-view+json": {
       "model_id": "c96ca1cec49e44dba4dbe9bd15c0cdf5",
       "version_major": 2,
       "version_minor": 0
      },
      "text/plain": [
       "  0%|          | 0/2000 [00:00<?, ?it/s]"
      ]
     },
     "metadata": {},
     "output_type": "display_data"
    },
    {
     "data": {
      "application/vnd.jupyter.widget-view+json": {
       "model_id": "5228dbc098fa40d3aba4aad27101df66",
       "version_major": 2,
       "version_minor": 0
      },
      "text/plain": [
       "  0%|          | 0/2000 [00:00<?, ?it/s]"
      ]
     },
     "metadata": {},
     "output_type": "display_data"
    },
    {
     "data": {
      "application/vnd.jupyter.widget-view+json": {
       "model_id": "db9a3e0acfaa43b5850fc15d1f9cf813",
       "version_major": 2,
       "version_minor": 0
      },
      "text/plain": [
       "  0%|          | 0/2000 [00:00<?, ?it/s]"
      ]
     },
     "metadata": {},
     "output_type": "display_data"
    },
    {
     "data": {
      "application/vnd.jupyter.widget-view+json": {
       "model_id": "12807dc0d20148369dab18e83d598c55",
       "version_major": 2,
       "version_minor": 0
      },
      "text/plain": [
       "  0%|          | 0/2000 [00:00<?, ?it/s]"
      ]
     },
     "metadata": {},
     "output_type": "display_data"
    },
    {
     "data": {
      "application/vnd.jupyter.widget-view+json": {
       "model_id": "abcfc313672549a98161d37ef83a4b39",
       "version_major": 2,
       "version_minor": 0
      },
      "text/plain": [
       "  0%|          | 0/2000 [00:00<?, ?it/s]"
      ]
     },
     "metadata": {},
     "output_type": "display_data"
    },
    {
     "data": {
      "application/vnd.jupyter.widget-view+json": {
       "model_id": "394a3ac277624fd2b519ea58284063c3",
       "version_major": 2,
       "version_minor": 0
      },
      "text/plain": [
       "  0%|          | 0/2000 [00:00<?, ?it/s]"
      ]
     },
     "metadata": {},
     "output_type": "display_data"
    },
    {
     "data": {
      "application/vnd.jupyter.widget-view+json": {
       "model_id": "bee21e096ffa4f80a1f6a9dac3ec4bbb",
       "version_major": 2,
       "version_minor": 0
      },
      "text/plain": [
       "  0%|          | 0/2000 [00:00<?, ?it/s]"
      ]
     },
     "metadata": {},
     "output_type": "display_data"
    },
    {
     "data": {
      "application/vnd.jupyter.widget-view+json": {
       "model_id": "b12a5fc7b21e44248017c2d603e5bc07",
       "version_major": 2,
       "version_minor": 0
      },
      "text/plain": [
       "  0%|          | 0/2000 [00:00<?, ?it/s]"
      ]
     },
     "metadata": {},
     "output_type": "display_data"
    },
    {
     "data": {
      "application/vnd.jupyter.widget-view+json": {
       "model_id": "6fb310a6d7d04be5a29e6ee5b150c87c",
       "version_major": 2,
       "version_minor": 0
      },
      "text/plain": [
       "  0%|          | 0/2000 [00:00<?, ?it/s]"
      ]
     },
     "metadata": {},
     "output_type": "display_data"
    },
    {
     "data": {
      "application/vnd.jupyter.widget-view+json": {
       "model_id": "c06219fe9cb24e6ba38c3a6185ea2d09",
       "version_major": 2,
       "version_minor": 0
      },
      "text/plain": [
       "  0%|          | 0/2000 [00:00<?, ?it/s]"
      ]
     },
     "metadata": {},
     "output_type": "display_data"
    },
    {
     "data": {
      "application/vnd.jupyter.widget-view+json": {
       "model_id": "0155b857a3b74fa6aee1b557bb33adb2",
       "version_major": 2,
       "version_minor": 0
      },
      "text/plain": [
       "  0%|          | 0/2000 [00:00<?, ?it/s]"
      ]
     },
     "metadata": {},
     "output_type": "display_data"
    },
    {
     "data": {
      "application/vnd.jupyter.widget-view+json": {
       "model_id": "5fee45c173cf44a784bcc01d66a878b2",
       "version_major": 2,
       "version_minor": 0
      },
      "text/plain": [
       "  0%|          | 0/2000 [00:00<?, ?it/s]"
      ]
     },
     "metadata": {},
     "output_type": "display_data"
    },
    {
     "data": {
      "application/vnd.jupyter.widget-view+json": {
       "model_id": "e0189a5683b343a6ab1930e185241f34",
       "version_major": 2,
       "version_minor": 0
      },
      "text/plain": [
       "Inverse transforming:   0%|          | 0/40 [00:00<?, ?it/s]"
      ]
     },
     "metadata": {},
     "output_type": "display_data"
    },
    {
     "name": "stderr",
     "output_type": "stream",
     "text": [
      "2024-10-17 17:13:01.091 | INFO     | sdgx.data_processors.transformers.nan:reverse_convert:155 - Data reverse-converted by NonValueTransformer.\n",
      "2024-10-17 17:13:01.317 | INFO     | sdgx.data_processors.transformers.outlier:reverse_convert:120 - Data reverse-converted by OutlierTransformer (No Action).\n",
      "2024-10-17 17:14:14.416 | INFO     | sdgx.data_processors.formatters.int:reverse_convert:64 - Data reverse-converted by IntValueFormatter.\n",
      "2024-10-17 17:14:14.420 | INFO     | sdgx.data_processors.formatters.datetime:reverse_convert:165 - Data reverse-converting by DatetimeFormatter...\n",
      "2024-10-17 17:14:14.421 | INFO     | sdgx.data_processors.formatters.datetime:reverse_convert:167 - parameters : ['ResearchProject_TABLE_end_date', 'BookLoan_TABLE_loan_date', 'ResearchProject_TABLE_start_date', 'Student_TABLE_date_of_birth', 'BookLoan_TABLE_return_date'], {'ResearchProject_TABLE_end_date': '%Y-%m-%d', 'BookLoan_TABLE_loan_date': '%Y-%m-%d', 'ResearchProject_TABLE_start_date': '%Y-%m-%d', 'Student_TABLE_date_of_birth': '%Y-%m-%d', 'BookLoan_TABLE_return_date': '%Y-%m-%d', ('Submission', 'submission_date'): '%Y-%m-%d %H:%M:%S', ('Schedule', 'time_slot'): '%H:%M:%S'}\n",
      "2024-10-17 17:14:16.416 | INFO     | sdgx.data_processors.formatters.datetime:reverse_convert:173 - Data reverse-converted by DatetimeFormatter... Finished.\n",
      "2024-10-17 17:14:16.433 | INFO     | sdgx.data_processors.transformers.const:reverse_convert:103 - Data reverse-converted by ConstValueTransformer.\n",
      "2024-10-17 17:14:16.434 | INFO     | sdgx.data_processors.transformers.empty:reverse_convert:98 - Data reverse-converted by EmptyTransformer.\n",
      "2024-10-17 17:14:16.479 | INFO     | sdgx.data_processors.transformers.column_order:reverse_convert:62 - Data reverse-converted by ColumnOrderTransformer.\n"
     ]
    }
   ],
   "source": [
    "synthetic_ctgan_data : DataFrame = multi_wrapper.sample(100000)"
   ]
  },
  {
   "cell_type": "code",
   "execution_count": 8,
   "metadata": {
    "ExecuteTime": {
     "end_time": "2024-10-16T08:26:10.492483Z",
     "start_time": "2024-10-16T08:26:10.162648Z"
    }
   },
   "outputs": [],
   "source": [
    "import pickle\n",
    "from mycode.test_20_tables import fetch_data_from_sqlite_filterx\n",
    "metadatasdv, _ = fetch_data_from_sqlite_filterx(x_args,path=db_path) \n",
    "with open('test_data.pickle', 'wb') as f:\n",
    "    pickle.dump(\n",
    "        metadatasdv.to_dict()\n",
    "    , f)"
   ]
  },
  {
   "cell_type": "code",
   "execution_count": 9,
   "metadata": {
    "ExecuteTime": {
     "end_time": "2024-10-16T08:19:13.145594Z",
     "start_time": "2024-10-16T08:19:12.737706Z"
    }
   },
   "outputs": [],
   "source": [
    "# from mycode.test_20_tables import fetch_data_from_sqlite_filterx\n",
    "# from mycode.sdv.evaluation import evaluate\n",
    "# real_ctgan_data = multi_wrapper.origin_tables\n",
    "# \n",
    "# ret = evaluate(synthetic_ctgan_data, real_ctgan_data,metadatasdv, aggregate=False)\n",
    "# print(ret.normalized_score.mean())\n",
    "# ret"
   ]
  },
  {
   "cell_type": "code",
   "execution_count": 10,
   "metadata": {
    "ExecuteTime": {
     "end_time": "2024-10-16T08:20:17.071711Z",
     "start_time": "2024-10-16T08:20:17.060744Z"
    }
   },
   "outputs": [
    {
     "data": {
      "text/plain": [
       "['BookLoan',\n",
       " 'Book',\n",
       " 'Library',\n",
       " 'Student',\n",
       " 'Enrollment',\n",
       " 'Submission',\n",
       " 'Course',\n",
       " 'CourseTextbook',\n",
       " 'Textbook',\n",
       " 'Schedule',\n",
       " 'Professor',\n",
       " 'ProjectMember',\n",
       " 'ResearchProject',\n",
       " 'ResearchGroup']"
      ]
     },
     "execution_count": 10,
     "metadata": {},
     "output_type": "execute_result"
    }
   ],
   "source": [
    "\n",
    "\n",
    "\n",
    "metadatasdv.get_tables()"
   ]
  },
  {
   "cell_type": "code",
   "execution_count": 11,
   "metadata": {
    "ExecuteTime": {
     "end_time": "2024-10-16T08:19:13.192434Z",
     "start_time": "2024-10-16T08:19:13.162534Z"
    }
   },
   "outputs": [
    {
     "ename": "NameError",
     "evalue": "name 'real_ctgan_data' is not defined",
     "output_type": "error",
     "traceback": [
      "\u001b[0;31m---------------------------------------------------------------------------\u001b[0m",
      "\u001b[0;31mNameError\u001b[0m                                 Traceback (most recent call last)",
      "Cell \u001b[0;32mIn[11], line 1\u001b[0m\n\u001b[0;32m----> 1\u001b[0m \u001b[43mreal_ctgan_data\u001b[49m\n",
      "\u001b[0;31mNameError\u001b[0m: name 'real_ctgan_data' is not defined"
     ]
    }
   ],
   "source": [
    "real_ctgan_data"
   ]
  },
  {
   "cell_type": "code",
   "execution_count": 11,
   "metadata": {
    "ExecuteTime": {
     "end_time": "2024-10-16T08:19:17.861694Z",
     "start_time": "2024-10-16T08:19:17.840760Z"
    }
   },
   "outputs": [
    {
     "data": {
      "text/plain": [
       "{'BookLoan':     return_date   loan_date  loan_id  student_id  book_id\n",
       " 0    2025-05-26  2024-01-28     7316        2613     2958\n",
       " 1    2024-12-08  2024-08-23     3841        2085      789\n",
       " 2    2025-05-15  2024-05-02     6190        2709     5005\n",
       " 3    2025-07-02  2024-07-13     4695        8762     5581\n",
       " 4    2024-12-11  2024-04-19     8434         966     1445\n",
       " ..          ...         ...      ...         ...      ...\n",
       " 995  2024-11-12  2024-09-11     5590        7964     1536\n",
       " 996  2024-10-09  2024-08-05     3360        9883     4374\n",
       " 997  2024-09-16  2024-07-03     1150        8075     6330\n",
       " 998  2025-06-09  2023-12-15     5646        2377     1011\n",
       " 999  2025-04-17  2023-09-18     5301        8431      572\n",
       " \n",
       " [1000 rows x 5 columns],\n",
       " 'Book':                   isbn                  title            author  library_id  \\\n",
       " 0    978-0-665-47728-7       Mouth close any.       David Brown        2707   \n",
       " 1    978-0-7116-9094-3  Sea necessary within.       Mary Cannon        5197   \n",
       " 2    978-0-645-52792-6                 Smile.     Joseph Graham        8892   \n",
       " 3    978-1-167-87113-9   Possible party onto.      Joshua Owens        4586   \n",
       " 4    978-0-304-39077-9           Environment.       Ryan Willis        4441   \n",
       " ..                 ...                    ...               ...         ...   \n",
       " 995  978-0-518-75984-3             Our might.  Jennifer Wheeler        8029   \n",
       " 996  978-0-7439-8541-3           One between.   Natasha Shepard        3002   \n",
       " 997  978-1-06-347949-1  National from policy.      Michael Ward        4228   \n",
       " 998  978-0-09-179896-3   Responsibility hand.        Ivan Scott        1347   \n",
       " 999  978-0-513-44248-1        Rule knowledge.      Debbie Ortiz        1251   \n",
       " \n",
       "      book_id  \n",
       " 0       2958  \n",
       " 1        789  \n",
       " 2       5005  \n",
       " 3       5581  \n",
       " 4       1445  \n",
       " ..       ...  \n",
       " 995     1536  \n",
       " 996     4374  \n",
       " 997     6330  \n",
       " 998     1011  \n",
       " 999      572  \n",
       " \n",
       " [1000 rows x 5 columns],\n",
       " 'Library':                                       name  \\\n",
       " 0      Morales, Hodge and Mitchell Library   \n",
       " 1                        Gomez Inc Library   \n",
       " 2                    Peck and Sons Library   \n",
       " 3    Gregory, Gillespie and Thomas Library   \n",
       " 4                      Zuniga-Cole Library   \n",
       " ..                                     ...   \n",
       " 995                    Zuniga-Cole Library   \n",
       " 996                    Mcgrath Inc Library   \n",
       " 997                  Manning Group Library   \n",
       " 998                    Hickman Ltd Library   \n",
       " 999                      Ray-Burns Library   \n",
       " \n",
       "                                               location  library_id  \n",
       " 0        56730 Donna Forge\\nRodriguezborough, MD 85138        2707  \n",
       " 1     774 Lamb Villages\\nEast Stephanieville, NJ 30415        5197  \n",
       " 2     192 Rowe Fall Apt. 672\\nPort Tanyaport, NH 45008        8892  \n",
       " 3    19237 Gallagher Street Suite 517\\nNorth Adrian...        4586  \n",
       " 4          41714 Douglas Valley\\nWest Autumn, DC 06221        4441  \n",
       " ..                                                 ...         ...  \n",
       " 995  10976 Natasha Ford Apt. 592\\nDanielmouth, IN 1...        8029  \n",
       " 996  5352 Armstrong Valleys Apt. 628\\nDanielland, T...        3002  \n",
       " 997      4744 Jacqueline Island\\nEast Andrew, WY 23065        4228  \n",
       " 998  24926 Harding Plaza Apt. 904\\nWest Brandimouth...        1347  \n",
       " 999              334 Cameron Dale\\nPort Anna, WA 68735        1251  \n",
       " \n",
       " [1000 rows x 3 columns],\n",
       " 'Student':     date_of_birth                           email  major              name  \\\n",
       " 0      2004-12-26     jonathanpineda@anderson.biz   5491      Taylor Green   \n",
       " 1      2003-03-07        stacy65@giles-briggs.com   8747        Maria Meza   \n",
       " 2      2004-10-06          watsonnicole@watts.com   3192         Tara Wood   \n",
       " 3      2006-03-20               roger19@drake.com   5497      Kaitlyn Webb   \n",
       " 4      2006-10-20    johnsonamy@burnett-ellis.com   8433     Karen Mora MD   \n",
       " ..            ...                             ...    ...               ...   \n",
       " 995    1996-06-06             sarah69@johnson.com   8250         Donna Kim   \n",
       " 996    1998-07-22              gloria59@patel.com   7350      Lauren Jones   \n",
       " 997    1997-08-20             mayerdavid@lamb.com   1527     Karina Fisher   \n",
       " 998    1996-11-20       jordanalvarez@spencer.net   2937       Kayla Ramos   \n",
       " 999    2000-08-29  daniel00@gonzalez-humphrey.com   2591  Christopher Hart   \n",
       " \n",
       "      student_id  \n",
       " 0          2613  \n",
       " 1          2085  \n",
       " 2          2709  \n",
       " 3          8762  \n",
       " 4           966  \n",
       " ..          ...  \n",
       " 995        7964  \n",
       " 996        9883  \n",
       " 997        8075  \n",
       " 998        2377  \n",
       " 999        8431  \n",
       " \n",
       " [1000 rows x 5 columns],\n",
       " 'Enrollment':         semester grade  enrollment_id  student_id  course_id\n",
       " 0    Winter 2022     A           5931        2613       2111\n",
       " 1    Summer 2021     A           4208        2085       3674\n",
       " 2    Summer 2022     C           9758        2709       7073\n",
       " 3    Winter 2021                 6487        8762      10275\n",
       " 4    Summer 2019     B           9681         966       5116\n",
       " ..           ...   ...            ...         ...        ...\n",
       " 995  Spring 2020     A           9681        7964       2207\n",
       " 996    Fall 2020     B           7491        9883      10165\n",
       " 997  Summer 2022     D           6377        8075       5245\n",
       " 998  Summer 2023                 6699        2377       3934\n",
       " 999  Winter 2023     C           6441        8431       2318\n",
       " \n",
       " [1000 rows x 5 columns],\n",
       " 'Submission':      submission_date  submission_id  assignment_id grade  student_id\n",
       " 0                NaN           8580           4388     C        2613\n",
       " 1                NaN           1542           1759     A        2085\n",
       " 2                NaN           3262           1062     A        2709\n",
       " 3                NaN           5347           1594     A        8762\n",
       " 4                NaN           5798           3683     A         966\n",
       " ..               ...            ...            ...   ...         ...\n",
       " 995              NaN           4416           6001     I        7964\n",
       " 996              NaN           3913            801     D        9883\n",
       " 997              NaN           5960           5771     C        8075\n",
       " 998              NaN           8405           4100     D        2377\n",
       " 999              NaN           4557           1725     B        8431\n",
       " \n",
       " [1000 rows x 5 columns],\n",
       " 'Course':                              title  department  credits  course_id\n",
       " 0    Policy mission machine power.        1315        4       2111\n",
       " 1               Show safe suggest.        6003        2       3674\n",
       " 2                      Work other.        4996        3       7073\n",
       " 3               Save guy discover.         483        1      10275\n",
       " 4                 Represent small.        6746        4       5116\n",
       " ..                             ...         ...      ...        ...\n",
       " 995             Record court city.        1459        3       2207\n",
       " 996             Raise tell mother.        7169        1      10165\n",
       " 997            National president.        5199        4       5245\n",
       " 998        Practice candidate hot.        7967        3       3934\n",
       " 999                     Gun group.         901        2       2318\n",
       " \n",
       " [1000 rows x 4 columns],\n",
       " 'CourseTextbook':      textbook_id  course_id\n",
       " 0           4113       2111\n",
       " 1           5125       3674\n",
       " 2            664       7073\n",
       " 3           2340      10275\n",
       " 4           5176       5116\n",
       " ..           ...        ...\n",
       " 995         3476       2207\n",
       " 996         2496      10165\n",
       " 997         2044       5245\n",
       " 998         2432       3934\n",
       " 999         6032       2318\n",
       " \n",
       " [1000 rows x 2 columns],\n",
       " 'Textbook':                   isbn                               title  \\\n",
       " 0    978-0-929465-98-2               Sister situation bag.   \n",
       " 1    978-0-428-77994-8                Investment movement.   \n",
       " 2    978-0-7222-7197-1                               Land.   \n",
       " 3    978-0-8432-9305-0                Popular write prove.   \n",
       " 4    978-0-12-106707-6                       College term.   \n",
       " ..                 ...                                 ...   \n",
       " 995  978-0-908090-21-1                  Himself scientist.   \n",
       " 996  978-0-8133-8662-1                       Pretty hotel.   \n",
       " 997  978-1-04-671767-1  Industry science measure practice.   \n",
       " 998  978-0-9553561-6-2                     Computer these.   \n",
       " 999  978-1-270-48410-3                     Him beat white.   \n",
       " \n",
       "                  author  textbook_id  \n",
       " 0            Megan Byrd         4113  \n",
       " 1          Heidi Larsen         5125  \n",
       " 2        Jonathan Lopez          664  \n",
       " 3       Joshua Andersen         2340  \n",
       " 4           Jesus Small         5176  \n",
       " ..                  ...          ...  \n",
       " 995      Aaron Anderson         3476  \n",
       " 996  Christopher Morris         2496  \n",
       " 997    Calvin Gallagher         2044  \n",
       " 998      Cameron Bright         2432  \n",
       " 999      Aaron Anderson         6032  \n",
       " \n",
       " [1000 rows x 4 columns],\n",
       " 'Schedule':      room  time_slot  schedule_id  course_id  professor_id\n",
       " 0    -499        NaN         6266       2111          1966\n",
       " 1    -178        NaN         6662       3674          8282\n",
       " 2    -209        NaN         2187       7073          -397\n",
       " 3     -14        NaN         9635      10275          1838\n",
       " 4    3994        NaN         1267       5116          8983\n",
       " ..    ...        ...          ...        ...           ...\n",
       " 995  1394        NaN        10174       2207          6555\n",
       " 996   611        NaN         9637      10165          5554\n",
       " 997  -599        NaN         2792       5245          4881\n",
       " 998  6430        NaN         6035       3934          3600\n",
       " 999  -494        NaN         1855       2318          7532\n",
       " \n",
       " [1000 rows x 5 columns],\n",
       " 'Professor':                           email  department               name  professor_id\n",
       " 0           jennifer28@beck.com       10663     Jonathan Mckee          1966\n",
       " 1             james11@clark.com        4727    Kevin Schneider          8282\n",
       " 2        glen89@warren-lamb.com        5599     Robert Solomon          -397\n",
       " 3            fdavid@russell.net        9096    Morgan Williams          1838\n",
       " 4      ramirezalyssa@ritter.biz        8188  Kathleen Cantrell          8983\n",
       " ..                          ...         ...                ...           ...\n",
       " 995  eileen89@todd-marshall.net        8715      Jennifer Cobb          6555\n",
       " 996  jenniferjohnson@medina.com        6656    Joshua Richards          5554\n",
       " 997     cookcassandra@smith.com        4893      Douglas Hines          4881\n",
       " 998       gonzalezcaleb@day.com        2016      Melinda Stone          3600\n",
       " 999       spencer51@montoya.com        5348    Dominic Johnson          7532\n",
       " \n",
       " [1000 rows x 4 columns]}"
      ]
     },
     "execution_count": 11,
     "metadata": {},
     "output_type": "execute_result"
    }
   ],
   "source": [
    "synthetic_ctgan_data"
   ]
  },
  {
   "cell_type": "code",
   "execution_count": null,
   "metadata": {},
   "outputs": [],
   "source": []
  }
 ],
 "metadata": {
  "kernelspec": {
   "display_name": "sdg10",
   "language": "python",
   "name": "python3"
  },
  "language_info": {
   "codemirror_mode": {
    "name": "ipython",
    "version": 3
   },
   "file_extension": ".py",
   "mimetype": "text/x-python",
   "name": "python",
   "nbconvert_exporter": "python",
   "pygments_lexer": "ipython3",
   "version": "3.10.14"
  }
 },
 "nbformat": 4,
 "nbformat_minor": 2
}
