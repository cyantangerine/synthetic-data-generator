{
 "cells": [
  {
   "cell_type": "code",
   "id": "initial_id",
   "metadata": {
    "collapsed": true
   },
   "source": [
    "from mycode.multi_ctgan import MultiTableCTGAN\n",
    "from mycode import dataset\n",
    "db_path = dataset.DatabaseTest.path_10k\n",
    "x_args = dataset.x_args_type(**dataset.XArgs.tables_14._asdict())\n",
    "from mycode.dataset import XMetaBuilder\n",
    "# for i in range(10,21,5):\n",
    "if True:\n",
    "    i = 10 # 10, 15, 20\n",
    "    print(i)\n",
    "    mmm = MultiTableCTGAN(\n",
    "        temp_name=f'10k14t{i}a',\n",
    "        db_path=db_path,\n",
    "        x_table=x_args.x_table,\n",
    "        x_key=x_args.x_key,\n",
    "        x_how=x_args.x_how\n",
    "    ).init(add_cols_num=i)\n",
    "    mmm.save_add_data(f\"./mycode/testcode/{mmm.TABLE_TEMP_NAME}.pkl\")\n",
    "    mmm.build_metadata(builder=XMetaBuilder(x_args))\n",
    "    mmm.fit(device=\"cpu\", batch_size=2000)\n",
    "    for ss in range(2):\n",
    "        num = 1000 * (10 ** ss) # 1000, 10000, 100000\n",
    "        df = mmm.sample(num)\n",
    "        mmm.evaluate(x_args, df, str(num))"
   ],
   "outputs": [],
   "execution_count": null
  },
  {
   "metadata": {},
   "cell_type": "code",
   "source": "",
   "id": "e5bec45cf9739077",
   "outputs": [],
   "execution_count": null
  }
 ],
 "metadata": {
  "kernelspec": {
   "display_name": "Python 3",
   "language": "python",
   "name": "python3"
  },
  "language_info": {
   "codemirror_mode": {
    "name": "ipython",
    "version": 2
   },
   "file_extension": ".py",
   "mimetype": "text/x-python",
   "name": "python",
   "nbconvert_exporter": "python",
   "pygments_lexer": "ipython2",
   "version": "2.7.6"
  }
 },
 "nbformat": 4,
 "nbformat_minor": 5
}
