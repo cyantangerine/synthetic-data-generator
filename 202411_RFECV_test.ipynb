{
 "cells": [
  {
   "metadata": {
    "ExecuteTime": {
     "end_time": "2024-11-22T14:20:12.331119Z",
     "start_time": "2024-11-22T14:20:10.357166Z"
    }
   },
   "cell_type": "code",
   "source": [
    "from mycode.multi_rfe_ctgan import MultiTableRfecvCTGAN\n",
    "from mycode import dataset\n",
    "from mycode.testcode import Xargs\n",
    "\n",
    "db_path = dataset.DatabaseTest.path_10k\n",
    "db_level = db_path[db_path.rfind(\"/\") + 1:db_path.rfind(\".db\")]\n",
    "table_level = '6'\n",
    "x_args = Xargs.XArgs.tables_6\n",
    "from mycode.testcode.Xargs import XMetaBuilder\n",
    "# exclude_processor=['specificcombinationtransformer', 'fixedcombinationtransformer', 'positivenegativefilter']\n",
    "model = MultiTableRfecvCTGAN(db_path=db_path, x_args=x_args)\n",
    "model.init(meta_builder=XMetaBuilder(x_args))\n",
    "model.to_training"
   ],
   "id": "936febaab5b53cef",
   "outputs": [
    {
     "name": "stderr",
     "output_type": "stream",
     "text": [
      "C:\\Users\\Elvin\\Desktop\\GitHub\\synthetic-data-generator\\sdgx\\models\\components\\optimize\\sdv_ctgan\\data_sampler.py:6: TqdmExperimentalWarning: Using `tqdm.autonotebook.tqdm` in notebook mode. Use `tqdm.tqdm` instead to force console mode (e.g. in jupyter console)\n",
      "  from tqdm import autonotebook as tqdm\n",
      "\u001B[32m2024-11-22 22:20:11.995\u001B[0m | \u001B[1mINFO    \u001B[0m | \u001B[36mmycode.multi_rfe_ctgan\u001B[0m:\u001B[36m__init__\u001B[0m:\u001B[36m64\u001B[0m - \u001B[1mUsing data processors: ['specificcombinationtransformer', 'fixedcombinationtransformer', 'nonvaluetransformer', 'outliertransformer', 'emailgenerator', 'chnpiigenerator', 'intvalueformatter', 'datetimeformatter', 'constvaluetransformer', 'positivenegativefilter', 'emptytransformer', 'columnordertransformer']\u001B[0m\n"
     ]
    },
    {
     "ename": "AttributeError",
     "evalue": "'MultiTableCTGAN' object has no attribute 'column_name_encode'",
     "output_type": "error",
     "traceback": [
      "\u001B[1;31m---------------------------------------------------------------------------\u001B[0m",
      "\u001B[1;31mAttributeError\u001B[0m                            Traceback (most recent call last)",
      "Cell \u001B[1;32mIn[2], line 12\u001B[0m\n\u001B[0;32m     10\u001B[0m \u001B[38;5;66;03m# exclude_processor=['specificcombinationtransformer', 'fixedcombinationtransformer', 'positivenegativefilter']\u001B[39;00m\n\u001B[0;32m     11\u001B[0m model \u001B[38;5;241m=\u001B[39m MultiTableRfecvCTGAN(db_path\u001B[38;5;241m=\u001B[39mdb_path, x_args\u001B[38;5;241m=\u001B[39mx_args)\n\u001B[1;32m---> 12\u001B[0m \u001B[43mmodel\u001B[49m\u001B[38;5;241;43m.\u001B[39;49m\u001B[43minit\u001B[49m\u001B[43m(\u001B[49m\u001B[43mmeta_builder\u001B[49m\u001B[38;5;241;43m=\u001B[39;49m\u001B[43mXMetaBuilder\u001B[49m\u001B[43m(\u001B[49m\u001B[43mx_args\u001B[49m\u001B[43m)\u001B[49m\u001B[43m)\u001B[49m\n\u001B[0;32m     13\u001B[0m model\u001B[38;5;241m.\u001B[39mto_training\n",
      "File \u001B[1;32m~\\Desktop\\GitHub\\synthetic-data-generator\\mycode\\multi_rfe_ctgan.py:75\u001B[0m, in \u001B[0;36mMultiTableRfecvCTGAN.init\u001B[1;34m(self, add_cols_num, added_data_path, meta_builder)\u001B[0m\n\u001B[0;32m     74\u001B[0m \u001B[38;5;28;01mdef\u001B[39;00m \u001B[38;5;21minit\u001B[39m(\u001B[38;5;28mself\u001B[39m, add_cols_num\u001B[38;5;241m=\u001B[39m\u001B[38;5;241m0\u001B[39m, added_data_path\u001B[38;5;241m=\u001B[39m\u001B[38;5;28;01mFalse\u001B[39;00m, meta_builder: MetaBuilder \u001B[38;5;241m=\u001B[39m \u001B[38;5;28;01mNone\u001B[39;00m):\n\u001B[1;32m---> 75\u001B[0m     \u001B[38;5;28;43mself\u001B[39;49m\u001B[38;5;241;43m.\u001B[39;49m\u001B[43mmulti_x_join\u001B[49m\u001B[38;5;241;43m.\u001B[39;49m\u001B[43minit\u001B[49m\u001B[43m(\u001B[49m\u001B[43madd_cols_num\u001B[49m\u001B[38;5;241;43m=\u001B[39;49m\u001B[43madd_cols_num\u001B[49m\u001B[43m,\u001B[49m\u001B[43m \u001B[49m\u001B[43madded_data_path\u001B[49m\u001B[38;5;241;43m=\u001B[39;49m\u001B[43madded_data_path\u001B[49m\u001B[43m)\u001B[49m\n\u001B[0;32m     76\u001B[0m     \u001B[38;5;28mself\u001B[39m\u001B[38;5;241m.\u001B[39mmeta_builder \u001B[38;5;241m=\u001B[39m meta_builder\n\u001B[0;32m     78\u001B[0m     \u001B[38;5;28;01mdef\u001B[39;00m \u001B[38;5;21mgenerator\u001B[39m():\n",
      "File \u001B[1;32m~\\Desktop\\GitHub\\synthetic-data-generator\\mycode\\multi_ctgan.py:124\u001B[0m, in \u001B[0;36mMultiTableCTGAN.init\u001B[1;34m(self, add_cols_num, added_data_path)\u001B[0m\n\u001B[0;32m    121\u001B[0m reference_columns \u001B[38;5;241m=\u001B[39m join_keys\u001B[38;5;241m.\u001B[39mintersection(table_columns)\n\u001B[0;32m    123\u001B[0m \u001B[38;5;28;01mif\u001B[39;00m unique_columns:\n\u001B[1;32m--> 124\u001B[0m     convert_columns \u001B[38;5;241m=\u001B[39m {x: \u001B[38;5;28mself\u001B[39m\u001B[38;5;241m.\u001B[39mcolumn_name_encode(table_name, x) \u001B[38;5;28;01mfor\u001B[39;00m x \u001B[38;5;129;01min\u001B[39;00m unique_columns}\n\u001B[0;32m    125\u001B[0m     current_table \u001B[38;5;241m=\u001B[39m current_table\u001B[38;5;241m.\u001B[39mrename(columns\u001B[38;5;241m=\u001B[39mconvert_columns)\n\u001B[0;32m    126\u001B[0m     \u001B[38;5;28mself\u001B[39m\u001B[38;5;241m.\u001B[39mjoin_columns_map[table_name]\u001B[38;5;241m.\u001B[39mupdate({\n\u001B[0;32m    127\u001B[0m         value: key \u001B[38;5;28;01mfor\u001B[39;00m key, value \u001B[38;5;129;01min\u001B[39;00m convert_columns\u001B[38;5;241m.\u001B[39mitems()\n\u001B[0;32m    128\u001B[0m     })\n",
      "File \u001B[1;32m~\\Desktop\\GitHub\\synthetic-data-generator\\mycode\\multi_ctgan.py:124\u001B[0m, in \u001B[0;36m<dictcomp>\u001B[1;34m(.0)\u001B[0m\n\u001B[0;32m    121\u001B[0m reference_columns \u001B[38;5;241m=\u001B[39m join_keys\u001B[38;5;241m.\u001B[39mintersection(table_columns)\n\u001B[0;32m    123\u001B[0m \u001B[38;5;28;01mif\u001B[39;00m unique_columns:\n\u001B[1;32m--> 124\u001B[0m     convert_columns \u001B[38;5;241m=\u001B[39m {x: \u001B[38;5;28;43mself\u001B[39;49m\u001B[38;5;241;43m.\u001B[39;49m\u001B[43mcolumn_name_encode\u001B[49m(table_name, x) \u001B[38;5;28;01mfor\u001B[39;00m x \u001B[38;5;129;01min\u001B[39;00m unique_columns}\n\u001B[0;32m    125\u001B[0m     current_table \u001B[38;5;241m=\u001B[39m current_table\u001B[38;5;241m.\u001B[39mrename(columns\u001B[38;5;241m=\u001B[39mconvert_columns)\n\u001B[0;32m    126\u001B[0m     \u001B[38;5;28mself\u001B[39m\u001B[38;5;241m.\u001B[39mjoin_columns_map[table_name]\u001B[38;5;241m.\u001B[39mupdate({\n\u001B[0;32m    127\u001B[0m         value: key \u001B[38;5;28;01mfor\u001B[39;00m key, value \u001B[38;5;129;01min\u001B[39;00m convert_columns\u001B[38;5;241m.\u001B[39mitems()\n\u001B[0;32m    128\u001B[0m     })\n",
      "\u001B[1;31mAttributeError\u001B[0m: 'MultiTableCTGAN' object has no attribute 'column_name_encode'"
     ]
    }
   ],
   "execution_count": 2
  },
  {
   "metadata": {
    "ExecuteTime": {
     "end_time": "2024-11-22T14:20:12.332109Z",
     "start_time": "2024-11-22T14:20:12.332109Z"
    }
   },
   "cell_type": "code",
   "source": [
    "for i in range(len(model.to_training)):\n",
    "    tbn = model.to_training[i].table_name\n",
    "    if model.to_training[i].tables is None:\n",
    "        print(tbn)\n",
    "        continue\n",
    "    print(tbn, len(model.multi_x_join.origin_tables[tbn].columns),\n",
    "          len(model.to_training[i].tables.columns),\n",
    "          {\n",
    "              k: len(v) for k, v in model.to_training[i].target_column_name_selected_map.items()\n",
    "          }, model.to_training[i].tables.columns)"
   ],
   "id": "8ec8503a43f4a003",
   "outputs": [],
   "execution_count": null
  },
  {
   "metadata": {},
   "cell_type": "code",
   "source": "model.fit()",
   "id": "d5e65732f1018a13",
   "outputs": [],
   "execution_count": null
  },
  {
   "metadata": {},
   "cell_type": "code",
   "source": "data = model.sample(1000)",
   "id": "6b66544301dbe22a",
   "outputs": [],
   "execution_count": null
  },
  {
   "metadata": {},
   "cell_type": "code",
   "source": [
    "for k in data:\n",
    "    print(k, len(data[k]))"
   ],
   "id": "538dda3c6a45078d",
   "outputs": [],
   "execution_count": null
  },
  {
   "metadata": {},
   "cell_type": "code",
   "source": "data[\"BookLoan\"]",
   "id": "7066a12565e2efc7",
   "outputs": [],
   "execution_count": null
  },
  {
   "metadata": {},
   "cell_type": "code",
   "source": "s1 = (data[\"BookLoan\"][\"student_id\"])",
   "id": "516b942d985f295f",
   "outputs": [],
   "execution_count": null
  },
  {
   "metadata": {},
   "cell_type": "code",
   "source": "s2 = (data[\"Student\"][\"student_id\"])",
   "id": "d8cac4e01d6d571c",
   "outputs": [],
   "execution_count": null
  },
  {
   "metadata": {},
   "cell_type": "code",
   "source": "s1.equals(s2)",
   "id": "27a18089dca19c80",
   "outputs": [],
   "execution_count": null
  },
  {
   "metadata": {},
   "cell_type": "code",
   "source": "model.evaluate(x_args, data)",
   "id": "cafb906a994d0eb6",
   "outputs": [],
   "execution_count": null
  },
  {
   "metadata": {},
   "cell_type": "code",
   "source": "",
   "id": "7510d206b19a0ae0",
   "outputs": [],
   "execution_count": null
  },
  {
   "metadata": {},
   "cell_type": "code",
   "source": "",
   "id": "fb0d383f96116aa1",
   "outputs": [],
   "execution_count": null
  },
  {
   "metadata": {},
   "cell_type": "code",
   "source": "",
   "id": "6c8f2d744e7ab19e",
   "outputs": [],
   "execution_count": null
  }
 ],
 "metadata": {
  "kernelspec": {
   "display_name": "Python 3",
   "language": "python",
   "name": "python3"
  },
  "language_info": {
   "codemirror_mode": {
    "name": "ipython",
    "version": 2
   },
   "file_extension": ".py",
   "mimetype": "text/x-python",
   "name": "python",
   "nbconvert_exporter": "python",
   "pygments_lexer": "ipython2",
   "version": "2.7.6"
  }
 },
 "nbformat": 4,
 "nbformat_minor": 5
}
