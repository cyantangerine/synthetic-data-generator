{
 "cells": [
  {
   "metadata": {
    "ExecuteTime": {
     "end_time": "2024-11-17T14:53:34.996589Z",
     "start_time": "2024-11-17T14:53:30.263723Z"
    }
   },
   "cell_type": "code",
   "source": [
    "from mycode.multi_rfe_ctgan import MultiTableRfecvCTGAN\n",
    "from mycode import dataset\n",
    "from mycode.testcode import Xargs\n",
    "\n",
    "db_path = dataset.DatabaseTest.path_1k\n",
    "db_level = db_path[db_path.rfind(\"/\")+1:db_path.rfind(\".db\")]\n",
    "table_level = '6'\n",
    "x_args = Xargs.XArgs.tables_6\n",
    "from mycode.dataset import XMetaBuilder\n",
    "\n",
    "model = MultiTableRfecvCTGAN(db_path=db_path, x_args=x_args)\n",
    "model.init(meta_builder=XMetaBuilder(x_args))\n",
    "model.to_training"
   ],
   "id": "936febaab5b53cef",
   "outputs": [
    {
     "name": "stderr",
     "output_type": "stream",
     "text": [
      "\u001B[32m2024-11-17 22:53:33.123\u001B[0m | \u001B[1mINFO    \u001B[0m | \u001B[36mmycode.multi_rfe_ctgan\u001B[0m:\u001B[36m__init__\u001B[0m:\u001B[36m47\u001B[0m - \u001B[1mUsing data processors: ['nonvaluetransformer', 'outliertransformer', 'emailgenerator', 'chnpiigenerator', 'intvalueformatter', 'datetimeformatter', 'constvaluetransformer', 'emptytransformer', 'columnordertransformer']\u001B[0m\n",
      "\u001B[32m2024-11-17 22:53:33.222\u001B[0m | \u001B[1mINFO    \u001B[0m | \u001B[36msdgx.data_models.metadata\u001B[0m:\u001B[36mfrom_dataloader\u001B[0m:\u001B[36m294\u001B[0m - \u001B[1mInspecting metadata...\u001B[0m\n"
     ]
    },
    {
     "name": "stdout",
     "output_type": "stream",
     "text": [
      "1000 1000 1000 1000 1006 1121 \n",
      "1121 lines x 23 columns\n"
     ]
    },
    {
     "name": "stderr",
     "output_type": "stream",
     "text": [
      "\u001B[32m2024-11-17 22:53:33.604\u001B[0m | \u001B[1mINFO    \u001B[0m | \u001B[36msdgx.data_models.metadata\u001B[0m:\u001B[36mupdate_primary_key\u001B[0m:\u001B[36m503\u001B[0m - \u001B[1mPrimary Key updated: set().\u001B[0m\n",
      "\u001B[32m2024-11-17 22:53:33.612\u001B[0m | \u001B[1mINFO    \u001B[0m | \u001B[36msdgx.data_processors.transformers.nan\u001B[0m:\u001B[36mfit\u001B[0m:\u001B[36m71\u001B[0m - \u001B[1mNonValueTransformer Fitted.\u001B[0m\n",
      "\u001B[32m2024-11-17 22:53:33.612\u001B[0m | \u001B[1mINFO    \u001B[0m | \u001B[36msdgx.data_processors.transformers.nan\u001B[0m:\u001B[36mfit\u001B[0m:\u001B[36m87\u001B[0m - \u001B[1mNonValueTransformer get int columns: {'REF__TABLE_library_id', 'Enrollment_TABLE_course_id', 'Submission_TABLE_assignment_id', 'REF__TABLE_book_id', 'BookLoan_TABLE_loan_id', 'Submission_TABLE_submission_id', 'REF__TABLE_student_id', 'Enrollment_TABLE_enrollment_id'}.\u001B[0m\n",
      "\u001B[32m2024-11-17 22:53:33.612\u001B[0m | \u001B[1mINFO    \u001B[0m | \u001B[36msdgx.data_processors.transformers.nan\u001B[0m:\u001B[36mfit\u001B[0m:\u001B[36m96\u001B[0m - \u001B[1mNonValueTransformer get float columns: set().\u001B[0m\n",
      "\u001B[32m2024-11-17 22:53:33.613\u001B[0m | \u001B[1mINFO    \u001B[0m | \u001B[36msdgx.data_processors.transformers.nan\u001B[0m:\u001B[36mfit\u001B[0m:\u001B[36m101\u001B[0m - \u001B[1mNonValueTransformer get column list from metadata: ['BookLoan_TABLE_loan_id', 'REF__TABLE_book_id', 'REF__TABLE_student_id', 'BookLoan_TABLE_loan_date', 'BookLoan_TABLE_return_date', 'Book_TABLE_title', 'Book_TABLE_author', 'Book_TABLE_isbn', 'REF__TABLE_library_id', 'Library_TABLE_name', 'Library_TABLE_location', 'Student_TABLE_name', 'Student_TABLE_email', 'Student_TABLE_date_of_birth', 'Student_TABLE_major', 'Enrollment_TABLE_enrollment_id', 'Enrollment_TABLE_course_id', 'Enrollment_TABLE_semester', 'Enrollment_TABLE_grade', 'Submission_TABLE_submission_id', 'Submission_TABLE_assignment_id', 'Submission_TABLE_submission_date', 'Submission_TABLE_grade'].\u001B[0m\n",
      "\u001B[32m2024-11-17 22:53:33.614\u001B[0m | \u001B[1mINFO    \u001B[0m | \u001B[36msdgx.data_processors.transformers.outlier\u001B[0m:\u001B[36mfit\u001B[0m:\u001B[36m70\u001B[0m - \u001B[1mOutlierTransformer Fitted.\u001B[0m\n",
      "\u001B[32m2024-11-17 22:53:33.614\u001B[0m | \u001B[1mINFO    \u001B[0m | \u001B[36msdgx.data_processors.formatters.int\u001B[0m:\u001B[36mfit\u001B[0m:\u001B[36m40\u001B[0m - \u001B[1mIntValueFormatter Fitted.\u001B[0m\n",
      "\u001B[32m2024-11-17 22:53:33.615\u001B[0m | \u001B[1mINFO    \u001B[0m | \u001B[36msdgx.data_processors.formatters.datetime\u001B[0m:\u001B[36mfit\u001B[0m:\u001B[36m77\u001B[0m - \u001B[1mDatetimeFormatter Fitted.\u001B[0m\n",
      "\u001B[32m2024-11-17 22:53:33.616\u001B[0m | \u001B[1mINFO    \u001B[0m | \u001B[36msdgx.data_processors.transformers.const\u001B[0m:\u001B[36mfit\u001B[0m:\u001B[36m49\u001B[0m - \u001B[1mConstValueTransformer Fitted.\u001B[0m\n",
      "\u001B[32m2024-11-17 22:53:33.616\u001B[0m | \u001B[1mINFO    \u001B[0m | \u001B[36msdgx.data_processors.transformers.empty\u001B[0m:\u001B[36mfit\u001B[0m:\u001B[36m54\u001B[0m - \u001B[1mEmptyTransformer Fitted.\u001B[0m\n",
      "\u001B[32m2024-11-17 22:53:33.617\u001B[0m | \u001B[1mINFO    \u001B[0m | \u001B[36msdgx.data_processors.transformers.column_order\u001B[0m:\u001B[36mfit\u001B[0m:\u001B[36m41\u001B[0m - \u001B[1mColumnOrderTransformer Fitted.\u001B[0m\n",
      "\u001B[32m2024-11-17 22:53:33.617\u001B[0m | \u001B[1mINFO    \u001B[0m | \u001B[36mmycode.multi_rfe_ctgan\u001B[0m:\u001B[36m_data_preprocess\u001B[0m:\u001B[36m92\u001B[0m - \u001B[1mFitted 9 data processors in  0.012004852294921875s.\u001B[0m\n",
      "\u001B[32m2024-11-17 22:53:33.618\u001B[0m | \u001B[1mINFO    \u001B[0m | \u001B[36mmycode.multi_rfe_ctgan\u001B[0m:\u001B[36m_data_preprocess\u001B[0m:\u001B[36m102\u001B[0m - \u001B[1mInitializing processed data loader...\u001B[0m\n",
      "\u001B[32m2024-11-17 22:53:33.624\u001B[0m | \u001B[1mINFO    \u001B[0m | \u001B[36msdgx.data_processors.transformers.nan\u001B[0m:\u001B[36mconvert\u001B[0m:\u001B[36m110\u001B[0m - \u001B[1mConverting data using NonValueTransformer...\u001B[0m\n",
      "\u001B[32m2024-11-17 22:53:33.629\u001B[0m | \u001B[1mINFO    \u001B[0m | \u001B[36msdgx.data_processors.transformers.nan\u001B[0m:\u001B[36mconvert\u001B[0m:\u001B[36m130\u001B[0m - \u001B[1mConverting data using NonValueTransformer... Finished.\u001B[0m\n",
      "\u001B[32m2024-11-17 22:53:33.630\u001B[0m | \u001B[1mINFO    \u001B[0m | \u001B[36msdgx.data_processors.transformers.outlier\u001B[0m:\u001B[36mconvert\u001B[0m:\u001B[36m84\u001B[0m - \u001B[1mConverting data using OutlierTransformer...\u001B[0m\n",
      "\u001B[32m2024-11-17 22:53:33.634\u001B[0m | \u001B[1mINFO    \u001B[0m | \u001B[36msdgx.data_processors.transformers.outlier\u001B[0m:\u001B[36mconvert\u001B[0m:\u001B[36m106\u001B[0m - \u001B[1mConverting data using OutlierTransformer... Finished.\u001B[0m\n",
      "\u001B[32m2024-11-17 22:53:33.638\u001B[0m | \u001B[1mINFO    \u001B[0m | \u001B[36msdgx.data_processors.formatters.int\u001B[0m:\u001B[36mconvert\u001B[0m:\u001B[36m50\u001B[0m - \u001B[1mConverting data using IntValueFormatter... Finished  (No Action).\u001B[0m\n",
      "\u001B[32m2024-11-17 22:53:33.639\u001B[0m | \u001B[1mINFO    \u001B[0m | \u001B[36msdgx.data_processors.formatters.datetime\u001B[0m:\u001B[36mconvert\u001B[0m:\u001B[36m99\u001B[0m - \u001B[1mConverting data using DatetimeFormatter...\u001B[0m\n",
      "\u001B[32m2024-11-17 22:53:33.663\u001B[0m | \u001B[1mINFO    \u001B[0m | \u001B[36msdgx.data_processors.formatters.datetime\u001B[0m:\u001B[36mconvert\u001B[0m:\u001B[36m105\u001B[0m - \u001B[1mConverting data using DatetimeFormatter... Finished.\u001B[0m\n",
      "\u001B[32m2024-11-17 22:53:33.664\u001B[0m | \u001B[1mINFO    \u001B[0m | \u001B[36msdgx.data_processors.transformers.const\u001B[0m:\u001B[36mconvert\u001B[0m:\u001B[36m69\u001B[0m - \u001B[1mConverting data using ConstValueTransformer...\u001B[0m\n",
      "\u001B[32m2024-11-17 22:53:33.665\u001B[0m | \u001B[1mINFO    \u001B[0m | \u001B[36msdgx.data_processors.transformers.const\u001B[0m:\u001B[36mconvert\u001B[0m:\u001B[36m77\u001B[0m - \u001B[1mConverting data using ConstValueTransformer... Finished.\u001B[0m\n",
      "\u001B[32m2024-11-17 22:53:33.665\u001B[0m | \u001B[1mINFO    \u001B[0m | \u001B[36msdgx.data_processors.transformers.empty\u001B[0m:\u001B[36mconvert\u001B[0m:\u001B[36m72\u001B[0m - \u001B[1mConverting data using EmptyTransformer...\u001B[0m\n",
      "\u001B[32m2024-11-17 22:53:33.666\u001B[0m | \u001B[1mINFO    \u001B[0m | \u001B[36msdgx.data_processors.transformers.empty\u001B[0m:\u001B[36mconvert\u001B[0m:\u001B[36m76\u001B[0m - \u001B[1mConverting data using EmptyTransformer... Finished (No action).\u001B[0m\n",
      "\u001B[32m2024-11-17 22:53:33.666\u001B[0m | \u001B[1mINFO    \u001B[0m | \u001B[36msdgx.data_processors.transformers.column_order\u001B[0m:\u001B[36mconvert\u001B[0m:\u001B[36m51\u001B[0m - \u001B[1mConverting data using ColumnOrderTransformer...\u001B[0m\n",
      "\u001B[32m2024-11-17 22:53:33.667\u001B[0m | \u001B[1mINFO    \u001B[0m | \u001B[36msdgx.data_processors.transformers.column_order\u001B[0m:\u001B[36mconvert\u001B[0m:\u001B[36m52\u001B[0m - \u001B[1mConverting data using ColumnOrderTransformer... Finished (No action).\u001B[0m\n",
      "\u001B[32m2024-11-17 22:53:33.683\u001B[0m | \u001B[1mINFO    \u001B[0m | \u001B[36mmycode.multi_rfe_ctgan\u001B[0m:\u001B[36m_data_preprocess\u001B[0m:\u001B[36m108\u001B[0m - \u001B[1mInitialized processed data loader in 0.06432247161865234s\u001B[0m\n",
      "C:\\Users\\Elvin\\Desktop\\GitHub\\synthetic-data-generator\\mycode\\multi_rfe_ctgan.py:73: UserWarning: Detected columns deleting by data processors, we will attach original data to train RFECV.\n",
      "  warnings.warn(\"Detected columns deleting by data processors, we will attach original data to train RFECV.\")\n"
     ]
    },
    {
     "name": "stdout",
     "output_type": "stream",
     "text": [
      "{'datetime': ['Submission_TABLE_submission_date'], 'time': []}\n",
      "metadata.int_columns={'REF__TABLE_library_id', 'Enrollment_TABLE_course_id', 'Submission_TABLE_assignment_id', 'REF__TABLE_book_id', 'BookLoan_TABLE_loan_id', 'Submission_TABLE_submission_id', 'REF__TABLE_student_id', 'Enrollment_TABLE_enrollment_id'}\n",
      "metadata.float_columns=set()\n",
      "metadata.const_columns=set()\n",
      "metadata.bool_columns=set()\n",
      "metadata.discrete_columns={'Enrollment_TABLE_grade', 'Book_TABLE_isbn', 'Enrollment_TABLE_semester', 'Submission_TABLE_grade', 'Library_TABLE_name', 'Library_TABLE_location', 'Student_TABLE_email', 'Student_TABLE_name', 'Student_TABLE_major', 'Book_TABLE_title', 'Book_TABLE_author'}\n"
     ]
    },
    {
     "data": {
      "text/plain": [
       "[<mycode.multi_rfe_ctgan.RFECV_CTGANTrainingData at 0x1e8a764eb30>,\n",
       " <mycode.multi_rfe_ctgan.RFECV_CTGANTrainingData at 0x1e8a89a6860>,\n",
       " <mycode.multi_rfe_ctgan.RFECV_CTGANTrainingData at 0x1e8a764e5f0>,\n",
       " <mycode.multi_rfe_ctgan.RFECV_CTGANTrainingData at 0x1e8a8962440>,\n",
       " <mycode.multi_rfe_ctgan.RFECV_CTGANTrainingData at 0x1e8a8962200>,\n",
       " <mycode.multi_rfe_ctgan.RFECV_CTGANTrainingData at 0x1e8a8962350>]"
      ]
     },
     "execution_count": 1,
     "metadata": {},
     "output_type": "execute_result"
    }
   ],
   "execution_count": 1
  },
  {
   "metadata": {
    "ExecuteTime": {
     "end_time": "2024-11-17T14:53:35.012357Z",
     "start_time": "2024-11-17T14:53:34.998148Z"
    }
   },
   "cell_type": "code",
   "source": [
    "for i in range(len(model.to_training)):\n",
    "    tbn = model.to_training[i].table_name\n",
    "    if model.to_training[i].tables is None:\n",
    "        print(tbn)\n",
    "        continue\n",
    "    print(tbn, len(model.multi_x_join.origin_tables[tbn].columns),\n",
    "    len(model.to_training[i].tables.columns),\n",
    "          {\n",
    "              k: len(v) for k, v in model.to_training[i].target_column_name_selected_map.items()\n",
    "          },model.to_training[i].tables.columns)"
   ],
   "id": "8ec8503a43f4a003",
   "outputs": [
    {
     "name": "stdout",
     "output_type": "stream",
     "text": [
      "BookLoan 5 21 {'BookLoan_TABLE_return_date': 20} Index(['REF__TABLE_library_id', 'Enrollment_TABLE_course_id',\n",
      "       'Student_TABLE_date_of_birth', 'Submission_TABLE_grade',\n",
      "       'Library_TABLE_name', 'Submission_TABLE_submission_date',\n",
      "       'BookLoan_TABLE_loan_date', 'Enrollment_TABLE_enrollment_id',\n",
      "       'Book_TABLE_isbn', 'Enrollment_TABLE_semester',\n",
      "       'Library_TABLE_location', 'BookLoan_TABLE_return_date',\n",
      "       'Student_TABLE_name', 'Student_TABLE_major', 'Book_TABLE_title',\n",
      "       'REF__TABLE_book_id', 'BookLoan_TABLE_loan_id',\n",
      "       'Submission_TABLE_submission_id', 'Submission_TABLE_assignment_id',\n",
      "       'REF__TABLE_student_id', 'Book_TABLE_author'],\n",
      "      dtype='object')\n",
      "Book\n",
      "Library\n",
      "Student 5 4 {'Student_TABLE_email': 4} Index(['REF__TABLE_student_id', 'Student_TABLE_name', 'Student_TABLE_major',\n",
      "       'Student_TABLE_date_of_birth'],\n",
      "      dtype='object')\n",
      "Enrollment 5 5 {'Enrollment_TABLE_grade': 3} Index(['Enrollment_TABLE_grade', 'Enrollment_TABLE_semester',\n",
      "       'Enrollment_TABLE_course_id', 'REF__TABLE_student_id',\n",
      "       'Enrollment_TABLE_enrollment_id'],\n",
      "      dtype='object')\n",
      "Submission\n"
     ]
    }
   ],
   "execution_count": 2
  },
  {
   "metadata": {
    "ExecuteTime": {
     "end_time": "2024-11-17T14:53:35.028002Z",
     "start_time": "2024-11-17T14:53:35.014353Z"
    }
   },
   "cell_type": "code",
   "source": "model.to_training[-1]",
   "id": "3c2b5ff8451336f8",
   "outputs": [
    {
     "data": {
      "text/plain": [
       "<mycode.multi_rfe_ctgan.RFECV_CTGANTrainingData at 0x1e8a8962350>"
      ]
     },
     "execution_count": 3,
     "metadata": {},
     "output_type": "execute_result"
    }
   ],
   "execution_count": 3
  },
  {
   "metadata": {
    "ExecuteTime": {
     "end_time": "2024-11-17T14:53:35.376299Z",
     "start_time": "2024-11-17T14:53:35.028956Z"
    }
   },
   "cell_type": "code",
   "source": "model.join_tables",
   "id": "3dd1b4b98ead3492",
   "outputs": [
    {
     "ename": "AttributeError",
     "evalue": "'MultiTableRfecvCTGAN' object has no attribute 'join_tables'",
     "output_type": "error",
     "traceback": [
      "\u001B[1;31m---------------------------------------------------------------------------\u001B[0m",
      "\u001B[1;31mAttributeError\u001B[0m                            Traceback (most recent call last)",
      "Cell \u001B[1;32mIn[4], line 1\u001B[0m\n\u001B[1;32m----> 1\u001B[0m \u001B[43mmodel\u001B[49m\u001B[38;5;241;43m.\u001B[39;49m\u001B[43mjoin_tables\u001B[49m\n",
      "\u001B[1;31mAttributeError\u001B[0m: 'MultiTableRfecvCTGAN' object has no attribute 'join_tables'"
     ]
    }
   ],
   "execution_count": 4
  },
  {
   "metadata": {},
   "cell_type": "code",
   "source": "model.to_training[0]",
   "id": "49423c9cdd2ba48c",
   "outputs": [],
   "execution_count": null
  },
  {
   "metadata": {},
   "cell_type": "code",
   "source": "model.origin_tables[\"BookLoan\"].columns",
   "id": "3630a1c0bc37d4f8",
   "outputs": [],
   "execution_count": null
  },
  {
   "metadata": {},
   "cell_type": "code",
   "source": "",
   "id": "1951b1ac1d3b7892",
   "outputs": [],
   "execution_count": null
  },
  {
   "metadata": {},
   "cell_type": "code",
   "source": "",
   "id": "d5e65732f1018a13",
   "outputs": [],
   "execution_count": null
  }
 ],
 "metadata": {
  "kernelspec": {
   "display_name": "Python 3",
   "language": "python",
   "name": "python3"
  },
  "language_info": {
   "codemirror_mode": {
    "name": "ipython",
    "version": 2
   },
   "file_extension": ".py",
   "mimetype": "text/x-python",
   "name": "python",
   "nbconvert_exporter": "python",
   "pygments_lexer": "ipython2",
   "version": "2.7.6"
  }
 },
 "nbformat": 4,
 "nbformat_minor": 5
}
