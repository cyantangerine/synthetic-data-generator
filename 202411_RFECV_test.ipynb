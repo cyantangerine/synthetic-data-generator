{
 "cells": [
  {
   "metadata": {
    "ExecuteTime": {
     "end_time": "2024-11-21T14:42:27.709657Z",
     "start_time": "2024-11-21T14:42:11.072761Z"
    }
   },
   "cell_type": "code",
   "source": [
    "from mycode.multi_rfe_ctgan import MultiTableRfecvCTGAN\n",
    "from mycode import dataset\n",
    "from mycode.testcode import Xargs\n",
    "\n",
    "db_path = dataset.DatabaseTest.path_10k\n",
    "db_level = db_path[db_path.rfind(\"/\")+1:db_path.rfind(\".db\")]\n",
    "table_level = '6'\n",
    "x_args = Xargs.XArgs.tables_6\n",
    "from mycode.dataset import XMetaBuilder\n",
    "\n",
    "model = MultiTableRfecvCTGAN(db_path=db_path, x_args=x_args)\n",
    "model.init(meta_builder=XMetaBuilder(x_args))\n",
    "model.to_training"
   ],
   "id": "936febaab5b53cef",
   "outputs": [
    {
     "name": "stderr",
     "output_type": "stream",
     "text": [
      "\u001B[32m2024-11-21 22:42:11.075\u001B[0m | \u001B[1mINFO    \u001B[0m | \u001B[36mmycode.multi_rfe_ctgan\u001B[0m:\u001B[36m__init__\u001B[0m:\u001B[36m58\u001B[0m - \u001B[1mUsing data processors: ['nonvaluetransformer', 'outliertransformer', 'emailgenerator', 'chnpiigenerator', 'intvalueformatter', 'datetimeformatter', 'constvaluetransformer', 'emptytransformer', 'columnordertransformer']\u001B[0m\n",
      "\u001B[32m2024-11-21 22:42:11.397\u001B[0m | \u001B[1mINFO    \u001B[0m | \u001B[36msdgx.data_models.metadata\u001B[0m:\u001B[36mfrom_dataloader\u001B[0m:\u001B[36m294\u001B[0m - \u001B[1mInspecting metadata...\u001B[0m\n"
     ]
    },
    {
     "name": "stdout",
     "output_type": "stream",
     "text": [
      "10000 10000 10000 10000 10159 12338 \n",
      "12338 lines x 23 columns\n"
     ]
    },
    {
     "name": "stderr",
     "output_type": "stream",
     "text": [
      "\u001B[32m2024-11-21 22:42:14.268\u001B[0m | \u001B[1mINFO    \u001B[0m | \u001B[36msdgx.data_models.metadata\u001B[0m:\u001B[36mupdate_primary_key\u001B[0m:\u001B[36m508\u001B[0m - \u001B[1mPrimary Key updated: set().\u001B[0m\n",
      "\u001B[32m2024-11-21 22:42:14.288\u001B[0m | \u001B[1mINFO    \u001B[0m | \u001B[36msdgx.data_processors.transformers.nan\u001B[0m:\u001B[36mfit\u001B[0m:\u001B[36m71\u001B[0m - \u001B[1mNonValueTransformer Fitted.\u001B[0m\n",
      "\u001B[32m2024-11-21 22:42:14.289\u001B[0m | \u001B[1mINFO    \u001B[0m | \u001B[36msdgx.data_processors.transformers.nan\u001B[0m:\u001B[36mfit\u001B[0m:\u001B[36m87\u001B[0m - \u001B[1mNonValueTransformer get int columns: {'REF__TABLE_library_id', 'Submission_TABLE_assignment_id', 'REF__TABLE_student_id', 'REF__TABLE_book_id', 'BookLoan_TABLE_loan_id', 'Enrollment_TABLE_enrollment_id', 'Submission_TABLE_submission_id', 'Enrollment_TABLE_course_id'}.\u001B[0m\n",
      "\u001B[32m2024-11-21 22:42:14.290\u001B[0m | \u001B[1mINFO    \u001B[0m | \u001B[36msdgx.data_processors.transformers.nan\u001B[0m:\u001B[36mfit\u001B[0m:\u001B[36m96\u001B[0m - \u001B[1mNonValueTransformer get float columns: set().\u001B[0m\n",
      "\u001B[32m2024-11-21 22:42:14.290\u001B[0m | \u001B[1mINFO    \u001B[0m | \u001B[36msdgx.data_processors.transformers.nan\u001B[0m:\u001B[36mfit\u001B[0m:\u001B[36m101\u001B[0m - \u001B[1mNonValueTransformer get column list from metadata: ['BookLoan_TABLE_loan_id', 'REF__TABLE_book_id', 'REF__TABLE_student_id', 'BookLoan_TABLE_loan_date', 'BookLoan_TABLE_return_date', 'Book_TABLE_title', 'Book_TABLE_author', 'Book_TABLE_isbn', 'REF__TABLE_library_id', 'Library_TABLE_name', 'Library_TABLE_location', 'Student_TABLE_name', 'Student_TABLE_email', 'Student_TABLE_date_of_birth', 'Student_TABLE_major', 'Enrollment_TABLE_enrollment_id', 'Enrollment_TABLE_course_id', 'Enrollment_TABLE_semester', 'Enrollment_TABLE_grade', 'Submission_TABLE_submission_id', 'Submission_TABLE_assignment_id', 'Submission_TABLE_submission_date', 'Submission_TABLE_grade'].\u001B[0m\n",
      "\u001B[32m2024-11-21 22:42:14.291\u001B[0m | \u001B[1mINFO    \u001B[0m | \u001B[36msdgx.data_processors.transformers.outlier\u001B[0m:\u001B[36mfit\u001B[0m:\u001B[36m70\u001B[0m - \u001B[1mOutlierTransformer Fitted.\u001B[0m\n",
      "\u001B[32m2024-11-21 22:42:14.291\u001B[0m | \u001B[1mINFO    \u001B[0m | \u001B[36msdgx.data_processors.formatters.int\u001B[0m:\u001B[36mfit\u001B[0m:\u001B[36m40\u001B[0m - \u001B[1mIntValueFormatter Fitted.\u001B[0m\n",
      "\u001B[32m2024-11-21 22:42:14.292\u001B[0m | \u001B[1mINFO    \u001B[0m | \u001B[36msdgx.data_processors.formatters.datetime\u001B[0m:\u001B[36mfit\u001B[0m:\u001B[36m77\u001B[0m - \u001B[1mDatetimeFormatter Fitted.\u001B[0m\n",
      "\u001B[32m2024-11-21 22:42:14.292\u001B[0m | \u001B[1mINFO    \u001B[0m | \u001B[36msdgx.data_processors.transformers.const\u001B[0m:\u001B[36mfit\u001B[0m:\u001B[36m49\u001B[0m - \u001B[1mConstValueTransformer Fitted.\u001B[0m\n",
      "\u001B[32m2024-11-21 22:42:14.293\u001B[0m | \u001B[1mINFO    \u001B[0m | \u001B[36msdgx.data_processors.transformers.empty\u001B[0m:\u001B[36mfit\u001B[0m:\u001B[36m54\u001B[0m - \u001B[1mEmptyTransformer Fitted.\u001B[0m\n",
      "\u001B[32m2024-11-21 22:42:14.293\u001B[0m | \u001B[1mINFO    \u001B[0m | \u001B[36msdgx.data_processors.transformers.column_order\u001B[0m:\u001B[36mfit\u001B[0m:\u001B[36m41\u001B[0m - \u001B[1mColumnOrderTransformer Fitted.\u001B[0m\n",
      "\u001B[32m2024-11-21 22:42:14.293\u001B[0m | \u001B[1mINFO    \u001B[0m | \u001B[36mmycode.multi_rfe_ctgan\u001B[0m:\u001B[36m_data_preprocess\u001B[0m:\u001B[36m105\u001B[0m - \u001B[1mFitted 9 data processors in  0.02314901351928711s.\u001B[0m\n",
      "\u001B[32m2024-11-21 22:42:14.294\u001B[0m | \u001B[1mINFO    \u001B[0m | \u001B[36mmycode.multi_rfe_ctgan\u001B[0m:\u001B[36m_data_preprocess\u001B[0m:\u001B[36m115\u001B[0m - \u001B[1mInitializing processed data loader...\u001B[0m\n",
      "\u001B[32m2024-11-21 22:42:14.306\u001B[0m | \u001B[1mINFO    \u001B[0m | \u001B[36msdgx.data_processors.transformers.nan\u001B[0m:\u001B[36mconvert\u001B[0m:\u001B[36m110\u001B[0m - \u001B[1mConverting data using NonValueTransformer...\u001B[0m\n",
      "\u001B[32m2024-11-21 22:42:14.317\u001B[0m | \u001B[1mINFO    \u001B[0m | \u001B[36msdgx.data_processors.transformers.nan\u001B[0m:\u001B[36mconvert\u001B[0m:\u001B[36m130\u001B[0m - \u001B[1mConverting data using NonValueTransformer... Finished.\u001B[0m\n",
      "\u001B[32m2024-11-21 22:42:14.317\u001B[0m | \u001B[1mINFO    \u001B[0m | \u001B[36msdgx.data_processors.transformers.outlier\u001B[0m:\u001B[36mconvert\u001B[0m:\u001B[36m84\u001B[0m - \u001B[1mConverting data using OutlierTransformer...\u001B[0m\n",
      "\u001B[32m2024-11-21 22:42:14.335\u001B[0m | \u001B[1mINFO    \u001B[0m | \u001B[36msdgx.data_processors.transformers.outlier\u001B[0m:\u001B[36mconvert\u001B[0m:\u001B[36m106\u001B[0m - \u001B[1mConverting data using OutlierTransformer... Finished.\u001B[0m\n",
      "\u001B[32m2024-11-21 22:42:14.340\u001B[0m | \u001B[1mINFO    \u001B[0m | \u001B[36msdgx.data_processors.formatters.int\u001B[0m:\u001B[36mconvert\u001B[0m:\u001B[36m50\u001B[0m - \u001B[1mConverting data using IntValueFormatter... Finished  (No Action).\u001B[0m\n",
      "\u001B[32m2024-11-21 22:42:14.340\u001B[0m | \u001B[1mINFO    \u001B[0m | \u001B[36msdgx.data_processors.formatters.datetime\u001B[0m:\u001B[36mconvert\u001B[0m:\u001B[36m99\u001B[0m - \u001B[1mConverting data using DatetimeFormatter...\u001B[0m\n"
     ]
    },
    {
     "name": "stdout",
     "output_type": "stream",
     "text": [
      "{'datetime': ['Submission_TABLE_submission_date'], 'time': []}\n",
      "metadata.int_columns={'REF__TABLE_library_id', 'Submission_TABLE_assignment_id', 'REF__TABLE_book_id', 'REF__TABLE_student_id', 'BookLoan_TABLE_loan_id', 'Enrollment_TABLE_enrollment_id', 'Submission_TABLE_submission_id', 'Enrollment_TABLE_course_id'}\n",
      "metadata.float_columns=set()\n",
      "metadata.const_columns=set()\n",
      "metadata.bool_columns=set()\n",
      "metadata.discrete_columns={'Student_TABLE_name', 'Submission_TABLE_grade', 'Student_TABLE_major', 'Book_TABLE_isbn', 'Library_TABLE_name', 'Book_TABLE_title', 'Enrollment_TABLE_semester', 'Student_TABLE_email', 'Book_TABLE_author', 'Library_TABLE_location', 'Enrollment_TABLE_grade'}\n"
     ]
    },
    {
     "name": "stderr",
     "output_type": "stream",
     "text": [
      "\u001B[32m2024-11-21 22:42:14.547\u001B[0m | \u001B[1mINFO    \u001B[0m | \u001B[36msdgx.data_processors.formatters.datetime\u001B[0m:\u001B[36mconvert\u001B[0m:\u001B[36m105\u001B[0m - \u001B[1mConverting data using DatetimeFormatter... Finished.\u001B[0m\n",
      "\u001B[32m2024-11-21 22:42:14.549\u001B[0m | \u001B[1mINFO    \u001B[0m | \u001B[36msdgx.data_processors.transformers.const\u001B[0m:\u001B[36mconvert\u001B[0m:\u001B[36m69\u001B[0m - \u001B[1mConverting data using ConstValueTransformer...\u001B[0m\n",
      "\u001B[32m2024-11-21 22:42:14.549\u001B[0m | \u001B[1mINFO    \u001B[0m | \u001B[36msdgx.data_processors.transformers.const\u001B[0m:\u001B[36mconvert\u001B[0m:\u001B[36m77\u001B[0m - \u001B[1mConverting data using ConstValueTransformer... Finished.\u001B[0m\n",
      "\u001B[32m2024-11-21 22:42:14.550\u001B[0m | \u001B[1mINFO    \u001B[0m | \u001B[36msdgx.data_processors.transformers.empty\u001B[0m:\u001B[36mconvert\u001B[0m:\u001B[36m72\u001B[0m - \u001B[1mConverting data using EmptyTransformer...\u001B[0m\n",
      "\u001B[32m2024-11-21 22:42:14.551\u001B[0m | \u001B[1mINFO    \u001B[0m | \u001B[36msdgx.data_processors.transformers.empty\u001B[0m:\u001B[36mconvert\u001B[0m:\u001B[36m76\u001B[0m - \u001B[1mConverting data using EmptyTransformer... Finished (No action).\u001B[0m\n",
      "\u001B[32m2024-11-21 22:42:14.551\u001B[0m | \u001B[1mINFO    \u001B[0m | \u001B[36msdgx.data_processors.transformers.column_order\u001B[0m:\u001B[36mconvert\u001B[0m:\u001B[36m51\u001B[0m - \u001B[1mConverting data using ColumnOrderTransformer...\u001B[0m\n",
      "\u001B[32m2024-11-21 22:42:14.552\u001B[0m | \u001B[1mINFO    \u001B[0m | \u001B[36msdgx.data_processors.transformers.column_order\u001B[0m:\u001B[36mconvert\u001B[0m:\u001B[36m52\u001B[0m - \u001B[1mConverting data using ColumnOrderTransformer... Finished (No action).\u001B[0m\n",
      "\u001B[32m2024-11-21 22:42:14.581\u001B[0m | \u001B[1mINFO    \u001B[0m | \u001B[36msdgx.data_processors.transformers.nan\u001B[0m:\u001B[36mconvert\u001B[0m:\u001B[36m110\u001B[0m - \u001B[1mConverting data using NonValueTransformer...\u001B[0m\n",
      "\u001B[32m2024-11-21 22:42:14.586\u001B[0m | \u001B[1mINFO    \u001B[0m | \u001B[36msdgx.data_processors.transformers.nan\u001B[0m:\u001B[36mconvert\u001B[0m:\u001B[36m130\u001B[0m - \u001B[1mConverting data using NonValueTransformer... Finished.\u001B[0m\n",
      "\u001B[32m2024-11-21 22:42:14.587\u001B[0m | \u001B[1mINFO    \u001B[0m | \u001B[36msdgx.data_processors.transformers.outlier\u001B[0m:\u001B[36mconvert\u001B[0m:\u001B[36m84\u001B[0m - \u001B[1mConverting data using OutlierTransformer...\u001B[0m\n",
      "\u001B[32m2024-11-21 22:42:14.592\u001B[0m | \u001B[1mINFO    \u001B[0m | \u001B[36msdgx.data_processors.transformers.outlier\u001B[0m:\u001B[36mconvert\u001B[0m:\u001B[36m106\u001B[0m - \u001B[1mConverting data using OutlierTransformer... Finished.\u001B[0m\n",
      "\u001B[32m2024-11-21 22:42:14.593\u001B[0m | \u001B[1mINFO    \u001B[0m | \u001B[36msdgx.data_processors.formatters.int\u001B[0m:\u001B[36mconvert\u001B[0m:\u001B[36m50\u001B[0m - \u001B[1mConverting data using IntValueFormatter... Finished  (No Action).\u001B[0m\n",
      "\u001B[32m2024-11-21 22:42:14.594\u001B[0m | \u001B[1mINFO    \u001B[0m | \u001B[36msdgx.data_processors.formatters.datetime\u001B[0m:\u001B[36mconvert\u001B[0m:\u001B[36m99\u001B[0m - \u001B[1mConverting data using DatetimeFormatter...\u001B[0m\n",
      "\u001B[32m2024-11-21 22:42:14.644\u001B[0m | \u001B[1mINFO    \u001B[0m | \u001B[36msdgx.data_processors.formatters.datetime\u001B[0m:\u001B[36mconvert\u001B[0m:\u001B[36m105\u001B[0m - \u001B[1mConverting data using DatetimeFormatter... Finished.\u001B[0m\n",
      "\u001B[32m2024-11-21 22:42:14.645\u001B[0m | \u001B[1mINFO    \u001B[0m | \u001B[36msdgx.data_processors.transformers.const\u001B[0m:\u001B[36mconvert\u001B[0m:\u001B[36m69\u001B[0m - \u001B[1mConverting data using ConstValueTransformer...\u001B[0m\n",
      "\u001B[32m2024-11-21 22:42:14.646\u001B[0m | \u001B[1mINFO    \u001B[0m | \u001B[36msdgx.data_processors.transformers.const\u001B[0m:\u001B[36mconvert\u001B[0m:\u001B[36m77\u001B[0m - \u001B[1mConverting data using ConstValueTransformer... Finished.\u001B[0m\n",
      "\u001B[32m2024-11-21 22:42:14.647\u001B[0m | \u001B[1mINFO    \u001B[0m | \u001B[36msdgx.data_processors.transformers.empty\u001B[0m:\u001B[36mconvert\u001B[0m:\u001B[36m72\u001B[0m - \u001B[1mConverting data using EmptyTransformer...\u001B[0m\n",
      "\u001B[32m2024-11-21 22:42:14.647\u001B[0m | \u001B[1mINFO    \u001B[0m | \u001B[36msdgx.data_processors.transformers.empty\u001B[0m:\u001B[36mconvert\u001B[0m:\u001B[36m76\u001B[0m - \u001B[1mConverting data using EmptyTransformer... Finished (No action).\u001B[0m\n",
      "\u001B[32m2024-11-21 22:42:14.648\u001B[0m | \u001B[1mINFO    \u001B[0m | \u001B[36msdgx.data_processors.transformers.column_order\u001B[0m:\u001B[36mconvert\u001B[0m:\u001B[36m51\u001B[0m - \u001B[1mConverting data using ColumnOrderTransformer...\u001B[0m\n",
      "\u001B[32m2024-11-21 22:42:14.648\u001B[0m | \u001B[1mINFO    \u001B[0m | \u001B[36msdgx.data_processors.transformers.column_order\u001B[0m:\u001B[36mconvert\u001B[0m:\u001B[36m52\u001B[0m - \u001B[1mConverting data using ColumnOrderTransformer... Finished (No action).\u001B[0m\n",
      "\u001B[32m2024-11-21 22:42:14.662\u001B[0m | \u001B[1mINFO    \u001B[0m | \u001B[36mmycode.multi_rfe_ctgan\u001B[0m:\u001B[36m_data_preprocess\u001B[0m:\u001B[36m121\u001B[0m - \u001B[1mInitialized processed data loader in 0.368084192276001s\u001B[0m\n",
      "C:\\Users\\Elvin\\Desktop\\GitHub\\synthetic-data-generator\\mycode\\multi_rfe_ctgan.py:84: UserWarning: Detected columns deleting by data processors, we will attach original data to train RFECV.\n",
      "  warnings.warn(\"Detected columns deleting by data processors, we will attach original data to train RFECV.\")\n"
     ]
    },
    {
     "ename": "ValueError",
     "evalue": "Input y contains NaN.",
     "output_type": "error",
     "traceback": [
      "\u001B[1;31m---------------------------------------------------------------------------\u001B[0m",
      "\u001B[1;31mValueError\u001B[0m                                Traceback (most recent call last)",
      "Cell \u001B[1;32mIn[22], line 12\u001B[0m\n\u001B[0;32m      9\u001B[0m \u001B[38;5;28;01mfrom\u001B[39;00m \u001B[38;5;21;01mmycode\u001B[39;00m\u001B[38;5;21;01m.\u001B[39;00m\u001B[38;5;21;01mdataset\u001B[39;00m \u001B[38;5;28;01mimport\u001B[39;00m XMetaBuilder\n\u001B[0;32m     11\u001B[0m model \u001B[38;5;241m=\u001B[39m MultiTableRfecvCTGAN(db_path\u001B[38;5;241m=\u001B[39mdb_path, x_args\u001B[38;5;241m=\u001B[39mx_args)\n\u001B[1;32m---> 12\u001B[0m \u001B[43mmodel\u001B[49m\u001B[38;5;241;43m.\u001B[39;49m\u001B[43minit\u001B[49m\u001B[43m(\u001B[49m\u001B[43mmeta_builder\u001B[49m\u001B[38;5;241;43m=\u001B[39;49m\u001B[43mXMetaBuilder\u001B[49m\u001B[43m(\u001B[49m\u001B[43mx_args\u001B[49m\u001B[43m)\u001B[49m\u001B[43m)\u001B[49m\n\u001B[0;32m     13\u001B[0m model\u001B[38;5;241m.\u001B[39mto_training\n",
      "File \u001B[1;32m~\\Desktop\\GitHub\\synthetic-data-generator\\mycode\\multi_rfe_ctgan.py:88\u001B[0m, in \u001B[0;36mMultiTableRfecvCTGAN.init\u001B[1;34m(self, add_cols_num, added_data_path, meta_builder)\u001B[0m\n\u001B[0;32m     85\u001B[0m     missing_columns \u001B[38;5;241m=\u001B[39m \u001B[38;5;28mset\u001B[39m(\u001B[38;5;28mself\u001B[39m\u001B[38;5;241m.\u001B[39mmulti_x_join\u001B[38;5;241m.\u001B[39mjoin_tables) \u001B[38;5;241m-\u001B[39m \u001B[38;5;28mset\u001B[39m(preprocessed_data\u001B[38;5;241m.\u001B[39mcolumns)\n\u001B[0;32m     86\u001B[0m     attached_columns_data \u001B[38;5;241m=\u001B[39m pd\u001B[38;5;241m.\u001B[39mDataFrame(\u001B[38;5;28mself\u001B[39m\u001B[38;5;241m.\u001B[39mmulti_x_join\u001B[38;5;241m.\u001B[39mjoin_tables[\u001B[38;5;28mlist\u001B[39m(missing_columns)])\n\u001B[1;32m---> 88\u001B[0m \u001B[38;5;28mself\u001B[39m\u001B[38;5;241m.\u001B[39mto_training \u001B[38;5;241m=\u001B[39m \u001B[43mMultiTableRfecvCTGAN\u001B[49m\u001B[38;5;241;43m.\u001B[39;49m\u001B[43m_argument_tables\u001B[49m\u001B[43m(\u001B[49m\n\u001B[0;32m     89\u001B[0m \u001B[43m    \u001B[49m\u001B[43mjoin_tables\u001B[49m\u001B[38;5;241;43m=\u001B[39;49m\u001B[43mpreprocessed_data\u001B[49m\u001B[43m,\u001B[49m\u001B[43m  \u001B[49m\u001B[38;5;66;43;03m# TODO 优化\u001B[39;49;00m\n\u001B[0;32m     90\u001B[0m \u001B[43m    \u001B[49m\u001B[43mattached_columns_data\u001B[49m\u001B[38;5;241;43m=\u001B[39;49m\u001B[43mattached_columns_data\u001B[49m\u001B[43m,\u001B[49m\n\u001B[0;32m     91\u001B[0m \u001B[43m    \u001B[49m\u001B[43mtables_name\u001B[49m\u001B[38;5;241;43m=\u001B[39;49m\u001B[38;5;28;43mself\u001B[39;49m\u001B[38;5;241;43m.\u001B[39;49m\u001B[43mmulti_x_join\u001B[49m\u001B[38;5;241;43m.\u001B[39;49m\u001B[43morigin_tables\u001B[49m\u001B[38;5;241;43m.\u001B[39;49m\u001B[43mkeys\u001B[49m\u001B[43m(\u001B[49m\u001B[43m)\u001B[49m\u001B[43m,\u001B[49m\n\u001B[0;32m     92\u001B[0m \u001B[43m    \u001B[49m\u001B[43mcolumns_table_map\u001B[49m\u001B[38;5;241;43m=\u001B[39;49m\u001B[38;5;28;43mself\u001B[39;49m\u001B[38;5;241;43m.\u001B[39;49m\u001B[43mmulti_x_join\u001B[49m\u001B[38;5;241;43m.\u001B[39;49m\u001B[43mjoin_columns_table_name_map\u001B[49m\u001B[43m,\u001B[49m\n\u001B[0;32m     93\u001B[0m \u001B[43m    \u001B[49m\u001B[43mjoin_columns_map\u001B[49m\u001B[38;5;241;43m=\u001B[39;49m\u001B[38;5;28;43mself\u001B[39;49m\u001B[38;5;241;43m.\u001B[39;49m\u001B[43mmulti_x_join\u001B[49m\u001B[38;5;241;43m.\u001B[39;49m\u001B[43mjoin_columns_map\u001B[49m\u001B[43m,\u001B[49m\n\u001B[0;32m     94\u001B[0m \u001B[43m    \u001B[49m\u001B[43mmetadata\u001B[49m\u001B[38;5;241;43m=\u001B[39;49m\u001B[38;5;28;43mself\u001B[39;49m\u001B[38;5;241;43m.\u001B[39;49m\u001B[43mmetadata\u001B[49m\u001B[43m)\u001B[49m\n\u001B[0;32m     96\u001B[0m preprocessed_loader\u001B[38;5;241m.\u001B[39mfinalize(clear_cache\u001B[38;5;241m=\u001B[39m\u001B[38;5;28;01mTrue\u001B[39;00m)\n",
      "File \u001B[1;32m~\\Desktop\\GitHub\\synthetic-data-generator\\mycode\\multi_rfe_ctgan.py:253\u001B[0m, in \u001B[0;36mMultiTableRfecvCTGAN._argument_tables\u001B[1;34m(join_tables, attached_columns_data, tables_name, columns_table_map, join_columns_map, metadata)\u001B[0m\n\u001B[0;32m    249\u001B[0m     to_rfe_columns \u001B[38;5;241m=\u001B[39m attached_tables[\u001B[38;5;28mlist\u001B[39m(to_rfe_columns_name)]\u001B[38;5;241m.\u001B[39mcopy()\n\u001B[0;32m    251\u001B[0m \u001B[38;5;66;03m# rfe TODO\u001B[39;00m\n\u001B[0;32m    252\u001B[0m current_selected_columns \u001B[38;5;241m=\u001B[39m \u001B[38;5;28mset\u001B[39m(\n\u001B[1;32m--> 253\u001B[0m     \u001B[43mMultiTableRfecvCTGAN\u001B[49m\u001B[38;5;241;43m.\u001B[39;49m\u001B[43m_do_rfecv\u001B[49m\u001B[43m(\u001B[49m\u001B[43mtarget_column_name\u001B[49m\u001B[43m,\u001B[49m\u001B[43m \u001B[49m\u001B[43mto_rfe_columns\u001B[49m\u001B[43m,\u001B[49m\u001B[43m \u001B[49m\u001B[43mmetadata\u001B[49m\u001B[43m)\u001B[49m\n\u001B[0;32m    254\u001B[0m )\n\u001B[0;32m    256\u001B[0m \u001B[38;5;66;03m# current_selected_columns = random.choices(list(to_rfe_columns_name), k=3)\u001B[39;00m\n\u001B[0;32m    258\u001B[0m selected_columns \u001B[38;5;241m=\u001B[39m selected_columns\u001B[38;5;241m.\u001B[39munion(current_selected_columns)\n",
      "File \u001B[1;32m~\\Desktop\\GitHub\\synthetic-data-generator\\mycode\\multi_rfe_ctgan.py:172\u001B[0m, in \u001B[0;36mMultiTableRfecvCTGAN._do_rfecv\u001B[1;34m(target_column_name, data, metadata)\u001B[0m\n\u001B[0;32m    170\u001B[0m     estimator \u001B[38;5;241m=\u001B[39m DecisionTreeRegressor(random_state\u001B[38;5;241m=\u001B[39m\u001B[38;5;241m0\u001B[39m)\n\u001B[0;32m    171\u001B[0m rfecv \u001B[38;5;241m=\u001B[39m RFECV(estimator, min_features_to_select\u001B[38;5;241m=\u001B[39m\u001B[38;5;241m3\u001B[39m)\n\u001B[1;32m--> 172\u001B[0m \u001B[43mrfecv\u001B[49m\u001B[38;5;241;43m.\u001B[39;49m\u001B[43mfit\u001B[49m\u001B[43m(\u001B[49m\u001B[43mX\u001B[49m\u001B[43m,\u001B[49m\u001B[43m \u001B[49m\u001B[43my\u001B[49m\u001B[43m)\u001B[49m\n\u001B[0;32m    174\u001B[0m \u001B[38;5;66;03m# 解析相关列，排除 Onehot\u001B[39;00m\n\u001B[0;32m    175\u001B[0m feature_ranks \u001B[38;5;241m=\u001B[39m rfecv\u001B[38;5;241m.\u001B[39mranking_\n",
      "File \u001B[1;32m~\\.conda\\envs\\synthetic-data-generator\\lib\\site-packages\\sklearn\\base.py:1473\u001B[0m, in \u001B[0;36m_fit_context.<locals>.decorator.<locals>.wrapper\u001B[1;34m(estimator, *args, **kwargs)\u001B[0m\n\u001B[0;32m   1466\u001B[0m     estimator\u001B[38;5;241m.\u001B[39m_validate_params()\n\u001B[0;32m   1468\u001B[0m \u001B[38;5;28;01mwith\u001B[39;00m config_context(\n\u001B[0;32m   1469\u001B[0m     skip_parameter_validation\u001B[38;5;241m=\u001B[39m(\n\u001B[0;32m   1470\u001B[0m         prefer_skip_nested_validation \u001B[38;5;129;01mor\u001B[39;00m global_skip_validation\n\u001B[0;32m   1471\u001B[0m     )\n\u001B[0;32m   1472\u001B[0m ):\n\u001B[1;32m-> 1473\u001B[0m     \u001B[38;5;28;01mreturn\u001B[39;00m fit_method(estimator, \u001B[38;5;241m*\u001B[39margs, \u001B[38;5;241m*\u001B[39m\u001B[38;5;241m*\u001B[39mkwargs)\n",
      "File \u001B[1;32m~\\.conda\\envs\\synthetic-data-generator\\lib\\site-packages\\sklearn\\feature_selection\\_rfe.py:726\u001B[0m, in \u001B[0;36mRFECV.fit\u001B[1;34m(self, X, y, groups)\u001B[0m\n\u001B[0;32m    701\u001B[0m \u001B[38;5;250m\u001B[39m\u001B[38;5;124;03m\"\"\"Fit the RFE model and automatically tune the number of selected features.\u001B[39;00m\n\u001B[0;32m    702\u001B[0m \n\u001B[0;32m    703\u001B[0m \u001B[38;5;124;03mParameters\u001B[39;00m\n\u001B[1;32m   (...)\u001B[0m\n\u001B[0;32m    723\u001B[0m \u001B[38;5;124;03m    Fitted estimator.\u001B[39;00m\n\u001B[0;32m    724\u001B[0m \u001B[38;5;124;03m\"\"\"\u001B[39;00m\n\u001B[0;32m    725\u001B[0m _raise_for_unsupported_routing(\u001B[38;5;28mself\u001B[39m, \u001B[38;5;124m\"\u001B[39m\u001B[38;5;124mfit\u001B[39m\u001B[38;5;124m\"\u001B[39m, groups\u001B[38;5;241m=\u001B[39mgroups)\n\u001B[1;32m--> 726\u001B[0m X, y \u001B[38;5;241m=\u001B[39m \u001B[38;5;28;43mself\u001B[39;49m\u001B[38;5;241;43m.\u001B[39;49m\u001B[43m_validate_data\u001B[49m\u001B[43m(\u001B[49m\n\u001B[0;32m    727\u001B[0m \u001B[43m    \u001B[49m\u001B[43mX\u001B[49m\u001B[43m,\u001B[49m\n\u001B[0;32m    728\u001B[0m \u001B[43m    \u001B[49m\u001B[43my\u001B[49m\u001B[43m,\u001B[49m\n\u001B[0;32m    729\u001B[0m \u001B[43m    \u001B[49m\u001B[43maccept_sparse\u001B[49m\u001B[38;5;241;43m=\u001B[39;49m\u001B[38;5;124;43m\"\u001B[39;49m\u001B[38;5;124;43mcsr\u001B[39;49m\u001B[38;5;124;43m\"\u001B[39;49m\u001B[43m,\u001B[49m\n\u001B[0;32m    730\u001B[0m \u001B[43m    \u001B[49m\u001B[43mensure_min_features\u001B[49m\u001B[38;5;241;43m=\u001B[39;49m\u001B[38;5;241;43m2\u001B[39;49m\u001B[43m,\u001B[49m\n\u001B[0;32m    731\u001B[0m \u001B[43m    \u001B[49m\u001B[43mforce_all_finite\u001B[49m\u001B[38;5;241;43m=\u001B[39;49m\u001B[38;5;28;43;01mFalse\u001B[39;49;00m\u001B[43m,\u001B[49m\n\u001B[0;32m    732\u001B[0m \u001B[43m    \u001B[49m\u001B[43mmulti_output\u001B[49m\u001B[38;5;241;43m=\u001B[39;49m\u001B[38;5;28;43;01mTrue\u001B[39;49;00m\u001B[43m,\u001B[49m\n\u001B[0;32m    733\u001B[0m \u001B[43m\u001B[49m\u001B[43m)\u001B[49m\n\u001B[0;32m    735\u001B[0m \u001B[38;5;66;03m# Initialization\u001B[39;00m\n\u001B[0;32m    736\u001B[0m cv \u001B[38;5;241m=\u001B[39m check_cv(\u001B[38;5;28mself\u001B[39m\u001B[38;5;241m.\u001B[39mcv, y, classifier\u001B[38;5;241m=\u001B[39mis_classifier(\u001B[38;5;28mself\u001B[39m\u001B[38;5;241m.\u001B[39mestimator))\n",
      "File \u001B[1;32m~\\.conda\\envs\\synthetic-data-generator\\lib\\site-packages\\sklearn\\base.py:650\u001B[0m, in \u001B[0;36mBaseEstimator._validate_data\u001B[1;34m(self, X, y, reset, validate_separately, cast_to_ndarray, **check_params)\u001B[0m\n\u001B[0;32m    648\u001B[0m         y \u001B[38;5;241m=\u001B[39m check_array(y, input_name\u001B[38;5;241m=\u001B[39m\u001B[38;5;124m\"\u001B[39m\u001B[38;5;124my\u001B[39m\u001B[38;5;124m\"\u001B[39m, \u001B[38;5;241m*\u001B[39m\u001B[38;5;241m*\u001B[39mcheck_y_params)\n\u001B[0;32m    649\u001B[0m     \u001B[38;5;28;01melse\u001B[39;00m:\n\u001B[1;32m--> 650\u001B[0m         X, y \u001B[38;5;241m=\u001B[39m check_X_y(X, y, \u001B[38;5;241m*\u001B[39m\u001B[38;5;241m*\u001B[39mcheck_params)\n\u001B[0;32m    651\u001B[0m     out \u001B[38;5;241m=\u001B[39m X, y\n\u001B[0;32m    653\u001B[0m \u001B[38;5;28;01mif\u001B[39;00m \u001B[38;5;129;01mnot\u001B[39;00m no_val_X \u001B[38;5;129;01mand\u001B[39;00m check_params\u001B[38;5;241m.\u001B[39mget(\u001B[38;5;124m\"\u001B[39m\u001B[38;5;124mensure_2d\u001B[39m\u001B[38;5;124m\"\u001B[39m, \u001B[38;5;28;01mTrue\u001B[39;00m):\n",
      "File \u001B[1;32m~\\.conda\\envs\\synthetic-data-generator\\lib\\site-packages\\sklearn\\utils\\validation.py:1318\u001B[0m, in \u001B[0;36mcheck_X_y\u001B[1;34m(X, y, accept_sparse, accept_large_sparse, dtype, order, copy, force_writeable, force_all_finite, ensure_2d, allow_nd, multi_output, ensure_min_samples, ensure_min_features, y_numeric, estimator)\u001B[0m\n\u001B[0;32m   1297\u001B[0m     \u001B[38;5;28;01mraise\u001B[39;00m \u001B[38;5;167;01mValueError\u001B[39;00m(\n\u001B[0;32m   1298\u001B[0m         \u001B[38;5;124mf\u001B[39m\u001B[38;5;124m\"\u001B[39m\u001B[38;5;132;01m{\u001B[39;00mestimator_name\u001B[38;5;132;01m}\u001B[39;00m\u001B[38;5;124m requires y to be passed, but the target y is None\u001B[39m\u001B[38;5;124m\"\u001B[39m\n\u001B[0;32m   1299\u001B[0m     )\n\u001B[0;32m   1301\u001B[0m X \u001B[38;5;241m=\u001B[39m check_array(\n\u001B[0;32m   1302\u001B[0m     X,\n\u001B[0;32m   1303\u001B[0m     accept_sparse\u001B[38;5;241m=\u001B[39maccept_sparse,\n\u001B[1;32m   (...)\u001B[0m\n\u001B[0;32m   1315\u001B[0m     input_name\u001B[38;5;241m=\u001B[39m\u001B[38;5;124m\"\u001B[39m\u001B[38;5;124mX\u001B[39m\u001B[38;5;124m\"\u001B[39m,\n\u001B[0;32m   1316\u001B[0m )\n\u001B[1;32m-> 1318\u001B[0m y \u001B[38;5;241m=\u001B[39m \u001B[43m_check_y\u001B[49m\u001B[43m(\u001B[49m\u001B[43my\u001B[49m\u001B[43m,\u001B[49m\u001B[43m \u001B[49m\u001B[43mmulti_output\u001B[49m\u001B[38;5;241;43m=\u001B[39;49m\u001B[43mmulti_output\u001B[49m\u001B[43m,\u001B[49m\u001B[43m \u001B[49m\u001B[43my_numeric\u001B[49m\u001B[38;5;241;43m=\u001B[39;49m\u001B[43my_numeric\u001B[49m\u001B[43m,\u001B[49m\u001B[43m \u001B[49m\u001B[43mestimator\u001B[49m\u001B[38;5;241;43m=\u001B[39;49m\u001B[43mestimator\u001B[49m\u001B[43m)\u001B[49m\n\u001B[0;32m   1320\u001B[0m check_consistent_length(X, y)\n\u001B[0;32m   1322\u001B[0m \u001B[38;5;28;01mreturn\u001B[39;00m X, y\n",
      "File \u001B[1;32m~\\.conda\\envs\\synthetic-data-generator\\lib\\site-packages\\sklearn\\utils\\validation.py:1328\u001B[0m, in \u001B[0;36m_check_y\u001B[1;34m(y, multi_output, y_numeric, estimator)\u001B[0m\n\u001B[0;32m   1326\u001B[0m \u001B[38;5;250m\u001B[39m\u001B[38;5;124;03m\"\"\"Isolated part of check_X_y dedicated to y validation\"\"\"\u001B[39;00m\n\u001B[0;32m   1327\u001B[0m \u001B[38;5;28;01mif\u001B[39;00m multi_output:\n\u001B[1;32m-> 1328\u001B[0m     y \u001B[38;5;241m=\u001B[39m \u001B[43mcheck_array\u001B[49m\u001B[43m(\u001B[49m\n\u001B[0;32m   1329\u001B[0m \u001B[43m        \u001B[49m\u001B[43my\u001B[49m\u001B[43m,\u001B[49m\n\u001B[0;32m   1330\u001B[0m \u001B[43m        \u001B[49m\u001B[43maccept_sparse\u001B[49m\u001B[38;5;241;43m=\u001B[39;49m\u001B[38;5;124;43m\"\u001B[39;49m\u001B[38;5;124;43mcsr\u001B[39;49m\u001B[38;5;124;43m\"\u001B[39;49m\u001B[43m,\u001B[49m\n\u001B[0;32m   1331\u001B[0m \u001B[43m        \u001B[49m\u001B[43mforce_all_finite\u001B[49m\u001B[38;5;241;43m=\u001B[39;49m\u001B[38;5;28;43;01mTrue\u001B[39;49;00m\u001B[43m,\u001B[49m\n\u001B[0;32m   1332\u001B[0m \u001B[43m        \u001B[49m\u001B[43mensure_2d\u001B[49m\u001B[38;5;241;43m=\u001B[39;49m\u001B[38;5;28;43;01mFalse\u001B[39;49;00m\u001B[43m,\u001B[49m\n\u001B[0;32m   1333\u001B[0m \u001B[43m        \u001B[49m\u001B[43mdtype\u001B[49m\u001B[38;5;241;43m=\u001B[39;49m\u001B[38;5;28;43;01mNone\u001B[39;49;00m\u001B[43m,\u001B[49m\n\u001B[0;32m   1334\u001B[0m \u001B[43m        \u001B[49m\u001B[43minput_name\u001B[49m\u001B[38;5;241;43m=\u001B[39;49m\u001B[38;5;124;43m\"\u001B[39;49m\u001B[38;5;124;43my\u001B[39;49m\u001B[38;5;124;43m\"\u001B[39;49m\u001B[43m,\u001B[49m\n\u001B[0;32m   1335\u001B[0m \u001B[43m        \u001B[49m\u001B[43mestimator\u001B[49m\u001B[38;5;241;43m=\u001B[39;49m\u001B[43mestimator\u001B[49m\u001B[43m,\u001B[49m\n\u001B[0;32m   1336\u001B[0m \u001B[43m    \u001B[49m\u001B[43m)\u001B[49m\n\u001B[0;32m   1337\u001B[0m \u001B[38;5;28;01melse\u001B[39;00m:\n\u001B[0;32m   1338\u001B[0m     estimator_name \u001B[38;5;241m=\u001B[39m _check_estimator_name(estimator)\n",
      "File \u001B[1;32m~\\.conda\\envs\\synthetic-data-generator\\lib\\site-packages\\sklearn\\utils\\validation.py:1064\u001B[0m, in \u001B[0;36mcheck_array\u001B[1;34m(array, accept_sparse, accept_large_sparse, dtype, order, copy, force_writeable, force_all_finite, ensure_2d, allow_nd, ensure_min_samples, ensure_min_features, estimator, input_name)\u001B[0m\n\u001B[0;32m   1058\u001B[0m     \u001B[38;5;28;01mraise\u001B[39;00m \u001B[38;5;167;01mValueError\u001B[39;00m(\n\u001B[0;32m   1059\u001B[0m         \u001B[38;5;124m\"\u001B[39m\u001B[38;5;124mFound array with dim \u001B[39m\u001B[38;5;132;01m%d\u001B[39;00m\u001B[38;5;124m. \u001B[39m\u001B[38;5;132;01m%s\u001B[39;00m\u001B[38;5;124m expected <= 2.\u001B[39m\u001B[38;5;124m\"\u001B[39m\n\u001B[0;32m   1060\u001B[0m         \u001B[38;5;241m%\u001B[39m (array\u001B[38;5;241m.\u001B[39mndim, estimator_name)\n\u001B[0;32m   1061\u001B[0m     )\n\u001B[0;32m   1063\u001B[0m \u001B[38;5;28;01mif\u001B[39;00m force_all_finite:\n\u001B[1;32m-> 1064\u001B[0m     \u001B[43m_assert_all_finite\u001B[49m\u001B[43m(\u001B[49m\n\u001B[0;32m   1065\u001B[0m \u001B[43m        \u001B[49m\u001B[43marray\u001B[49m\u001B[43m,\u001B[49m\n\u001B[0;32m   1066\u001B[0m \u001B[43m        \u001B[49m\u001B[43minput_name\u001B[49m\u001B[38;5;241;43m=\u001B[39;49m\u001B[43minput_name\u001B[49m\u001B[43m,\u001B[49m\n\u001B[0;32m   1067\u001B[0m \u001B[43m        \u001B[49m\u001B[43mestimator_name\u001B[49m\u001B[38;5;241;43m=\u001B[39;49m\u001B[43mestimator_name\u001B[49m\u001B[43m,\u001B[49m\n\u001B[0;32m   1068\u001B[0m \u001B[43m        \u001B[49m\u001B[43mallow_nan\u001B[49m\u001B[38;5;241;43m=\u001B[39;49m\u001B[43mforce_all_finite\u001B[49m\u001B[43m \u001B[49m\u001B[38;5;241;43m==\u001B[39;49m\u001B[43m \u001B[49m\u001B[38;5;124;43m\"\u001B[39;49m\u001B[38;5;124;43mallow-nan\u001B[39;49m\u001B[38;5;124;43m\"\u001B[39;49m\u001B[43m,\u001B[49m\n\u001B[0;32m   1069\u001B[0m \u001B[43m    \u001B[49m\u001B[43m)\u001B[49m\n\u001B[0;32m   1071\u001B[0m \u001B[38;5;28;01mif\u001B[39;00m copy:\n\u001B[0;32m   1072\u001B[0m     \u001B[38;5;28;01mif\u001B[39;00m _is_numpy_namespace(xp):\n\u001B[0;32m   1073\u001B[0m         \u001B[38;5;66;03m# only make a copy if `array` and `array_orig` may share memory`\u001B[39;00m\n",
      "File \u001B[1;32m~\\.conda\\envs\\synthetic-data-generator\\lib\\site-packages\\sklearn\\utils\\validation.py:123\u001B[0m, in \u001B[0;36m_assert_all_finite\u001B[1;34m(X, allow_nan, msg_dtype, estimator_name, input_name)\u001B[0m\n\u001B[0;32m    120\u001B[0m \u001B[38;5;28;01mif\u001B[39;00m first_pass_isfinite:\n\u001B[0;32m    121\u001B[0m     \u001B[38;5;28;01mreturn\u001B[39;00m\n\u001B[1;32m--> 123\u001B[0m \u001B[43m_assert_all_finite_element_wise\u001B[49m\u001B[43m(\u001B[49m\n\u001B[0;32m    124\u001B[0m \u001B[43m    \u001B[49m\u001B[43mX\u001B[49m\u001B[43m,\u001B[49m\n\u001B[0;32m    125\u001B[0m \u001B[43m    \u001B[49m\u001B[43mxp\u001B[49m\u001B[38;5;241;43m=\u001B[39;49m\u001B[43mxp\u001B[49m\u001B[43m,\u001B[49m\n\u001B[0;32m    126\u001B[0m \u001B[43m    \u001B[49m\u001B[43mallow_nan\u001B[49m\u001B[38;5;241;43m=\u001B[39;49m\u001B[43mallow_nan\u001B[49m\u001B[43m,\u001B[49m\n\u001B[0;32m    127\u001B[0m \u001B[43m    \u001B[49m\u001B[43mmsg_dtype\u001B[49m\u001B[38;5;241;43m=\u001B[39;49m\u001B[43mmsg_dtype\u001B[49m\u001B[43m,\u001B[49m\n\u001B[0;32m    128\u001B[0m \u001B[43m    \u001B[49m\u001B[43mestimator_name\u001B[49m\u001B[38;5;241;43m=\u001B[39;49m\u001B[43mestimator_name\u001B[49m\u001B[43m,\u001B[49m\n\u001B[0;32m    129\u001B[0m \u001B[43m    \u001B[49m\u001B[43minput_name\u001B[49m\u001B[38;5;241;43m=\u001B[39;49m\u001B[43minput_name\u001B[49m\u001B[43m,\u001B[49m\n\u001B[0;32m    130\u001B[0m \u001B[43m\u001B[49m\u001B[43m)\u001B[49m\n",
      "File \u001B[1;32m~\\.conda\\envs\\synthetic-data-generator\\lib\\site-packages\\sklearn\\utils\\validation.py:172\u001B[0m, in \u001B[0;36m_assert_all_finite_element_wise\u001B[1;34m(X, xp, allow_nan, msg_dtype, estimator_name, input_name)\u001B[0m\n\u001B[0;32m    155\u001B[0m \u001B[38;5;28;01mif\u001B[39;00m estimator_name \u001B[38;5;129;01mand\u001B[39;00m input_name \u001B[38;5;241m==\u001B[39m \u001B[38;5;124m\"\u001B[39m\u001B[38;5;124mX\u001B[39m\u001B[38;5;124m\"\u001B[39m \u001B[38;5;129;01mand\u001B[39;00m has_nan_error:\n\u001B[0;32m    156\u001B[0m     \u001B[38;5;66;03m# Improve the error message on how to handle missing values in\u001B[39;00m\n\u001B[0;32m    157\u001B[0m     \u001B[38;5;66;03m# scikit-learn.\u001B[39;00m\n\u001B[0;32m    158\u001B[0m     msg_err \u001B[38;5;241m+\u001B[39m\u001B[38;5;241m=\u001B[39m (\n\u001B[0;32m    159\u001B[0m         \u001B[38;5;124mf\u001B[39m\u001B[38;5;124m\"\u001B[39m\u001B[38;5;130;01m\\n\u001B[39;00m\u001B[38;5;132;01m{\u001B[39;00mestimator_name\u001B[38;5;132;01m}\u001B[39;00m\u001B[38;5;124m does not accept missing values\u001B[39m\u001B[38;5;124m\"\u001B[39m\n\u001B[0;32m    160\u001B[0m         \u001B[38;5;124m\"\u001B[39m\u001B[38;5;124m encoded as NaN natively. For supervised learning, you might want\u001B[39m\u001B[38;5;124m\"\u001B[39m\n\u001B[1;32m   (...)\u001B[0m\n\u001B[0;32m    170\u001B[0m         \u001B[38;5;124m\"\u001B[39m\u001B[38;5;124m#estimators-that-handle-nan-values\u001B[39m\u001B[38;5;124m\"\u001B[39m\n\u001B[0;32m    171\u001B[0m     )\n\u001B[1;32m--> 172\u001B[0m \u001B[38;5;28;01mraise\u001B[39;00m \u001B[38;5;167;01mValueError\u001B[39;00m(msg_err)\n",
      "\u001B[1;31mValueError\u001B[0m: Input y contains NaN."
     ]
    }
   ],
   "execution_count": 22
  },
  {
   "metadata": {},
   "cell_type": "code",
   "source": [
    "for i in range(len(model.to_training)):\n",
    "    tbn = model.to_training[i].table_name\n",
    "    if model.to_training[i].tables is None:\n",
    "        print(tbn)\n",
    "        continue\n",
    "    print(tbn, len(model.multi_x_join.origin_tables[tbn].columns),\n",
    "    len(model.to_training[i].tables.columns),\n",
    "          {\n",
    "              k: len(v) for k, v in model.to_training[i].target_column_name_selected_map.items()\n",
    "          },model.to_training[i].tables.columns)"
   ],
   "id": "8ec8503a43f4a003",
   "outputs": [],
   "execution_count": null
  },
  {
   "metadata": {},
   "cell_type": "code",
   "source": [
    "\n",
    "\n",
    "model.fit()\n"
   ],
   "id": "d5e65732f1018a13",
   "outputs": [],
   "execution_count": null
  },
  {
   "metadata": {},
   "cell_type": "code",
   "source": "data = model.sample(1000)",
   "id": "6b66544301dbe22a",
   "outputs": [],
   "execution_count": null
  },
  {
   "metadata": {},
   "cell_type": "code",
   "source": [
    "for k in data:\n",
    "    print(k, len(data[k]))"
   ],
   "id": "538dda3c6a45078d",
   "outputs": [],
   "execution_count": null
  },
  {
   "metadata": {},
   "cell_type": "code",
   "source": "data[\"Book\"]",
   "id": "7066a12565e2efc7",
   "outputs": [],
   "execution_count": null
  },
  {
   "metadata": {},
   "cell_type": "code",
   "source": "s1 = (data[\"BookLoan\"][\"student_id\"])",
   "id": "516b942d985f295f",
   "outputs": [],
   "execution_count": null
  },
  {
   "metadata": {},
   "cell_type": "code",
   "source": "s2 = (data[\"Student\"][\"student_id\"])",
   "id": "d8cac4e01d6d571c",
   "outputs": [],
   "execution_count": null
  },
  {
   "metadata": {},
   "cell_type": "code",
   "source": "s1.equals(s2)",
   "id": "27a18089dca19c80",
   "outputs": [],
   "execution_count": null
  },
  {
   "metadata": {},
   "cell_type": "code",
   "source": "model.evaluate(x_args, data)",
   "id": "cafb906a994d0eb6",
   "outputs": [],
   "execution_count": null
  },
  {
   "metadata": {},
   "cell_type": "code",
   "source": "",
   "id": "7510d206b19a0ae0",
   "outputs": [],
   "execution_count": null
  },
  {
   "metadata": {},
   "cell_type": "code",
   "source": "",
   "id": "fb0d383f96116aa1",
   "outputs": [],
   "execution_count": null
  }
 ],
 "metadata": {
  "kernelspec": {
   "display_name": "Python 3",
   "language": "python",
   "name": "python3"
  },
  "language_info": {
   "codemirror_mode": {
    "name": "ipython",
    "version": 2
   },
   "file_extension": ".py",
   "mimetype": "text/x-python",
   "name": "python",
   "nbconvert_exporter": "python",
   "pygments_lexer": "ipython2",
   "version": "2.7.6"
  }
 },
 "nbformat": 4,
 "nbformat_minor": 5
}
