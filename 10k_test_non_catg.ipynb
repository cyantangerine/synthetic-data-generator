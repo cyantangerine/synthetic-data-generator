{
 "cells": [
  {
   "metadata": {
    "ExecuteTime": {
     "end_time": "2024-09-28T08:29:51.804200Z",
     "start_time": "2024-09-28T08:29:49.662415Z"
    }
   },
   "cell_type": "code",
   "source": [
    "from mycode.test_20_tables import fetch_data_from_sqlite, Metadata as sdvMetadata\n",
    "from sdgx.data_connectors.csv_connector import CsvConnector\n",
    "from sdgx.models.ml.single_table.ctgan import CTGANSynthesizerModel\n",
    "from sdgx.synthesizer import Synthesizer\n",
    "import time\n",
    "def writetime():\n",
    "    st = time.time()\n",
    "    with open(\"time.log\", \"a+\") as f:\n",
    "        f.write(str(st) + \"\\n\")"
   ],
   "outputs": [],
   "execution_count": 1
  },
  {
   "metadata": {},
   "cell_type": "markdown",
   "source": "构造数据"
  },
  {
   "cell_type": "code",
   "metadata": {
    "ExecuteTime": {
     "end_time": "2024-09-28T08:29:52.114510Z",
     "start_time": "2024-09-28T08:29:51.805193Z"
    }
   },
   "source": [
    "metadata, tables = fetch_data_from_sqlite(path='./mycode/data_sqlite.db')\n",
    "metadata = sdvMetadata(metadata)\n",
    "metadata.get_tables()\n",
    "import pandas as pd\n",
    "result_table = tables[\"BookLoan\"]\n",
    "x_table = [\"Book\", \"Library\", \"Student\", \"Enrollment\", \"Submission\"]\n",
    "x_key = ['book_id', \"library_id\", \"student_id\", \"student_id\",\"student_id\"]\n",
    "x_how = ['inner' for i in range(5)]\n",
    "print(f\"{len(result_table)=}\")\n",
    "for i, x_table_name in enumerate(x_table):\n",
    "    result_table = pd.merge(result_table, tables[x_table_name], on=x_key[i], how=x_how[i])\n",
    "    print(f\"{len(result_table)}\", end=\" \")\n",
    "print(len(result_table.columns))\n",
    "result_table"
   ],
   "outputs": [
    {
     "name": "stdout",
     "output_type": "stream",
     "text": [
      "len(result_table)=10000\n",
      "10000 10000 10000 9999 10798 23\n"
     ]
    },
    {
     "data": {
      "text/plain": [
       "       loan_id  book_id  student_id   loan_date return_date  \\\n",
       "0            1        1        5068  2024-07-19  2025-07-30   \n",
       "1            1        1        5068  2024-07-19  2025-07-30   \n",
       "2            1        1        5068  2024-07-19  2025-07-30   \n",
       "3            1        1        5068  2024-07-19  2025-07-30   \n",
       "4            1        1        5068  2024-07-19  2025-07-30   \n",
       "...        ...      ...         ...         ...         ...   \n",
       "10793     9998     9998        3486  2024-01-14  2024-12-09   \n",
       "10794     9998     9998        3486  2024-01-14  2024-12-09   \n",
       "10795     9998     9998        3486  2024-01-14  2024-12-09   \n",
       "10796     9999     9999        2281  2023-12-28  2025-08-23   \n",
       "10797     9999     9999        2281  2023-12-28  2025-08-23   \n",
       "\n",
       "                         title          author               isbn  library_id  \\\n",
       "0                  Model bank.     Ricky Brown  978-1-4017-1762-9           1   \n",
       "1                  Model bank.     Ricky Brown  978-1-4017-1762-9           1   \n",
       "2                  Model bank.     Ricky Brown  978-1-4017-1762-9           1   \n",
       "3                  Model bank.     Ricky Brown  978-1-4017-1762-9           1   \n",
       "4                  Model bank.     Ricky Brown  978-1-4017-1762-9           1   \n",
       "...                        ...             ...                ...         ...   \n",
       "10793  Listen interview world.   Richard Floyd  978-0-7738-9332-0        9998   \n",
       "10794  Listen interview world.   Richard Floyd  978-0-7738-9332-0        9998   \n",
       "10795  Listen interview world.   Richard Floyd  978-0-7738-9332-0        9998   \n",
       "10796   Challenge last suffer.  Robert Holland  978-1-67998-842-4        9999   \n",
       "10797   Challenge last suffer.  Robert Holland  978-1-67998-842-4        9999   \n",
       "\n",
       "                       name_x  ... date_of_birth major enrollment_id  \\\n",
       "0        Wilson Group Library  ...    2003-01-27  1262          5758   \n",
       "1        Wilson Group Library  ...    2003-01-27  1262          5758   \n",
       "2        Wilson Group Library  ...    2003-01-27  1262          5758   \n",
       "3        Wilson Group Library  ...    2003-01-27  1262          9382   \n",
       "4        Wilson Group Library  ...    2003-01-27  1262          9382   \n",
       "...                       ...  ...           ...   ...           ...   \n",
       "10793    Johnston Inc Library  ...    2000-08-21  8143          3450   \n",
       "10794    Johnston Inc Library  ...    2000-08-21  8143          3757   \n",
       "10795    Johnston Inc Library  ...    2000-08-21  8143          3757   \n",
       "10796  Williams-Smith Library  ...    1996-11-30  1005          9064   \n",
       "10797  Williams-Smith Library  ...    1996-11-30  1005          9064   \n",
       "\n",
       "      course_id     semester  grade_x  submission_id assignment_id  \\\n",
       "0          9618    Fall 2022        C           2462          9937   \n",
       "1          9618    Fall 2022        C           3984          4403   \n",
       "2          9618    Fall 2022        C           7851          6252   \n",
       "3          5777  Summer 2023        A           2462          9937   \n",
       "4          5777  Summer 2023        A           3984          4403   \n",
       "...         ...          ...      ...            ...           ...   \n",
       "10793      6477  Spring 2021        F           8054          1227   \n",
       "10794      4480    Fall 2019     None            578          6739   \n",
       "10795      4480    Fall 2019     None           8054          1227   \n",
       "10796      7483    Fall 2021        B           9247          1546   \n",
       "10797      7483    Fall 2021        B          10387          2291   \n",
       "\n",
       "           submission_date  grade_y  \n",
       "0      2022-10-18 02:02:31        B  \n",
       "1      2022-11-15 20:13:23        I  \n",
       "2      2022-07-31 08:44:12        A  \n",
       "3      2022-10-18 02:02:31        B  \n",
       "4      2022-11-15 20:13:23        I  \n",
       "...                    ...      ...  \n",
       "10793  2022-09-20 01:25:41        C  \n",
       "10794  2022-11-01 16:39:13        A  \n",
       "10795  2022-09-20 01:25:41        C  \n",
       "10796  2022-08-05 15:48:08        B  \n",
       "10797  2022-04-15 09:37:00        F  \n",
       "\n",
       "[10798 rows x 23 columns]"
      ],
      "text/html": [
       "<div>\n",
       "<style scoped>\n",
       "    .dataframe tbody tr th:only-of-type {\n",
       "        vertical-align: middle;\n",
       "    }\n",
       "\n",
       "    .dataframe tbody tr th {\n",
       "        vertical-align: top;\n",
       "    }\n",
       "\n",
       "    .dataframe thead th {\n",
       "        text-align: right;\n",
       "    }\n",
       "</style>\n",
       "<table border=\"1\" class=\"dataframe\">\n",
       "  <thead>\n",
       "    <tr style=\"text-align: right;\">\n",
       "      <th></th>\n",
       "      <th>loan_id</th>\n",
       "      <th>book_id</th>\n",
       "      <th>student_id</th>\n",
       "      <th>loan_date</th>\n",
       "      <th>return_date</th>\n",
       "      <th>title</th>\n",
       "      <th>author</th>\n",
       "      <th>isbn</th>\n",
       "      <th>library_id</th>\n",
       "      <th>name_x</th>\n",
       "      <th>...</th>\n",
       "      <th>date_of_birth</th>\n",
       "      <th>major</th>\n",
       "      <th>enrollment_id</th>\n",
       "      <th>course_id</th>\n",
       "      <th>semester</th>\n",
       "      <th>grade_x</th>\n",
       "      <th>submission_id</th>\n",
       "      <th>assignment_id</th>\n",
       "      <th>submission_date</th>\n",
       "      <th>grade_y</th>\n",
       "    </tr>\n",
       "  </thead>\n",
       "  <tbody>\n",
       "    <tr>\n",
       "      <th>0</th>\n",
       "      <td>1</td>\n",
       "      <td>1</td>\n",
       "      <td>5068</td>\n",
       "      <td>2024-07-19</td>\n",
       "      <td>2025-07-30</td>\n",
       "      <td>Model bank.</td>\n",
       "      <td>Ricky Brown</td>\n",
       "      <td>978-1-4017-1762-9</td>\n",
       "      <td>1</td>\n",
       "      <td>Wilson Group Library</td>\n",
       "      <td>...</td>\n",
       "      <td>2003-01-27</td>\n",
       "      <td>1262</td>\n",
       "      <td>5758</td>\n",
       "      <td>9618</td>\n",
       "      <td>Fall 2022</td>\n",
       "      <td>C</td>\n",
       "      <td>2462</td>\n",
       "      <td>9937</td>\n",
       "      <td>2022-10-18 02:02:31</td>\n",
       "      <td>B</td>\n",
       "    </tr>\n",
       "    <tr>\n",
       "      <th>1</th>\n",
       "      <td>1</td>\n",
       "      <td>1</td>\n",
       "      <td>5068</td>\n",
       "      <td>2024-07-19</td>\n",
       "      <td>2025-07-30</td>\n",
       "      <td>Model bank.</td>\n",
       "      <td>Ricky Brown</td>\n",
       "      <td>978-1-4017-1762-9</td>\n",
       "      <td>1</td>\n",
       "      <td>Wilson Group Library</td>\n",
       "      <td>...</td>\n",
       "      <td>2003-01-27</td>\n",
       "      <td>1262</td>\n",
       "      <td>5758</td>\n",
       "      <td>9618</td>\n",
       "      <td>Fall 2022</td>\n",
       "      <td>C</td>\n",
       "      <td>3984</td>\n",
       "      <td>4403</td>\n",
       "      <td>2022-11-15 20:13:23</td>\n",
       "      <td>I</td>\n",
       "    </tr>\n",
       "    <tr>\n",
       "      <th>2</th>\n",
       "      <td>1</td>\n",
       "      <td>1</td>\n",
       "      <td>5068</td>\n",
       "      <td>2024-07-19</td>\n",
       "      <td>2025-07-30</td>\n",
       "      <td>Model bank.</td>\n",
       "      <td>Ricky Brown</td>\n",
       "      <td>978-1-4017-1762-9</td>\n",
       "      <td>1</td>\n",
       "      <td>Wilson Group Library</td>\n",
       "      <td>...</td>\n",
       "      <td>2003-01-27</td>\n",
       "      <td>1262</td>\n",
       "      <td>5758</td>\n",
       "      <td>9618</td>\n",
       "      <td>Fall 2022</td>\n",
       "      <td>C</td>\n",
       "      <td>7851</td>\n",
       "      <td>6252</td>\n",
       "      <td>2022-07-31 08:44:12</td>\n",
       "      <td>A</td>\n",
       "    </tr>\n",
       "    <tr>\n",
       "      <th>3</th>\n",
       "      <td>1</td>\n",
       "      <td>1</td>\n",
       "      <td>5068</td>\n",
       "      <td>2024-07-19</td>\n",
       "      <td>2025-07-30</td>\n",
       "      <td>Model bank.</td>\n",
       "      <td>Ricky Brown</td>\n",
       "      <td>978-1-4017-1762-9</td>\n",
       "      <td>1</td>\n",
       "      <td>Wilson Group Library</td>\n",
       "      <td>...</td>\n",
       "      <td>2003-01-27</td>\n",
       "      <td>1262</td>\n",
       "      <td>9382</td>\n",
       "      <td>5777</td>\n",
       "      <td>Summer 2023</td>\n",
       "      <td>A</td>\n",
       "      <td>2462</td>\n",
       "      <td>9937</td>\n",
       "      <td>2022-10-18 02:02:31</td>\n",
       "      <td>B</td>\n",
       "    </tr>\n",
       "    <tr>\n",
       "      <th>4</th>\n",
       "      <td>1</td>\n",
       "      <td>1</td>\n",
       "      <td>5068</td>\n",
       "      <td>2024-07-19</td>\n",
       "      <td>2025-07-30</td>\n",
       "      <td>Model bank.</td>\n",
       "      <td>Ricky Brown</td>\n",
       "      <td>978-1-4017-1762-9</td>\n",
       "      <td>1</td>\n",
       "      <td>Wilson Group Library</td>\n",
       "      <td>...</td>\n",
       "      <td>2003-01-27</td>\n",
       "      <td>1262</td>\n",
       "      <td>9382</td>\n",
       "      <td>5777</td>\n",
       "      <td>Summer 2023</td>\n",
       "      <td>A</td>\n",
       "      <td>3984</td>\n",
       "      <td>4403</td>\n",
       "      <td>2022-11-15 20:13:23</td>\n",
       "      <td>I</td>\n",
       "    </tr>\n",
       "    <tr>\n",
       "      <th>...</th>\n",
       "      <td>...</td>\n",
       "      <td>...</td>\n",
       "      <td>...</td>\n",
       "      <td>...</td>\n",
       "      <td>...</td>\n",
       "      <td>...</td>\n",
       "      <td>...</td>\n",
       "      <td>...</td>\n",
       "      <td>...</td>\n",
       "      <td>...</td>\n",
       "      <td>...</td>\n",
       "      <td>...</td>\n",
       "      <td>...</td>\n",
       "      <td>...</td>\n",
       "      <td>...</td>\n",
       "      <td>...</td>\n",
       "      <td>...</td>\n",
       "      <td>...</td>\n",
       "      <td>...</td>\n",
       "      <td>...</td>\n",
       "      <td>...</td>\n",
       "    </tr>\n",
       "    <tr>\n",
       "      <th>10793</th>\n",
       "      <td>9998</td>\n",
       "      <td>9998</td>\n",
       "      <td>3486</td>\n",
       "      <td>2024-01-14</td>\n",
       "      <td>2024-12-09</td>\n",
       "      <td>Listen interview world.</td>\n",
       "      <td>Richard Floyd</td>\n",
       "      <td>978-0-7738-9332-0</td>\n",
       "      <td>9998</td>\n",
       "      <td>Johnston Inc Library</td>\n",
       "      <td>...</td>\n",
       "      <td>2000-08-21</td>\n",
       "      <td>8143</td>\n",
       "      <td>3450</td>\n",
       "      <td>6477</td>\n",
       "      <td>Spring 2021</td>\n",
       "      <td>F</td>\n",
       "      <td>8054</td>\n",
       "      <td>1227</td>\n",
       "      <td>2022-09-20 01:25:41</td>\n",
       "      <td>C</td>\n",
       "    </tr>\n",
       "    <tr>\n",
       "      <th>10794</th>\n",
       "      <td>9998</td>\n",
       "      <td>9998</td>\n",
       "      <td>3486</td>\n",
       "      <td>2024-01-14</td>\n",
       "      <td>2024-12-09</td>\n",
       "      <td>Listen interview world.</td>\n",
       "      <td>Richard Floyd</td>\n",
       "      <td>978-0-7738-9332-0</td>\n",
       "      <td>9998</td>\n",
       "      <td>Johnston Inc Library</td>\n",
       "      <td>...</td>\n",
       "      <td>2000-08-21</td>\n",
       "      <td>8143</td>\n",
       "      <td>3757</td>\n",
       "      <td>4480</td>\n",
       "      <td>Fall 2019</td>\n",
       "      <td>None</td>\n",
       "      <td>578</td>\n",
       "      <td>6739</td>\n",
       "      <td>2022-11-01 16:39:13</td>\n",
       "      <td>A</td>\n",
       "    </tr>\n",
       "    <tr>\n",
       "      <th>10795</th>\n",
       "      <td>9998</td>\n",
       "      <td>9998</td>\n",
       "      <td>3486</td>\n",
       "      <td>2024-01-14</td>\n",
       "      <td>2024-12-09</td>\n",
       "      <td>Listen interview world.</td>\n",
       "      <td>Richard Floyd</td>\n",
       "      <td>978-0-7738-9332-0</td>\n",
       "      <td>9998</td>\n",
       "      <td>Johnston Inc Library</td>\n",
       "      <td>...</td>\n",
       "      <td>2000-08-21</td>\n",
       "      <td>8143</td>\n",
       "      <td>3757</td>\n",
       "      <td>4480</td>\n",
       "      <td>Fall 2019</td>\n",
       "      <td>None</td>\n",
       "      <td>8054</td>\n",
       "      <td>1227</td>\n",
       "      <td>2022-09-20 01:25:41</td>\n",
       "      <td>C</td>\n",
       "    </tr>\n",
       "    <tr>\n",
       "      <th>10796</th>\n",
       "      <td>9999</td>\n",
       "      <td>9999</td>\n",
       "      <td>2281</td>\n",
       "      <td>2023-12-28</td>\n",
       "      <td>2025-08-23</td>\n",
       "      <td>Challenge last suffer.</td>\n",
       "      <td>Robert Holland</td>\n",
       "      <td>978-1-67998-842-4</td>\n",
       "      <td>9999</td>\n",
       "      <td>Williams-Smith Library</td>\n",
       "      <td>...</td>\n",
       "      <td>1996-11-30</td>\n",
       "      <td>1005</td>\n",
       "      <td>9064</td>\n",
       "      <td>7483</td>\n",
       "      <td>Fall 2021</td>\n",
       "      <td>B</td>\n",
       "      <td>9247</td>\n",
       "      <td>1546</td>\n",
       "      <td>2022-08-05 15:48:08</td>\n",
       "      <td>B</td>\n",
       "    </tr>\n",
       "    <tr>\n",
       "      <th>10797</th>\n",
       "      <td>9999</td>\n",
       "      <td>9999</td>\n",
       "      <td>2281</td>\n",
       "      <td>2023-12-28</td>\n",
       "      <td>2025-08-23</td>\n",
       "      <td>Challenge last suffer.</td>\n",
       "      <td>Robert Holland</td>\n",
       "      <td>978-1-67998-842-4</td>\n",
       "      <td>9999</td>\n",
       "      <td>Williams-Smith Library</td>\n",
       "      <td>...</td>\n",
       "      <td>1996-11-30</td>\n",
       "      <td>1005</td>\n",
       "      <td>9064</td>\n",
       "      <td>7483</td>\n",
       "      <td>Fall 2021</td>\n",
       "      <td>B</td>\n",
       "      <td>10387</td>\n",
       "      <td>2291</td>\n",
       "      <td>2022-04-15 09:37:00</td>\n",
       "      <td>F</td>\n",
       "    </tr>\n",
       "  </tbody>\n",
       "</table>\n",
       "<p>10798 rows × 23 columns</p>\n",
       "</div>"
      ]
     },
     "execution_count": 2,
     "metadata": {},
     "output_type": "execute_result"
    }
   ],
   "execution_count": 2
  },
  {
   "cell_type": "code",
   "metadata": {
    "ExecuteTime": {
     "end_time": "2024-09-28T08:29:52.130453Z",
     "start_time": "2024-09-28T08:29:52.115503Z"
    }
   },
   "source": [
    "result_table = result_table.drop(columns=[\"title\", \"author\", \"name_x\", \"semester\", \"location\", \"name_y\", \"email\"])"
   ],
   "outputs": [],
   "execution_count": 3
  },
  {
   "cell_type": "code",
   "metadata": {
    "ExecuteTime": {
     "end_time": "2024-09-28T08:29:52.146399Z",
     "start_time": "2024-09-28T08:29:52.131449Z"
    }
   },
   "source": [
    "result_table = result_table.drop(columns=[\"isbn\"])"
   ],
   "outputs": [],
   "execution_count": 4
  },
  {
   "cell_type": "code",
   "metadata": {
    "ExecuteTime": {
     "end_time": "2024-09-28T08:29:52.162350Z",
     "start_time": "2024-09-28T08:29:52.147397Z"
    }
   },
   "source": "# result_table = result_table.drop(columns=[\"grade_x\", \"grade_y\"])",
   "outputs": [],
   "execution_count": 5
  },
  {
   "cell_type": "code",
   "metadata": {
    "ExecuteTime": {
     "end_time": "2024-09-28T08:29:52.178296Z",
     "start_time": "2024-09-28T08:29:52.163343Z"
    }
   },
   "source": "# result_table.head()",
   "outputs": [],
   "execution_count": 6
  },
  {
   "metadata": {
    "ExecuteTime": {
     "end_time": "2024-09-28T08:29:52.194243Z",
     "start_time": "2024-09-28T08:29:52.179294Z"
    }
   },
   "cell_type": "code",
   "source": "result_table = result_table[:100]",
   "outputs": [],
   "execution_count": 7
  },
  {
   "metadata": {},
   "cell_type": "markdown",
   "source": "检查metadata"
  },
  {
   "cell_type": "code",
   "metadata": {
    "ExecuteTime": {
     "end_time": "2024-09-28T08:29:52.303791Z",
     "start_time": "2024-09-28T08:29:52.195237Z"
    }
   },
   "source": [
    "from sdgx.data_loader import DataLoader\n",
    "from sdgx.data_models.metadata import Metadata\n",
    "\n",
    "result_table.to_csv(\"test_10k_noncat.csv\", index=False)\n",
    "dataset_csv = \"test_10k_noncat.csv\"\n",
    "data_connector = CsvConnector(path=dataset_csv)\n",
    "data_loader = DataLoader(data_connector)\n",
    "loan_metadata = Metadata.from_dataloader(data_loader)\n",
    "\n",
    "loan_metadata.discrete_columns"
   ],
   "outputs": [
    {
     "name": "stderr",
     "output_type": "stream",
     "text": [
      "\u001B[32m2024-09-28 16:29:52.212\u001B[0m | \u001B[1mINFO    \u001B[0m | \u001B[36msdgx.data_models.metadata\u001B[0m:\u001B[36mfrom_dataloader\u001B[0m:\u001B[36m291\u001B[0m - \u001B[1mInspecting metadata...\u001B[0m\n",
      "\u001B[32m2024-09-28 16:29:52.291\u001B[0m | \u001B[1mINFO    \u001B[0m | \u001B[36msdgx.data_models.metadata\u001B[0m:\u001B[36mupdate_primary_key\u001B[0m:\u001B[36m500\u001B[0m - \u001B[1mPrimary Key updated: set().\u001B[0m\n"
     ]
    },
    {
     "data": {
      "text/plain": [
       "{'date_of_birth',\n",
       " 'grade_x',\n",
       " 'grade_y',\n",
       " 'loan_date',\n",
       " 'return_date',\n",
       " 'submission_date'}"
      ]
     },
     "execution_count": 8,
     "metadata": {},
     "output_type": "execute_result"
    }
   ],
   "execution_count": 8
  },
  {
   "cell_type": "code",
   "metadata": {
    "ExecuteTime": {
     "end_time": "2024-09-28T08:29:52.319710Z",
     "start_time": "2024-09-28T08:29:52.306738Z"
    }
   },
   "source": [
    "loan_metadata.datetime_columns\n",
    "loan_metadata.column_list.__len__()"
   ],
   "outputs": [
    {
     "data": {
      "text/plain": [
       "15"
      ]
     },
     "execution_count": 9,
     "metadata": {},
     "output_type": "execute_result"
    }
   ],
   "execution_count": 9
  },
  {
   "metadata": {},
   "cell_type": "markdown",
   "source": "训练"
  },
  {
   "cell_type": "code",
   "metadata": {
    "jupyter": {
     "is_executing": true
    },
    "ExecuteTime": {
     "start_time": "2024-09-28T08:40:41.420843Z"
    }
   },
   "source": [
    "\n",
    "\n",
    "ctgan = CTGANSynthesizerModel(\n",
    "        epochs=1,\n",
    "        batch_size=500,\n",
    "        # device=\"cpu\"\n",
    "    )\n",
    "# Initialize synthesizer, use CTGAN model\n",
    "synthesizer = Synthesizer(\n",
    "    model=ctgan,  # For quick demo\n",
    "    data_connector=data_connector,\n",
    ")\n",
    "\n",
    "\n",
    "writetime()\n",
    "synthesizer.fit()\n",
    "writetime()\n",
    "#synthesizer.save(\"test_model_10k_id10\")"
   ],
   "outputs": [
    {
     "name": "stderr",
     "output_type": "stream",
     "text": [
      "\u001B[32m2024-09-28 16:40:41.426\u001B[0m | \u001B[1mINFO    \u001B[0m | \u001B[36msdgx.synthesizer\u001B[0m:\u001B[36m__init__\u001B[0m:\u001B[36m106\u001B[0m - \u001B[1mUsing data processors: ['nonvaluetransformer', 'outliertransformer', 'emailgenerator', 'chnpiigenerator', 'intvalueformatter', 'datetimeformatter', 'constvaluetransformer', 'emptytransformer', 'columnordertransformer']\u001B[0m\n",
      "\u001B[32m2024-09-28 16:40:41.427\u001B[0m | \u001B[1mINFO    \u001B[0m | \u001B[36msdgx.data_models.metadata\u001B[0m:\u001B[36mfrom_dataloader\u001B[0m:\u001B[36m291\u001B[0m - \u001B[1mInspecting metadata...\u001B[0m\n",
      "\u001B[32m2024-09-28 16:40:41.577\u001B[0m | \u001B[1mINFO    \u001B[0m | \u001B[36msdgx.data_models.metadata\u001B[0m:\u001B[36mupdate_primary_key\u001B[0m:\u001B[36m500\u001B[0m - \u001B[1mPrimary Key updated: set().\u001B[0m\n",
      "\u001B[32m2024-09-28 16:40:41.578\u001B[0m | \u001B[1mINFO    \u001B[0m | \u001B[36msdgx.synthesizer\u001B[0m:\u001B[36mfit\u001B[0m:\u001B[36m296\u001B[0m - \u001B[1mFitting data processors...\u001B[0m\n",
      "\u001B[32m2024-09-28 16:40:41.592\u001B[0m | \u001B[1mINFO    \u001B[0m | \u001B[36msdgx.data_processors.transformers.nan\u001B[0m:\u001B[36mfit\u001B[0m:\u001B[36m71\u001B[0m - \u001B[1mNonValueTransformer Fitted.\u001B[0m\n",
      "\u001B[32m2024-09-28 16:40:41.593\u001B[0m | \u001B[1mINFO    \u001B[0m | \u001B[36msdgx.data_processors.transformers.nan\u001B[0m:\u001B[36mfit\u001B[0m:\u001B[36m87\u001B[0m - \u001B[1mNonValueTransformer get int columns: {'library_id', 'book_id', 'course_id', 'student_id', 'submission_id', 'enrollment_id', 'assignment_id', 'loan_id', 'major'}.\u001B[0m\n",
      "\u001B[32m2024-09-28 16:40:41.594\u001B[0m | \u001B[1mINFO    \u001B[0m | \u001B[36msdgx.data_processors.transformers.nan\u001B[0m:\u001B[36mfit\u001B[0m:\u001B[36m96\u001B[0m - \u001B[1mNonValueTransformer get float columns: set().\u001B[0m\n",
      "\u001B[32m2024-09-28 16:40:41.594\u001B[0m | \u001B[1mINFO    \u001B[0m | \u001B[36msdgx.data_processors.transformers.nan\u001B[0m:\u001B[36mfit\u001B[0m:\u001B[36m101\u001B[0m - \u001B[1mNonValueTransformer get column list from metadata: ['loan_id', 'book_id', 'student_id', 'loan_date', 'return_date', 'library_id', 'date_of_birth', 'major', 'enrollment_id', 'course_id', 'grade_x', 'submission_id', 'assignment_id', 'submission_date', 'grade_y'].\u001B[0m\n",
      "\u001B[32m2024-09-28 16:40:41.595\u001B[0m | \u001B[1mINFO    \u001B[0m | \u001B[36msdgx.data_processors.transformers.outlier\u001B[0m:\u001B[36mfit\u001B[0m:\u001B[36m70\u001B[0m - \u001B[1mOutlierTransformer Fitted.\u001B[0m\n",
      "\u001B[32m2024-09-28 16:40:41.596\u001B[0m | \u001B[1mINFO    \u001B[0m | \u001B[36msdgx.data_processors.formatters.int\u001B[0m:\u001B[36mfit\u001B[0m:\u001B[36m40\u001B[0m - \u001B[1mIntValueFormatter Fitted.\u001B[0m\n",
      "\u001B[32m2024-09-28 16:40:41.596\u001B[0m | \u001B[33m\u001B[1mWARNING \u001B[0m | \u001B[36msdgx.data_processors.formatters.datetime\u001B[0m:\u001B[36mfit\u001B[0m:\u001B[36m70\u001B[0m - \u001B[33m\u001B[1mColumn date_of_birth has no datetime_format, DatetimeFormatter will REMOVE this column！\u001B[0m\n",
      "\u001B[32m2024-09-28 16:40:41.597\u001B[0m | \u001B[33m\u001B[1mWARNING \u001B[0m | \u001B[36msdgx.data_processors.formatters.datetime\u001B[0m:\u001B[36mfit\u001B[0m:\u001B[36m70\u001B[0m - \u001B[33m\u001B[1mColumn return_date has no datetime_format, DatetimeFormatter will REMOVE this column！\u001B[0m\n",
      "\u001B[32m2024-09-28 16:40:41.597\u001B[0m | \u001B[33m\u001B[1mWARNING \u001B[0m | \u001B[36msdgx.data_processors.formatters.datetime\u001B[0m:\u001B[36mfit\u001B[0m:\u001B[36m70\u001B[0m - \u001B[33m\u001B[1mColumn submission_date has no datetime_format, DatetimeFormatter will REMOVE this column！\u001B[0m\n",
      "\u001B[32m2024-09-28 16:40:41.597\u001B[0m | \u001B[33m\u001B[1mWARNING \u001B[0m | \u001B[36msdgx.data_processors.formatters.datetime\u001B[0m:\u001B[36mfit\u001B[0m:\u001B[36m70\u001B[0m - \u001B[33m\u001B[1mColumn loan_date has no datetime_format, DatetimeFormatter will REMOVE this column！\u001B[0m\n",
      "\u001B[32m2024-09-28 16:40:41.598\u001B[0m | \u001B[1mINFO    \u001B[0m | \u001B[36msdgx.data_processors.formatters.datetime\u001B[0m:\u001B[36mfit\u001B[0m:\u001B[36m77\u001B[0m - \u001B[1mDatetimeFormatter Fitted.\u001B[0m\n",
      "\u001B[32m2024-09-28 16:40:41.599\u001B[0m | \u001B[1mINFO    \u001B[0m | \u001B[36msdgx.data_processors.transformers.const\u001B[0m:\u001B[36mfit\u001B[0m:\u001B[36m49\u001B[0m - \u001B[1mConstValueTransformer Fitted.\u001B[0m\n",
      "\u001B[32m2024-09-28 16:40:41.600\u001B[0m | \u001B[1mINFO    \u001B[0m | \u001B[36msdgx.data_processors.transformers.empty\u001B[0m:\u001B[36mfit\u001B[0m:\u001B[36m54\u001B[0m - \u001B[1mEmptyTransformer Fitted.\u001B[0m\n",
      "\u001B[32m2024-09-28 16:40:41.600\u001B[0m | \u001B[1mINFO    \u001B[0m | \u001B[36msdgx.data_processors.transformers.column_order\u001B[0m:\u001B[36mfit\u001B[0m:\u001B[36m41\u001B[0m - \u001B[1mColumnOrderTransformer Fitted.\u001B[0m\n",
      "\u001B[32m2024-09-28 16:40:41.601\u001B[0m | \u001B[1mINFO    \u001B[0m | \u001B[36msdgx.synthesizer\u001B[0m:\u001B[36mfit\u001B[0m:\u001B[36m305\u001B[0m - \u001B[1mFitted 9 data processors in  0.008970022201538086s.\u001B[0m\n"
     ]
    },
    {
     "name": "stdout",
     "output_type": "stream",
     "text": [
      "{'primary_keys': set(), 'column_list': ['loan_id', 'book_id', 'student_id', 'loan_date', 'return_date', 'library_id', 'date_of_birth', 'major', 'enrollment_id', 'course_id', 'grade_x', 'submission_id', 'assignment_id', 'submission_date', 'grade_y'], 'column_inspect_level': {'email_columns': 30, 'english_name_columns': 40, 'datetime_columns': 20, 'china_mainland_postcode_columns': 20, 'chinese_name_columns': 40, 'const_columns': 80, 'bool_columns': 10, 'empty_columns': 90, 'china_mainland_mobile_phone_columns': 30, 'chinese_company_name_columns': 40, 'id_columns': 20, 'unified_social_credit_code_columns': 30, 'china_mainland_address_columns': 30, 'discrete_columns': 10, 'china_mainland_id_columns': 30, 'int_columns': 10, 'float_columns': 10}, 'pii_columns': set(), 'id_columns': set(), 'int_columns': {'library_id', 'book_id', 'course_id', 'student_id', 'submission_id', 'enrollment_id', 'assignment_id', 'loan_id', 'major'}, 'float_columns': set(), 'bool_columns': set(), 'discrete_columns': {'date_of_birth', 'grade_y', 'submission_date', 'loan_date', 'return_date', 'grade_x'}, 'datetime_columns': {'date_of_birth', 'return_date', 'submission_date', 'loan_date'}, 'const_columns': set(), 'datetime_format': {}, 'numeric_format': {'positive': ['assignment_id', 'book_id', 'course_id', 'enrollment_id', 'library_id', 'loan_id', 'major', 'student_id', 'submission_id'], 'negative': []}, 'version': '1.0'}\n"
     ]
    },
    {
     "name": "stderr",
     "output_type": "stream",
     "text": [
      "\u001B[32m2024-09-28 16:40:44.142\u001B[0m | \u001B[1mINFO    \u001B[0m | \u001B[36msdgx.synthesizer\u001B[0m:\u001B[36mfit\u001B[0m:\u001B[36m315\u001B[0m - \u001B[1mInitializing processed data loader...\u001B[0m\n",
      "\u001B[32m2024-09-28 16:40:44.147\u001B[0m | \u001B[1mINFO    \u001B[0m | \u001B[36msdgx.data_processors.transformers.nan\u001B[0m:\u001B[36mconvert\u001B[0m:\u001B[36m110\u001B[0m - \u001B[1mConverting data using NonValueTransformer...\u001B[0m\n",
      "\u001B[32m2024-09-28 16:40:44.151\u001B[0m | \u001B[1mINFO    \u001B[0m | \u001B[36msdgx.data_processors.transformers.nan\u001B[0m:\u001B[36mconvert\u001B[0m:\u001B[36m130\u001B[0m - \u001B[1mConverting data using NonValueTransformer... Finished.\u001B[0m\n",
      "\u001B[32m2024-09-28 16:40:44.152\u001B[0m | \u001B[1mINFO    \u001B[0m | \u001B[36msdgx.data_processors.transformers.outlier\u001B[0m:\u001B[36mconvert\u001B[0m:\u001B[36m84\u001B[0m - \u001B[1mConverting data using OutlierTransformer...\u001B[0m\n",
      "\u001B[32m2024-09-28 16:40:44.155\u001B[0m | \u001B[1mINFO    \u001B[0m | \u001B[36msdgx.data_processors.transformers.outlier\u001B[0m:\u001B[36mconvert\u001B[0m:\u001B[36m106\u001B[0m - \u001B[1mConverting data using OutlierTransformer... Finished.\u001B[0m\n",
      "\u001B[32m2024-09-28 16:40:44.156\u001B[0m | \u001B[1mINFO    \u001B[0m | \u001B[36msdgx.data_processors.formatters.int\u001B[0m:\u001B[36mconvert\u001B[0m:\u001B[36m50\u001B[0m - \u001B[1mConverting data using IntValueFormatter... Finished  (No Action).\u001B[0m\n",
      "\u001B[32m2024-09-28 16:40:44.156\u001B[0m | \u001B[1mINFO    \u001B[0m | \u001B[36msdgx.data_processors.formatters.datetime\u001B[0m:\u001B[36mconvert\u001B[0m:\u001B[36m89\u001B[0m - \u001B[1mConverting data using DatetimeFormatter... Finished (No datetime columns).\u001B[0m\n",
      "\u001B[32m2024-09-28 16:40:44.158\u001B[0m | \u001B[1mINFO    \u001B[0m | \u001B[36msdgx.data_processors.transformers.const\u001B[0m:\u001B[36mconvert\u001B[0m:\u001B[36m69\u001B[0m - \u001B[1mConverting data using ConstValueTransformer...\u001B[0m\n",
      "\u001B[32m2024-09-28 16:40:44.158\u001B[0m | \u001B[1mINFO    \u001B[0m | \u001B[36msdgx.data_processors.transformers.const\u001B[0m:\u001B[36mconvert\u001B[0m:\u001B[36m77\u001B[0m - \u001B[1mConverting data using ConstValueTransformer... Finished.\u001B[0m\n",
      "\u001B[32m2024-09-28 16:40:44.159\u001B[0m | \u001B[1mINFO    \u001B[0m | \u001B[36msdgx.data_processors.transformers.empty\u001B[0m:\u001B[36mconvert\u001B[0m:\u001B[36m72\u001B[0m - \u001B[1mConverting data using EmptyTransformer...\u001B[0m\n",
      "\u001B[32m2024-09-28 16:40:44.160\u001B[0m | \u001B[1mINFO    \u001B[0m | \u001B[36msdgx.data_processors.transformers.empty\u001B[0m:\u001B[36mconvert\u001B[0m:\u001B[36m76\u001B[0m - \u001B[1mConverting data using EmptyTransformer... Finished (No action).\u001B[0m\n",
      "\u001B[32m2024-09-28 16:40:44.160\u001B[0m | \u001B[1mINFO    \u001B[0m | \u001B[36msdgx.data_processors.transformers.column_order\u001B[0m:\u001B[36mconvert\u001B[0m:\u001B[36m51\u001B[0m - \u001B[1mConverting data using ColumnOrderTransformer...\u001B[0m\n",
      "\u001B[32m2024-09-28 16:40:44.161\u001B[0m | \u001B[1mINFO    \u001B[0m | \u001B[36msdgx.data_processors.transformers.column_order\u001B[0m:\u001B[36mconvert\u001B[0m:\u001B[36m52\u001B[0m - \u001B[1mConverting data using ColumnOrderTransformer... Finished (No action).\u001B[0m\n",
      "\u001B[32m2024-09-28 16:40:44.193\u001B[0m | \u001B[1mINFO    \u001B[0m | \u001B[36msdgx.data_processors.transformers.nan\u001B[0m:\u001B[36mconvert\u001B[0m:\u001B[36m110\u001B[0m - \u001B[1mConverting data using NonValueTransformer...\u001B[0m\n",
      "\u001B[32m2024-09-28 16:40:44.195\u001B[0m | \u001B[1mINFO    \u001B[0m | \u001B[36msdgx.data_processors.transformers.nan\u001B[0m:\u001B[36mconvert\u001B[0m:\u001B[36m130\u001B[0m - \u001B[1mConverting data using NonValueTransformer... Finished.\u001B[0m\n",
      "\u001B[32m2024-09-28 16:40:44.195\u001B[0m | \u001B[1mINFO    \u001B[0m | \u001B[36msdgx.data_processors.transformers.outlier\u001B[0m:\u001B[36mconvert\u001B[0m:\u001B[36m84\u001B[0m - \u001B[1mConverting data using OutlierTransformer...\u001B[0m\n",
      "\u001B[32m2024-09-28 16:40:44.197\u001B[0m | \u001B[1mINFO    \u001B[0m | \u001B[36msdgx.data_processors.transformers.outlier\u001B[0m:\u001B[36mconvert\u001B[0m:\u001B[36m106\u001B[0m - \u001B[1mConverting data using OutlierTransformer... Finished.\u001B[0m\n",
      "\u001B[32m2024-09-28 16:40:44.197\u001B[0m | \u001B[1mINFO    \u001B[0m | \u001B[36msdgx.data_processors.formatters.int\u001B[0m:\u001B[36mconvert\u001B[0m:\u001B[36m50\u001B[0m - \u001B[1mConverting data using IntValueFormatter... Finished  (No Action).\u001B[0m\n",
      "\u001B[32m2024-09-28 16:40:44.198\u001B[0m | \u001B[1mINFO    \u001B[0m | \u001B[36msdgx.data_processors.formatters.datetime\u001B[0m:\u001B[36mconvert\u001B[0m:\u001B[36m89\u001B[0m - \u001B[1mConverting data using DatetimeFormatter... Finished (No datetime columns).\u001B[0m\n",
      "\u001B[32m2024-09-28 16:40:44.198\u001B[0m | \u001B[1mINFO    \u001B[0m | \u001B[36msdgx.data_processors.transformers.const\u001B[0m:\u001B[36mconvert\u001B[0m:\u001B[36m69\u001B[0m - \u001B[1mConverting data using ConstValueTransformer...\u001B[0m\n",
      "\u001B[32m2024-09-28 16:40:44.199\u001B[0m | \u001B[1mINFO    \u001B[0m | \u001B[36msdgx.data_processors.transformers.const\u001B[0m:\u001B[36mconvert\u001B[0m:\u001B[36m77\u001B[0m - \u001B[1mConverting data using ConstValueTransformer... Finished.\u001B[0m\n",
      "\u001B[32m2024-09-28 16:40:44.199\u001B[0m | \u001B[1mINFO    \u001B[0m | \u001B[36msdgx.data_processors.transformers.empty\u001B[0m:\u001B[36mconvert\u001B[0m:\u001B[36m72\u001B[0m - \u001B[1mConverting data using EmptyTransformer...\u001B[0m\n",
      "\u001B[32m2024-09-28 16:40:44.200\u001B[0m | \u001B[1mINFO    \u001B[0m | \u001B[36msdgx.data_processors.transformers.empty\u001B[0m:\u001B[36mconvert\u001B[0m:\u001B[36m76\u001B[0m - \u001B[1mConverting data using EmptyTransformer... Finished (No action).\u001B[0m\n",
      "\u001B[32m2024-09-28 16:40:44.200\u001B[0m | \u001B[1mINFO    \u001B[0m | \u001B[36msdgx.data_processors.transformers.column_order\u001B[0m:\u001B[36mconvert\u001B[0m:\u001B[36m51\u001B[0m - \u001B[1mConverting data using ColumnOrderTransformer...\u001B[0m\n",
      "\u001B[32m2024-09-28 16:40:44.201\u001B[0m | \u001B[1mINFO    \u001B[0m | \u001B[36msdgx.data_processors.transformers.column_order\u001B[0m:\u001B[36mconvert\u001B[0m:\u001B[36m52\u001B[0m - \u001B[1mConverting data using ColumnOrderTransformer... Finished (No action).\u001B[0m\n",
      "\u001B[32m2024-09-28 16:40:44.948\u001B[0m | \u001B[1mINFO    \u001B[0m | \u001B[36msdgx.synthesizer\u001B[0m:\u001B[36mfit\u001B[0m:\u001B[36m322\u001B[0m - \u001B[1mInitialized processed data loader in 0.805128812789917s\u001B[0m\n",
      "\u001B[32m2024-09-28 16:40:44.949\u001B[0m | \u001B[1mINFO    \u001B[0m | \u001B[36msdgx.synthesizer\u001B[0m:\u001B[36mfit\u001B[0m:\u001B[36m324\u001B[0m - \u001B[1mModel fit Started...\u001B[0m\n",
      "\u001B[32m2024-09-28 16:40:46.397\u001B[0m | \u001B[1mINFO    \u001B[0m | \u001B[36msdgx.data_processors.transformers.nan\u001B[0m:\u001B[36mconvert\u001B[0m:\u001B[36m110\u001B[0m - \u001B[1mConverting data using NonValueTransformer...\u001B[0m\n",
      "\u001B[32m2024-09-28 16:40:46.405\u001B[0m | \u001B[1mINFO    \u001B[0m | \u001B[36msdgx.data_processors.transformers.nan\u001B[0m:\u001B[36mconvert\u001B[0m:\u001B[36m130\u001B[0m - \u001B[1mConverting data using NonValueTransformer... Finished.\u001B[0m\n",
      "\u001B[32m2024-09-28 16:40:46.406\u001B[0m | \u001B[1mINFO    \u001B[0m | \u001B[36msdgx.data_processors.transformers.outlier\u001B[0m:\u001B[36mconvert\u001B[0m:\u001B[36m84\u001B[0m - \u001B[1mConverting data using OutlierTransformer...\u001B[0m\n",
      "\u001B[32m2024-09-28 16:40:46.411\u001B[0m | \u001B[1mINFO    \u001B[0m | \u001B[36msdgx.data_processors.transformers.outlier\u001B[0m:\u001B[36mconvert\u001B[0m:\u001B[36m106\u001B[0m - \u001B[1mConverting data using OutlierTransformer... Finished.\u001B[0m\n",
      "\u001B[32m2024-09-28 16:40:46.412\u001B[0m | \u001B[1mINFO    \u001B[0m | \u001B[36msdgx.data_processors.formatters.int\u001B[0m:\u001B[36mconvert\u001B[0m:\u001B[36m50\u001B[0m - \u001B[1mConverting data using IntValueFormatter... Finished  (No Action).\u001B[0m\n",
      "\u001B[32m2024-09-28 16:40:46.413\u001B[0m | \u001B[1mINFO    \u001B[0m | \u001B[36msdgx.data_processors.formatters.datetime\u001B[0m:\u001B[36mconvert\u001B[0m:\u001B[36m89\u001B[0m - \u001B[1mConverting data using DatetimeFormatter... Finished (No datetime columns).\u001B[0m\n",
      "\u001B[32m2024-09-28 16:40:46.414\u001B[0m | \u001B[1mINFO    \u001B[0m | \u001B[36msdgx.data_processors.transformers.const\u001B[0m:\u001B[36mconvert\u001B[0m:\u001B[36m69\u001B[0m - \u001B[1mConverting data using ConstValueTransformer...\u001B[0m\n",
      "\u001B[32m2024-09-28 16:40:46.414\u001B[0m | \u001B[1mINFO    \u001B[0m | \u001B[36msdgx.data_processors.transformers.const\u001B[0m:\u001B[36mconvert\u001B[0m:\u001B[36m77\u001B[0m - \u001B[1mConverting data using ConstValueTransformer... Finished.\u001B[0m\n",
      "\u001B[32m2024-09-28 16:40:46.415\u001B[0m | \u001B[1mINFO    \u001B[0m | \u001B[36msdgx.data_processors.transformers.empty\u001B[0m:\u001B[36mconvert\u001B[0m:\u001B[36m72\u001B[0m - \u001B[1mConverting data using EmptyTransformer...\u001B[0m\n",
      "\u001B[32m2024-09-28 16:40:46.415\u001B[0m | \u001B[1mINFO    \u001B[0m | \u001B[36msdgx.data_processors.transformers.empty\u001B[0m:\u001B[36mconvert\u001B[0m:\u001B[36m76\u001B[0m - \u001B[1mConverting data using EmptyTransformer... Finished (No action).\u001B[0m\n",
      "\u001B[32m2024-09-28 16:40:46.416\u001B[0m | \u001B[1mINFO    \u001B[0m | \u001B[36msdgx.data_processors.transformers.column_order\u001B[0m:\u001B[36mconvert\u001B[0m:\u001B[36m51\u001B[0m - \u001B[1mConverting data using ColumnOrderTransformer...\u001B[0m\n",
      "\u001B[32m2024-09-28 16:40:46.416\u001B[0m | \u001B[1mINFO    \u001B[0m | \u001B[36msdgx.data_processors.transformers.column_order\u001B[0m:\u001B[36mconvert\u001B[0m:\u001B[36m52\u001B[0m - \u001B[1mConverting data using ColumnOrderTransformer... Finished (No action).\u001B[0m\n",
      "\u001B[32m2024-09-28 16:40:46.417\u001B[0m | \u001B[1mINFO    \u001B[0m | \u001B[36msdgx.models.ml.single_table.ctgan\u001B[0m:\u001B[36m_pre_fit\u001B[0m:\u001B[36m248\u001B[0m - \u001B[1mFitting model's transformer...\u001B[0m\n",
      "\u001B[32m2024-09-28 16:40:46.426\u001B[0m | \u001B[1mINFO    \u001B[0m | \u001B[36msdgx.data_processors.transformers.nan\u001B[0m:\u001B[36mconvert\u001B[0m:\u001B[36m110\u001B[0m - \u001B[1mConverting data using NonValueTransformer...\u001B[0m\n",
      "\u001B[32m2024-09-28 16:40:46.430\u001B[0m | \u001B[1mINFO    \u001B[0m | \u001B[36msdgx.data_processors.transformers.nan\u001B[0m:\u001B[36mconvert\u001B[0m:\u001B[36m130\u001B[0m - \u001B[1mConverting data using NonValueTransformer... Finished.\u001B[0m\n",
      "\u001B[32m2024-09-28 16:40:46.430\u001B[0m | \u001B[1mINFO    \u001B[0m | \u001B[36msdgx.data_processors.transformers.outlier\u001B[0m:\u001B[36mconvert\u001B[0m:\u001B[36m84\u001B[0m - \u001B[1mConverting data using OutlierTransformer...\u001B[0m\n",
      "\u001B[32m2024-09-28 16:40:46.434\u001B[0m | \u001B[1mINFO    \u001B[0m | \u001B[36msdgx.data_processors.transformers.outlier\u001B[0m:\u001B[36mconvert\u001B[0m:\u001B[36m106\u001B[0m - \u001B[1mConverting data using OutlierTransformer... Finished.\u001B[0m\n",
      "\u001B[32m2024-09-28 16:40:46.434\u001B[0m | \u001B[1mINFO    \u001B[0m | \u001B[36msdgx.data_processors.formatters.int\u001B[0m:\u001B[36mconvert\u001B[0m:\u001B[36m50\u001B[0m - \u001B[1mConverting data using IntValueFormatter... Finished  (No Action).\u001B[0m\n",
      "\u001B[32m2024-09-28 16:40:46.435\u001B[0m | \u001B[1mINFO    \u001B[0m | \u001B[36msdgx.data_processors.formatters.datetime\u001B[0m:\u001B[36mconvert\u001B[0m:\u001B[36m89\u001B[0m - \u001B[1mConverting data using DatetimeFormatter... Finished (No datetime columns).\u001B[0m\n",
      "\u001B[32m2024-09-28 16:40:46.436\u001B[0m | \u001B[1mINFO    \u001B[0m | \u001B[36msdgx.data_processors.transformers.const\u001B[0m:\u001B[36mconvert\u001B[0m:\u001B[36m69\u001B[0m - \u001B[1mConverting data using ConstValueTransformer...\u001B[0m\n",
      "\u001B[32m2024-09-28 16:40:46.436\u001B[0m | \u001B[1mINFO    \u001B[0m | \u001B[36msdgx.data_processors.transformers.const\u001B[0m:\u001B[36mconvert\u001B[0m:\u001B[36m77\u001B[0m - \u001B[1mConverting data using ConstValueTransformer... Finished.\u001B[0m\n",
      "\u001B[32m2024-09-28 16:40:46.436\u001B[0m | \u001B[1mINFO    \u001B[0m | \u001B[36msdgx.data_processors.transformers.empty\u001B[0m:\u001B[36mconvert\u001B[0m:\u001B[36m72\u001B[0m - \u001B[1mConverting data using EmptyTransformer...\u001B[0m\n",
      "\u001B[32m2024-09-28 16:40:46.437\u001B[0m | \u001B[1mINFO    \u001B[0m | \u001B[36msdgx.data_processors.transformers.empty\u001B[0m:\u001B[36mconvert\u001B[0m:\u001B[36m76\u001B[0m - \u001B[1mConverting data using EmptyTransformer... Finished (No action).\u001B[0m\n",
      "\u001B[32m2024-09-28 16:40:46.437\u001B[0m | \u001B[1mINFO    \u001B[0m | \u001B[36msdgx.data_processors.transformers.column_order\u001B[0m:\u001B[36mconvert\u001B[0m:\u001B[36m51\u001B[0m - \u001B[1mConverting data using ColumnOrderTransformer...\u001B[0m\n",
      "\u001B[32m2024-09-28 16:40:46.437\u001B[0m | \u001B[1mINFO    \u001B[0m | \u001B[36msdgx.data_processors.transformers.column_order\u001B[0m:\u001B[36mconvert\u001B[0m:\u001B[36m52\u001B[0m - \u001B[1mConverting data using ColumnOrderTransformer... Finished (No action).\u001B[0m\n",
      "\u001B[32m2024-09-28 16:40:47.235\u001B[0m | \u001B[1mINFO    \u001B[0m | \u001B[36msdgx.models.ml.single_table.ctgan\u001B[0m:\u001B[36m_pre_fit\u001B[0m:\u001B[36m250\u001B[0m - \u001B[1mTransforming data...\u001B[0m\n"
     ]
    },
    {
     "name": "stdout",
     "output_type": "stream",
     "text": [
      "C:\\Users\\Elvin\\Desktop\\GitHub\\synthetic-data-generator\\.ndarry_cache\n"
     ]
    },
    {
     "name": "stderr",
     "output_type": "stream",
     "text": [
      "\u001B[32m2024-09-28 16:40:53.506\u001B[0m | \u001B[1mINFO    \u001B[0m | \u001B[36msdgx.models.ml.single_table.ctgan\u001B[0m:\u001B[36m_pre_fit\u001B[0m:\u001B[36m253\u001B[0m - \u001B[1mSampling data.\u001B[0m\n",
      "\u001B[32m2024-09-28 16:41:04.086\u001B[0m | \u001B[1mINFO    \u001B[0m | \u001B[36msdgx.models.ml.single_table.ctgan\u001B[0m:\u001B[36m_pre_fit\u001B[0m:\u001B[36m258\u001B[0m - \u001B[1mInitialize Generator.\u001B[0m\n",
      "\u001B[32m2024-09-28 16:41:04.088\u001B[0m | \u001B[1mINFO    \u001B[0m | \u001B[36msdgx.models.ml.single_table.ctgan\u001B[0m:\u001B[36mfit\u001B[0m:\u001B[36m223\u001B[0m - \u001B[1mCTGAN prefit finished, start CTGAN training.\u001B[0m\n",
      "\u001B[32m2024-09-28 16:41:04.089\u001B[0m | \u001B[1mINFO    \u001B[0m | \u001B[36msdgx.models.ml.single_table.ctgan\u001B[0m:\u001B[36m_fit\u001B[0m:\u001B[36m275\u001B[0m - \u001B[1mFit using data_size:100, data_dim: 44.\u001B[0m\n",
      "\u001B[32m2024-09-28 16:41:10.341\u001B[0m | \u001B[1mINFO    \u001B[0m | \u001B[36msdgx.models.ml.single_table.ctgan\u001B[0m:\u001B[36m_fit\u001B[0m:\u001B[36m301\u001B[0m - \u001B[1mStarting model training, epochs: 1\u001B[0m\n"
     ]
    },
    {
     "data": {
      "text/plain": [
       "  0%|          | 0/1 [00:00<?, ?it/s]"
      ],
      "application/vnd.jupyter.widget-view+json": {
       "version_major": 2,
       "version_minor": 0,
       "model_id": "70d1647dd29f4576a498a4393ab950f2"
      }
     },
     "metadata": {},
     "output_type": "display_data"
    }
   ],
   "execution_count": null
  },
  {
   "cell_type": "code",
   "metadata": {
    "ExecuteTime": {
     "end_time": "2024-09-28T08:32:08.350182Z",
     "start_time": "2024-09-28T08:31:02.965415Z"
    }
   },
   "source": [
    "data_res = synthesizer.sample(1000)\n",
    "data_res"
   ],
   "outputs": [
    {
     "name": "stderr",
     "output_type": "stream",
     "text": [
      "\u001B[32m2024-09-28 16:31:02.974\u001B[0m | \u001B[1mINFO    \u001B[0m | \u001B[36msdgx.synthesizer\u001B[0m:\u001B[36msample\u001B[0m:\u001B[36m357\u001B[0m - \u001B[1mSampling...\u001B[0m\n"
     ]
    },
    {
     "data": {
      "text/plain": [
       "  0%|          | 0/1000 [00:00<?, ?it/s]"
      ],
      "application/vnd.jupyter.widget-view+json": {
       "version_major": 2,
       "version_minor": 0,
       "model_id": "a198e371397142868f2d00183f80a946"
      }
     },
     "metadata": {},
     "output_type": "display_data"
    },
    {
     "data": {
      "text/plain": [
       "  0%|          | 0/3 [00:00<?, ?it/s]"
      ],
      "application/vnd.jupyter.widget-view+json": {
       "version_major": 2,
       "version_minor": 0,
       "model_id": "eb75a4d55cc841818375995e2bc52513"
      }
     },
     "metadata": {},
     "output_type": "display_data"
    },
    {
     "ename": "KeyboardInterrupt",
     "evalue": "",
     "output_type": "error",
     "traceback": [
      "\u001B[1;31m---------------------------------------------------------------------------\u001B[0m",
      "\u001B[1;31mKeyboardInterrupt\u001B[0m                         Traceback (most recent call last)",
      "Cell \u001B[1;32mIn[12], line 1\u001B[0m\n\u001B[1;32m----> 1\u001B[0m data_res \u001B[38;5;241m=\u001B[39m \u001B[43msynthesizer\u001B[49m\u001B[38;5;241;43m.\u001B[39;49m\u001B[43msample\u001B[49m\u001B[43m(\u001B[49m\u001B[38;5;241;43m1000\u001B[39;49m\u001B[43m)\u001B[49m\n\u001B[0;32m      2\u001B[0m data_res\n",
      "File \u001B[1;32m~\\Desktop\\GitHub\\synthetic-data-generator\\sdgx\\synthesizer.py:367\u001B[0m, in \u001B[0;36mSynthesizer.sample\u001B[1;34m(self, count, chunksize, metadata, model_sample_args)\u001B[0m\n\u001B[0;32m    364\u001B[0m     model_sample_args \u001B[38;5;241m=\u001B[39m {}\n\u001B[0;32m    366\u001B[0m \u001B[38;5;28;01mif\u001B[39;00m chunksize \u001B[38;5;129;01mis\u001B[39;00m \u001B[38;5;28;01mNone\u001B[39;00m:\n\u001B[1;32m--> 367\u001B[0m     \u001B[38;5;28;01mreturn\u001B[39;00m \u001B[38;5;28;43mself\u001B[39;49m\u001B[38;5;241;43m.\u001B[39;49m\u001B[43m_sample_once\u001B[49m\u001B[43m(\u001B[49m\u001B[43mcount\u001B[49m\u001B[43m,\u001B[49m\u001B[43m \u001B[49m\u001B[43mmodel_sample_args\u001B[49m\u001B[43m)\u001B[49m\n\u001B[0;32m    369\u001B[0m \u001B[38;5;28;01mif\u001B[39;00m chunksize \u001B[38;5;241m>\u001B[39m count:\n\u001B[0;32m    370\u001B[0m     \u001B[38;5;28;01mraise\u001B[39;00m SynthesizerSampleError(\u001B[38;5;124m\"\u001B[39m\u001B[38;5;124mchunksize must be less than or equal to count\u001B[39m\u001B[38;5;124m\"\u001B[39m)\n",
      "File \u001B[1;32m~\\Desktop\\GitHub\\synthetic-data-generator\\sdgx\\synthesizer.py:407\u001B[0m, in \u001B[0;36mSynthesizer._sample_once\u001B[1;34m(self, count, model_sample_args)\u001B[0m\n\u001B[0;32m    405\u001B[0m psb \u001B[38;5;241m=\u001B[39m tqdm\u001B[38;5;241m.\u001B[39mtqdm(total\u001B[38;5;241m=\u001B[39mmissing_count)\n\u001B[0;32m    406\u001B[0m \u001B[38;5;28;01mwhile\u001B[39;00m missing_count \u001B[38;5;241m>\u001B[39m \u001B[38;5;241m0\u001B[39m \u001B[38;5;129;01mand\u001B[39;00m max_trails \u001B[38;5;241m>\u001B[39m \u001B[38;5;241m0\u001B[39m:\n\u001B[1;32m--> 407\u001B[0m     sample_data \u001B[38;5;241m=\u001B[39m \u001B[38;5;28mself\u001B[39m\u001B[38;5;241m.\u001B[39mmodel\u001B[38;5;241m.\u001B[39msample(\u001B[38;5;28mint\u001B[39m(missing_count \u001B[38;5;241m*\u001B[39m \u001B[38;5;241m1.2\u001B[39m), \u001B[38;5;241m*\u001B[39m\u001B[38;5;241m*\u001B[39mmodel_sample_args)\n\u001B[0;32m    408\u001B[0m     \u001B[38;5;28;01mfor\u001B[39;00m d \u001B[38;5;129;01min\u001B[39;00m \u001B[38;5;28mself\u001B[39m\u001B[38;5;241m.\u001B[39mdata_processors:\n\u001B[0;32m    409\u001B[0m         sample_data \u001B[38;5;241m=\u001B[39m d\u001B[38;5;241m.\u001B[39mreverse_convert(sample_data)\n",
      "File \u001B[1;32m~\\Desktop\\GitHub\\synthetic-data-generator\\sdgx\\models\\ml\\single_table\\ctgan.py:391\u001B[0m, in \u001B[0;36mCTGANSynthesizerModel.sample\u001B[1;34m(self, count, *args, **kwargs)\u001B[0m\n\u001B[0;32m    389\u001B[0m \u001B[38;5;28;01mif\u001B[39;00m \u001B[38;5;28mself\u001B[39m\u001B[38;5;241m.\u001B[39mfit_data_empty:\n\u001B[0;32m    390\u001B[0m     \u001B[38;5;28;01mreturn\u001B[39;00m pd\u001B[38;5;241m.\u001B[39mDataFrame(index\u001B[38;5;241m=\u001B[39m\u001B[38;5;28mrange\u001B[39m(count))\n\u001B[1;32m--> 391\u001B[0m \u001B[38;5;28;01mreturn\u001B[39;00m \u001B[38;5;28mself\u001B[39m\u001B[38;5;241m.\u001B[39m_sample(count, \u001B[38;5;241m*\u001B[39margs, \u001B[38;5;241m*\u001B[39m\u001B[38;5;241m*\u001B[39mkwargs)\n",
      "File \u001B[1;32m~\\Desktop\\GitHub\\synthetic-data-generator\\sdgx\\models\\components\\sdv_ctgan\\synthesizers\\base.py:51\u001B[0m, in \u001B[0;36mrandom_state.<locals>.wrapper\u001B[1;34m(self, *args, **kwargs)\u001B[0m\n\u001B[0;32m     49\u001B[0m \u001B[38;5;28;01mdef\u001B[39;00m \u001B[38;5;21mwrapper\u001B[39m(\u001B[38;5;28mself\u001B[39m, \u001B[38;5;241m*\u001B[39margs, \u001B[38;5;241m*\u001B[39m\u001B[38;5;241m*\u001B[39mkwargs):\n\u001B[0;32m     50\u001B[0m     \u001B[38;5;28;01mif\u001B[39;00m \u001B[38;5;28mself\u001B[39m\u001B[38;5;241m.\u001B[39mrandom_states \u001B[38;5;129;01mis\u001B[39;00m \u001B[38;5;28;01mNone\u001B[39;00m:\n\u001B[1;32m---> 51\u001B[0m         \u001B[38;5;28;01mreturn\u001B[39;00m function(\u001B[38;5;28mself\u001B[39m, \u001B[38;5;241m*\u001B[39margs, \u001B[38;5;241m*\u001B[39m\u001B[38;5;241m*\u001B[39mkwargs)\n\u001B[0;32m     53\u001B[0m     \u001B[38;5;28;01melse\u001B[39;00m:\n\u001B[0;32m     54\u001B[0m         \u001B[38;5;28;01mwith\u001B[39;00m set_random_states(\u001B[38;5;28mself\u001B[39m\u001B[38;5;241m.\u001B[39mrandom_states, \u001B[38;5;28mself\u001B[39m\u001B[38;5;241m.\u001B[39mset_random_state):\n",
      "File \u001B[1;32m~\\Desktop\\GitHub\\synthetic-data-generator\\sdgx\\models\\ml\\single_table\\ctgan.py:442\u001B[0m, in \u001B[0;36mCTGANSynthesizerModel._sample\u001B[1;34m(self, n, condition_column, condition_value)\u001B[0m\n\u001B[0;32m    439\u001B[0m         fakez \u001B[38;5;241m=\u001B[39m torch\u001B[38;5;241m.\u001B[39mcat([fakez, c1], dim\u001B[38;5;241m=\u001B[39m\u001B[38;5;241m1\u001B[39m)\n\u001B[0;32m    441\u001B[0m     fake \u001B[38;5;241m=\u001B[39m \u001B[38;5;28mself\u001B[39m\u001B[38;5;241m.\u001B[39m_generator(fakez)\n\u001B[1;32m--> 442\u001B[0m     fakeact \u001B[38;5;241m=\u001B[39m \u001B[38;5;28;43mself\u001B[39;49m\u001B[38;5;241;43m.\u001B[39;49m\u001B[43m_apply_activate\u001B[49m\u001B[43m(\u001B[49m\u001B[43mfake\u001B[49m\u001B[43m)\u001B[49m\n\u001B[0;32m    443\u001B[0m     data\u001B[38;5;241m.\u001B[39mappend(fakeact\u001B[38;5;241m.\u001B[39mdetach()\u001B[38;5;241m.\u001B[39mcpu()\u001B[38;5;241m.\u001B[39mnumpy())\n\u001B[0;32m    445\u001B[0m data \u001B[38;5;241m=\u001B[39m np\u001B[38;5;241m.\u001B[39mconcatenate(data, axis\u001B[38;5;241m=\u001B[39m\u001B[38;5;241m0\u001B[39m)\n",
      "File \u001B[1;32m~\\Desktop\\GitHub\\synthetic-data-generator\\sdgx\\models\\ml\\single_table\\ctgan.py:495\u001B[0m, in \u001B[0;36mCTGANSynthesizerModel._apply_activate\u001B[1;34m(self, data)\u001B[0m\n\u001B[0;32m    493\u001B[0m st \u001B[38;5;241m=\u001B[39m \u001B[38;5;241m0\u001B[39m\n\u001B[0;32m    494\u001B[0m \u001B[38;5;28;01mfor\u001B[39;00m column_info \u001B[38;5;129;01min\u001B[39;00m \u001B[38;5;28mself\u001B[39m\u001B[38;5;241m.\u001B[39m_transformer\u001B[38;5;241m.\u001B[39moutput_info_list:\n\u001B[1;32m--> 495\u001B[0m     \u001B[38;5;28;01mfor\u001B[39;00m span_info \u001B[38;5;129;01min\u001B[39;00m \u001B[43mcolumn_info\u001B[49m:\n\u001B[0;32m    496\u001B[0m         \u001B[38;5;28;01mif\u001B[39;00m span_info\u001B[38;5;241m.\u001B[39mactivation_fn \u001B[38;5;241m==\u001B[39m \u001B[38;5;124m\"\u001B[39m\u001B[38;5;124mtanh\u001B[39m\u001B[38;5;124m\"\u001B[39m:\n\u001B[0;32m    497\u001B[0m             ed \u001B[38;5;241m=\u001B[39m st \u001B[38;5;241m+\u001B[39m span_info\u001B[38;5;241m.\u001B[39mdim\n",
      "File \u001B[1;32m~\\Desktop\\GitHub\\synthetic-data-generator\\sdgx\\models\\ml\\single_table\\ctgan.py:495\u001B[0m, in \u001B[0;36mCTGANSynthesizerModel._apply_activate\u001B[1;34m(self, data)\u001B[0m\n\u001B[0;32m    493\u001B[0m st \u001B[38;5;241m=\u001B[39m \u001B[38;5;241m0\u001B[39m\n\u001B[0;32m    494\u001B[0m \u001B[38;5;28;01mfor\u001B[39;00m column_info \u001B[38;5;129;01min\u001B[39;00m \u001B[38;5;28mself\u001B[39m\u001B[38;5;241m.\u001B[39m_transformer\u001B[38;5;241m.\u001B[39moutput_info_list:\n\u001B[1;32m--> 495\u001B[0m     \u001B[38;5;28;01mfor\u001B[39;00m span_info \u001B[38;5;129;01min\u001B[39;00m \u001B[43mcolumn_info\u001B[49m:\n\u001B[0;32m    496\u001B[0m         \u001B[38;5;28;01mif\u001B[39;00m span_info\u001B[38;5;241m.\u001B[39mactivation_fn \u001B[38;5;241m==\u001B[39m \u001B[38;5;124m\"\u001B[39m\u001B[38;5;124mtanh\u001B[39m\u001B[38;5;124m\"\u001B[39m:\n\u001B[0;32m    497\u001B[0m             ed \u001B[38;5;241m=\u001B[39m st \u001B[38;5;241m+\u001B[39m span_info\u001B[38;5;241m.\u001B[39mdim\n",
      "File \u001B[1;32m_pydevd_bundle\\pydevd_cython_win32_310_64.pyx:1187\u001B[0m, in \u001B[0;36m_pydevd_bundle.pydevd_cython_win32_310_64.SafeCallWrapper.__call__\u001B[1;34m()\u001B[0m\n",
      "File \u001B[1;32m_pydevd_bundle\\pydevd_cython_win32_310_64.pyx:627\u001B[0m, in \u001B[0;36m_pydevd_bundle.pydevd_cython_win32_310_64.PyDBFrame.trace_dispatch\u001B[1;34m()\u001B[0m\n",
      "File \u001B[1;32m_pydevd_bundle\\pydevd_cython_win32_310_64.pyx:1103\u001B[0m, in \u001B[0;36m_pydevd_bundle.pydevd_cython_win32_310_64.PyDBFrame.trace_dispatch\u001B[1;34m()\u001B[0m\n",
      "File \u001B[1;32m_pydevd_bundle\\pydevd_cython_win32_310_64.pyx:1065\u001B[0m, in \u001B[0;36m_pydevd_bundle.pydevd_cython_win32_310_64.PyDBFrame.trace_dispatch\u001B[1;34m()\u001B[0m\n",
      "File \u001B[1;32m_pydevd_bundle\\pydevd_cython_win32_310_64.pyx:585\u001B[0m, in \u001B[0;36m_pydevd_bundle.pydevd_cython_win32_310_64.PyDBFrame.do_wait_suspend\u001B[1;34m()\u001B[0m\n",
      "File \u001B[1;32mC:\\Program Files\\JetBrains\\PyCharm 2024.1.4\\plugins\\python\\helpers\\pydev\\pydevd.py:1201\u001B[0m, in \u001B[0;36mPyDB.do_wait_suspend\u001B[1;34m(self, thread, frame, event, arg, send_suspend_message, is_unhandled_exception)\u001B[0m\n\u001B[0;32m   1198\u001B[0m         from_this_thread\u001B[38;5;241m.\u001B[39mappend(frame_id)\n\u001B[0;32m   1200\u001B[0m \u001B[38;5;28;01mwith\u001B[39;00m \u001B[38;5;28mself\u001B[39m\u001B[38;5;241m.\u001B[39m_threads_suspended_single_notification\u001B[38;5;241m.\u001B[39mnotify_thread_suspended(thread_id, stop_reason):\n\u001B[1;32m-> 1201\u001B[0m     \u001B[38;5;28;43mself\u001B[39;49m\u001B[38;5;241;43m.\u001B[39;49m\u001B[43m_do_wait_suspend\u001B[49m\u001B[43m(\u001B[49m\u001B[43mthread\u001B[49m\u001B[43m,\u001B[49m\u001B[43m \u001B[49m\u001B[43mframe\u001B[49m\u001B[43m,\u001B[49m\u001B[43m \u001B[49m\u001B[43mevent\u001B[49m\u001B[43m,\u001B[49m\u001B[43m \u001B[49m\u001B[43marg\u001B[49m\u001B[43m,\u001B[49m\u001B[43m \u001B[49m\u001B[43msuspend_type\u001B[49m\u001B[43m,\u001B[49m\u001B[43m \u001B[49m\u001B[43mfrom_this_thread\u001B[49m\u001B[43m)\u001B[49m\n",
      "File \u001B[1;32mC:\\Program Files\\JetBrains\\PyCharm 2024.1.4\\plugins\\python\\helpers\\pydev\\pydevd.py:1216\u001B[0m, in \u001B[0;36mPyDB._do_wait_suspend\u001B[1;34m(self, thread, frame, event, arg, suspend_type, from_this_thread)\u001B[0m\n\u001B[0;32m   1213\u001B[0m             \u001B[38;5;28mself\u001B[39m\u001B[38;5;241m.\u001B[39m_call_mpl_hook()\n\u001B[0;32m   1215\u001B[0m         \u001B[38;5;28mself\u001B[39m\u001B[38;5;241m.\u001B[39mprocess_internal_commands()\n\u001B[1;32m-> 1216\u001B[0m         \u001B[43mtime\u001B[49m\u001B[38;5;241;43m.\u001B[39;49m\u001B[43msleep\u001B[49m\u001B[43m(\u001B[49m\u001B[38;5;241;43m0.01\u001B[39;49m\u001B[43m)\u001B[49m\n\u001B[0;32m   1218\u001B[0m \u001B[38;5;28mself\u001B[39m\u001B[38;5;241m.\u001B[39mcancel_async_evaluation(get_current_thread_id(thread), \u001B[38;5;28mstr\u001B[39m(\u001B[38;5;28mid\u001B[39m(frame)))\n\u001B[0;32m   1220\u001B[0m \u001B[38;5;66;03m# process any stepping instructions\u001B[39;00m\n",
      "\u001B[1;31mKeyboardInterrupt\u001B[0m: "
     ]
    }
   ],
   "execution_count": 12
  },
  {
   "metadata": {
    "ExecuteTime": {
     "end_time": "2024-09-28T08:29:53.898743Z",
     "start_time": "2024-09-28T08:29:53.884785Z"
    }
   },
   "cell_type": "code",
   "source": "",
   "outputs": [],
   "execution_count": 11
  }
 ],
 "metadata": {
  "kernelspec": {
   "display_name": "sdg10",
   "language": "python",
   "name": "python3"
  },
  "language_info": {
   "codemirror_mode": {
    "name": "ipython",
    "version": 3
   },
   "file_extension": ".py",
   "mimetype": "text/x-python",
   "name": "python",
   "nbconvert_exporter": "python",
   "pygments_lexer": "ipython3",
   "version": "3.10.14"
  }
 },
 "nbformat": 4,
 "nbformat_minor": 2
}
