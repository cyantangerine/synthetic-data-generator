{
 "cells": [
  {
   "metadata": {
    "ExecuteTime": {
     "end_time": "2024-10-09T06:25:23.252285Z",
     "start_time": "2024-10-09T06:25:18.915082Z"
    }
   },
   "cell_type": "code",
   "source": [
    "from mycode.test_20_tables import fetch_data_from_sqlite, Metadata as sdvMetadata\n",
    "from sdgx.data_connectors.csv_connector import CsvConnector\n",
    "from sdgx.models.ml.single_table.ctgan import CTGANSynthesizerModel\n",
    "from sdgx.synthesizer import Synthesizer\n",
    "import time\n",
    "def writetime():\n",
    "    st = time.time()\n",
    "    with open(\"time.log\", \"a+\") as f:\n",
    "        f.write(str(st) + \"\\n\")"
   ],
   "outputs": [],
   "execution_count": 1
  },
  {
   "metadata": {},
   "cell_type": "markdown",
   "source": "构造数据"
  },
  {
   "cell_type": "code",
   "metadata": {
    "ExecuteTime": {
     "end_time": "2024-10-09T06:25:23.702883Z",
     "start_time": "2024-10-09T06:25:23.253290Z"
    }
   },
   "source": [
    "metadata, tables = fetch_data_from_sqlite(path='./mycode/data_sqlite.db')\n",
    "metadata = sdvMetadata(metadata)\n",
    "metadata.get_tables()\n",
    "import pandas as pd\n",
    "result_table = tables[\"BookLoan\"]\n",
    "x_table = [\"Book\", \"Library\", \"Student\", \"Enrollment\", \"Submission\"]\n",
    "x_key = ['book_id', \"library_id\", \"student_id\", \"student_id\",\"student_id\"]\n",
    "x_how = ['inner' for i in range(5)]\n",
    "print(f\"{len(result_table)=}\")\n",
    "for i, x_table_name in enumerate(x_table):\n",
    "    result_table = pd.merge(result_table, tables[x_table_name], on=x_key[i], how=x_how[i])\n",
    "    print(f\"{len(result_table)}\", end=\" \")\n",
    "print(len(result_table.columns))\n",
    "#result_table"
   ],
   "outputs": [
    {
     "name": "stdout",
     "output_type": "stream",
     "text": [
      "len(result_table)=10000\n",
      "10000 10000 10000 9999 10798 23\n"
     ]
    }
   ],
   "execution_count": 2
  },
  {
   "cell_type": "code",
   "metadata": {
    "ExecuteTime": {
     "end_time": "2024-10-09T06:25:23.718830Z",
     "start_time": "2024-10-09T06:25:23.703879Z"
    }
   },
   "source": [
    "result_table = result_table.drop(columns=[\"title\", \"author\", \"name_x\", \"semester\", \"location\", \"name_y\", \"email\"])"
   ],
   "outputs": [],
   "execution_count": 3
  },
  {
   "cell_type": "code",
   "metadata": {
    "ExecuteTime": {
     "end_time": "2024-10-09T06:25:23.734785Z",
     "start_time": "2024-10-09T06:25:23.719826Z"
    }
   },
   "source": [
    "result_table = result_table.drop(columns=[\"isbn\"])"
   ],
   "outputs": [],
   "execution_count": 4
  },
  {
   "cell_type": "code",
   "metadata": {
    "ExecuteTime": {
     "end_time": "2024-10-09T06:25:23.750723Z",
     "start_time": "2024-10-09T06:25:23.736770Z"
    }
   },
   "source": "# result_table = result_table.drop(columns=[\"grade_x\", \"grade_y\"])",
   "outputs": [],
   "execution_count": 5
  },
  {
   "cell_type": "code",
   "metadata": {
    "ExecuteTime": {
     "end_time": "2024-10-09T06:25:23.765712Z",
     "start_time": "2024-10-09T06:25:23.752717Z"
    }
   },
   "source": "# result_table.head()",
   "outputs": [],
   "execution_count": 6
  },
  {
   "metadata": {
    "ExecuteTime": {
     "end_time": "2024-10-09T06:25:23.780662Z",
     "start_time": "2024-10-09T06:25:23.766709Z"
    }
   },
   "cell_type": "code",
   "source": [
    "# result_table = result_table[:100]\n",
    "result_table"
   ],
   "outputs": [
    {
     "data": {
      "text/plain": [
       "       loan_id  book_id  student_id   loan_date return_date  library_id  \\\n",
       "0            1        1        5068  2024-07-19  2025-07-30           1   \n",
       "1            1        1        5068  2024-07-19  2025-07-30           1   \n",
       "2            1        1        5068  2024-07-19  2025-07-30           1   \n",
       "3            1        1        5068  2024-07-19  2025-07-30           1   \n",
       "4            1        1        5068  2024-07-19  2025-07-30           1   \n",
       "...        ...      ...         ...         ...         ...         ...   \n",
       "10793     9998     9998        3486  2024-01-14  2024-12-09        9998   \n",
       "10794     9998     9998        3486  2024-01-14  2024-12-09        9998   \n",
       "10795     9998     9998        3486  2024-01-14  2024-12-09        9998   \n",
       "10796     9999     9999        2281  2023-12-28  2025-08-23        9999   \n",
       "10797     9999     9999        2281  2023-12-28  2025-08-23        9999   \n",
       "\n",
       "      date_of_birth major  enrollment_id  course_id grade_x  submission_id  \\\n",
       "0        2003-01-27  1262           5758       9618       C           2462   \n",
       "1        2003-01-27  1262           5758       9618       C           3984   \n",
       "2        2003-01-27  1262           5758       9618       C           7851   \n",
       "3        2003-01-27  1262           9382       5777       A           2462   \n",
       "4        2003-01-27  1262           9382       5777       A           3984   \n",
       "...             ...   ...            ...        ...     ...            ...   \n",
       "10793    2000-08-21  8143           3450       6477       F           8054   \n",
       "10794    2000-08-21  8143           3757       4480    None            578   \n",
       "10795    2000-08-21  8143           3757       4480    None           8054   \n",
       "10796    1996-11-30  1005           9064       7483       B           9247   \n",
       "10797    1996-11-30  1005           9064       7483       B          10387   \n",
       "\n",
       "       assignment_id      submission_date grade_y  \n",
       "0               9937  2022-10-18 02:02:31       B  \n",
       "1               4403  2022-11-15 20:13:23       I  \n",
       "2               6252  2022-07-31 08:44:12       A  \n",
       "3               9937  2022-10-18 02:02:31       B  \n",
       "4               4403  2022-11-15 20:13:23       I  \n",
       "...              ...                  ...     ...  \n",
       "10793           1227  2022-09-20 01:25:41       C  \n",
       "10794           6739  2022-11-01 16:39:13       A  \n",
       "10795           1227  2022-09-20 01:25:41       C  \n",
       "10796           1546  2022-08-05 15:48:08       B  \n",
       "10797           2291  2022-04-15 09:37:00       F  \n",
       "\n",
       "[10798 rows x 15 columns]"
      ],
      "text/html": [
       "<div>\n",
       "<style scoped>\n",
       "    .dataframe tbody tr th:only-of-type {\n",
       "        vertical-align: middle;\n",
       "    }\n",
       "\n",
       "    .dataframe tbody tr th {\n",
       "        vertical-align: top;\n",
       "    }\n",
       "\n",
       "    .dataframe thead th {\n",
       "        text-align: right;\n",
       "    }\n",
       "</style>\n",
       "<table border=\"1\" class=\"dataframe\">\n",
       "  <thead>\n",
       "    <tr style=\"text-align: right;\">\n",
       "      <th></th>\n",
       "      <th>loan_id</th>\n",
       "      <th>book_id</th>\n",
       "      <th>student_id</th>\n",
       "      <th>loan_date</th>\n",
       "      <th>return_date</th>\n",
       "      <th>library_id</th>\n",
       "      <th>date_of_birth</th>\n",
       "      <th>major</th>\n",
       "      <th>enrollment_id</th>\n",
       "      <th>course_id</th>\n",
       "      <th>grade_x</th>\n",
       "      <th>submission_id</th>\n",
       "      <th>assignment_id</th>\n",
       "      <th>submission_date</th>\n",
       "      <th>grade_y</th>\n",
       "    </tr>\n",
       "  </thead>\n",
       "  <tbody>\n",
       "    <tr>\n",
       "      <th>0</th>\n",
       "      <td>1</td>\n",
       "      <td>1</td>\n",
       "      <td>5068</td>\n",
       "      <td>2024-07-19</td>\n",
       "      <td>2025-07-30</td>\n",
       "      <td>1</td>\n",
       "      <td>2003-01-27</td>\n",
       "      <td>1262</td>\n",
       "      <td>5758</td>\n",
       "      <td>9618</td>\n",
       "      <td>C</td>\n",
       "      <td>2462</td>\n",
       "      <td>9937</td>\n",
       "      <td>2022-10-18 02:02:31</td>\n",
       "      <td>B</td>\n",
       "    </tr>\n",
       "    <tr>\n",
       "      <th>1</th>\n",
       "      <td>1</td>\n",
       "      <td>1</td>\n",
       "      <td>5068</td>\n",
       "      <td>2024-07-19</td>\n",
       "      <td>2025-07-30</td>\n",
       "      <td>1</td>\n",
       "      <td>2003-01-27</td>\n",
       "      <td>1262</td>\n",
       "      <td>5758</td>\n",
       "      <td>9618</td>\n",
       "      <td>C</td>\n",
       "      <td>3984</td>\n",
       "      <td>4403</td>\n",
       "      <td>2022-11-15 20:13:23</td>\n",
       "      <td>I</td>\n",
       "    </tr>\n",
       "    <tr>\n",
       "      <th>2</th>\n",
       "      <td>1</td>\n",
       "      <td>1</td>\n",
       "      <td>5068</td>\n",
       "      <td>2024-07-19</td>\n",
       "      <td>2025-07-30</td>\n",
       "      <td>1</td>\n",
       "      <td>2003-01-27</td>\n",
       "      <td>1262</td>\n",
       "      <td>5758</td>\n",
       "      <td>9618</td>\n",
       "      <td>C</td>\n",
       "      <td>7851</td>\n",
       "      <td>6252</td>\n",
       "      <td>2022-07-31 08:44:12</td>\n",
       "      <td>A</td>\n",
       "    </tr>\n",
       "    <tr>\n",
       "      <th>3</th>\n",
       "      <td>1</td>\n",
       "      <td>1</td>\n",
       "      <td>5068</td>\n",
       "      <td>2024-07-19</td>\n",
       "      <td>2025-07-30</td>\n",
       "      <td>1</td>\n",
       "      <td>2003-01-27</td>\n",
       "      <td>1262</td>\n",
       "      <td>9382</td>\n",
       "      <td>5777</td>\n",
       "      <td>A</td>\n",
       "      <td>2462</td>\n",
       "      <td>9937</td>\n",
       "      <td>2022-10-18 02:02:31</td>\n",
       "      <td>B</td>\n",
       "    </tr>\n",
       "    <tr>\n",
       "      <th>4</th>\n",
       "      <td>1</td>\n",
       "      <td>1</td>\n",
       "      <td>5068</td>\n",
       "      <td>2024-07-19</td>\n",
       "      <td>2025-07-30</td>\n",
       "      <td>1</td>\n",
       "      <td>2003-01-27</td>\n",
       "      <td>1262</td>\n",
       "      <td>9382</td>\n",
       "      <td>5777</td>\n",
       "      <td>A</td>\n",
       "      <td>3984</td>\n",
       "      <td>4403</td>\n",
       "      <td>2022-11-15 20:13:23</td>\n",
       "      <td>I</td>\n",
       "    </tr>\n",
       "    <tr>\n",
       "      <th>...</th>\n",
       "      <td>...</td>\n",
       "      <td>...</td>\n",
       "      <td>...</td>\n",
       "      <td>...</td>\n",
       "      <td>...</td>\n",
       "      <td>...</td>\n",
       "      <td>...</td>\n",
       "      <td>...</td>\n",
       "      <td>...</td>\n",
       "      <td>...</td>\n",
       "      <td>...</td>\n",
       "      <td>...</td>\n",
       "      <td>...</td>\n",
       "      <td>...</td>\n",
       "      <td>...</td>\n",
       "    </tr>\n",
       "    <tr>\n",
       "      <th>10793</th>\n",
       "      <td>9998</td>\n",
       "      <td>9998</td>\n",
       "      <td>3486</td>\n",
       "      <td>2024-01-14</td>\n",
       "      <td>2024-12-09</td>\n",
       "      <td>9998</td>\n",
       "      <td>2000-08-21</td>\n",
       "      <td>8143</td>\n",
       "      <td>3450</td>\n",
       "      <td>6477</td>\n",
       "      <td>F</td>\n",
       "      <td>8054</td>\n",
       "      <td>1227</td>\n",
       "      <td>2022-09-20 01:25:41</td>\n",
       "      <td>C</td>\n",
       "    </tr>\n",
       "    <tr>\n",
       "      <th>10794</th>\n",
       "      <td>9998</td>\n",
       "      <td>9998</td>\n",
       "      <td>3486</td>\n",
       "      <td>2024-01-14</td>\n",
       "      <td>2024-12-09</td>\n",
       "      <td>9998</td>\n",
       "      <td>2000-08-21</td>\n",
       "      <td>8143</td>\n",
       "      <td>3757</td>\n",
       "      <td>4480</td>\n",
       "      <td>None</td>\n",
       "      <td>578</td>\n",
       "      <td>6739</td>\n",
       "      <td>2022-11-01 16:39:13</td>\n",
       "      <td>A</td>\n",
       "    </tr>\n",
       "    <tr>\n",
       "      <th>10795</th>\n",
       "      <td>9998</td>\n",
       "      <td>9998</td>\n",
       "      <td>3486</td>\n",
       "      <td>2024-01-14</td>\n",
       "      <td>2024-12-09</td>\n",
       "      <td>9998</td>\n",
       "      <td>2000-08-21</td>\n",
       "      <td>8143</td>\n",
       "      <td>3757</td>\n",
       "      <td>4480</td>\n",
       "      <td>None</td>\n",
       "      <td>8054</td>\n",
       "      <td>1227</td>\n",
       "      <td>2022-09-20 01:25:41</td>\n",
       "      <td>C</td>\n",
       "    </tr>\n",
       "    <tr>\n",
       "      <th>10796</th>\n",
       "      <td>9999</td>\n",
       "      <td>9999</td>\n",
       "      <td>2281</td>\n",
       "      <td>2023-12-28</td>\n",
       "      <td>2025-08-23</td>\n",
       "      <td>9999</td>\n",
       "      <td>1996-11-30</td>\n",
       "      <td>1005</td>\n",
       "      <td>9064</td>\n",
       "      <td>7483</td>\n",
       "      <td>B</td>\n",
       "      <td>9247</td>\n",
       "      <td>1546</td>\n",
       "      <td>2022-08-05 15:48:08</td>\n",
       "      <td>B</td>\n",
       "    </tr>\n",
       "    <tr>\n",
       "      <th>10797</th>\n",
       "      <td>9999</td>\n",
       "      <td>9999</td>\n",
       "      <td>2281</td>\n",
       "      <td>2023-12-28</td>\n",
       "      <td>2025-08-23</td>\n",
       "      <td>9999</td>\n",
       "      <td>1996-11-30</td>\n",
       "      <td>1005</td>\n",
       "      <td>9064</td>\n",
       "      <td>7483</td>\n",
       "      <td>B</td>\n",
       "      <td>10387</td>\n",
       "      <td>2291</td>\n",
       "      <td>2022-04-15 09:37:00</td>\n",
       "      <td>F</td>\n",
       "    </tr>\n",
       "  </tbody>\n",
       "</table>\n",
       "<p>10798 rows × 15 columns</p>\n",
       "</div>"
      ]
     },
     "execution_count": 7,
     "metadata": {},
     "output_type": "execute_result"
    }
   ],
   "execution_count": 7
  },
  {
   "metadata": {},
   "cell_type": "markdown",
   "source": "检查metadata"
  },
  {
   "cell_type": "code",
   "metadata": {
    "ExecuteTime": {
     "end_time": "2024-10-09T06:25:27.187092Z",
     "start_time": "2024-10-09T06:25:23.781659Z"
    }
   },
   "source": [
    "from sdgx.data_loader import DataLoader\n",
    "from sdgx.data_models.metadata import Metadata\n",
    "\n",
    "result_table.to_csv(\"test_10k_noncat.csv\", index=False)\n",
    "dataset_csv = \"test_10k_noncat.csv\"\n",
    "data_connector = CsvConnector(path=dataset_csv)\n",
    "data_loader = DataLoader(data_connector)\n",
    "loan_metadata = Metadata.from_dataloader(data_loader)\n",
    "\n",
    "loan_metadata.discrete_columns"
   ],
   "outputs": [
    {
     "name": "stderr",
     "output_type": "stream",
     "text": [
      "\u001B[32m2024-10-09 14:25:23.844\u001B[0m | \u001B[1mINFO    \u001B[0m | \u001B[36msdgx.data_models.metadata\u001B[0m:\u001B[36mfrom_dataloader\u001B[0m:\u001B[36m294\u001B[0m - \u001B[1mInspecting metadata...\u001B[0m\n",
      "\u001B[32m2024-10-09 14:25:23.866\u001B[0m | \u001B[34m\u001B[1mDEBUG   \u001B[0m | \u001B[36msdgx.manager\u001B[0m:\u001B[36mregister\u001B[0m:\u001B[36m99\u001B[0m - \u001B[34m\u001B[1mRegister for new model: subsetrelationshipinspector\u001B[0m\n",
      "\u001B[32m2024-10-09 14:25:23.867\u001B[0m | \u001B[34m\u001B[1mDEBUG   \u001B[0m | \u001B[36msdgx.manager\u001B[0m:\u001B[36mregister\u001B[0m:\u001B[36m99\u001B[0m - \u001B[34m\u001B[1mRegister for new model: emailinspector\u001B[0m\n",
      "\u001B[32m2024-10-09 14:25:23.868\u001B[0m | \u001B[34m\u001B[1mDEBUG   \u001B[0m | \u001B[36msdgx.manager\u001B[0m:\u001B[36mregister\u001B[0m:\u001B[36m99\u001B[0m - \u001B[34m\u001B[1mRegister for new model: chinamainlandidinspector\u001B[0m\n",
      "\u001B[32m2024-10-09 14:25:23.869\u001B[0m | \u001B[34m\u001B[1mDEBUG   \u001B[0m | \u001B[36msdgx.manager\u001B[0m:\u001B[36mregister\u001B[0m:\u001B[36m99\u001B[0m - \u001B[34m\u001B[1mRegister for new model: chinamainlandmobilephoneinspector\u001B[0m\n",
      "\u001B[32m2024-10-09 14:25:23.869\u001B[0m | \u001B[34m\u001B[1mDEBUG   \u001B[0m | \u001B[36msdgx.manager\u001B[0m:\u001B[36mregister\u001B[0m:\u001B[36m99\u001B[0m - \u001B[34m\u001B[1mRegister for new model: chinamainlandpostcode\u001B[0m\n",
      "\u001B[32m2024-10-09 14:25:23.870\u001B[0m | \u001B[34m\u001B[1mDEBUG   \u001B[0m | \u001B[36msdgx.manager\u001B[0m:\u001B[36mregister\u001B[0m:\u001B[36m99\u001B[0m - \u001B[34m\u001B[1mRegister for new model: chinamainlandunifiedsocialcreditcode\u001B[0m\n",
      "\u001B[32m2024-10-09 14:25:23.870\u001B[0m | \u001B[34m\u001B[1mDEBUG   \u001B[0m | \u001B[36msdgx.manager\u001B[0m:\u001B[36mregister\u001B[0m:\u001B[36m99\u001B[0m - \u001B[34m\u001B[1mRegister for new model: chinamainlandaddressinspector\u001B[0m\n",
      "\u001B[32m2024-10-09 14:25:23.871\u001B[0m | \u001B[34m\u001B[1mDEBUG   \u001B[0m | \u001B[36msdgx.manager\u001B[0m:\u001B[36mregister\u001B[0m:\u001B[36m99\u001B[0m - \u001B[34m\u001B[1mRegister for new model: chinesenameinspector\u001B[0m\n",
      "\u001B[32m2024-10-09 14:25:23.871\u001B[0m | \u001B[34m\u001B[1mDEBUG   \u001B[0m | \u001B[36msdgx.manager\u001B[0m:\u001B[36mregister\u001B[0m:\u001B[36m99\u001B[0m - \u001B[34m\u001B[1mRegister for new model: englishnameinspector\u001B[0m\n",
      "\u001B[32m2024-10-09 14:25:23.871\u001B[0m | \u001B[34m\u001B[1mDEBUG   \u001B[0m | \u001B[36msdgx.manager\u001B[0m:\u001B[36mregister\u001B[0m:\u001B[36m99\u001B[0m - \u001B[34m\u001B[1mRegister for new model: chinesecompanynameinspector\u001B[0m\n",
      "\u001B[32m2024-10-09 14:25:23.872\u001B[0m | \u001B[34m\u001B[1mDEBUG   \u001B[0m | \u001B[36msdgx.manager\u001B[0m:\u001B[36mregister\u001B[0m:\u001B[36m99\u001B[0m - \u001B[34m\u001B[1mRegister for new model: numericinspector\u001B[0m\n",
      "\u001B[32m2024-10-09 14:25:23.872\u001B[0m | \u001B[34m\u001B[1mDEBUG   \u001B[0m | \u001B[36msdgx.manager\u001B[0m:\u001B[36mregister\u001B[0m:\u001B[36m99\u001B[0m - \u001B[34m\u001B[1mRegister for new model: idinspector\u001B[0m\n",
      "\u001B[32m2024-10-09 14:25:23.873\u001B[0m | \u001B[34m\u001B[1mDEBUG   \u001B[0m | \u001B[36msdgx.manager\u001B[0m:\u001B[36mregister\u001B[0m:\u001B[36m99\u001B[0m - \u001B[34m\u001B[1mRegister for new model: emptyinspector\u001B[0m\n",
      "\u001B[32m2024-10-09 14:25:23.874\u001B[0m | \u001B[34m\u001B[1mDEBUG   \u001B[0m | \u001B[36msdgx.manager\u001B[0m:\u001B[36mregister\u001B[0m:\u001B[36m99\u001B[0m - \u001B[34m\u001B[1mRegister for new model: discreteinspector\u001B[0m\n",
      "\u001B[32m2024-10-09 14:25:23.874\u001B[0m | \u001B[34m\u001B[1mDEBUG   \u001B[0m | \u001B[36msdgx.manager\u001B[0m:\u001B[36mregister\u001B[0m:\u001B[36m99\u001B[0m - \u001B[34m\u001B[1mRegister for new model: datetimeinspector\u001B[0m\n",
      "\u001B[32m2024-10-09 14:25:23.874\u001B[0m | \u001B[34m\u001B[1mDEBUG   \u001B[0m | \u001B[36msdgx.manager\u001B[0m:\u001B[36mregister\u001B[0m:\u001B[36m99\u001B[0m - \u001B[34m\u001B[1mRegister for new model: constinspector\u001B[0m\n",
      "\u001B[32m2024-10-09 14:25:23.875\u001B[0m | \u001B[34m\u001B[1mDEBUG   \u001B[0m | \u001B[36msdgx.manager\u001B[0m:\u001B[36mregister\u001B[0m:\u001B[36m99\u001B[0m - \u001B[34m\u001B[1mRegister for new model: boolinspector\u001B[0m\n",
      "\u001B[32m2024-10-09 14:25:27.174\u001B[0m | \u001B[1mINFO    \u001B[0m | \u001B[36msdgx.data_models.metadata\u001B[0m:\u001B[36mupdate_primary_key\u001B[0m:\u001B[36m503\u001B[0m - \u001B[1mPrimary Key updated: set().\u001B[0m\n"
     ]
    },
    {
     "data": {
      "text/plain": [
       "{'date_of_birth',\n",
       " 'grade_x',\n",
       " 'grade_y',\n",
       " 'loan_date',\n",
       " 'return_date',\n",
       " 'submission_date'}"
      ]
     },
     "execution_count": 8,
     "metadata": {},
     "output_type": "execute_result"
    }
   ],
   "execution_count": 8
  },
  {
   "metadata": {
    "ExecuteTime": {
     "end_time": "2024-10-09T06:25:27.203095Z",
     "start_time": "2024-10-09T06:25:27.189205Z"
    }
   },
   "cell_type": "code",
   "source": "loan_metadata.datetime_columns",
   "outputs": [
    {
     "data": {
      "text/plain": [
       "{'date_of_birth', 'loan_date', 'return_date', 'submission_date'}"
      ]
     },
     "execution_count": 9,
     "metadata": {},
     "output_type": "execute_result"
    }
   ],
   "execution_count": 9
  },
  {
   "cell_type": "code",
   "metadata": {
    "ExecuteTime": {
     "end_time": "2024-10-09T06:25:27.219077Z",
     "start_time": "2024-10-09T06:25:27.205087Z"
    }
   },
   "source": [
    "\n",
    "loan_metadata.column_list.__len__()"
   ],
   "outputs": [
    {
     "data": {
      "text/plain": [
       "15"
      ]
     },
     "execution_count": 10,
     "metadata": {},
     "output_type": "execute_result"
    }
   ],
   "execution_count": 10
  },
  {
   "metadata": {
    "ExecuteTime": {
     "end_time": "2024-10-09T06:25:27.232995Z",
     "start_time": "2024-10-09T06:25:27.220076Z"
    }
   },
   "cell_type": "code",
   "source": [
    "loan_metadata.datetime_format = {\n",
    "    key: \"%Y-%m-%d\" for key in loan_metadata.datetime_columns if key != \"submission_date\"\n",
    "}\n",
    "loan_metadata.datetime_format[\"submission_date\"] = \"%Y-%m-%d %H:%M:%S\"\n",
    "loan_metadata.datetime_format"
   ],
   "outputs": [
    {
     "data": {
      "text/plain": [
       "{'date_of_birth': '%Y-%m-%d',\n",
       " 'return_date': '%Y-%m-%d',\n",
       " 'loan_date': '%Y-%m-%d',\n",
       " 'submission_date': '%Y-%m-%d %H:%M:%S'}"
      ]
     },
     "execution_count": 11,
     "metadata": {},
     "output_type": "execute_result"
    }
   ],
   "execution_count": 11
  },
  {
   "metadata": {
    "ExecuteTime": {
     "end_time": "2024-10-09T06:25:27.248993Z",
     "start_time": "2024-10-09T06:25:27.234049Z"
    }
   },
   "cell_type": "code",
   "source": [
    "loan_metadata.column_encoder = {\n",
    "    \"grade_x\": \"label\",\n",
    "    \"grade_y\": \"label\"\n",
    "}"
   ],
   "outputs": [],
   "execution_count": 12
  },
  {
   "metadata": {
    "ExecuteTime": {
     "end_time": "2024-10-09T06:25:27.263944Z",
     "start_time": "2024-10-09T06:25:27.250987Z"
    }
   },
   "cell_type": "code",
   "source": [
    "loan_metadata.discrete_columns = set([])\n",
    "set([\n",
    "    key for key in loan_metadata.discrete_columns if key not in loan_metadata.datetime_columns\n",
    "])\n",
    "loan_metadata.label_columns.add(\"grade_x\")\n",
    "loan_metadata.label_columns.add(\"grade_y\")\n",
    "print(loan_metadata.label_columns)\n",
    "print(loan_metadata.int_columns)"
   ],
   "outputs": [
    {
     "name": "stdout",
     "output_type": "stream",
     "text": [
      "{'grade_x', 'grade_y'}\n",
      "{'enrollment_id', 'student_id', 'submission_id', 'library_id', 'assignment_id', 'course_id', 'loan_id', 'major', 'book_id'}\n"
     ]
    }
   ],
   "execution_count": 13
  },
  {
   "metadata": {},
   "cell_type": "markdown",
   "source": "训练"
  },
  {
   "cell_type": "code",
   "metadata": {
    "ExecuteTime": {
     "end_time": "2024-10-09T06:25:42.474947Z",
     "start_time": "2024-10-09T06:25:27.265919Z"
    }
   },
   "source": [
    "\n",
    "\n",
    "ctgan = CTGANSynthesizerModel(\n",
    "        epochs=1,\n",
    "        batch_size=500,\n",
    "        # device=\"cpu\"\n",
    "    )\n",
    "# Initialize synthesizer, use CTGAN model\n",
    "synthesizer = Synthesizer(\n",
    "    metadata=loan_metadata,\n",
    "    model=ctgan,  # For quick demo\n",
    "    data_connector=data_connector,\n",
    ")\n",
    "\n",
    "\n",
    "writetime()\n",
    "synthesizer.fit()\n",
    "writetime()\n",
    "#synthesizer.save(\"test_model_10k_id10\")"
   ],
   "outputs": [
    {
     "name": "stderr",
     "output_type": "stream",
     "text": [
      "\u001B[32m2024-10-09 14:25:27.434\u001B[0m | \u001B[34m\u001B[1mDEBUG   \u001B[0m | \u001B[36msdgx.manager\u001B[0m:\u001B[36mregister\u001B[0m:\u001B[36m99\u001B[0m - \u001B[34m\u001B[1mRegister for new model: outliertransformer\u001B[0m\n",
      "\u001B[32m2024-10-09 14:25:27.434\u001B[0m | \u001B[34m\u001B[1mDEBUG   \u001B[0m | \u001B[36msdgx.manager\u001B[0m:\u001B[36mregister\u001B[0m:\u001B[36m99\u001B[0m - \u001B[34m\u001B[1mRegister for new model: numericvaluetransformer\u001B[0m\n",
      "\u001B[32m2024-10-09 14:25:27.435\u001B[0m | \u001B[34m\u001B[1mDEBUG   \u001B[0m | \u001B[36msdgx.manager\u001B[0m:\u001B[36mregister\u001B[0m:\u001B[36m99\u001B[0m - \u001B[34m\u001B[1mRegister for new model: nonvaluetransformer\u001B[0m\n",
      "\u001B[32m2024-10-09 14:25:27.435\u001B[0m | \u001B[34m\u001B[1mDEBUG   \u001B[0m | \u001B[36msdgx.manager\u001B[0m:\u001B[36mregister\u001B[0m:\u001B[36m99\u001B[0m - \u001B[34m\u001B[1mRegister for new model: emptytransformer\u001B[0m\n",
      "\u001B[32m2024-10-09 14:25:27.436\u001B[0m | \u001B[34m\u001B[1mDEBUG   \u001B[0m | \u001B[36msdgx.manager\u001B[0m:\u001B[36mregister\u001B[0m:\u001B[36m99\u001B[0m - \u001B[34m\u001B[1mRegister for new model: constvaluetransformer\u001B[0m\n",
      "\u001B[32m2024-10-09 14:25:27.437\u001B[0m | \u001B[34m\u001B[1mDEBUG   \u001B[0m | \u001B[36msdgx.manager\u001B[0m:\u001B[36mregister\u001B[0m:\u001B[36m99\u001B[0m - \u001B[34m\u001B[1mRegister for new model: columnordertransformer\u001B[0m\n",
      "\u001B[32m2024-10-09 14:25:27.437\u001B[0m | \u001B[34m\u001B[1mDEBUG   \u001B[0m | \u001B[36msdgx.manager\u001B[0m:\u001B[36mregister\u001B[0m:\u001B[36m99\u001B[0m - \u001B[34m\u001B[1mRegister for new model: emailgenerator\u001B[0m\n",
      "\u001B[32m2024-10-09 14:25:27.437\u001B[0m | \u001B[34m\u001B[1mDEBUG   \u001B[0m | \u001B[36msdgx.manager\u001B[0m:\u001B[36mregister\u001B[0m:\u001B[36m99\u001B[0m - \u001B[34m\u001B[1mRegister for new model: chnpiigenerator\u001B[0m\n",
      "\u001B[32m2024-10-09 14:25:27.438\u001B[0m | \u001B[34m\u001B[1mDEBUG   \u001B[0m | \u001B[36msdgx.manager\u001B[0m:\u001B[36mregister\u001B[0m:\u001B[36m99\u001B[0m - \u001B[34m\u001B[1mRegister for new model: intvalueformatter\u001B[0m\n",
      "\u001B[32m2024-10-09 14:25:27.438\u001B[0m | \u001B[34m\u001B[1mDEBUG   \u001B[0m | \u001B[36msdgx.manager\u001B[0m:\u001B[36mregister\u001B[0m:\u001B[36m99\u001B[0m - \u001B[34m\u001B[1mRegister for new model: datetimeformatter\u001B[0m\n",
      "\u001B[32m2024-10-09 14:25:27.439\u001B[0m | \u001B[1mINFO    \u001B[0m | \u001B[36msdgx.synthesizer\u001B[0m:\u001B[36m__init__\u001B[0m:\u001B[36m106\u001B[0m - \u001B[1mUsing data processors: ['nonvaluetransformer', 'outliertransformer', 'emailgenerator', 'chnpiigenerator', 'intvalueformatter', 'datetimeformatter', 'constvaluetransformer', 'emptytransformer', 'columnordertransformer']\u001B[0m\n",
      "\u001B[32m2024-10-09 14:25:27.473\u001B[0m | \u001B[1mINFO    \u001B[0m | \u001B[36msdgx.synthesizer\u001B[0m:\u001B[36mfit\u001B[0m:\u001B[36m296\u001B[0m - \u001B[1mFitting data processors...\u001B[0m\n",
      "\u001B[32m2024-10-09 14:25:27.531\u001B[0m | \u001B[1mINFO    \u001B[0m | \u001B[36msdgx.data_processors.transformers.nan\u001B[0m:\u001B[36mfit\u001B[0m:\u001B[36m71\u001B[0m - \u001B[1mNonValueTransformer Fitted.\u001B[0m\n",
      "\u001B[32m2024-10-09 14:25:27.532\u001B[0m | \u001B[1mINFO    \u001B[0m | \u001B[36msdgx.data_processors.transformers.nan\u001B[0m:\u001B[36mfit\u001B[0m:\u001B[36m87\u001B[0m - \u001B[1mNonValueTransformer get int columns: {'enrollment_id', 'student_id', 'library_id', 'submission_id', 'assignment_id', 'course_id', 'loan_id', 'major', 'book_id'}.\u001B[0m\n",
      "\u001B[32m2024-10-09 14:25:27.533\u001B[0m | \u001B[1mINFO    \u001B[0m | \u001B[36msdgx.data_processors.transformers.nan\u001B[0m:\u001B[36mfit\u001B[0m:\u001B[36m96\u001B[0m - \u001B[1mNonValueTransformer get float columns: set().\u001B[0m\n",
      "\u001B[32m2024-10-09 14:25:27.533\u001B[0m | \u001B[1mINFO    \u001B[0m | \u001B[36msdgx.data_processors.transformers.nan\u001B[0m:\u001B[36mfit\u001B[0m:\u001B[36m101\u001B[0m - \u001B[1mNonValueTransformer get column list from metadata: ['loan_id', 'book_id', 'student_id', 'loan_date', 'return_date', 'library_id', 'date_of_birth', 'major', 'enrollment_id', 'course_id', 'grade_x', 'submission_id', 'assignment_id', 'submission_date', 'grade_y'].\u001B[0m\n",
      "\u001B[32m2024-10-09 14:25:27.534\u001B[0m | \u001B[1mINFO    \u001B[0m | \u001B[36msdgx.data_processors.transformers.outlier\u001B[0m:\u001B[36mfit\u001B[0m:\u001B[36m70\u001B[0m - \u001B[1mOutlierTransformer Fitted.\u001B[0m\n",
      "\u001B[32m2024-10-09 14:25:27.534\u001B[0m | \u001B[1mINFO    \u001B[0m | \u001B[36msdgx.data_processors.formatters.int\u001B[0m:\u001B[36mfit\u001B[0m:\u001B[36m40\u001B[0m - \u001B[1mIntValueFormatter Fitted.\u001B[0m\n",
      "\u001B[32m2024-10-09 14:25:27.535\u001B[0m | \u001B[1mINFO    \u001B[0m | \u001B[36msdgx.data_processors.formatters.datetime\u001B[0m:\u001B[36mfit\u001B[0m:\u001B[36m77\u001B[0m - \u001B[1mDatetimeFormatter Fitted.\u001B[0m\n",
      "\u001B[32m2024-10-09 14:25:27.535\u001B[0m | \u001B[1mINFO    \u001B[0m | \u001B[36msdgx.data_processors.transformers.const\u001B[0m:\u001B[36mfit\u001B[0m:\u001B[36m49\u001B[0m - \u001B[1mConstValueTransformer Fitted.\u001B[0m\n",
      "\u001B[32m2024-10-09 14:25:27.536\u001B[0m | \u001B[1mINFO    \u001B[0m | \u001B[36msdgx.data_processors.transformers.empty\u001B[0m:\u001B[36mfit\u001B[0m:\u001B[36m54\u001B[0m - \u001B[1mEmptyTransformer Fitted.\u001B[0m\n",
      "\u001B[32m2024-10-09 14:25:27.536\u001B[0m | \u001B[1mINFO    \u001B[0m | \u001B[36msdgx.data_processors.transformers.column_order\u001B[0m:\u001B[36mfit\u001B[0m:\u001B[36m41\u001B[0m - \u001B[1mColumnOrderTransformer Fitted.\u001B[0m\n",
      "\u001B[32m2024-10-09 14:25:27.536\u001B[0m | \u001B[1mINFO    \u001B[0m | \u001B[36msdgx.synthesizer\u001B[0m:\u001B[36mfit\u001B[0m:\u001B[36m305\u001B[0m - \u001B[1mFitted 9 data processors in  0.004920244216918945s.\u001B[0m\n",
      "\u001B[32m2024-10-09 14:25:27.537\u001B[0m | \u001B[1mINFO    \u001B[0m | \u001B[36msdgx.synthesizer\u001B[0m:\u001B[36mfit\u001B[0m:\u001B[36m315\u001B[0m - \u001B[1mInitializing processed data loader...\u001B[0m\n",
      "\u001B[32m2024-10-09 14:25:27.601\u001B[0m | \u001B[1mINFO    \u001B[0m | \u001B[36msdgx.data_processors.transformers.nan\u001B[0m:\u001B[36mconvert\u001B[0m:\u001B[36m110\u001B[0m - \u001B[1mConverting data using NonValueTransformer...\u001B[0m\n",
      "\u001B[32m2024-10-09 14:25:27.606\u001B[0m | \u001B[1mINFO    \u001B[0m | \u001B[36msdgx.data_processors.transformers.nan\u001B[0m:\u001B[36mconvert\u001B[0m:\u001B[36m130\u001B[0m - \u001B[1mConverting data using NonValueTransformer... Finished.\u001B[0m\n",
      "\u001B[32m2024-10-09 14:25:27.606\u001B[0m | \u001B[1mINFO    \u001B[0m | \u001B[36msdgx.data_processors.transformers.outlier\u001B[0m:\u001B[36mconvert\u001B[0m:\u001B[36m84\u001B[0m - \u001B[1mConverting data using OutlierTransformer...\u001B[0m\n",
      "\u001B[32m2024-10-09 14:25:27.624\u001B[0m | \u001B[1mINFO    \u001B[0m | \u001B[36msdgx.data_processors.transformers.outlier\u001B[0m:\u001B[36mconvert\u001B[0m:\u001B[36m106\u001B[0m - \u001B[1mConverting data using OutlierTransformer... Finished.\u001B[0m\n",
      "\u001B[32m2024-10-09 14:25:27.625\u001B[0m | \u001B[1mINFO    \u001B[0m | \u001B[36msdgx.data_processors.formatters.int\u001B[0m:\u001B[36mconvert\u001B[0m:\u001B[36m50\u001B[0m - \u001B[1mConverting data using IntValueFormatter... Finished  (No Action).\u001B[0m\n",
      "\u001B[32m2024-10-09 14:25:27.625\u001B[0m | \u001B[1mINFO    \u001B[0m | \u001B[36msdgx.data_processors.formatters.datetime\u001B[0m:\u001B[36mconvert\u001B[0m:\u001B[36m99\u001B[0m - \u001B[1mConverting data using DatetimeFormatter...\u001B[0m\n"
     ]
    },
    {
     "name": "stdout",
     "output_type": "stream",
     "text": [
      "{'primary_keys': set(), 'column_list': ['loan_id', 'book_id', 'student_id', 'loan_date', 'return_date', 'library_id', 'date_of_birth', 'major', 'enrollment_id', 'course_id', 'grade_x', 'submission_id', 'assignment_id', 'submission_date', 'grade_y'], 'column_inspect_level': {'id_columns': 20, 'empty_columns': 90, 'english_name_columns': 40, 'chinese_name_columns': 40, 'china_mainland_address_columns': 30, 'china_mainland_mobile_phone_columns': 30, 'datetime_columns': 20, 'email_columns': 30, 'discrete_columns': 10, 'const_columns': 80, 'chinese_company_name_columns': 40, 'china_mainland_postcode_columns': 20, 'china_mainland_id_columns': 30, 'unified_social_credit_code_columns': 30, 'int_columns': 10, 'float_columns': 10, 'bool_columns': 10}, 'pii_columns': set(), 'id_columns': set(), 'int_columns': {'enrollment_id', 'student_id', 'library_id', 'submission_id', 'assignment_id', 'course_id', 'loan_id', 'major', 'book_id'}, 'float_columns': set(), 'bool_columns': set(), 'discrete_columns': set(), 'datetime_columns': {'date_of_birth', 'return_date', 'submission_date', 'loan_date'}, 'const_columns': set(), 'datetime_format': {'date_of_birth': '%Y-%m-%d', 'return_date': '%Y-%m-%d', 'loan_date': '%Y-%m-%d', 'submission_date': '%Y-%m-%d %H:%M:%S'}, 'numeric_format': {'positive': ['assignment_id', 'book_id', 'course_id', 'enrollment_id', 'library_id', 'loan_id', 'major', 'student_id', 'submission_id'], 'negative': []}, 'label_columns': {'grade_x', 'grade_y'}, 'column_encoder': {'grade_x': 'label', 'grade_y': 'label'}, 'version': '1.0'}\n"
     ]
    },
    {
     "name": "stderr",
     "output_type": "stream",
     "text": [
      "\u001B[32m2024-10-09 14:25:27.831\u001B[0m | \u001B[1mINFO    \u001B[0m | \u001B[36msdgx.data_processors.formatters.datetime\u001B[0m:\u001B[36mconvert\u001B[0m:\u001B[36m105\u001B[0m - \u001B[1mConverting data using DatetimeFormatter... Finished.\u001B[0m\n",
      "\u001B[32m2024-10-09 14:25:27.832\u001B[0m | \u001B[1mINFO    \u001B[0m | \u001B[36msdgx.data_processors.transformers.const\u001B[0m:\u001B[36mconvert\u001B[0m:\u001B[36m69\u001B[0m - \u001B[1mConverting data using ConstValueTransformer...\u001B[0m\n",
      "\u001B[32m2024-10-09 14:25:27.832\u001B[0m | \u001B[1mINFO    \u001B[0m | \u001B[36msdgx.data_processors.transformers.const\u001B[0m:\u001B[36mconvert\u001B[0m:\u001B[36m77\u001B[0m - \u001B[1mConverting data using ConstValueTransformer... Finished.\u001B[0m\n",
      "\u001B[32m2024-10-09 14:25:27.833\u001B[0m | \u001B[1mINFO    \u001B[0m | \u001B[36msdgx.data_processors.transformers.empty\u001B[0m:\u001B[36mconvert\u001B[0m:\u001B[36m72\u001B[0m - \u001B[1mConverting data using EmptyTransformer...\u001B[0m\n",
      "\u001B[32m2024-10-09 14:25:27.833\u001B[0m | \u001B[1mINFO    \u001B[0m | \u001B[36msdgx.data_processors.transformers.empty\u001B[0m:\u001B[36mconvert\u001B[0m:\u001B[36m76\u001B[0m - \u001B[1mConverting data using EmptyTransformer... Finished (No action).\u001B[0m\n",
      "\u001B[32m2024-10-09 14:25:27.834\u001B[0m | \u001B[1mINFO    \u001B[0m | \u001B[36msdgx.data_processors.transformers.column_order\u001B[0m:\u001B[36mconvert\u001B[0m:\u001B[36m51\u001B[0m - \u001B[1mConverting data using ColumnOrderTransformer...\u001B[0m\n",
      "\u001B[32m2024-10-09 14:25:27.834\u001B[0m | \u001B[1mINFO    \u001B[0m | \u001B[36msdgx.data_processors.transformers.column_order\u001B[0m:\u001B[36mconvert\u001B[0m:\u001B[36m52\u001B[0m - \u001B[1mConverting data using ColumnOrderTransformer... Finished (No action).\u001B[0m\n",
      "\u001B[32m2024-10-09 14:25:27.867\u001B[0m | \u001B[1mINFO    \u001B[0m | \u001B[36msdgx.data_processors.transformers.nan\u001B[0m:\u001B[36mconvert\u001B[0m:\u001B[36m110\u001B[0m - \u001B[1mConverting data using NonValueTransformer...\u001B[0m\n",
      "\u001B[32m2024-10-09 14:25:27.870\u001B[0m | \u001B[1mINFO    \u001B[0m | \u001B[36msdgx.data_processors.transformers.nan\u001B[0m:\u001B[36mconvert\u001B[0m:\u001B[36m130\u001B[0m - \u001B[1mConverting data using NonValueTransformer... Finished.\u001B[0m\n",
      "\u001B[32m2024-10-09 14:25:27.870\u001B[0m | \u001B[1mINFO    \u001B[0m | \u001B[36msdgx.data_processors.transformers.outlier\u001B[0m:\u001B[36mconvert\u001B[0m:\u001B[36m84\u001B[0m - \u001B[1mConverting data using OutlierTransformer...\u001B[0m\n",
      "\u001B[32m2024-10-09 14:25:27.874\u001B[0m | \u001B[1mINFO    \u001B[0m | \u001B[36msdgx.data_processors.transformers.outlier\u001B[0m:\u001B[36mconvert\u001B[0m:\u001B[36m106\u001B[0m - \u001B[1mConverting data using OutlierTransformer... Finished.\u001B[0m\n",
      "\u001B[32m2024-10-09 14:25:27.875\u001B[0m | \u001B[1mINFO    \u001B[0m | \u001B[36msdgx.data_processors.formatters.int\u001B[0m:\u001B[36mconvert\u001B[0m:\u001B[36m50\u001B[0m - \u001B[1mConverting data using IntValueFormatter... Finished  (No Action).\u001B[0m\n",
      "\u001B[32m2024-10-09 14:25:27.875\u001B[0m | \u001B[1mINFO    \u001B[0m | \u001B[36msdgx.data_processors.formatters.datetime\u001B[0m:\u001B[36mconvert\u001B[0m:\u001B[36m99\u001B[0m - \u001B[1mConverting data using DatetimeFormatter...\u001B[0m\n",
      "\u001B[32m2024-10-09 14:25:27.892\u001B[0m | \u001B[1mINFO    \u001B[0m | \u001B[36msdgx.data_processors.formatters.datetime\u001B[0m:\u001B[36mconvert\u001B[0m:\u001B[36m105\u001B[0m - \u001B[1mConverting data using DatetimeFormatter... Finished.\u001B[0m\n",
      "\u001B[32m2024-10-09 14:25:27.894\u001B[0m | \u001B[1mINFO    \u001B[0m | \u001B[36msdgx.data_processors.transformers.const\u001B[0m:\u001B[36mconvert\u001B[0m:\u001B[36m69\u001B[0m - \u001B[1mConverting data using ConstValueTransformer...\u001B[0m\n",
      "\u001B[32m2024-10-09 14:25:27.894\u001B[0m | \u001B[1mINFO    \u001B[0m | \u001B[36msdgx.data_processors.transformers.const\u001B[0m:\u001B[36mconvert\u001B[0m:\u001B[36m77\u001B[0m - \u001B[1mConverting data using ConstValueTransformer... Finished.\u001B[0m\n",
      "\u001B[32m2024-10-09 14:25:27.895\u001B[0m | \u001B[1mINFO    \u001B[0m | \u001B[36msdgx.data_processors.transformers.empty\u001B[0m:\u001B[36mconvert\u001B[0m:\u001B[36m72\u001B[0m - \u001B[1mConverting data using EmptyTransformer...\u001B[0m\n",
      "\u001B[32m2024-10-09 14:25:27.895\u001B[0m | \u001B[1mINFO    \u001B[0m | \u001B[36msdgx.data_processors.transformers.empty\u001B[0m:\u001B[36mconvert\u001B[0m:\u001B[36m76\u001B[0m - \u001B[1mConverting data using EmptyTransformer... Finished (No action).\u001B[0m\n",
      "\u001B[32m2024-10-09 14:25:27.896\u001B[0m | \u001B[1mINFO    \u001B[0m | \u001B[36msdgx.data_processors.transformers.column_order\u001B[0m:\u001B[36mconvert\u001B[0m:\u001B[36m51\u001B[0m - \u001B[1mConverting data using ColumnOrderTransformer...\u001B[0m\n",
      "\u001B[32m2024-10-09 14:25:27.896\u001B[0m | \u001B[1mINFO    \u001B[0m | \u001B[36msdgx.data_processors.transformers.column_order\u001B[0m:\u001B[36mconvert\u001B[0m:\u001B[36m52\u001B[0m - \u001B[1mConverting data using ColumnOrderTransformer... Finished (No action).\u001B[0m\n",
      "\u001B[32m2024-10-09 14:25:27.908\u001B[0m | \u001B[1mINFO    \u001B[0m | \u001B[36msdgx.synthesizer\u001B[0m:\u001B[36mfit\u001B[0m:\u001B[36m322\u001B[0m - \u001B[1mInitialized processed data loader in 0.37113118171691895s\u001B[0m\n",
      "\u001B[32m2024-10-09 14:25:27.909\u001B[0m | \u001B[1mINFO    \u001B[0m | \u001B[36msdgx.synthesizer\u001B[0m:\u001B[36mfit\u001B[0m:\u001B[36m324\u001B[0m - \u001B[1mModel fit Started...\u001B[0m\n",
      "\u001B[32m2024-10-09 14:25:27.923\u001B[0m | \u001B[1mINFO    \u001B[0m | \u001B[36msdgx.data_processors.transformers.nan\u001B[0m:\u001B[36mconvert\u001B[0m:\u001B[36m110\u001B[0m - \u001B[1mConverting data using NonValueTransformer...\u001B[0m\n",
      "\u001B[32m2024-10-09 14:25:27.928\u001B[0m | \u001B[1mINFO    \u001B[0m | \u001B[36msdgx.data_processors.transformers.nan\u001B[0m:\u001B[36mconvert\u001B[0m:\u001B[36m130\u001B[0m - \u001B[1mConverting data using NonValueTransformer... Finished.\u001B[0m\n",
      "\u001B[32m2024-10-09 14:25:27.929\u001B[0m | \u001B[1mINFO    \u001B[0m | \u001B[36msdgx.data_processors.transformers.outlier\u001B[0m:\u001B[36mconvert\u001B[0m:\u001B[36m84\u001B[0m - \u001B[1mConverting data using OutlierTransformer...\u001B[0m\n",
      "\u001B[32m2024-10-09 14:25:27.952\u001B[0m | \u001B[1mINFO    \u001B[0m | \u001B[36msdgx.data_processors.transformers.outlier\u001B[0m:\u001B[36mconvert\u001B[0m:\u001B[36m106\u001B[0m - \u001B[1mConverting data using OutlierTransformer... Finished.\u001B[0m\n",
      "\u001B[32m2024-10-09 14:25:27.953\u001B[0m | \u001B[1mINFO    \u001B[0m | \u001B[36msdgx.data_processors.formatters.int\u001B[0m:\u001B[36mconvert\u001B[0m:\u001B[36m50\u001B[0m - \u001B[1mConverting data using IntValueFormatter... Finished  (No Action).\u001B[0m\n",
      "\u001B[32m2024-10-09 14:25:27.953\u001B[0m | \u001B[1mINFO    \u001B[0m | \u001B[36msdgx.data_processors.formatters.datetime\u001B[0m:\u001B[36mconvert\u001B[0m:\u001B[36m99\u001B[0m - \u001B[1mConverting data using DatetimeFormatter...\u001B[0m\n",
      "\u001B[32m2024-10-09 14:25:28.160\u001B[0m | \u001B[1mINFO    \u001B[0m | \u001B[36msdgx.data_processors.formatters.datetime\u001B[0m:\u001B[36mconvert\u001B[0m:\u001B[36m105\u001B[0m - \u001B[1mConverting data using DatetimeFormatter... Finished.\u001B[0m\n",
      "\u001B[32m2024-10-09 14:25:28.162\u001B[0m | \u001B[1mINFO    \u001B[0m | \u001B[36msdgx.data_processors.transformers.const\u001B[0m:\u001B[36mconvert\u001B[0m:\u001B[36m69\u001B[0m - \u001B[1mConverting data using ConstValueTransformer...\u001B[0m\n",
      "\u001B[32m2024-10-09 14:25:28.163\u001B[0m | \u001B[1mINFO    \u001B[0m | \u001B[36msdgx.data_processors.transformers.const\u001B[0m:\u001B[36mconvert\u001B[0m:\u001B[36m77\u001B[0m - \u001B[1mConverting data using ConstValueTransformer... Finished.\u001B[0m\n",
      "\u001B[32m2024-10-09 14:25:28.164\u001B[0m | \u001B[1mINFO    \u001B[0m | \u001B[36msdgx.data_processors.transformers.empty\u001B[0m:\u001B[36mconvert\u001B[0m:\u001B[36m72\u001B[0m - \u001B[1mConverting data using EmptyTransformer...\u001B[0m\n",
      "\u001B[32m2024-10-09 14:25:28.164\u001B[0m | \u001B[1mINFO    \u001B[0m | \u001B[36msdgx.data_processors.transformers.empty\u001B[0m:\u001B[36mconvert\u001B[0m:\u001B[36m76\u001B[0m - \u001B[1mConverting data using EmptyTransformer... Finished (No action).\u001B[0m\n",
      "\u001B[32m2024-10-09 14:25:28.165\u001B[0m | \u001B[1mINFO    \u001B[0m | \u001B[36msdgx.data_processors.transformers.column_order\u001B[0m:\u001B[36mconvert\u001B[0m:\u001B[36m51\u001B[0m - \u001B[1mConverting data using ColumnOrderTransformer...\u001B[0m\n",
      "\u001B[32m2024-10-09 14:25:28.165\u001B[0m | \u001B[1mINFO    \u001B[0m | \u001B[36msdgx.data_processors.transformers.column_order\u001B[0m:\u001B[36mconvert\u001B[0m:\u001B[36m52\u001B[0m - \u001B[1mConverting data using ColumnOrderTransformer... Finished (No action).\u001B[0m\n",
      "\u001B[32m2024-10-09 14:25:28.166\u001B[0m | \u001B[1mINFO    \u001B[0m | \u001B[36msdgx.models.ml.single_table.ctgan\u001B[0m:\u001B[36m_pre_fit\u001B[0m:\u001B[36m248\u001B[0m - \u001B[1mFitting model's transformer...\u001B[0m\n",
      "\u001B[32m2024-10-09 14:25:28.190\u001B[0m | \u001B[1mINFO    \u001B[0m | \u001B[36msdgx.data_processors.transformers.nan\u001B[0m:\u001B[36mconvert\u001B[0m:\u001B[36m110\u001B[0m - \u001B[1mConverting data using NonValueTransformer...\u001B[0m\n",
      "\u001B[32m2024-10-09 14:25:28.193\u001B[0m | \u001B[1mINFO    \u001B[0m | \u001B[36msdgx.data_processors.transformers.nan\u001B[0m:\u001B[36mconvert\u001B[0m:\u001B[36m130\u001B[0m - \u001B[1mConverting data using NonValueTransformer... Finished.\u001B[0m\n",
      "\u001B[32m2024-10-09 14:25:28.194\u001B[0m | \u001B[1mINFO    \u001B[0m | \u001B[36msdgx.data_processors.transformers.outlier\u001B[0m:\u001B[36mconvert\u001B[0m:\u001B[36m84\u001B[0m - \u001B[1mConverting data using OutlierTransformer...\u001B[0m\n",
      "\u001B[32m2024-10-09 14:25:28.215\u001B[0m | \u001B[1mINFO    \u001B[0m | \u001B[36msdgx.data_processors.transformers.outlier\u001B[0m:\u001B[36mconvert\u001B[0m:\u001B[36m106\u001B[0m - \u001B[1mConverting data using OutlierTransformer... Finished.\u001B[0m\n",
      "\u001B[32m2024-10-09 14:25:28.216\u001B[0m | \u001B[1mINFO    \u001B[0m | \u001B[36msdgx.data_processors.formatters.int\u001B[0m:\u001B[36mconvert\u001B[0m:\u001B[36m50\u001B[0m - \u001B[1mConverting data using IntValueFormatter... Finished  (No Action).\u001B[0m\n",
      "\u001B[32m2024-10-09 14:25:28.217\u001B[0m | \u001B[1mINFO    \u001B[0m | \u001B[36msdgx.data_processors.formatters.datetime\u001B[0m:\u001B[36mconvert\u001B[0m:\u001B[36m99\u001B[0m - \u001B[1mConverting data using DatetimeFormatter...\u001B[0m\n",
      "\u001B[32m2024-10-09 14:25:28.424\u001B[0m | \u001B[1mINFO    \u001B[0m | \u001B[36msdgx.data_processors.formatters.datetime\u001B[0m:\u001B[36mconvert\u001B[0m:\u001B[36m105\u001B[0m - \u001B[1mConverting data using DatetimeFormatter... Finished.\u001B[0m\n",
      "\u001B[32m2024-10-09 14:25:28.426\u001B[0m | \u001B[1mINFO    \u001B[0m | \u001B[36msdgx.data_processors.transformers.const\u001B[0m:\u001B[36mconvert\u001B[0m:\u001B[36m69\u001B[0m - \u001B[1mConverting data using ConstValueTransformer...\u001B[0m\n",
      "\u001B[32m2024-10-09 14:25:28.426\u001B[0m | \u001B[1mINFO    \u001B[0m | \u001B[36msdgx.data_processors.transformers.const\u001B[0m:\u001B[36mconvert\u001B[0m:\u001B[36m77\u001B[0m - \u001B[1mConverting data using ConstValueTransformer... Finished.\u001B[0m\n",
      "\u001B[32m2024-10-09 14:25:28.427\u001B[0m | \u001B[1mINFO    \u001B[0m | \u001B[36msdgx.data_processors.transformers.empty\u001B[0m:\u001B[36mconvert\u001B[0m:\u001B[36m72\u001B[0m - \u001B[1mConverting data using EmptyTransformer...\u001B[0m\n",
      "\u001B[32m2024-10-09 14:25:28.428\u001B[0m | \u001B[1mINFO    \u001B[0m | \u001B[36msdgx.data_processors.transformers.empty\u001B[0m:\u001B[36mconvert\u001B[0m:\u001B[36m76\u001B[0m - \u001B[1mConverting data using EmptyTransformer... Finished (No action).\u001B[0m\n",
      "\u001B[32m2024-10-09 14:25:28.428\u001B[0m | \u001B[1mINFO    \u001B[0m | \u001B[36msdgx.data_processors.transformers.column_order\u001B[0m:\u001B[36mconvert\u001B[0m:\u001B[36m51\u001B[0m - \u001B[1mConverting data using ColumnOrderTransformer...\u001B[0m\n",
      "\u001B[32m2024-10-09 14:25:28.429\u001B[0m | \u001B[1mINFO    \u001B[0m | \u001B[36msdgx.data_processors.transformers.column_order\u001B[0m:\u001B[36mconvert\u001B[0m:\u001B[36m52\u001B[0m - \u001B[1mConverting data using ColumnOrderTransformer... Finished (No action).\u001B[0m\n",
      "\u001B[32m2024-10-09 14:25:28.430\u001B[0m | \u001B[34m\u001B[1mDEBUG   \u001B[0m | \u001B[36msdgx.models.components.optimize.sdv_ctgan.data_transformer\u001B[0m:\u001B[36mfit\u001B[0m:\u001B[36m125\u001B[0m - \u001B[34m\u001B[1mFitting continuous column loan_id...\u001B[0m\n",
      "\u001B[32m2024-10-09 14:25:29.148\u001B[0m | \u001B[34m\u001B[1mDEBUG   \u001B[0m | \u001B[36msdgx.models.components.optimize.sdv_ctgan.data_transformer\u001B[0m:\u001B[36mfit\u001B[0m:\u001B[36m125\u001B[0m - \u001B[34m\u001B[1mFitting continuous column book_id...\u001B[0m\n",
      "\u001B[32m2024-10-09 14:25:29.654\u001B[0m | \u001B[34m\u001B[1mDEBUG   \u001B[0m | \u001B[36msdgx.models.components.optimize.sdv_ctgan.data_transformer\u001B[0m:\u001B[36mfit\u001B[0m:\u001B[36m125\u001B[0m - \u001B[34m\u001B[1mFitting continuous column student_id...\u001B[0m\n",
      "\u001B[32m2024-10-09 14:25:30.171\u001B[0m | \u001B[34m\u001B[1mDEBUG   \u001B[0m | \u001B[36msdgx.models.components.optimize.sdv_ctgan.data_transformer\u001B[0m:\u001B[36mfit\u001B[0m:\u001B[36m125\u001B[0m - \u001B[34m\u001B[1mFitting continuous column loan_date...\u001B[0m\n",
      "\u001B[32m2024-10-09 14:25:30.667\u001B[0m | \u001B[34m\u001B[1mDEBUG   \u001B[0m | \u001B[36msdgx.models.components.optimize.sdv_ctgan.data_transformer\u001B[0m:\u001B[36mfit\u001B[0m:\u001B[36m125\u001B[0m - \u001B[34m\u001B[1mFitting continuous column return_date...\u001B[0m\n",
      "\u001B[32m2024-10-09 14:25:31.177\u001B[0m | \u001B[34m\u001B[1mDEBUG   \u001B[0m | \u001B[36msdgx.models.components.optimize.sdv_ctgan.data_transformer\u001B[0m:\u001B[36mfit\u001B[0m:\u001B[36m125\u001B[0m - \u001B[34m\u001B[1mFitting continuous column library_id...\u001B[0m\n",
      "\u001B[32m2024-10-09 14:25:31.686\u001B[0m | \u001B[34m\u001B[1mDEBUG   \u001B[0m | \u001B[36msdgx.models.components.optimize.sdv_ctgan.data_transformer\u001B[0m:\u001B[36mfit\u001B[0m:\u001B[36m125\u001B[0m - \u001B[34m\u001B[1mFitting continuous column date_of_birth...\u001B[0m\n",
      "\u001B[32m2024-10-09 14:25:32.229\u001B[0m | \u001B[34m\u001B[1mDEBUG   \u001B[0m | \u001B[36msdgx.models.components.optimize.sdv_ctgan.data_transformer\u001B[0m:\u001B[36mfit\u001B[0m:\u001B[36m125\u001B[0m - \u001B[34m\u001B[1mFitting continuous column major...\u001B[0m\n",
      "\u001B[32m2024-10-09 14:25:32.720\u001B[0m | \u001B[34m\u001B[1mDEBUG   \u001B[0m | \u001B[36msdgx.models.components.optimize.sdv_ctgan.data_transformer\u001B[0m:\u001B[36mfit\u001B[0m:\u001B[36m125\u001B[0m - \u001B[34m\u001B[1mFitting continuous column enrollment_id...\u001B[0m\n",
      "\u001B[32m2024-10-09 14:25:33.223\u001B[0m | \u001B[34m\u001B[1mDEBUG   \u001B[0m | \u001B[36msdgx.models.components.optimize.sdv_ctgan.data_transformer\u001B[0m:\u001B[36mfit\u001B[0m:\u001B[36m125\u001B[0m - \u001B[34m\u001B[1mFitting continuous column course_id...\u001B[0m\n",
      "\u001B[32m2024-10-09 14:25:33.713\u001B[0m | \u001B[34m\u001B[1mDEBUG   \u001B[0m | \u001B[36msdgx.models.components.optimize.sdv_ctgan.data_transformer\u001B[0m:\u001B[36mfit\u001B[0m:\u001B[36m120\u001B[0m - \u001B[34m\u001B[1mFitting discrete column grade_x...\u001B[0m\n",
      "\u001B[32m2024-10-09 14:25:33.721\u001B[0m | \u001B[34m\u001B[1mDEBUG   \u001B[0m | \u001B[36msdgx.models.components.optimize.sdv_ctgan.data_transformer\u001B[0m:\u001B[36mfit\u001B[0m:\u001B[36m125\u001B[0m - \u001B[34m\u001B[1mFitting continuous column submission_id...\u001B[0m\n",
      "\u001B[32m2024-10-09 14:25:34.229\u001B[0m | \u001B[34m\u001B[1mDEBUG   \u001B[0m | \u001B[36msdgx.models.components.optimize.sdv_ctgan.data_transformer\u001B[0m:\u001B[36mfit\u001B[0m:\u001B[36m125\u001B[0m - \u001B[34m\u001B[1mFitting continuous column assignment_id...\u001B[0m\n",
      "\u001B[32m2024-10-09 14:25:34.762\u001B[0m | \u001B[34m\u001B[1mDEBUG   \u001B[0m | \u001B[36msdgx.models.components.optimize.sdv_ctgan.data_transformer\u001B[0m:\u001B[36mfit\u001B[0m:\u001B[36m125\u001B[0m - \u001B[34m\u001B[1mFitting continuous column submission_date...\u001B[0m\n",
      "\u001B[32m2024-10-09 14:25:35.265\u001B[0m | \u001B[34m\u001B[1mDEBUG   \u001B[0m | \u001B[36msdgx.models.components.optimize.sdv_ctgan.data_transformer\u001B[0m:\u001B[36mfit\u001B[0m:\u001B[36m120\u001B[0m - \u001B[34m\u001B[1mFitting discrete column grade_y...\u001B[0m\n",
      "\u001B[32m2024-10-09 14:25:35.273\u001B[0m | \u001B[1mINFO    \u001B[0m | \u001B[36msdgx.models.ml.single_table.ctgan\u001B[0m:\u001B[36m_pre_fit\u001B[0m:\u001B[36m250\u001B[0m - \u001B[1mTransforming data...\u001B[0m\n",
      "\u001B[32m2024-10-09 14:25:35.283\u001B[0m | \u001B[1mINFO    \u001B[0m | \u001B[36msdgx.data_processors.transformers.nan\u001B[0m:\u001B[36mconvert\u001B[0m:\u001B[36m110\u001B[0m - \u001B[1mConverting data using NonValueTransformer...\u001B[0m\n",
      "\u001B[32m2024-10-09 14:25:35.287\u001B[0m | \u001B[1mINFO    \u001B[0m | \u001B[36msdgx.data_processors.transformers.nan\u001B[0m:\u001B[36mconvert\u001B[0m:\u001B[36m130\u001B[0m - \u001B[1mConverting data using NonValueTransformer... Finished.\u001B[0m\n",
      "\u001B[32m2024-10-09 14:25:35.287\u001B[0m | \u001B[1mINFO    \u001B[0m | \u001B[36msdgx.data_processors.transformers.outlier\u001B[0m:\u001B[36mconvert\u001B[0m:\u001B[36m84\u001B[0m - \u001B[1mConverting data using OutlierTransformer...\u001B[0m\n",
      "\u001B[32m2024-10-09 14:25:35.307\u001B[0m | \u001B[1mINFO    \u001B[0m | \u001B[36msdgx.data_processors.transformers.outlier\u001B[0m:\u001B[36mconvert\u001B[0m:\u001B[36m106\u001B[0m - \u001B[1mConverting data using OutlierTransformer... Finished.\u001B[0m\n",
      "\u001B[32m2024-10-09 14:25:35.308\u001B[0m | \u001B[1mINFO    \u001B[0m | \u001B[36msdgx.data_processors.formatters.int\u001B[0m:\u001B[36mconvert\u001B[0m:\u001B[36m50\u001B[0m - \u001B[1mConverting data using IntValueFormatter... Finished  (No Action).\u001B[0m\n",
      "\u001B[32m2024-10-09 14:25:35.309\u001B[0m | \u001B[1mINFO    \u001B[0m | \u001B[36msdgx.data_processors.formatters.datetime\u001B[0m:\u001B[36mconvert\u001B[0m:\u001B[36m99\u001B[0m - \u001B[1mConverting data using DatetimeFormatter...\u001B[0m\n",
      "\u001B[32m2024-10-09 14:25:35.516\u001B[0m | \u001B[1mINFO    \u001B[0m | \u001B[36msdgx.data_processors.formatters.datetime\u001B[0m:\u001B[36mconvert\u001B[0m:\u001B[36m105\u001B[0m - \u001B[1mConverting data using DatetimeFormatter... Finished.\u001B[0m\n",
      "\u001B[32m2024-10-09 14:25:35.517\u001B[0m | \u001B[1mINFO    \u001B[0m | \u001B[36msdgx.data_processors.transformers.const\u001B[0m:\u001B[36mconvert\u001B[0m:\u001B[36m69\u001B[0m - \u001B[1mConverting data using ConstValueTransformer...\u001B[0m\n",
      "\u001B[32m2024-10-09 14:25:35.518\u001B[0m | \u001B[1mINFO    \u001B[0m | \u001B[36msdgx.data_processors.transformers.const\u001B[0m:\u001B[36mconvert\u001B[0m:\u001B[36m77\u001B[0m - \u001B[1mConverting data using ConstValueTransformer... Finished.\u001B[0m\n",
      "\u001B[32m2024-10-09 14:25:35.519\u001B[0m | \u001B[1mINFO    \u001B[0m | \u001B[36msdgx.data_processors.transformers.empty\u001B[0m:\u001B[36mconvert\u001B[0m:\u001B[36m72\u001B[0m - \u001B[1mConverting data using EmptyTransformer...\u001B[0m\n",
      "\u001B[32m2024-10-09 14:25:35.520\u001B[0m | \u001B[1mINFO    \u001B[0m | \u001B[36msdgx.data_processors.transformers.empty\u001B[0m:\u001B[36mconvert\u001B[0m:\u001B[36m76\u001B[0m - \u001B[1mConverting data using EmptyTransformer... Finished (No action).\u001B[0m\n",
      "\u001B[32m2024-10-09 14:25:35.520\u001B[0m | \u001B[1mINFO    \u001B[0m | \u001B[36msdgx.data_processors.transformers.column_order\u001B[0m:\u001B[36mconvert\u001B[0m:\u001B[36m51\u001B[0m - \u001B[1mConverting data using ColumnOrderTransformer...\u001B[0m\n",
      "\u001B[32m2024-10-09 14:25:35.521\u001B[0m | \u001B[1mINFO    \u001B[0m | \u001B[36msdgx.data_processors.transformers.column_order\u001B[0m:\u001B[36mconvert\u001B[0m:\u001B[36m52\u001B[0m - \u001B[1mConverting data using ColumnOrderTransformer... Finished (No action).\u001B[0m\n",
      "\u001B[32m2024-10-09 14:25:35.620\u001B[0m | \u001B[33m\u001B[1mWARNING \u001B[0m | \u001B[36msdgx.models.components.optimize.sdv_ctgan.data_transformer\u001B[0m:\u001B[36m_parallel_transform\u001B[0m:\u001B[36m188\u001B[0m - \u001B[33m\u001B[1mUsing generator_unordered in joblib, time to remove this exception!\u001B[0m\n",
      "\u001B[32m2024-10-09 14:25:40.485\u001B[0m | \u001B[1mINFO    \u001B[0m | \u001B[36msdgx.models.ml.single_table.ctgan\u001B[0m:\u001B[36m_pre_fit\u001B[0m:\u001B[36m253\u001B[0m - \u001B[1mSampling data.\u001B[0m\n",
      "\u001B[32m2024-10-09 14:25:40.486\u001B[0m | \u001B[1mINFO    \u001B[0m | \u001B[36msdgx.models.ml.single_table.ctgan\u001B[0m:\u001B[36m_pre_fit\u001B[0m:\u001B[36m258\u001B[0m - \u001B[1mInitialize Generator.\u001B[0m\n",
      "\u001B[32m2024-10-09 14:25:40.514\u001B[0m | \u001B[1mINFO    \u001B[0m | \u001B[36msdgx.models.ml.single_table.ctgan\u001B[0m:\u001B[36mfit\u001B[0m:\u001B[36m223\u001B[0m - \u001B[1mCTGAN prefit finished, start CTGAN training.\u001B[0m\n",
      "\u001B[32m2024-10-09 14:25:40.515\u001B[0m | \u001B[1mINFO    \u001B[0m | \u001B[36msdgx.models.ml.single_table.ctgan\u001B[0m:\u001B[36m_fit\u001B[0m:\u001B[36m275\u001B[0m - \u001B[1mFit using data_size:10798, data_dim: 145.\u001B[0m\n",
      "\u001B[32m2024-10-09 14:25:41.215\u001B[0m | \u001B[1mINFO    \u001B[0m | \u001B[36msdgx.models.ml.single_table.ctgan\u001B[0m:\u001B[36m_fit\u001B[0m:\u001B[36m301\u001B[0m - \u001B[1mStarting model training, epochs: 1\u001B[0m\n"
     ]
    },
    {
     "data": {
      "text/plain": [
       "  0%|          | 0/21 [00:00<?, ?it/s]"
      ],
      "application/vnd.jupyter.widget-view+json": {
       "version_major": 2,
       "version_minor": 0,
       "model_id": "917f216fb9904c178316d239551cf216"
      }
     },
     "metadata": {},
     "output_type": "display_data"
    },
    {
     "name": "stderr",
     "output_type": "stream",
     "text": [
      "\u001B[32m2024-10-09 14:25:42.465\u001B[0m | \u001B[1mINFO    \u001B[0m | \u001B[36msdgx.models.ml.single_table.ctgan\u001B[0m:\u001B[36m_fit\u001B[0m:\u001B[36m382\u001B[0m - \u001B[1mEpoch 1, Loss G: -0.4888, Loss D: -0.7513, Time:  1.2506\u001B[0m\n",
      "\u001B[32m2024-10-09 14:25:42.467\u001B[0m | \u001B[1mINFO    \u001B[0m | \u001B[36msdgx.models.ml.single_table.ctgan\u001B[0m:\u001B[36mfit\u001B[0m:\u001B[36m225\u001B[0m - \u001B[1mCTGAN training finished.\u001B[0m\n",
      "\u001B[32m2024-10-09 14:25:42.467\u001B[0m | \u001B[1mINFO    \u001B[0m | \u001B[36msdgx.synthesizer\u001B[0m:\u001B[36mfit\u001B[0m:\u001B[36m333\u001B[0m - \u001B[1mModel fit... Finished\u001B[0m\n"
     ]
    }
   ],
   "execution_count": 14
  },
  {
   "cell_type": "code",
   "metadata": {
    "ExecuteTime": {
     "end_time": "2024-10-09T06:25:42.536943Z",
     "start_time": "2024-10-09T06:25:42.475947Z"
    }
   },
   "source": "data_res = synthesizer.sample(500)",
   "outputs": [
    {
     "name": "stderr",
     "output_type": "stream",
     "text": [
      "\u001B[32m2024-10-09 14:25:42.476\u001B[0m | \u001B[1mINFO    \u001B[0m | \u001B[36msdgx.synthesizer\u001B[0m:\u001B[36msample\u001B[0m:\u001B[36m357\u001B[0m - \u001B[1mSampling...\u001B[0m\n"
     ]
    },
    {
     "data": {
      "text/plain": [
       "  0%|          | 0/500 [00:00<?, ?it/s]"
      ],
      "application/vnd.jupyter.widget-view+json": {
       "version_major": 2,
       "version_minor": 0,
       "model_id": "544c88f92b2e449aa7505deb6cb999e1"
      }
     },
     "metadata": {},
     "output_type": "display_data"
    },
    {
     "data": {
      "text/plain": [
       "  0%|          | 0/2 [00:00<?, ?it/s]"
      ],
      "application/vnd.jupyter.widget-view+json": {
       "version_major": 2,
       "version_minor": 0,
       "model_id": "e1376d3b86444d7287f28e51cc809c6b"
      }
     },
     "metadata": {},
     "output_type": "display_data"
    },
    {
     "name": "stderr",
     "output_type": "stream",
     "text": [
      "\u001B[32m2024-10-09 14:25:42.513\u001B[0m | \u001B[1mINFO    \u001B[0m | \u001B[36msdgx.data_processors.transformers.nan\u001B[0m:\u001B[36mreverse_convert\u001B[0m:\u001B[36m155\u001B[0m - \u001B[1mData reverse-converted by NonValueTransformer.\u001B[0m\n",
      "\u001B[32m2024-10-09 14:25:42.514\u001B[0m | \u001B[1mINFO    \u001B[0m | \u001B[36msdgx.data_processors.transformers.outlier\u001B[0m:\u001B[36mreverse_convert\u001B[0m:\u001B[36m120\u001B[0m - \u001B[1mData reverse-converted by OutlierTransformer (No Action).\u001B[0m\n",
      "\u001B[32m2024-10-09 14:25:42.515\u001B[0m | \u001B[1mINFO    \u001B[0m | \u001B[36msdgx.data_processors.formatters.int\u001B[0m:\u001B[36mreverse_convert\u001B[0m:\u001B[36m64\u001B[0m - \u001B[1mData reverse-converted by IntValueFormatter.\u001B[0m\n",
      "\u001B[32m2024-10-09 14:25:42.516\u001B[0m | \u001B[1mINFO    \u001B[0m | \u001B[36msdgx.data_processors.formatters.datetime\u001B[0m:\u001B[36mreverse_convert\u001B[0m:\u001B[36m165\u001B[0m - \u001B[1mData reverse-converting by DatetimeFormatter...\u001B[0m\n",
      "\u001B[32m2024-10-09 14:25:42.516\u001B[0m | \u001B[1mINFO    \u001B[0m | \u001B[36msdgx.data_processors.formatters.datetime\u001B[0m:\u001B[36mreverse_convert\u001B[0m:\u001B[36m167\u001B[0m - \u001B[1mparameters : ['date_of_birth', 'return_date', 'submission_date', 'loan_date'], {'date_of_birth': '%Y-%m-%d', 'return_date': '%Y-%m-%d', 'loan_date': '%Y-%m-%d', 'submission_date': '%Y-%m-%d %H:%M:%S'}\u001B[0m\n",
      "\u001B[32m2024-10-09 14:25:42.525\u001B[0m | \u001B[1mINFO    \u001B[0m | \u001B[36msdgx.data_processors.formatters.datetime\u001B[0m:\u001B[36mreverse_convert\u001B[0m:\u001B[36m173\u001B[0m - \u001B[1mData reverse-converted by DatetimeFormatter... Finished.\u001B[0m\n",
      "\u001B[32m2024-10-09 14:25:42.525\u001B[0m | \u001B[1mINFO    \u001B[0m | \u001B[36msdgx.data_processors.transformers.const\u001B[0m:\u001B[36mreverse_convert\u001B[0m:\u001B[36m103\u001B[0m - \u001B[1mData reverse-converted by ConstValueTransformer.\u001B[0m\n",
      "\u001B[32m2024-10-09 14:25:42.525\u001B[0m | \u001B[1mINFO    \u001B[0m | \u001B[36msdgx.data_processors.transformers.empty\u001B[0m:\u001B[36mreverse_convert\u001B[0m:\u001B[36m98\u001B[0m - \u001B[1mData reverse-converted by EmptyTransformer.\u001B[0m\n",
      "\u001B[32m2024-10-09 14:25:42.526\u001B[0m | \u001B[1mINFO    \u001B[0m | \u001B[36msdgx.data_processors.transformers.column_order\u001B[0m:\u001B[36mreverse_convert\u001B[0m:\u001B[36m62\u001B[0m - \u001B[1mData reverse-converted by ColumnOrderTransformer.\u001B[0m\n"
     ]
    }
   ],
   "execution_count": 15
  },
  {
   "metadata": {
    "ExecuteTime": {
     "end_time": "2024-10-09T06:25:42.551896Z",
     "start_time": "2024-10-09T06:25:42.537934Z"
    }
   },
   "cell_type": "code",
   "source": "data_res",
   "outputs": [
    {
     "data": {
      "text/plain": [
       "     loan_id  book_id  student_id   loan_date return_date  library_id  \\\n",
       "0       5997     7623       10124  2024-03-25  2025-01-13       10736   \n",
       "1       5028     7441        7819  2024-02-12  2025-07-25         900   \n",
       "2       8603     1022        1743  2024-02-04  2025-08-20       10118   \n",
       "3      10797     2081        7421  2024-01-04  2025-09-17        9031   \n",
       "4       4251     1664        3634  2023-11-04  2025-05-18        9356   \n",
       "..       ...      ...         ...         ...         ...         ...   \n",
       "495    10730     3157        5983  2024-06-24  2025-05-31        2084   \n",
       "496     3514     6872        3262  2024-03-06  2025-01-20       10097   \n",
       "497    10357    10258        7308  2023-10-27  2025-08-27        2374   \n",
       "498     8341     9193        2984  2024-07-16  2025-05-12        6275   \n",
       "499     5806     4526        6751  2024-06-11  2025-05-07        2630   \n",
       "\n",
       "    date_of_birth  major  enrollment_id  course_id grade_x  submission_id  \\\n",
       "0      2007-04-06   4911           1283       3808       B          11288   \n",
       "1      2002-12-05   3200           2186       9761       A           6951   \n",
       "2      1999-08-26   5328           1819      10414       A           1387   \n",
       "3      2002-05-11   4394            248       6415       A           4970   \n",
       "4      2007-10-23   8334           8509       7713       A           7181   \n",
       "..            ...    ...            ...        ...     ...            ...   \n",
       "495    2001-07-30    418           3154       4670       A           3345   \n",
       "496    2001-08-29   1938           3657       9650       B           5847   \n",
       "497    1999-03-03   1274           9728      10563       A           1702   \n",
       "498    2007-07-25   5707           2690       3516       A           4656   \n",
       "499    2000-11-09   1383           3425       2017       B           3894   \n",
       "\n",
       "     assignment_id      submission_date grade_y  \n",
       "0             1401  2022-04-20 03:29:04       B  \n",
       "1             8612  2022-03-02 05:12:55       B  \n",
       "2             6165  2022-09-25 18:33:55       A  \n",
       "3             5316  2022-05-18 13:28:18       B  \n",
       "4             8391  2022-05-13 04:37:21       A  \n",
       "..             ...                  ...     ...  \n",
       "495           9865  2022-06-29 08:48:55       A  \n",
       "496           7980  2021-12-15 10:11:33       A  \n",
       "497           8976  2022-09-10 13:04:48       A  \n",
       "498           4910  2022-08-14 07:15:19       A  \n",
       "499           6756  2022-04-11 06:38:20       A  \n",
       "\n",
       "[500 rows x 15 columns]"
      ],
      "text/html": [
       "<div>\n",
       "<style scoped>\n",
       "    .dataframe tbody tr th:only-of-type {\n",
       "        vertical-align: middle;\n",
       "    }\n",
       "\n",
       "    .dataframe tbody tr th {\n",
       "        vertical-align: top;\n",
       "    }\n",
       "\n",
       "    .dataframe thead th {\n",
       "        text-align: right;\n",
       "    }\n",
       "</style>\n",
       "<table border=\"1\" class=\"dataframe\">\n",
       "  <thead>\n",
       "    <tr style=\"text-align: right;\">\n",
       "      <th></th>\n",
       "      <th>loan_id</th>\n",
       "      <th>book_id</th>\n",
       "      <th>student_id</th>\n",
       "      <th>loan_date</th>\n",
       "      <th>return_date</th>\n",
       "      <th>library_id</th>\n",
       "      <th>date_of_birth</th>\n",
       "      <th>major</th>\n",
       "      <th>enrollment_id</th>\n",
       "      <th>course_id</th>\n",
       "      <th>grade_x</th>\n",
       "      <th>submission_id</th>\n",
       "      <th>assignment_id</th>\n",
       "      <th>submission_date</th>\n",
       "      <th>grade_y</th>\n",
       "    </tr>\n",
       "  </thead>\n",
       "  <tbody>\n",
       "    <tr>\n",
       "      <th>0</th>\n",
       "      <td>5997</td>\n",
       "      <td>7623</td>\n",
       "      <td>10124</td>\n",
       "      <td>2024-03-25</td>\n",
       "      <td>2025-01-13</td>\n",
       "      <td>10736</td>\n",
       "      <td>2007-04-06</td>\n",
       "      <td>4911</td>\n",
       "      <td>1283</td>\n",
       "      <td>3808</td>\n",
       "      <td>B</td>\n",
       "      <td>11288</td>\n",
       "      <td>1401</td>\n",
       "      <td>2022-04-20 03:29:04</td>\n",
       "      <td>B</td>\n",
       "    </tr>\n",
       "    <tr>\n",
       "      <th>1</th>\n",
       "      <td>5028</td>\n",
       "      <td>7441</td>\n",
       "      <td>7819</td>\n",
       "      <td>2024-02-12</td>\n",
       "      <td>2025-07-25</td>\n",
       "      <td>900</td>\n",
       "      <td>2002-12-05</td>\n",
       "      <td>3200</td>\n",
       "      <td>2186</td>\n",
       "      <td>9761</td>\n",
       "      <td>A</td>\n",
       "      <td>6951</td>\n",
       "      <td>8612</td>\n",
       "      <td>2022-03-02 05:12:55</td>\n",
       "      <td>B</td>\n",
       "    </tr>\n",
       "    <tr>\n",
       "      <th>2</th>\n",
       "      <td>8603</td>\n",
       "      <td>1022</td>\n",
       "      <td>1743</td>\n",
       "      <td>2024-02-04</td>\n",
       "      <td>2025-08-20</td>\n",
       "      <td>10118</td>\n",
       "      <td>1999-08-26</td>\n",
       "      <td>5328</td>\n",
       "      <td>1819</td>\n",
       "      <td>10414</td>\n",
       "      <td>A</td>\n",
       "      <td>1387</td>\n",
       "      <td>6165</td>\n",
       "      <td>2022-09-25 18:33:55</td>\n",
       "      <td>A</td>\n",
       "    </tr>\n",
       "    <tr>\n",
       "      <th>3</th>\n",
       "      <td>10797</td>\n",
       "      <td>2081</td>\n",
       "      <td>7421</td>\n",
       "      <td>2024-01-04</td>\n",
       "      <td>2025-09-17</td>\n",
       "      <td>9031</td>\n",
       "      <td>2002-05-11</td>\n",
       "      <td>4394</td>\n",
       "      <td>248</td>\n",
       "      <td>6415</td>\n",
       "      <td>A</td>\n",
       "      <td>4970</td>\n",
       "      <td>5316</td>\n",
       "      <td>2022-05-18 13:28:18</td>\n",
       "      <td>B</td>\n",
       "    </tr>\n",
       "    <tr>\n",
       "      <th>4</th>\n",
       "      <td>4251</td>\n",
       "      <td>1664</td>\n",
       "      <td>3634</td>\n",
       "      <td>2023-11-04</td>\n",
       "      <td>2025-05-18</td>\n",
       "      <td>9356</td>\n",
       "      <td>2007-10-23</td>\n",
       "      <td>8334</td>\n",
       "      <td>8509</td>\n",
       "      <td>7713</td>\n",
       "      <td>A</td>\n",
       "      <td>7181</td>\n",
       "      <td>8391</td>\n",
       "      <td>2022-05-13 04:37:21</td>\n",
       "      <td>A</td>\n",
       "    </tr>\n",
       "    <tr>\n",
       "      <th>...</th>\n",
       "      <td>...</td>\n",
       "      <td>...</td>\n",
       "      <td>...</td>\n",
       "      <td>...</td>\n",
       "      <td>...</td>\n",
       "      <td>...</td>\n",
       "      <td>...</td>\n",
       "      <td>...</td>\n",
       "      <td>...</td>\n",
       "      <td>...</td>\n",
       "      <td>...</td>\n",
       "      <td>...</td>\n",
       "      <td>...</td>\n",
       "      <td>...</td>\n",
       "      <td>...</td>\n",
       "    </tr>\n",
       "    <tr>\n",
       "      <th>495</th>\n",
       "      <td>10730</td>\n",
       "      <td>3157</td>\n",
       "      <td>5983</td>\n",
       "      <td>2024-06-24</td>\n",
       "      <td>2025-05-31</td>\n",
       "      <td>2084</td>\n",
       "      <td>2001-07-30</td>\n",
       "      <td>418</td>\n",
       "      <td>3154</td>\n",
       "      <td>4670</td>\n",
       "      <td>A</td>\n",
       "      <td>3345</td>\n",
       "      <td>9865</td>\n",
       "      <td>2022-06-29 08:48:55</td>\n",
       "      <td>A</td>\n",
       "    </tr>\n",
       "    <tr>\n",
       "      <th>496</th>\n",
       "      <td>3514</td>\n",
       "      <td>6872</td>\n",
       "      <td>3262</td>\n",
       "      <td>2024-03-06</td>\n",
       "      <td>2025-01-20</td>\n",
       "      <td>10097</td>\n",
       "      <td>2001-08-29</td>\n",
       "      <td>1938</td>\n",
       "      <td>3657</td>\n",
       "      <td>9650</td>\n",
       "      <td>B</td>\n",
       "      <td>5847</td>\n",
       "      <td>7980</td>\n",
       "      <td>2021-12-15 10:11:33</td>\n",
       "      <td>A</td>\n",
       "    </tr>\n",
       "    <tr>\n",
       "      <th>497</th>\n",
       "      <td>10357</td>\n",
       "      <td>10258</td>\n",
       "      <td>7308</td>\n",
       "      <td>2023-10-27</td>\n",
       "      <td>2025-08-27</td>\n",
       "      <td>2374</td>\n",
       "      <td>1999-03-03</td>\n",
       "      <td>1274</td>\n",
       "      <td>9728</td>\n",
       "      <td>10563</td>\n",
       "      <td>A</td>\n",
       "      <td>1702</td>\n",
       "      <td>8976</td>\n",
       "      <td>2022-09-10 13:04:48</td>\n",
       "      <td>A</td>\n",
       "    </tr>\n",
       "    <tr>\n",
       "      <th>498</th>\n",
       "      <td>8341</td>\n",
       "      <td>9193</td>\n",
       "      <td>2984</td>\n",
       "      <td>2024-07-16</td>\n",
       "      <td>2025-05-12</td>\n",
       "      <td>6275</td>\n",
       "      <td>2007-07-25</td>\n",
       "      <td>5707</td>\n",
       "      <td>2690</td>\n",
       "      <td>3516</td>\n",
       "      <td>A</td>\n",
       "      <td>4656</td>\n",
       "      <td>4910</td>\n",
       "      <td>2022-08-14 07:15:19</td>\n",
       "      <td>A</td>\n",
       "    </tr>\n",
       "    <tr>\n",
       "      <th>499</th>\n",
       "      <td>5806</td>\n",
       "      <td>4526</td>\n",
       "      <td>6751</td>\n",
       "      <td>2024-06-11</td>\n",
       "      <td>2025-05-07</td>\n",
       "      <td>2630</td>\n",
       "      <td>2000-11-09</td>\n",
       "      <td>1383</td>\n",
       "      <td>3425</td>\n",
       "      <td>2017</td>\n",
       "      <td>B</td>\n",
       "      <td>3894</td>\n",
       "      <td>6756</td>\n",
       "      <td>2022-04-11 06:38:20</td>\n",
       "      <td>A</td>\n",
       "    </tr>\n",
       "  </tbody>\n",
       "</table>\n",
       "<p>500 rows × 15 columns</p>\n",
       "</div>"
      ]
     },
     "execution_count": 16,
     "metadata": {},
     "output_type": "execute_result"
    }
   ],
   "execution_count": 16
  },
  {
   "metadata": {
    "ExecuteTime": {
     "end_time": "2024-10-09T06:25:42.567853Z",
     "start_time": "2024-10-09T06:25:42.552884Z"
    }
   },
   "cell_type": "code",
   "source": "",
   "outputs": [],
   "execution_count": 16
  }
 ],
 "metadata": {
  "kernelspec": {
   "display_name": "sdg10",
   "language": "python",
   "name": "python3"
  },
  "language_info": {
   "codemirror_mode": {
    "name": "ipython",
    "version": 3
   },
   "file_extension": ".py",
   "mimetype": "text/x-python",
   "name": "python",
   "nbconvert_exporter": "python",
   "pygments_lexer": "ipython3",
   "version": "3.10.14"
  }
 },
 "nbformat": 4,
 "nbformat_minor": 2
}
