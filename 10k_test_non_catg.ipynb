{
 "cells": [
  {
   "metadata": {
    "ExecuteTime": {
     "end_time": "2024-10-09T15:00:09.362068Z",
     "start_time": "2024-10-09T15:00:07.272011Z"
    }
   },
   "cell_type": "code",
   "source": [
    "from mycode.test_20_tables import fetch_data_from_sqlite, Metadata as sdvMetadata\n",
    "from sdgx.data_connectors.csv_connector import CsvConnector\n",
    "from sdgx.models.ml.single_table.ctgan import CTGANSynthesizerModel\n",
    "from sdgx.synthesizer import Synthesizer\n",
    "import time\n",
    "def writetime():\n",
    "    st = time.time()\n",
    "    with open(\"time.log\", \"a+\") as f:\n",
    "        f.write(str(st) + \"\\n\")"
   ],
   "outputs": [],
   "execution_count": 2
  },
  {
   "metadata": {},
   "cell_type": "markdown",
   "source": "构造数据"
  },
  {
   "cell_type": "code",
   "metadata": {
    "ExecuteTime": {
     "end_time": "2024-10-09T15:00:09.613371Z",
     "start_time": "2024-10-09T15:00:09.364099Z"
    }
   },
   "source": [
    "metadata, tables = fetch_data_from_sqlite(path='./mycode/data_sqlite.db')\n",
    "metadata = sdvMetadata(metadata)\n",
    "metadata.get_tables()\n",
    "import pandas as pd\n",
    "result_table = tables[\"BookLoan\"]\n",
    "x_table = [\"Book\", \"Library\", \"Student\", \"Enrollment\", \"Submission\"]\n",
    "x_key = ['book_id', \"library_id\", \"student_id\", \"student_id\",\"student_id\"]\n",
    "x_how = ['inner' for i in range(5)]\n",
    "print(f\"{len(result_table)=}\")\n",
    "for i, x_table_name in enumerate(x_table):\n",
    "    result_table = pd.merge(result_table, tables[x_table_name], on=x_key[i], how=x_how[i])\n",
    "    print(f\"{len(result_table)}\", end=\" \")\n",
    "print(len(result_table.columns))\n",
    "#result_table"
   ],
   "outputs": [
    {
     "name": "stdout",
     "output_type": "stream",
     "text": [
      "len(result_table)=10000\n",
      "10000 10000 10000 9999 10798 23\n"
     ]
    }
   ],
   "execution_count": 3
  },
  {
   "cell_type": "code",
   "metadata": {
    "ExecuteTime": {
     "end_time": "2024-10-09T15:00:09.629341Z",
     "start_time": "2024-10-09T15:00:09.614423Z"
    }
   },
   "source": [
    "result_table = result_table.drop(columns=[\"title\", \"author\", \"name_x\", \"semester\", \"location\", \"name_y\", \"email\"])"
   ],
   "outputs": [],
   "execution_count": 4
  },
  {
   "cell_type": "code",
   "metadata": {
    "ExecuteTime": {
     "end_time": "2024-10-09T15:00:09.645402Z",
     "start_time": "2024-10-09T15:00:09.631344Z"
    }
   },
   "source": "result_table = result_table.drop(columns=[\"isbn\"])",
   "outputs": [],
   "execution_count": 5
  },
  {
   "cell_type": "code",
   "metadata": {
    "ExecuteTime": {
     "end_time": "2024-10-09T15:00:09.661208Z",
     "start_time": "2024-10-09T15:00:09.647224Z"
    }
   },
   "source": "# result_table = result_table.drop(columns=[\"grade_x\", \"grade_y\"])",
   "outputs": [],
   "execution_count": 6
  },
  {
   "cell_type": "code",
   "metadata": {
    "ExecuteTime": {
     "end_time": "2024-10-09T15:00:09.677176Z",
     "start_time": "2024-10-09T15:00:09.662250Z"
    }
   },
   "source": "# result_table.head()",
   "outputs": [],
   "execution_count": 7
  },
  {
   "metadata": {
    "ExecuteTime": {
     "end_time": "2024-10-09T15:30:05.397260Z",
     "start_time": "2024-10-09T15:30:05.346325Z"
    }
   },
   "cell_type": "code",
   "source": [
    "# result_table = result_table[:100]\n",
    "result_table"
   ],
   "outputs": [
    {
     "data": {
      "text/plain": [
       "       loan_id  book_id  student_id   loan_date return_date  library_id  \\\n",
       "0            1        1        5068  2024-07-19  2025-07-30           1   \n",
       "1            1        1        5068  2024-07-19  2025-07-30           1   \n",
       "2            1        1        5068  2024-07-19  2025-07-30           1   \n",
       "3            1        1        5068  2024-07-19  2025-07-30           1   \n",
       "4            1        1        5068  2024-07-19  2025-07-30           1   \n",
       "...        ...      ...         ...         ...         ...         ...   \n",
       "10793     9998     9998        3486  2024-01-14  2024-12-09        9998   \n",
       "10794     9998     9998        3486  2024-01-14  2024-12-09        9998   \n",
       "10795     9998     9998        3486  2024-01-14  2024-12-09        9998   \n",
       "10796     9999     9999        2281  2023-12-28  2025-08-23        9999   \n",
       "10797     9999     9999        2281  2023-12-28  2025-08-23        9999   \n",
       "\n",
       "      date_of_birth major  enrollment_id  course_id grade_x  submission_id  \\\n",
       "0        2003-01-27  1262           5758       9618       C           2462   \n",
       "1        2003-01-27  1262           5758       9618       C           3984   \n",
       "2        2003-01-27  1262           5758       9618       C           7851   \n",
       "3        2003-01-27  1262           9382       5777       A           2462   \n",
       "4        2003-01-27  1262           9382       5777       A           3984   \n",
       "...             ...   ...            ...        ...     ...            ...   \n",
       "10793    2000-08-21  8143           3450       6477       F           8054   \n",
       "10794    2000-08-21  8143           3757       4480    None            578   \n",
       "10795    2000-08-21  8143           3757       4480    None           8054   \n",
       "10796    1996-11-30  1005           9064       7483       B           9247   \n",
       "10797    1996-11-30  1005           9064       7483       B          10387   \n",
       "\n",
       "       assignment_id      submission_date grade_y  \n",
       "0               9937  2022-10-18 02:02:31       B  \n",
       "1               4403  2022-11-15 20:13:23       I  \n",
       "2               6252  2022-07-31 08:44:12       A  \n",
       "3               9937  2022-10-18 02:02:31       B  \n",
       "4               4403  2022-11-15 20:13:23       I  \n",
       "...              ...                  ...     ...  \n",
       "10793           1227  2022-09-20 01:25:41       C  \n",
       "10794           6739  2022-11-01 16:39:13       A  \n",
       "10795           1227  2022-09-20 01:25:41       C  \n",
       "10796           1546  2022-08-05 15:48:08       B  \n",
       "10797           2291  2022-04-15 09:37:00       F  \n",
       "\n",
       "[10798 rows x 15 columns]"
      ],
      "text/html": [
       "<div>\n",
       "<style scoped>\n",
       "    .dataframe tbody tr th:only-of-type {\n",
       "        vertical-align: middle;\n",
       "    }\n",
       "\n",
       "    .dataframe tbody tr th {\n",
       "        vertical-align: top;\n",
       "    }\n",
       "\n",
       "    .dataframe thead th {\n",
       "        text-align: right;\n",
       "    }\n",
       "</style>\n",
       "<table border=\"1\" class=\"dataframe\">\n",
       "  <thead>\n",
       "    <tr style=\"text-align: right;\">\n",
       "      <th></th>\n",
       "      <th>loan_id</th>\n",
       "      <th>book_id</th>\n",
       "      <th>student_id</th>\n",
       "      <th>loan_date</th>\n",
       "      <th>return_date</th>\n",
       "      <th>library_id</th>\n",
       "      <th>date_of_birth</th>\n",
       "      <th>major</th>\n",
       "      <th>enrollment_id</th>\n",
       "      <th>course_id</th>\n",
       "      <th>grade_x</th>\n",
       "      <th>submission_id</th>\n",
       "      <th>assignment_id</th>\n",
       "      <th>submission_date</th>\n",
       "      <th>grade_y</th>\n",
       "    </tr>\n",
       "  </thead>\n",
       "  <tbody>\n",
       "    <tr>\n",
       "      <th>0</th>\n",
       "      <td>1</td>\n",
       "      <td>1</td>\n",
       "      <td>5068</td>\n",
       "      <td>2024-07-19</td>\n",
       "      <td>2025-07-30</td>\n",
       "      <td>1</td>\n",
       "      <td>2003-01-27</td>\n",
       "      <td>1262</td>\n",
       "      <td>5758</td>\n",
       "      <td>9618</td>\n",
       "      <td>C</td>\n",
       "      <td>2462</td>\n",
       "      <td>9937</td>\n",
       "      <td>2022-10-18 02:02:31</td>\n",
       "      <td>B</td>\n",
       "    </tr>\n",
       "    <tr>\n",
       "      <th>1</th>\n",
       "      <td>1</td>\n",
       "      <td>1</td>\n",
       "      <td>5068</td>\n",
       "      <td>2024-07-19</td>\n",
       "      <td>2025-07-30</td>\n",
       "      <td>1</td>\n",
       "      <td>2003-01-27</td>\n",
       "      <td>1262</td>\n",
       "      <td>5758</td>\n",
       "      <td>9618</td>\n",
       "      <td>C</td>\n",
       "      <td>3984</td>\n",
       "      <td>4403</td>\n",
       "      <td>2022-11-15 20:13:23</td>\n",
       "      <td>I</td>\n",
       "    </tr>\n",
       "    <tr>\n",
       "      <th>2</th>\n",
       "      <td>1</td>\n",
       "      <td>1</td>\n",
       "      <td>5068</td>\n",
       "      <td>2024-07-19</td>\n",
       "      <td>2025-07-30</td>\n",
       "      <td>1</td>\n",
       "      <td>2003-01-27</td>\n",
       "      <td>1262</td>\n",
       "      <td>5758</td>\n",
       "      <td>9618</td>\n",
       "      <td>C</td>\n",
       "      <td>7851</td>\n",
       "      <td>6252</td>\n",
       "      <td>2022-07-31 08:44:12</td>\n",
       "      <td>A</td>\n",
       "    </tr>\n",
       "    <tr>\n",
       "      <th>3</th>\n",
       "      <td>1</td>\n",
       "      <td>1</td>\n",
       "      <td>5068</td>\n",
       "      <td>2024-07-19</td>\n",
       "      <td>2025-07-30</td>\n",
       "      <td>1</td>\n",
       "      <td>2003-01-27</td>\n",
       "      <td>1262</td>\n",
       "      <td>9382</td>\n",
       "      <td>5777</td>\n",
       "      <td>A</td>\n",
       "      <td>2462</td>\n",
       "      <td>9937</td>\n",
       "      <td>2022-10-18 02:02:31</td>\n",
       "      <td>B</td>\n",
       "    </tr>\n",
       "    <tr>\n",
       "      <th>4</th>\n",
       "      <td>1</td>\n",
       "      <td>1</td>\n",
       "      <td>5068</td>\n",
       "      <td>2024-07-19</td>\n",
       "      <td>2025-07-30</td>\n",
       "      <td>1</td>\n",
       "      <td>2003-01-27</td>\n",
       "      <td>1262</td>\n",
       "      <td>9382</td>\n",
       "      <td>5777</td>\n",
       "      <td>A</td>\n",
       "      <td>3984</td>\n",
       "      <td>4403</td>\n",
       "      <td>2022-11-15 20:13:23</td>\n",
       "      <td>I</td>\n",
       "    </tr>\n",
       "    <tr>\n",
       "      <th>...</th>\n",
       "      <td>...</td>\n",
       "      <td>...</td>\n",
       "      <td>...</td>\n",
       "      <td>...</td>\n",
       "      <td>...</td>\n",
       "      <td>...</td>\n",
       "      <td>...</td>\n",
       "      <td>...</td>\n",
       "      <td>...</td>\n",
       "      <td>...</td>\n",
       "      <td>...</td>\n",
       "      <td>...</td>\n",
       "      <td>...</td>\n",
       "      <td>...</td>\n",
       "      <td>...</td>\n",
       "    </tr>\n",
       "    <tr>\n",
       "      <th>10793</th>\n",
       "      <td>9998</td>\n",
       "      <td>9998</td>\n",
       "      <td>3486</td>\n",
       "      <td>2024-01-14</td>\n",
       "      <td>2024-12-09</td>\n",
       "      <td>9998</td>\n",
       "      <td>2000-08-21</td>\n",
       "      <td>8143</td>\n",
       "      <td>3450</td>\n",
       "      <td>6477</td>\n",
       "      <td>F</td>\n",
       "      <td>8054</td>\n",
       "      <td>1227</td>\n",
       "      <td>2022-09-20 01:25:41</td>\n",
       "      <td>C</td>\n",
       "    </tr>\n",
       "    <tr>\n",
       "      <th>10794</th>\n",
       "      <td>9998</td>\n",
       "      <td>9998</td>\n",
       "      <td>3486</td>\n",
       "      <td>2024-01-14</td>\n",
       "      <td>2024-12-09</td>\n",
       "      <td>9998</td>\n",
       "      <td>2000-08-21</td>\n",
       "      <td>8143</td>\n",
       "      <td>3757</td>\n",
       "      <td>4480</td>\n",
       "      <td>None</td>\n",
       "      <td>578</td>\n",
       "      <td>6739</td>\n",
       "      <td>2022-11-01 16:39:13</td>\n",
       "      <td>A</td>\n",
       "    </tr>\n",
       "    <tr>\n",
       "      <th>10795</th>\n",
       "      <td>9998</td>\n",
       "      <td>9998</td>\n",
       "      <td>3486</td>\n",
       "      <td>2024-01-14</td>\n",
       "      <td>2024-12-09</td>\n",
       "      <td>9998</td>\n",
       "      <td>2000-08-21</td>\n",
       "      <td>8143</td>\n",
       "      <td>3757</td>\n",
       "      <td>4480</td>\n",
       "      <td>None</td>\n",
       "      <td>8054</td>\n",
       "      <td>1227</td>\n",
       "      <td>2022-09-20 01:25:41</td>\n",
       "      <td>C</td>\n",
       "    </tr>\n",
       "    <tr>\n",
       "      <th>10796</th>\n",
       "      <td>9999</td>\n",
       "      <td>9999</td>\n",
       "      <td>2281</td>\n",
       "      <td>2023-12-28</td>\n",
       "      <td>2025-08-23</td>\n",
       "      <td>9999</td>\n",
       "      <td>1996-11-30</td>\n",
       "      <td>1005</td>\n",
       "      <td>9064</td>\n",
       "      <td>7483</td>\n",
       "      <td>B</td>\n",
       "      <td>9247</td>\n",
       "      <td>1546</td>\n",
       "      <td>2022-08-05 15:48:08</td>\n",
       "      <td>B</td>\n",
       "    </tr>\n",
       "    <tr>\n",
       "      <th>10797</th>\n",
       "      <td>9999</td>\n",
       "      <td>9999</td>\n",
       "      <td>2281</td>\n",
       "      <td>2023-12-28</td>\n",
       "      <td>2025-08-23</td>\n",
       "      <td>9999</td>\n",
       "      <td>1996-11-30</td>\n",
       "      <td>1005</td>\n",
       "      <td>9064</td>\n",
       "      <td>7483</td>\n",
       "      <td>B</td>\n",
       "      <td>10387</td>\n",
       "      <td>2291</td>\n",
       "      <td>2022-04-15 09:37:00</td>\n",
       "      <td>F</td>\n",
       "    </tr>\n",
       "  </tbody>\n",
       "</table>\n",
       "<p>10798 rows × 15 columns</p>\n",
       "</div>"
      ]
     },
     "execution_count": 19,
     "metadata": {},
     "output_type": "execute_result"
    }
   ],
   "execution_count": 19
  },
  {
   "metadata": {
    "ExecuteTime": {
     "end_time": "2024-10-09T15:00:09.708076Z",
     "start_time": "2024-10-09T15:00:09.693072Z"
    }
   },
   "cell_type": "code",
   "source": [
    "# result_table[\"test1\"] = result_table[\"student_id\"]\n",
    "# result_table[\"test2\"] = result_table[\"library_id\"]\n",
    "# result_table[\"test3\"] = result_table[\"student_id\"]\n",
    "# result_table[\"test4\"] = result_table[\"book_id\"]\n",
    "# result_table[\"test5\"] = result_table.index\n",
    "# result_table = result_table.drop(columns=['date_of_birth',\n",
    "#  'grade_x',\n",
    "#  'grade_y',\n",
    "#  'loan_date',\n",
    "#  'return_date',\n",
    "#  'submission_date'])"
   ],
   "outputs": [],
   "execution_count": 9
  },
  {
   "metadata": {},
   "cell_type": "markdown",
   "source": "检查metadata"
  },
  {
   "cell_type": "code",
   "metadata": {
    "ExecuteTime": {
     "end_time": "2024-10-09T15:00:12.886969Z",
     "start_time": "2024-10-09T15:00:09.709084Z"
    }
   },
   "source": [
    "from sdgx.data_loader import DataLoader\n",
    "from sdgx.data_models.metadata import Metadata\n",
    "\n",
    "result_table.to_csv(\"test_10k_noncat.csv\", index=False)\n",
    "dataset_csv = \"test_10k_noncat.csv\"\n",
    "data_connector = CsvConnector(path=dataset_csv)\n",
    "data_loader = DataLoader(data_connector)\n",
    "loan_metadata = Metadata.from_dataloader(data_loader)\n",
    "\n",
    "loan_metadata.discrete_columns"
   ],
   "outputs": [
    {
     "name": "stderr",
     "output_type": "stream",
     "text": [
      "\u001B[32m2024-10-09 23:00:09.747\u001B[0m | \u001B[1mINFO    \u001B[0m | \u001B[36msdgx.data_models.metadata\u001B[0m:\u001B[36mfrom_dataloader\u001B[0m:\u001B[36m294\u001B[0m - \u001B[1mInspecting metadata...\u001B[0m\n",
      "\u001B[32m2024-10-09 23:00:09.762\u001B[0m | \u001B[34m\u001B[1mDEBUG   \u001B[0m | \u001B[36msdgx.manager\u001B[0m:\u001B[36mregister\u001B[0m:\u001B[36m99\u001B[0m - \u001B[34m\u001B[1mRegister for new model: subsetrelationshipinspector\u001B[0m\n",
      "\u001B[32m2024-10-09 23:00:09.762\u001B[0m | \u001B[34m\u001B[1mDEBUG   \u001B[0m | \u001B[36msdgx.manager\u001B[0m:\u001B[36mregister\u001B[0m:\u001B[36m99\u001B[0m - \u001B[34m\u001B[1mRegister for new model: emailinspector\u001B[0m\n",
      "\u001B[32m2024-10-09 23:00:09.763\u001B[0m | \u001B[34m\u001B[1mDEBUG   \u001B[0m | \u001B[36msdgx.manager\u001B[0m:\u001B[36mregister\u001B[0m:\u001B[36m99\u001B[0m - \u001B[34m\u001B[1mRegister for new model: chinamainlandidinspector\u001B[0m\n",
      "\u001B[32m2024-10-09 23:00:09.763\u001B[0m | \u001B[34m\u001B[1mDEBUG   \u001B[0m | \u001B[36msdgx.manager\u001B[0m:\u001B[36mregister\u001B[0m:\u001B[36m99\u001B[0m - \u001B[34m\u001B[1mRegister for new model: chinamainlandmobilephoneinspector\u001B[0m\n",
      "\u001B[32m2024-10-09 23:00:09.765\u001B[0m | \u001B[34m\u001B[1mDEBUG   \u001B[0m | \u001B[36msdgx.manager\u001B[0m:\u001B[36mregister\u001B[0m:\u001B[36m99\u001B[0m - \u001B[34m\u001B[1mRegister for new model: chinamainlandpostcode\u001B[0m\n",
      "\u001B[32m2024-10-09 23:00:09.765\u001B[0m | \u001B[34m\u001B[1mDEBUG   \u001B[0m | \u001B[36msdgx.manager\u001B[0m:\u001B[36mregister\u001B[0m:\u001B[36m99\u001B[0m - \u001B[34m\u001B[1mRegister for new model: chinamainlandunifiedsocialcreditcode\u001B[0m\n",
      "\u001B[32m2024-10-09 23:00:09.766\u001B[0m | \u001B[34m\u001B[1mDEBUG   \u001B[0m | \u001B[36msdgx.manager\u001B[0m:\u001B[36mregister\u001B[0m:\u001B[36m99\u001B[0m - \u001B[34m\u001B[1mRegister for new model: chinamainlandaddressinspector\u001B[0m\n",
      "\u001B[32m2024-10-09 23:00:09.767\u001B[0m | \u001B[34m\u001B[1mDEBUG   \u001B[0m | \u001B[36msdgx.manager\u001B[0m:\u001B[36mregister\u001B[0m:\u001B[36m99\u001B[0m - \u001B[34m\u001B[1mRegister for new model: chinesenameinspector\u001B[0m\n",
      "\u001B[32m2024-10-09 23:00:09.767\u001B[0m | \u001B[34m\u001B[1mDEBUG   \u001B[0m | \u001B[36msdgx.manager\u001B[0m:\u001B[36mregister\u001B[0m:\u001B[36m99\u001B[0m - \u001B[34m\u001B[1mRegister for new model: englishnameinspector\u001B[0m\n",
      "\u001B[32m2024-10-09 23:00:09.768\u001B[0m | \u001B[34m\u001B[1mDEBUG   \u001B[0m | \u001B[36msdgx.manager\u001B[0m:\u001B[36mregister\u001B[0m:\u001B[36m99\u001B[0m - \u001B[34m\u001B[1mRegister for new model: chinesecompanynameinspector\u001B[0m\n",
      "\u001B[32m2024-10-09 23:00:09.768\u001B[0m | \u001B[34m\u001B[1mDEBUG   \u001B[0m | \u001B[36msdgx.manager\u001B[0m:\u001B[36mregister\u001B[0m:\u001B[36m99\u001B[0m - \u001B[34m\u001B[1mRegister for new model: numericinspector\u001B[0m\n",
      "\u001B[32m2024-10-09 23:00:09.769\u001B[0m | \u001B[34m\u001B[1mDEBUG   \u001B[0m | \u001B[36msdgx.manager\u001B[0m:\u001B[36mregister\u001B[0m:\u001B[36m99\u001B[0m - \u001B[34m\u001B[1mRegister for new model: idinspector\u001B[0m\n",
      "\u001B[32m2024-10-09 23:00:09.769\u001B[0m | \u001B[34m\u001B[1mDEBUG   \u001B[0m | \u001B[36msdgx.manager\u001B[0m:\u001B[36mregister\u001B[0m:\u001B[36m99\u001B[0m - \u001B[34m\u001B[1mRegister for new model: emptyinspector\u001B[0m\n",
      "\u001B[32m2024-10-09 23:00:09.770\u001B[0m | \u001B[34m\u001B[1mDEBUG   \u001B[0m | \u001B[36msdgx.manager\u001B[0m:\u001B[36mregister\u001B[0m:\u001B[36m99\u001B[0m - \u001B[34m\u001B[1mRegister for new model: discreteinspector\u001B[0m\n",
      "\u001B[32m2024-10-09 23:00:09.771\u001B[0m | \u001B[34m\u001B[1mDEBUG   \u001B[0m | \u001B[36msdgx.manager\u001B[0m:\u001B[36mregister\u001B[0m:\u001B[36m99\u001B[0m - \u001B[34m\u001B[1mRegister for new model: datetimeinspector\u001B[0m\n",
      "\u001B[32m2024-10-09 23:00:09.772\u001B[0m | \u001B[34m\u001B[1mDEBUG   \u001B[0m | \u001B[36msdgx.manager\u001B[0m:\u001B[36mregister\u001B[0m:\u001B[36m99\u001B[0m - \u001B[34m\u001B[1mRegister for new model: constinspector\u001B[0m\n",
      "\u001B[32m2024-10-09 23:00:09.772\u001B[0m | \u001B[34m\u001B[1mDEBUG   \u001B[0m | \u001B[36msdgx.manager\u001B[0m:\u001B[36mregister\u001B[0m:\u001B[36m99\u001B[0m - \u001B[34m\u001B[1mRegister for new model: boolinspector\u001B[0m\n",
      "\u001B[32m2024-10-09 23:00:12.872\u001B[0m | \u001B[1mINFO    \u001B[0m | \u001B[36msdgx.data_models.metadata\u001B[0m:\u001B[36mupdate_primary_key\u001B[0m:\u001B[36m503\u001B[0m - \u001B[1mPrimary Key updated: set().\u001B[0m\n"
     ]
    },
    {
     "data": {
      "text/plain": [
       "{'date_of_birth',\n",
       " 'grade_x',\n",
       " 'grade_y',\n",
       " 'loan_date',\n",
       " 'return_date',\n",
       " 'submission_date'}"
      ]
     },
     "execution_count": 10,
     "metadata": {},
     "output_type": "execute_result"
    }
   ],
   "execution_count": 10
  },
  {
   "metadata": {
    "ExecuteTime": {
     "end_time": "2024-10-09T15:00:12.902345Z",
     "start_time": "2024-10-09T15:00:12.888Z"
    }
   },
   "cell_type": "code",
   "source": "loan_metadata.datetime_columns",
   "outputs": [
    {
     "data": {
      "text/plain": [
       "{'date_of_birth', 'loan_date', 'return_date', 'submission_date'}"
      ]
     },
     "execution_count": 11,
     "metadata": {},
     "output_type": "execute_result"
    }
   ],
   "execution_count": 11
  },
  {
   "cell_type": "code",
   "metadata": {
    "ExecuteTime": {
     "end_time": "2024-10-09T15:00:12.918313Z",
     "start_time": "2024-10-09T15:00:12.903353Z"
    }
   },
   "source": [
    "\n",
    "loan_metadata.column_list.__len__()"
   ],
   "outputs": [
    {
     "data": {
      "text/plain": [
       "15"
      ]
     },
     "execution_count": 12,
     "metadata": {},
     "output_type": "execute_result"
    }
   ],
   "execution_count": 12
  },
  {
   "metadata": {
    "ExecuteTime": {
     "end_time": "2024-10-09T15:00:12.934303Z",
     "start_time": "2024-10-09T15:00:12.919321Z"
    }
   },
   "cell_type": "code",
   "source": [
    "loan_metadata.datetime_format = {\n",
    "    key: \"%Y-%m-%d\" for key in loan_metadata.datetime_columns if key != \"submission_date\"\n",
    "}\n",
    "loan_metadata.datetime_format[\"submission_date\"] = \"%Y-%m-%d %H:%M:%S\"\n",
    "loan_metadata.datetime_format"
   ],
   "outputs": [
    {
     "data": {
      "text/plain": [
       "{'date_of_birth': '%Y-%m-%d',\n",
       " 'return_date': '%Y-%m-%d',\n",
       " 'loan_date': '%Y-%m-%d',\n",
       " 'submission_date': '%Y-%m-%d %H:%M:%S'}"
      ]
     },
     "execution_count": 13,
     "metadata": {},
     "output_type": "execute_result"
    }
   ],
   "execution_count": 13
  },
  {
   "metadata": {
    "ExecuteTime": {
     "end_time": "2024-10-09T15:00:12.950193Z",
     "start_time": "2024-10-09T15:00:12.935207Z"
    }
   },
   "cell_type": "code",
   "source": [
    "loan_metadata.column_encoder = {\n",
    "    \"grade_x\": \"label\",\n",
    "    \"grade_y\": \"label\"\n",
    "}"
   ],
   "outputs": [],
   "execution_count": 14
  },
  {
   "metadata": {
    "ExecuteTime": {
     "end_time": "2024-10-09T15:00:12.966077Z",
     "start_time": "2024-10-09T15:00:12.952122Z"
    }
   },
   "cell_type": "code",
   "source": [
    "# set([])\n",
    "loan_metadata.discrete_columns = set([\n",
    "    key for key in loan_metadata.discrete_columns if key not in loan_metadata.datetime_columns\n",
    "])\n",
    "loan_metadata.label_columns.add(\"grade_x\")\n",
    "loan_metadata.label_columns.add(\"grade_y\")\n",
    "print(f\"{loan_metadata.label_columns=}\\n{loan_metadata.int_columns=}\\n{loan_metadata.float_columns=}\\n{loan_metadata.const_columns=}\\n{loan_metadata.bool_columns=}\\n{loan_metadata.discrete_columns=}\")"
   ],
   "outputs": [
    {
     "name": "stdout",
     "output_type": "stream",
     "text": [
      "loan_metadata.label_columns={'grade_y', 'grade_x'}\n",
      "loan_metadata.int_columns={'book_id', 'enrollment_id', 'course_id', 'submission_id', 'major', 'assignment_id', 'library_id', 'loan_id', 'student_id'}\n",
      "loan_metadata.float_columns=set()\n",
      "loan_metadata.const_columns=set()\n",
      "loan_metadata.bool_columns=set()\n",
      "loan_metadata.discrete_columns={'grade_y', 'grade_x'}\n"
     ]
    }
   ],
   "execution_count": 15
  },
  {
   "metadata": {},
   "cell_type": "markdown",
   "source": "训练"
  },
  {
   "cell_type": "code",
   "metadata": {
    "ExecuteTime": {
     "end_time": "2024-10-09T15:32:16.893131Z",
     "start_time": "2024-10-09T15:30:23.895197Z"
    }
   },
   "source": [
    "\n",
    "\n",
    "ctgan = CTGANSynthesizerModel(\n",
    "        epochs=1,\n",
    "        batch_size=500,\n",
    "        # device=\"cpu\"\n",
    "    )\n",
    "# Initialize synthesizer, use CTGAN model\n",
    "synthesizer = Synthesizer(\n",
    "    metadata=loan_metadata,\n",
    "    model=ctgan,  # For quick demo\n",
    "    data_connector=data_connector,\n",
    ")\n",
    "\n",
    "\n",
    "writetime()\n",
    "synthesizer.fit()\n",
    "writetime()\n",
    "#synthesizer.save(\"test_model_10k_id10\")"
   ],
   "outputs": [
    {
     "name": "stderr",
     "output_type": "stream",
     "text": [
      "\u001B[32m2024-10-09 23:30:23.904\u001B[0m | \u001B[1mINFO    \u001B[0m | \u001B[36msdgx.synthesizer\u001B[0m:\u001B[36m__init__\u001B[0m:\u001B[36m106\u001B[0m - \u001B[1mUsing data processors: ['nonvaluetransformer', 'outliertransformer', 'emailgenerator', 'chnpiigenerator', 'intvalueformatter', 'datetimeformatter', 'constvaluetransformer', 'emptytransformer', 'columnordertransformer']\u001B[0m\n",
      "\u001B[32m2024-10-09 23:30:23.906\u001B[0m | \u001B[1mINFO    \u001B[0m | \u001B[36msdgx.synthesizer\u001B[0m:\u001B[36mfit\u001B[0m:\u001B[36m296\u001B[0m - \u001B[1mFitting data processors...\u001B[0m\n",
      "\u001B[32m2024-10-09 23:30:23.977\u001B[0m | \u001B[1mINFO    \u001B[0m | \u001B[36msdgx.data_processors.transformers.nan\u001B[0m:\u001B[36mfit\u001B[0m:\u001B[36m71\u001B[0m - \u001B[1mNonValueTransformer Fitted.\u001B[0m\n",
      "\u001B[32m2024-10-09 23:30:23.979\u001B[0m | \u001B[1mINFO    \u001B[0m | \u001B[36msdgx.data_processors.transformers.nan\u001B[0m:\u001B[36mfit\u001B[0m:\u001B[36m87\u001B[0m - \u001B[1mNonValueTransformer get int columns: {'book_id', 'enrollment_id', 'course_id', 'submission_id', 'major', 'assignment_id', 'library_id', 'loan_id', 'student_id'}.\u001B[0m\n",
      "\u001B[32m2024-10-09 23:30:23.979\u001B[0m | \u001B[1mINFO    \u001B[0m | \u001B[36msdgx.data_processors.transformers.nan\u001B[0m:\u001B[36mfit\u001B[0m:\u001B[36m96\u001B[0m - \u001B[1mNonValueTransformer get float columns: set().\u001B[0m\n",
      "\u001B[32m2024-10-09 23:30:23.980\u001B[0m | \u001B[1mINFO    \u001B[0m | \u001B[36msdgx.data_processors.transformers.nan\u001B[0m:\u001B[36mfit\u001B[0m:\u001B[36m101\u001B[0m - \u001B[1mNonValueTransformer get column list from metadata: ['loan_id', 'book_id', 'student_id', 'loan_date', 'return_date', 'library_id', 'date_of_birth', 'major', 'enrollment_id', 'course_id', 'grade_x', 'submission_id', 'assignment_id', 'submission_date', 'grade_y'].\u001B[0m\n",
      "\u001B[32m2024-10-09 23:30:23.981\u001B[0m | \u001B[1mINFO    \u001B[0m | \u001B[36msdgx.data_processors.transformers.outlier\u001B[0m:\u001B[36mfit\u001B[0m:\u001B[36m70\u001B[0m - \u001B[1mOutlierTransformer Fitted.\u001B[0m\n",
      "\u001B[32m2024-10-09 23:30:23.983\u001B[0m | \u001B[1mINFO    \u001B[0m | \u001B[36msdgx.data_processors.formatters.int\u001B[0m:\u001B[36mfit\u001B[0m:\u001B[36m40\u001B[0m - \u001B[1mIntValueFormatter Fitted.\u001B[0m\n",
      "\u001B[32m2024-10-09 23:30:23.984\u001B[0m | \u001B[1mINFO    \u001B[0m | \u001B[36msdgx.data_processors.formatters.datetime\u001B[0m:\u001B[36mfit\u001B[0m:\u001B[36m77\u001B[0m - \u001B[1mDatetimeFormatter Fitted.\u001B[0m\n",
      "\u001B[32m2024-10-09 23:30:23.986\u001B[0m | \u001B[1mINFO    \u001B[0m | \u001B[36msdgx.data_processors.transformers.const\u001B[0m:\u001B[36mfit\u001B[0m:\u001B[36m49\u001B[0m - \u001B[1mConstValueTransformer Fitted.\u001B[0m\n",
      "\u001B[32m2024-10-09 23:30:23.987\u001B[0m | \u001B[1mINFO    \u001B[0m | \u001B[36msdgx.data_processors.transformers.empty\u001B[0m:\u001B[36mfit\u001B[0m:\u001B[36m54\u001B[0m - \u001B[1mEmptyTransformer Fitted.\u001B[0m\n",
      "\u001B[32m2024-10-09 23:30:23.988\u001B[0m | \u001B[1mINFO    \u001B[0m | \u001B[36msdgx.data_processors.transformers.column_order\u001B[0m:\u001B[36mfit\u001B[0m:\u001B[36m41\u001B[0m - \u001B[1mColumnOrderTransformer Fitted.\u001B[0m\n",
      "\u001B[32m2024-10-09 23:30:23.988\u001B[0m | \u001B[1mINFO    \u001B[0m | \u001B[36msdgx.synthesizer\u001B[0m:\u001B[36mfit\u001B[0m:\u001B[36m305\u001B[0m - \u001B[1mFitted 9 data processors in  0.010960102081298828s.\u001B[0m\n",
      "\u001B[32m2024-10-09 23:30:27.590\u001B[0m | \u001B[1mINFO    \u001B[0m | \u001B[36msdgx.synthesizer\u001B[0m:\u001B[36mfit\u001B[0m:\u001B[36m315\u001B[0m - \u001B[1mInitializing processed data loader...\u001B[0m\n",
      "\u001B[32m2024-10-09 23:30:27.599\u001B[0m | \u001B[1mINFO    \u001B[0m | \u001B[36msdgx.data_processors.transformers.nan\u001B[0m:\u001B[36mconvert\u001B[0m:\u001B[36m110\u001B[0m - \u001B[1mConverting data using NonValueTransformer...\u001B[0m\n",
      "\u001B[32m2024-10-09 23:30:27.606\u001B[0m | \u001B[1mINFO    \u001B[0m | \u001B[36msdgx.data_processors.transformers.nan\u001B[0m:\u001B[36mconvert\u001B[0m:\u001B[36m130\u001B[0m - \u001B[1mConverting data using NonValueTransformer... Finished.\u001B[0m\n",
      "\u001B[32m2024-10-09 23:30:27.606\u001B[0m | \u001B[1mINFO    \u001B[0m | \u001B[36msdgx.data_processors.transformers.outlier\u001B[0m:\u001B[36mconvert\u001B[0m:\u001B[36m84\u001B[0m - \u001B[1mConverting data using OutlierTransformer...\u001B[0m\n",
      "\u001B[32m2024-10-09 23:30:27.660\u001B[0m | \u001B[1mINFO    \u001B[0m | \u001B[36msdgx.data_processors.transformers.outlier\u001B[0m:\u001B[36mconvert\u001B[0m:\u001B[36m106\u001B[0m - \u001B[1mConverting data using OutlierTransformer... Finished.\u001B[0m\n",
      "\u001B[32m2024-10-09 23:30:27.661\u001B[0m | \u001B[1mINFO    \u001B[0m | \u001B[36msdgx.data_processors.formatters.int\u001B[0m:\u001B[36mconvert\u001B[0m:\u001B[36m50\u001B[0m - \u001B[1mConverting data using IntValueFormatter... Finished  (No Action).\u001B[0m\n",
      "\u001B[32m2024-10-09 23:30:27.662\u001B[0m | \u001B[1mINFO    \u001B[0m | \u001B[36msdgx.data_processors.formatters.datetime\u001B[0m:\u001B[36mconvert\u001B[0m:\u001B[36m99\u001B[0m - \u001B[1mConverting data using DatetimeFormatter...\u001B[0m\n",
      "\u001B[32m2024-10-09 23:30:28.223\u001B[0m | \u001B[1mINFO    \u001B[0m | \u001B[36msdgx.data_processors.formatters.datetime\u001B[0m:\u001B[36mconvert\u001B[0m:\u001B[36m105\u001B[0m - \u001B[1mConverting data using DatetimeFormatter... Finished.\u001B[0m\n",
      "\u001B[32m2024-10-09 23:30:28.225\u001B[0m | \u001B[1mINFO    \u001B[0m | \u001B[36msdgx.data_processors.transformers.const\u001B[0m:\u001B[36mconvert\u001B[0m:\u001B[36m69\u001B[0m - \u001B[1mConverting data using ConstValueTransformer...\u001B[0m\n",
      "\u001B[32m2024-10-09 23:30:28.226\u001B[0m | \u001B[1mINFO    \u001B[0m | \u001B[36msdgx.data_processors.transformers.const\u001B[0m:\u001B[36mconvert\u001B[0m:\u001B[36m77\u001B[0m - \u001B[1mConverting data using ConstValueTransformer... Finished.\u001B[0m\n",
      "\u001B[32m2024-10-09 23:30:28.227\u001B[0m | \u001B[1mINFO    \u001B[0m | \u001B[36msdgx.data_processors.transformers.empty\u001B[0m:\u001B[36mconvert\u001B[0m:\u001B[36m72\u001B[0m - \u001B[1mConverting data using EmptyTransformer...\u001B[0m\n",
      "\u001B[32m2024-10-09 23:30:28.227\u001B[0m | \u001B[1mINFO    \u001B[0m | \u001B[36msdgx.data_processors.transformers.empty\u001B[0m:\u001B[36mconvert\u001B[0m:\u001B[36m76\u001B[0m - \u001B[1mConverting data using EmptyTransformer... Finished (No action).\u001B[0m\n",
      "\u001B[32m2024-10-09 23:30:28.228\u001B[0m | \u001B[1mINFO    \u001B[0m | \u001B[36msdgx.data_processors.transformers.column_order\u001B[0m:\u001B[36mconvert\u001B[0m:\u001B[36m51\u001B[0m - \u001B[1mConverting data using ColumnOrderTransformer...\u001B[0m\n",
      "\u001B[32m2024-10-09 23:30:28.228\u001B[0m | \u001B[1mINFO    \u001B[0m | \u001B[36msdgx.data_processors.transformers.column_order\u001B[0m:\u001B[36mconvert\u001B[0m:\u001B[36m52\u001B[0m - \u001B[1mConverting data using ColumnOrderTransformer... Finished (No action).\u001B[0m\n",
      "\u001B[32m2024-10-09 23:30:28.254\u001B[0m | \u001B[1mINFO    \u001B[0m | \u001B[36msdgx.data_processors.transformers.nan\u001B[0m:\u001B[36mconvert\u001B[0m:\u001B[36m110\u001B[0m - \u001B[1mConverting data using NonValueTransformer...\u001B[0m\n",
      "\u001B[32m2024-10-09 23:30:28.258\u001B[0m | \u001B[1mINFO    \u001B[0m | \u001B[36msdgx.data_processors.transformers.nan\u001B[0m:\u001B[36mconvert\u001B[0m:\u001B[36m130\u001B[0m - \u001B[1mConverting data using NonValueTransformer... Finished.\u001B[0m\n",
      "\u001B[32m2024-10-09 23:30:28.259\u001B[0m | \u001B[1mINFO    \u001B[0m | \u001B[36msdgx.data_processors.transformers.outlier\u001B[0m:\u001B[36mconvert\u001B[0m:\u001B[36m84\u001B[0m - \u001B[1mConverting data using OutlierTransformer...\u001B[0m\n",
      "\u001B[32m2024-10-09 23:30:28.267\u001B[0m | \u001B[1mINFO    \u001B[0m | \u001B[36msdgx.data_processors.transformers.outlier\u001B[0m:\u001B[36mconvert\u001B[0m:\u001B[36m106\u001B[0m - \u001B[1mConverting data using OutlierTransformer... Finished.\u001B[0m\n",
      "\u001B[32m2024-10-09 23:30:28.267\u001B[0m | \u001B[1mINFO    \u001B[0m | \u001B[36msdgx.data_processors.formatters.int\u001B[0m:\u001B[36mconvert\u001B[0m:\u001B[36m50\u001B[0m - \u001B[1mConverting data using IntValueFormatter... Finished  (No Action).\u001B[0m\n",
      "\u001B[32m2024-10-09 23:30:28.268\u001B[0m | \u001B[1mINFO    \u001B[0m | \u001B[36msdgx.data_processors.formatters.datetime\u001B[0m:\u001B[36mconvert\u001B[0m:\u001B[36m99\u001B[0m - \u001B[1mConverting data using DatetimeFormatter...\u001B[0m\n",
      "\u001B[32m2024-10-09 23:30:28.315\u001B[0m | \u001B[1mINFO    \u001B[0m | \u001B[36msdgx.data_processors.formatters.datetime\u001B[0m:\u001B[36mconvert\u001B[0m:\u001B[36m105\u001B[0m - \u001B[1mConverting data using DatetimeFormatter... Finished.\u001B[0m\n",
      "\u001B[32m2024-10-09 23:30:28.316\u001B[0m | \u001B[1mINFO    \u001B[0m | \u001B[36msdgx.data_processors.transformers.const\u001B[0m:\u001B[36mconvert\u001B[0m:\u001B[36m69\u001B[0m - \u001B[1mConverting data using ConstValueTransformer...\u001B[0m\n",
      "\u001B[32m2024-10-09 23:30:28.316\u001B[0m | \u001B[1mINFO    \u001B[0m | \u001B[36msdgx.data_processors.transformers.const\u001B[0m:\u001B[36mconvert\u001B[0m:\u001B[36m77\u001B[0m - \u001B[1mConverting data using ConstValueTransformer... Finished.\u001B[0m\n",
      "\u001B[32m2024-10-09 23:30:28.317\u001B[0m | \u001B[1mINFO    \u001B[0m | \u001B[36msdgx.data_processors.transformers.empty\u001B[0m:\u001B[36mconvert\u001B[0m:\u001B[36m72\u001B[0m - \u001B[1mConverting data using EmptyTransformer...\u001B[0m\n",
      "\u001B[32m2024-10-09 23:30:28.318\u001B[0m | \u001B[1mINFO    \u001B[0m | \u001B[36msdgx.data_processors.transformers.empty\u001B[0m:\u001B[36mconvert\u001B[0m:\u001B[36m76\u001B[0m - \u001B[1mConverting data using EmptyTransformer... Finished (No action).\u001B[0m\n",
      "\u001B[32m2024-10-09 23:30:28.318\u001B[0m | \u001B[1mINFO    \u001B[0m | \u001B[36msdgx.data_processors.transformers.column_order\u001B[0m:\u001B[36mconvert\u001B[0m:\u001B[36m51\u001B[0m - \u001B[1mConverting data using ColumnOrderTransformer...\u001B[0m\n",
      "\u001B[32m2024-10-09 23:30:28.319\u001B[0m | \u001B[1mINFO    \u001B[0m | \u001B[36msdgx.data_processors.transformers.column_order\u001B[0m:\u001B[36mconvert\u001B[0m:\u001B[36m52\u001B[0m - \u001B[1mConverting data using ColumnOrderTransformer... Finished (No action).\u001B[0m\n",
      "\u001B[32m2024-10-09 23:30:28.367\u001B[0m | \u001B[1mINFO    \u001B[0m | \u001B[36msdgx.data_processors.transformers.nan\u001B[0m:\u001B[36mconvert\u001B[0m:\u001B[36m110\u001B[0m - \u001B[1mConverting data using NonValueTransformer...\u001B[0m\n",
      "\u001B[32m2024-10-09 23:30:28.375\u001B[0m | \u001B[1mINFO    \u001B[0m | \u001B[36msdgx.data_processors.transformers.nan\u001B[0m:\u001B[36mconvert\u001B[0m:\u001B[36m130\u001B[0m - \u001B[1mConverting data using NonValueTransformer... Finished.\u001B[0m\n",
      "\u001B[32m2024-10-09 23:30:28.376\u001B[0m | \u001B[1mINFO    \u001B[0m | \u001B[36msdgx.data_processors.transformers.outlier\u001B[0m:\u001B[36mconvert\u001B[0m:\u001B[36m84\u001B[0m - \u001B[1mConverting data using OutlierTransformer...\u001B[0m\n",
      "\u001B[32m2024-10-09 23:30:28.405\u001B[0m | \u001B[1mINFO    \u001B[0m | \u001B[36msdgx.data_processors.transformers.outlier\u001B[0m:\u001B[36mconvert\u001B[0m:\u001B[36m106\u001B[0m - \u001B[1mConverting data using OutlierTransformer... Finished.\u001B[0m\n",
      "\u001B[32m2024-10-09 23:30:28.406\u001B[0m | \u001B[1mINFO    \u001B[0m | \u001B[36msdgx.data_processors.formatters.int\u001B[0m:\u001B[36mconvert\u001B[0m:\u001B[36m50\u001B[0m - \u001B[1mConverting data using IntValueFormatter... Finished  (No Action).\u001B[0m\n",
      "\u001B[32m2024-10-09 23:30:28.407\u001B[0m | \u001B[1mINFO    \u001B[0m | \u001B[36msdgx.data_processors.formatters.datetime\u001B[0m:\u001B[36mconvert\u001B[0m:\u001B[36m99\u001B[0m - \u001B[1mConverting data using DatetimeFormatter...\u001B[0m\n",
      "\u001B[32m2024-10-09 23:30:28.660\u001B[0m | \u001B[1mINFO    \u001B[0m | \u001B[36msdgx.data_processors.formatters.datetime\u001B[0m:\u001B[36mconvert\u001B[0m:\u001B[36m105\u001B[0m - \u001B[1mConverting data using DatetimeFormatter... Finished.\u001B[0m\n",
      "\u001B[32m2024-10-09 23:30:28.662\u001B[0m | \u001B[1mINFO    \u001B[0m | \u001B[36msdgx.data_processors.transformers.const\u001B[0m:\u001B[36mconvert\u001B[0m:\u001B[36m69\u001B[0m - \u001B[1mConverting data using ConstValueTransformer...\u001B[0m\n",
      "\u001B[32m2024-10-09 23:30:28.662\u001B[0m | \u001B[1mINFO    \u001B[0m | \u001B[36msdgx.data_processors.transformers.const\u001B[0m:\u001B[36mconvert\u001B[0m:\u001B[36m77\u001B[0m - \u001B[1mConverting data using ConstValueTransformer... Finished.\u001B[0m\n",
      "\u001B[32m2024-10-09 23:30:28.663\u001B[0m | \u001B[1mINFO    \u001B[0m | \u001B[36msdgx.data_processors.transformers.empty\u001B[0m:\u001B[36mconvert\u001B[0m:\u001B[36m72\u001B[0m - \u001B[1mConverting data using EmptyTransformer...\u001B[0m\n",
      "\u001B[32m2024-10-09 23:30:28.664\u001B[0m | \u001B[1mINFO    \u001B[0m | \u001B[36msdgx.data_processors.transformers.empty\u001B[0m:\u001B[36mconvert\u001B[0m:\u001B[36m76\u001B[0m - \u001B[1mConverting data using EmptyTransformer... Finished (No action).\u001B[0m\n",
      "\u001B[32m2024-10-09 23:30:28.665\u001B[0m | \u001B[1mINFO    \u001B[0m | \u001B[36msdgx.data_processors.transformers.column_order\u001B[0m:\u001B[36mconvert\u001B[0m:\u001B[36m51\u001B[0m - \u001B[1mConverting data using ColumnOrderTransformer...\u001B[0m\n",
      "\u001B[32m2024-10-09 23:30:28.665\u001B[0m | \u001B[1mINFO    \u001B[0m | \u001B[36msdgx.data_processors.transformers.column_order\u001B[0m:\u001B[36mconvert\u001B[0m:\u001B[36m52\u001B[0m - \u001B[1mConverting data using ColumnOrderTransformer... Finished (No action).\u001B[0m\n",
      "\u001B[32m2024-10-09 23:30:29.120\u001B[0m | \u001B[1mINFO    \u001B[0m | \u001B[36msdgx.synthesizer\u001B[0m:\u001B[36mfit\u001B[0m:\u001B[36m322\u001B[0m - \u001B[1mInitialized processed data loader in 1.5283081531524658s\u001B[0m\n",
      "\u001B[32m2024-10-09 23:30:29.123\u001B[0m | \u001B[1mINFO    \u001B[0m | \u001B[36msdgx.synthesizer\u001B[0m:\u001B[36mfit\u001B[0m:\u001B[36m324\u001B[0m - \u001B[1mModel fit Started...\u001B[0m\n",
      "\u001B[32m2024-10-09 23:30:29.128\u001B[0m | \u001B[1mINFO    \u001B[0m | \u001B[36msdgx.data_processors.transformers.nan\u001B[0m:\u001B[36mconvert\u001B[0m:\u001B[36m110\u001B[0m - \u001B[1mConverting data using NonValueTransformer...\u001B[0m\n",
      "\u001B[32m2024-10-09 23:30:29.134\u001B[0m | \u001B[1mINFO    \u001B[0m | \u001B[36msdgx.data_processors.transformers.nan\u001B[0m:\u001B[36mconvert\u001B[0m:\u001B[36m130\u001B[0m - \u001B[1mConverting data using NonValueTransformer... Finished.\u001B[0m\n",
      "\u001B[32m2024-10-09 23:30:29.135\u001B[0m | \u001B[1mINFO    \u001B[0m | \u001B[36msdgx.data_processors.transformers.outlier\u001B[0m:\u001B[36mconvert\u001B[0m:\u001B[36m84\u001B[0m - \u001B[1mConverting data using OutlierTransformer...\u001B[0m\n",
      "\u001B[32m2024-10-09 23:30:29.191\u001B[0m | \u001B[1mINFO    \u001B[0m | \u001B[36msdgx.data_processors.transformers.outlier\u001B[0m:\u001B[36mconvert\u001B[0m:\u001B[36m106\u001B[0m - \u001B[1mConverting data using OutlierTransformer... Finished.\u001B[0m\n",
      "\u001B[32m2024-10-09 23:30:29.192\u001B[0m | \u001B[1mINFO    \u001B[0m | \u001B[36msdgx.data_processors.formatters.int\u001B[0m:\u001B[36mconvert\u001B[0m:\u001B[36m50\u001B[0m - \u001B[1mConverting data using IntValueFormatter... Finished  (No Action).\u001B[0m\n",
      "\u001B[32m2024-10-09 23:30:29.192\u001B[0m | \u001B[1mINFO    \u001B[0m | \u001B[36msdgx.data_processors.formatters.datetime\u001B[0m:\u001B[36mconvert\u001B[0m:\u001B[36m99\u001B[0m - \u001B[1mConverting data using DatetimeFormatter...\u001B[0m\n",
      "\u001B[32m2024-10-09 23:30:29.762\u001B[0m | \u001B[1mINFO    \u001B[0m | \u001B[36msdgx.data_processors.formatters.datetime\u001B[0m:\u001B[36mconvert\u001B[0m:\u001B[36m105\u001B[0m - \u001B[1mConverting data using DatetimeFormatter... Finished.\u001B[0m\n",
      "\u001B[32m2024-10-09 23:30:29.764\u001B[0m | \u001B[1mINFO    \u001B[0m | \u001B[36msdgx.data_processors.transformers.const\u001B[0m:\u001B[36mconvert\u001B[0m:\u001B[36m69\u001B[0m - \u001B[1mConverting data using ConstValueTransformer...\u001B[0m\n",
      "\u001B[32m2024-10-09 23:30:29.764\u001B[0m | \u001B[1mINFO    \u001B[0m | \u001B[36msdgx.data_processors.transformers.const\u001B[0m:\u001B[36mconvert\u001B[0m:\u001B[36m77\u001B[0m - \u001B[1mConverting data using ConstValueTransformer... Finished.\u001B[0m\n",
      "\u001B[32m2024-10-09 23:30:29.765\u001B[0m | \u001B[1mINFO    \u001B[0m | \u001B[36msdgx.data_processors.transformers.empty\u001B[0m:\u001B[36mconvert\u001B[0m:\u001B[36m72\u001B[0m - \u001B[1mConverting data using EmptyTransformer...\u001B[0m\n",
      "\u001B[32m2024-10-09 23:30:29.765\u001B[0m | \u001B[1mINFO    \u001B[0m | \u001B[36msdgx.data_processors.transformers.empty\u001B[0m:\u001B[36mconvert\u001B[0m:\u001B[36m76\u001B[0m - \u001B[1mConverting data using EmptyTransformer... Finished (No action).\u001B[0m\n",
      "\u001B[32m2024-10-09 23:30:29.766\u001B[0m | \u001B[1mINFO    \u001B[0m | \u001B[36msdgx.data_processors.transformers.column_order\u001B[0m:\u001B[36mconvert\u001B[0m:\u001B[36m51\u001B[0m - \u001B[1mConverting data using ColumnOrderTransformer...\u001B[0m\n",
      "\u001B[32m2024-10-09 23:30:29.767\u001B[0m | \u001B[1mINFO    \u001B[0m | \u001B[36msdgx.data_processors.transformers.column_order\u001B[0m:\u001B[36mconvert\u001B[0m:\u001B[36m52\u001B[0m - \u001B[1mConverting data using ColumnOrderTransformer... Finished (No action).\u001B[0m\n",
      "\u001B[32m2024-10-09 23:30:29.768\u001B[0m | \u001B[1mINFO    \u001B[0m | \u001B[36msdgx.models.ml.single_table.ctgan\u001B[0m:\u001B[36m_pre_fit\u001B[0m:\u001B[36m248\u001B[0m - \u001B[1mFitting model's transformer...\u001B[0m\n",
      "\u001B[32m2024-10-09 23:30:29.781\u001B[0m | \u001B[1mINFO    \u001B[0m | \u001B[36msdgx.data_processors.transformers.nan\u001B[0m:\u001B[36mconvert\u001B[0m:\u001B[36m110\u001B[0m - \u001B[1mConverting data using NonValueTransformer...\u001B[0m\n",
      "\u001B[32m2024-10-09 23:30:29.786\u001B[0m | \u001B[1mINFO    \u001B[0m | \u001B[36msdgx.data_processors.transformers.nan\u001B[0m:\u001B[36mconvert\u001B[0m:\u001B[36m130\u001B[0m - \u001B[1mConverting data using NonValueTransformer... Finished.\u001B[0m\n",
      "\u001B[32m2024-10-09 23:30:29.787\u001B[0m | \u001B[1mINFO    \u001B[0m | \u001B[36msdgx.data_processors.transformers.outlier\u001B[0m:\u001B[36mconvert\u001B[0m:\u001B[36m84\u001B[0m - \u001B[1mConverting data using OutlierTransformer...\u001B[0m\n",
      "\u001B[32m2024-10-09 23:30:29.844\u001B[0m | \u001B[1mINFO    \u001B[0m | \u001B[36msdgx.data_processors.transformers.outlier\u001B[0m:\u001B[36mconvert\u001B[0m:\u001B[36m106\u001B[0m - \u001B[1mConverting data using OutlierTransformer... Finished.\u001B[0m\n",
      "\u001B[32m2024-10-09 23:30:29.845\u001B[0m | \u001B[1mINFO    \u001B[0m | \u001B[36msdgx.data_processors.formatters.int\u001B[0m:\u001B[36mconvert\u001B[0m:\u001B[36m50\u001B[0m - \u001B[1mConverting data using IntValueFormatter... Finished  (No Action).\u001B[0m\n",
      "\u001B[32m2024-10-09 23:30:29.846\u001B[0m | \u001B[1mINFO    \u001B[0m | \u001B[36msdgx.data_processors.formatters.datetime\u001B[0m:\u001B[36mconvert\u001B[0m:\u001B[36m99\u001B[0m - \u001B[1mConverting data using DatetimeFormatter...\u001B[0m\n",
      "\u001B[32m2024-10-09 23:30:30.409\u001B[0m | \u001B[1mINFO    \u001B[0m | \u001B[36msdgx.data_processors.formatters.datetime\u001B[0m:\u001B[36mconvert\u001B[0m:\u001B[36m105\u001B[0m - \u001B[1mConverting data using DatetimeFormatter... Finished.\u001B[0m\n",
      "\u001B[32m2024-10-09 23:30:30.410\u001B[0m | \u001B[1mINFO    \u001B[0m | \u001B[36msdgx.data_processors.transformers.const\u001B[0m:\u001B[36mconvert\u001B[0m:\u001B[36m69\u001B[0m - \u001B[1mConverting data using ConstValueTransformer...\u001B[0m\n",
      "\u001B[32m2024-10-09 23:30:30.411\u001B[0m | \u001B[1mINFO    \u001B[0m | \u001B[36msdgx.data_processors.transformers.const\u001B[0m:\u001B[36mconvert\u001B[0m:\u001B[36m77\u001B[0m - \u001B[1mConverting data using ConstValueTransformer... Finished.\u001B[0m\n",
      "\u001B[32m2024-10-09 23:30:30.412\u001B[0m | \u001B[1mINFO    \u001B[0m | \u001B[36msdgx.data_processors.transformers.empty\u001B[0m:\u001B[36mconvert\u001B[0m:\u001B[36m72\u001B[0m - \u001B[1mConverting data using EmptyTransformer...\u001B[0m\n",
      "\u001B[32m2024-10-09 23:30:30.412\u001B[0m | \u001B[1mINFO    \u001B[0m | \u001B[36msdgx.data_processors.transformers.empty\u001B[0m:\u001B[36mconvert\u001B[0m:\u001B[36m76\u001B[0m - \u001B[1mConverting data using EmptyTransformer... Finished (No action).\u001B[0m\n",
      "\u001B[32m2024-10-09 23:30:30.413\u001B[0m | \u001B[1mINFO    \u001B[0m | \u001B[36msdgx.data_processors.transformers.column_order\u001B[0m:\u001B[36mconvert\u001B[0m:\u001B[36m51\u001B[0m - \u001B[1mConverting data using ColumnOrderTransformer...\u001B[0m\n",
      "\u001B[32m2024-10-09 23:30:30.414\u001B[0m | \u001B[1mINFO    \u001B[0m | \u001B[36msdgx.data_processors.transformers.column_order\u001B[0m:\u001B[36mconvert\u001B[0m:\u001B[36m52\u001B[0m - \u001B[1mConverting data using ColumnOrderTransformer... Finished (No action).\u001B[0m\n"
     ]
    },
    {
     "data": {
      "text/plain": [
       "Preparing data:   0%|          | 0/15 [00:00<?, ?it/s]"
      ],
      "application/vnd.jupyter.widget-view+json": {
       "version_major": 2,
       "version_minor": 0,
       "model_id": "a2e05708727e482fb56a863481064928"
      }
     },
     "metadata": {},
     "output_type": "display_data"
    },
    {
     "name": "stderr",
     "output_type": "stream",
     "text": [
      "\u001B[32m2024-10-09 23:30:30.428\u001B[0m | \u001B[34m\u001B[1mDEBUG   \u001B[0m | \u001B[36msdgx.models.components.optimize.sdv_ctgan.data_transformer\u001B[0m:\u001B[36mfit\u001B[0m:\u001B[36m126\u001B[0m - \u001B[34m\u001B[1mFitting continuous column loan_id...\u001B[0m\n",
      "\u001B[32m2024-10-09 23:30:30.968\u001B[0m | \u001B[34m\u001B[1mDEBUG   \u001B[0m | \u001B[36msdgx.models.components.optimize.sdv_ctgan.data_transformer\u001B[0m:\u001B[36mfit\u001B[0m:\u001B[36m126\u001B[0m - \u001B[34m\u001B[1mFitting continuous column book_id...\u001B[0m\n",
      "\u001B[32m2024-10-09 23:30:31.510\u001B[0m | \u001B[34m\u001B[1mDEBUG   \u001B[0m | \u001B[36msdgx.models.components.optimize.sdv_ctgan.data_transformer\u001B[0m:\u001B[36mfit\u001B[0m:\u001B[36m126\u001B[0m - \u001B[34m\u001B[1mFitting continuous column student_id...\u001B[0m\n",
      "\u001B[32m2024-10-09 23:30:32.040\u001B[0m | \u001B[34m\u001B[1mDEBUG   \u001B[0m | \u001B[36msdgx.models.components.optimize.sdv_ctgan.data_transformer\u001B[0m:\u001B[36mfit\u001B[0m:\u001B[36m126\u001B[0m - \u001B[34m\u001B[1mFitting continuous column loan_date...\u001B[0m\n",
      "\u001B[32m2024-10-09 23:30:32.570\u001B[0m | \u001B[34m\u001B[1mDEBUG   \u001B[0m | \u001B[36msdgx.models.components.optimize.sdv_ctgan.data_transformer\u001B[0m:\u001B[36mfit\u001B[0m:\u001B[36m126\u001B[0m - \u001B[34m\u001B[1mFitting continuous column return_date...\u001B[0m\n",
      "\u001B[32m2024-10-09 23:30:33.113\u001B[0m | \u001B[34m\u001B[1mDEBUG   \u001B[0m | \u001B[36msdgx.models.components.optimize.sdv_ctgan.data_transformer\u001B[0m:\u001B[36mfit\u001B[0m:\u001B[36m126\u001B[0m - \u001B[34m\u001B[1mFitting continuous column library_id...\u001B[0m\n",
      "\u001B[32m2024-10-09 23:30:33.656\u001B[0m | \u001B[34m\u001B[1mDEBUG   \u001B[0m | \u001B[36msdgx.models.components.optimize.sdv_ctgan.data_transformer\u001B[0m:\u001B[36mfit\u001B[0m:\u001B[36m126\u001B[0m - \u001B[34m\u001B[1mFitting continuous column date_of_birth...\u001B[0m\n",
      "\u001B[32m2024-10-09 23:30:34.216\u001B[0m | \u001B[34m\u001B[1mDEBUG   \u001B[0m | \u001B[36msdgx.models.components.optimize.sdv_ctgan.data_transformer\u001B[0m:\u001B[36mfit\u001B[0m:\u001B[36m126\u001B[0m - \u001B[34m\u001B[1mFitting continuous column major...\u001B[0m\n",
      "\u001B[32m2024-10-09 23:30:34.752\u001B[0m | \u001B[34m\u001B[1mDEBUG   \u001B[0m | \u001B[36msdgx.models.components.optimize.sdv_ctgan.data_transformer\u001B[0m:\u001B[36mfit\u001B[0m:\u001B[36m126\u001B[0m - \u001B[34m\u001B[1mFitting continuous column enrollment_id...\u001B[0m\n",
      "\u001B[32m2024-10-09 23:30:35.286\u001B[0m | \u001B[34m\u001B[1mDEBUG   \u001B[0m | \u001B[36msdgx.models.components.optimize.sdv_ctgan.data_transformer\u001B[0m:\u001B[36mfit\u001B[0m:\u001B[36m126\u001B[0m - \u001B[34m\u001B[1mFitting continuous column course_id...\u001B[0m\n",
      "\u001B[32m2024-10-09 23:30:35.846\u001B[0m | \u001B[34m\u001B[1mDEBUG   \u001B[0m | \u001B[36msdgx.models.components.optimize.sdv_ctgan.data_transformer\u001B[0m:\u001B[36mfit\u001B[0m:\u001B[36m121\u001B[0m - \u001B[34m\u001B[1mFitting discrete column grade_x...\u001B[0m\n",
      "\u001B[32m2024-10-09 23:31:27.636\u001B[0m | \u001B[34m\u001B[1mDEBUG   \u001B[0m | \u001B[36msdgx.models.components.optimize.sdv_ctgan.data_transformer\u001B[0m:\u001B[36mfit\u001B[0m:\u001B[36m126\u001B[0m - \u001B[34m\u001B[1mFitting continuous column submission_id...\u001B[0m\n",
      "\u001B[32m2024-10-09 23:31:28.172\u001B[0m | \u001B[34m\u001B[1mDEBUG   \u001B[0m | \u001B[36msdgx.models.components.optimize.sdv_ctgan.data_transformer\u001B[0m:\u001B[36mfit\u001B[0m:\u001B[36m126\u001B[0m - \u001B[34m\u001B[1mFitting continuous column assignment_id...\u001B[0m\n",
      "\u001B[32m2024-10-09 23:31:28.699\u001B[0m | \u001B[34m\u001B[1mDEBUG   \u001B[0m | \u001B[36msdgx.models.components.optimize.sdv_ctgan.data_transformer\u001B[0m:\u001B[36mfit\u001B[0m:\u001B[36m126\u001B[0m - \u001B[34m\u001B[1mFitting continuous column submission_date...\u001B[0m\n",
      "\u001B[32m2024-10-09 23:31:29.261\u001B[0m | \u001B[34m\u001B[1mDEBUG   \u001B[0m | \u001B[36msdgx.models.components.optimize.sdv_ctgan.data_transformer\u001B[0m:\u001B[36mfit\u001B[0m:\u001B[36m121\u001B[0m - \u001B[34m\u001B[1mFitting discrete column grade_y...\u001B[0m\n",
      "\u001B[32m2024-10-09 23:31:31.432\u001B[0m | \u001B[1mINFO    \u001B[0m | \u001B[36msdgx.models.ml.single_table.ctgan\u001B[0m:\u001B[36m_pre_fit\u001B[0m:\u001B[36m250\u001B[0m - \u001B[1mTransforming data...\u001B[0m\n"
     ]
    },
    {
     "data": {
      "text/plain": [
       "Transforming data:   0%|          | 0/15 [00:00<?, ?it/s]"
      ],
      "application/vnd.jupyter.widget-view+json": {
       "version_major": 2,
       "version_minor": 0,
       "model_id": "d819d2f63e174f54b2a464f805d3f971"
      }
     },
     "metadata": {},
     "output_type": "display_data"
    },
    {
     "name": "stderr",
     "output_type": "stream",
     "text": [
      "\u001B[32m2024-10-09 23:31:36.977\u001B[0m | \u001B[1mINFO    \u001B[0m | \u001B[36msdgx.models.ml.single_table.ctgan\u001B[0m:\u001B[36m_pre_fit\u001B[0m:\u001B[36m253\u001B[0m - \u001B[1mSampling data.\u001B[0m\n",
      "\u001B[32m2024-10-09 23:31:40.688\u001B[0m | \u001B[1mINFO    \u001B[0m | \u001B[36msdgx.models.ml.single_table.ctgan\u001B[0m:\u001B[36m_pre_fit\u001B[0m:\u001B[36m258\u001B[0m - \u001B[1mInitialize Generator.\u001B[0m\n",
      "\u001B[32m2024-10-09 23:31:40.693\u001B[0m | \u001B[1mINFO    \u001B[0m | \u001B[36msdgx.models.ml.single_table.ctgan\u001B[0m:\u001B[36mfit\u001B[0m:\u001B[36m223\u001B[0m - \u001B[1mCTGAN prefit finished, start CTGAN training.\u001B[0m\n",
      "\u001B[32m2024-10-09 23:31:40.694\u001B[0m | \u001B[1mINFO    \u001B[0m | \u001B[36msdgx.models.ml.single_table.ctgan\u001B[0m:\u001B[36m_fit\u001B[0m:\u001B[36m275\u001B[0m - \u001B[1mFit using data_size:10798, data_dim: 145.\u001B[0m\n",
      "\u001B[32m2024-10-09 23:31:42.847\u001B[0m | \u001B[1mINFO    \u001B[0m | \u001B[36msdgx.models.ml.single_table.ctgan\u001B[0m:\u001B[36m_fit\u001B[0m:\u001B[36m301\u001B[0m - \u001B[1mStarting model training, epochs: 1\u001B[0m\n"
     ]
    },
    {
     "data": {
      "text/plain": [
       "Fitting batches:   0%|          | 0/21 [00:00<?, ?it/s]"
      ],
      "application/vnd.jupyter.widget-view+json": {
       "version_major": 2,
       "version_minor": 0,
       "model_id": "7f588b21009f4460a94e1df173b32e37"
      }
     },
     "metadata": {},
     "output_type": "display_data"
    },
    {
     "ename": "KeyboardInterrupt",
     "evalue": "",
     "output_type": "error",
     "traceback": [
      "\u001B[1;31m---------------------------------------------------------------------------\u001B[0m",
      "\u001B[1;31mKeyboardInterrupt\u001B[0m                         Traceback (most recent call last)",
      "Cell \u001B[1;32mIn[20], line 17\u001B[0m\n\u001B[0;32m      9\u001B[0m synthesizer \u001B[38;5;241m=\u001B[39m Synthesizer(\n\u001B[0;32m     10\u001B[0m     metadata\u001B[38;5;241m=\u001B[39mloan_metadata,\n\u001B[0;32m     11\u001B[0m     model\u001B[38;5;241m=\u001B[39mctgan,  \u001B[38;5;66;03m# For quick demo\u001B[39;00m\n\u001B[0;32m     12\u001B[0m     data_connector\u001B[38;5;241m=\u001B[39mdata_connector,\n\u001B[0;32m     13\u001B[0m )\n\u001B[0;32m     16\u001B[0m writetime()\n\u001B[1;32m---> 17\u001B[0m \u001B[43msynthesizer\u001B[49m\u001B[38;5;241;43m.\u001B[39;49m\u001B[43mfit\u001B[49m\u001B[43m(\u001B[49m\u001B[43m)\u001B[49m\n\u001B[0;32m     18\u001B[0m writetime()\n",
      "File \u001B[1;32m~\\Desktop\\GitHub\\synthetic-data-generator\\sdgx\\synthesizer.py:326\u001B[0m, in \u001B[0;36mSynthesizer.fit\u001B[1;34m(self, prefit, from_prefit, metadata, inspector_max_chunk, metadata_include_inspectors, metadata_exclude_inspectors, inspector_init_kwargs, model_fit_kwargs)\u001B[0m\n\u001B[0;32m    324\u001B[0m logger\u001B[38;5;241m.\u001B[39minfo(\u001B[38;5;124m\"\u001B[39m\u001B[38;5;124mModel fit Started...\u001B[39m\u001B[38;5;124m\"\u001B[39m)\n\u001B[0;32m    325\u001B[0m \u001B[38;5;28;01mif\u001B[39;00m \u001B[38;5;129;01mnot\u001B[39;00m prefit \u001B[38;5;129;01mand\u001B[39;00m \u001B[38;5;129;01mnot\u001B[39;00m from_prefit:\n\u001B[1;32m--> 326\u001B[0m     \u001B[38;5;28mself\u001B[39m\u001B[38;5;241m.\u001B[39mmodel\u001B[38;5;241m.\u001B[39mfit(metadata, processed_dataloader,\u001B[38;5;241m*\u001B[39m\u001B[38;5;241m*\u001B[39m(model_fit_kwargs \u001B[38;5;129;01mor\u001B[39;00m {}))\n\u001B[0;32m    327\u001B[0m \u001B[38;5;28;01melif\u001B[39;00m prefit \u001B[38;5;129;01mand\u001B[39;00m \u001B[38;5;129;01mnot\u001B[39;00m from_prefit:\n\u001B[0;32m    328\u001B[0m     \u001B[38;5;28mself\u001B[39m\u001B[38;5;241m.\u001B[39mmodel\u001B[38;5;241m.\u001B[39mpre_fit_test(metadata, processed_dataloader, \u001B[38;5;241m*\u001B[39m\u001B[38;5;241m*\u001B[39m(model_fit_kwargs \u001B[38;5;129;01mor\u001B[39;00m {}))\n",
      "File \u001B[1;32m~\\Desktop\\GitHub\\synthetic-data-generator\\sdgx\\models\\ml\\single_table\\ctgan.py:224\u001B[0m, in \u001B[0;36mCTGANSynthesizerModel.fit\u001B[1;34m(self, metadata, dataloader, epochs, prefited, *args, **kwargs)\u001B[0m\n\u001B[0;32m    222\u001B[0m     \u001B[38;5;28;01mreturn\u001B[39;00m\n\u001B[0;32m    223\u001B[0m logger\u001B[38;5;241m.\u001B[39minfo(\u001B[38;5;124m\"\u001B[39m\u001B[38;5;124mCTGAN prefit finished, start CTGAN training.\u001B[39m\u001B[38;5;124m\"\u001B[39m)\n\u001B[1;32m--> 224\u001B[0m \u001B[38;5;28;43mself\u001B[39;49m\u001B[38;5;241;43m.\u001B[39;49m\u001B[43m_fit\u001B[49m\u001B[43m(\u001B[49m\u001B[38;5;28;43mlen\u001B[39;49m\u001B[43m(\u001B[49m\u001B[38;5;28;43mself\u001B[39;49m\u001B[38;5;241;43m.\u001B[39;49m\u001B[43m_ndarry_loader\u001B[49m\u001B[43m)\u001B[49m\u001B[43m)\u001B[49m\n\u001B[0;32m    225\u001B[0m logger\u001B[38;5;241m.\u001B[39minfo(\u001B[38;5;124m\"\u001B[39m\u001B[38;5;124mCTGAN training finished.\u001B[39m\u001B[38;5;124m\"\u001B[39m)\n",
      "File \u001B[1;32m~\\Desktop\\GitHub\\synthetic-data-generator\\sdgx\\models\\components\\sdv_ctgan\\synthesizers\\base.py:51\u001B[0m, in \u001B[0;36mrandom_state.<locals>.wrapper\u001B[1;34m(self, *args, **kwargs)\u001B[0m\n\u001B[0;32m     49\u001B[0m \u001B[38;5;28;01mdef\u001B[39;00m \u001B[38;5;21mwrapper\u001B[39m(\u001B[38;5;28mself\u001B[39m, \u001B[38;5;241m*\u001B[39margs, \u001B[38;5;241m*\u001B[39m\u001B[38;5;241m*\u001B[39mkwargs):\n\u001B[0;32m     50\u001B[0m     \u001B[38;5;28;01mif\u001B[39;00m \u001B[38;5;28mself\u001B[39m\u001B[38;5;241m.\u001B[39mrandom_states \u001B[38;5;129;01mis\u001B[39;00m \u001B[38;5;28;01mNone\u001B[39;00m:\n\u001B[1;32m---> 51\u001B[0m         \u001B[38;5;28;01mreturn\u001B[39;00m function(\u001B[38;5;28mself\u001B[39m, \u001B[38;5;241m*\u001B[39margs, \u001B[38;5;241m*\u001B[39m\u001B[38;5;241m*\u001B[39mkwargs)\n\u001B[0;32m     53\u001B[0m     \u001B[38;5;28;01melse\u001B[39;00m:\n\u001B[0;32m     54\u001B[0m         \u001B[38;5;28;01mwith\u001B[39;00m set_random_states(\u001B[38;5;28mself\u001B[39m\u001B[38;5;241m.\u001B[39mrandom_states, \u001B[38;5;28mself\u001B[39m\u001B[38;5;241m.\u001B[39mset_random_state):\n",
      "File \u001B[1;32m~\\Desktop\\GitHub\\synthetic-data-generator\\sdgx\\models\\ml\\single_table\\ctgan.py:364\u001B[0m, in \u001B[0;36mCTGANSynthesizerModel._fit\u001B[1;34m(self, data_size)\u001B[0m\n\u001B[0;32m    361\u001B[0m     fakez \u001B[38;5;241m=\u001B[39m torch\u001B[38;5;241m.\u001B[39mcat([fakez, c1], dim\u001B[38;5;241m=\u001B[39m\u001B[38;5;241m1\u001B[39m)\n\u001B[0;32m    363\u001B[0m fake \u001B[38;5;241m=\u001B[39m \u001B[38;5;28mself\u001B[39m\u001B[38;5;241m.\u001B[39m_generator(fakez)\n\u001B[1;32m--> 364\u001B[0m fakeact \u001B[38;5;241m=\u001B[39m \u001B[38;5;28;43mself\u001B[39;49m\u001B[38;5;241;43m.\u001B[39;49m\u001B[43m_apply_activate\u001B[49m\u001B[43m(\u001B[49m\u001B[43mfake\u001B[49m\u001B[43m)\u001B[49m\n\u001B[0;32m    366\u001B[0m \u001B[38;5;28;01mif\u001B[39;00m c1 \u001B[38;5;129;01mis\u001B[39;00m \u001B[38;5;129;01mnot\u001B[39;00m \u001B[38;5;28;01mNone\u001B[39;00m:\n\u001B[0;32m    367\u001B[0m     y_fake \u001B[38;5;241m=\u001B[39m discriminator(torch\u001B[38;5;241m.\u001B[39mcat([fakeact, c1], dim\u001B[38;5;241m=\u001B[39m\u001B[38;5;241m1\u001B[39m))\n",
      "File \u001B[1;32m~\\Desktop\\GitHub\\synthetic-data-generator\\sdgx\\models\\ml\\single_table\\ctgan.py:512\u001B[0m, in \u001B[0;36mCTGANSynthesizerModel._apply_activate\u001B[1;34m(self, data)\u001B[0m\n\u001B[0;32m    510\u001B[0m     ed \u001B[38;5;241m=\u001B[39m st \u001B[38;5;241m+\u001B[39m span_info\u001B[38;5;241m.\u001B[39mdim\n\u001B[0;32m    511\u001B[0m     transformed \u001B[38;5;241m=\u001B[39m data[:, st:ed]\u001B[38;5;241m.\u001B[39mclone()\n\u001B[1;32m--> 512\u001B[0m     \u001B[43mdata_t\u001B[49m\u001B[38;5;241m.\u001B[39mappend(transformed)\n\u001B[0;32m    513\u001B[0m     st \u001B[38;5;241m=\u001B[39m ed\n\u001B[0;32m    514\u001B[0m \u001B[38;5;28;01melse\u001B[39;00m:\n",
      "File \u001B[1;32m~\\Desktop\\GitHub\\synthetic-data-generator\\sdgx\\models\\ml\\single_table\\ctgan.py:512\u001B[0m, in \u001B[0;36mCTGANSynthesizerModel._apply_activate\u001B[1;34m(self, data)\u001B[0m\n\u001B[0;32m    510\u001B[0m     ed \u001B[38;5;241m=\u001B[39m st \u001B[38;5;241m+\u001B[39m span_info\u001B[38;5;241m.\u001B[39mdim\n\u001B[0;32m    511\u001B[0m     transformed \u001B[38;5;241m=\u001B[39m data[:, st:ed]\u001B[38;5;241m.\u001B[39mclone()\n\u001B[1;32m--> 512\u001B[0m     \u001B[43mdata_t\u001B[49m\u001B[38;5;241m.\u001B[39mappend(transformed)\n\u001B[0;32m    513\u001B[0m     st \u001B[38;5;241m=\u001B[39m ed\n\u001B[0;32m    514\u001B[0m \u001B[38;5;28;01melse\u001B[39;00m:\n",
      "File \u001B[1;32m_pydevd_bundle\\pydevd_cython_win32_310_64.pyx:1187\u001B[0m, in \u001B[0;36m_pydevd_bundle.pydevd_cython_win32_310_64.SafeCallWrapper.__call__\u001B[1;34m()\u001B[0m\n",
      "File \u001B[1;32m_pydevd_bundle\\pydevd_cython_win32_310_64.pyx:627\u001B[0m, in \u001B[0;36m_pydevd_bundle.pydevd_cython_win32_310_64.PyDBFrame.trace_dispatch\u001B[1;34m()\u001B[0m\n",
      "File \u001B[1;32m_pydevd_bundle\\pydevd_cython_win32_310_64.pyx:937\u001B[0m, in \u001B[0;36m_pydevd_bundle.pydevd_cython_win32_310_64.PyDBFrame.trace_dispatch\u001B[1;34m()\u001B[0m\n",
      "File \u001B[1;32m_pydevd_bundle\\pydevd_cython_win32_310_64.pyx:928\u001B[0m, in \u001B[0;36m_pydevd_bundle.pydevd_cython_win32_310_64.PyDBFrame.trace_dispatch\u001B[1;34m()\u001B[0m\n",
      "File \u001B[1;32m_pydevd_bundle\\pydevd_cython_win32_310_64.pyx:585\u001B[0m, in \u001B[0;36m_pydevd_bundle.pydevd_cython_win32_310_64.PyDBFrame.do_wait_suspend\u001B[1;34m()\u001B[0m\n",
      "File \u001B[1;32mC:\\Program Files\\JetBrains\\PyCharm 2024.1.4\\plugins\\python\\helpers\\pydev\\pydevd.py:1201\u001B[0m, in \u001B[0;36mPyDB.do_wait_suspend\u001B[1;34m(self, thread, frame, event, arg, send_suspend_message, is_unhandled_exception)\u001B[0m\n\u001B[0;32m   1198\u001B[0m         from_this_thread\u001B[38;5;241m.\u001B[39mappend(frame_id)\n\u001B[0;32m   1200\u001B[0m \u001B[38;5;28;01mwith\u001B[39;00m \u001B[38;5;28mself\u001B[39m\u001B[38;5;241m.\u001B[39m_threads_suspended_single_notification\u001B[38;5;241m.\u001B[39mnotify_thread_suspended(thread_id, stop_reason):\n\u001B[1;32m-> 1201\u001B[0m     \u001B[38;5;28;43mself\u001B[39;49m\u001B[38;5;241;43m.\u001B[39;49m\u001B[43m_do_wait_suspend\u001B[49m\u001B[43m(\u001B[49m\u001B[43mthread\u001B[49m\u001B[43m,\u001B[49m\u001B[43m \u001B[49m\u001B[43mframe\u001B[49m\u001B[43m,\u001B[49m\u001B[43m \u001B[49m\u001B[43mevent\u001B[49m\u001B[43m,\u001B[49m\u001B[43m \u001B[49m\u001B[43marg\u001B[49m\u001B[43m,\u001B[49m\u001B[43m \u001B[49m\u001B[43msuspend_type\u001B[49m\u001B[43m,\u001B[49m\u001B[43m \u001B[49m\u001B[43mfrom_this_thread\u001B[49m\u001B[43m)\u001B[49m\n",
      "File \u001B[1;32mC:\\Program Files\\JetBrains\\PyCharm 2024.1.4\\plugins\\python\\helpers\\pydev\\pydevd.py:1216\u001B[0m, in \u001B[0;36mPyDB._do_wait_suspend\u001B[1;34m(self, thread, frame, event, arg, suspend_type, from_this_thread)\u001B[0m\n\u001B[0;32m   1213\u001B[0m             \u001B[38;5;28mself\u001B[39m\u001B[38;5;241m.\u001B[39m_call_mpl_hook()\n\u001B[0;32m   1215\u001B[0m         \u001B[38;5;28mself\u001B[39m\u001B[38;5;241m.\u001B[39mprocess_internal_commands()\n\u001B[1;32m-> 1216\u001B[0m         \u001B[43mtime\u001B[49m\u001B[38;5;241;43m.\u001B[39;49m\u001B[43msleep\u001B[49m\u001B[43m(\u001B[49m\u001B[38;5;241;43m0.01\u001B[39;49m\u001B[43m)\u001B[49m\n\u001B[0;32m   1218\u001B[0m \u001B[38;5;28mself\u001B[39m\u001B[38;5;241m.\u001B[39mcancel_async_evaluation(get_current_thread_id(thread), \u001B[38;5;28mstr\u001B[39m(\u001B[38;5;28mid\u001B[39m(frame)))\n\u001B[0;32m   1220\u001B[0m \u001B[38;5;66;03m# process any stepping instructions\u001B[39;00m\n",
      "\u001B[1;31mKeyboardInterrupt\u001B[0m: "
     ]
    }
   ],
   "execution_count": 20
  },
  {
   "cell_type": "code",
   "metadata": {
    "ExecuteTime": {
     "end_time": "2024-10-09T15:00:25.967956Z",
     "start_time": "2024-10-09T15:00:25.890873Z"
    }
   },
   "source": "data_res = synthesizer.sample(900)",
   "outputs": [
    {
     "name": "stderr",
     "output_type": "stream",
     "text": [
      "\u001B[32m2024-10-09 23:00:25.891\u001B[0m | \u001B[1mINFO    \u001B[0m | \u001B[36msdgx.synthesizer\u001B[0m:\u001B[36msample\u001B[0m:\u001B[36m357\u001B[0m - \u001B[1mSampling...\u001B[0m\n"
     ]
    },
    {
     "data": {
      "text/plain": [
       "Sampling:   0%|          | 0/900 [00:00<?, ?it/s]"
      ],
      "application/vnd.jupyter.widget-view+json": {
       "version_major": 2,
       "version_minor": 0,
       "model_id": "4bd3e05df5734e62a59f30162ca3107a"
      }
     },
     "metadata": {},
     "output_type": "display_data"
    },
    {
     "data": {
      "text/plain": [
       "Sampling batches:   0%|          | 0/3 [00:00<?, ?it/s]"
      ],
      "application/vnd.jupyter.widget-view+json": {
       "version_major": 2,
       "version_minor": 0,
       "model_id": "8ff56320497c43888ee11f77ee4e2887"
      }
     },
     "metadata": {},
     "output_type": "display_data"
    },
    {
     "name": "stderr",
     "output_type": "stream",
     "text": [
      "\u001B[32m2024-10-09 23:00:25.934\u001B[0m | \u001B[1mINFO    \u001B[0m | \u001B[36msdgx.data_processors.transformers.nan\u001B[0m:\u001B[36mreverse_convert\u001B[0m:\u001B[36m155\u001B[0m - \u001B[1mData reverse-converted by NonValueTransformer.\u001B[0m\n",
      "\u001B[32m2024-10-09 23:00:25.935\u001B[0m | \u001B[1mINFO    \u001B[0m | \u001B[36msdgx.data_processors.transformers.outlier\u001B[0m:\u001B[36mreverse_convert\u001B[0m:\u001B[36m120\u001B[0m - \u001B[1mData reverse-converted by OutlierTransformer (No Action).\u001B[0m\n",
      "\u001B[32m2024-10-09 23:00:25.936\u001B[0m | \u001B[1mINFO    \u001B[0m | \u001B[36msdgx.data_processors.formatters.int\u001B[0m:\u001B[36mreverse_convert\u001B[0m:\u001B[36m64\u001B[0m - \u001B[1mData reverse-converted by IntValueFormatter.\u001B[0m\n",
      "\u001B[32m2024-10-09 23:00:25.937\u001B[0m | \u001B[1mINFO    \u001B[0m | \u001B[36msdgx.data_processors.formatters.datetime\u001B[0m:\u001B[36mreverse_convert\u001B[0m:\u001B[36m165\u001B[0m - \u001B[1mData reverse-converting by DatetimeFormatter...\u001B[0m\n",
      "\u001B[32m2024-10-09 23:00:25.938\u001B[0m | \u001B[1mINFO    \u001B[0m | \u001B[36msdgx.data_processors.formatters.datetime\u001B[0m:\u001B[36mreverse_convert\u001B[0m:\u001B[36m167\u001B[0m - \u001B[1mparameters : ['date_of_birth', 'submission_date', 'return_date', 'loan_date'], {'date_of_birth': '%Y-%m-%d', 'return_date': '%Y-%m-%d', 'loan_date': '%Y-%m-%d', 'submission_date': '%Y-%m-%d %H:%M:%S'}\u001B[0m\n",
      "\u001B[32m2024-10-09 23:00:25.951\u001B[0m | \u001B[1mINFO    \u001B[0m | \u001B[36msdgx.data_processors.formatters.datetime\u001B[0m:\u001B[36mreverse_convert\u001B[0m:\u001B[36m173\u001B[0m - \u001B[1mData reverse-converted by DatetimeFormatter... Finished.\u001B[0m\n",
      "\u001B[32m2024-10-09 23:00:25.952\u001B[0m | \u001B[1mINFO    \u001B[0m | \u001B[36msdgx.data_processors.transformers.const\u001B[0m:\u001B[36mreverse_convert\u001B[0m:\u001B[36m103\u001B[0m - \u001B[1mData reverse-converted by ConstValueTransformer.\u001B[0m\n",
      "\u001B[32m2024-10-09 23:00:25.953\u001B[0m | \u001B[1mINFO    \u001B[0m | \u001B[36msdgx.data_processors.transformers.empty\u001B[0m:\u001B[36mreverse_convert\u001B[0m:\u001B[36m98\u001B[0m - \u001B[1mData reverse-converted by EmptyTransformer.\u001B[0m\n",
      "\u001B[32m2024-10-09 23:00:25.953\u001B[0m | \u001B[1mINFO    \u001B[0m | \u001B[36msdgx.data_processors.transformers.column_order\u001B[0m:\u001B[36mreverse_convert\u001B[0m:\u001B[36m62\u001B[0m - \u001B[1mData reverse-converted by ColumnOrderTransformer.\u001B[0m\n"
     ]
    }
   ],
   "execution_count": 17
  },
  {
   "metadata": {
    "ExecuteTime": {
     "end_time": "2024-10-09T15:00:25.983900Z",
     "start_time": "2024-10-09T15:00:25.968970Z"
    }
   },
   "cell_type": "code",
   "source": "data_res",
   "outputs": [
    {
     "data": {
      "text/plain": [
       "     loan_id  book_id  student_id   loan_date return_date  library_id  \\\n",
       "0       7244     7510         732  2024-03-26  2025-08-10        1972   \n",
       "1       8855     6542        7602  2023-12-07  2025-05-11        6491   \n",
       "2       4070     6847       10745  2023-11-27  2025-02-22        9583   \n",
       "3       8658      206        1264  2024-04-17  2025-07-31        9038   \n",
       "4       3224     -155        2759  2023-10-16  2025-06-21        1785   \n",
       "..       ...      ...         ...         ...         ...         ...   \n",
       "895    10170      373         481  2024-01-12  2025-06-19        1218   \n",
       "896     8692     4933        1928  2024-01-21  2025-04-25       10484   \n",
       "897    10432     5499        8605  2024-10-12  2025-07-13        8838   \n",
       "898     9042     8086        4074  2024-01-27  2025-07-04        4829   \n",
       "899    10467     4922        9888  2024-02-15  2025-03-27        7524   \n",
       "\n",
       "    date_of_birth  major  enrollment_id  course_id grade_x  submission_id  \\\n",
       "0      2006-01-07   1192           9314       2677       B           1964   \n",
       "1      2007-09-23   1080           8839       8821       B           1968   \n",
       "2      2005-12-13    594           7578       -538       D          10890   \n",
       "3      2007-09-26   5723            298       2173       C           2412   \n",
       "4      2001-04-25   2575           6985       1862       C           8639   \n",
       "..            ...    ...            ...        ...     ...            ...   \n",
       "895    2006-12-30   1079           1477       5461       C           1256   \n",
       "896    2007-08-27   5531           2943       -134       C           7255   \n",
       "897    2000-03-06   5724           8202       3278       B           4985   \n",
       "898    2003-02-19   6799           5148       4762       D           9738   \n",
       "899    2003-02-17   2158           7202       8416       A           3614   \n",
       "\n",
       "     assignment_id      submission_date grade_y  \n",
       "0              678  2022-08-03 08:06:58       D  \n",
       "1             2833  2022-12-29 19:02:51       I  \n",
       "2            10352  2022-06-04 04:49:38       D  \n",
       "3             9567  2022-12-25 14:58:37       D  \n",
       "4             7700  2022-05-17 19:52:23       C  \n",
       "..             ...                  ...     ...  \n",
       "895           5429  2023-01-05 16:22:51       C  \n",
       "896           4072  2022-05-31 04:15:45       D  \n",
       "897           8912  2022-09-27 06:15:46       D  \n",
       "898           8012  2022-09-12 17:20:23       F  \n",
       "899           8619  2022-12-16 11:11:48       I  \n",
       "\n",
       "[900 rows x 15 columns]"
      ],
      "text/html": [
       "<div>\n",
       "<style scoped>\n",
       "    .dataframe tbody tr th:only-of-type {\n",
       "        vertical-align: middle;\n",
       "    }\n",
       "\n",
       "    .dataframe tbody tr th {\n",
       "        vertical-align: top;\n",
       "    }\n",
       "\n",
       "    .dataframe thead th {\n",
       "        text-align: right;\n",
       "    }\n",
       "</style>\n",
       "<table border=\"1\" class=\"dataframe\">\n",
       "  <thead>\n",
       "    <tr style=\"text-align: right;\">\n",
       "      <th></th>\n",
       "      <th>loan_id</th>\n",
       "      <th>book_id</th>\n",
       "      <th>student_id</th>\n",
       "      <th>loan_date</th>\n",
       "      <th>return_date</th>\n",
       "      <th>library_id</th>\n",
       "      <th>date_of_birth</th>\n",
       "      <th>major</th>\n",
       "      <th>enrollment_id</th>\n",
       "      <th>course_id</th>\n",
       "      <th>grade_x</th>\n",
       "      <th>submission_id</th>\n",
       "      <th>assignment_id</th>\n",
       "      <th>submission_date</th>\n",
       "      <th>grade_y</th>\n",
       "    </tr>\n",
       "  </thead>\n",
       "  <tbody>\n",
       "    <tr>\n",
       "      <th>0</th>\n",
       "      <td>7244</td>\n",
       "      <td>7510</td>\n",
       "      <td>732</td>\n",
       "      <td>2024-03-26</td>\n",
       "      <td>2025-08-10</td>\n",
       "      <td>1972</td>\n",
       "      <td>2006-01-07</td>\n",
       "      <td>1192</td>\n",
       "      <td>9314</td>\n",
       "      <td>2677</td>\n",
       "      <td>B</td>\n",
       "      <td>1964</td>\n",
       "      <td>678</td>\n",
       "      <td>2022-08-03 08:06:58</td>\n",
       "      <td>D</td>\n",
       "    </tr>\n",
       "    <tr>\n",
       "      <th>1</th>\n",
       "      <td>8855</td>\n",
       "      <td>6542</td>\n",
       "      <td>7602</td>\n",
       "      <td>2023-12-07</td>\n",
       "      <td>2025-05-11</td>\n",
       "      <td>6491</td>\n",
       "      <td>2007-09-23</td>\n",
       "      <td>1080</td>\n",
       "      <td>8839</td>\n",
       "      <td>8821</td>\n",
       "      <td>B</td>\n",
       "      <td>1968</td>\n",
       "      <td>2833</td>\n",
       "      <td>2022-12-29 19:02:51</td>\n",
       "      <td>I</td>\n",
       "    </tr>\n",
       "    <tr>\n",
       "      <th>2</th>\n",
       "      <td>4070</td>\n",
       "      <td>6847</td>\n",
       "      <td>10745</td>\n",
       "      <td>2023-11-27</td>\n",
       "      <td>2025-02-22</td>\n",
       "      <td>9583</td>\n",
       "      <td>2005-12-13</td>\n",
       "      <td>594</td>\n",
       "      <td>7578</td>\n",
       "      <td>-538</td>\n",
       "      <td>D</td>\n",
       "      <td>10890</td>\n",
       "      <td>10352</td>\n",
       "      <td>2022-06-04 04:49:38</td>\n",
       "      <td>D</td>\n",
       "    </tr>\n",
       "    <tr>\n",
       "      <th>3</th>\n",
       "      <td>8658</td>\n",
       "      <td>206</td>\n",
       "      <td>1264</td>\n",
       "      <td>2024-04-17</td>\n",
       "      <td>2025-07-31</td>\n",
       "      <td>9038</td>\n",
       "      <td>2007-09-26</td>\n",
       "      <td>5723</td>\n",
       "      <td>298</td>\n",
       "      <td>2173</td>\n",
       "      <td>C</td>\n",
       "      <td>2412</td>\n",
       "      <td>9567</td>\n",
       "      <td>2022-12-25 14:58:37</td>\n",
       "      <td>D</td>\n",
       "    </tr>\n",
       "    <tr>\n",
       "      <th>4</th>\n",
       "      <td>3224</td>\n",
       "      <td>-155</td>\n",
       "      <td>2759</td>\n",
       "      <td>2023-10-16</td>\n",
       "      <td>2025-06-21</td>\n",
       "      <td>1785</td>\n",
       "      <td>2001-04-25</td>\n",
       "      <td>2575</td>\n",
       "      <td>6985</td>\n",
       "      <td>1862</td>\n",
       "      <td>C</td>\n",
       "      <td>8639</td>\n",
       "      <td>7700</td>\n",
       "      <td>2022-05-17 19:52:23</td>\n",
       "      <td>C</td>\n",
       "    </tr>\n",
       "    <tr>\n",
       "      <th>...</th>\n",
       "      <td>...</td>\n",
       "      <td>...</td>\n",
       "      <td>...</td>\n",
       "      <td>...</td>\n",
       "      <td>...</td>\n",
       "      <td>...</td>\n",
       "      <td>...</td>\n",
       "      <td>...</td>\n",
       "      <td>...</td>\n",
       "      <td>...</td>\n",
       "      <td>...</td>\n",
       "      <td>...</td>\n",
       "      <td>...</td>\n",
       "      <td>...</td>\n",
       "      <td>...</td>\n",
       "    </tr>\n",
       "    <tr>\n",
       "      <th>895</th>\n",
       "      <td>10170</td>\n",
       "      <td>373</td>\n",
       "      <td>481</td>\n",
       "      <td>2024-01-12</td>\n",
       "      <td>2025-06-19</td>\n",
       "      <td>1218</td>\n",
       "      <td>2006-12-30</td>\n",
       "      <td>1079</td>\n",
       "      <td>1477</td>\n",
       "      <td>5461</td>\n",
       "      <td>C</td>\n",
       "      <td>1256</td>\n",
       "      <td>5429</td>\n",
       "      <td>2023-01-05 16:22:51</td>\n",
       "      <td>C</td>\n",
       "    </tr>\n",
       "    <tr>\n",
       "      <th>896</th>\n",
       "      <td>8692</td>\n",
       "      <td>4933</td>\n",
       "      <td>1928</td>\n",
       "      <td>2024-01-21</td>\n",
       "      <td>2025-04-25</td>\n",
       "      <td>10484</td>\n",
       "      <td>2007-08-27</td>\n",
       "      <td>5531</td>\n",
       "      <td>2943</td>\n",
       "      <td>-134</td>\n",
       "      <td>C</td>\n",
       "      <td>7255</td>\n",
       "      <td>4072</td>\n",
       "      <td>2022-05-31 04:15:45</td>\n",
       "      <td>D</td>\n",
       "    </tr>\n",
       "    <tr>\n",
       "      <th>897</th>\n",
       "      <td>10432</td>\n",
       "      <td>5499</td>\n",
       "      <td>8605</td>\n",
       "      <td>2024-10-12</td>\n",
       "      <td>2025-07-13</td>\n",
       "      <td>8838</td>\n",
       "      <td>2000-03-06</td>\n",
       "      <td>5724</td>\n",
       "      <td>8202</td>\n",
       "      <td>3278</td>\n",
       "      <td>B</td>\n",
       "      <td>4985</td>\n",
       "      <td>8912</td>\n",
       "      <td>2022-09-27 06:15:46</td>\n",
       "      <td>D</td>\n",
       "    </tr>\n",
       "    <tr>\n",
       "      <th>898</th>\n",
       "      <td>9042</td>\n",
       "      <td>8086</td>\n",
       "      <td>4074</td>\n",
       "      <td>2024-01-27</td>\n",
       "      <td>2025-07-04</td>\n",
       "      <td>4829</td>\n",
       "      <td>2003-02-19</td>\n",
       "      <td>6799</td>\n",
       "      <td>5148</td>\n",
       "      <td>4762</td>\n",
       "      <td>D</td>\n",
       "      <td>9738</td>\n",
       "      <td>8012</td>\n",
       "      <td>2022-09-12 17:20:23</td>\n",
       "      <td>F</td>\n",
       "    </tr>\n",
       "    <tr>\n",
       "      <th>899</th>\n",
       "      <td>10467</td>\n",
       "      <td>4922</td>\n",
       "      <td>9888</td>\n",
       "      <td>2024-02-15</td>\n",
       "      <td>2025-03-27</td>\n",
       "      <td>7524</td>\n",
       "      <td>2003-02-17</td>\n",
       "      <td>2158</td>\n",
       "      <td>7202</td>\n",
       "      <td>8416</td>\n",
       "      <td>A</td>\n",
       "      <td>3614</td>\n",
       "      <td>8619</td>\n",
       "      <td>2022-12-16 11:11:48</td>\n",
       "      <td>I</td>\n",
       "    </tr>\n",
       "  </tbody>\n",
       "</table>\n",
       "<p>900 rows × 15 columns</p>\n",
       "</div>"
      ]
     },
     "execution_count": 18,
     "metadata": {},
     "output_type": "execute_result"
    }
   ],
   "execution_count": 18
  },
  {
   "metadata": {
    "ExecuteTime": {
     "end_time": "2024-10-09T15:00:25.999975Z",
     "start_time": "2024-10-09T15:00:25.984945Z"
    }
   },
   "cell_type": "code",
   "source": "",
   "outputs": [],
   "execution_count": 18
  }
 ],
 "metadata": {
  "kernelspec": {
   "display_name": "sdg10",
   "language": "python",
   "name": "python3"
  },
  "language_info": {
   "codemirror_mode": {
    "name": "ipython",
    "version": 3
   },
   "file_extension": ".py",
   "mimetype": "text/x-python",
   "name": "python",
   "nbconvert_exporter": "python",
   "pygments_lexer": "ipython3",
   "version": "3.10.14"
  }
 },
 "nbformat": 4,
 "nbformat_minor": 2
}
