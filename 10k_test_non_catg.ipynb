{
 "cells": [
  {
   "metadata": {
    "ExecuteTime": {
     "end_time": "2024-10-09T06:41:54.025733Z",
     "start_time": "2024-10-09T06:41:51.867518Z"
    }
   },
   "cell_type": "code",
   "source": [
    "from mycode.test_20_tables import fetch_data_from_sqlite, Metadata as sdvMetadata\n",
    "from sdgx.data_connectors.csv_connector import CsvConnector\n",
    "from sdgx.models.ml.single_table.ctgan import CTGANSynthesizerModel\n",
    "from sdgx.synthesizer import Synthesizer\n",
    "import time\n",
    "def writetime():\n",
    "    st = time.time()\n",
    "    with open(\"time.log\", \"a+\") as f:\n",
    "        f.write(str(st) + \"\\n\")"
   ],
   "outputs": [],
   "execution_count": 1
  },
  {
   "metadata": {},
   "cell_type": "markdown",
   "source": "构造数据"
  },
  {
   "cell_type": "code",
   "metadata": {
    "ExecuteTime": {
     "end_time": "2024-10-09T06:41:54.293227Z",
     "start_time": "2024-10-09T06:41:54.026619Z"
    }
   },
   "source": [
    "metadata, tables = fetch_data_from_sqlite(path='./mycode/data_sqlite.db')\n",
    "metadata = sdvMetadata(metadata)\n",
    "metadata.get_tables()\n",
    "import pandas as pd\n",
    "result_table = tables[\"BookLoan\"]\n",
    "x_table = [\"Book\", \"Library\", \"Student\", \"Enrollment\", \"Submission\"]\n",
    "x_key = ['book_id', \"library_id\", \"student_id\", \"student_id\",\"student_id\"]\n",
    "x_how = ['inner' for i in range(5)]\n",
    "print(f\"{len(result_table)=}\")\n",
    "for i, x_table_name in enumerate(x_table):\n",
    "    result_table = pd.merge(result_table, tables[x_table_name], on=x_key[i], how=x_how[i])\n",
    "    print(f\"{len(result_table)}\", end=\" \")\n",
    "print(len(result_table.columns))\n",
    "#result_table"
   ],
   "outputs": [
    {
     "name": "stdout",
     "output_type": "stream",
     "text": [
      "len(result_table)=10000\n",
      "10000 10000 10000 9999 10798 23\n"
     ]
    }
   ],
   "execution_count": 2
  },
  {
   "cell_type": "code",
   "metadata": {
    "ExecuteTime": {
     "end_time": "2024-10-09T06:41:54.308827Z",
     "start_time": "2024-10-09T06:41:54.294227Z"
    }
   },
   "source": [
    "result_table = result_table.drop(columns=[\"title\", \"author\", \"name_x\", \"semester\", \"location\", \"name_y\", \"email\"])"
   ],
   "outputs": [],
   "execution_count": 3
  },
  {
   "cell_type": "code",
   "metadata": {
    "ExecuteTime": {
     "end_time": "2024-10-09T06:41:54.323771Z",
     "start_time": "2024-10-09T06:41:54.309847Z"
    }
   },
   "source": [
    "result_table = result_table.drop(columns=[\"isbn\"])"
   ],
   "outputs": [],
   "execution_count": 4
  },
  {
   "cell_type": "code",
   "metadata": {
    "ExecuteTime": {
     "end_time": "2024-10-09T06:41:54.339732Z",
     "start_time": "2024-10-09T06:41:54.324768Z"
    }
   },
   "source": "# result_table = result_table.drop(columns=[\"grade_x\", \"grade_y\"])",
   "outputs": [],
   "execution_count": 5
  },
  {
   "cell_type": "code",
   "metadata": {
    "ExecuteTime": {
     "end_time": "2024-10-09T06:41:54.355726Z",
     "start_time": "2024-10-09T06:41:54.340740Z"
    }
   },
   "source": "# result_table.head()",
   "outputs": [],
   "execution_count": 6
  },
  {
   "metadata": {
    "ExecuteTime": {
     "end_time": "2024-10-09T06:41:54.371696Z",
     "start_time": "2024-10-09T06:41:54.356699Z"
    }
   },
   "cell_type": "code",
   "source": [
    "# result_table = result_table[:100]\n",
    "result_table"
   ],
   "outputs": [
    {
     "data": {
      "text/plain": [
       "       loan_id  book_id  student_id   loan_date return_date  library_id  \\\n",
       "0            1        1        5068  2024-07-19  2025-07-30           1   \n",
       "1            1        1        5068  2024-07-19  2025-07-30           1   \n",
       "2            1        1        5068  2024-07-19  2025-07-30           1   \n",
       "3            1        1        5068  2024-07-19  2025-07-30           1   \n",
       "4            1        1        5068  2024-07-19  2025-07-30           1   \n",
       "...        ...      ...         ...         ...         ...         ...   \n",
       "10793     9998     9998        3486  2024-01-14  2024-12-09        9998   \n",
       "10794     9998     9998        3486  2024-01-14  2024-12-09        9998   \n",
       "10795     9998     9998        3486  2024-01-14  2024-12-09        9998   \n",
       "10796     9999     9999        2281  2023-12-28  2025-08-23        9999   \n",
       "10797     9999     9999        2281  2023-12-28  2025-08-23        9999   \n",
       "\n",
       "      date_of_birth major  enrollment_id  course_id grade_x  submission_id  \\\n",
       "0        2003-01-27  1262           5758       9618       C           2462   \n",
       "1        2003-01-27  1262           5758       9618       C           3984   \n",
       "2        2003-01-27  1262           5758       9618       C           7851   \n",
       "3        2003-01-27  1262           9382       5777       A           2462   \n",
       "4        2003-01-27  1262           9382       5777       A           3984   \n",
       "...             ...   ...            ...        ...     ...            ...   \n",
       "10793    2000-08-21  8143           3450       6477       F           8054   \n",
       "10794    2000-08-21  8143           3757       4480    None            578   \n",
       "10795    2000-08-21  8143           3757       4480    None           8054   \n",
       "10796    1996-11-30  1005           9064       7483       B           9247   \n",
       "10797    1996-11-30  1005           9064       7483       B          10387   \n",
       "\n",
       "       assignment_id      submission_date grade_y  \n",
       "0               9937  2022-10-18 02:02:31       B  \n",
       "1               4403  2022-11-15 20:13:23       I  \n",
       "2               6252  2022-07-31 08:44:12       A  \n",
       "3               9937  2022-10-18 02:02:31       B  \n",
       "4               4403  2022-11-15 20:13:23       I  \n",
       "...              ...                  ...     ...  \n",
       "10793           1227  2022-09-20 01:25:41       C  \n",
       "10794           6739  2022-11-01 16:39:13       A  \n",
       "10795           1227  2022-09-20 01:25:41       C  \n",
       "10796           1546  2022-08-05 15:48:08       B  \n",
       "10797           2291  2022-04-15 09:37:00       F  \n",
       "\n",
       "[10798 rows x 15 columns]"
      ],
      "text/html": [
       "<div>\n",
       "<style scoped>\n",
       "    .dataframe tbody tr th:only-of-type {\n",
       "        vertical-align: middle;\n",
       "    }\n",
       "\n",
       "    .dataframe tbody tr th {\n",
       "        vertical-align: top;\n",
       "    }\n",
       "\n",
       "    .dataframe thead th {\n",
       "        text-align: right;\n",
       "    }\n",
       "</style>\n",
       "<table border=\"1\" class=\"dataframe\">\n",
       "  <thead>\n",
       "    <tr style=\"text-align: right;\">\n",
       "      <th></th>\n",
       "      <th>loan_id</th>\n",
       "      <th>book_id</th>\n",
       "      <th>student_id</th>\n",
       "      <th>loan_date</th>\n",
       "      <th>return_date</th>\n",
       "      <th>library_id</th>\n",
       "      <th>date_of_birth</th>\n",
       "      <th>major</th>\n",
       "      <th>enrollment_id</th>\n",
       "      <th>course_id</th>\n",
       "      <th>grade_x</th>\n",
       "      <th>submission_id</th>\n",
       "      <th>assignment_id</th>\n",
       "      <th>submission_date</th>\n",
       "      <th>grade_y</th>\n",
       "    </tr>\n",
       "  </thead>\n",
       "  <tbody>\n",
       "    <tr>\n",
       "      <th>0</th>\n",
       "      <td>1</td>\n",
       "      <td>1</td>\n",
       "      <td>5068</td>\n",
       "      <td>2024-07-19</td>\n",
       "      <td>2025-07-30</td>\n",
       "      <td>1</td>\n",
       "      <td>2003-01-27</td>\n",
       "      <td>1262</td>\n",
       "      <td>5758</td>\n",
       "      <td>9618</td>\n",
       "      <td>C</td>\n",
       "      <td>2462</td>\n",
       "      <td>9937</td>\n",
       "      <td>2022-10-18 02:02:31</td>\n",
       "      <td>B</td>\n",
       "    </tr>\n",
       "    <tr>\n",
       "      <th>1</th>\n",
       "      <td>1</td>\n",
       "      <td>1</td>\n",
       "      <td>5068</td>\n",
       "      <td>2024-07-19</td>\n",
       "      <td>2025-07-30</td>\n",
       "      <td>1</td>\n",
       "      <td>2003-01-27</td>\n",
       "      <td>1262</td>\n",
       "      <td>5758</td>\n",
       "      <td>9618</td>\n",
       "      <td>C</td>\n",
       "      <td>3984</td>\n",
       "      <td>4403</td>\n",
       "      <td>2022-11-15 20:13:23</td>\n",
       "      <td>I</td>\n",
       "    </tr>\n",
       "    <tr>\n",
       "      <th>2</th>\n",
       "      <td>1</td>\n",
       "      <td>1</td>\n",
       "      <td>5068</td>\n",
       "      <td>2024-07-19</td>\n",
       "      <td>2025-07-30</td>\n",
       "      <td>1</td>\n",
       "      <td>2003-01-27</td>\n",
       "      <td>1262</td>\n",
       "      <td>5758</td>\n",
       "      <td>9618</td>\n",
       "      <td>C</td>\n",
       "      <td>7851</td>\n",
       "      <td>6252</td>\n",
       "      <td>2022-07-31 08:44:12</td>\n",
       "      <td>A</td>\n",
       "    </tr>\n",
       "    <tr>\n",
       "      <th>3</th>\n",
       "      <td>1</td>\n",
       "      <td>1</td>\n",
       "      <td>5068</td>\n",
       "      <td>2024-07-19</td>\n",
       "      <td>2025-07-30</td>\n",
       "      <td>1</td>\n",
       "      <td>2003-01-27</td>\n",
       "      <td>1262</td>\n",
       "      <td>9382</td>\n",
       "      <td>5777</td>\n",
       "      <td>A</td>\n",
       "      <td>2462</td>\n",
       "      <td>9937</td>\n",
       "      <td>2022-10-18 02:02:31</td>\n",
       "      <td>B</td>\n",
       "    </tr>\n",
       "    <tr>\n",
       "      <th>4</th>\n",
       "      <td>1</td>\n",
       "      <td>1</td>\n",
       "      <td>5068</td>\n",
       "      <td>2024-07-19</td>\n",
       "      <td>2025-07-30</td>\n",
       "      <td>1</td>\n",
       "      <td>2003-01-27</td>\n",
       "      <td>1262</td>\n",
       "      <td>9382</td>\n",
       "      <td>5777</td>\n",
       "      <td>A</td>\n",
       "      <td>3984</td>\n",
       "      <td>4403</td>\n",
       "      <td>2022-11-15 20:13:23</td>\n",
       "      <td>I</td>\n",
       "    </tr>\n",
       "    <tr>\n",
       "      <th>...</th>\n",
       "      <td>...</td>\n",
       "      <td>...</td>\n",
       "      <td>...</td>\n",
       "      <td>...</td>\n",
       "      <td>...</td>\n",
       "      <td>...</td>\n",
       "      <td>...</td>\n",
       "      <td>...</td>\n",
       "      <td>...</td>\n",
       "      <td>...</td>\n",
       "      <td>...</td>\n",
       "      <td>...</td>\n",
       "      <td>...</td>\n",
       "      <td>...</td>\n",
       "      <td>...</td>\n",
       "    </tr>\n",
       "    <tr>\n",
       "      <th>10793</th>\n",
       "      <td>9998</td>\n",
       "      <td>9998</td>\n",
       "      <td>3486</td>\n",
       "      <td>2024-01-14</td>\n",
       "      <td>2024-12-09</td>\n",
       "      <td>9998</td>\n",
       "      <td>2000-08-21</td>\n",
       "      <td>8143</td>\n",
       "      <td>3450</td>\n",
       "      <td>6477</td>\n",
       "      <td>F</td>\n",
       "      <td>8054</td>\n",
       "      <td>1227</td>\n",
       "      <td>2022-09-20 01:25:41</td>\n",
       "      <td>C</td>\n",
       "    </tr>\n",
       "    <tr>\n",
       "      <th>10794</th>\n",
       "      <td>9998</td>\n",
       "      <td>9998</td>\n",
       "      <td>3486</td>\n",
       "      <td>2024-01-14</td>\n",
       "      <td>2024-12-09</td>\n",
       "      <td>9998</td>\n",
       "      <td>2000-08-21</td>\n",
       "      <td>8143</td>\n",
       "      <td>3757</td>\n",
       "      <td>4480</td>\n",
       "      <td>None</td>\n",
       "      <td>578</td>\n",
       "      <td>6739</td>\n",
       "      <td>2022-11-01 16:39:13</td>\n",
       "      <td>A</td>\n",
       "    </tr>\n",
       "    <tr>\n",
       "      <th>10795</th>\n",
       "      <td>9998</td>\n",
       "      <td>9998</td>\n",
       "      <td>3486</td>\n",
       "      <td>2024-01-14</td>\n",
       "      <td>2024-12-09</td>\n",
       "      <td>9998</td>\n",
       "      <td>2000-08-21</td>\n",
       "      <td>8143</td>\n",
       "      <td>3757</td>\n",
       "      <td>4480</td>\n",
       "      <td>None</td>\n",
       "      <td>8054</td>\n",
       "      <td>1227</td>\n",
       "      <td>2022-09-20 01:25:41</td>\n",
       "      <td>C</td>\n",
       "    </tr>\n",
       "    <tr>\n",
       "      <th>10796</th>\n",
       "      <td>9999</td>\n",
       "      <td>9999</td>\n",
       "      <td>2281</td>\n",
       "      <td>2023-12-28</td>\n",
       "      <td>2025-08-23</td>\n",
       "      <td>9999</td>\n",
       "      <td>1996-11-30</td>\n",
       "      <td>1005</td>\n",
       "      <td>9064</td>\n",
       "      <td>7483</td>\n",
       "      <td>B</td>\n",
       "      <td>9247</td>\n",
       "      <td>1546</td>\n",
       "      <td>2022-08-05 15:48:08</td>\n",
       "      <td>B</td>\n",
       "    </tr>\n",
       "    <tr>\n",
       "      <th>10797</th>\n",
       "      <td>9999</td>\n",
       "      <td>9999</td>\n",
       "      <td>2281</td>\n",
       "      <td>2023-12-28</td>\n",
       "      <td>2025-08-23</td>\n",
       "      <td>9999</td>\n",
       "      <td>1996-11-30</td>\n",
       "      <td>1005</td>\n",
       "      <td>9064</td>\n",
       "      <td>7483</td>\n",
       "      <td>B</td>\n",
       "      <td>10387</td>\n",
       "      <td>2291</td>\n",
       "      <td>2022-04-15 09:37:00</td>\n",
       "      <td>F</td>\n",
       "    </tr>\n",
       "  </tbody>\n",
       "</table>\n",
       "<p>10798 rows × 15 columns</p>\n",
       "</div>"
      ]
     },
     "execution_count": 7,
     "metadata": {},
     "output_type": "execute_result"
    }
   ],
   "execution_count": 7
  },
  {
   "metadata": {
    "ExecuteTime": {
     "end_time": "2024-10-09T06:41:54.386566Z",
     "start_time": "2024-10-09T06:41:54.372573Z"
    }
   },
   "cell_type": "code",
   "source": [
    "result_table[\"test1\"] = result_table[\"student_id\"]\n",
    "result_table[\"test2\"] = result_table[\"library_id\"]\n",
    "result_table[\"test3\"] = result_table[\"student_id\"]\n",
    "result_table[\"test4\"] = result_table[\"book_id\"]\n",
    "result_table[\"test5\"] = result_table.index\n",
    "result_table = result_table.drop(columns=['date_of_birth',\n",
    " 'grade_x',\n",
    " 'grade_y',\n",
    " 'loan_date',\n",
    " 'return_date',\n",
    " 'submission_date'])"
   ],
   "outputs": [],
   "execution_count": 8
  },
  {
   "metadata": {},
   "cell_type": "markdown",
   "source": "检查metadata"
  },
  {
   "cell_type": "code",
   "metadata": {
    "ExecuteTime": {
     "end_time": "2024-10-09T06:41:54.932734Z",
     "start_time": "2024-10-09T06:41:54.387559Z"
    }
   },
   "source": [
    "from sdgx.data_loader import DataLoader\n",
    "from sdgx.data_models.metadata import Metadata\n",
    "\n",
    "result_table.to_csv(\"test_10k_noncat.csv\", index=False)\n",
    "dataset_csv = \"test_10k_noncat.csv\"\n",
    "data_connector = CsvConnector(path=dataset_csv)\n",
    "data_loader = DataLoader(data_connector)\n",
    "loan_metadata = Metadata.from_dataloader(data_loader)\n",
    "\n",
    "loan_metadata.discrete_columns"
   ],
   "outputs": [
    {
     "name": "stderr",
     "output_type": "stream",
     "text": [
      "\u001B[32m2024-10-09 14:41:54.426\u001B[0m | \u001B[1mINFO    \u001B[0m | \u001B[36msdgx.data_models.metadata\u001B[0m:\u001B[36mfrom_dataloader\u001B[0m:\u001B[36m294\u001B[0m - \u001B[1mInspecting metadata...\u001B[0m\n",
      "\u001B[32m2024-10-09 14:41:54.442\u001B[0m | \u001B[34m\u001B[1mDEBUG   \u001B[0m | \u001B[36msdgx.manager\u001B[0m:\u001B[36mregister\u001B[0m:\u001B[36m99\u001B[0m - \u001B[34m\u001B[1mRegister for new model: subsetrelationshipinspector\u001B[0m\n",
      "\u001B[32m2024-10-09 14:41:54.442\u001B[0m | \u001B[34m\u001B[1mDEBUG   \u001B[0m | \u001B[36msdgx.manager\u001B[0m:\u001B[36mregister\u001B[0m:\u001B[36m99\u001B[0m - \u001B[34m\u001B[1mRegister for new model: emailinspector\u001B[0m\n",
      "\u001B[32m2024-10-09 14:41:54.443\u001B[0m | \u001B[34m\u001B[1mDEBUG   \u001B[0m | \u001B[36msdgx.manager\u001B[0m:\u001B[36mregister\u001B[0m:\u001B[36m99\u001B[0m - \u001B[34m\u001B[1mRegister for new model: chinamainlandidinspector\u001B[0m\n",
      "\u001B[32m2024-10-09 14:41:54.443\u001B[0m | \u001B[34m\u001B[1mDEBUG   \u001B[0m | \u001B[36msdgx.manager\u001B[0m:\u001B[36mregister\u001B[0m:\u001B[36m99\u001B[0m - \u001B[34m\u001B[1mRegister for new model: chinamainlandmobilephoneinspector\u001B[0m\n",
      "\u001B[32m2024-10-09 14:41:54.444\u001B[0m | \u001B[34m\u001B[1mDEBUG   \u001B[0m | \u001B[36msdgx.manager\u001B[0m:\u001B[36mregister\u001B[0m:\u001B[36m99\u001B[0m - \u001B[34m\u001B[1mRegister for new model: chinamainlandpostcode\u001B[0m\n",
      "\u001B[32m2024-10-09 14:41:54.444\u001B[0m | \u001B[34m\u001B[1mDEBUG   \u001B[0m | \u001B[36msdgx.manager\u001B[0m:\u001B[36mregister\u001B[0m:\u001B[36m99\u001B[0m - \u001B[34m\u001B[1mRegister for new model: chinamainlandunifiedsocialcreditcode\u001B[0m\n",
      "\u001B[32m2024-10-09 14:41:54.444\u001B[0m | \u001B[34m\u001B[1mDEBUG   \u001B[0m | \u001B[36msdgx.manager\u001B[0m:\u001B[36mregister\u001B[0m:\u001B[36m99\u001B[0m - \u001B[34m\u001B[1mRegister for new model: chinamainlandaddressinspector\u001B[0m\n",
      "\u001B[32m2024-10-09 14:41:54.445\u001B[0m | \u001B[34m\u001B[1mDEBUG   \u001B[0m | \u001B[36msdgx.manager\u001B[0m:\u001B[36mregister\u001B[0m:\u001B[36m99\u001B[0m - \u001B[34m\u001B[1mRegister for new model: chinesenameinspector\u001B[0m\n",
      "\u001B[32m2024-10-09 14:41:54.445\u001B[0m | \u001B[34m\u001B[1mDEBUG   \u001B[0m | \u001B[36msdgx.manager\u001B[0m:\u001B[36mregister\u001B[0m:\u001B[36m99\u001B[0m - \u001B[34m\u001B[1mRegister for new model: englishnameinspector\u001B[0m\n",
      "\u001B[32m2024-10-09 14:41:54.446\u001B[0m | \u001B[34m\u001B[1mDEBUG   \u001B[0m | \u001B[36msdgx.manager\u001B[0m:\u001B[36mregister\u001B[0m:\u001B[36m99\u001B[0m - \u001B[34m\u001B[1mRegister for new model: chinesecompanynameinspector\u001B[0m\n",
      "\u001B[32m2024-10-09 14:41:54.446\u001B[0m | \u001B[34m\u001B[1mDEBUG   \u001B[0m | \u001B[36msdgx.manager\u001B[0m:\u001B[36mregister\u001B[0m:\u001B[36m99\u001B[0m - \u001B[34m\u001B[1mRegister for new model: numericinspector\u001B[0m\n",
      "\u001B[32m2024-10-09 14:41:54.446\u001B[0m | \u001B[34m\u001B[1mDEBUG   \u001B[0m | \u001B[36msdgx.manager\u001B[0m:\u001B[36mregister\u001B[0m:\u001B[36m99\u001B[0m - \u001B[34m\u001B[1mRegister for new model: idinspector\u001B[0m\n",
      "\u001B[32m2024-10-09 14:41:54.447\u001B[0m | \u001B[34m\u001B[1mDEBUG   \u001B[0m | \u001B[36msdgx.manager\u001B[0m:\u001B[36mregister\u001B[0m:\u001B[36m99\u001B[0m - \u001B[34m\u001B[1mRegister for new model: emptyinspector\u001B[0m\n",
      "\u001B[32m2024-10-09 14:41:54.447\u001B[0m | \u001B[34m\u001B[1mDEBUG   \u001B[0m | \u001B[36msdgx.manager\u001B[0m:\u001B[36mregister\u001B[0m:\u001B[36m99\u001B[0m - \u001B[34m\u001B[1mRegister for new model: discreteinspector\u001B[0m\n",
      "\u001B[32m2024-10-09 14:41:54.448\u001B[0m | \u001B[34m\u001B[1mDEBUG   \u001B[0m | \u001B[36msdgx.manager\u001B[0m:\u001B[36mregister\u001B[0m:\u001B[36m99\u001B[0m - \u001B[34m\u001B[1mRegister for new model: datetimeinspector\u001B[0m\n",
      "\u001B[32m2024-10-09 14:41:54.448\u001B[0m | \u001B[34m\u001B[1mDEBUG   \u001B[0m | \u001B[36msdgx.manager\u001B[0m:\u001B[36mregister\u001B[0m:\u001B[36m99\u001B[0m - \u001B[34m\u001B[1mRegister for new model: constinspector\u001B[0m\n",
      "\u001B[32m2024-10-09 14:41:54.448\u001B[0m | \u001B[34m\u001B[1mDEBUG   \u001B[0m | \u001B[36msdgx.manager\u001B[0m:\u001B[36mregister\u001B[0m:\u001B[36m99\u001B[0m - \u001B[34m\u001B[1mRegister for new model: boolinspector\u001B[0m\n",
      "\u001B[32m2024-10-09 14:41:54.914\u001B[0m | \u001B[1mINFO    \u001B[0m | \u001B[36msdgx.data_models.metadata\u001B[0m:\u001B[36mupdate_primary_key\u001B[0m:\u001B[36m503\u001B[0m - \u001B[1mPrimary Key updated: {'test5'}.\u001B[0m\n"
     ]
    },
    {
     "data": {
      "text/plain": [
       "set()"
      ]
     },
     "execution_count": 9,
     "metadata": {},
     "output_type": "execute_result"
    }
   ],
   "execution_count": 9
  },
  {
   "metadata": {
    "ExecuteTime": {
     "end_time": "2024-10-09T06:41:54.948687Z",
     "start_time": "2024-10-09T06:41:54.933717Z"
    }
   },
   "cell_type": "code",
   "source": "loan_metadata.datetime_columns",
   "outputs": [
    {
     "data": {
      "text/plain": [
       "set()"
      ]
     },
     "execution_count": 10,
     "metadata": {},
     "output_type": "execute_result"
    }
   ],
   "execution_count": 10
  },
  {
   "cell_type": "code",
   "metadata": {
    "ExecuteTime": {
     "end_time": "2024-10-09T06:41:54.964677Z",
     "start_time": "2024-10-09T06:41:54.949672Z"
    }
   },
   "source": [
    "\n",
    "loan_metadata.column_list.__len__()"
   ],
   "outputs": [
    {
     "data": {
      "text/plain": [
       "14"
      ]
     },
     "execution_count": 11,
     "metadata": {},
     "output_type": "execute_result"
    }
   ],
   "execution_count": 11
  },
  {
   "metadata": {
    "ExecuteTime": {
     "end_time": "2024-10-09T06:41:54.980578Z",
     "start_time": "2024-10-09T06:41:54.965640Z"
    }
   },
   "cell_type": "code",
   "source": [
    "loan_metadata.datetime_format = {\n",
    "    key: \"%Y-%m-%d\" for key in loan_metadata.datetime_columns if key != \"submission_date\"\n",
    "}\n",
    "loan_metadata.datetime_format[\"submission_date\"] = \"%Y-%m-%d %H:%M:%S\"\n",
    "loan_metadata.datetime_format"
   ],
   "outputs": [
    {
     "data": {
      "text/plain": [
       "{'submission_date': '%Y-%m-%d %H:%M:%S'}"
      ]
     },
     "execution_count": 12,
     "metadata": {},
     "output_type": "execute_result"
    }
   ],
   "execution_count": 12
  },
  {
   "metadata": {
    "ExecuteTime": {
     "end_time": "2024-10-09T06:41:54.996516Z",
     "start_time": "2024-10-09T06:41:54.981581Z"
    }
   },
   "cell_type": "code",
   "source": [
    "loan_metadata.column_encoder = {\n",
    "    \"grade_x\": \"label\",\n",
    "    \"grade_y\": \"label\"\n",
    "}"
   ],
   "outputs": [],
   "execution_count": 13
  },
  {
   "metadata": {
    "ExecuteTime": {
     "end_time": "2024-10-09T06:41:55.011591Z",
     "start_time": "2024-10-09T06:41:54.998526Z"
    }
   },
   "cell_type": "code",
   "source": [
    "loan_metadata.discrete_columns = set([])\n",
    "set([\n",
    "    key for key in loan_metadata.discrete_columns if key not in loan_metadata.datetime_columns\n",
    "])\n",
    "loan_metadata.label_columns.add(\"grade_x\")\n",
    "loan_metadata.label_columns.add(\"grade_y\")\n",
    "print(loan_metadata.label_columns)\n",
    "print(loan_metadata.int_columns)"
   ],
   "outputs": [
    {
     "name": "stdout",
     "output_type": "stream",
     "text": [
      "{'grade_y', 'grade_x'}\n",
      "{'major', 'test2', 'test3', 'test4', 'test5', 'loan_id', 'library_id', 'book_id', 'student_id', 'submission_id', 'assignment_id', 'enrollment_id', 'course_id', 'test1'}\n"
     ]
    }
   ],
   "execution_count": 14
  },
  {
   "metadata": {},
   "cell_type": "markdown",
   "source": "训练"
  },
  {
   "cell_type": "code",
   "metadata": {
    "ExecuteTime": {
     "end_time": "2024-10-09T06:42:08.844912Z",
     "start_time": "2024-10-09T06:41:55.013410Z"
    }
   },
   "source": [
    "\n",
    "\n",
    "ctgan = CTGANSynthesizerModel(\n",
    "        epochs=1,\n",
    "        batch_size=500,\n",
    "        # device=\"cpu\"\n",
    "    )\n",
    "# Initialize synthesizer, use CTGAN model\n",
    "synthesizer = Synthesizer(\n",
    "    metadata=loan_metadata,\n",
    "    model=ctgan,  # For quick demo\n",
    "    data_connector=data_connector,\n",
    ")\n",
    "\n",
    "\n",
    "writetime()\n",
    "synthesizer.fit()\n",
    "writetime()\n",
    "#synthesizer.save(\"test_model_10k_id10\")"
   ],
   "outputs": [
    {
     "name": "stderr",
     "output_type": "stream",
     "text": [
      "\u001B[32m2024-10-09 14:41:55.159\u001B[0m | \u001B[34m\u001B[1mDEBUG   \u001B[0m | \u001B[36msdgx.manager\u001B[0m:\u001B[36mregister\u001B[0m:\u001B[36m99\u001B[0m - \u001B[34m\u001B[1mRegister for new model: outliertransformer\u001B[0m\n",
      "\u001B[32m2024-10-09 14:41:55.160\u001B[0m | \u001B[34m\u001B[1mDEBUG   \u001B[0m | \u001B[36msdgx.manager\u001B[0m:\u001B[36mregister\u001B[0m:\u001B[36m99\u001B[0m - \u001B[34m\u001B[1mRegister for new model: numericvaluetransformer\u001B[0m\n",
      "\u001B[32m2024-10-09 14:41:55.160\u001B[0m | \u001B[34m\u001B[1mDEBUG   \u001B[0m | \u001B[36msdgx.manager\u001B[0m:\u001B[36mregister\u001B[0m:\u001B[36m99\u001B[0m - \u001B[34m\u001B[1mRegister for new model: nonvaluetransformer\u001B[0m\n",
      "\u001B[32m2024-10-09 14:41:55.161\u001B[0m | \u001B[34m\u001B[1mDEBUG   \u001B[0m | \u001B[36msdgx.manager\u001B[0m:\u001B[36mregister\u001B[0m:\u001B[36m99\u001B[0m - \u001B[34m\u001B[1mRegister for new model: emptytransformer\u001B[0m\n",
      "\u001B[32m2024-10-09 14:41:55.161\u001B[0m | \u001B[34m\u001B[1mDEBUG   \u001B[0m | \u001B[36msdgx.manager\u001B[0m:\u001B[36mregister\u001B[0m:\u001B[36m99\u001B[0m - \u001B[34m\u001B[1mRegister for new model: constvaluetransformer\u001B[0m\n",
      "\u001B[32m2024-10-09 14:41:55.162\u001B[0m | \u001B[34m\u001B[1mDEBUG   \u001B[0m | \u001B[36msdgx.manager\u001B[0m:\u001B[36mregister\u001B[0m:\u001B[36m99\u001B[0m - \u001B[34m\u001B[1mRegister for new model: columnordertransformer\u001B[0m\n",
      "\u001B[32m2024-10-09 14:41:55.162\u001B[0m | \u001B[34m\u001B[1mDEBUG   \u001B[0m | \u001B[36msdgx.manager\u001B[0m:\u001B[36mregister\u001B[0m:\u001B[36m99\u001B[0m - \u001B[34m\u001B[1mRegister for new model: emailgenerator\u001B[0m\n",
      "\u001B[32m2024-10-09 14:41:55.162\u001B[0m | \u001B[34m\u001B[1mDEBUG   \u001B[0m | \u001B[36msdgx.manager\u001B[0m:\u001B[36mregister\u001B[0m:\u001B[36m99\u001B[0m - \u001B[34m\u001B[1mRegister for new model: chnpiigenerator\u001B[0m\n",
      "\u001B[32m2024-10-09 14:41:55.163\u001B[0m | \u001B[34m\u001B[1mDEBUG   \u001B[0m | \u001B[36msdgx.manager\u001B[0m:\u001B[36mregister\u001B[0m:\u001B[36m99\u001B[0m - \u001B[34m\u001B[1mRegister for new model: intvalueformatter\u001B[0m\n",
      "\u001B[32m2024-10-09 14:41:55.164\u001B[0m | \u001B[34m\u001B[1mDEBUG   \u001B[0m | \u001B[36msdgx.manager\u001B[0m:\u001B[36mregister\u001B[0m:\u001B[36m99\u001B[0m - \u001B[34m\u001B[1mRegister for new model: datetimeformatter\u001B[0m\n",
      "\u001B[32m2024-10-09 14:41:55.164\u001B[0m | \u001B[1mINFO    \u001B[0m | \u001B[36msdgx.synthesizer\u001B[0m:\u001B[36m__init__\u001B[0m:\u001B[36m106\u001B[0m - \u001B[1mUsing data processors: ['nonvaluetransformer', 'outliertransformer', 'emailgenerator', 'chnpiigenerator', 'intvalueformatter', 'datetimeformatter', 'constvaluetransformer', 'emptytransformer', 'columnordertransformer']\u001B[0m\n",
      "\u001B[32m2024-10-09 14:41:55.188\u001B[0m | \u001B[1mINFO    \u001B[0m | \u001B[36msdgx.synthesizer\u001B[0m:\u001B[36mfit\u001B[0m:\u001B[36m296\u001B[0m - \u001B[1mFitting data processors...\u001B[0m\n",
      "\u001B[32m2024-10-09 14:41:55.226\u001B[0m | \u001B[1mINFO    \u001B[0m | \u001B[36msdgx.data_processors.transformers.nan\u001B[0m:\u001B[36mfit\u001B[0m:\u001B[36m71\u001B[0m - \u001B[1mNonValueTransformer Fitted.\u001B[0m\n",
      "\u001B[32m2024-10-09 14:41:55.227\u001B[0m | \u001B[1mINFO    \u001B[0m | \u001B[36msdgx.data_processors.transformers.nan\u001B[0m:\u001B[36mfit\u001B[0m:\u001B[36m87\u001B[0m - \u001B[1mNonValueTransformer get int columns: {'major', 'test2', 'test3', 'test4', 'loan_id', 'library_id', 'book_id', 'student_id', 'submission_id', 'assignment_id', 'enrollment_id', 'course_id', 'test1'}.\u001B[0m\n",
      "\u001B[32m2024-10-09 14:41:55.227\u001B[0m | \u001B[1mINFO    \u001B[0m | \u001B[36msdgx.data_processors.transformers.nan\u001B[0m:\u001B[36mfit\u001B[0m:\u001B[36m96\u001B[0m - \u001B[1mNonValueTransformer get float columns: set().\u001B[0m\n",
      "\u001B[32m2024-10-09 14:41:55.227\u001B[0m | \u001B[1mINFO    \u001B[0m | \u001B[36msdgx.data_processors.transformers.nan\u001B[0m:\u001B[36mfit\u001B[0m:\u001B[36m101\u001B[0m - \u001B[1mNonValueTransformer get column list from metadata: ['loan_id', 'book_id', 'student_id', 'library_id', 'major', 'enrollment_id', 'course_id', 'submission_id', 'assignment_id', 'test1', 'test2', 'test3', 'test4', 'test5'].\u001B[0m\n",
      "\u001B[32m2024-10-09 14:41:55.228\u001B[0m | \u001B[1mINFO    \u001B[0m | \u001B[36msdgx.data_processors.transformers.outlier\u001B[0m:\u001B[36mfit\u001B[0m:\u001B[36m70\u001B[0m - \u001B[1mOutlierTransformer Fitted.\u001B[0m\n",
      "\u001B[32m2024-10-09 14:41:55.229\u001B[0m | \u001B[1mINFO    \u001B[0m | \u001B[36msdgx.data_processors.formatters.int\u001B[0m:\u001B[36mfit\u001B[0m:\u001B[36m40\u001B[0m - \u001B[1mIntValueFormatter Fitted.\u001B[0m\n",
      "\u001B[32m2024-10-09 14:41:55.229\u001B[0m | \u001B[1mINFO    \u001B[0m | \u001B[36msdgx.data_processors.formatters.datetime\u001B[0m:\u001B[36mfit\u001B[0m:\u001B[36m77\u001B[0m - \u001B[1mDatetimeFormatter Fitted.\u001B[0m\n",
      "\u001B[32m2024-10-09 14:41:55.230\u001B[0m | \u001B[1mINFO    \u001B[0m | \u001B[36msdgx.data_processors.transformers.const\u001B[0m:\u001B[36mfit\u001B[0m:\u001B[36m49\u001B[0m - \u001B[1mConstValueTransformer Fitted.\u001B[0m\n",
      "\u001B[32m2024-10-09 14:41:55.231\u001B[0m | \u001B[1mINFO    \u001B[0m | \u001B[36msdgx.data_processors.transformers.empty\u001B[0m:\u001B[36mfit\u001B[0m:\u001B[36m54\u001B[0m - \u001B[1mEmptyTransformer Fitted.\u001B[0m\n",
      "\u001B[32m2024-10-09 14:41:55.231\u001B[0m | \u001B[1mINFO    \u001B[0m | \u001B[36msdgx.data_processors.transformers.column_order\u001B[0m:\u001B[36mfit\u001B[0m:\u001B[36m41\u001B[0m - \u001B[1mColumnOrderTransformer Fitted.\u001B[0m\n",
      "\u001B[32m2024-10-09 14:41:55.231\u001B[0m | \u001B[1mINFO    \u001B[0m | \u001B[36msdgx.synthesizer\u001B[0m:\u001B[36mfit\u001B[0m:\u001B[36m305\u001B[0m - \u001B[1mFitted 9 data processors in  0.005066394805908203s.\u001B[0m\n",
      "\u001B[32m2024-10-09 14:41:55.232\u001B[0m | \u001B[1mINFO    \u001B[0m | \u001B[36msdgx.synthesizer\u001B[0m:\u001B[36mfit\u001B[0m:\u001B[36m315\u001B[0m - \u001B[1mInitializing processed data loader...\u001B[0m\n",
      "\u001B[32m2024-10-09 14:41:55.246\u001B[0m | \u001B[1mINFO    \u001B[0m | \u001B[36msdgx.data_processors.transformers.nan\u001B[0m:\u001B[36mconvert\u001B[0m:\u001B[36m110\u001B[0m - \u001B[1mConverting data using NonValueTransformer...\u001B[0m\n",
      "\u001B[32m2024-10-09 14:41:55.249\u001B[0m | \u001B[1mINFO    \u001B[0m | \u001B[36msdgx.data_processors.transformers.nan\u001B[0m:\u001B[36mconvert\u001B[0m:\u001B[36m130\u001B[0m - \u001B[1mConverting data using NonValueTransformer... Finished.\u001B[0m\n",
      "\u001B[32m2024-10-09 14:41:55.249\u001B[0m | \u001B[1mINFO    \u001B[0m | \u001B[36msdgx.data_processors.transformers.outlier\u001B[0m:\u001B[36mconvert\u001B[0m:\u001B[36m84\u001B[0m - \u001B[1mConverting data using OutlierTransformer...\u001B[0m\n",
      "\u001B[32m2024-10-09 14:41:55.277\u001B[0m | \u001B[1mINFO    \u001B[0m | \u001B[36msdgx.data_processors.transformers.outlier\u001B[0m:\u001B[36mconvert\u001B[0m:\u001B[36m106\u001B[0m - \u001B[1mConverting data using OutlierTransformer... Finished.\u001B[0m\n",
      "\u001B[32m2024-10-09 14:41:55.278\u001B[0m | \u001B[1mINFO    \u001B[0m | \u001B[36msdgx.data_processors.formatters.int\u001B[0m:\u001B[36mconvert\u001B[0m:\u001B[36m50\u001B[0m - \u001B[1mConverting data using IntValueFormatter... Finished  (No Action).\u001B[0m\n",
      "\u001B[32m2024-10-09 14:41:55.278\u001B[0m | \u001B[1mINFO    \u001B[0m | \u001B[36msdgx.data_processors.formatters.datetime\u001B[0m:\u001B[36mconvert\u001B[0m:\u001B[36m89\u001B[0m - \u001B[1mConverting data using DatetimeFormatter... Finished (No datetime columns).\u001B[0m\n",
      "\u001B[32m2024-10-09 14:41:55.279\u001B[0m | \u001B[1mINFO    \u001B[0m | \u001B[36msdgx.data_processors.transformers.const\u001B[0m:\u001B[36mconvert\u001B[0m:\u001B[36m69\u001B[0m - \u001B[1mConverting data using ConstValueTransformer...\u001B[0m\n",
      "\u001B[32m2024-10-09 14:41:55.280\u001B[0m | \u001B[1mINFO    \u001B[0m | \u001B[36msdgx.data_processors.transformers.const\u001B[0m:\u001B[36mconvert\u001B[0m:\u001B[36m77\u001B[0m - \u001B[1mConverting data using ConstValueTransformer... Finished.\u001B[0m\n",
      "\u001B[32m2024-10-09 14:41:55.280\u001B[0m | \u001B[1mINFO    \u001B[0m | \u001B[36msdgx.data_processors.transformers.empty\u001B[0m:\u001B[36mconvert\u001B[0m:\u001B[36m72\u001B[0m - \u001B[1mConverting data using EmptyTransformer...\u001B[0m\n",
      "\u001B[32m2024-10-09 14:41:55.281\u001B[0m | \u001B[1mINFO    \u001B[0m | \u001B[36msdgx.data_processors.transformers.empty\u001B[0m:\u001B[36mconvert\u001B[0m:\u001B[36m76\u001B[0m - \u001B[1mConverting data using EmptyTransformer... Finished (No action).\u001B[0m\n",
      "\u001B[32m2024-10-09 14:41:55.281\u001B[0m | \u001B[1mINFO    \u001B[0m | \u001B[36msdgx.data_processors.transformers.column_order\u001B[0m:\u001B[36mconvert\u001B[0m:\u001B[36m51\u001B[0m - \u001B[1mConverting data using ColumnOrderTransformer...\u001B[0m\n",
      "\u001B[32m2024-10-09 14:41:55.281\u001B[0m | \u001B[1mINFO    \u001B[0m | \u001B[36msdgx.data_processors.transformers.column_order\u001B[0m:\u001B[36mconvert\u001B[0m:\u001B[36m52\u001B[0m - \u001B[1mConverting data using ColumnOrderTransformer... Finished (No action).\u001B[0m\n",
      "\u001B[32m2024-10-09 14:41:55.292\u001B[0m | \u001B[1mINFO    \u001B[0m | \u001B[36msdgx.data_processors.transformers.nan\u001B[0m:\u001B[36mconvert\u001B[0m:\u001B[36m110\u001B[0m - \u001B[1mConverting data using NonValueTransformer...\u001B[0m\n",
      "\u001B[32m2024-10-09 14:41:55.294\u001B[0m | \u001B[1mINFO    \u001B[0m | \u001B[36msdgx.data_processors.transformers.nan\u001B[0m:\u001B[36mconvert\u001B[0m:\u001B[36m130\u001B[0m - \u001B[1mConverting data using NonValueTransformer... Finished.\u001B[0m\n",
      "\u001B[32m2024-10-09 14:41:55.294\u001B[0m | \u001B[1mINFO    \u001B[0m | \u001B[36msdgx.data_processors.transformers.outlier\u001B[0m:\u001B[36mconvert\u001B[0m:\u001B[36m84\u001B[0m - \u001B[1mConverting data using OutlierTransformer...\u001B[0m\n",
      "\u001B[32m2024-10-09 14:41:55.298\u001B[0m | \u001B[1mINFO    \u001B[0m | \u001B[36msdgx.data_processors.transformers.outlier\u001B[0m:\u001B[36mconvert\u001B[0m:\u001B[36m106\u001B[0m - \u001B[1mConverting data using OutlierTransformer... Finished.\u001B[0m\n",
      "\u001B[32m2024-10-09 14:41:55.298\u001B[0m | \u001B[1mINFO    \u001B[0m | \u001B[36msdgx.data_processors.formatters.int\u001B[0m:\u001B[36mconvert\u001B[0m:\u001B[36m50\u001B[0m - \u001B[1mConverting data using IntValueFormatter... Finished  (No Action).\u001B[0m\n",
      "\u001B[32m2024-10-09 14:41:55.299\u001B[0m | \u001B[1mINFO    \u001B[0m | \u001B[36msdgx.data_processors.formatters.datetime\u001B[0m:\u001B[36mconvert\u001B[0m:\u001B[36m89\u001B[0m - \u001B[1mConverting data using DatetimeFormatter... Finished (No datetime columns).\u001B[0m\n",
      "\u001B[32m2024-10-09 14:41:55.300\u001B[0m | \u001B[1mINFO    \u001B[0m | \u001B[36msdgx.data_processors.transformers.const\u001B[0m:\u001B[36mconvert\u001B[0m:\u001B[36m69\u001B[0m - \u001B[1mConverting data using ConstValueTransformer...\u001B[0m\n",
      "\u001B[32m2024-10-09 14:41:55.300\u001B[0m | \u001B[1mINFO    \u001B[0m | \u001B[36msdgx.data_processors.transformers.const\u001B[0m:\u001B[36mconvert\u001B[0m:\u001B[36m77\u001B[0m - \u001B[1mConverting data using ConstValueTransformer... Finished.\u001B[0m\n",
      "\u001B[32m2024-10-09 14:41:55.301\u001B[0m | \u001B[1mINFO    \u001B[0m | \u001B[36msdgx.data_processors.transformers.empty\u001B[0m:\u001B[36mconvert\u001B[0m:\u001B[36m72\u001B[0m - \u001B[1mConverting data using EmptyTransformer...\u001B[0m\n",
      "\u001B[32m2024-10-09 14:41:55.301\u001B[0m | \u001B[1mINFO    \u001B[0m | \u001B[36msdgx.data_processors.transformers.empty\u001B[0m:\u001B[36mconvert\u001B[0m:\u001B[36m76\u001B[0m - \u001B[1mConverting data using EmptyTransformer... Finished (No action).\u001B[0m\n",
      "\u001B[32m2024-10-09 14:41:55.301\u001B[0m | \u001B[1mINFO    \u001B[0m | \u001B[36msdgx.data_processors.transformers.column_order\u001B[0m:\u001B[36mconvert\u001B[0m:\u001B[36m51\u001B[0m - \u001B[1mConverting data using ColumnOrderTransformer...\u001B[0m\n",
      "\u001B[32m2024-10-09 14:41:55.301\u001B[0m | \u001B[1mINFO    \u001B[0m | \u001B[36msdgx.data_processors.transformers.column_order\u001B[0m:\u001B[36mconvert\u001B[0m:\u001B[36m52\u001B[0m - \u001B[1mConverting data using ColumnOrderTransformer... Finished (No action).\u001B[0m\n",
      "\u001B[32m2024-10-09 14:41:55.307\u001B[0m | \u001B[1mINFO    \u001B[0m | \u001B[36msdgx.synthesizer\u001B[0m:\u001B[36mfit\u001B[0m:\u001B[36m322\u001B[0m - \u001B[1mInitialized processed data loader in 0.07469487190246582s\u001B[0m\n",
      "\u001B[32m2024-10-09 14:41:55.308\u001B[0m | \u001B[1mINFO    \u001B[0m | \u001B[36msdgx.synthesizer\u001B[0m:\u001B[36mfit\u001B[0m:\u001B[36m324\u001B[0m - \u001B[1mModel fit Started...\u001B[0m\n",
      "\u001B[32m2024-10-09 14:41:55.311\u001B[0m | \u001B[1mINFO    \u001B[0m | \u001B[36msdgx.data_processors.transformers.nan\u001B[0m:\u001B[36mconvert\u001B[0m:\u001B[36m110\u001B[0m - \u001B[1mConverting data using NonValueTransformer...\u001B[0m\n",
      "\u001B[32m2024-10-09 14:41:55.313\u001B[0m | \u001B[1mINFO    \u001B[0m | \u001B[36msdgx.data_processors.transformers.nan\u001B[0m:\u001B[36mconvert\u001B[0m:\u001B[36m130\u001B[0m - \u001B[1mConverting data using NonValueTransformer... Finished.\u001B[0m\n",
      "\u001B[32m2024-10-09 14:41:55.313\u001B[0m | \u001B[1mINFO    \u001B[0m | \u001B[36msdgx.data_processors.transformers.outlier\u001B[0m:\u001B[36mconvert\u001B[0m:\u001B[36m84\u001B[0m - \u001B[1mConverting data using OutlierTransformer...\u001B[0m\n",
      "\u001B[32m2024-10-09 14:41:55.351\u001B[0m | \u001B[1mINFO    \u001B[0m | \u001B[36msdgx.data_processors.transformers.outlier\u001B[0m:\u001B[36mconvert\u001B[0m:\u001B[36m106\u001B[0m - \u001B[1mConverting data using OutlierTransformer... Finished.\u001B[0m\n",
      "\u001B[32m2024-10-09 14:41:55.352\u001B[0m | \u001B[1mINFO    \u001B[0m | \u001B[36msdgx.data_processors.formatters.int\u001B[0m:\u001B[36mconvert\u001B[0m:\u001B[36m50\u001B[0m - \u001B[1mConverting data using IntValueFormatter... Finished  (No Action).\u001B[0m\n",
      "\u001B[32m2024-10-09 14:41:55.352\u001B[0m | \u001B[1mINFO    \u001B[0m | \u001B[36msdgx.data_processors.formatters.datetime\u001B[0m:\u001B[36mconvert\u001B[0m:\u001B[36m89\u001B[0m - \u001B[1mConverting data using DatetimeFormatter... Finished (No datetime columns).\u001B[0m\n",
      "\u001B[32m2024-10-09 14:41:55.354\u001B[0m | \u001B[1mINFO    \u001B[0m | \u001B[36msdgx.data_processors.transformers.const\u001B[0m:\u001B[36mconvert\u001B[0m:\u001B[36m69\u001B[0m - \u001B[1mConverting data using ConstValueTransformer...\u001B[0m\n",
      "\u001B[32m2024-10-09 14:41:55.354\u001B[0m | \u001B[1mINFO    \u001B[0m | \u001B[36msdgx.data_processors.transformers.const\u001B[0m:\u001B[36mconvert\u001B[0m:\u001B[36m77\u001B[0m - \u001B[1mConverting data using ConstValueTransformer... Finished.\u001B[0m\n",
      "\u001B[32m2024-10-09 14:41:55.355\u001B[0m | \u001B[1mINFO    \u001B[0m | \u001B[36msdgx.data_processors.transformers.empty\u001B[0m:\u001B[36mconvert\u001B[0m:\u001B[36m72\u001B[0m - \u001B[1mConverting data using EmptyTransformer...\u001B[0m\n",
      "\u001B[32m2024-10-09 14:41:55.355\u001B[0m | \u001B[1mINFO    \u001B[0m | \u001B[36msdgx.data_processors.transformers.empty\u001B[0m:\u001B[36mconvert\u001B[0m:\u001B[36m76\u001B[0m - \u001B[1mConverting data using EmptyTransformer... Finished (No action).\u001B[0m\n",
      "\u001B[32m2024-10-09 14:41:55.356\u001B[0m | \u001B[1mINFO    \u001B[0m | \u001B[36msdgx.data_processors.transformers.column_order\u001B[0m:\u001B[36mconvert\u001B[0m:\u001B[36m51\u001B[0m - \u001B[1mConverting data using ColumnOrderTransformer...\u001B[0m\n",
      "\u001B[32m2024-10-09 14:41:55.356\u001B[0m | \u001B[1mINFO    \u001B[0m | \u001B[36msdgx.data_processors.transformers.column_order\u001B[0m:\u001B[36mconvert\u001B[0m:\u001B[36m52\u001B[0m - \u001B[1mConverting data using ColumnOrderTransformer... Finished (No action).\u001B[0m\n",
      "\u001B[32m2024-10-09 14:41:55.357\u001B[0m | \u001B[1mINFO    \u001B[0m | \u001B[36msdgx.models.ml.single_table.ctgan\u001B[0m:\u001B[36m_pre_fit\u001B[0m:\u001B[36m248\u001B[0m - \u001B[1mFitting model's transformer...\u001B[0m\n",
      "\u001B[32m2024-10-09 14:41:55.366\u001B[0m | \u001B[1mINFO    \u001B[0m | \u001B[36msdgx.data_processors.transformers.nan\u001B[0m:\u001B[36mconvert\u001B[0m:\u001B[36m110\u001B[0m - \u001B[1mConverting data using NonValueTransformer...\u001B[0m\n",
      "\u001B[32m2024-10-09 14:41:55.368\u001B[0m | \u001B[1mINFO    \u001B[0m | \u001B[36msdgx.data_processors.transformers.nan\u001B[0m:\u001B[36mconvert\u001B[0m:\u001B[36m130\u001B[0m - \u001B[1mConverting data using NonValueTransformer... Finished.\u001B[0m\n",
      "\u001B[32m2024-10-09 14:41:55.369\u001B[0m | \u001B[1mINFO    \u001B[0m | \u001B[36msdgx.data_processors.transformers.outlier\u001B[0m:\u001B[36mconvert\u001B[0m:\u001B[36m84\u001B[0m - \u001B[1mConverting data using OutlierTransformer...\u001B[0m\n",
      "\u001B[32m2024-10-09 14:41:55.399\u001B[0m | \u001B[1mINFO    \u001B[0m | \u001B[36msdgx.data_processors.transformers.outlier\u001B[0m:\u001B[36mconvert\u001B[0m:\u001B[36m106\u001B[0m - \u001B[1mConverting data using OutlierTransformer... Finished.\u001B[0m\n",
      "\u001B[32m2024-10-09 14:41:55.399\u001B[0m | \u001B[1mINFO    \u001B[0m | \u001B[36msdgx.data_processors.formatters.int\u001B[0m:\u001B[36mconvert\u001B[0m:\u001B[36m50\u001B[0m - \u001B[1mConverting data using IntValueFormatter... Finished  (No Action).\u001B[0m\n",
      "\u001B[32m2024-10-09 14:41:55.400\u001B[0m | \u001B[1mINFO    \u001B[0m | \u001B[36msdgx.data_processors.formatters.datetime\u001B[0m:\u001B[36mconvert\u001B[0m:\u001B[36m89\u001B[0m - \u001B[1mConverting data using DatetimeFormatter... Finished (No datetime columns).\u001B[0m\n",
      "\u001B[32m2024-10-09 14:41:55.401\u001B[0m | \u001B[1mINFO    \u001B[0m | \u001B[36msdgx.data_processors.transformers.const\u001B[0m:\u001B[36mconvert\u001B[0m:\u001B[36m69\u001B[0m - \u001B[1mConverting data using ConstValueTransformer...\u001B[0m\n",
      "\u001B[32m2024-10-09 14:41:55.402\u001B[0m | \u001B[1mINFO    \u001B[0m | \u001B[36msdgx.data_processors.transformers.const\u001B[0m:\u001B[36mconvert\u001B[0m:\u001B[36m77\u001B[0m - \u001B[1mConverting data using ConstValueTransformer... Finished.\u001B[0m\n",
      "\u001B[32m2024-10-09 14:41:55.402\u001B[0m | \u001B[1mINFO    \u001B[0m | \u001B[36msdgx.data_processors.transformers.empty\u001B[0m:\u001B[36mconvert\u001B[0m:\u001B[36m72\u001B[0m - \u001B[1mConverting data using EmptyTransformer...\u001B[0m\n",
      "\u001B[32m2024-10-09 14:41:55.402\u001B[0m | \u001B[1mINFO    \u001B[0m | \u001B[36msdgx.data_processors.transformers.empty\u001B[0m:\u001B[36mconvert\u001B[0m:\u001B[36m76\u001B[0m - \u001B[1mConverting data using EmptyTransformer... Finished (No action).\u001B[0m\n",
      "\u001B[32m2024-10-09 14:41:55.403\u001B[0m | \u001B[1mINFO    \u001B[0m | \u001B[36msdgx.data_processors.transformers.column_order\u001B[0m:\u001B[36mconvert\u001B[0m:\u001B[36m51\u001B[0m - \u001B[1mConverting data using ColumnOrderTransformer...\u001B[0m\n",
      "\u001B[32m2024-10-09 14:41:55.403\u001B[0m | \u001B[1mINFO    \u001B[0m | \u001B[36msdgx.data_processors.transformers.column_order\u001B[0m:\u001B[36mconvert\u001B[0m:\u001B[36m52\u001B[0m - \u001B[1mConverting data using ColumnOrderTransformer... Finished (No action).\u001B[0m\n"
     ]
    },
    {
     "data": {
      "text/plain": [
       "Preparing data:   0%|          | 0/14 [00:00<?, ?it/s]"
      ],
      "application/vnd.jupyter.widget-view+json": {
       "version_major": 2,
       "version_minor": 0,
       "model_id": "e3ca668bf8074832a332e3362a5337ef"
      }
     },
     "metadata": {},
     "output_type": "display_data"
    },
    {
     "name": "stderr",
     "output_type": "stream",
     "text": [
      "\u001B[32m2024-10-09 14:41:55.408\u001B[0m | \u001B[34m\u001B[1mDEBUG   \u001B[0m | \u001B[36msdgx.models.components.optimize.sdv_ctgan.data_transformer\u001B[0m:\u001B[36mfit\u001B[0m:\u001B[36m126\u001B[0m - \u001B[34m\u001B[1mFitting continuous column loan_id...\u001B[0m\n",
      "\u001B[32m2024-10-09 14:41:56.081\u001B[0m | \u001B[34m\u001B[1mDEBUG   \u001B[0m | \u001B[36msdgx.models.components.optimize.sdv_ctgan.data_transformer\u001B[0m:\u001B[36mfit\u001B[0m:\u001B[36m126\u001B[0m - \u001B[34m\u001B[1mFitting continuous column book_id...\u001B[0m\n",
      "\u001B[32m2024-10-09 14:41:56.593\u001B[0m | \u001B[34m\u001B[1mDEBUG   \u001B[0m | \u001B[36msdgx.models.components.optimize.sdv_ctgan.data_transformer\u001B[0m:\u001B[36mfit\u001B[0m:\u001B[36m126\u001B[0m - \u001B[34m\u001B[1mFitting continuous column student_id...\u001B[0m\n",
      "\u001B[32m2024-10-09 14:41:57.097\u001B[0m | \u001B[34m\u001B[1mDEBUG   \u001B[0m | \u001B[36msdgx.models.components.optimize.sdv_ctgan.data_transformer\u001B[0m:\u001B[36mfit\u001B[0m:\u001B[36m126\u001B[0m - \u001B[34m\u001B[1mFitting continuous column library_id...\u001B[0m\n",
      "\u001B[32m2024-10-09 14:41:57.611\u001B[0m | \u001B[34m\u001B[1mDEBUG   \u001B[0m | \u001B[36msdgx.models.components.optimize.sdv_ctgan.data_transformer\u001B[0m:\u001B[36mfit\u001B[0m:\u001B[36m126\u001B[0m - \u001B[34m\u001B[1mFitting continuous column major...\u001B[0m\n",
      "\u001B[32m2024-10-09 14:41:58.118\u001B[0m | \u001B[34m\u001B[1mDEBUG   \u001B[0m | \u001B[36msdgx.models.components.optimize.sdv_ctgan.data_transformer\u001B[0m:\u001B[36mfit\u001B[0m:\u001B[36m126\u001B[0m - \u001B[34m\u001B[1mFitting continuous column enrollment_id...\u001B[0m\n",
      "\u001B[32m2024-10-09 14:41:58.608\u001B[0m | \u001B[34m\u001B[1mDEBUG   \u001B[0m | \u001B[36msdgx.models.components.optimize.sdv_ctgan.data_transformer\u001B[0m:\u001B[36mfit\u001B[0m:\u001B[36m126\u001B[0m - \u001B[34m\u001B[1mFitting continuous column course_id...\u001B[0m\n",
      "\u001B[32m2024-10-09 14:41:59.094\u001B[0m | \u001B[34m\u001B[1mDEBUG   \u001B[0m | \u001B[36msdgx.models.components.optimize.sdv_ctgan.data_transformer\u001B[0m:\u001B[36mfit\u001B[0m:\u001B[36m126\u001B[0m - \u001B[34m\u001B[1mFitting continuous column submission_id...\u001B[0m\n",
      "\u001B[32m2024-10-09 14:41:59.600\u001B[0m | \u001B[34m\u001B[1mDEBUG   \u001B[0m | \u001B[36msdgx.models.components.optimize.sdv_ctgan.data_transformer\u001B[0m:\u001B[36mfit\u001B[0m:\u001B[36m126\u001B[0m - \u001B[34m\u001B[1mFitting continuous column assignment_id...\u001B[0m\n",
      "\u001B[32m2024-10-09 14:42:00.107\u001B[0m | \u001B[34m\u001B[1mDEBUG   \u001B[0m | \u001B[36msdgx.models.components.optimize.sdv_ctgan.data_transformer\u001B[0m:\u001B[36mfit\u001B[0m:\u001B[36m126\u001B[0m - \u001B[34m\u001B[1mFitting continuous column test1...\u001B[0m\n",
      "\u001B[32m2024-10-09 14:42:00.616\u001B[0m | \u001B[34m\u001B[1mDEBUG   \u001B[0m | \u001B[36msdgx.models.components.optimize.sdv_ctgan.data_transformer\u001B[0m:\u001B[36mfit\u001B[0m:\u001B[36m126\u001B[0m - \u001B[34m\u001B[1mFitting continuous column test2...\u001B[0m\n",
      "\u001B[32m2024-10-09 14:42:01.141\u001B[0m | \u001B[34m\u001B[1mDEBUG   \u001B[0m | \u001B[36msdgx.models.components.optimize.sdv_ctgan.data_transformer\u001B[0m:\u001B[36mfit\u001B[0m:\u001B[36m126\u001B[0m - \u001B[34m\u001B[1mFitting continuous column test3...\u001B[0m\n",
      "\u001B[32m2024-10-09 14:42:01.645\u001B[0m | \u001B[34m\u001B[1mDEBUG   \u001B[0m | \u001B[36msdgx.models.components.optimize.sdv_ctgan.data_transformer\u001B[0m:\u001B[36mfit\u001B[0m:\u001B[36m126\u001B[0m - \u001B[34m\u001B[1mFitting continuous column test4...\u001B[0m\n",
      "\u001B[32m2024-10-09 14:42:02.147\u001B[0m | \u001B[34m\u001B[1mDEBUG   \u001B[0m | \u001B[36msdgx.models.components.optimize.sdv_ctgan.data_transformer\u001B[0m:\u001B[36mfit\u001B[0m:\u001B[36m126\u001B[0m - \u001B[34m\u001B[1mFitting continuous column test5...\u001B[0m\n",
      "\u001B[32m2024-10-09 14:42:02.666\u001B[0m | \u001B[1mINFO    \u001B[0m | \u001B[36msdgx.models.ml.single_table.ctgan\u001B[0m:\u001B[36m_pre_fit\u001B[0m:\u001B[36m250\u001B[0m - \u001B[1mTransforming data...\u001B[0m\n",
      "\u001B[32m2024-10-09 14:42:02.674\u001B[0m | \u001B[1mINFO    \u001B[0m | \u001B[36msdgx.data_processors.transformers.nan\u001B[0m:\u001B[36mconvert\u001B[0m:\u001B[36m110\u001B[0m - \u001B[1mConverting data using NonValueTransformer...\u001B[0m\n",
      "\u001B[32m2024-10-09 14:42:02.676\u001B[0m | \u001B[1mINFO    \u001B[0m | \u001B[36msdgx.data_processors.transformers.nan\u001B[0m:\u001B[36mconvert\u001B[0m:\u001B[36m130\u001B[0m - \u001B[1mConverting data using NonValueTransformer... Finished.\u001B[0m\n",
      "\u001B[32m2024-10-09 14:42:02.677\u001B[0m | \u001B[1mINFO    \u001B[0m | \u001B[36msdgx.data_processors.transformers.outlier\u001B[0m:\u001B[36mconvert\u001B[0m:\u001B[36m84\u001B[0m - \u001B[1mConverting data using OutlierTransformer...\u001B[0m\n",
      "\u001B[32m2024-10-09 14:42:02.707\u001B[0m | \u001B[1mINFO    \u001B[0m | \u001B[36msdgx.data_processors.transformers.outlier\u001B[0m:\u001B[36mconvert\u001B[0m:\u001B[36m106\u001B[0m - \u001B[1mConverting data using OutlierTransformer... Finished.\u001B[0m\n",
      "\u001B[32m2024-10-09 14:42:02.708\u001B[0m | \u001B[1mINFO    \u001B[0m | \u001B[36msdgx.data_processors.formatters.int\u001B[0m:\u001B[36mconvert\u001B[0m:\u001B[36m50\u001B[0m - \u001B[1mConverting data using IntValueFormatter... Finished  (No Action).\u001B[0m\n",
      "\u001B[32m2024-10-09 14:42:02.708\u001B[0m | \u001B[1mINFO    \u001B[0m | \u001B[36msdgx.data_processors.formatters.datetime\u001B[0m:\u001B[36mconvert\u001B[0m:\u001B[36m89\u001B[0m - \u001B[1mConverting data using DatetimeFormatter... Finished (No datetime columns).\u001B[0m\n",
      "\u001B[32m2024-10-09 14:42:02.709\u001B[0m | \u001B[1mINFO    \u001B[0m | \u001B[36msdgx.data_processors.transformers.const\u001B[0m:\u001B[36mconvert\u001B[0m:\u001B[36m69\u001B[0m - \u001B[1mConverting data using ConstValueTransformer...\u001B[0m\n",
      "\u001B[32m2024-10-09 14:42:02.710\u001B[0m | \u001B[1mINFO    \u001B[0m | \u001B[36msdgx.data_processors.transformers.const\u001B[0m:\u001B[36mconvert\u001B[0m:\u001B[36m77\u001B[0m - \u001B[1mConverting data using ConstValueTransformer... Finished.\u001B[0m\n",
      "\u001B[32m2024-10-09 14:42:02.710\u001B[0m | \u001B[1mINFO    \u001B[0m | \u001B[36msdgx.data_processors.transformers.empty\u001B[0m:\u001B[36mconvert\u001B[0m:\u001B[36m72\u001B[0m - \u001B[1mConverting data using EmptyTransformer...\u001B[0m\n",
      "\u001B[32m2024-10-09 14:42:02.710\u001B[0m | \u001B[1mINFO    \u001B[0m | \u001B[36msdgx.data_processors.transformers.empty\u001B[0m:\u001B[36mconvert\u001B[0m:\u001B[36m76\u001B[0m - \u001B[1mConverting data using EmptyTransformer... Finished (No action).\u001B[0m\n",
      "\u001B[32m2024-10-09 14:42:02.710\u001B[0m | \u001B[1mINFO    \u001B[0m | \u001B[36msdgx.data_processors.transformers.column_order\u001B[0m:\u001B[36mconvert\u001B[0m:\u001B[36m51\u001B[0m - \u001B[1mConverting data using ColumnOrderTransformer...\u001B[0m\n",
      "\u001B[32m2024-10-09 14:42:02.711\u001B[0m | \u001B[1mINFO    \u001B[0m | \u001B[36msdgx.data_processors.transformers.column_order\u001B[0m:\u001B[36mconvert\u001B[0m:\u001B[36m52\u001B[0m - \u001B[1mConverting data using ColumnOrderTransformer... Finished (No action).\u001B[0m\n",
      "\u001B[32m2024-10-09 14:42:02.774\u001B[0m | \u001B[33m\u001B[1mWARNING \u001B[0m | \u001B[36msdgx.models.components.optimize.sdv_ctgan.data_transformer\u001B[0m:\u001B[36m_parallel_transform\u001B[0m:\u001B[36m189\u001B[0m - \u001B[33m\u001B[1mUsing generator_unordered in joblib, time to remove this exception!\u001B[0m\n"
     ]
    },
    {
     "data": {
      "text/plain": [
       "Transforming data:   0%|          | 0/14 [00:00<?, ?it/s]"
      ],
      "application/vnd.jupyter.widget-view+json": {
       "version_major": 2,
       "version_minor": 0,
       "model_id": "eb4842172349435c803fc6d4018c0956"
      }
     },
     "metadata": {},
     "output_type": "display_data"
    },
    {
     "name": "stderr",
     "output_type": "stream",
     "text": [
      "\u001B[32m2024-10-09 14:42:07.155\u001B[0m | \u001B[1mINFO    \u001B[0m | \u001B[36msdgx.models.ml.single_table.ctgan\u001B[0m:\u001B[36m_pre_fit\u001B[0m:\u001B[36m253\u001B[0m - \u001B[1mSampling data.\u001B[0m\n",
      "\u001B[32m2024-10-09 14:42:07.156\u001B[0m | \u001B[1mINFO    \u001B[0m | \u001B[36msdgx.models.ml.single_table.ctgan\u001B[0m:\u001B[36m_pre_fit\u001B[0m:\u001B[36m258\u001B[0m - \u001B[1mInitialize Generator.\u001B[0m\n",
      "\u001B[32m2024-10-09 14:42:07.158\u001B[0m | \u001B[1mINFO    \u001B[0m | \u001B[36msdgx.models.ml.single_table.ctgan\u001B[0m:\u001B[36mfit\u001B[0m:\u001B[36m223\u001B[0m - \u001B[1mCTGAN prefit finished, start CTGAN training.\u001B[0m\n",
      "\u001B[32m2024-10-09 14:42:07.158\u001B[0m | \u001B[1mINFO    \u001B[0m | \u001B[36msdgx.models.ml.single_table.ctgan\u001B[0m:\u001B[36m_fit\u001B[0m:\u001B[36m275\u001B[0m - \u001B[1mFit using data_size:10798, data_dim: 154.\u001B[0m\n",
      "\u001B[32m2024-10-09 14:42:07.730\u001B[0m | \u001B[1mINFO    \u001B[0m | \u001B[36msdgx.models.ml.single_table.ctgan\u001B[0m:\u001B[36m_fit\u001B[0m:\u001B[36m301\u001B[0m - \u001B[1mStarting model training, epochs: 1\u001B[0m\n"
     ]
    },
    {
     "data": {
      "text/plain": [
       "  0%|          | 0/10 [00:00<?, ?it/s]"
      ],
      "application/vnd.jupyter.widget-view+json": {
       "version_major": 2,
       "version_minor": 0,
       "model_id": "d7fc3baef50246b48ff18a352653e7fe"
      }
     },
     "metadata": {},
     "output_type": "display_data"
    },
    {
     "name": "stderr",
     "output_type": "stream",
     "text": [
      "\u001B[32m2024-10-09 14:42:08.826\u001B[0m | \u001B[1mINFO    \u001B[0m | \u001B[36msdgx.models.ml.single_table.ctgan\u001B[0m:\u001B[36m_fit\u001B[0m:\u001B[36m382\u001B[0m - \u001B[1mEpoch 1, Loss G: -0.0271, Loss D:  0.0345, Time:  1.0949\u001B[0m\n",
      "\u001B[32m2024-10-09 14:42:08.828\u001B[0m | \u001B[1mINFO    \u001B[0m | \u001B[36msdgx.models.ml.single_table.ctgan\u001B[0m:\u001B[36mfit\u001B[0m:\u001B[36m225\u001B[0m - \u001B[1mCTGAN training finished.\u001B[0m\n",
      "\u001B[32m2024-10-09 14:42:08.829\u001B[0m | \u001B[1mINFO    \u001B[0m | \u001B[36msdgx.synthesizer\u001B[0m:\u001B[36mfit\u001B[0m:\u001B[36m333\u001B[0m - \u001B[1mModel fit... Finished\u001B[0m\n"
     ]
    }
   ],
   "execution_count": 15
  },
  {
   "cell_type": "code",
   "metadata": {
    "ExecuteTime": {
     "end_time": "2024-10-09T06:42:08.891562Z",
     "start_time": "2024-10-09T06:42:08.845905Z"
    }
   },
   "source": "data_res = synthesizer.sample(500)",
   "outputs": [
    {
     "name": "stderr",
     "output_type": "stream",
     "text": [
      "\u001B[32m2024-10-09 14:42:08.847\u001B[0m | \u001B[1mINFO    \u001B[0m | \u001B[36msdgx.synthesizer\u001B[0m:\u001B[36msample\u001B[0m:\u001B[36m357\u001B[0m - \u001B[1mSampling...\u001B[0m\n"
     ]
    },
    {
     "data": {
      "text/plain": [
       "Sampling:   0%|          | 0/500 [00:00<?, ?it/s]"
      ],
      "application/vnd.jupyter.widget-view+json": {
       "version_major": 2,
       "version_minor": 0,
       "model_id": "0728add8b0634d99ad1a3ab02a1762bb"
      }
     },
     "metadata": {},
     "output_type": "display_data"
    },
    {
     "data": {
      "text/plain": [
       "  0%|          | 0/1 [00:00<?, ?it/s]"
      ],
      "application/vnd.jupyter.widget-view+json": {
       "version_major": 2,
       "version_minor": 0,
       "model_id": "40e9df2a11474333bf150ef6d0d4183c"
      }
     },
     "metadata": {},
     "output_type": "display_data"
    },
    {
     "name": "stderr",
     "output_type": "stream",
     "text": [
      "\u001B[32m2024-10-09 14:42:08.883\u001B[0m | \u001B[1mINFO    \u001B[0m | \u001B[36msdgx.data_processors.transformers.nan\u001B[0m:\u001B[36mreverse_convert\u001B[0m:\u001B[36m155\u001B[0m - \u001B[1mData reverse-converted by NonValueTransformer.\u001B[0m\n",
      "\u001B[32m2024-10-09 14:42:08.884\u001B[0m | \u001B[1mINFO    \u001B[0m | \u001B[36msdgx.data_processors.transformers.outlier\u001B[0m:\u001B[36mreverse_convert\u001B[0m:\u001B[36m120\u001B[0m - \u001B[1mData reverse-converted by OutlierTransformer (No Action).\u001B[0m\n",
      "\u001B[32m2024-10-09 14:42:08.885\u001B[0m | \u001B[1mINFO    \u001B[0m | \u001B[36msdgx.data_processors.formatters.int\u001B[0m:\u001B[36mreverse_convert\u001B[0m:\u001B[36m64\u001B[0m - \u001B[1mData reverse-converted by IntValueFormatter.\u001B[0m\n",
      "\u001B[32m2024-10-09 14:42:08.886\u001B[0m | \u001B[1mINFO    \u001B[0m | \u001B[36msdgx.data_processors.formatters.datetime\u001B[0m:\u001B[36mreverse_convert\u001B[0m:\u001B[36m162\u001B[0m - \u001B[1mData reverse-converted by DatetimeFormatter (No datetime columns).\u001B[0m\n",
      "\u001B[32m2024-10-09 14:42:08.886\u001B[0m | \u001B[1mINFO    \u001B[0m | \u001B[36msdgx.data_processors.transformers.const\u001B[0m:\u001B[36mreverse_convert\u001B[0m:\u001B[36m103\u001B[0m - \u001B[1mData reverse-converted by ConstValueTransformer.\u001B[0m\n",
      "\u001B[32m2024-10-09 14:42:08.887\u001B[0m | \u001B[1mINFO    \u001B[0m | \u001B[36msdgx.data_processors.transformers.empty\u001B[0m:\u001B[36mreverse_convert\u001B[0m:\u001B[36m98\u001B[0m - \u001B[1mData reverse-converted by EmptyTransformer.\u001B[0m\n",
      "\u001B[32m2024-10-09 14:42:08.887\u001B[0m | \u001B[1mINFO    \u001B[0m | \u001B[36msdgx.data_processors.transformers.column_order\u001B[0m:\u001B[36mreverse_convert\u001B[0m:\u001B[36m62\u001B[0m - \u001B[1mData reverse-converted by ColumnOrderTransformer.\u001B[0m\n"
     ]
    }
   ],
   "execution_count": 16
  },
  {
   "metadata": {
    "ExecuteTime": {
     "end_time": "2024-10-09T06:42:08.907507Z",
     "start_time": "2024-10-09T06:42:08.894549Z"
    }
   },
   "cell_type": "code",
   "source": "data_res",
   "outputs": [
    {
     "data": {
      "text/plain": [
       "     loan_id  book_id  student_id  library_id  major  enrollment_id  \\\n",
       "0       3492     8244        8207        7011   4173           7665   \n",
       "1       5037     5462        3694        6510   3555           3547   \n",
       "2       1414     6409        3888        2612   5071           7219   \n",
       "3       5535     7624        8867        2207   4826           3745   \n",
       "4        985     3384        4612        1790   4229           9895   \n",
       "..       ...      ...         ...         ...    ...            ...   \n",
       "495     8907     2926        3643        5244   3020           5081   \n",
       "496     5306     6650         209         635   7090           7789   \n",
       "497     7373     5220         722        4861   2369           6504   \n",
       "498      978     4560        1478        3976   4806           6590   \n",
       "499     4394     6418        4933        3736   5615           7632   \n",
       "\n",
       "     course_id  submission_id  assignment_id  test1  test2  test3  test4  \\\n",
       "0           88           4378           1369   3871   5078   5667   2042   \n",
       "1          514          10231           4881   6554   4355   8623   3039   \n",
       "2         2924           1455           5771   4166   3225   2990   4048   \n",
       "3          711           4832            348   4896    -33   4761    639   \n",
       "4         5968           3910           9542   4781   2255   9844   4943   \n",
       "..         ...            ...            ...    ...    ...    ...    ...   \n",
       "495        638           7968           8134   6754   3485   7051   8395   \n",
       "496       2831           1108           8062   2557   3224   7843   8408   \n",
       "497       7303           3247           7567   5235    816   5262   6032   \n",
       "498       5267           1871           2469  10546   8180   5739  10179   \n",
       "499       9389           3950           1009   9109   2690   3495   6432   \n",
       "\n",
       "     test5  \n",
       "0     5716  \n",
       "1     6211  \n",
       "2     8847  \n",
       "3     6616  \n",
       "4     5783  \n",
       "..     ...  \n",
       "495   3292  \n",
       "496   6235  \n",
       "497  10105  \n",
       "498   7470  \n",
       "499   3481  \n",
       "\n",
       "[500 rows x 14 columns]"
      ],
      "text/html": [
       "<div>\n",
       "<style scoped>\n",
       "    .dataframe tbody tr th:only-of-type {\n",
       "        vertical-align: middle;\n",
       "    }\n",
       "\n",
       "    .dataframe tbody tr th {\n",
       "        vertical-align: top;\n",
       "    }\n",
       "\n",
       "    .dataframe thead th {\n",
       "        text-align: right;\n",
       "    }\n",
       "</style>\n",
       "<table border=\"1\" class=\"dataframe\">\n",
       "  <thead>\n",
       "    <tr style=\"text-align: right;\">\n",
       "      <th></th>\n",
       "      <th>loan_id</th>\n",
       "      <th>book_id</th>\n",
       "      <th>student_id</th>\n",
       "      <th>library_id</th>\n",
       "      <th>major</th>\n",
       "      <th>enrollment_id</th>\n",
       "      <th>course_id</th>\n",
       "      <th>submission_id</th>\n",
       "      <th>assignment_id</th>\n",
       "      <th>test1</th>\n",
       "      <th>test2</th>\n",
       "      <th>test3</th>\n",
       "      <th>test4</th>\n",
       "      <th>test5</th>\n",
       "    </tr>\n",
       "  </thead>\n",
       "  <tbody>\n",
       "    <tr>\n",
       "      <th>0</th>\n",
       "      <td>3492</td>\n",
       "      <td>8244</td>\n",
       "      <td>8207</td>\n",
       "      <td>7011</td>\n",
       "      <td>4173</td>\n",
       "      <td>7665</td>\n",
       "      <td>88</td>\n",
       "      <td>4378</td>\n",
       "      <td>1369</td>\n",
       "      <td>3871</td>\n",
       "      <td>5078</td>\n",
       "      <td>5667</td>\n",
       "      <td>2042</td>\n",
       "      <td>5716</td>\n",
       "    </tr>\n",
       "    <tr>\n",
       "      <th>1</th>\n",
       "      <td>5037</td>\n",
       "      <td>5462</td>\n",
       "      <td>3694</td>\n",
       "      <td>6510</td>\n",
       "      <td>3555</td>\n",
       "      <td>3547</td>\n",
       "      <td>514</td>\n",
       "      <td>10231</td>\n",
       "      <td>4881</td>\n",
       "      <td>6554</td>\n",
       "      <td>4355</td>\n",
       "      <td>8623</td>\n",
       "      <td>3039</td>\n",
       "      <td>6211</td>\n",
       "    </tr>\n",
       "    <tr>\n",
       "      <th>2</th>\n",
       "      <td>1414</td>\n",
       "      <td>6409</td>\n",
       "      <td>3888</td>\n",
       "      <td>2612</td>\n",
       "      <td>5071</td>\n",
       "      <td>7219</td>\n",
       "      <td>2924</td>\n",
       "      <td>1455</td>\n",
       "      <td>5771</td>\n",
       "      <td>4166</td>\n",
       "      <td>3225</td>\n",
       "      <td>2990</td>\n",
       "      <td>4048</td>\n",
       "      <td>8847</td>\n",
       "    </tr>\n",
       "    <tr>\n",
       "      <th>3</th>\n",
       "      <td>5535</td>\n",
       "      <td>7624</td>\n",
       "      <td>8867</td>\n",
       "      <td>2207</td>\n",
       "      <td>4826</td>\n",
       "      <td>3745</td>\n",
       "      <td>711</td>\n",
       "      <td>4832</td>\n",
       "      <td>348</td>\n",
       "      <td>4896</td>\n",
       "      <td>-33</td>\n",
       "      <td>4761</td>\n",
       "      <td>639</td>\n",
       "      <td>6616</td>\n",
       "    </tr>\n",
       "    <tr>\n",
       "      <th>4</th>\n",
       "      <td>985</td>\n",
       "      <td>3384</td>\n",
       "      <td>4612</td>\n",
       "      <td>1790</td>\n",
       "      <td>4229</td>\n",
       "      <td>9895</td>\n",
       "      <td>5968</td>\n",
       "      <td>3910</td>\n",
       "      <td>9542</td>\n",
       "      <td>4781</td>\n",
       "      <td>2255</td>\n",
       "      <td>9844</td>\n",
       "      <td>4943</td>\n",
       "      <td>5783</td>\n",
       "    </tr>\n",
       "    <tr>\n",
       "      <th>...</th>\n",
       "      <td>...</td>\n",
       "      <td>...</td>\n",
       "      <td>...</td>\n",
       "      <td>...</td>\n",
       "      <td>...</td>\n",
       "      <td>...</td>\n",
       "      <td>...</td>\n",
       "      <td>...</td>\n",
       "      <td>...</td>\n",
       "      <td>...</td>\n",
       "      <td>...</td>\n",
       "      <td>...</td>\n",
       "      <td>...</td>\n",
       "      <td>...</td>\n",
       "    </tr>\n",
       "    <tr>\n",
       "      <th>495</th>\n",
       "      <td>8907</td>\n",
       "      <td>2926</td>\n",
       "      <td>3643</td>\n",
       "      <td>5244</td>\n",
       "      <td>3020</td>\n",
       "      <td>5081</td>\n",
       "      <td>638</td>\n",
       "      <td>7968</td>\n",
       "      <td>8134</td>\n",
       "      <td>6754</td>\n",
       "      <td>3485</td>\n",
       "      <td>7051</td>\n",
       "      <td>8395</td>\n",
       "      <td>3292</td>\n",
       "    </tr>\n",
       "    <tr>\n",
       "      <th>496</th>\n",
       "      <td>5306</td>\n",
       "      <td>6650</td>\n",
       "      <td>209</td>\n",
       "      <td>635</td>\n",
       "      <td>7090</td>\n",
       "      <td>7789</td>\n",
       "      <td>2831</td>\n",
       "      <td>1108</td>\n",
       "      <td>8062</td>\n",
       "      <td>2557</td>\n",
       "      <td>3224</td>\n",
       "      <td>7843</td>\n",
       "      <td>8408</td>\n",
       "      <td>6235</td>\n",
       "    </tr>\n",
       "    <tr>\n",
       "      <th>497</th>\n",
       "      <td>7373</td>\n",
       "      <td>5220</td>\n",
       "      <td>722</td>\n",
       "      <td>4861</td>\n",
       "      <td>2369</td>\n",
       "      <td>6504</td>\n",
       "      <td>7303</td>\n",
       "      <td>3247</td>\n",
       "      <td>7567</td>\n",
       "      <td>5235</td>\n",
       "      <td>816</td>\n",
       "      <td>5262</td>\n",
       "      <td>6032</td>\n",
       "      <td>10105</td>\n",
       "    </tr>\n",
       "    <tr>\n",
       "      <th>498</th>\n",
       "      <td>978</td>\n",
       "      <td>4560</td>\n",
       "      <td>1478</td>\n",
       "      <td>3976</td>\n",
       "      <td>4806</td>\n",
       "      <td>6590</td>\n",
       "      <td>5267</td>\n",
       "      <td>1871</td>\n",
       "      <td>2469</td>\n",
       "      <td>10546</td>\n",
       "      <td>8180</td>\n",
       "      <td>5739</td>\n",
       "      <td>10179</td>\n",
       "      <td>7470</td>\n",
       "    </tr>\n",
       "    <tr>\n",
       "      <th>499</th>\n",
       "      <td>4394</td>\n",
       "      <td>6418</td>\n",
       "      <td>4933</td>\n",
       "      <td>3736</td>\n",
       "      <td>5615</td>\n",
       "      <td>7632</td>\n",
       "      <td>9389</td>\n",
       "      <td>3950</td>\n",
       "      <td>1009</td>\n",
       "      <td>9109</td>\n",
       "      <td>2690</td>\n",
       "      <td>3495</td>\n",
       "      <td>6432</td>\n",
       "      <td>3481</td>\n",
       "    </tr>\n",
       "  </tbody>\n",
       "</table>\n",
       "<p>500 rows × 14 columns</p>\n",
       "</div>"
      ]
     },
     "execution_count": 17,
     "metadata": {},
     "output_type": "execute_result"
    }
   ],
   "execution_count": 17
  },
  {
   "metadata": {
    "ExecuteTime": {
     "end_time": "2024-10-09T06:42:08.923453Z",
     "start_time": "2024-10-09T06:42:08.908503Z"
    }
   },
   "cell_type": "code",
   "source": "",
   "outputs": [],
   "execution_count": 17
  }
 ],
 "metadata": {
  "kernelspec": {
   "display_name": "sdg10",
   "language": "python",
   "name": "python3"
  },
  "language_info": {
   "codemirror_mode": {
    "name": "ipython",
    "version": 3
   },
   "file_extension": ".py",
   "mimetype": "text/x-python",
   "name": "python",
   "nbconvert_exporter": "python",
   "pygments_lexer": "ipython3",
   "version": "3.10.14"
  }
 },
 "nbformat": 4,
 "nbformat_minor": 2
}
