{
 "cells": [
  {
   "metadata": {},
   "cell_type": "code",
   "source": "from mycode.common import *",
   "outputs": [],
   "execution_count": null
  },
  {
   "metadata": {},
   "cell_type": "markdown",
   "source": "构造数据"
  },
  {
   "cell_type": "code",
   "metadata": {},
   "source": [
    "metadata, tables = fetch_data_from_sqlite(path='./mycode/data_sqlite.db')\n",
    "metadata = sdvMetadata(metadata)\n",
    "metadata.get_tables()\n",
    "result_table = tables[\"BookLoan\"]\n",
    "x_table = [\"Book\", \"Library\", \"Student\", \"Enrollment\", \"Submission\"]\n",
    "x_key = ['book_id', \"library_id\", \"student_id\", \"student_id\",\"student_id\"]\n",
    "x_how = ['inner' for i in range(5)]\n",
    "print(f\"{len(result_table)=}\")\n",
    "for i, x_table_name in enumerate(x_table):\n",
    "    result_table = pd.merge(result_table, tables[x_table_name], on=x_key[i], how=x_how[i])\n",
    "    print(f\"{len(result_table)}\", end=\" \")\n",
    "print(len(result_table.columns))\n",
    "#result_table"
   ],
   "outputs": [],
   "execution_count": null
  },
  {
   "metadata": {},
   "cell_type": "code",
   "source": [
    "# result_table = result_table[:100]\n",
    "result_table"
   ],
   "outputs": [],
   "execution_count": null
  },
  {
   "metadata": {},
   "cell_type": "markdown",
   "source": "检查metadata"
  },
  {
   "cell_type": "code",
   "metadata": {},
   "source": [
    "result_table.to_csv(\"test_10k_label.csv\", index=False)\n",
    "dataset_csv = \"test_10k_label.csv\"\n",
    "data_connector = CsvConnector(path=dataset_csv)\n",
    "data_loader = DataLoader(data_connector)\n",
    "loan_metadata = Metadata.from_dataloader(data_loader)\n",
    "\n",
    "loan_metadata.discrete_columns"
   ],
   "outputs": [],
   "execution_count": null
  },
  {
   "metadata": {},
   "cell_type": "code",
   "source": "loan_metadata.datetime_columns",
   "outputs": [],
   "execution_count": null
  },
  {
   "cell_type": "code",
   "metadata": {},
   "source": "loan_metadata.column_list.__len__()",
   "outputs": [],
   "execution_count": null
  },
  {
   "metadata": {},
   "cell_type": "code",
   "source": [
    "loan_metadata.datetime_format = {\n",
    "    key: \"%Y-%m-%d\" for key in loan_metadata.datetime_columns if key != \"submission_date\" \n",
    "}\n",
    "loan_metadata.datetime_format[\"submission_date\"] = \"%Y-%m-%d %H:%M:%S\"\n",
    "loan_metadata.datetime_format"
   ],
   "outputs": [],
   "execution_count": null
  },
  {
   "metadata": {},
   "cell_type": "code",
   "source": [
    "loan_metadata.discrete_columns = set([\n",
    "    key for key in loan_metadata.discrete_columns if key not in loan_metadata.datetime_columns\n",
    "])\n",
    "# loan_metadata.label_columns = loan_metadata.discrete_columns\n",
    "#loan_metadata.label_columns.add(\"grade_x\")\n",
    "#loan_metadata.label_columns.add(\"grade_y\")\n",
    "print(f\"{loan_metadata.int_columns=}\\n{loan_metadata.float_columns=}\\n{loan_metadata.const_columns=}\\n{loan_metadata.bool_columns=}\\n{loan_metadata.discrete_columns=}\")"
   ],
   "outputs": [],
   "execution_count": null
  },
  {
   "metadata": {},
   "cell_type": "code",
   "source": [
    "loan_metadata.column_encoder = {\n",
    "    key: \"label\" for key in loan_metadata.discrete_columns\n",
    "}"
   ],
   "outputs": [],
   "execution_count": null
  },
  {
   "metadata": {},
   "cell_type": "markdown",
   "source": "训练"
  },
  {
   "cell_type": "code",
   "metadata": {},
   "source": [
    "\n",
    "\n",
    "ctgan = CTGANSynthesizerModel(\n",
    "        epochs=1,\n",
    "        batch_size=500,\n",
    "        # device=\"cpu\"\n",
    "    )\n",
    "# Initialize synthesizer, use CTGAN model\n",
    "synthesizer = Synthesizer(\n",
    "    metadata=loan_metadata,\n",
    "    model=ctgan,  # For quick demo\n",
    "    data_connector=data_connector,\n",
    ")\n",
    "\n",
    "\n",
    "writetime()\n",
    "synthesizer.fit()\n",
    "writetime()\n",
    "#synthesizer.save(\"test_model_10k_id10\")"
   ],
   "outputs": [],
   "execution_count": null
  },
  {
   "cell_type": "code",
   "metadata": {},
   "source": "data_res = synthesizer.sample(900)",
   "outputs": [],
   "execution_count": null
  },
  {
   "metadata": {},
   "cell_type": "code",
   "source": "data_res",
   "outputs": [],
   "execution_count": null
  },
  {
   "metadata": {},
   "cell_type": "code",
   "source": "",
   "outputs": [],
   "execution_count": null
  },
  {
   "metadata": {},
   "cell_type": "code",
   "source": "",
   "outputs": [],
   "execution_count": null
  }
 ],
 "metadata": {
  "kernelspec": {
   "display_name": "sdg10",
   "language": "python",
   "name": "python3"
  },
  "language_info": {
   "codemirror_mode": {
    "name": "ipython",
    "version": 3
   },
   "file_extension": ".py",
   "mimetype": "text/x-python",
   "name": "python",
   "nbconvert_exporter": "python",
   "pygments_lexer": "ipython3",
   "version": "3.10.14"
  }
 },
 "nbformat": 4,
 "nbformat_minor": 2
}
