{
  "cells": [
    {
      "cell_type": "markdown",
      "metadata": {
        "id": "i5w5Oktvr7bC"
      },
      "source": [
        "\n",
        "\n",
        "<div align=\"center\">\n",
        "<p align=\"center\">\n",
        "\n",
        "\n",
        "# 🚀 Synthetic Data Generator\n",
        "\n",
        "</p>\n",
        "</div>\n",
        "The Synthetic Data Generator (SDG) is a specialized framework designed to generate high-quality structured tabular data.\n",
        "\n",
        "Synthetic data does not contain any sensitive information, yet it retains the essential characteristics of the original data, making it exempt from privacy regulations such as GDPR and ADPPA.\n",
        "\n",
        "High-quality synthetic data can be safely utilized across various domains including data sharing, model training and debugging, system development and testing, etc."
      ]
    },
    {
      "cell_type": "code",
      "execution_count": 1,
      "metadata": {
        "colab": {
          "base_uri": "https://localhost:8080/"
        },
        "id": "OikMoGinr7bF",
        "outputId": "3ce73c4d-c7e5-4160-b912-0bc78d6d9a11"
      },
      "outputs": [
        {
          "name": "stdout",
          "output_type": "stream",
          "text": [
            "Looking in indexes: https://pypi.tuna.tsinghua.edu.cn/simple\n",
            "Collecting git+https://github.com/hitsz-ids/synthetic-data-generator.git\n",
            "  Cloning https://github.com/hitsz-ids/synthetic-data-generator.git to /private/var/folders/hm/__2c0fzn4_s21ssm_xg8g0h80000gn/T/pip-req-build-lsn_db_7\n",
            "  Running command git clone --filter=blob:none --quiet https://github.com/hitsz-ids/synthetic-data-generator.git /private/var/folders/hm/__2c0fzn4_s21ssm_xg8g0h80000gn/T/pip-req-build-lsn_db_7\n",
            "  Resolved https://github.com/hitsz-ids/synthetic-data-generator.git to commit 861f5b6f2206923dc382b9f8258eb2a69c907a32\n",
            "  Installing build dependencies ... \u001b[?25ldone\n",
            "\u001b[?25h  Getting requirements to build wheel ... \u001b[?25ldone\n",
            "\u001b[?25h  Preparing metadata (pyproject.toml) ... \u001b[?25ldone\n",
            "\u001b[?25hRequirement already satisfied: click in /Users/guoyunzhe/opt/anaconda3/envs/sdg/lib/python3.9/site-packages (from sdgx==0.2.1.dev0) (8.1.7)\n",
            "Requirement already satisfied: cloudpickle in /Users/guoyunzhe/opt/anaconda3/envs/sdg/lib/python3.9/site-packages (from sdgx==0.2.1.dev0) (3.0.0)\n",
            "Requirement already satisfied: faker>=10 in /Users/guoyunzhe/opt/anaconda3/envs/sdg/lib/python3.9/site-packages (from sdgx==0.2.1.dev0) (19.3.1)\n",
            "Requirement already satisfied: importlib-metadata in /Users/guoyunzhe/opt/anaconda3/envs/sdg/lib/python3.9/site-packages (from sdgx==0.2.1.dev0) (6.8.0)\n",
            "Requirement already satisfied: loguru in /Users/guoyunzhe/opt/anaconda3/envs/sdg/lib/python3.9/site-packages (from sdgx==0.2.1.dev0) (0.7.2)\n",
            "Requirement already satisfied: matplotlib in /Users/guoyunzhe/opt/anaconda3/envs/sdg/lib/python3.9/site-packages (from sdgx==0.2.1.dev0) (3.7.2)\n",
            "Requirement already satisfied: numpy in /Users/guoyunzhe/opt/anaconda3/envs/sdg/lib/python3.9/site-packages (from sdgx==0.2.1.dev0) (1.21.5)\n",
            "Requirement already satisfied: openai>=1.10.0 in /Users/guoyunzhe/opt/anaconda3/envs/sdg/lib/python3.9/site-packages (from sdgx==0.2.1.dev0) (1.10.0)\n",
            "Requirement already satisfied: pandas in /Users/guoyunzhe/opt/anaconda3/envs/sdg/lib/python3.9/site-packages (from sdgx==0.2.1.dev0) (1.2.4)\n",
            "Requirement already satisfied: pluggy in /Users/guoyunzhe/opt/anaconda3/envs/sdg/lib/python3.9/site-packages (from sdgx==0.2.1.dev0) (1.3.0)\n",
            "Requirement already satisfied: pyarrow in /Users/guoyunzhe/opt/anaconda3/envs/sdg/lib/python3.9/site-packages (from sdgx==0.2.1.dev0) (14.0.2)\n",
            "Requirement already satisfied: pydantic>=2 in /Users/guoyunzhe/opt/anaconda3/envs/sdg/lib/python3.9/site-packages (from sdgx==0.2.1.dev0) (2.5.2)\n",
            "Requirement already satisfied: python-dotenv in /Users/guoyunzhe/opt/anaconda3/envs/sdg/lib/python3.9/site-packages (from sdgx==0.2.1.dev0) (1.0.0)\n",
            "Requirement already satisfied: pyyaml in /Users/guoyunzhe/opt/anaconda3/envs/sdg/lib/python3.9/site-packages (from sdgx==0.2.1.dev0) (6.0.1)\n",
            "Requirement already satisfied: scikit-learn<2,>=0.24 in /Users/guoyunzhe/opt/anaconda3/envs/sdg/lib/python3.9/site-packages (from sdgx==0.2.1.dev0) (1.2.2)\n",
            "Requirement already satisfied: scipy in /Users/guoyunzhe/opt/anaconda3/envs/sdg/lib/python3.9/site-packages (from sdgx==0.2.1.dev0) (1.10.1)\n",
            "Requirement already satisfied: table-evaluator in /Users/guoyunzhe/opt/anaconda3/envs/sdg/lib/python3.9/site-packages (from sdgx==0.2.1.dev0) (1.4.2)\n",
            "Requirement already satisfied: torch>=2 in /Users/guoyunzhe/opt/anaconda3/envs/sdg/lib/python3.9/site-packages (from sdgx==0.2.1.dev0) (2.1.2)\n",
            "Requirement already satisfied: torchvision in /Users/guoyunzhe/opt/anaconda3/envs/sdg/lib/python3.9/site-packages (from sdgx==0.2.1.dev0) (0.16.2)\n",
            "Requirement already satisfied: python-dateutil>=2.4 in /Users/guoyunzhe/opt/anaconda3/envs/sdg/lib/python3.9/site-packages (from faker>=10->sdgx==0.2.1.dev0) (2.8.2)\n",
            "Requirement already satisfied: anyio<5,>=3.5.0 in /Users/guoyunzhe/opt/anaconda3/envs/sdg/lib/python3.9/site-packages (from openai>=1.10.0->sdgx==0.2.1.dev0) (4.2.0)\n",
            "Requirement already satisfied: distro<2,>=1.7.0 in /Users/guoyunzhe/opt/anaconda3/envs/sdg/lib/python3.9/site-packages (from openai>=1.10.0->sdgx==0.2.1.dev0) (1.9.0)\n",
            "Requirement already satisfied: httpx<1,>=0.23.0 in /Users/guoyunzhe/opt/anaconda3/envs/sdg/lib/python3.9/site-packages (from openai>=1.10.0->sdgx==0.2.1.dev0) (0.26.0)\n",
            "Requirement already satisfied: sniffio in /Users/guoyunzhe/opt/anaconda3/envs/sdg/lib/python3.9/site-packages (from openai>=1.10.0->sdgx==0.2.1.dev0) (1.3.0)\n",
            "Requirement already satisfied: tqdm>4 in /Users/guoyunzhe/opt/anaconda3/envs/sdg/lib/python3.9/site-packages (from openai>=1.10.0->sdgx==0.2.1.dev0) (4.66.1)\n",
            "Requirement already satisfied: typing-extensions<5,>=4.7 in /Users/guoyunzhe/opt/anaconda3/envs/sdg/lib/python3.9/site-packages (from openai>=1.10.0->sdgx==0.2.1.dev0) (4.7.1)\n",
            "Requirement already satisfied: annotated-types>=0.4.0 in /Users/guoyunzhe/opt/anaconda3/envs/sdg/lib/python3.9/site-packages (from pydantic>=2->sdgx==0.2.1.dev0) (0.6.0)\n",
            "Requirement already satisfied: pydantic-core==2.14.5 in /Users/guoyunzhe/opt/anaconda3/envs/sdg/lib/python3.9/site-packages (from pydantic>=2->sdgx==0.2.1.dev0) (2.14.5)\n",
            "Requirement already satisfied: joblib>=1.1.1 in /Users/guoyunzhe/opt/anaconda3/envs/sdg/lib/python3.9/site-packages (from scikit-learn<2,>=0.24->sdgx==0.2.1.dev0) (1.3.2)\n",
            "Requirement already satisfied: threadpoolctl>=2.0.0 in /Users/guoyunzhe/opt/anaconda3/envs/sdg/lib/python3.9/site-packages (from scikit-learn<2,>=0.24->sdgx==0.2.1.dev0) (3.2.0)\n",
            "Requirement already satisfied: filelock in /Users/guoyunzhe/opt/anaconda3/envs/sdg/lib/python3.9/site-packages (from torch>=2->sdgx==0.2.1.dev0) (3.13.1)\n",
            "Requirement already satisfied: sympy in /Users/guoyunzhe/opt/anaconda3/envs/sdg/lib/python3.9/site-packages (from torch>=2->sdgx==0.2.1.dev0) (1.12)\n",
            "Requirement already satisfied: networkx in /Users/guoyunzhe/opt/anaconda3/envs/sdg/lib/python3.9/site-packages (from torch>=2->sdgx==0.2.1.dev0) (3.2.1)\n",
            "Requirement already satisfied: jinja2 in /Users/guoyunzhe/opt/anaconda3/envs/sdg/lib/python3.9/site-packages (from torch>=2->sdgx==0.2.1.dev0) (3.1.2)\n",
            "Requirement already satisfied: fsspec in /Users/guoyunzhe/opt/anaconda3/envs/sdg/lib/python3.9/site-packages (from torch>=2->sdgx==0.2.1.dev0) (2023.12.2)\n",
            "Requirement already satisfied: zipp>=0.5 in /Users/guoyunzhe/opt/anaconda3/envs/sdg/lib/python3.9/site-packages (from importlib-metadata->sdgx==0.2.1.dev0) (3.16.2)\n",
            "Requirement already satisfied: contourpy>=1.0.1 in /Users/guoyunzhe/opt/anaconda3/envs/sdg/lib/python3.9/site-packages (from matplotlib->sdgx==0.2.1.dev0) (1.1.0)\n",
            "Requirement already satisfied: cycler>=0.10 in /Users/guoyunzhe/opt/anaconda3/envs/sdg/lib/python3.9/site-packages (from matplotlib->sdgx==0.2.1.dev0) (0.11.0)\n",
            "Requirement already satisfied: fonttools>=4.22.0 in /Users/guoyunzhe/opt/anaconda3/envs/sdg/lib/python3.9/site-packages (from matplotlib->sdgx==0.2.1.dev0) (4.42.1)\n",
            "Requirement already satisfied: kiwisolver>=1.0.1 in /Users/guoyunzhe/opt/anaconda3/envs/sdg/lib/python3.9/site-packages (from matplotlib->sdgx==0.2.1.dev0) (1.4.4)\n",
            "Requirement already satisfied: packaging>=20.0 in /Users/guoyunzhe/opt/anaconda3/envs/sdg/lib/python3.9/site-packages (from matplotlib->sdgx==0.2.1.dev0) (23.1)\n",
            "Requirement already satisfied: pillow>=6.2.0 in /Users/guoyunzhe/opt/anaconda3/envs/sdg/lib/python3.9/site-packages (from matplotlib->sdgx==0.2.1.dev0) (10.0.0)\n",
            "Requirement already satisfied: pyparsing<3.1,>=2.3.1 in /Users/guoyunzhe/opt/anaconda3/envs/sdg/lib/python3.9/site-packages (from matplotlib->sdgx==0.2.1.dev0) (3.0.9)\n",
            "Requirement already satisfied: importlib-resources>=3.2.0 in /Users/guoyunzhe/opt/anaconda3/envs/sdg/lib/python3.9/site-packages (from matplotlib->sdgx==0.2.1.dev0) (6.0.1)\n",
            "Requirement already satisfied: pytz>=2017.3 in /Users/guoyunzhe/opt/anaconda3/envs/sdg/lib/python3.9/site-packages (from pandas->sdgx==0.2.1.dev0) (2023.3)\n",
            "Requirement already satisfied: psutil in /Users/guoyunzhe/opt/anaconda3/envs/sdg/lib/python3.9/site-packages (from table-evaluator->sdgx==0.2.1.dev0) (5.9.5)\n",
            "Requirement already satisfied: dython==0.5.1 in /Users/guoyunzhe/opt/anaconda3/envs/sdg/lib/python3.9/site-packages (from table-evaluator->sdgx==0.2.1.dev0) (0.5.1)\n",
            "Requirement already satisfied: seaborn<=0.11.1 in /Users/guoyunzhe/opt/anaconda3/envs/sdg/lib/python3.9/site-packages (from table-evaluator->sdgx==0.2.1.dev0) (0.11.1)\n",
            "Requirement already satisfied: requests in /Users/guoyunzhe/opt/anaconda3/envs/sdg/lib/python3.9/site-packages (from torchvision->sdgx==0.2.1.dev0) (2.31.0)\n",
            "Requirement already satisfied: idna>=2.8 in /Users/guoyunzhe/opt/anaconda3/envs/sdg/lib/python3.9/site-packages (from anyio<5,>=3.5.0->openai>=1.10.0->sdgx==0.2.1.dev0) (3.4)\n",
            "Requirement already satisfied: exceptiongroup>=1.0.2 in /Users/guoyunzhe/opt/anaconda3/envs/sdg/lib/python3.9/site-packages (from anyio<5,>=3.5.0->openai>=1.10.0->sdgx==0.2.1.dev0) (1.1.3)\n",
            "Requirement already satisfied: certifi in /Users/guoyunzhe/opt/anaconda3/envs/sdg/lib/python3.9/site-packages (from httpx<1,>=0.23.0->openai>=1.10.0->sdgx==0.2.1.dev0) (2023.7.22)\n",
            "Requirement already satisfied: httpcore==1.* in /Users/guoyunzhe/opt/anaconda3/envs/sdg/lib/python3.9/site-packages (from httpx<1,>=0.23.0->openai>=1.10.0->sdgx==0.2.1.dev0) (1.0.2)\n",
            "Requirement already satisfied: h11<0.15,>=0.13 in /Users/guoyunzhe/opt/anaconda3/envs/sdg/lib/python3.9/site-packages (from httpcore==1.*->httpx<1,>=0.23.0->openai>=1.10.0->sdgx==0.2.1.dev0) (0.14.0)\n",
            "Requirement already satisfied: six>=1.5 in /Users/guoyunzhe/opt/anaconda3/envs/sdg/lib/python3.9/site-packages (from python-dateutil>=2.4->faker>=10->sdgx==0.2.1.dev0) (1.16.0)\n",
            "Requirement already satisfied: MarkupSafe>=2.0 in /Users/guoyunzhe/opt/anaconda3/envs/sdg/lib/python3.9/site-packages (from jinja2->torch>=2->sdgx==0.2.1.dev0) (2.1.3)\n",
            "Requirement already satisfied: charset-normalizer<4,>=2 in /Users/guoyunzhe/opt/anaconda3/envs/sdg/lib/python3.9/site-packages (from requests->torchvision->sdgx==0.2.1.dev0) (3.2.0)\n",
            "Requirement already satisfied: urllib3<3,>=1.21.1 in /Users/guoyunzhe/opt/anaconda3/envs/sdg/lib/python3.9/site-packages (from requests->torchvision->sdgx==0.2.1.dev0) (2.0.4)\n",
            "Requirement already satisfied: mpmath>=0.19 in /Users/guoyunzhe/opt/anaconda3/envs/sdg/lib/python3.9/site-packages (from sympy->torch>=2->sdgx==0.2.1.dev0) (1.3.0)\n"
          ]
        }
      ],
      "source": [
        "# install from git\n",
        "!pip install git+https://github.com/hitsz-ids/synthetic-data-generator.git"
      ]
    },
    {
      "cell_type": "markdown",
      "metadata": {
        "id": "NkzQVyvRr7bH"
      },
      "source": [
        "We demonstrate with a single table data synthetic example."
      ]
    },
    {
      "cell_type": "code",
      "execution_count": 2,
      "metadata": {
        "id": "a1JTesuSr7bH"
      },
      "outputs": [],
      "source": [
        "from sdgx.data_connectors.csv_connector import CsvConnector\n",
        "from sdgx.data_loader import DataLoader\n",
        "from sdgx.data_models.metadata import Metadata"
      ]
    },
    {
      "cell_type": "markdown",
      "metadata": {
        "id": "hNCC1XASr7bH"
      },
      "source": [
        "# 1. Load data and understand the data\n",
        "\n",
        "The demo data set for this demonstration is a risk control data set used to predict whether an individual will default on a loan. This dataset contains the following features:\n",
        "\n",
        "| Column name | Meaning |\n",
        "|-----------------------|-----------------------|\n",
        "| loan_id | loan ID |\n",
        "| user_id | user ID |\n",
        "| total_loan | Total loan amount |\n",
        "| year_of_loan | Loan period |\n",
        "...\n",
        "\n",
        "This code shows the process of loading real data:"
      ]
    },
    {
      "cell_type": "code",
      "execution_count": 3,
      "metadata": {
        "colab": {
          "base_uri": "https://localhost:8080/"
        },
        "id": "Fo4RAlowr7bH",
        "outputId": "7c82f12e-0ded-43ca-fb67-459bc5022052"
      },
      "outputs": [
        {
          "name": "stdout",
          "output_type": "stream",
          "text": [
            "File downloaded successfully to train_internet.csv\n"
          ]
        }
      ],
      "source": [
        "# In the future, this part of the function will be integrated into `sdgx.processor`\n",
        "\n",
        "import requests\n",
        "\n",
        "\n",
        "def download_file(url, path):\n",
        "    response = requests.get(url)\n",
        "    if response.status_code == 200:\n",
        "        with open(path, 'wb') as file:\n",
        "            file.write(response.content)\n",
        "        print(f\"File downloaded successfully to {path}\")\n",
        "    else:\n",
        "        print(f\"Failed to download file from {url}\")\n",
        "\n",
        "# download dataset from github\n",
        "# This datajset can be downloaded through sdgx.utils in the future\n",
        "\n",
        "dataset_url = \"https://raw.githubusercontent.com/aialgorithm/Blog/master/projects/一文梳理风控建模全流程/train_internet.csv\"\n",
        "download_file(dataset_url, \"train_internet.csv\")\n"
      ]
    },
    {
      "cell_type": "code",
      "execution_count": 4,
      "metadata": {
        "id": "x5t8M4E6r7bI"
      },
      "outputs": [],
      "source": [
        "from pathlib import Path\n",
        "file_path = './train_internet.csv'\n",
        "path_obj = Path(file_path)\n",
        "\n",
        "# Create a data connector and data loader for csv data\n",
        "data_connector = CsvConnector(path=path_obj)\n",
        "data_loader = DataLoader(data_connector)"
      ]
    },
    {
      "cell_type": "code",
      "execution_count": 5,
      "metadata": {
        "colab": {
          "base_uri": "https://localhost:8080/"
        },
        "id": "2ILAVWcEr7bI",
        "outputId": "5da2b0cf-ccec-4d61-b982-fd410275eb12"
      },
      "outputs": [
        {
          "name": "stderr",
          "output_type": "stream",
          "text": [
            "\u001b[32m2024-03-22 18:35:56.105\u001b[0m | \u001b[1mINFO    \u001b[0m | \u001b[36msdgx.data_models.metadata\u001b[0m:\u001b[36mfrom_dataloader\u001b[0m:\u001b[36m280\u001b[0m - \u001b[1mInspecting metadata...\u001b[0m\n",
            "\u001b[32m2024-03-22 18:36:01.334\u001b[0m | \u001b[1mINFO    \u001b[0m | \u001b[36msdgx.data_models.metadata\u001b[0m:\u001b[36mupdate_primary_key\u001b[0m:\u001b[36m482\u001b[0m - \u001b[1mPrimary Key updated: {'loan_id', 'user_id'}.\u001b[0m\n"
          ]
        },
        {
          "data": {
            "text/plain": [
              "{'class',\n",
              " 'earlies_credit_mon',\n",
              " 'employer_type',\n",
              " 'industry',\n",
              " 'issue_date',\n",
              " 'sub_class',\n",
              " 'work_type',\n",
              " 'work_year'}"
            ]
          },
          "execution_count": 5,
          "metadata": {},
          "output_type": "execute_result"
        }
      ],
      "source": [
        "loan_metadata = Metadata.from_dataloader(data_loader)\n",
        "# Automatically infer discrete columns\n",
        "loan_metadata.discrete_columns"
      ]
    }
  ],
  "metadata": {
    "colab": {
      "provenance": [],
      "toc_visible": true
    },
    "kernelspec": {
      "display_name": "sdg",
      "language": "python",
      "name": "python3"
    },
    "language_info": {
      "codemirror_mode": {
        "name": "ipython",
        "version": 3
      },
      "file_extension": ".py",
      "mimetype": "text/x-python",
      "name": "python",
      "nbconvert_exporter": "python",
      "pygments_lexer": "ipython3",
      "version": "3.9.0"
    }
  },
  "nbformat": 4,
  "nbformat_minor": 0
}
